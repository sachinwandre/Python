{
 "cells": [
  {
   "cell_type": "code",
   "execution_count": null,
   "id": "51a6c3a4",
   "metadata": {},
   "outputs": [],
   "source": [
    "input()"
   ]
  },
  {
   "cell_type": "code",
   "execution_count": null,
   "id": "5e141833",
   "metadata": {},
   "outputs": [],
   "source": [
    "input()"
   ]
  },
  {
   "cell_type": "code",
   "execution_count": null,
   "id": "d1a5ff22",
   "metadata": {},
   "outputs": [],
   "source": [
    "input()"
   ]
  },
  {
   "cell_type": "code",
   "execution_count": null,
   "id": "207cd9c6",
   "metadata": {},
   "outputs": [],
   "source": [
    "# addition of two numbers\n",
    "first_number = input(\"Enter first number\\t\")\n",
    "second_number = input(\"Enter second number\\t\")\n",
    "addition = first_number + second_number\n",
    "print(\"Addition of two number is\",addition)\n",
    "\n",
    "# Here entered numbers are in the form of string"
   ]
  },
  {
   "cell_type": "code",
   "execution_count": null,
   "id": "fc464893",
   "metadata": {},
   "outputs": [],
   "source": [
    "# so we need to convert it into integer or float format\n",
    "\n",
    "# addition of two numbers\n",
    "first_number = input(\"Enter first number\\t\")\n",
    "second_number = input(\"Enter second number\\t\")\n",
    "addition = int(first_number) + int(second_number)\n",
    "print(\"Addition of two number is\",addition)"
   ]
  },
  {
   "cell_type": "code",
   "execution_count": null,
   "id": "269f3b1f",
   "metadata": {},
   "outputs": [],
   "source": [
    "# We can do this at time of taking inputs\n",
    "\n",
    "# addition of two numbers\n",
    "first_number = int(input(\"Enter first number\\t\"))\n",
    "second_number = int(input(\"Enter second number\\t\"))\n",
    "addition = first_number + second_number\n",
    "print(\"Addition of two number is\",addition)"
   ]
  },
  {
   "cell_type": "code",
   "execution_count": null,
   "id": "baf9ee3d",
   "metadata": {},
   "outputs": [],
   "source": [
    "# addition of two float numbers\n",
    "first_number = float(input(\"Enter first number\\t\"))\n",
    "second_number = float(input(\"Enter second number\\t\"))\n",
    "addition = first_number + second_number\n",
    "print(\"Addition of two number is\",addition)"
   ]
  },
  {
   "cell_type": "code",
   "execution_count": null,
   "id": "cdb294c9",
   "metadata": {},
   "outputs": [],
   "source": [
    "print(int(\"78\"))"
   ]
  },
  {
   "cell_type": "code",
   "execution_count": null,
   "id": "de27a583",
   "metadata": {},
   "outputs": [],
   "source": [
    "print(float(\"89.55\"))"
   ]
  },
  {
   "cell_type": "code",
   "execution_count": null,
   "id": "113620e4",
   "metadata": {},
   "outputs": [],
   "source": [
    "print(int(\"89\"))"
   ]
  },
  {
   "cell_type": "code",
   "execution_count": null,
   "id": "23701d98",
   "metadata": {},
   "outputs": [],
   "source": [
    "int(10)"
   ]
  },
  {
   "cell_type": "code",
   "execution_count": null,
   "id": "ef2d1a05",
   "metadata": {},
   "outputs": [],
   "source": [
    "float(55.66)"
   ]
  },
  {
   "cell_type": "code",
   "execution_count": null,
   "id": "a5d8b9f7",
   "metadata": {},
   "outputs": [],
   "source": [
    "complex(78)"
   ]
  },
  {
   "cell_type": "code",
   "execution_count": null,
   "id": "a5becc34",
   "metadata": {},
   "outputs": [],
   "source": [
    "str(\"sachin\")"
   ]
  },
  {
   "cell_type": "code",
   "execution_count": null,
   "id": "7ae19c28",
   "metadata": {},
   "outputs": [],
   "source": [
    "list(\"Sachin\")"
   ]
  },
  {
   "cell_type": "code",
   "execution_count": null,
   "id": "f2e5d221",
   "metadata": {},
   "outputs": [],
   "source": [
    "first = 40\n",
    "type(first)"
   ]
  },
  {
   "cell_type": "code",
   "execution_count": null,
   "id": "3372e129",
   "metadata": {},
   "outputs": [],
   "source": [
    "name = \"Sachin\"\n",
    "type(name)"
   ]
  },
  {
   "cell_type": "code",
   "execution_count": null,
   "id": "b1728907",
   "metadata": {},
   "outputs": [],
   "source": [
    "second = 90.66\n",
    "type(second)"
   ]
  },
  {
   "cell_type": "code",
   "execution_count": null,
   "id": "a5465c3b",
   "metadata": {},
   "outputs": [],
   "source": [
    "com = 40+9j\n",
    "type(com)"
   ]
  },
  {
   "cell_type": "code",
   "execution_count": null,
   "id": "5025ee6b",
   "metadata": {},
   "outputs": [],
   "source": [
    "result = True\n",
    "type(result)"
   ]
  },
  {
   "cell_type": "code",
   "execution_count": null,
   "id": "14df0d37",
   "metadata": {},
   "outputs": [],
   "source": [
    "result = False\n",
    "type(result)"
   ]
  },
  {
   "cell_type": "code",
   "execution_count": null,
   "id": "f07a4930",
   "metadata": {},
   "outputs": [],
   "source": [
    "tuple(\"Sachin\")"
   ]
  }
 ],
 "metadata": {
  "kernelspec": {
   "display_name": "Python 3 (ipykernel)",
   "language": "python",
   "name": "python3"
  },
  "language_info": {
   "codemirror_mode": {
    "name": "ipython",
    "version": 3
   },
   "file_extension": ".py",
   "mimetype": "text/x-python",
   "name": "python",
   "nbconvert_exporter": "python",
   "pygments_lexer": "ipython3",
   "version": "3.10.2"
  }
 },
 "nbformat": 4,
 "nbformat_minor": 5
}
