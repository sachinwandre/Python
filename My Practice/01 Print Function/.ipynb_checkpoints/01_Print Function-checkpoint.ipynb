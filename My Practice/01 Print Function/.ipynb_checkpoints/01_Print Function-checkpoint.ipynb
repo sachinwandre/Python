{
 "cells": [
  {
   "cell_type": "code",
   "execution_count": 1,
   "id": "f45da067",
   "metadata": {},
   "outputs": [
    {
     "name": "stdout",
     "output_type": "stream",
     "text": [
      "Hello\n"
     ]
    }
   ],
   "source": [
    "print(\"Hello\")"
   ]
  },
  {
   "cell_type": "code",
   "execution_count": 2,
   "id": "d19d6b15",
   "metadata": {},
   "outputs": [
    {
     "name": "stdout",
     "output_type": "stream",
     "text": [
      "Selected Jupyter core packages...\n",
      "IPython          : 8.12.0\n",
      "ipykernel        : 6.19.2\n",
      "ipywidgets       : 8.0.4\n",
      "jupyter_client   : 7.4.9\n",
      "jupyter_core     : 5.3.0\n",
      "jupyter_server   : 1.23.4\n",
      "jupyterlab       : 3.6.3\n",
      "nbclient         : 0.5.13\n",
      "nbconvert        : 6.5.4\n",
      "nbformat         : 5.7.0\n",
      "notebook         : 6.5.4\n",
      "qtconsole        : 5.4.2\n",
      "traitlets        : 5.7.1\n"
     ]
    }
   ],
   "source": [
    "!jupyter --version"
   ]
  },
  {
   "cell_type": "code",
   "execution_count": 3,
   "id": "42a3a05a",
   "metadata": {},
   "outputs": [],
   "source": [
    "# !pip install -U --pre notebook"
   ]
  },
  {
   "cell_type": "code",
   "execution_count": 4,
   "id": "0228465c",
   "metadata": {},
   "outputs": [
    {
     "name": "stdout",
     "output_type": "stream",
     "text": [
      "Hello\n"
     ]
    }
   ],
   "source": [
    "print('Hello')"
   ]
  },
  {
   "cell_type": "code",
   "execution_count": 5,
   "id": "cfe2dc95",
   "metadata": {},
   "outputs": [
    {
     "name": "stdout",
     "output_type": "stream",
     "text": [
      "Hello\n"
     ]
    }
   ],
   "source": [
    "print(\"\"\"Hello\"\"\")"
   ]
  },
  {
   "cell_type": "code",
   "execution_count": 6,
   "id": "68accede",
   "metadata": {},
   "outputs": [
    {
     "name": "stdout",
     "output_type": "stream",
     "text": [
      "\n"
     ]
    }
   ],
   "source": [
    "print() ## Use shift+tab to check the parameters"
   ]
  },
  {
   "cell_type": "code",
   "execution_count": 7,
   "id": "9fef48fe",
   "metadata": {},
   "outputs": [
    {
     "name": "stdout",
     "output_type": "stream",
     "text": [
      "5\n",
      "7.8\n",
      "(8+9j)\n",
      "True\n",
      "False\n"
     ]
    }
   ],
   "source": [
    "print(5)\n",
    "print(7.8)\n",
    "print(8+9j)\n",
    "print(True)\n",
    "print(False)"
   ]
  },
  {
   "cell_type": "code",
   "execution_count": 8,
   "id": "4d4514d1",
   "metadata": {},
   "outputs": [
    {
     "name": "stdout",
     "output_type": "stream",
     "text": [
      "India China Pakistan Nepal\n"
     ]
    }
   ],
   "source": [
    "print(\"India\",\"China\",\"Pakistan\",\"Nepal\")"
   ]
  },
  {
   "cell_type": "code",
   "execution_count": 9,
   "id": "15278799",
   "metadata": {},
   "outputs": [
    {
     "name": "stdout",
     "output_type": "stream",
     "text": [
      "India-China-Pakistan-Nepal\n"
     ]
    }
   ],
   "source": [
    "# Separator\n",
    "print(\"India\",\"China\",\"Pakistan\",\"Nepal\",sep=\"-\")"
   ]
  },
  {
   "cell_type": "code",
   "execution_count": 10,
   "id": "2eaca3d5",
   "metadata": {},
   "outputs": [
    {
     "name": "stdout",
     "output_type": "stream",
     "text": [
      "India/China/Pakistan/Nepal\n"
     ]
    }
   ],
   "source": [
    "print(\"India\",\"China\",\"Pakistan\",\"Nepal\",sep=\"/\")"
   ]
  },
  {
   "cell_type": "code",
   "execution_count": 11,
   "id": "86efa981",
   "metadata": {},
   "outputs": [
    {
     "name": "stdout",
     "output_type": "stream",
     "text": [
      "Hello\n",
      "World\n"
     ]
    }
   ],
   "source": [
    "print(\"Hello\")\n",
    "print(\"World\")"
   ]
  },
  {
   "cell_type": "code",
   "execution_count": 12,
   "id": "8f27d6bf",
   "metadata": {},
   "outputs": [
    {
     "name": "stdout",
     "output_type": "stream",
     "text": [
      "Hello World\n"
     ]
    }
   ],
   "source": [
    "# End with -- by default its \\n\n",
    "print(\"Hello\",end=' ')\n",
    "print(\"World\")"
   ]
  },
  {
   "cell_type": "code",
   "execution_count": 13,
   "id": "69308aae",
   "metadata": {},
   "outputs": [
    {
     "name": "stdout",
     "output_type": "stream",
     "text": [
      "\n"
     ]
    }
   ],
   "source": [
    "print()"
   ]
  },
  {
   "cell_type": "code",
   "execution_count": 14,
   "id": "48922975",
   "metadata": {},
   "outputs": [
    {
     "name": "stdout",
     "output_type": "stream",
     "text": [
      "\n",
      "Hello how are you?\n",
      "I am fine\n",
      "\n",
      "\n"
     ]
    }
   ],
   "source": [
    "print(\"\"\"\n",
    "Hello how are you?\n",
    "I am fine\n",
    "\n",
    "\"\"\")"
   ]
  },
  {
   "cell_type": "code",
   "execution_count": 15,
   "id": "38d2e336",
   "metadata": {},
   "outputs": [
    {
     "name": "stdout",
     "output_type": "stream",
     "text": [
      "My name is Sachin my age is 35 and I am Data Scientist\n"
     ]
    }
   ],
   "source": [
    "name = \"Sachin\"\n",
    "age = 35\n",
    "designation = \"Data Scientist\"\n",
    "\n",
    "print(f\"My name is {name} my age is {age} and I am {designation}\")"
   ]
  },
  {
   "cell_type": "code",
   "execution_count": 16,
   "id": "8499f7b4",
   "metadata": {},
   "outputs": [
    {
     "name": "stdout",
     "output_type": "stream",
     "text": [
      "My name is Sachin, I'm 36\n",
      "My name is Sachin, I'm 36\n",
      "My name is Sachin, I'm 36\n",
      "My name is Sachin and my age is 35 and I am Data Scientist\n"
     ]
    }
   ],
   "source": [
    "string1 = \"My name is {fname}, I'm {age}\".format(fname = \"Sachin\", age = 36)\n",
    "string2 = \"My name is {0}, I'm {1}\".format(\"Sachin\",36)\n",
    "string3 = \"My name is {}, I'm {}\".format(\"Sachin\",36)\n",
    "string4 = \"My name is {1} and my age is {0} and I am {2}\".format(\"35\",\"Sachin\",\"Data Scientist\")\n",
    "print(string1)\n",
    "print(string2)\n",
    "print(string3)\n",
    "print(string4)"
   ]
  }
 ],
 "metadata": {
  "kernelspec": {
   "display_name": "Python 3 (ipykernel)",
   "language": "python",
   "name": "python3"
  },
  "language_info": {
   "codemirror_mode": {
    "name": "ipython",
    "version": 3
   },
   "file_extension": ".py",
   "mimetype": "text/x-python",
   "name": "python",
   "nbconvert_exporter": "python",
   "pygments_lexer": "ipython3",
   "version": "3.11.4"
  }
 },
 "nbformat": 4,
 "nbformat_minor": 5
}
