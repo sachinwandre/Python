{
 "cells": [
  {
   "cell_type": "code",
   "execution_count": null,
   "id": "1a603830",
   "metadata": {},
   "outputs": [],
   "source": [
    "number = 25\n",
    "\n",
    "if number < 10:\n",
    "    print(\"Given number\",number,\"is less that 10\")\n",
    "else:\n",
    "    print(\"Given number\",number,\"is greater than 10\")"
   ]
  },
  {
   "cell_type": "code",
   "execution_count": null,
   "id": "c126d377",
   "metadata": {},
   "outputs": [],
   "source": [
    "color = \"White\"\n",
    "\n",
    "if color == \"Blue\":\n",
    "    print(\"Given color is Blue\")\n",
    "elif color == \"White\":\n",
    "    print(\"Given color is white\")\n",
    "else:\n",
    "    print(\"Given color is Red\")"
   ]
  },
  {
   "cell_type": "code",
   "execution_count": null,
   "id": "67c7593e",
   "metadata": {},
   "outputs": [],
   "source": [
    "username = input(\"Enter your username\\t\")\n",
    "password = input(\"Enter your password\\t\")\n",
    "\n",
    "if username == \"snwandre\" and password == \"123\":\n",
    "    print(\"Welcome to channel\")\n",
    "elif username == \"snwandre\" and password !=\"123\":\n",
    "    print(\"Please check your password and enter again!!\")\n",
    "    password = input(\"Enter password again!!\")\n",
    "    if password == '123':\n",
    "        print(\"Welcome to system\")\n",
    "    else:\n",
    "        print(\"Your password is wrong\")\n",
    "elif username != \"snwandre\" and password ==\"123\":\n",
    "    print(\"Please check the username and enter again!!\")\n",
    "    username = input(\"Enter username again!!\")\n",
    "    if username == \"snwandre\":\n",
    "        print(\"Welcome to system\")\n",
    "    else:\n",
    "        print(\"Your username is wrong\")\n",
    "else:\n",
    "    print(\"Your username and password didnt match\")"
   ]
  },
  {
   "cell_type": "code",
   "execution_count": null,
   "id": "d55fece1",
   "metadata": {},
   "outputs": [],
   "source": [
    "emailid = input(\"Enter your username as email id\\t\")\n",
    "\n",
    "if \"@\" in emailid:\n",
    "    password = input(\"Enter your password\\t\")    \n",
    "    if emailid == \"sachin@gmail.com\" and password == \"123\":\n",
    "        print(\"Welcome to our system\")\n",
    "    elif emailid == \"sachin@gmail.com\" and password != \"123\":\n",
    "        print(\"You entered wrong password please enter again\")\n",
    "        password = input(\"Enter your password again\\t\")\n",
    "        if password == \"123\":\n",
    "            print(\"Great you are welcome to our system\")\n",
    "        else:\n",
    "            print(\"You entered wrong password\")\n",
    "else:\n",
    "    print(\"Your email is not valid please enter valid email id\")"
   ]
  },
  {
   "cell_type": "code",
   "execution_count": null,
   "id": "9eaf00a1",
   "metadata": {},
   "outputs": [],
   "source": [
    "# find out grade \n",
    "percentage = float(input('Enter your percentage\\t'))\n",
    "\n",
    "if percentage > 90:\n",
    "    print(\"Grade A\")\n",
    "elif percentage > 80 and percentage <= 90:\n",
    "    print(\"Grade B\")\n",
    "elif percentage > 60 and percentage <= 80:\n",
    "    print(\"Grade C\")\n",
    "else:\n",
    "    print(\"Grade D\")"
   ]
  },
  {
   "cell_type": "code",
   "execution_count": null,
   "id": "dd0c4aa0",
   "metadata": {},
   "outputs": [],
   "source": [
    "# Find the greatest number among the three number\n",
    "\n",
    "first_number = int(input(\"Enter first number\\t\"))\n",
    "second_number = int(input(\"Enter second number\\t\"))\n",
    "third_number = int(input(\"Enter third number\\t\"))\n",
    "\n",
    "if first_number > second_number and first_number > third_number:\n",
    "    print(first_number,\"is greatest number\")\n",
    "elif second_number > first_number and second_number > third_number:\n",
    "    print(second_number,\"is greatest number\")\n",
    "else:\n",
    "    print(third_number,\"is greatest number\")"
   ]
  },
  {
   "cell_type": "code",
   "execution_count": null,
   "id": "86d4d465",
   "metadata": {},
   "outputs": [],
   "source": [
    "# Find out attendance percentage\n",
    "\n",
    "total_days = int(input(\"Enter total number of working days\\t\"))\n",
    "absent_days = int(input(\"Enter total number of absent days\\t\"))\n",
    "\n",
    "present_percentage = (total_days - absent_days)/total_days * 100\n",
    "\n",
    "print(\"Total attendance percentage are\",present_percentage)\n",
    "\n",
    "if present_percentage > 75:\n",
    "    print(\"You are eligible for exam\\t\")\n",
    "else:\n",
    "    print(\"You are not eligible for exam\")"
   ]
  },
  {
   "cell_type": "code",
   "execution_count": null,
   "id": "8bac78b7-456a-458e-ba33-e93477e53c10",
   "metadata": {},
   "outputs": [],
   "source": []
  },
  {
   "cell_type": "code",
   "execution_count": null,
   "id": "587c45b7-53c4-40e6-9cad-044104670090",
   "metadata": {},
   "outputs": [],
   "source": []
  },
  {
   "cell_type": "markdown",
   "id": "89347dec",
   "metadata": {},
   "source": [
    "###### "
   ]
  }
 ],
 "metadata": {
  "kernelspec": {
   "display_name": "Python 3 (ipykernel)",
   "language": "python",
   "name": "python3"
  },
  "language_info": {
   "codemirror_mode": {
    "name": "ipython",
    "version": 3
   },
   "file_extension": ".py",
   "mimetype": "text/x-python",
   "name": "python",
   "nbconvert_exporter": "python",
   "pygments_lexer": "ipython3",
   "version": "3.10.2"
  }
 },
 "nbformat": 4,
 "nbformat_minor": 5
}
