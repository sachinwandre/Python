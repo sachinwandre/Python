{
 "cells": [
  {
   "cell_type": "markdown",
   "id": "00157175",
   "metadata": {},
   "source": [
    "Operators\n",
    "Operators are used to perform operations on variables and values. Python has the following operators:\n",
    "\n",
    "Arithmetic operators --> +,-,*,/,//,%,**\n",
    "Comparison operators --> =,==,>,<,<=,>=,!=\n",
    "Logical operators --> and, or, not\n",
    "Bitwise operators --> &, |, <<, >>\n",
    "Assignment operators --> =,+=,-=,/=,%=,*=\n",
    "Identity operators --> is, is not\n",
    "Membership operators --> in, not in"
   ]
  },
  {
   "cell_type": "markdown",
   "id": "70e4280a",
   "metadata": {},
   "source": [
    "# Arithmetic operators"
   ]
  },
  {
   "cell_type": "code",
   "execution_count": 1,
   "id": "8e61040e",
   "metadata": {},
   "outputs": [
    {
     "name": "stdout",
     "output_type": "stream",
     "text": [
      "48\n"
     ]
    }
   ],
   "source": [
    "first = 41 \n",
    "second = 7\n",
    "print(first+second)"
   ]
  },
  {
   "cell_type": "code",
   "execution_count": 2,
   "id": "5c62672c",
   "metadata": {},
   "outputs": [
    {
     "name": "stdout",
     "output_type": "stream",
     "text": [
      "34\n"
     ]
    }
   ],
   "source": [
    "print(first-second)"
   ]
  },
  {
   "cell_type": "code",
   "execution_count": 3,
   "id": "4a16d4bd",
   "metadata": {},
   "outputs": [
    {
     "name": "stdout",
     "output_type": "stream",
     "text": [
      "5.857142857142857\n"
     ]
    }
   ],
   "source": [
    "print(first/second)"
   ]
  },
  {
   "cell_type": "code",
   "execution_count": 4,
   "id": "92614392",
   "metadata": {},
   "outputs": [
    {
     "name": "stdout",
     "output_type": "stream",
     "text": [
      "6\n"
     ]
    }
   ],
   "source": [
    "print(first%second)"
   ]
  },
  {
   "cell_type": "code",
   "execution_count": 5,
   "id": "88ebcc79",
   "metadata": {},
   "outputs": [
    {
     "name": "stdout",
     "output_type": "stream",
     "text": [
      "5\n"
     ]
    }
   ],
   "source": [
    "print(first//second)"
   ]
  },
  {
   "cell_type": "code",
   "execution_count": 6,
   "id": "24cdf6d6",
   "metadata": {},
   "outputs": [
    {
     "name": "stdout",
     "output_type": "stream",
     "text": [
      "194754273881\n"
     ]
    }
   ],
   "source": [
    "print(first ** second)"
   ]
  },
  {
   "cell_type": "code",
   "execution_count": 7,
   "id": "28279456",
   "metadata": {},
   "outputs": [
    {
     "name": "stdout",
     "output_type": "stream",
     "text": [
      "287\n"
     ]
    }
   ],
   "source": [
    "print(first*second)"
   ]
  },
  {
   "cell_type": "code",
   "execution_count": 8,
   "id": "c1c656ce",
   "metadata": {},
   "outputs": [
    {
     "name": "stdout",
     "output_type": "stream",
     "text": [
      "True\n"
     ]
    }
   ],
   "source": [
    "print(first > second)"
   ]
  },
  {
   "cell_type": "code",
   "execution_count": 9,
   "id": "b3d8f2f7",
   "metadata": {},
   "outputs": [
    {
     "name": "stdout",
     "output_type": "stream",
     "text": [
      "True\n"
     ]
    }
   ],
   "source": [
    "print(first >= second)"
   ]
  },
  {
   "cell_type": "code",
   "execution_count": 10,
   "id": "d0e5aeb4",
   "metadata": {},
   "outputs": [
    {
     "name": "stdout",
     "output_type": "stream",
     "text": [
      "False\n"
     ]
    }
   ],
   "source": [
    "print(first < second)"
   ]
  },
  {
   "cell_type": "code",
   "execution_count": 11,
   "id": "c1374341",
   "metadata": {},
   "outputs": [
    {
     "name": "stdout",
     "output_type": "stream",
     "text": [
      "False\n"
     ]
    }
   ],
   "source": [
    "print(first <= second)"
   ]
  },
  {
   "cell_type": "code",
   "execution_count": 12,
   "id": "43e407a6",
   "metadata": {},
   "outputs": [
    {
     "name": "stdout",
     "output_type": "stream",
     "text": [
      "False\n"
     ]
    }
   ],
   "source": [
    "print(first == second)"
   ]
  },
  {
   "cell_type": "code",
   "execution_count": 13,
   "id": "d6a248aa",
   "metadata": {},
   "outputs": [
    {
     "name": "stdout",
     "output_type": "stream",
     "text": [
      "True\n"
     ]
    }
   ],
   "source": [
    "print(first != second)"
   ]
  },
  {
   "cell_type": "code",
   "execution_count": 14,
   "id": "d03202b7",
   "metadata": {},
   "outputs": [
    {
     "name": "stdout",
     "output_type": "stream",
     "text": [
      "141\n"
     ]
    }
   ],
   "source": [
    "first += 100\n",
    "print(first)"
   ]
  },
  {
   "cell_type": "code",
   "execution_count": 15,
   "id": "d6e626ee",
   "metadata": {},
   "outputs": [
    {
     "name": "stdout",
     "output_type": "stream",
     "text": [
      "-10\n"
     ]
    }
   ],
   "source": [
    "number = 90\n",
    "number -= 100\n",
    "print(number)"
   ]
  },
  {
   "cell_type": "code",
   "execution_count": 16,
   "id": "85d4bc63",
   "metadata": {},
   "outputs": [
    {
     "name": "stdout",
     "output_type": "stream",
     "text": [
      "12.0\n"
     ]
    }
   ],
   "source": [
    "number2 = 60\n",
    "number2 /= 5\n",
    "print(number2)"
   ]
  },
  {
   "cell_type": "code",
   "execution_count": 17,
   "id": "94cd0efa",
   "metadata": {},
   "outputs": [
    {
     "name": "stdout",
     "output_type": "stream",
     "text": [
      "True\n"
     ]
    }
   ],
   "source": [
    "x = \"56789\"\n",
    "\n",
    "print(\"5\" in x)"
   ]
  },
  {
   "cell_type": "code",
   "execution_count": 18,
   "id": "249f50e1",
   "metadata": {},
   "outputs": [
    {
     "name": "stdout",
     "output_type": "stream",
     "text": [
      "True\n"
     ]
    }
   ],
   "source": [
    "a = 5\n",
    "b = 5\n",
    "print(a is b)"
   ]
  },
  {
   "cell_type": "code",
   "execution_count": 19,
   "id": "5bb37ac9",
   "metadata": {},
   "outputs": [
    {
     "name": "stdout",
     "output_type": "stream",
     "text": [
      "True\n"
     ]
    }
   ],
   "source": [
    "a = \"Sachin\"\n",
    "b = \"Sachin\"\n",
    "print(a is b)"
   ]
  },
  {
   "cell_type": "code",
   "execution_count": 20,
   "id": "5549ce49",
   "metadata": {},
   "outputs": [
    {
     "name": "stdout",
     "output_type": "stream",
     "text": [
      "False\n",
      "True\n"
     ]
    }
   ],
   "source": [
    "a = \"Sachin-Wandre\"\n",
    "b = \"Sachin-Wandre\"\n",
    "print(a is b)\n",
    "print(a == b)"
   ]
  },
  {
   "cell_type": "code",
   "execution_count": 21,
   "id": "b62004dd",
   "metadata": {},
   "outputs": [
    {
     "name": "stdout",
     "output_type": "stream",
     "text": [
      "True\n"
     ]
    }
   ],
   "source": [
    "a = \"Wandre\"\n",
    "print(\"Wand\" in a)\n"
   ]
  },
  {
   "cell_type": "code",
   "execution_count": 22,
   "id": "2a865da7",
   "metadata": {},
   "outputs": [
    {
     "name": "stdout",
     "output_type": "stream",
     "text": [
      "False\n"
     ]
    }
   ],
   "source": [
    "a = \"Wandre\"\n",
    "print(\"Wand\" not in a)"
   ]
  },
  {
   "cell_type": "code",
   "execution_count": 23,
   "id": "1a8fd2b2",
   "metadata": {},
   "outputs": [
    {
     "name": "stdout",
     "output_type": "stream",
     "text": [
      "True\n"
     ]
    }
   ],
   "source": [
    "a = \"Sachin-Wandre\"\n",
    "b = \"Sachin\"\n",
    "print(a is not b)"
   ]
  },
  {
   "cell_type": "code",
   "execution_count": 24,
   "id": "454d8361",
   "metadata": {},
   "outputs": [
    {
     "name": "stdout",
     "output_type": "stream",
     "text": [
      "False\n"
     ]
    }
   ],
   "source": [
    "a = \"Sachin\"\n",
    "b = \"Sachin\"\n",
    "print(a is not b)"
   ]
  },
  {
   "cell_type": "code",
   "execution_count": 25,
   "id": "656c6a9b",
   "metadata": {},
   "outputs": [
    {
     "name": "stdout",
     "output_type": "stream",
     "text": [
      "False\n"
     ]
    }
   ],
   "source": [
    "a = 100\n",
    "b = 100\n",
    "print(a is not b)"
   ]
  },
  {
   "cell_type": "code",
   "execution_count": 26,
   "id": "3a43447a",
   "metadata": {},
   "outputs": [
    {
     "name": "stdout",
     "output_type": "stream",
     "text": [
      "True\n"
     ]
    }
   ],
   "source": [
    "a = '100'\n",
    "b = '100'\n",
    "print(a is b)"
   ]
  },
  {
   "cell_type": "code",
   "execution_count": 27,
   "id": "253d42e1",
   "metadata": {},
   "outputs": [
    {
     "data": {
      "text/plain": [
       "3.6666666666666665"
      ]
     },
     "execution_count": 27,
     "metadata": {},
     "output_type": "execute_result"
    }
   ],
   "source": [
    "11/3"
   ]
  },
  {
   "cell_type": "code",
   "execution_count": 28,
   "id": "528096d8",
   "metadata": {},
   "outputs": [
    {
     "data": {
      "text/plain": [
       "3"
      ]
     },
     "execution_count": 28,
     "metadata": {},
     "output_type": "execute_result"
    }
   ],
   "source": [
    "11//3"
   ]
  },
  {
   "cell_type": "code",
   "execution_count": 29,
   "id": "5f8c6200",
   "metadata": {},
   "outputs": [
    {
     "data": {
      "text/plain": [
       "2"
      ]
     },
     "execution_count": 29,
     "metadata": {},
     "output_type": "execute_result"
    }
   ],
   "source": [
    "11%3"
   ]
  },
  {
   "cell_type": "code",
   "execution_count": 30,
   "id": "55a4ad9d",
   "metadata": {},
   "outputs": [
    {
     "data": {
      "text/plain": [
       "729"
      ]
     },
     "execution_count": 30,
     "metadata": {},
     "output_type": "execute_result"
    }
   ],
   "source": [
    "9**3"
   ]
  },
  {
   "cell_type": "code",
   "execution_count": 31,
   "id": "65b8c2cb",
   "metadata": {},
   "outputs": [
    {
     "data": {
      "text/plain": [
       "49"
      ]
     },
     "execution_count": 31,
     "metadata": {},
     "output_type": "execute_result"
    }
   ],
   "source": [
    "7**2"
   ]
  },
  {
   "cell_type": "code",
   "execution_count": 32,
   "id": "de79bc92",
   "metadata": {},
   "outputs": [
    {
     "data": {
      "text/plain": [
       "14"
      ]
     },
     "execution_count": 32,
     "metadata": {},
     "output_type": "execute_result"
    }
   ],
   "source": [
    "7*2"
   ]
  },
  {
   "cell_type": "code",
   "execution_count": 33,
   "id": "b6cfebb7",
   "metadata": {},
   "outputs": [
    {
     "data": {
      "text/plain": [
       "6"
      ]
     },
     "execution_count": 33,
     "metadata": {},
     "output_type": "execute_result"
    }
   ],
   "source": [
    "41%7"
   ]
  },
  {
   "cell_type": "code",
   "execution_count": 34,
   "id": "8a352903",
   "metadata": {},
   "outputs": [
    {
     "data": {
      "text/plain": [
       "81"
      ]
     },
     "execution_count": 34,
     "metadata": {},
     "output_type": "execute_result"
    }
   ],
   "source": [
    "3**4"
   ]
  },
  {
   "cell_type": "code",
   "execution_count": 35,
   "id": "ce644de3",
   "metadata": {},
   "outputs": [
    {
     "name": "stdout",
     "output_type": "stream",
     "text": [
      "False\n",
      "2162777865840\n",
      "2162778067888\n"
     ]
    }
   ],
   "source": [
    "a = \"Sachin \"\n",
    "b = \"Sachin\"\n",
    "print(a is b)\n",
    "print(id(a))\n",
    "print(id(b))"
   ]
  },
  {
   "cell_type": "code",
   "execution_count": 36,
   "id": "a684eecb",
   "metadata": {},
   "outputs": [
    {
     "name": "stdout",
     "output_type": "stream",
     "text": [
      "True\n",
      "2162778067888\n",
      "2162778067888\n"
     ]
    }
   ],
   "source": [
    "a = \"Sachin\"\n",
    "b = \"Sachin\"\n",
    "print(a is b)\n",
    "print(id(a))\n",
    "print(id(b))"
   ]
  },
  {
   "cell_type": "code",
   "execution_count": 37,
   "id": "20455188",
   "metadata": {},
   "outputs": [
    {
     "name": "stdout",
     "output_type": "stream",
     "text": [
      "False\n",
      "2162778229552\n",
      "2162778235568\n"
     ]
    }
   ],
   "source": [
    "a = \"Sachin-Wandre\"\n",
    "b = \"Sachin-Wandre\"\n",
    "print(a is b)\n",
    "print(id(a))\n",
    "print(id(b))"
   ]
  },
  {
   "cell_type": "code",
   "execution_count": 38,
   "id": "85c1e8f8",
   "metadata": {},
   "outputs": [
    {
     "name": "stdout",
     "output_type": "stream",
     "text": [
      "0\n",
      "1\n",
      "2\n",
      "3\n",
      "4\n",
      "6\n",
      "7\n",
      "8\n",
      "9\n"
     ]
    }
   ],
   "source": [
    "for i in range(10):\n",
    "    if i != 5:\n",
    "        print(i)\n",
    "        continue\n"
   ]
  },
  {
   "cell_type": "code",
   "execution_count": null,
   "id": "a84baee1-f4a4-41a4-ab60-1fc8ae1c9c8b",
   "metadata": {},
   "outputs": [],
   "source": []
  }
 ],
 "metadata": {
  "kernelspec": {
   "display_name": "Python 3 (ipykernel)",
   "language": "python",
   "name": "python3"
  },
  "language_info": {
   "codemirror_mode": {
    "name": "ipython",
    "version": 3
   },
   "file_extension": ".py",
   "mimetype": "text/x-python",
   "name": "python",
   "nbconvert_exporter": "python",
   "pygments_lexer": "ipython3",
   "version": "3.9.17"
  }
 },
 "nbformat": 4,
 "nbformat_minor": 5
}
