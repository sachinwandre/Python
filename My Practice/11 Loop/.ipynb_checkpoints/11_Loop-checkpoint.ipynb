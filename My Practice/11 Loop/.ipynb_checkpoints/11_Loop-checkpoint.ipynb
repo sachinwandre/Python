{
 "cells": [
  {
   "cell_type": "code",
   "execution_count": null,
   "id": "b0ac4eb4-65a1-4aab-b3fa-5ff00ea8a047",
   "metadata": {},
   "outputs": [],
   "source": [
    "### While loop\n",
    "count = 1\n",
    "\n",
    "number = int(input(\"Enter the number\\t\"))\n",
    "\n",
    "while count < 11:\n",
    "    print(number,\"*\",count,\"=\",number * count)\n",
    "    count += 1"
   ]
  },
  {
   "cell_type": "code",
   "execution_count": null,
   "id": "ae356162-9bb4-4024-9e03-4367b45459cd",
   "metadata": {},
   "outputs": [],
   "source": [
    "##### Guess Number\n",
    "\n",
    "import random\n",
    "\n",
    "random_number = random.randint(1,100)\n",
    "print(random_number)\n",
    "\n",
    "guess_number = int(input(\"Enter the number and guess\\t\"))\n",
    "\n",
    "while random_number != guess_number:\n",
    "    \n",
    "    if guess_number < random_number:\n",
    "        print(\"Enter higher number than\",guess_number)\n",
    "    else:\n",
    "        print(\"Enter lower number than\",guess_number)\n",
    "        \n",
    "    guess_number = int(input(\"Enter the number and guess\\t\"))\n",
    "        \n",
    "print(\"Your guess is correct\")"
   ]
  },
  {
   "cell_type": "code",
   "execution_count": null,
   "id": "c765ecab",
   "metadata": {},
   "outputs": [],
   "source": [
    "range(1,5)"
   ]
  },
  {
   "cell_type": "code",
   "execution_count": null,
   "id": "9fd0f421",
   "metadata": {},
   "outputs": [],
   "source": [
    "list(range(1,10))"
   ]
  },
  {
   "cell_type": "code",
   "execution_count": null,
   "id": "1e9f8abb",
   "metadata": {},
   "outputs": [],
   "source": [
    "tuple(range(1,20))"
   ]
  },
  {
   "cell_type": "code",
   "execution_count": null,
   "id": "bdb8577b",
   "metadata": {},
   "outputs": [],
   "source": [
    "number = int(input(\"Enter the number\\t\"))\n",
    "for i in range(1,11):\n",
    "    print(number,\"*\",i,'=',number * i)\n",
    "    "
   ]
  },
  {
   "cell_type": "code",
   "execution_count": null,
   "id": "5d0e447c",
   "metadata": {},
   "outputs": [],
   "source": [
    "for s in \"Sachin\":\n",
    "    print(s)"
   ]
  },
  {
   "cell_type": "code",
   "execution_count": null,
   "id": "dc40153f",
   "metadata": {},
   "outputs": [],
   "source": [
    "for i in list(range(1,11)):\n",
    "    print(i)"
   ]
  },
  {
   "cell_type": "code",
   "execution_count": null,
   "id": "f5d90f6c",
   "metadata": {},
   "outputs": [],
   "source": [
    "for i in (1,2,3,4,5):\n",
    "    print(i)"
   ]
  },
  {
   "cell_type": "code",
   "execution_count": null,
   "id": "d84c91ac",
   "metadata": {},
   "outputs": [],
   "source": [
    "for i in [11,2,33,44,55]:\n",
    "    print(i)"
   ]
  },
  {
   "cell_type": "code",
   "execution_count": null,
   "id": "d6deaa78",
   "metadata": {},
   "outputs": [],
   "source": [
    "# Set --> sequece of output is different \n",
    "for i in {11,22,33,44,55}:\n",
    "    print(i)"
   ]
  },
  {
   "cell_type": "code",
   "execution_count": null,
   "id": "46ac2b8d",
   "metadata": {},
   "outputs": [],
   "source": [
    "list = [99,55,44,33,23]\n",
    "\n",
    "for i in list:\n",
    "    print(i)"
   ]
  },
  {
   "cell_type": "code",
   "execution_count": null,
   "id": "837bbb59",
   "metadata": {},
   "outputs": [],
   "source": [
    "tuple = (\"a\",\"b\",\"c\",\"d\")\n",
    "\n",
    "for i in tuple:\n",
    "    print(i)"
   ]
  },
  {
   "cell_type": "code",
   "execution_count": null,
   "id": "c6efeef2",
   "metadata": {},
   "outputs": [],
   "source": [
    "set = {33,44,55,66,77,90}\n",
    "for i in set:\n",
    "    print(i)"
   ]
  },
  {
   "cell_type": "code",
   "execution_count": null,
   "id": "6085b54c",
   "metadata": {},
   "outputs": [],
   "source": [
    "number = int(input(\"Enter the number\\t\"))\n",
    "\n",
    "for i in range(0,number+1):\n",
    "    for j in range(0,i):\n",
    "        print(\"*\",end=\" \")\n",
    "    print(\"\\n\")"
   ]
  },
  {
   "cell_type": "code",
   "execution_count": null,
   "id": "7ab2e6ae",
   "metadata": {},
   "outputs": [],
   "source": [
    "string = \"Data Scientist\"\n",
    "\n",
    "for s in string:\n",
    "    print(s)"
   ]
  },
  {
   "cell_type": "code",
   "execution_count": null,
   "id": "0894c786",
   "metadata": {},
   "outputs": [],
   "source": [
    "# Print from 0 to 5\n",
    "for i in range(0,50):\n",
    "    if i == 6:\n",
    "        break\n",
    "    print(i)"
   ]
  },
  {
   "cell_type": "code",
   "execution_count": null,
   "id": "1118188a",
   "metadata": {},
   "outputs": [],
   "source": [
    "# print from 0 to 9 except 6\n",
    "for i in range(0,10):\n",
    "    if i == 6:\n",
    "        continue\n",
    "    print(i)"
   ]
  },
  {
   "cell_type": "code",
   "execution_count": null,
   "id": "290a2ce5",
   "metadata": {},
   "outputs": [],
   "source": [
    "# Error expected an indented block\n",
    "for i in range(0,5):"
   ]
  },
  {
   "cell_type": "code",
   "execution_count": null,
   "id": "0a4129d4",
   "metadata": {},
   "outputs": [],
   "source": [
    "# if we want to write code in future then just use pass\n",
    "for i in range(0,5):\n",
    "    pass"
   ]
  },
  {
   "cell_type": "code",
   "execution_count": null,
   "id": "6b7b9cdd",
   "metadata": {},
   "outputs": [],
   "source": [
    "# Prime number\n",
    "\n",
    "number = int(input(\"Enter the number\\t\"))\n",
    "isprime = True\n",
    "\n",
    "for n in range(2,number):\n",
    "    if (number % n == 0):\n",
    "        print(\"Given number is not prime number\")\n",
    "        isprime = False\n",
    "        break\n",
    "if(isprime):\n",
    "    print(\"Given number is prime number\")"
   ]
  },
  {
   "cell_type": "code",
   "execution_count": null,
   "id": "e18ef8ba",
   "metadata": {},
   "outputs": [],
   "source": [
    "# Prime number\n",
    "\n",
    "number = int(input(\"Enter the number\\t\"))\n",
    "\n",
    "for n in range(2,number):\n",
    "    if (number % n == 0):\n",
    "        print(f\"Given number {number} is not prime number\")\n",
    "        break\n",
    "else:\n",
    "    print(f\"Given number {number} is prime number\")"
   ]
  },
  {
   "cell_type": "code",
   "execution_count": null,
   "id": "7f84e647",
   "metadata": {},
   "outputs": [],
   "source": [
    "# Prime number\n",
    "\n",
    "start_number = int(input(\"Enter start number\\t\"))\n",
    "end_number = int(input(\"Enter end number\\t\"))\n",
    "print(f'Prime numbers between {start_number} and {end_number} are')\n",
    "for number in range(start_number,end_number+1):\n",
    "    if number > 1:\n",
    "        for n in range(2,number-1):\n",
    "            if number % n == 0:\n",
    "                break\n",
    "        else:\n",
    "            print(number)"
   ]
  },
  {
   "cell_type": "code",
   "execution_count": null,
   "id": "fa1fd491",
   "metadata": {},
   "outputs": [],
   "source": [
    "for i in range(1,7):\n",
    "    for j in range(1,i):\n",
    "        print(j,end=\" \")\n",
    "    print()"
   ]
  },
  {
   "cell_type": "code",
   "execution_count": null,
   "id": "bbd7864e",
   "metadata": {},
   "outputs": [],
   "source": [
    "for i in range(1,6):\n",
    "    for j in range(0,i):\n",
    "        print(i,end=\" \")\n",
    "    print()"
   ]
  },
  {
   "cell_type": "code",
   "execution_count": null,
   "id": "4e6f35f8",
   "metadata": {},
   "outputs": [],
   "source": [
    "numbers = [12, 75, 150, 180, 145, 525, 50]\n",
    "\n",
    "for num in numbers:\n",
    "    if num > 50 and num < 180:\n",
    "        print(num)"
   ]
  },
  {
   "cell_type": "code",
   "execution_count": null,
   "id": "4e5eb32c",
   "metadata": {},
   "outputs": [],
   "source": [
    "import random\n",
    "\n",
    "random_number = random.randint(1,100)\n",
    "guess_number = int(input(\"Enter your guess\"))\n",
    "attempt = 1\n",
    "\n",
    "while random_number != guess_number:\n",
    "    if random_number > guess_number:\n",
    "        print(\"Enter the greater number than\",guess_number)\n",
    "    else:\n",
    "        print(\"Enter the smaller number than\",guess_number)\n",
    "        \n",
    "    guess_number = int(input(\"Enter your guess\"))\n",
    "    attempt += 1 \n",
    "else:\n",
    "    print(\"Your guess is correct at attempt\",attempt)"
   ]
  },
  {
   "cell_type": "code",
   "execution_count": null,
   "id": "2167ccdd",
   "metadata": {},
   "outputs": [],
   "source": [
    "# To find the prime number from 11 to 100\n",
    "\n",
    "for number in range(11,100):\n",
    "    for i in range(2,number):\n",
    "        if number % i == 0:\n",
    "            break\n",
    "    else:\n",
    "        print(number)"
   ]
  },
  {
   "cell_type": "code",
   "execution_count": null,
   "id": "79e02ba7",
   "metadata": {},
   "outputs": [],
   "source": [
    "for i in range(1,7):\n",
    "    for j in range(1,i):\n",
    "        print(j,end=\" \")\n",
    "    print(\"\\n\")"
   ]
  },
  {
   "cell_type": "code",
   "execution_count": null,
   "id": "dd3a7c04",
   "metadata": {},
   "outputs": [],
   "source": [
    "for i in range(1,7):\n",
    "    for j in range(1,i+1):\n",
    "        print(j,end=\" \")\n",
    "    for k in range(i-1,0,-1):\n",
    "        print(k,end=\" \")\n",
    "    print(\"\\t\")"
   ]
  },
  {
   "cell_type": "code",
   "execution_count": null,
   "id": "243d818a",
   "metadata": {},
   "outputs": [],
   "source": [
    "for i in range(1,7):\n",
    "    for j in range(1,i+1):\n",
    "        print(j,end=\" \")\n",
    "    for k in range(1,j):\n",
    "        print(k,end=\" \")\n",
    "    print(\"\\t\")"
   ]
  },
  {
   "cell_type": "code",
   "execution_count": null,
   "id": "a09b257a",
   "metadata": {},
   "outputs": [],
   "source": [
    "for i in range(1,10):\n",
    "    if i == 7: \n",
    "        print(\"found\")\n",
    "        break;"
   ]
  },
  {
   "cell_type": "code",
   "execution_count": null,
   "id": "54d80760",
   "metadata": {},
   "outputs": [],
   "source": [
    "for i in range(1,10):\n",
    "    if i == 7:         \n",
    "        continue\n",
    "    print(i)"
   ]
  },
  {
   "cell_type": "code",
   "execution_count": null,
   "id": "91bdcbe9",
   "metadata": {},
   "outputs": [],
   "source": [
    "for i in range(1,10):\n",
    "    if i == 7:         \n",
    "        break\n",
    "    print(i)"
   ]
  },
  {
   "cell_type": "code",
   "execution_count": null,
   "id": "3c3eb3d3",
   "metadata": {},
   "outputs": [],
   "source": [
    "for i in range(1,10):\n",
    "    if i == 7:         \n",
    "        pass\n",
    "    print(i)"
   ]
  },
  {
   "cell_type": "code",
   "execution_count": null,
   "id": "828b6e43",
   "metadata": {},
   "outputs": [],
   "source": [
    "# Sum of odd numbers\n",
    "sum = 0 \n",
    "for number in [2,4,55,33,22,11,99,56,46,34,32]:\n",
    "    if number % 2 == 0:\n",
    "        continue;\n",
    "    sum = sum + number\n",
    "else:        \n",
    "    print(sum)"
   ]
  },
  {
   "cell_type": "code",
   "execution_count": null,
   "id": "d6039648",
   "metadata": {},
   "outputs": [],
   "source": [
    "total = 0\n",
    "\n",
    "for x in [2,4,5,3,2,2,7,7,8]:\n",
    "    if x % 2 != 0:\n",
    "        continue\n",
    "\n",
    "    total += x\n",
    "else:\n",
    "    print(\"For loop executed normally\")\n",
    "    print(f'Sum of numbers {total}')"
   ]
  },
  {
   "cell_type": "code",
   "execution_count": null,
   "id": "9564a03b",
   "metadata": {},
   "outputs": [],
   "source": [
    "for i in range(1,6):\n",
    "    if i == 4:\n",
    "        break\n",
    "        \n",
    "    print(i)\n",
    "else:\n",
    "    print(\"Hi\")"
   ]
  },
  {
   "cell_type": "code",
   "execution_count": null,
   "id": "7887fd11",
   "metadata": {},
   "outputs": [],
   "source": [
    "total = 0\n",
    "\n",
    "for x in [2,4,3,5,7,8,9]:\n",
    "    if x % 2 != 0:\n",
    "        total += x    \n",
    "print(total)"
   ]
  },
  {
   "cell_type": "code",
   "execution_count": null,
   "id": "4124a642",
   "metadata": {},
   "outputs": [],
   "source": [
    "for i in range(1,5):\n",
    "    print(i)\n",
    "    if i % 2 == 0:\n",
    "        break\n",
    "else:\n",
    "    print('sachin')"
   ]
  },
  {
   "cell_type": "code",
   "execution_count": null,
   "id": "673e32e0-d992-47bc-a87e-f7f551db1534",
   "metadata": {},
   "outputs": [],
   "source": [
    "sachin snwandre"
   ]
  }
 ],
 "metadata": {
  "kernelspec": {
   "display_name": "Python 3 (ipykernel)",
   "language": "python",
   "name": "python3"
  },
  "language_info": {
   "codemirror_mode": {
    "name": "ipython",
    "version": 3
   },
   "file_extension": ".py",
   "mimetype": "text/x-python",
   "name": "python",
   "nbconvert_exporter": "python",
   "pygments_lexer": "ipython3",
   "version": "3.10.2"
  }
 },
 "nbformat": 4,
 "nbformat_minor": 5
}
