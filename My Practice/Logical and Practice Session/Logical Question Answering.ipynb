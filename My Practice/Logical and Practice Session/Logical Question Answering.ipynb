{
 "cells": [
  {
   "cell_type": "markdown",
   "id": "08592350",
   "metadata": {},
   "source": [
    "### Python program to sort Python Dictionaries by Keys"
   ]
  },
  {
   "cell_type": "code",
   "execution_count": 1,
   "id": "a430f7e6",
   "metadata": {},
   "outputs": [
    {
     "name": "stdout",
     "output_type": "stream",
     "text": [
      "{1: 'Sachin', 2: 'Snehal', 3: 'Santosh', 4: 'Sanjiwani', 5: 'Shweta', 6: 'Sujit'}\n"
     ]
    }
   ],
   "source": [
    "dict1 = {1:\"Sachin\",3:\"Santosh\",5:\"Shweta\",4:\"Sanjiwani\",2:\"Snehal\",6:\"Sujit\"}\n",
    "sort_dict = {}\n",
    "\n",
    "for key in sorted(dict1.keys()):\n",
    "    sort_dict[key] = dict1[key]\n",
    "print(sort_dict)"
   ]
  },
  {
   "cell_type": "code",
   "execution_count": 2,
   "id": "7effa491",
   "metadata": {},
   "outputs": [
    {
     "data": {
      "text/plain": [
       "[(1, 'Sachin'),\n",
       " (2, 'Snehal'),\n",
       " (3, 'Santosh'),\n",
       " (4, 'Sanjiwani'),\n",
       " (5, 'Shweta'),\n",
       " (6, 'Sujit')]"
      ]
     },
     "execution_count": 2,
     "metadata": {},
     "output_type": "execute_result"
    }
   ],
   "source": [
    "dict1 = {1:\"Sachin\",3:\"Santosh\",5:\"Shweta\",4:\"Sanjiwani\",2:\"Snehal\",6:\"Sujit\"}\n",
    "d = sorted(dict1.items(),key=lambda x:x[0])\n",
    "d"
   ]
  },
  {
   "cell_type": "markdown",
   "id": "863e8752",
   "metadata": {},
   "source": [
    "### Python program to sort Python Dictionaries by Values"
   ]
  },
  {
   "cell_type": "code",
   "execution_count": 3,
   "id": "80b51382",
   "metadata": {},
   "outputs": [
    {
     "name": "stdout",
     "output_type": "stream",
     "text": [
      "{1: 'Sachin', 4: 'Sanjiwani', 3: 'Santosh', 5: 'Shweta', 2: 'Snehal', 6: 'Sujit'}\n"
     ]
    }
   ],
   "source": [
    "dict1 = {1:\"Sachin\",3:\"Santosh\",5:\"Shweta\",4:\"Sanjiwani\",2:\"Snehal\",6:\"Sujit\"}\n",
    "sort_dict = {}\n",
    "\n",
    "for value in sorted(dict1.values()):\n",
    "    for key in dict1:\n",
    "        if dict1[key] == value:\n",
    "            sort_dict.update({key:value})\n",
    "print(sort_dict)"
   ]
  },
  {
   "cell_type": "code",
   "execution_count": 4,
   "id": "9d5ecbe3",
   "metadata": {},
   "outputs": [
    {
     "data": {
      "text/plain": [
       "[(1, 'Sachin'),\n",
       " (4, 'Sanjiwani'),\n",
       " (3, 'Santosh'),\n",
       " (5, 'Shweta'),\n",
       " (2, 'Snehal'),\n",
       " (6, 'Sujit')]"
      ]
     },
     "execution_count": 4,
     "metadata": {},
     "output_type": "execute_result"
    }
   ],
   "source": [
    "dict1 = {1:\"Sachin\",3:\"Santosh\",5:\"Shweta\",4:\"Sanjiwani\",2:\"Snehal\",6:\"Sujit\"}\n",
    "d = sorted(dict1.items(),key=lambda x:x[1])\n",
    "d"
   ]
  },
  {
   "cell_type": "markdown",
   "id": "ce69edf8",
   "metadata": {},
   "source": [
    "### Patterns"
   ]
  },
  {
   "cell_type": "code",
   "execution_count": 5,
   "id": "4548cb40",
   "metadata": {},
   "outputs": [
    {
     "name": "stdout",
     "output_type": "stream",
     "text": [
      "* \n",
      "\n",
      "* * \n",
      "\n",
      "* * * \n",
      "\n",
      "* * * * \n",
      "\n"
     ]
    }
   ],
   "source": [
    "for i in range(1,5):\n",
    "    for j in range(1,i+1):\n",
    "        print(\"*\",end=' ')\n",
    "    print(\"\\n\")"
   ]
  },
  {
   "cell_type": "code",
   "execution_count": 6,
   "id": "14e97b30",
   "metadata": {},
   "outputs": [
    {
     "name": "stdout",
     "output_type": "stream",
     "text": [
      "1 \n",
      "\n",
      "2 2 \n",
      "\n",
      "3 3 3 \n",
      "\n",
      "4 4 4 4 \n",
      "\n"
     ]
    }
   ],
   "source": [
    "for i in range(1,5):\n",
    "    for j in range(1,i+1):\n",
    "        print(i,end=' ')\n",
    "    print(\"\\n\")"
   ]
  },
  {
   "cell_type": "code",
   "execution_count": 7,
   "id": "9754a8cc",
   "metadata": {},
   "outputs": [
    {
     "name": "stdout",
     "output_type": "stream",
     "text": [
      "1 \n",
      "\n",
      "1 2 \n",
      "\n",
      "1 2 3 \n",
      "\n",
      "1 2 3 4 \n",
      "\n"
     ]
    }
   ],
   "source": [
    "for i in range(1,5):\n",
    "    for j in range(1,i+1):\n",
    "        print(j,end=' ')\n",
    "    print(\"\\n\")"
   ]
  },
  {
   "cell_type": "code",
   "execution_count": 8,
   "id": "9f5b389d",
   "metadata": {},
   "outputs": [
    {
     "name": "stdout",
     "output_type": "stream",
     "text": [
      "1 \n",
      "\n",
      "1 2 1 \n",
      "\n",
      "1 2 3 1 2 \n",
      "\n",
      "1 2 3 4 1 2 3 \n",
      "\n"
     ]
    }
   ],
   "source": [
    "for i in range(1,5):\n",
    "    for j in range(1,i+1):\n",
    "        print(j,end=' ')\n",
    "    for k in range(1,j):\n",
    "        print(k,end=' ')\n",
    "    print(\"\\n\")"
   ]
  },
  {
   "cell_type": "markdown",
   "id": "2ca89f30",
   "metadata": {},
   "source": [
    "### Print given number is prime or not"
   ]
  },
  {
   "cell_type": "code",
   "execution_count": 9,
   "id": "e4054669",
   "metadata": {},
   "outputs": [
    {
     "name": "stdout",
     "output_type": "stream",
     "text": [
      "Given number 15 is prime number\n"
     ]
    }
   ],
   "source": [
    "# number = int(input(\"Enter the number\"))\n",
    "number = 15\n",
    "for n in range(2,number):\n",
    "    if number % 2 == 0:\n",
    "        print(f\"Given number {number} is not prime\")\n",
    "        break;\n",
    "else:\n",
    "    print(f\"Given number {number} is prime number\")\n",
    "        "
   ]
  },
  {
   "cell_type": "markdown",
   "id": "17eb8367",
   "metadata": {},
   "source": [
    "### Print prime numbers from given range"
   ]
  },
  {
   "cell_type": "code",
   "execution_count": 1,
   "id": "9395f8c3",
   "metadata": {},
   "outputs": [
    {
     "name": "stdout",
     "output_type": "stream",
     "text": [
      "Enter the start number 11\n",
      "Enter the end number 20\n",
      "Prime numbers from 11 to 20 are \n",
      "11\n",
      "13\n",
      "17\n",
      "19\n"
     ]
    }
   ],
   "source": [
    "start = int(input(\"Enter the start number \"))\n",
    "end = int(input(\"Enter the end number \"))\n",
    "print(f\"Prime numbers from {start} to {end} are \")\n",
    "for number in range(start,end):\n",
    "    for n in range(2,number):\n",
    "        if number % n == 0:\n",
    "            break\n",
    "    else:\n",
    "        print(number)"
   ]
  },
  {
   "cell_type": "markdown",
   "id": "44a5bcbf",
   "metadata": {},
   "source": [
    "### List Comprehension"
   ]
  },
  {
   "cell_type": "code",
   "execution_count": 11,
   "id": "8022fc22",
   "metadata": {},
   "outputs": [
    {
     "data": {
      "text/plain": [
       "[1, 2, 3, 4, 5, 6, 7, 8, 9]"
      ]
     },
     "execution_count": 11,
     "metadata": {},
     "output_type": "execute_result"
    }
   ],
   "source": [
    "list1 = [n for n in range(1,10)]\n",
    "list1"
   ]
  },
  {
   "cell_type": "markdown",
   "id": "950a040b",
   "metadata": {},
   "source": [
    "### Print the number which are divisible by 5"
   ]
  },
  {
   "cell_type": "code",
   "execution_count": 12,
   "id": "cc65a019",
   "metadata": {},
   "outputs": [
    {
     "data": {
      "text/plain": [
       "[5, 10, 15, 20, 25]"
      ]
     },
     "execution_count": 12,
     "metadata": {},
     "output_type": "execute_result"
    }
   ],
   "source": [
    "list2 = [n for n in range(1,30) if n % 5 == 0]\n",
    "list2"
   ]
  },
  {
   "cell_type": "markdown",
   "id": "34b05d46",
   "metadata": {},
   "source": [
    "### Print the number which are divisible by 5 and 7"
   ]
  },
  {
   "cell_type": "code",
   "execution_count": 13,
   "id": "62a7d088",
   "metadata": {},
   "outputs": [
    {
     "data": {
      "text/plain": [
       "[35]"
      ]
     },
     "execution_count": 13,
     "metadata": {},
     "output_type": "execute_result"
    }
   ],
   "source": [
    "list3 = [n for n in range(1,50) if n % 5 == 0 if n % 7 == 0]\n",
    "list3"
   ]
  },
  {
   "cell_type": "code",
   "execution_count": 14,
   "id": "ac4aab7f",
   "metadata": {},
   "outputs": [
    {
     "data": {
      "text/plain": [
       "[35]"
      ]
     },
     "execution_count": 14,
     "metadata": {},
     "output_type": "execute_result"
    }
   ],
   "source": [
    "list3 = [n for n in range(1,50) if n % 5 == 0 and n % 7 == 0]\n",
    "list3"
   ]
  },
  {
   "cell_type": "markdown",
   "id": "f054f8a7",
   "metadata": {},
   "source": [
    "### Print the number which are divisible by 5 or 7"
   ]
  },
  {
   "cell_type": "code",
   "execution_count": 15,
   "id": "5c3cc215",
   "metadata": {},
   "outputs": [
    {
     "data": {
      "text/plain": [
       "[5, 7, 10, 14, 15, 20, 21, 25, 28, 30, 35, 40, 42, 45, 49]"
      ]
     },
     "execution_count": 15,
     "metadata": {},
     "output_type": "execute_result"
    }
   ],
   "source": [
    "list3 = [n for n in range(1,50) if n % 5 == 0 or n % 7 == 0]\n",
    "list3"
   ]
  },
  {
   "cell_type": "markdown",
   "id": "6349913c",
   "metadata": {},
   "source": [
    "### Make square of given list"
   ]
  },
  {
   "cell_type": "code",
   "execution_count": 16,
   "id": "7298c48e",
   "metadata": {},
   "outputs": [
    {
     "data": {
      "text/plain": [
       "[4, 9, 16, 25, 36, 49, 64, 81]"
      ]
     },
     "execution_count": 16,
     "metadata": {},
     "output_type": "execute_result"
    }
   ],
   "source": [
    "list4 = [2,3,4,5,6,7,8,9]\n",
    "list5 = [n**2 for n in list4]\n",
    "list5"
   ]
  },
  {
   "cell_type": "code",
   "execution_count": 17,
   "id": "aa63213e",
   "metadata": {},
   "outputs": [
    {
     "name": "stdout",
     "output_type": "stream",
     "text": [
      "[9, 25, 49, 121]\n",
      "{3: 9, 5: 25, 7: 49, 11: 121}\n"
     ]
    }
   ],
   "source": [
    "my_list = [2, 3, 5, 7, 11]\n",
    "squared_list = [x**2 for x in my_list if x%2 != 0] # list comprehension\n",
    "# output => [9 , 25 , 49 , 121]\n",
    "squared_dict = {x:x**2 for x in my_list if x%2 != 0}\n",
    "print(squared_list)\n",
    "print(squared_dict)"
   ]
  },
  {
   "cell_type": "markdown",
   "id": "269e3cf7",
   "metadata": {},
   "source": [
    "### Find out fruits starts with a"
   ]
  },
  {
   "cell_type": "code",
   "execution_count": 18,
   "id": "7525c3b3",
   "metadata": {},
   "outputs": [
    {
     "data": {
      "text/plain": [
       "['apple']"
      ]
     },
     "execution_count": 18,
     "metadata": {},
     "output_type": "execute_result"
    }
   ],
   "source": [
    "fruits = [\"apple\", \"banana\", \"cherry\", \"kiwi\", \"mango\"]\n",
    "[fruit for fruit in fruits if fruit.startswith('a') ]"
   ]
  },
  {
   "cell_type": "markdown",
   "id": "6522a2b5",
   "metadata": {},
   "source": [
    "### Fruits containing a letter"
   ]
  },
  {
   "cell_type": "code",
   "execution_count": 19,
   "id": "4dc025e2",
   "metadata": {},
   "outputs": [
    {
     "data": {
      "text/plain": [
       "['apple', 'banana', 'mango']"
      ]
     },
     "execution_count": 19,
     "metadata": {},
     "output_type": "execute_result"
    }
   ],
   "source": [
    "fruits = [\"apple\", \"banana\", \"cherry\", \"kiwi\", \"mango\"]\n",
    "[fruit for fruit in fruits if 'a' in fruit]"
   ]
  },
  {
   "cell_type": "markdown",
   "id": "a109b360",
   "metadata": {},
   "source": [
    "### Common fruits from both lists"
   ]
  },
  {
   "cell_type": "code",
   "execution_count": 20,
   "id": "3eaa6ec3",
   "metadata": {},
   "outputs": [
    {
     "data": {
      "text/plain": [
       "['apple', 'banana', 'cherry']"
      ]
     },
     "execution_count": 20,
     "metadata": {},
     "output_type": "execute_result"
    }
   ],
   "source": [
    "basket = [\"apple\",'guava','cherry','banana']\n",
    "my_fruits = ['apple','kiwi','grapes','banana','guava']\n",
    "[fruit for fruit in fruits if fruit in basket]"
   ]
  },
  {
   "cell_type": "markdown",
   "id": "8d0d44c2",
   "metadata": {},
   "source": [
    "### List multiplication"
   ]
  },
  {
   "cell_type": "code",
   "execution_count": 21,
   "id": "a1c7fbcb",
   "metadata": {},
   "outputs": [
    {
     "data": {
      "text/plain": [
       "[5, 3, 4, 8, 10, 6, 8, 16, 15, 9, 12, 24, 20, 12, 16, 32, 25, 15, 20, 40]"
      ]
     },
     "execution_count": 21,
     "metadata": {},
     "output_type": "execute_result"
    }
   ],
   "source": [
    "l1 = [1,2,3,4,5]\n",
    "l2 = [5,3,4,8]\n",
    "\n",
    "[x*y for x in l1 for y in l2]"
   ]
  },
  {
   "cell_type": "markdown",
   "id": "bbf26d45",
   "metadata": {},
   "source": [
    "### Print 2X2 matrix using list comprehension"
   ]
  },
  {
   "cell_type": "code",
   "execution_count": 22,
   "id": "ccd93051",
   "metadata": {},
   "outputs": [
    {
     "data": {
      "text/plain": [
       "[[1, 2, 3], [2, 4, 6], [3, 6, 9], [4, 8, 12]]"
      ]
     },
     "execution_count": 22,
     "metadata": {},
     "output_type": "execute_result"
    }
   ],
   "source": [
    "[[i*j for i in range(1,4)] for j in range(1,5)]"
   ]
  },
  {
   "cell_type": "markdown",
   "id": "c7f51405",
   "metadata": {},
   "source": [
    "###  Write a program to add items of 2 lists indexwise"
   ]
  },
  {
   "cell_type": "code",
   "execution_count": 23,
   "id": "4b022554",
   "metadata": {},
   "outputs": [
    {
     "data": {
      "text/plain": [
       "[-10, -18, -60, 8, 40, 66]"
      ]
     },
     "execution_count": 23,
     "metadata": {},
     "output_type": "execute_result"
    }
   ],
   "source": [
    "L1 = [1,2,3,4,33,44]\n",
    "L2 = [-11,-20,-63,4,7,22]\n",
    "\n",
    "[i+j for i,j in zip(L1,L2)]"
   ]
  },
  {
   "cell_type": "code",
   "execution_count": 24,
   "id": "7ff2d2b7",
   "metadata": {},
   "outputs": [
    {
     "data": {
      "text/plain": [
       "[(1, -11), (2, -20), (3, -63), (4, 4), (33, 7), (44, 22)]"
      ]
     },
     "execution_count": 24,
     "metadata": {},
     "output_type": "execute_result"
    }
   ],
   "source": [
    "list(zip(L1,L2))"
   ]
  },
  {
   "cell_type": "markdown",
   "id": "b3ea3b99",
   "metadata": {},
   "source": [
    "### Write a program to replace an item with a different item if found in the list \n"
   ]
  },
  {
   "cell_type": "code",
   "execution_count": 25,
   "id": "3441f821",
   "metadata": {},
   "outputs": [
    {
     "data": {
      "text/plain": [
       "[1, 2, 3, 4, 700, 311]"
      ]
     },
     "execution_count": 25,
     "metadata": {},
     "output_type": "execute_result"
    }
   ],
   "source": [
    "L = [1,2,3,4,5,311]\n",
    "for number in L:\n",
    "    if number == 5:\n",
    "        L[L.index(number)] = 700\n",
    "        \n",
    "L"
   ]
  },
  {
   "cell_type": "code",
   "execution_count": 26,
   "id": "ae6f6255",
   "metadata": {},
   "outputs": [
    {
     "data": {
      "text/plain": [
       "[1, 2, 3, 4, 300, 311]"
      ]
     },
     "execution_count": 26,
     "metadata": {},
     "output_type": "execute_result"
    }
   ],
   "source": [
    "L = [1,2,3,4,5,311]\n",
    "# replace 3 with 300\n",
    "index = L.index(5)\n",
    "L.pop(index)\n",
    "L.insert(index,300)\n",
    "L"
   ]
  },
  {
   "cell_type": "code",
   "execution_count": 27,
   "id": "9de45a1b",
   "metadata": {},
   "outputs": [
    {
     "data": {
      "text/plain": [
       "[1, 2, 3, 4, 800, 311]"
      ]
     },
     "execution_count": 27,
     "metadata": {},
     "output_type": "execute_result"
    }
   ],
   "source": [
    "L = [1,2,3,4,5,311]\n",
    "# replace 3 with 300\n",
    "index = L.index(5)\n",
    "L[index] = 800\n",
    "L"
   ]
  },
  {
   "cell_type": "markdown",
   "id": "f8e0db6c",
   "metadata": {},
   "source": [
    "### Write a program that can convert a 2D list to 1D list"
   ]
  },
  {
   "cell_type": "code",
   "execution_count": 28,
   "id": "54ae86e1",
   "metadata": {},
   "outputs": [
    {
     "name": "stdout",
     "output_type": "stream",
     "text": [
      "1\n",
      "2\n",
      "3\n",
      "4\n",
      "5\n",
      "6\n",
      "7\n",
      "8\n",
      "9\n"
     ]
    }
   ],
   "source": [
    "List = [[1, 2, 3], [4, 5, 6], [7, 8, 9]]\n",
    "for sublist in List:\n",
    "    for number in sublist:\n",
    "        print(number)"
   ]
  },
  {
   "cell_type": "code",
   "execution_count": 29,
   "id": "09413f48",
   "metadata": {},
   "outputs": [
    {
     "data": {
      "text/plain": [
       "[1, 2, 3, 4, 5, 6, 7, 8, 9]"
      ]
     },
     "execution_count": 29,
     "metadata": {},
     "output_type": "execute_result"
    }
   ],
   "source": [
    "[number for sublist in List for number in sublist]"
   ]
  },
  {
   "cell_type": "markdown",
   "id": "192238ec",
   "metadata": {},
   "source": [
    "### Write a program to remove duplicate items from a list"
   ]
  },
  {
   "cell_type": "code",
   "execution_count": 30,
   "id": "8cc66861",
   "metadata": {},
   "outputs": [
    {
     "name": "stdout",
     "output_type": "stream",
     "text": [
      "[1, 2, 3, 4, 5]\n"
     ]
    }
   ],
   "source": [
    "L = [1,2,1,2,3,4,5,3,4]\n",
    "temp_list = []\n",
    "\n",
    "for number in L:\n",
    "    if number  not in temp_list:\n",
    "        temp_list.append(number)\n",
    "print(temp_list)"
   ]
  },
  {
   "cell_type": "code",
   "execution_count": 31,
   "id": "05771229",
   "metadata": {},
   "outputs": [
    {
     "data": {
      "text/plain": [
       "[1, 2, 3, 4, 5]"
      ]
     },
     "execution_count": 31,
     "metadata": {},
     "output_type": "execute_result"
    }
   ],
   "source": [
    "L = [1,2,1,2,3,4,5,3,4]\n",
    "list(set(L))"
   ]
  },
  {
   "cell_type": "markdown",
   "id": "2504b578",
   "metadata": {},
   "source": [
    "### Write a program to check if a list is in ascending order or not"
   ]
  },
  {
   "cell_type": "code",
   "execution_count": 3,
   "id": "825e26ca",
   "metadata": {},
   "outputs": [
    {
     "name": "stdout",
     "output_type": "stream",
     "text": [
      "List is not in ascending order.\n"
     ]
    }
   ],
   "source": [
    "L = [1, 2, 3, 5, 7, 8]\n",
    "\n",
    "sorted_flag = True\n",
    "\n",
    "for i in range(1, len(L)):\n",
    "    if L[i] < L[i - 1]:\n",
    "        sorted_flag = False\n",
    "        break\n",
    "\n",
    "if sorted_flag:\n",
    "    print(\"List is in ascending order.\")\n",
    "else:\n",
    "    print(\"List is not in ascending order.\")"
   ]
  },
  {
   "cell_type": "code",
   "execution_count": 8,
   "id": "7b383555",
   "metadata": {},
   "outputs": [
    {
     "name": "stdout",
     "output_type": "stream",
     "text": [
      "List is not in ascending order.\n"
     ]
    }
   ],
   "source": [
    "L = [1, 2, 3, 15, 7, 8]\n",
    "\n",
    "sorted_flag = True\n",
    "\n",
    "for i in range(1, len(L)):\n",
    "    if L[i] < L[i - 1]:\n",
    "        sorted_flag = False\n",
    "        break\n",
    "\n",
    "if sorted_flag:\n",
    "    print(\"List is in ascending order.\")\n",
    "else:\n",
    "    print(\"List is not in ascending order.\")"
   ]
  },
  {
   "cell_type": "code",
   "execution_count": 33,
   "id": "d4a7aa9a",
   "metadata": {},
   "outputs": [
    {
     "data": {
      "text/plain": [
       "True"
      ]
     },
     "execution_count": 33,
     "metadata": {},
     "output_type": "execute_result"
    }
   ],
   "source": [
    "L = [1, 2, 3, 5, 7, 8]\n",
    "L == sorted(L)"
   ]
  },
  {
   "cell_type": "code",
   "execution_count": 34,
   "id": "e5064100",
   "metadata": {},
   "outputs": [
    {
     "name": "stdout",
     "output_type": "stream",
     "text": [
      "The list is not in ascending order.\n"
     ]
    }
   ],
   "source": [
    "def is_ascending_order(arr):\n",
    "    for i in range(len(arr) - 1):\n",
    "        if arr[i] > arr[i + 1]:\n",
    "            return False\n",
    "    return True\n",
    "\n",
    "# Example usage:\n",
    "my_list = [1, 2, 73, 4, 5]\n",
    "if is_ascending_order(my_list):\n",
    "    print(\"The list is in ascending order.\")\n",
    "else:\n",
    "    print(\"The list is not in ascending order.\")"
   ]
  },
  {
   "cell_type": "markdown",
   "id": "e99ecb6b",
   "metadata": {},
   "source": [
    "### Print tuple with number and its square"
   ]
  },
  {
   "cell_type": "code",
   "execution_count": 35,
   "id": "d61a2533",
   "metadata": {},
   "outputs": [
    {
     "data": {
      "text/plain": [
       "[(1, 1), (2, 4), (3, 9), (4, 16), (5, 25), (6, 36), (7, 49), (8, 64), (9, 81)]"
      ]
     },
     "execution_count": 35,
     "metadata": {},
     "output_type": "execute_result"
    }
   ],
   "source": [
    "L1 = [1,2,3,4,5,6,7,8,9]\n",
    "[(i,i**2) for i in L1]"
   ]
  },
  {
   "cell_type": "code",
   "execution_count": 36,
   "id": "f5dbcbaf",
   "metadata": {},
   "outputs": [
    {
     "data": {
      "text/plain": [
       "{1: 1, 2: 4, 3: 9, 4: 16, 5: 25, 6: 36, 7: 49, 8: 64, 9: 81}"
      ]
     },
     "execution_count": 36,
     "metadata": {},
     "output_type": "execute_result"
    }
   ],
   "source": [
    "{i:i**2 for i in L1}"
   ]
  },
  {
   "cell_type": "markdown",
   "id": "7df307fa",
   "metadata": {},
   "source": [
    "### Sort the given list    "
   ]
  },
  {
   "cell_type": "code",
   "execution_count": 37,
   "id": "47cfc113",
   "metadata": {},
   "outputs": [
    {
     "name": "stdout",
     "output_type": "stream",
     "text": [
      "[88, 77, 77, 55, 44, 22, 11, 4, 3, 2, 1]\n"
     ]
    }
   ],
   "source": [
    "L1 = [4,55,1,77,3,2,88,77,44,22,11]\n",
    "\n",
    "for i in range(len(L1)):\n",
    "    for j in range(0,len(L1)-1-i):\n",
    "        if L1[j] <= L1[j +1]:\n",
    "            L1[j], L1[j+1] = L1[j+1],L1[j]\n",
    "print(L1)"
   ]
  },
  {
   "cell_type": "markdown",
   "id": "f5eaf026",
   "metadata": {},
   "source": [
    "### Find give number is armstrong number or not in python"
   ]
  },
  {
   "cell_type": "code",
   "execution_count": 38,
   "id": "ba01b861",
   "metadata": {},
   "outputs": [
    {
     "name": "stdout",
     "output_type": "stream",
     "text": [
      "Given number 124 is not armstrong number\n"
     ]
    }
   ],
   "source": [
    "number = 124\n",
    "temp = number\n",
    "cube = 0\n",
    "\n",
    "while number > 0:\n",
    "    rem = number % 10\n",
    "    cube += rem**3\n",
    "    number = number // 10\n",
    "\n",
    "if cube == temp:\n",
    "    print(f'Given number {temp} is armstrong number')\n",
    "else:\n",
    "    print(f'Given number {temp} is not armstrong number')"
   ]
  },
  {
   "cell_type": "code",
   "execution_count": 39,
   "id": "c18990f4",
   "metadata": {},
   "outputs": [
    {
     "name": "stdout",
     "output_type": "stream",
     "text": [
      "Given number 153 is armstrong number\n"
     ]
    }
   ],
   "source": [
    "given_number = 153\n",
    "temp = str(given_number)\n",
    "\n",
    "cube = 0\n",
    "\n",
    "for number in temp:\n",
    "    \n",
    "    cube += int(number) **3\n",
    "    \n",
    "if cube == given_number:\n",
    "    print(f'Given number {given_number} is armstrong number')\n",
    "else:\n",
    "    print(f'Given number {given_number} is not armstrong number')"
   ]
  },
  {
   "cell_type": "markdown",
   "id": "270b69da",
   "metadata": {},
   "source": [
    "### Reverse a given list"
   ]
  },
  {
   "cell_type": "code",
   "execution_count": 40,
   "id": "327cda49",
   "metadata": {},
   "outputs": [
    {
     "name": "stdout",
     "output_type": "stream",
     "text": [
      "[11, 22, 44, 77, 88, 2, 3, 77, 1, 55, 4]\n"
     ]
    }
   ],
   "source": [
    "L1 = [4,55,1,77,3,2,88,77,44,22,11]\n",
    "temp_list = []\n",
    "\n",
    "for index in range(len(L1)-1,-1,-1):\n",
    "    temp_list.append(L1[index])\n",
    "    \n",
    "print(temp_list)"
   ]
  },
  {
   "cell_type": "code",
   "execution_count": 41,
   "id": "79446b46",
   "metadata": {},
   "outputs": [
    {
     "data": {
      "text/plain": [
       "[11, 22, 44, 77, 88, 2, 3, 77, 1, 55, 4]"
      ]
     },
     "execution_count": 41,
     "metadata": {},
     "output_type": "execute_result"
    }
   ],
   "source": [
    "L1 = [4,55,1,77,3,2,88,77,44,22,11]\n",
    "L1.reverse()\n",
    "L1"
   ]
  },
  {
   "cell_type": "code",
   "execution_count": 42,
   "id": "51842fd6",
   "metadata": {},
   "outputs": [
    {
     "name": "stdout",
     "output_type": "stream",
     "text": [
      "[77, 99, 88, 33, 55, 44, 22]\n"
     ]
    }
   ],
   "source": [
    "# Reverse a list in same list\n",
    "list1 = [22,44,55,33,88,99,77]\n",
    "\n",
    "for i in range(len(list1)//2):\n",
    "    list1[i],list1[len(list1)-1-i] =  list1[len(list1)-1-i],list1[i]\n",
    "    \n",
    "print(list1)"
   ]
  },
  {
   "cell_type": "markdown",
   "id": "5f585cf6",
   "metadata": {},
   "source": [
    "### Find out the number divisible by 5 and 7"
   ]
  },
  {
   "cell_type": "code",
   "execution_count": 43,
   "id": "d1f770d4",
   "metadata": {},
   "outputs": [
    {
     "data": {
      "text/plain": [
       "[35, 70]"
      ]
     },
     "execution_count": 43,
     "metadata": {},
     "output_type": "execute_result"
    }
   ],
   "source": [
    "L = [5,23,15,30,45,60,10,35,70]\n",
    "[number for number in L if number%5==0 and number%7==0]"
   ]
  },
  {
   "cell_type": "code",
   "execution_count": 2,
   "id": "3ad1c24b",
   "metadata": {},
   "outputs": [
    {
     "data": {
      "text/plain": [
       "[35, 70]"
      ]
     },
     "execution_count": 2,
     "metadata": {},
     "output_type": "execute_result"
    }
   ],
   "source": [
    "L = [5,23,15,30,45,60,10,35,70]\n",
    "output = lambda list2 : [number for number in list2 if number%5==0 and number%7==0]\n",
    "output(L)"
   ]
  },
  {
   "cell_type": "code",
   "execution_count": 45,
   "id": "80e4a996",
   "metadata": {},
   "outputs": [
    {
     "data": {
      "text/plain": [
       "[35, 70]"
      ]
     },
     "execution_count": 45,
     "metadata": {},
     "output_type": "execute_result"
    }
   ],
   "source": [
    "list(filter(lambda number: number%5==0 and number%7==0,L))"
   ]
  },
  {
   "cell_type": "code",
   "execution_count": 46,
   "id": "1f552d63",
   "metadata": {},
   "outputs": [
    {
     "data": {
      "text/plain": [
       "[5, 15, 30, 45, 60, 10, 35, 70]"
      ]
     },
     "execution_count": 46,
     "metadata": {},
     "output_type": "execute_result"
    }
   ],
   "source": [
    "list(filter(lambda number : number%5==0,L))"
   ]
  },
  {
   "cell_type": "markdown",
   "id": "d8a23e41",
   "metadata": {},
   "source": [
    "### Make square of all numbers from given list"
   ]
  },
  {
   "cell_type": "code",
   "execution_count": 47,
   "id": "2fe958a1",
   "metadata": {},
   "outputs": [
    {
     "data": {
      "text/plain": [
       "[25, 529, 225, 900, 2025, 3600, 100, 1225, 4900]"
      ]
     },
     "execution_count": 47,
     "metadata": {},
     "output_type": "execute_result"
    }
   ],
   "source": [
    "L = [5,23,15,30,45,60,10,35,70]\n",
    "[number**2 for number in L]"
   ]
  },
  {
   "cell_type": "code",
   "execution_count": 48,
   "id": "a49d6dc5",
   "metadata": {},
   "outputs": [
    {
     "data": {
      "text/plain": [
       "[25, 529, 225, 900, 2025, 3600, 100, 1225, 4900]"
      ]
     },
     "execution_count": 48,
     "metadata": {},
     "output_type": "execute_result"
    }
   ],
   "source": [
    "L = [5,23,15,30,45,60,10,35,70]\n",
    "square = lambda L : [number **2 for number in L]\n",
    "square(L) "
   ]
  },
  {
   "cell_type": "code",
   "execution_count": 49,
   "id": "e09214e8",
   "metadata": {},
   "outputs": [
    {
     "data": {
      "text/plain": [
       "[25, 529, 225, 900, 2025, 3600, 100, 1225, 4900]"
      ]
     },
     "execution_count": 49,
     "metadata": {},
     "output_type": "execute_result"
    }
   ],
   "source": [
    "L = [5,23,15,30,45,60,10,35,70]\n",
    "list(map(lambda number : number**2,L))"
   ]
  },
  {
   "cell_type": "markdown",
   "id": "99a4b04f",
   "metadata": {},
   "source": [
    "### Decorator function"
   ]
  },
  {
   "cell_type": "code",
   "execution_count": 50,
   "id": "f5ae41f2",
   "metadata": {},
   "outputs": [
    {
     "name": "stdout",
     "output_type": "stream",
     "text": [
      "Something is happening before the function is called.\n",
      "Hello!\n",
      "Something is happening after the function is called.\n"
     ]
    }
   ],
   "source": [
    "# Define a decorator function\n",
    "def my_decorator(func):\n",
    "    def wrapper():\n",
    "        print(\"Something is happening before the function is called.\")\n",
    "        func()  # Call the original function\n",
    "        print(\"Something is happening after the function is called.\")\n",
    "    return wrapper\n",
    "\n",
    "# Use the decorator to modify a function\n",
    "@my_decorator\n",
    "def say_hello():\n",
    "    print(\"Hello!\")\n",
    "\n",
    "# Call the decorated function\n",
    "say_hello()"
   ]
  },
  {
   "cell_type": "code",
   "execution_count": 51,
   "id": "147ca203",
   "metadata": {},
   "outputs": [
    {
     "data": {
      "text/plain": [
       "'Hello Sara! Hello Ansh!'"
      ]
     },
     "execution_count": 51,
     "metadata": {},
     "output_type": "execute_result"
    }
   ],
   "source": [
    "# decorator function to capitalize names\n",
    "def names_decorator(function):\n",
    "    def wrapper(arg1, arg2):\n",
    "        arg1 = arg1.capitalize()\n",
    "        arg2 = arg2.capitalize()\n",
    "        string_hello = function(arg1, arg2)\n",
    "        return string_hello\n",
    "    return wrapper\n",
    "\n",
    "@names_decorator\n",
    "def say_hello(name1, name2):\n",
    "    return 'Hello ' + name1 + '! Hello ' + name2 + '!'\n",
    "say_hello('sara', 'ansh') "
   ]
  },
  {
   "cell_type": "markdown",
   "id": "f38baa38",
   "metadata": {},
   "source": [
    "### Shallow copy"
   ]
  },
  {
   "cell_type": "markdown",
   "id": "5cb5c791",
   "metadata": {},
   "source": [
    "Shallow Copy:\n",
    "A shallow copy creates a new object, but it only copies the references to the objects contained within the original object, rather than recursively copying the entire contents. This means that changes made to objects inside the copied object will affect both the original and the copy if those objects are mutable.\n",
    "\n",
    "You can create a shallow copy using the copy.copy() function from the copy module."
   ]
  },
  {
   "cell_type": "code",
   "execution_count": 52,
   "id": "850c58f2",
   "metadata": {},
   "outputs": [
    {
     "name": "stdout",
     "output_type": "stream",
     "text": [
      "[[100, 2, 3], [4, 5, 6]]\n"
     ]
    }
   ],
   "source": [
    "import copy\n",
    "\n",
    "original_list = [[1, 2, 3], [4, 5, 6]]\n",
    "shallow_copy_list = copy.copy(original_list)\n",
    "\n",
    "# Modify an element inside the copied list\n",
    "shallow_copy_list[0][0] = 100\n",
    "\n",
    "# Check the original list\n",
    "print(original_list)  # Output: [[100, 2, 3], [4, 5, 6]]"
   ]
  },
  {
   "cell_type": "markdown",
   "id": "8eb5c5fa",
   "metadata": {},
   "source": [
    "### Deep copy"
   ]
  },
  {
   "cell_type": "markdown",
   "id": "ff4e68dc",
   "metadata": {},
   "source": [
    "Deep Copy:\n",
    "A deep copy creates a completely independent copy of the original object, including all nested objects. Changes made to objects inside the copied object will not affect the original object.\n",
    "\n",
    "You can create a deep copy using the copy.deepcopy() function from the copy module."
   ]
  },
  {
   "cell_type": "code",
   "execution_count": 3,
   "id": "0a07a76d",
   "metadata": {},
   "outputs": [
    {
     "name": "stdout",
     "output_type": "stream",
     "text": [
      "[[1, 2, 3], [4, 5, 6]]\n",
      "[[100, 2, 3], [4, 5, 6]]\n"
     ]
    }
   ],
   "source": [
    "import copy\n",
    "\n",
    "original_list = [[1, 2, 3], [4, 5, 6]]\n",
    "deep_copy_list = copy.deepcopy(original_list)\n",
    "\n",
    "# Modify an element inside the copied list\n",
    "deep_copy_list[0][0] = 100\n",
    "\n",
    "# Check the original list\n",
    "print(original_list)  # Output: [[1, 2, 3], [4, 5, 6]]\n",
    "print(deep_copy_list)\n"
   ]
  },
  {
   "cell_type": "markdown",
   "id": "824314c2",
   "metadata": {},
   "source": [
    "### Functools reduce"
   ]
  },
  {
   "cell_type": "code",
   "execution_count": 4,
   "id": "0e23293f",
   "metadata": {},
   "outputs": [
    {
     "name": "stdout",
     "output_type": "stream",
     "text": [
      "120\n"
     ]
    }
   ],
   "source": [
    "# In Python, the reduce function is part of the functools module and is used for aggregating a sequence (e.g., a list) \n",
    "# of values into a single cumulative result. It repeatedly applies a given function to the elements of the sequence, \n",
    "# accumulating the result.\n",
    "\n",
    "import functools\n",
    "\n",
    "# Define a function to multiply two numbers\n",
    "def multiply(x, y):\n",
    "    return x * y\n",
    "\n",
    "# Define a list of numbers\n",
    "numbers = [1, 2, 3, 4, 5]\n",
    "\n",
    "# Use the reduce function to find the product of all elements in the list\n",
    "result = functools.reduce(multiply, numbers)\n",
    "\n",
    "print(result)  # Output: 120 (1 * 2 * 3 * 4 * 5)\n"
   ]
  },
  {
   "cell_type": "markdown",
   "id": "1037d03d",
   "metadata": {},
   "source": [
    "### any() all()"
   ]
  },
  {
   "cell_type": "code",
   "execution_count": 55,
   "id": "e2937157",
   "metadata": {},
   "outputs": [
    {
     "name": "stdout",
     "output_type": "stream",
     "text": [
      "True\n",
      "True\n",
      "False\n"
     ]
    }
   ],
   "source": [
    "# Example 1: Using any() with a list of boolean values\n",
    "bool_values = [True, False, True, False]\n",
    "result = any(bool_values)\n",
    "print(result)  # Output: True (At least one True value is present)\n",
    "\n",
    "# Example 2: Using any() with a list of numbers\n",
    "numbers = [0, -1, 4, 7]\n",
    "result = any(numbers)\n",
    "print(result)  # Output: True (At least one non-zero number is present)\n",
    "\n",
    "# Example 3: Using any() with an empty list\n",
    "empty_list = []\n",
    "result = any(empty_list)\n",
    "print(result)  # Output: False (The iterable is empty)\n"
   ]
  },
  {
   "cell_type": "code",
   "execution_count": 56,
   "id": "2e1ca317",
   "metadata": {},
   "outputs": [
    {
     "name": "stdout",
     "output_type": "stream",
     "text": [
      "False\n",
      "False\n",
      "True\n"
     ]
    }
   ],
   "source": [
    "bool_values = [True, False, True, False]\n",
    "result = all(bool_values)\n",
    "print(result)  # Output: False (At least one True value is present)\n",
    "# Example 2: Using any() with a list of numbers\n",
    "numbers = [0, -1, 4, 7]\n",
    "result = all(numbers)\n",
    "print(result)  # Output: False (At least one non-zero number is present)\n",
    "\n",
    "# Example 3: Using any() with an empty list\n",
    "empty_list = []\n",
    "result = all(empty_list)\n",
    "print(result)  # Output: True (The iterable is empty)"
   ]
  },
  {
   "cell_type": "code",
   "execution_count": 57,
   "id": "5fdea0c7",
   "metadata": {},
   "outputs": [
    {
     "name": "stdout",
     "output_type": "stream",
     "text": [
      "Sachin example text numbers HTML tags special characters stopwords short words\n"
     ]
    }
   ],
   "source": [
    "import re\n",
    "import string\n",
    "from bs4 import BeautifulSoup\n",
    "from nltk.corpus import stopwords\n",
    "\n",
    "def process_text(text):\n",
    "    # Remove HTML tags using BeautifulSoup\n",
    "    text = BeautifulSoup(text, 'html.parser').get_text()\n",
    "    \n",
    "    # Remove numbers using regular expression\n",
    "    text = re.sub(r'\\d', '', text)\n",
    "    \n",
    "    # Remove special characters using regular expression\n",
    "    text = re.sub(r'[' + re.escape(string.punctuation) + ']', '', text)\n",
    "    \n",
    "    # Remove multiple spaces and tabs\n",
    "    text = re.sub(r'\\s+', ' ', text)\n",
    "    \n",
    "    # Remove words with length less than 3 characters\n",
    "    words = text.split()\n",
    "    text = ' '.join([word for word in words if len(word) >= 3])\n",
    "    \n",
    "    # Remove common English stopwords\n",
    "    stop_words = set(stopwords.words('english'))\n",
    "    words = text.split()\n",
    "    text = ' '.join([word for word in words if word.lower() not in stop_words])\n",
    "    \n",
    "    # Remove words containing numbers\n",
    "    words = text.split()\n",
    "    text = ' '.join([word for word in words if not any(char.isdigit() for char in word)])\n",
    "    \n",
    "    # Remove multiple lines using regular expression\n",
    "    text = re.sub(r'\\n+', '\\n', text)\n",
    "    \n",
    "    return text\n",
    "\n",
    "# Example usage:\n",
    "input_text = \"Sachin This is an <b>example</b> text with 123 numbers and some        <a href='#'>HTML tags</a>.\\nIt has special characters, stopwords, and short words 67890 ^&%$#.\"\n",
    "processed_text = process_text(input_text)\n",
    "print(processed_text)\n"
   ]
  },
  {
   "cell_type": "code",
   "execution_count": 58,
   "id": "eb917adf",
   "metadata": {},
   "outputs": [
    {
     "name": "stdout",
     "output_type": "stream",
     "text": [
      "Sachin example text numbers HTML tags special characters stopwords short words\n"
     ]
    }
   ],
   "source": [
    "import re\n",
    "import string\n",
    "from bs4 import BeautifulSoup\n",
    "from nltk.corpus import stopwords\n",
    "\n",
    "def remove_numbers(text):\n",
    "    # Remove numbers using regular expression\n",
    "    return re.sub(r'\\d', '', text)\n",
    "\n",
    "def remove_html_tags(text):\n",
    "    # Remove HTML tags using BeautifulSoup\n",
    "    soup = BeautifulSoup(text, 'html.parser')\n",
    "    return soup.get_text()\n",
    "\n",
    "def remove_special_characters(text):\n",
    "    # Remove special characters using regular expression\n",
    "    return re.sub(r'[' + re.escape(string.punctuation) + ']', '', text)\n",
    "\n",
    "def remove_multiple_spaces_and_tabs(text):\n",
    "    # Replace multiple spaces and tabs with a single space\n",
    "    return re.sub(r'\\s+', ' ', text)\n",
    "\n",
    "def remove_words_less_than_3_chars(text):\n",
    "    # Remove words with a length less than 3 characters\n",
    "    words = text.split()\n",
    "    filtered_words = [word for word in words if len(word) >= 3]\n",
    "    return ' '.join(filtered_words)\n",
    "\n",
    "def remove_stopwords(text):\n",
    "    # Remove common English stopwords\n",
    "    stop_words = set(stopwords.words('english'))\n",
    "    words = text.split()\n",
    "    filtered_words = [word for word in words if word.lower() not in stop_words]\n",
    "    return ' '.join(filtered_words)\n",
    "\n",
    "def remove_words_with_numbers(text):\n",
    "    # Remove words containing numbers\n",
    "    words = text.split()\n",
    "    filtered_words = [word for word in words if not any(char.isdigit() for char in word)]\n",
    "    return ' '.join(filtered_words)\n",
    "\n",
    "def remove_multiple_lines(text):\n",
    "    # Remove multiple lines using regular expression\n",
    "    return re.sub(r'\\n+', '\\n', text)\n",
    "\n",
    "def apply_text_processing(text):\n",
    "    text = remove_numbers(text)\n",
    "    text = remove_html_tags(text)\n",
    "    text = remove_special_characters(text)\n",
    "    text = remove_multiple_spaces_and_tabs(text)\n",
    "    text = remove_words_less_than_3_chars(text)\n",
    "    text = remove_stopwords(text)\n",
    "    text = remove_words_with_numbers(text)\n",
    "    text = remove_multiple_lines(text)\n",
    "    return text\n",
    "\n",
    "# Example usage:\n",
    "input_text = \"Sachin             This is an <b>example</b> text with 123 numbers and some <a href='#'>HTML tags</a>.\\nIt has special characters, stopwords, and short words 67890 ^&%$#.\"\n",
    "processed_text = apply_text_processing(input_text)\n",
    "print(processed_text)\n"
   ]
  },
  {
   "cell_type": "markdown",
   "id": "f335cce5",
   "metadata": {},
   "source": [
    "## Fibonacci number"
   ]
  },
  {
   "cell_type": "code",
   "execution_count": 59,
   "id": "b4f52129",
   "metadata": {},
   "outputs": [
    {
     "name": "stdout",
     "output_type": "stream",
     "text": [
      "Fibonacci Series: 0 1 1 2 3 5 8 13 21 34 \n"
     ]
    }
   ],
   "source": [
    "# Function for nth fibonacci number \n",
    "# Write a program to print fibonacci series upto n terms in python\n",
    "num = 10\n",
    "n1, n2 = 0, 1\n",
    "print(\"Fibonacci Series:\", n1, n2, end=\" \")\n",
    "for i in range(2, num):\n",
    "    n3 = n1 + n2\n",
    "    n1 = n2\n",
    "    n2 = n3\n",
    "    print(n3, end=\" \")\n",
    "\n",
    "print()\n"
   ]
  },
  {
   "cell_type": "code",
   "execution_count": 60,
   "id": "5b93df69",
   "metadata": {},
   "outputs": [
    {
     "name": "stdout",
     "output_type": "stream",
     "text": [
      "Fibonacci series: 0 1 1 2 3 5 8 13 21 34 55 "
     ]
    }
   ],
   "source": [
    "# Find out the fabonacci series numbers which are less than 70\n",
    "\n",
    "less_than_number = 70\n",
    "\n",
    "number1 = 0\n",
    "number2 = 1\n",
    "number3 = 0\n",
    "print('Fibonacci series:', number1, number2, end=\" \")\n",
    "\n",
    "while number3 < less_than_number:\n",
    "    number3 = number1 + number2\n",
    "    if number3 < less_than_number:\n",
    "        print(number3, end=\" \")\n",
    "    number1 = number2\n",
    "    number2 = number3\n"
   ]
  },
  {
   "cell_type": "code",
   "execution_count": 61,
   "id": "78e9a176",
   "metadata": {},
   "outputs": [
    {
     "data": {
      "text/plain": [
       "False"
      ]
     },
     "execution_count": 61,
     "metadata": {},
     "output_type": "execute_result"
    }
   ],
   "source": [
    "l1 = [1,2,3]\n",
    "l2 = [2,3,1]\n",
    "l1==l2"
   ]
  },
  {
   "cell_type": "code",
   "execution_count": 1,
   "id": "11e8ffee",
   "metadata": {},
   "outputs": [
    {
     "name": "stdout",
     "output_type": "stream",
     "text": [
      "a is occured 2\n",
      "b is occured 3\n",
      "x is occured 3\n",
      "c is occured 3\n",
      "d is occured 5\n",
      "e is occured 3\n"
     ]
    }
   ],
   "source": [
    "# Occurance of each character\n",
    "string = \"aabxbbcccxdddddeeex\"\n",
    "temp = []\n",
    "for s in string:\n",
    "    if s not in temp:\n",
    "        temp.append(s)\n",
    "        print(s,\"is occured\",string.count(s))"
   ]
  },
  {
   "cell_type": "code",
   "execution_count": 2,
   "id": "42975057",
   "metadata": {},
   "outputs": [
    {
     "name": "stdout",
     "output_type": "stream",
     "text": [
      " I evoL AIDNI dna I ma ataD  tsitneics\n"
     ]
    }
   ],
   "source": [
    "# input = \"I Love INDIA and I am Data scientist\"\n",
    "# output = \" I evoL AIDNI dna I ma ataD  tsitneics\"\n",
    "\n",
    "string = \"I Love INDIA and I am Data scientist\"\n",
    "\n",
    "new = \" \"\n",
    "word = \" \"\n",
    "reverse = \" \"\n",
    "s = string.split()[-1]\n",
    "\n",
    "for i in string:\n",
    "    if i != \" \":\n",
    "        word = word + i\n",
    "    else:\n",
    "        reverse = word[::-1]\n",
    "        #new =  reverse + new\n",
    "        new =  new + reverse \n",
    "        word = \" \"\n",
    "        \n",
    "print(new + \" \"+ s[::-1])"
   ]
  },
  {
   "cell_type": "code",
   "execution_count": 3,
   "id": "243b9fa5",
   "metadata": {},
   "outputs": [
    {
     "name": "stdout",
     "output_type": "stream",
     "text": [
      "tsitneics ataD ma I dna AIDNI evoL I  \n"
     ]
    }
   ],
   "source": [
    "# input = \"I Love INDIA and I am Data scientist\"\n",
    "# output = \"tsitneics ataD ma I dna AIDNI evoL I\"\n",
    "\n",
    "string = \"I Love INDIA and I am Data scientist\"\n",
    "\n",
    "reverse = \" \"\n",
    "new_str = \" \"\n",
    "word = \" \"\n",
    "s1 = string.split()\n",
    "#print(s1[-1])\n",
    "for s in string:\n",
    "    if s != \" \":\n",
    "        word = word + s;\n",
    "    else:       \n",
    "        reverse = word[::-1]\n",
    "        new_str = reverse + new_str\n",
    "        word = \" \"\n",
    "        #new_str = new_str + reverse\n",
    "         \n",
    "print(s1[-1][::-1] + \" \"+ new_str)"
   ]
  },
  {
   "cell_type": "code",
   "execution_count": 4,
   "id": "dfdfb109",
   "metadata": {},
   "outputs": [
    {
     "name": "stdout",
     "output_type": "stream",
     "text": [
      "Wandre Sachin\n"
     ]
    }
   ],
   "source": [
    "input_string = \"Sachin Wandre\"\n",
    "\n",
    "# Splitting the string by space and reversing the order of split parts\n",
    "split_parts = input_string.split()\n",
    "reversed_parts = split_parts[::-1]\n",
    "\n",
    "# Joining the reversed parts to form the output string\n",
    "output_string = \" \".join(reversed_parts)\n",
    "\n",
    "print(output_string)\n"
   ]
  },
  {
   "cell_type": "code",
   "execution_count": 18,
   "id": "6bc09426",
   "metadata": {},
   "outputs": [
    {
     "name": "stdout",
     "output_type": "stream",
     "text": [
      "Wandre Narayan Sachin \n"
     ]
    }
   ],
   "source": [
    "input_string = \"Sachin Narayan Wandre\"\n",
    "\n",
    "temp = \" \"\n",
    "word = \" \"\n",
    "last = input_string.split()\n",
    "#print(s[-1])\n",
    "for s in input_string:\n",
    "    if s != \" \":\n",
    "        word = word + s\n",
    "    else:\n",
    "        temp = word + temp\n",
    "        word = \" \"\n",
    "        \n",
    "print(last[-1] + \"\" +temp)"
   ]
  },
  {
   "cell_type": "code",
   "execution_count": 20,
   "id": "e0b66a1c",
   "metadata": {},
   "outputs": [
    {
     "name": "stdout",
     "output_type": "stream",
     "text": [
      "nihcaS \n"
     ]
    }
   ],
   "source": [
    "s = \"Sachin\"\n",
    "temp = \" \"\n",
    "\n",
    "for i in s:\n",
    "    temp = i + temp\n",
    "print(temp)"
   ]
  },
  {
   "cell_type": "code",
   "execution_count": null,
   "id": "06633c87",
   "metadata": {},
   "outputs": [],
   "source": []
  }
 ],
 "metadata": {
  "kernelspec": {
   "display_name": "Python 3 (ipykernel)",
   "language": "python",
   "name": "python3"
  },
  "language_info": {
   "codemirror_mode": {
    "name": "ipython",
    "version": 3
   },
   "file_extension": ".py",
   "mimetype": "text/x-python",
   "name": "python",
   "nbconvert_exporter": "python",
   "pygments_lexer": "ipython3",
   "version": "3.11.4"
  }
 },
 "nbformat": 4,
 "nbformat_minor": 5
}
