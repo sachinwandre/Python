{
 "cells": [
  {
   "cell_type": "code",
   "execution_count": 14,
   "id": "17e2c41f",
   "metadata": {},
   "outputs": [
    {
     "name": "stdout",
     "output_type": "stream",
     "text": [
      "B.zip\n",
      "E:/A/\n",
      "[]\n",
      "------> E:/A/B.zip\n",
      "['B/AA.txt']\n",
      "E:/A/B.zip\n",
      "C.zip\n",
      "E:/A/\n",
      "[]\n",
      "------> E:/A/C.zip\n",
      "['C/DD.txt']\n",
      "E:/A/C.zip\n"
     ]
    }
   ],
   "source": [
    "import os\n",
    "import zipfile\n",
    "\n",
    "# Specify the path to the directory containing zip files\n",
    "dir_path = 'E:/A/'\n",
    "\n",
    "# Traverse the directory and look for zip files\n",
    "for root, dirs, files in os.walk(dir_path):\n",
    "    for file in files:\n",
    "        print(file)\n",
    "        print(root)\n",
    "        print(dirs)\n",
    "        if file.endswith('.zip'):\n",
    "            \n",
    "            # Specify the path to the zip file\n",
    "            zip_file_path = os.path.join(root, file)\n",
    "            print(\"------>\",zip_file_path)\n",
    "            \n",
    "            # Open the zip file in read mode\n",
    "            with zipfile.ZipFile(zip_file_path, 'r') as zip_ref:\n",
    "                \n",
    "                # Print the list of all files in the zip archive\n",
    "                print(zip_ref.namelist())\n",
    "                print(zip_ref.filename)\n",
    "                \n",
    "                # Extract all the files in the zip archive to a folder named \"extracted_files\"\n",
    "                zip_ref.extractall(path = \"E:/Sachin/\")\n"
   ]
  },
  {
   "cell_type": "code",
   "execution_count": 5,
   "id": "f81c94d8",
   "metadata": {},
   "outputs": [
    {
     "data": {
      "text/html": [
       "<div>\n",
       "<style scoped>\n",
       "    .dataframe tbody tr th:only-of-type {\n",
       "        vertical-align: middle;\n",
       "    }\n",
       "\n",
       "    .dataframe tbody tr th {\n",
       "        vertical-align: top;\n",
       "    }\n",
       "\n",
       "    .dataframe thead th {\n",
       "        text-align: right;\n",
       "    }\n",
       "</style>\n",
       "<table border=\"1\" class=\"dataframe\">\n",
       "  <thead>\n",
       "    <tr style=\"text-align: right;\">\n",
       "      <th></th>\n",
       "      <th>ID</th>\n",
       "      <th>City</th>\n",
       "      <th>Date</th>\n",
       "      <th>Season</th>\n",
       "      <th>MatchNumber</th>\n",
       "      <th>Team1</th>\n",
       "      <th>Team2</th>\n",
       "      <th>Venue</th>\n",
       "      <th>TossWinner</th>\n",
       "      <th>TossDecision</th>\n",
       "      <th>SuperOver</th>\n",
       "      <th>WinningTeam</th>\n",
       "      <th>WonBy</th>\n",
       "      <th>Margin</th>\n",
       "      <th>method</th>\n",
       "      <th>Player_of_Match</th>\n",
       "      <th>Team1Players</th>\n",
       "      <th>Team2Players</th>\n",
       "      <th>Umpire1</th>\n",
       "      <th>Umpire2</th>\n",
       "    </tr>\n",
       "  </thead>\n",
       "  <tbody>\n",
       "    <tr>\n",
       "      <th>0</th>\n",
       "      <td>1312200</td>\n",
       "      <td>Ahmedabad</td>\n",
       "      <td>2022-05-29</td>\n",
       "      <td>2022</td>\n",
       "      <td>Final</td>\n",
       "      <td>Rajasthan Royals</td>\n",
       "      <td>Gujarat Titans</td>\n",
       "      <td>Narendra Modi Stadium, Ahmedabad</td>\n",
       "      <td>Rajasthan Royals</td>\n",
       "      <td>bat</td>\n",
       "      <td>N</td>\n",
       "      <td>Gujarat Titans</td>\n",
       "      <td>Wickets</td>\n",
       "      <td>7.0</td>\n",
       "      <td>NaN</td>\n",
       "      <td>HH Pandya</td>\n",
       "      <td>['YBK Jaiswal', 'JC Buttler', 'SV Samson', 'D ...</td>\n",
       "      <td>['WP Saha', 'Shubman Gill', 'MS Wade', 'HH Pan...</td>\n",
       "      <td>CB Gaffaney</td>\n",
       "      <td>Nitin Menon</td>\n",
       "    </tr>\n",
       "    <tr>\n",
       "      <th>1</th>\n",
       "      <td>1312199</td>\n",
       "      <td>Ahmedabad</td>\n",
       "      <td>2022-05-27</td>\n",
       "      <td>2022</td>\n",
       "      <td>Qualifier 2</td>\n",
       "      <td>Royal Challengers Bangalore</td>\n",
       "      <td>Rajasthan Royals</td>\n",
       "      <td>Narendra Modi Stadium, Ahmedabad</td>\n",
       "      <td>Rajasthan Royals</td>\n",
       "      <td>field</td>\n",
       "      <td>N</td>\n",
       "      <td>Rajasthan Royals</td>\n",
       "      <td>Wickets</td>\n",
       "      <td>7.0</td>\n",
       "      <td>NaN</td>\n",
       "      <td>JC Buttler</td>\n",
       "      <td>['V Kohli', 'F du Plessis', 'RM Patidar', 'GJ ...</td>\n",
       "      <td>['YBK Jaiswal', 'JC Buttler', 'SV Samson', 'D ...</td>\n",
       "      <td>CB Gaffaney</td>\n",
       "      <td>Nitin Menon</td>\n",
       "    </tr>\n",
       "    <tr>\n",
       "      <th>2</th>\n",
       "      <td>1312198</td>\n",
       "      <td>Kolkata</td>\n",
       "      <td>2022-05-25</td>\n",
       "      <td>2022</td>\n",
       "      <td>Eliminator</td>\n",
       "      <td>Royal Challengers Bangalore</td>\n",
       "      <td>Lucknow Super Giants</td>\n",
       "      <td>Eden Gardens, Kolkata</td>\n",
       "      <td>Lucknow Super Giants</td>\n",
       "      <td>field</td>\n",
       "      <td>N</td>\n",
       "      <td>Royal Challengers Bangalore</td>\n",
       "      <td>Runs</td>\n",
       "      <td>14.0</td>\n",
       "      <td>NaN</td>\n",
       "      <td>RM Patidar</td>\n",
       "      <td>['V Kohli', 'F du Plessis', 'RM Patidar', 'GJ ...</td>\n",
       "      <td>['Q de Kock', 'KL Rahul', 'M Vohra', 'DJ Hooda...</td>\n",
       "      <td>J Madanagopal</td>\n",
       "      <td>MA Gough</td>\n",
       "    </tr>\n",
       "    <tr>\n",
       "      <th>3</th>\n",
       "      <td>1312197</td>\n",
       "      <td>Kolkata</td>\n",
       "      <td>2022-05-24</td>\n",
       "      <td>2022</td>\n",
       "      <td>Qualifier 1</td>\n",
       "      <td>Rajasthan Royals</td>\n",
       "      <td>Gujarat Titans</td>\n",
       "      <td>Eden Gardens, Kolkata</td>\n",
       "      <td>Gujarat Titans</td>\n",
       "      <td>field</td>\n",
       "      <td>N</td>\n",
       "      <td>Gujarat Titans</td>\n",
       "      <td>Wickets</td>\n",
       "      <td>7.0</td>\n",
       "      <td>NaN</td>\n",
       "      <td>DA Miller</td>\n",
       "      <td>['YBK Jaiswal', 'JC Buttler', 'SV Samson', 'D ...</td>\n",
       "      <td>['WP Saha', 'Shubman Gill', 'MS Wade', 'HH Pan...</td>\n",
       "      <td>BNJ Oxenford</td>\n",
       "      <td>VK Sharma</td>\n",
       "    </tr>\n",
       "    <tr>\n",
       "      <th>4</th>\n",
       "      <td>1304116</td>\n",
       "      <td>Mumbai</td>\n",
       "      <td>2022-05-22</td>\n",
       "      <td>2022</td>\n",
       "      <td>70</td>\n",
       "      <td>Sunrisers Hyderabad</td>\n",
       "      <td>Punjab Kings</td>\n",
       "      <td>Wankhede Stadium, Mumbai</td>\n",
       "      <td>Sunrisers Hyderabad</td>\n",
       "      <td>bat</td>\n",
       "      <td>N</td>\n",
       "      <td>Punjab Kings</td>\n",
       "      <td>Wickets</td>\n",
       "      <td>5.0</td>\n",
       "      <td>NaN</td>\n",
       "      <td>Harpreet Brar</td>\n",
       "      <td>['PK Garg', 'Abhishek Sharma', 'RA Tripathi', ...</td>\n",
       "      <td>['JM Bairstow', 'S Dhawan', 'M Shahrukh Khan',...</td>\n",
       "      <td>AK Chaudhary</td>\n",
       "      <td>NA Patwardhan</td>\n",
       "    </tr>\n",
       "    <tr>\n",
       "      <th>5</th>\n",
       "      <td>1304115</td>\n",
       "      <td>Mumbai</td>\n",
       "      <td>2022-05-21</td>\n",
       "      <td>2022</td>\n",
       "      <td>69</td>\n",
       "      <td>Delhi Capitals</td>\n",
       "      <td>Mumbai Indians</td>\n",
       "      <td>Wankhede Stadium, Mumbai</td>\n",
       "      <td>Mumbai Indians</td>\n",
       "      <td>field</td>\n",
       "      <td>N</td>\n",
       "      <td>Mumbai Indians</td>\n",
       "      <td>Wickets</td>\n",
       "      <td>5.0</td>\n",
       "      <td>NaN</td>\n",
       "      <td>JJ Bumrah</td>\n",
       "      <td>['PP Shaw', 'DA Warner', 'MR Marsh', 'RR Pant'...</td>\n",
       "      <td>['Ishan Kishan', 'RG Sharma', 'D Brevis', 'Til...</td>\n",
       "      <td>Nitin Menon</td>\n",
       "      <td>Tapan Sharma</td>\n",
       "    </tr>\n",
       "    <tr>\n",
       "      <th>6</th>\n",
       "      <td>1304114</td>\n",
       "      <td>Mumbai</td>\n",
       "      <td>2022-05-20</td>\n",
       "      <td>2022</td>\n",
       "      <td>68</td>\n",
       "      <td>Chennai Super Kings</td>\n",
       "      <td>Rajasthan Royals</td>\n",
       "      <td>Brabourne Stadium, Mumbai</td>\n",
       "      <td>Chennai Super Kings</td>\n",
       "      <td>bat</td>\n",
       "      <td>N</td>\n",
       "      <td>Rajasthan Royals</td>\n",
       "      <td>Wickets</td>\n",
       "      <td>5.0</td>\n",
       "      <td>NaN</td>\n",
       "      <td>R Ashwin</td>\n",
       "      <td>['RD Gaikwad', 'DP Conway', 'MM Ali', 'N Jagad...</td>\n",
       "      <td>['YBK Jaiswal', 'JC Buttler', 'SV Samson', 'D ...</td>\n",
       "      <td>CB Gaffaney</td>\n",
       "      <td>NA Patwardhan</td>\n",
       "    </tr>\n",
       "    <tr>\n",
       "      <th>7</th>\n",
       "      <td>1304113</td>\n",
       "      <td>Mumbai</td>\n",
       "      <td>2022-05-19</td>\n",
       "      <td>2022</td>\n",
       "      <td>67</td>\n",
       "      <td>Gujarat Titans</td>\n",
       "      <td>Royal Challengers Bangalore</td>\n",
       "      <td>Wankhede Stadium, Mumbai</td>\n",
       "      <td>Gujarat Titans</td>\n",
       "      <td>bat</td>\n",
       "      <td>N</td>\n",
       "      <td>Royal Challengers Bangalore</td>\n",
       "      <td>Wickets</td>\n",
       "      <td>8.0</td>\n",
       "      <td>NaN</td>\n",
       "      <td>V Kohli</td>\n",
       "      <td>['WP Saha', 'Shubman Gill', 'MS Wade', 'HH Pan...</td>\n",
       "      <td>['V Kohli', 'F du Plessis', 'GJ Maxwell', 'KD ...</td>\n",
       "      <td>KN Ananthapadmanabhan</td>\n",
       "      <td>GR Sadashiv Iyer</td>\n",
       "    </tr>\n",
       "    <tr>\n",
       "      <th>8</th>\n",
       "      <td>1304112</td>\n",
       "      <td>Navi Mumbai</td>\n",
       "      <td>2022-05-18</td>\n",
       "      <td>2022</td>\n",
       "      <td>66</td>\n",
       "      <td>Lucknow Super Giants</td>\n",
       "      <td>Kolkata Knight Riders</td>\n",
       "      <td>Dr DY Patil Sports Academy, Mumbai</td>\n",
       "      <td>Lucknow Super Giants</td>\n",
       "      <td>bat</td>\n",
       "      <td>N</td>\n",
       "      <td>Lucknow Super Giants</td>\n",
       "      <td>Runs</td>\n",
       "      <td>2.0</td>\n",
       "      <td>NaN</td>\n",
       "      <td>Q de Kock</td>\n",
       "      <td>['Q de Kock', 'KL Rahul', 'E Lewis', 'DJ Hooda...</td>\n",
       "      <td>['VR Iyer', 'A Tomar', 'N Rana', 'SS Iyer', 'S...</td>\n",
       "      <td>R Pandit</td>\n",
       "      <td>YC Barde</td>\n",
       "    </tr>\n",
       "    <tr>\n",
       "      <th>9</th>\n",
       "      <td>1304111</td>\n",
       "      <td>Mumbai</td>\n",
       "      <td>2022-05-17</td>\n",
       "      <td>2022</td>\n",
       "      <td>65</td>\n",
       "      <td>Sunrisers Hyderabad</td>\n",
       "      <td>Mumbai Indians</td>\n",
       "      <td>Wankhede Stadium, Mumbai</td>\n",
       "      <td>Mumbai Indians</td>\n",
       "      <td>field</td>\n",
       "      <td>N</td>\n",
       "      <td>Sunrisers Hyderabad</td>\n",
       "      <td>Runs</td>\n",
       "      <td>3.0</td>\n",
       "      <td>NaN</td>\n",
       "      <td>RA Tripathi</td>\n",
       "      <td>['Abhishek Sharma', 'PK Garg', 'RA Tripathi', ...</td>\n",
       "      <td>['RG Sharma', 'Ishan Kishan', 'DR Sams', 'Tila...</td>\n",
       "      <td>CB Gaffaney</td>\n",
       "      <td>N Pandit</td>\n",
       "    </tr>\n",
       "    <tr>\n",
       "      <th>10</th>\n",
       "      <td>1304110</td>\n",
       "      <td>Navi Mumbai</td>\n",
       "      <td>2022-05-16</td>\n",
       "      <td>2022</td>\n",
       "      <td>64</td>\n",
       "      <td>Delhi Capitals</td>\n",
       "      <td>Punjab Kings</td>\n",
       "      <td>Dr DY Patil Sports Academy, Mumbai</td>\n",
       "      <td>Punjab Kings</td>\n",
       "      <td>field</td>\n",
       "      <td>N</td>\n",
       "      <td>Delhi Capitals</td>\n",
       "      <td>Runs</td>\n",
       "      <td>17.0</td>\n",
       "      <td>NaN</td>\n",
       "      <td>SN Thakur</td>\n",
       "      <td>['DA Warner', 'SN Khan', 'MR Marsh', 'Lalit Ya...</td>\n",
       "      <td>['JM Bairstow', 'S Dhawan', 'PBB Rajapaksa', '...</td>\n",
       "      <td>GR Sadashiv Iyer</td>\n",
       "      <td>Nitin Menon</td>\n",
       "    </tr>\n",
       "    <tr>\n",
       "      <th>11</th>\n",
       "      <td>1304109</td>\n",
       "      <td>Mumbai</td>\n",
       "      <td>2022-05-15</td>\n",
       "      <td>2022</td>\n",
       "      <td>63</td>\n",
       "      <td>Rajasthan Royals</td>\n",
       "      <td>Lucknow Super Giants</td>\n",
       "      <td>Brabourne Stadium, Mumbai</td>\n",
       "      <td>Rajasthan Royals</td>\n",
       "      <td>bat</td>\n",
       "      <td>N</td>\n",
       "      <td>Rajasthan Royals</td>\n",
       "      <td>Runs</td>\n",
       "      <td>24.0</td>\n",
       "      <td>NaN</td>\n",
       "      <td>TA Boult</td>\n",
       "      <td>['YBK Jaiswal', 'JC Buttler', 'SV Samson', 'D ...</td>\n",
       "      <td>['Q de Kock', 'KL Rahul', 'A Badoni', 'DJ Hood...</td>\n",
       "      <td>PG Pathak</td>\n",
       "      <td>Tapan Sharma</td>\n",
       "    </tr>\n",
       "    <tr>\n",
       "      <th>12</th>\n",
       "      <td>1304108</td>\n",
       "      <td>Mumbai</td>\n",
       "      <td>2022-05-15</td>\n",
       "      <td>2022</td>\n",
       "      <td>62</td>\n",
       "      <td>Chennai Super Kings</td>\n",
       "      <td>Gujarat Titans</td>\n",
       "      <td>Wankhede Stadium, Mumbai</td>\n",
       "      <td>Chennai Super Kings</td>\n",
       "      <td>bat</td>\n",
       "      <td>N</td>\n",
       "      <td>Gujarat Titans</td>\n",
       "      <td>Wickets</td>\n",
       "      <td>7.0</td>\n",
       "      <td>NaN</td>\n",
       "      <td>WP Saha</td>\n",
       "      <td>['RD Gaikwad', 'DP Conway', 'MM Ali', 'N Jagad...</td>\n",
       "      <td>['WP Saha', 'Shubman Gill', 'MS Wade', 'HH Pan...</td>\n",
       "      <td>R Pandit</td>\n",
       "      <td>VK Sharma</td>\n",
       "    </tr>\n",
       "    <tr>\n",
       "      <th>13</th>\n",
       "      <td>1304107</td>\n",
       "      <td>Pune</td>\n",
       "      <td>2022-05-14</td>\n",
       "      <td>2022</td>\n",
       "      <td>61</td>\n",
       "      <td>Kolkata Knight Riders</td>\n",
       "      <td>Sunrisers Hyderabad</td>\n",
       "      <td>Maharashtra Cricket Association Stadium, Pune</td>\n",
       "      <td>Kolkata Knight Riders</td>\n",
       "      <td>bat</td>\n",
       "      <td>N</td>\n",
       "      <td>Kolkata Knight Riders</td>\n",
       "      <td>Runs</td>\n",
       "      <td>54.0</td>\n",
       "      <td>NaN</td>\n",
       "      <td>AD Russell</td>\n",
       "      <td>['VR Iyer', 'AM Rahane', 'N Rana', 'SS Iyer', ...</td>\n",
       "      <td>['Abhishek Sharma', 'KS Williamson', 'RA Tripa...</td>\n",
       "      <td>AK Chaudhary</td>\n",
       "      <td>KN Ananthapadmanabhan</td>\n",
       "    </tr>\n",
       "    <tr>\n",
       "      <th>14</th>\n",
       "      <td>1304106</td>\n",
       "      <td>Mumbai</td>\n",
       "      <td>2022-05-13</td>\n",
       "      <td>2022</td>\n",
       "      <td>60</td>\n",
       "      <td>Punjab Kings</td>\n",
       "      <td>Royal Challengers Bangalore</td>\n",
       "      <td>Brabourne Stadium, Mumbai</td>\n",
       "      <td>Royal Challengers Bangalore</td>\n",
       "      <td>field</td>\n",
       "      <td>N</td>\n",
       "      <td>Punjab Kings</td>\n",
       "      <td>Runs</td>\n",
       "      <td>54.0</td>\n",
       "      <td>NaN</td>\n",
       "      <td>JM Bairstow</td>\n",
       "      <td>['JM Bairstow', 'S Dhawan', 'PBB Rajapaksa', '...</td>\n",
       "      <td>['V Kohli', 'F du Plessis', 'RM Patidar', 'MK ...</td>\n",
       "      <td>J Madanagopal</td>\n",
       "      <td>N Pandit</td>\n",
       "    </tr>\n",
       "    <tr>\n",
       "      <th>15</th>\n",
       "      <td>1304105</td>\n",
       "      <td>Mumbai</td>\n",
       "      <td>2022-05-12</td>\n",
       "      <td>2022</td>\n",
       "      <td>59</td>\n",
       "      <td>Chennai Super Kings</td>\n",
       "      <td>Mumbai Indians</td>\n",
       "      <td>Wankhede Stadium, Mumbai</td>\n",
       "      <td>Mumbai Indians</td>\n",
       "      <td>field</td>\n",
       "      <td>N</td>\n",
       "      <td>Mumbai Indians</td>\n",
       "      <td>Wickets</td>\n",
       "      <td>5.0</td>\n",
       "      <td>NaN</td>\n",
       "      <td>DR Sams</td>\n",
       "      <td>['RD Gaikwad', 'DP Conway', 'MM Ali', 'RV Utha...</td>\n",
       "      <td>['Ishan Kishan', 'RG Sharma', 'DR Sams', 'Tila...</td>\n",
       "      <td>Chirra Ravikanthreddy</td>\n",
       "      <td>CB Gaffaney</td>\n",
       "    </tr>\n",
       "    <tr>\n",
       "      <th>16</th>\n",
       "      <td>1304104</td>\n",
       "      <td>Navi Mumbai</td>\n",
       "      <td>2022-05-11</td>\n",
       "      <td>2022</td>\n",
       "      <td>58</td>\n",
       "      <td>Rajasthan Royals</td>\n",
       "      <td>Delhi Capitals</td>\n",
       "      <td>Dr DY Patil Sports Academy, Mumbai</td>\n",
       "      <td>Delhi Capitals</td>\n",
       "      <td>field</td>\n",
       "      <td>N</td>\n",
       "      <td>Delhi Capitals</td>\n",
       "      <td>Wickets</td>\n",
       "      <td>8.0</td>\n",
       "      <td>NaN</td>\n",
       "      <td>MR Marsh</td>\n",
       "      <td>['YBK Jaiswal', 'JC Buttler', 'R Ashwin', 'D P...</td>\n",
       "      <td>['KS Bharat', 'DA Warner', 'MR Marsh', 'RR Pan...</td>\n",
       "      <td>NA Patwardhan</td>\n",
       "      <td>Nitin Menon</td>\n",
       "    </tr>\n",
       "    <tr>\n",
       "      <th>17</th>\n",
       "      <td>1304103</td>\n",
       "      <td>Pune</td>\n",
       "      <td>2022-05-10</td>\n",
       "      <td>2022</td>\n",
       "      <td>57</td>\n",
       "      <td>Gujarat Titans</td>\n",
       "      <td>Lucknow Super Giants</td>\n",
       "      <td>Maharashtra Cricket Association Stadium, Pune</td>\n",
       "      <td>Gujarat Titans</td>\n",
       "      <td>bat</td>\n",
       "      <td>N</td>\n",
       "      <td>Gujarat Titans</td>\n",
       "      <td>Runs</td>\n",
       "      <td>62.0</td>\n",
       "      <td>NaN</td>\n",
       "      <td>Shubman Gill</td>\n",
       "      <td>['WP Saha', 'Shubman Gill', 'MS Wade', 'HH Pan...</td>\n",
       "      <td>['Q de Kock', 'KL Rahul', 'DJ Hooda', 'KS Shar...</td>\n",
       "      <td>KN Ananthapadmanabhan</td>\n",
       "      <td>MA Gough</td>\n",
       "    </tr>\n",
       "    <tr>\n",
       "      <th>18</th>\n",
       "      <td>1304102</td>\n",
       "      <td>Navi Mumbai</td>\n",
       "      <td>2022-05-09</td>\n",
       "      <td>2022</td>\n",
       "      <td>56</td>\n",
       "      <td>Kolkata Knight Riders</td>\n",
       "      <td>Mumbai Indians</td>\n",
       "      <td>Dr DY Patil Sports Academy, Mumbai</td>\n",
       "      <td>Mumbai Indians</td>\n",
       "      <td>field</td>\n",
       "      <td>N</td>\n",
       "      <td>Kolkata Knight Riders</td>\n",
       "      <td>Runs</td>\n",
       "      <td>52.0</td>\n",
       "      <td>NaN</td>\n",
       "      <td>JJ Bumrah</td>\n",
       "      <td>['VR Iyer', 'AM Rahane', 'N Rana', 'SS Iyer', ...</td>\n",
       "      <td>['RG Sharma', 'Ishan Kishan', 'Tilak Varma', '...</td>\n",
       "      <td>CB Gaffaney</td>\n",
       "      <td>GR Sadashiv Iyer</td>\n",
       "    </tr>\n",
       "    <tr>\n",
       "      <th>19</th>\n",
       "      <td>1304101</td>\n",
       "      <td>Navi Mumbai</td>\n",
       "      <td>2022-05-08</td>\n",
       "      <td>2022</td>\n",
       "      <td>55</td>\n",
       "      <td>Chennai Super Kings</td>\n",
       "      <td>Delhi Capitals</td>\n",
       "      <td>Dr DY Patil Sports Academy, Mumbai</td>\n",
       "      <td>Delhi Capitals</td>\n",
       "      <td>field</td>\n",
       "      <td>N</td>\n",
       "      <td>Chennai Super Kings</td>\n",
       "      <td>Runs</td>\n",
       "      <td>91.0</td>\n",
       "      <td>NaN</td>\n",
       "      <td>DP Conway</td>\n",
       "      <td>['RD Gaikwad', 'DP Conway', 'S Dube', 'AT Rayu...</td>\n",
       "      <td>['DA Warner', 'KS Bharat', 'MR Marsh', 'RR Pan...</td>\n",
       "      <td>Nitin Menon</td>\n",
       "      <td>R Pandit</td>\n",
       "    </tr>\n",
       "  </tbody>\n",
       "</table>\n",
       "</div>"
      ],
      "text/plain": [
       "         ID         City        Date Season  MatchNumber  \\\n",
       "0   1312200    Ahmedabad  2022-05-29   2022        Final   \n",
       "1   1312199    Ahmedabad  2022-05-27   2022  Qualifier 2   \n",
       "2   1312198      Kolkata  2022-05-25   2022   Eliminator   \n",
       "3   1312197      Kolkata  2022-05-24   2022  Qualifier 1   \n",
       "4   1304116       Mumbai  2022-05-22   2022           70   \n",
       "5   1304115       Mumbai  2022-05-21   2022           69   \n",
       "6   1304114       Mumbai  2022-05-20   2022           68   \n",
       "7   1304113       Mumbai  2022-05-19   2022           67   \n",
       "8   1304112  Navi Mumbai  2022-05-18   2022           66   \n",
       "9   1304111       Mumbai  2022-05-17   2022           65   \n",
       "10  1304110  Navi Mumbai  2022-05-16   2022           64   \n",
       "11  1304109       Mumbai  2022-05-15   2022           63   \n",
       "12  1304108       Mumbai  2022-05-15   2022           62   \n",
       "13  1304107         Pune  2022-05-14   2022           61   \n",
       "14  1304106       Mumbai  2022-05-13   2022           60   \n",
       "15  1304105       Mumbai  2022-05-12   2022           59   \n",
       "16  1304104  Navi Mumbai  2022-05-11   2022           58   \n",
       "17  1304103         Pune  2022-05-10   2022           57   \n",
       "18  1304102  Navi Mumbai  2022-05-09   2022           56   \n",
       "19  1304101  Navi Mumbai  2022-05-08   2022           55   \n",
       "\n",
       "                          Team1                        Team2  \\\n",
       "0              Rajasthan Royals               Gujarat Titans   \n",
       "1   Royal Challengers Bangalore             Rajasthan Royals   \n",
       "2   Royal Challengers Bangalore         Lucknow Super Giants   \n",
       "3              Rajasthan Royals               Gujarat Titans   \n",
       "4           Sunrisers Hyderabad                 Punjab Kings   \n",
       "5                Delhi Capitals               Mumbai Indians   \n",
       "6           Chennai Super Kings             Rajasthan Royals   \n",
       "7                Gujarat Titans  Royal Challengers Bangalore   \n",
       "8          Lucknow Super Giants        Kolkata Knight Riders   \n",
       "9           Sunrisers Hyderabad               Mumbai Indians   \n",
       "10               Delhi Capitals                 Punjab Kings   \n",
       "11             Rajasthan Royals         Lucknow Super Giants   \n",
       "12          Chennai Super Kings               Gujarat Titans   \n",
       "13        Kolkata Knight Riders          Sunrisers Hyderabad   \n",
       "14                 Punjab Kings  Royal Challengers Bangalore   \n",
       "15          Chennai Super Kings               Mumbai Indians   \n",
       "16             Rajasthan Royals               Delhi Capitals   \n",
       "17               Gujarat Titans         Lucknow Super Giants   \n",
       "18        Kolkata Knight Riders               Mumbai Indians   \n",
       "19          Chennai Super Kings               Delhi Capitals   \n",
       "\n",
       "                                            Venue  \\\n",
       "0                Narendra Modi Stadium, Ahmedabad   \n",
       "1                Narendra Modi Stadium, Ahmedabad   \n",
       "2                           Eden Gardens, Kolkata   \n",
       "3                           Eden Gardens, Kolkata   \n",
       "4                        Wankhede Stadium, Mumbai   \n",
       "5                        Wankhede Stadium, Mumbai   \n",
       "6                       Brabourne Stadium, Mumbai   \n",
       "7                        Wankhede Stadium, Mumbai   \n",
       "8              Dr DY Patil Sports Academy, Mumbai   \n",
       "9                        Wankhede Stadium, Mumbai   \n",
       "10             Dr DY Patil Sports Academy, Mumbai   \n",
       "11                      Brabourne Stadium, Mumbai   \n",
       "12                       Wankhede Stadium, Mumbai   \n",
       "13  Maharashtra Cricket Association Stadium, Pune   \n",
       "14                      Brabourne Stadium, Mumbai   \n",
       "15                       Wankhede Stadium, Mumbai   \n",
       "16             Dr DY Patil Sports Academy, Mumbai   \n",
       "17  Maharashtra Cricket Association Stadium, Pune   \n",
       "18             Dr DY Patil Sports Academy, Mumbai   \n",
       "19             Dr DY Patil Sports Academy, Mumbai   \n",
       "\n",
       "                     TossWinner TossDecision SuperOver  \\\n",
       "0              Rajasthan Royals          bat         N   \n",
       "1              Rajasthan Royals        field         N   \n",
       "2          Lucknow Super Giants        field         N   \n",
       "3                Gujarat Titans        field         N   \n",
       "4           Sunrisers Hyderabad          bat         N   \n",
       "5                Mumbai Indians        field         N   \n",
       "6           Chennai Super Kings          bat         N   \n",
       "7                Gujarat Titans          bat         N   \n",
       "8          Lucknow Super Giants          bat         N   \n",
       "9                Mumbai Indians        field         N   \n",
       "10                 Punjab Kings        field         N   \n",
       "11             Rajasthan Royals          bat         N   \n",
       "12          Chennai Super Kings          bat         N   \n",
       "13        Kolkata Knight Riders          bat         N   \n",
       "14  Royal Challengers Bangalore        field         N   \n",
       "15               Mumbai Indians        field         N   \n",
       "16               Delhi Capitals        field         N   \n",
       "17               Gujarat Titans          bat         N   \n",
       "18               Mumbai Indians        field         N   \n",
       "19               Delhi Capitals        field         N   \n",
       "\n",
       "                    WinningTeam    WonBy  Margin method Player_of_Match  \\\n",
       "0                Gujarat Titans  Wickets     7.0    NaN       HH Pandya   \n",
       "1              Rajasthan Royals  Wickets     7.0    NaN      JC Buttler   \n",
       "2   Royal Challengers Bangalore     Runs    14.0    NaN      RM Patidar   \n",
       "3                Gujarat Titans  Wickets     7.0    NaN       DA Miller   \n",
       "4                  Punjab Kings  Wickets     5.0    NaN   Harpreet Brar   \n",
       "5                Mumbai Indians  Wickets     5.0    NaN       JJ Bumrah   \n",
       "6              Rajasthan Royals  Wickets     5.0    NaN        R Ashwin   \n",
       "7   Royal Challengers Bangalore  Wickets     8.0    NaN         V Kohli   \n",
       "8          Lucknow Super Giants     Runs     2.0    NaN       Q de Kock   \n",
       "9           Sunrisers Hyderabad     Runs     3.0    NaN     RA Tripathi   \n",
       "10               Delhi Capitals     Runs    17.0    NaN       SN Thakur   \n",
       "11             Rajasthan Royals     Runs    24.0    NaN        TA Boult   \n",
       "12               Gujarat Titans  Wickets     7.0    NaN         WP Saha   \n",
       "13        Kolkata Knight Riders     Runs    54.0    NaN      AD Russell   \n",
       "14                 Punjab Kings     Runs    54.0    NaN     JM Bairstow   \n",
       "15               Mumbai Indians  Wickets     5.0    NaN         DR Sams   \n",
       "16               Delhi Capitals  Wickets     8.0    NaN        MR Marsh   \n",
       "17               Gujarat Titans     Runs    62.0    NaN    Shubman Gill   \n",
       "18        Kolkata Knight Riders     Runs    52.0    NaN       JJ Bumrah   \n",
       "19          Chennai Super Kings     Runs    91.0    NaN       DP Conway   \n",
       "\n",
       "                                         Team1Players  \\\n",
       "0   ['YBK Jaiswal', 'JC Buttler', 'SV Samson', 'D ...   \n",
       "1   ['V Kohli', 'F du Plessis', 'RM Patidar', 'GJ ...   \n",
       "2   ['V Kohli', 'F du Plessis', 'RM Patidar', 'GJ ...   \n",
       "3   ['YBK Jaiswal', 'JC Buttler', 'SV Samson', 'D ...   \n",
       "4   ['PK Garg', 'Abhishek Sharma', 'RA Tripathi', ...   \n",
       "5   ['PP Shaw', 'DA Warner', 'MR Marsh', 'RR Pant'...   \n",
       "6   ['RD Gaikwad', 'DP Conway', 'MM Ali', 'N Jagad...   \n",
       "7   ['WP Saha', 'Shubman Gill', 'MS Wade', 'HH Pan...   \n",
       "8   ['Q de Kock', 'KL Rahul', 'E Lewis', 'DJ Hooda...   \n",
       "9   ['Abhishek Sharma', 'PK Garg', 'RA Tripathi', ...   \n",
       "10  ['DA Warner', 'SN Khan', 'MR Marsh', 'Lalit Ya...   \n",
       "11  ['YBK Jaiswal', 'JC Buttler', 'SV Samson', 'D ...   \n",
       "12  ['RD Gaikwad', 'DP Conway', 'MM Ali', 'N Jagad...   \n",
       "13  ['VR Iyer', 'AM Rahane', 'N Rana', 'SS Iyer', ...   \n",
       "14  ['JM Bairstow', 'S Dhawan', 'PBB Rajapaksa', '...   \n",
       "15  ['RD Gaikwad', 'DP Conway', 'MM Ali', 'RV Utha...   \n",
       "16  ['YBK Jaiswal', 'JC Buttler', 'R Ashwin', 'D P...   \n",
       "17  ['WP Saha', 'Shubman Gill', 'MS Wade', 'HH Pan...   \n",
       "18  ['VR Iyer', 'AM Rahane', 'N Rana', 'SS Iyer', ...   \n",
       "19  ['RD Gaikwad', 'DP Conway', 'S Dube', 'AT Rayu...   \n",
       "\n",
       "                                         Team2Players                Umpire1  \\\n",
       "0   ['WP Saha', 'Shubman Gill', 'MS Wade', 'HH Pan...            CB Gaffaney   \n",
       "1   ['YBK Jaiswal', 'JC Buttler', 'SV Samson', 'D ...            CB Gaffaney   \n",
       "2   ['Q de Kock', 'KL Rahul', 'M Vohra', 'DJ Hooda...          J Madanagopal   \n",
       "3   ['WP Saha', 'Shubman Gill', 'MS Wade', 'HH Pan...           BNJ Oxenford   \n",
       "4   ['JM Bairstow', 'S Dhawan', 'M Shahrukh Khan',...           AK Chaudhary   \n",
       "5   ['Ishan Kishan', 'RG Sharma', 'D Brevis', 'Til...            Nitin Menon   \n",
       "6   ['YBK Jaiswal', 'JC Buttler', 'SV Samson', 'D ...            CB Gaffaney   \n",
       "7   ['V Kohli', 'F du Plessis', 'GJ Maxwell', 'KD ...  KN Ananthapadmanabhan   \n",
       "8   ['VR Iyer', 'A Tomar', 'N Rana', 'SS Iyer', 'S...               R Pandit   \n",
       "9   ['RG Sharma', 'Ishan Kishan', 'DR Sams', 'Tila...            CB Gaffaney   \n",
       "10  ['JM Bairstow', 'S Dhawan', 'PBB Rajapaksa', '...       GR Sadashiv Iyer   \n",
       "11  ['Q de Kock', 'KL Rahul', 'A Badoni', 'DJ Hood...              PG Pathak   \n",
       "12  ['WP Saha', 'Shubman Gill', 'MS Wade', 'HH Pan...               R Pandit   \n",
       "13  ['Abhishek Sharma', 'KS Williamson', 'RA Tripa...           AK Chaudhary   \n",
       "14  ['V Kohli', 'F du Plessis', 'RM Patidar', 'MK ...          J Madanagopal   \n",
       "15  ['Ishan Kishan', 'RG Sharma', 'DR Sams', 'Tila...  Chirra Ravikanthreddy   \n",
       "16  ['KS Bharat', 'DA Warner', 'MR Marsh', 'RR Pan...          NA Patwardhan   \n",
       "17  ['Q de Kock', 'KL Rahul', 'DJ Hooda', 'KS Shar...  KN Ananthapadmanabhan   \n",
       "18  ['RG Sharma', 'Ishan Kishan', 'Tilak Varma', '...            CB Gaffaney   \n",
       "19  ['DA Warner', 'KS Bharat', 'MR Marsh', 'RR Pan...            Nitin Menon   \n",
       "\n",
       "                  Umpire2  \n",
       "0             Nitin Menon  \n",
       "1             Nitin Menon  \n",
       "2                MA Gough  \n",
       "3               VK Sharma  \n",
       "4           NA Patwardhan  \n",
       "5            Tapan Sharma  \n",
       "6           NA Patwardhan  \n",
       "7        GR Sadashiv Iyer  \n",
       "8                YC Barde  \n",
       "9                N Pandit  \n",
       "10            Nitin Menon  \n",
       "11           Tapan Sharma  \n",
       "12              VK Sharma  \n",
       "13  KN Ananthapadmanabhan  \n",
       "14               N Pandit  \n",
       "15            CB Gaffaney  \n",
       "16            Nitin Menon  \n",
       "17               MA Gough  \n",
       "18       GR Sadashiv Iyer  \n",
       "19               R Pandit  "
      ]
     },
     "execution_count": 5,
     "metadata": {},
     "output_type": "execute_result"
    }
   ],
   "source": [
    "import pandas as pd\n",
    "ipl = pd.read_csv('D:/14_My Practice/Datasets/ipl-matches.csv')\n",
    "ipl.head(3)\n",
    "A = ipl[:20]\n",
    "A"
   ]
  },
  {
   "cell_type": "code",
   "execution_count": 6,
   "id": "a30c8341",
   "metadata": {},
   "outputs": [
    {
     "data": {
      "text/html": [
       "<div>\n",
       "<style scoped>\n",
       "    .dataframe tbody tr th:only-of-type {\n",
       "        vertical-align: middle;\n",
       "    }\n",
       "\n",
       "    .dataframe tbody tr th {\n",
       "        vertical-align: top;\n",
       "    }\n",
       "\n",
       "    .dataframe thead th {\n",
       "        text-align: right;\n",
       "    }\n",
       "</style>\n",
       "<table border=\"1\" class=\"dataframe\">\n",
       "  <thead>\n",
       "    <tr style=\"text-align: right;\">\n",
       "      <th></th>\n",
       "      <th>course_id</th>\n",
       "      <th>course_name</th>\n",
       "      <th>price</th>\n",
       "    </tr>\n",
       "  </thead>\n",
       "  <tbody>\n",
       "    <tr>\n",
       "      <th>0</th>\n",
       "      <td>1</td>\n",
       "      <td>python</td>\n",
       "      <td>2499</td>\n",
       "    </tr>\n",
       "    <tr>\n",
       "      <th>1</th>\n",
       "      <td>2</td>\n",
       "      <td>sql</td>\n",
       "      <td>3499</td>\n",
       "    </tr>\n",
       "    <tr>\n",
       "      <th>2</th>\n",
       "      <td>3</td>\n",
       "      <td>data analysis</td>\n",
       "      <td>4999</td>\n",
       "    </tr>\n",
       "    <tr>\n",
       "      <th>3</th>\n",
       "      <td>4</td>\n",
       "      <td>machine learning</td>\n",
       "      <td>9999</td>\n",
       "    </tr>\n",
       "    <tr>\n",
       "      <th>4</th>\n",
       "      <td>5</td>\n",
       "      <td>tableau</td>\n",
       "      <td>2499</td>\n",
       "    </tr>\n",
       "    <tr>\n",
       "      <th>5</th>\n",
       "      <td>6</td>\n",
       "      <td>power bi</td>\n",
       "      <td>1899</td>\n",
       "    </tr>\n",
       "    <tr>\n",
       "      <th>6</th>\n",
       "      <td>7</td>\n",
       "      <td>ms sxcel</td>\n",
       "      <td>1599</td>\n",
       "    </tr>\n",
       "    <tr>\n",
       "      <th>7</th>\n",
       "      <td>8</td>\n",
       "      <td>pandas</td>\n",
       "      <td>1099</td>\n",
       "    </tr>\n",
       "    <tr>\n",
       "      <th>8</th>\n",
       "      <td>9</td>\n",
       "      <td>plotly</td>\n",
       "      <td>699</td>\n",
       "    </tr>\n",
       "    <tr>\n",
       "      <th>9</th>\n",
       "      <td>10</td>\n",
       "      <td>pyspark</td>\n",
       "      <td>2499</td>\n",
       "    </tr>\n",
       "    <tr>\n",
       "      <th>10</th>\n",
       "      <td>11</td>\n",
       "      <td>Numpy</td>\n",
       "      <td>699</td>\n",
       "    </tr>\n",
       "    <tr>\n",
       "      <th>11</th>\n",
       "      <td>12</td>\n",
       "      <td>C++</td>\n",
       "      <td>1299</td>\n",
       "    </tr>\n",
       "  </tbody>\n",
       "</table>\n",
       "</div>"
      ],
      "text/plain": [
       "    course_id       course_name  price\n",
       "0           1            python   2499\n",
       "1           2               sql   3499\n",
       "2           3     data analysis   4999\n",
       "3           4  machine learning   9999\n",
       "4           5           tableau   2499\n",
       "5           6          power bi   1899\n",
       "6           7          ms sxcel   1599\n",
       "7           8            pandas   1099\n",
       "8           9            plotly    699\n",
       "9          10           pyspark   2499\n",
       "10         11             Numpy    699\n",
       "11         12               C++   1299"
      ]
     },
     "execution_count": 6,
     "metadata": {},
     "output_type": "execute_result"
    }
   ],
   "source": [
    "courses = pd.read_csv('D:/14_My Practice/Datasets/courses.csv')\n",
    "courses.head(3)\n",
    "B = courses[:20]\n",
    "B"
   ]
  },
  {
   "cell_type": "code",
   "execution_count": 12,
   "id": "d2ffb279",
   "metadata": {},
   "outputs": [
    {
     "data": {
      "text/plain": [
       "Index(['ID', 'City', 'Date', 'Season', 'MatchNumber', 'Team1', 'Team2',\n",
       "       'Venue', 'TossWinner', 'TossDecision', 'SuperOver', 'WinningTeam',\n",
       "       'WonBy', 'Margin', 'method', 'Player_of_Match', 'Team1Players',\n",
       "       'Team2Players', 'Umpire1', 'Umpire2', 'course_id', 'course_name',\n",
       "       'price'],\n",
       "      dtype='object')"
      ]
     },
     "execution_count": 12,
     "metadata": {},
     "output_type": "execute_result"
    }
   ],
   "source": [
    "X = pd.concat([A,B],axis=1)\n",
    "X.columns"
   ]
  },
  {
   "cell_type": "code",
   "execution_count": 13,
   "id": "2a4aaa93",
   "metadata": {},
   "outputs": [
    {
     "data": {
      "text/html": [
       "<div>\n",
       "<style scoped>\n",
       "    .dataframe tbody tr th:only-of-type {\n",
       "        vertical-align: middle;\n",
       "    }\n",
       "\n",
       "    .dataframe tbody tr th {\n",
       "        vertical-align: top;\n",
       "    }\n",
       "\n",
       "    .dataframe thead th {\n",
       "        text-align: right;\n",
       "    }\n",
       "</style>\n",
       "<table border=\"1\" class=\"dataframe\">\n",
       "  <thead>\n",
       "    <tr style=\"text-align: right;\">\n",
       "      <th></th>\n",
       "      <th>Player_of_Match</th>\n",
       "      <th>Team1Players</th>\n",
       "      <th>Team2Players</th>\n",
       "      <th>Umpire1</th>\n",
       "      <th>Umpire2</th>\n",
       "      <th>course_id</th>\n",
       "      <th>course_name</th>\n",
       "      <th>price</th>\n",
       "    </tr>\n",
       "  </thead>\n",
       "  <tbody>\n",
       "    <tr>\n",
       "      <th>0</th>\n",
       "      <td>HH Pandya</td>\n",
       "      <td>['YBK Jaiswal', 'JC Buttler', 'SV Samson', 'D ...</td>\n",
       "      <td>['WP Saha', 'Shubman Gill', 'MS Wade', 'HH Pan...</td>\n",
       "      <td>CB Gaffaney</td>\n",
       "      <td>Nitin Menon</td>\n",
       "      <td>1.0</td>\n",
       "      <td>python</td>\n",
       "      <td>2499.0</td>\n",
       "    </tr>\n",
       "    <tr>\n",
       "      <th>1</th>\n",
       "      <td>JC Buttler</td>\n",
       "      <td>['V Kohli', 'F du Plessis', 'RM Patidar', 'GJ ...</td>\n",
       "      <td>['YBK Jaiswal', 'JC Buttler', 'SV Samson', 'D ...</td>\n",
       "      <td>CB Gaffaney</td>\n",
       "      <td>Nitin Menon</td>\n",
       "      <td>2.0</td>\n",
       "      <td>sql</td>\n",
       "      <td>3499.0</td>\n",
       "    </tr>\n",
       "    <tr>\n",
       "      <th>2</th>\n",
       "      <td>RM Patidar</td>\n",
       "      <td>['V Kohli', 'F du Plessis', 'RM Patidar', 'GJ ...</td>\n",
       "      <td>['Q de Kock', 'KL Rahul', 'M Vohra', 'DJ Hooda...</td>\n",
       "      <td>J Madanagopal</td>\n",
       "      <td>MA Gough</td>\n",
       "      <td>3.0</td>\n",
       "      <td>data analysis</td>\n",
       "      <td>4999.0</td>\n",
       "    </tr>\n",
       "    <tr>\n",
       "      <th>3</th>\n",
       "      <td>DA Miller</td>\n",
       "      <td>['YBK Jaiswal', 'JC Buttler', 'SV Samson', 'D ...</td>\n",
       "      <td>['WP Saha', 'Shubman Gill', 'MS Wade', 'HH Pan...</td>\n",
       "      <td>BNJ Oxenford</td>\n",
       "      <td>VK Sharma</td>\n",
       "      <td>4.0</td>\n",
       "      <td>machine learning</td>\n",
       "      <td>9999.0</td>\n",
       "    </tr>\n",
       "    <tr>\n",
       "      <th>4</th>\n",
       "      <td>Harpreet Brar</td>\n",
       "      <td>['PK Garg', 'Abhishek Sharma', 'RA Tripathi', ...</td>\n",
       "      <td>['JM Bairstow', 'S Dhawan', 'M Shahrukh Khan',...</td>\n",
       "      <td>AK Chaudhary</td>\n",
       "      <td>NA Patwardhan</td>\n",
       "      <td>5.0</td>\n",
       "      <td>tableau</td>\n",
       "      <td>2499.0</td>\n",
       "    </tr>\n",
       "    <tr>\n",
       "      <th>5</th>\n",
       "      <td>JJ Bumrah</td>\n",
       "      <td>['PP Shaw', 'DA Warner', 'MR Marsh', 'RR Pant'...</td>\n",
       "      <td>['Ishan Kishan', 'RG Sharma', 'D Brevis', 'Til...</td>\n",
       "      <td>Nitin Menon</td>\n",
       "      <td>Tapan Sharma</td>\n",
       "      <td>6.0</td>\n",
       "      <td>power bi</td>\n",
       "      <td>1899.0</td>\n",
       "    </tr>\n",
       "    <tr>\n",
       "      <th>6</th>\n",
       "      <td>R Ashwin</td>\n",
       "      <td>['RD Gaikwad', 'DP Conway', 'MM Ali', 'N Jagad...</td>\n",
       "      <td>['YBK Jaiswal', 'JC Buttler', 'SV Samson', 'D ...</td>\n",
       "      <td>CB Gaffaney</td>\n",
       "      <td>NA Patwardhan</td>\n",
       "      <td>7.0</td>\n",
       "      <td>ms sxcel</td>\n",
       "      <td>1599.0</td>\n",
       "    </tr>\n",
       "    <tr>\n",
       "      <th>7</th>\n",
       "      <td>V Kohli</td>\n",
       "      <td>['WP Saha', 'Shubman Gill', 'MS Wade', 'HH Pan...</td>\n",
       "      <td>['V Kohli', 'F du Plessis', 'GJ Maxwell', 'KD ...</td>\n",
       "      <td>KN Ananthapadmanabhan</td>\n",
       "      <td>GR Sadashiv Iyer</td>\n",
       "      <td>8.0</td>\n",
       "      <td>pandas</td>\n",
       "      <td>1099.0</td>\n",
       "    </tr>\n",
       "    <tr>\n",
       "      <th>8</th>\n",
       "      <td>Q de Kock</td>\n",
       "      <td>['Q de Kock', 'KL Rahul', 'E Lewis', 'DJ Hooda...</td>\n",
       "      <td>['VR Iyer', 'A Tomar', 'N Rana', 'SS Iyer', 'S...</td>\n",
       "      <td>R Pandit</td>\n",
       "      <td>YC Barde</td>\n",
       "      <td>9.0</td>\n",
       "      <td>plotly</td>\n",
       "      <td>699.0</td>\n",
       "    </tr>\n",
       "    <tr>\n",
       "      <th>9</th>\n",
       "      <td>RA Tripathi</td>\n",
       "      <td>['Abhishek Sharma', 'PK Garg', 'RA Tripathi', ...</td>\n",
       "      <td>['RG Sharma', 'Ishan Kishan', 'DR Sams', 'Tila...</td>\n",
       "      <td>CB Gaffaney</td>\n",
       "      <td>N Pandit</td>\n",
       "      <td>10.0</td>\n",
       "      <td>pyspark</td>\n",
       "      <td>2499.0</td>\n",
       "    </tr>\n",
       "    <tr>\n",
       "      <th>10</th>\n",
       "      <td>SN Thakur</td>\n",
       "      <td>['DA Warner', 'SN Khan', 'MR Marsh', 'Lalit Ya...</td>\n",
       "      <td>['JM Bairstow', 'S Dhawan', 'PBB Rajapaksa', '...</td>\n",
       "      <td>GR Sadashiv Iyer</td>\n",
       "      <td>Nitin Menon</td>\n",
       "      <td>11.0</td>\n",
       "      <td>Numpy</td>\n",
       "      <td>699.0</td>\n",
       "    </tr>\n",
       "    <tr>\n",
       "      <th>11</th>\n",
       "      <td>TA Boult</td>\n",
       "      <td>['YBK Jaiswal', 'JC Buttler', 'SV Samson', 'D ...</td>\n",
       "      <td>['Q de Kock', 'KL Rahul', 'A Badoni', 'DJ Hood...</td>\n",
       "      <td>PG Pathak</td>\n",
       "      <td>Tapan Sharma</td>\n",
       "      <td>12.0</td>\n",
       "      <td>C++</td>\n",
       "      <td>1299.0</td>\n",
       "    </tr>\n",
       "    <tr>\n",
       "      <th>12</th>\n",
       "      <td>WP Saha</td>\n",
       "      <td>['RD Gaikwad', 'DP Conway', 'MM Ali', 'N Jagad...</td>\n",
       "      <td>['WP Saha', 'Shubman Gill', 'MS Wade', 'HH Pan...</td>\n",
       "      <td>R Pandit</td>\n",
       "      <td>VK Sharma</td>\n",
       "      <td>NaN</td>\n",
       "      <td>NaN</td>\n",
       "      <td>NaN</td>\n",
       "    </tr>\n",
       "    <tr>\n",
       "      <th>13</th>\n",
       "      <td>AD Russell</td>\n",
       "      <td>['VR Iyer', 'AM Rahane', 'N Rana', 'SS Iyer', ...</td>\n",
       "      <td>['Abhishek Sharma', 'KS Williamson', 'RA Tripa...</td>\n",
       "      <td>AK Chaudhary</td>\n",
       "      <td>KN Ananthapadmanabhan</td>\n",
       "      <td>NaN</td>\n",
       "      <td>NaN</td>\n",
       "      <td>NaN</td>\n",
       "    </tr>\n",
       "    <tr>\n",
       "      <th>14</th>\n",
       "      <td>JM Bairstow</td>\n",
       "      <td>['JM Bairstow', 'S Dhawan', 'PBB Rajapaksa', '...</td>\n",
       "      <td>['V Kohli', 'F du Plessis', 'RM Patidar', 'MK ...</td>\n",
       "      <td>J Madanagopal</td>\n",
       "      <td>N Pandit</td>\n",
       "      <td>NaN</td>\n",
       "      <td>NaN</td>\n",
       "      <td>NaN</td>\n",
       "    </tr>\n",
       "    <tr>\n",
       "      <th>15</th>\n",
       "      <td>DR Sams</td>\n",
       "      <td>['RD Gaikwad', 'DP Conway', 'MM Ali', 'RV Utha...</td>\n",
       "      <td>['Ishan Kishan', 'RG Sharma', 'DR Sams', 'Tila...</td>\n",
       "      <td>Chirra Ravikanthreddy</td>\n",
       "      <td>CB Gaffaney</td>\n",
       "      <td>NaN</td>\n",
       "      <td>NaN</td>\n",
       "      <td>NaN</td>\n",
       "    </tr>\n",
       "    <tr>\n",
       "      <th>16</th>\n",
       "      <td>MR Marsh</td>\n",
       "      <td>['YBK Jaiswal', 'JC Buttler', 'R Ashwin', 'D P...</td>\n",
       "      <td>['KS Bharat', 'DA Warner', 'MR Marsh', 'RR Pan...</td>\n",
       "      <td>NA Patwardhan</td>\n",
       "      <td>Nitin Menon</td>\n",
       "      <td>NaN</td>\n",
       "      <td>NaN</td>\n",
       "      <td>NaN</td>\n",
       "    </tr>\n",
       "    <tr>\n",
       "      <th>17</th>\n",
       "      <td>Shubman Gill</td>\n",
       "      <td>['WP Saha', 'Shubman Gill', 'MS Wade', 'HH Pan...</td>\n",
       "      <td>['Q de Kock', 'KL Rahul', 'DJ Hooda', 'KS Shar...</td>\n",
       "      <td>KN Ananthapadmanabhan</td>\n",
       "      <td>MA Gough</td>\n",
       "      <td>NaN</td>\n",
       "      <td>NaN</td>\n",
       "      <td>NaN</td>\n",
       "    </tr>\n",
       "    <tr>\n",
       "      <th>18</th>\n",
       "      <td>JJ Bumrah</td>\n",
       "      <td>['VR Iyer', 'AM Rahane', 'N Rana', 'SS Iyer', ...</td>\n",
       "      <td>['RG Sharma', 'Ishan Kishan', 'Tilak Varma', '...</td>\n",
       "      <td>CB Gaffaney</td>\n",
       "      <td>GR Sadashiv Iyer</td>\n",
       "      <td>NaN</td>\n",
       "      <td>NaN</td>\n",
       "      <td>NaN</td>\n",
       "    </tr>\n",
       "    <tr>\n",
       "      <th>19</th>\n",
       "      <td>DP Conway</td>\n",
       "      <td>['RD Gaikwad', 'DP Conway', 'S Dube', 'AT Rayu...</td>\n",
       "      <td>['DA Warner', 'KS Bharat', 'MR Marsh', 'RR Pan...</td>\n",
       "      <td>Nitin Menon</td>\n",
       "      <td>R Pandit</td>\n",
       "      <td>NaN</td>\n",
       "      <td>NaN</td>\n",
       "      <td>NaN</td>\n",
       "    </tr>\n",
       "  </tbody>\n",
       "</table>\n",
       "</div>"
      ],
      "text/plain": [
       "   Player_of_Match                                       Team1Players  \\\n",
       "0        HH Pandya  ['YBK Jaiswal', 'JC Buttler', 'SV Samson', 'D ...   \n",
       "1       JC Buttler  ['V Kohli', 'F du Plessis', 'RM Patidar', 'GJ ...   \n",
       "2       RM Patidar  ['V Kohli', 'F du Plessis', 'RM Patidar', 'GJ ...   \n",
       "3        DA Miller  ['YBK Jaiswal', 'JC Buttler', 'SV Samson', 'D ...   \n",
       "4    Harpreet Brar  ['PK Garg', 'Abhishek Sharma', 'RA Tripathi', ...   \n",
       "5        JJ Bumrah  ['PP Shaw', 'DA Warner', 'MR Marsh', 'RR Pant'...   \n",
       "6         R Ashwin  ['RD Gaikwad', 'DP Conway', 'MM Ali', 'N Jagad...   \n",
       "7          V Kohli  ['WP Saha', 'Shubman Gill', 'MS Wade', 'HH Pan...   \n",
       "8        Q de Kock  ['Q de Kock', 'KL Rahul', 'E Lewis', 'DJ Hooda...   \n",
       "9      RA Tripathi  ['Abhishek Sharma', 'PK Garg', 'RA Tripathi', ...   \n",
       "10       SN Thakur  ['DA Warner', 'SN Khan', 'MR Marsh', 'Lalit Ya...   \n",
       "11        TA Boult  ['YBK Jaiswal', 'JC Buttler', 'SV Samson', 'D ...   \n",
       "12         WP Saha  ['RD Gaikwad', 'DP Conway', 'MM Ali', 'N Jagad...   \n",
       "13      AD Russell  ['VR Iyer', 'AM Rahane', 'N Rana', 'SS Iyer', ...   \n",
       "14     JM Bairstow  ['JM Bairstow', 'S Dhawan', 'PBB Rajapaksa', '...   \n",
       "15         DR Sams  ['RD Gaikwad', 'DP Conway', 'MM Ali', 'RV Utha...   \n",
       "16        MR Marsh  ['YBK Jaiswal', 'JC Buttler', 'R Ashwin', 'D P...   \n",
       "17    Shubman Gill  ['WP Saha', 'Shubman Gill', 'MS Wade', 'HH Pan...   \n",
       "18       JJ Bumrah  ['VR Iyer', 'AM Rahane', 'N Rana', 'SS Iyer', ...   \n",
       "19       DP Conway  ['RD Gaikwad', 'DP Conway', 'S Dube', 'AT Rayu...   \n",
       "\n",
       "                                         Team2Players                Umpire1  \\\n",
       "0   ['WP Saha', 'Shubman Gill', 'MS Wade', 'HH Pan...            CB Gaffaney   \n",
       "1   ['YBK Jaiswal', 'JC Buttler', 'SV Samson', 'D ...            CB Gaffaney   \n",
       "2   ['Q de Kock', 'KL Rahul', 'M Vohra', 'DJ Hooda...          J Madanagopal   \n",
       "3   ['WP Saha', 'Shubman Gill', 'MS Wade', 'HH Pan...           BNJ Oxenford   \n",
       "4   ['JM Bairstow', 'S Dhawan', 'M Shahrukh Khan',...           AK Chaudhary   \n",
       "5   ['Ishan Kishan', 'RG Sharma', 'D Brevis', 'Til...            Nitin Menon   \n",
       "6   ['YBK Jaiswal', 'JC Buttler', 'SV Samson', 'D ...            CB Gaffaney   \n",
       "7   ['V Kohli', 'F du Plessis', 'GJ Maxwell', 'KD ...  KN Ananthapadmanabhan   \n",
       "8   ['VR Iyer', 'A Tomar', 'N Rana', 'SS Iyer', 'S...               R Pandit   \n",
       "9   ['RG Sharma', 'Ishan Kishan', 'DR Sams', 'Tila...            CB Gaffaney   \n",
       "10  ['JM Bairstow', 'S Dhawan', 'PBB Rajapaksa', '...       GR Sadashiv Iyer   \n",
       "11  ['Q de Kock', 'KL Rahul', 'A Badoni', 'DJ Hood...              PG Pathak   \n",
       "12  ['WP Saha', 'Shubman Gill', 'MS Wade', 'HH Pan...               R Pandit   \n",
       "13  ['Abhishek Sharma', 'KS Williamson', 'RA Tripa...           AK Chaudhary   \n",
       "14  ['V Kohli', 'F du Plessis', 'RM Patidar', 'MK ...          J Madanagopal   \n",
       "15  ['Ishan Kishan', 'RG Sharma', 'DR Sams', 'Tila...  Chirra Ravikanthreddy   \n",
       "16  ['KS Bharat', 'DA Warner', 'MR Marsh', 'RR Pan...          NA Patwardhan   \n",
       "17  ['Q de Kock', 'KL Rahul', 'DJ Hooda', 'KS Shar...  KN Ananthapadmanabhan   \n",
       "18  ['RG Sharma', 'Ishan Kishan', 'Tilak Varma', '...            CB Gaffaney   \n",
       "19  ['DA Warner', 'KS Bharat', 'MR Marsh', 'RR Pan...            Nitin Menon   \n",
       "\n",
       "                  Umpire2  course_id       course_name   price  \n",
       "0             Nitin Menon        1.0            python  2499.0  \n",
       "1             Nitin Menon        2.0               sql  3499.0  \n",
       "2                MA Gough        3.0     data analysis  4999.0  \n",
       "3               VK Sharma        4.0  machine learning  9999.0  \n",
       "4           NA Patwardhan        5.0           tableau  2499.0  \n",
       "5            Tapan Sharma        6.0          power bi  1899.0  \n",
       "6           NA Patwardhan        7.0          ms sxcel  1599.0  \n",
       "7        GR Sadashiv Iyer        8.0            pandas  1099.0  \n",
       "8                YC Barde        9.0            plotly   699.0  \n",
       "9                N Pandit       10.0           pyspark  2499.0  \n",
       "10            Nitin Menon       11.0             Numpy   699.0  \n",
       "11           Tapan Sharma       12.0               C++  1299.0  \n",
       "12              VK Sharma        NaN               NaN     NaN  \n",
       "13  KN Ananthapadmanabhan        NaN               NaN     NaN  \n",
       "14               N Pandit        NaN               NaN     NaN  \n",
       "15            CB Gaffaney        NaN               NaN     NaN  \n",
       "16            Nitin Menon        NaN               NaN     NaN  \n",
       "17               MA Gough        NaN               NaN     NaN  \n",
       "18       GR Sadashiv Iyer        NaN               NaN     NaN  \n",
       "19               R Pandit        NaN               NaN     NaN  "
      ]
     },
     "execution_count": 13,
     "metadata": {},
     "output_type": "execute_result"
    }
   ],
   "source": [
    "x = X[['Player_of_Match', 'Team1Players',\n",
    "       'Team2Players', 'Umpire1', 'Umpire2', 'course_id', 'course_name',\n",
    "       'price']]\n",
    "x"
   ]
  },
  {
   "cell_type": "code",
   "execution_count": 2,
   "id": "80353f02",
   "metadata": {},
   "outputs": [],
   "source": [
    "import pandas as pd\n",
    "import numpy as np\n"
   ]
  },
  {
   "cell_type": "code",
   "execution_count": 6,
   "id": "7c1812c5",
   "metadata": {},
   "outputs": [
    {
     "data": {
      "text/html": [
       "<div>\n",
       "<style scoped>\n",
       "    .dataframe tbody tr th:only-of-type {\n",
       "        vertical-align: middle;\n",
       "    }\n",
       "\n",
       "    .dataframe tbody tr th {\n",
       "        vertical-align: top;\n",
       "    }\n",
       "\n",
       "    .dataframe thead th {\n",
       "        text-align: right;\n",
       "    }\n",
       "</style>\n",
       "<table border=\"1\" class=\"dataframe\">\n",
       "  <thead>\n",
       "    <tr style=\"text-align: right;\">\n",
       "      <th></th>\n",
       "      <th>env</th>\n",
       "      <th>cluster</th>\n",
       "      <th>match</th>\n",
       "      <th>backing</th>\n",
       "      <th>ind</th>\n",
       "    </tr>\n",
       "  </thead>\n",
       "  <tbody>\n",
       "    <tr>\n",
       "      <th>0</th>\n",
       "      <td>admin</td>\n",
       "      <td>11</td>\n",
       "      <td>batch</td>\n",
       "      <td>NaN</td>\n",
       "      <td>1</td>\n",
       "    </tr>\n",
       "    <tr>\n",
       "      <th>1</th>\n",
       "      <td>admin</td>\n",
       "      <td>11</td>\n",
       "      <td>NaN</td>\n",
       "      <td>coutch</td>\n",
       "      <td>1</td>\n",
       "    </tr>\n",
       "    <tr>\n",
       "      <th>2</th>\n",
       "      <td>admin</td>\n",
       "      <td>11</td>\n",
       "      <td>NaN</td>\n",
       "      <td>NaN</td>\n",
       "      <td>1</td>\n",
       "    </tr>\n",
       "    <tr>\n",
       "      <th>3</th>\n",
       "      <td>chi</td>\n",
       "      <td>22</td>\n",
       "      <td>micro</td>\n",
       "      <td>NaN</td>\n",
       "      <td>2</td>\n",
       "    </tr>\n",
       "    <tr>\n",
       "      <th>4</th>\n",
       "      <td>chi</td>\n",
       "      <td>22</td>\n",
       "      <td>NaN</td>\n",
       "      <td>postgress</td>\n",
       "      <td>2</td>\n",
       "    </tr>\n",
       "    <tr>\n",
       "      <th>5</th>\n",
       "      <td>chi</td>\n",
       "      <td>22</td>\n",
       "      <td>NaN</td>\n",
       "      <td>postgress</td>\n",
       "      <td>2</td>\n",
       "    </tr>\n",
       "  </tbody>\n",
       "</table>\n",
       "</div>"
      ],
      "text/plain": [
       "     env  cluster  match    backing  ind\n",
       "0  admin       11  batch        NaN    1\n",
       "1  admin       11    NaN     coutch    1\n",
       "2  admin       11    NaN        NaN    1\n",
       "3    chi       22  micro        NaN    2\n",
       "4    chi       22    NaN  postgress    2\n",
       "5    chi       22    NaN  postgress    2"
      ]
     },
     "execution_count": 6,
     "metadata": {},
     "output_type": "execute_result"
    }
   ],
   "source": [
    "dataframe = pd.DataFrame({'env':['admin','admin','admin','chi','chi','chi'],\n",
    "                          'cluster':[11,11,11,22,22,22],\n",
    "                          'match':['batch',np.nan,np.nan,'micro',np.nan,np.nan],\n",
    "                          'backing':[np.nan,'coutch',np.nan,np.nan,'postgress','postgress'],\n",
    "                          'ind':[1,1,1,2,2,2]\n",
    "                         \n",
    "                         \n",
    "                         })\n",
    "\n",
    "dataframe"
   ]
  },
  {
   "cell_type": "code",
   "execution_count": 20,
   "id": "491b406d",
   "metadata": {},
   "outputs": [
    {
     "data": {
      "text/plain": [
       "match\n",
       "batch    None\n",
       "micro    None\n",
       "Name: backing, dtype: object"
      ]
     },
     "execution_count": 20,
     "metadata": {},
     "output_type": "execute_result"
    }
   ],
   "source": [
    "d = dataframe.groupby('match')['backing']\n",
    "d.first()"
   ]
  },
  {
   "cell_type": "code",
   "execution_count": 21,
   "id": "6bf10a2b",
   "metadata": {},
   "outputs": [
    {
     "data": {
      "text/plain": [
       "0          NaN\n",
       "1       coutch\n",
       "2          NaN\n",
       "3          NaN\n",
       "4    postgress\n",
       "5    postgress\n",
       "Name: backing, dtype: object"
      ]
     },
     "execution_count": 21,
     "metadata": {},
     "output_type": "execute_result"
    }
   ],
   "source": [
    "d.head()"
   ]
  },
  {
   "cell_type": "code",
   "execution_count": 23,
   "id": "a55b7613",
   "metadata": {},
   "outputs": [],
   "source": [
    "s = dataframe.groupby(['cluster','match'])"
   ]
  },
  {
   "cell_type": "code",
   "execution_count": 25,
   "id": "e15c86d7",
   "metadata": {},
   "outputs": [
    {
     "data": {
      "text/html": [
       "<div>\n",
       "<style scoped>\n",
       "    .dataframe tbody tr th:only-of-type {\n",
       "        vertical-align: middle;\n",
       "    }\n",
       "\n",
       "    .dataframe tbody tr th {\n",
       "        vertical-align: top;\n",
       "    }\n",
       "\n",
       "    .dataframe thead th {\n",
       "        text-align: right;\n",
       "    }\n",
       "</style>\n",
       "<table border=\"1\" class=\"dataframe\">\n",
       "  <thead>\n",
       "    <tr style=\"text-align: right;\">\n",
       "      <th></th>\n",
       "      <th></th>\n",
       "      <th>env</th>\n",
       "      <th>backing</th>\n",
       "      <th>ind</th>\n",
       "    </tr>\n",
       "    <tr>\n",
       "      <th>cluster</th>\n",
       "      <th>match</th>\n",
       "      <th></th>\n",
       "      <th></th>\n",
       "      <th></th>\n",
       "    </tr>\n",
       "  </thead>\n",
       "  <tbody>\n",
       "    <tr>\n",
       "      <th>11</th>\n",
       "      <th>batch</th>\n",
       "      <td>admin</td>\n",
       "      <td>None</td>\n",
       "      <td>1</td>\n",
       "    </tr>\n",
       "    <tr>\n",
       "      <th>22</th>\n",
       "      <th>micro</th>\n",
       "      <td>chi</td>\n",
       "      <td>None</td>\n",
       "      <td>2</td>\n",
       "    </tr>\n",
       "  </tbody>\n",
       "</table>\n",
       "</div>"
      ],
      "text/plain": [
       "                 env backing  ind\n",
       "cluster match                    \n",
       "11      batch  admin    None    1\n",
       "22      micro    chi    None    2"
      ]
     },
     "execution_count": 25,
     "metadata": {},
     "output_type": "execute_result"
    }
   ],
   "source": [
    "s.first()"
   ]
  },
  {
   "cell_type": "code",
   "execution_count": 28,
   "id": "b6e47f11",
   "metadata": {},
   "outputs": [
    {
     "data": {
      "text/plain": [
       "cluster  match\n",
       "11       batch    admin\n",
       "22       micro      chi\n",
       "Name: env, dtype: object"
      ]
     },
     "execution_count": 28,
     "metadata": {},
     "output_type": "execute_result"
    }
   ],
   "source": [
    "p = (dataframe.groupby(['cluster','match'])['env'])\n",
    "p.first()"
   ]
  },
  {
   "cell_type": "code",
   "execution_count": 30,
   "id": "d5eb027e",
   "metadata": {},
   "outputs": [
    {
     "data": {
      "text/plain": [
       "match\n",
       "batch    admin\n",
       "micro      chi\n",
       "Name: env, dtype: object"
      ]
     },
     "execution_count": 30,
     "metadata": {},
     "output_type": "execute_result"
    }
   ],
   "source": [
    "f = dataframe.groupby(['match'])['env']\n",
    "f.first()"
   ]
  },
  {
   "cell_type": "code",
   "execution_count": 31,
   "id": "a094e5c1",
   "metadata": {},
   "outputs": [
    {
     "data": {
      "text/html": [
       "<div>\n",
       "<style scoped>\n",
       "    .dataframe tbody tr th:only-of-type {\n",
       "        vertical-align: middle;\n",
       "    }\n",
       "\n",
       "    .dataframe tbody tr th {\n",
       "        vertical-align: top;\n",
       "    }\n",
       "\n",
       "    .dataframe thead th {\n",
       "        text-align: right;\n",
       "    }\n",
       "</style>\n",
       "<table border=\"1\" class=\"dataframe\">\n",
       "  <thead>\n",
       "    <tr style=\"text-align: right;\">\n",
       "      <th></th>\n",
       "      <th>env</th>\n",
       "      <th>cluster</th>\n",
       "      <th>match</th>\n",
       "      <th>backing</th>\n",
       "      <th>ind</th>\n",
       "    </tr>\n",
       "  </thead>\n",
       "  <tbody>\n",
       "    <tr>\n",
       "      <th>0</th>\n",
       "      <td>admin</td>\n",
       "      <td>11</td>\n",
       "      <td>batch</td>\n",
       "      <td>NaN</td>\n",
       "      <td>1</td>\n",
       "    </tr>\n",
       "    <tr>\n",
       "      <th>1</th>\n",
       "      <td>admin</td>\n",
       "      <td>11</td>\n",
       "      <td>NaN</td>\n",
       "      <td>coutch</td>\n",
       "      <td>1</td>\n",
       "    </tr>\n",
       "    <tr>\n",
       "      <th>2</th>\n",
       "      <td>admin</td>\n",
       "      <td>11</td>\n",
       "      <td>NaN</td>\n",
       "      <td>NaN</td>\n",
       "      <td>1</td>\n",
       "    </tr>\n",
       "    <tr>\n",
       "      <th>3</th>\n",
       "      <td>chi</td>\n",
       "      <td>22</td>\n",
       "      <td>micro</td>\n",
       "      <td>NaN</td>\n",
       "      <td>2</td>\n",
       "    </tr>\n",
       "    <tr>\n",
       "      <th>4</th>\n",
       "      <td>chi</td>\n",
       "      <td>22</td>\n",
       "      <td>NaN</td>\n",
       "      <td>postgress</td>\n",
       "      <td>2</td>\n",
       "    </tr>\n",
       "    <tr>\n",
       "      <th>5</th>\n",
       "      <td>chi</td>\n",
       "      <td>22</td>\n",
       "      <td>NaN</td>\n",
       "      <td>postgress</td>\n",
       "      <td>2</td>\n",
       "    </tr>\n",
       "  </tbody>\n",
       "</table>\n",
       "</div>"
      ],
      "text/plain": [
       "     env  cluster  match    backing  ind\n",
       "0  admin       11  batch        NaN    1\n",
       "1  admin       11    NaN     coutch    1\n",
       "2  admin       11    NaN        NaN    1\n",
       "3    chi       22  micro        NaN    2\n",
       "4    chi       22    NaN  postgress    2\n",
       "5    chi       22    NaN  postgress    2"
      ]
     },
     "execution_count": 31,
     "metadata": {},
     "output_type": "execute_result"
    }
   ],
   "source": [
    "dataframe"
   ]
  },
  {
   "cell_type": "code",
   "execution_count": 34,
   "id": "f3de7da6",
   "metadata": {},
   "outputs": [
    {
     "data": {
      "text/html": [
       "<div>\n",
       "<style scoped>\n",
       "    .dataframe tbody tr th:only-of-type {\n",
       "        vertical-align: middle;\n",
       "    }\n",
       "\n",
       "    .dataframe tbody tr th {\n",
       "        vertical-align: top;\n",
       "    }\n",
       "\n",
       "    .dataframe thead th {\n",
       "        text-align: right;\n",
       "    }\n",
       "</style>\n",
       "<table border=\"1\" class=\"dataframe\">\n",
       "  <thead>\n",
       "    <tr style=\"text-align: right;\">\n",
       "      <th></th>\n",
       "      <th>env</th>\n",
       "      <th>cluster</th>\n",
       "      <th>match</th>\n",
       "      <th>backing</th>\n",
       "      <th>ind</th>\n",
       "    </tr>\n",
       "  </thead>\n",
       "  <tbody>\n",
       "    <tr>\n",
       "      <th>0</th>\n",
       "      <td>admin</td>\n",
       "      <td>11</td>\n",
       "      <td>batch</td>\n",
       "      <td>NaN</td>\n",
       "      <td>1</td>\n",
       "    </tr>\n",
       "    <tr>\n",
       "      <th>1</th>\n",
       "      <td>admin</td>\n",
       "      <td>11</td>\n",
       "      <td>batch</td>\n",
       "      <td>coutch</td>\n",
       "      <td>1</td>\n",
       "    </tr>\n",
       "    <tr>\n",
       "      <th>2</th>\n",
       "      <td>admin</td>\n",
       "      <td>11</td>\n",
       "      <td>batch</td>\n",
       "      <td>NaN</td>\n",
       "      <td>1</td>\n",
       "    </tr>\n",
       "    <tr>\n",
       "      <th>3</th>\n",
       "      <td>chi</td>\n",
       "      <td>22</td>\n",
       "      <td>micro</td>\n",
       "      <td>NaN</td>\n",
       "      <td>2</td>\n",
       "    </tr>\n",
       "    <tr>\n",
       "      <th>4</th>\n",
       "      <td>chi</td>\n",
       "      <td>22</td>\n",
       "      <td>micro</td>\n",
       "      <td>postgress</td>\n",
       "      <td>2</td>\n",
       "    </tr>\n",
       "    <tr>\n",
       "      <th>5</th>\n",
       "      <td>chi</td>\n",
       "      <td>22</td>\n",
       "      <td>micro</td>\n",
       "      <td>postgress</td>\n",
       "      <td>2</td>\n",
       "    </tr>\n",
       "  </tbody>\n",
       "</table>\n",
       "</div>"
      ],
      "text/plain": [
       "     env  cluster  match    backing  ind\n",
       "0  admin       11  batch        NaN    1\n",
       "1  admin       11  batch     coutch    1\n",
       "2  admin       11  batch        NaN    1\n",
       "3    chi       22  micro        NaN    2\n",
       "4    chi       22  micro  postgress    2\n",
       "5    chi       22  micro  postgress    2"
      ]
     },
     "execution_count": 34,
     "metadata": {},
     "output_type": "execute_result"
    }
   ],
   "source": [
    "import pandas as pd\n",
    "import numpy as np\n",
    "\n",
    "fff = pd.DataFrame({\n",
    "    'env': ['admin', 'admin', 'admin', 'chi', 'chi', 'chi'],\n",
    "    'cluster': [11, 11, 11, 22, 22, 22],\n",
    "    'match': ['batch', np.nan, np.nan, 'micro', np.nan, np.nan],\n",
    "    'backing': [np.nan, 'coutch', np.nan, np.nan, 'postgress', 'postgress'],\n",
    "    'ind': [1, 1, 1, 2, 2, 2]\n",
    "})\n",
    "\n",
    "fff['match'] = fff['match'].fillna(method='ffill')\n",
    "\n",
    "\n",
    "fff"
   ]
  },
  {
   "cell_type": "code",
   "execution_count": 35,
   "id": "11ea88dd",
   "metadata": {},
   "outputs": [
    {
     "data": {
      "text/html": [
       "<div>\n",
       "<style scoped>\n",
       "    .dataframe tbody tr th:only-of-type {\n",
       "        vertical-align: middle;\n",
       "    }\n",
       "\n",
       "    .dataframe tbody tr th {\n",
       "        vertical-align: top;\n",
       "    }\n",
       "\n",
       "    .dataframe thead th {\n",
       "        text-align: right;\n",
       "    }\n",
       "</style>\n",
       "<table border=\"1\" class=\"dataframe\">\n",
       "  <thead>\n",
       "    <tr style=\"text-align: right;\">\n",
       "      <th></th>\n",
       "      <th>env</th>\n",
       "      <th>cluster</th>\n",
       "      <th>match</th>\n",
       "      <th>backing</th>\n",
       "      <th>ind</th>\n",
       "    </tr>\n",
       "  </thead>\n",
       "  <tbody>\n",
       "    <tr>\n",
       "      <th>0</th>\n",
       "      <td>admin</td>\n",
       "      <td>11</td>\n",
       "      <td>batch</td>\n",
       "      <td>NaN</td>\n",
       "      <td>1</td>\n",
       "    </tr>\n",
       "    <tr>\n",
       "      <th>1</th>\n",
       "      <td>admin</td>\n",
       "      <td>11</td>\n",
       "      <td>batch</td>\n",
       "      <td>coutch</td>\n",
       "      <td>1</td>\n",
       "    </tr>\n",
       "    <tr>\n",
       "      <th>2</th>\n",
       "      <td>admin</td>\n",
       "      <td>11</td>\n",
       "      <td>batch</td>\n",
       "      <td>NaN</td>\n",
       "      <td>1</td>\n",
       "    </tr>\n",
       "    <tr>\n",
       "      <th>3</th>\n",
       "      <td>chi</td>\n",
       "      <td>22</td>\n",
       "      <td>batch</td>\n",
       "      <td>NaN</td>\n",
       "      <td>2</td>\n",
       "    </tr>\n",
       "    <tr>\n",
       "      <th>4</th>\n",
       "      <td>chi</td>\n",
       "      <td>22</td>\n",
       "      <td>micro</td>\n",
       "      <td>postgress</td>\n",
       "      <td>2</td>\n",
       "    </tr>\n",
       "    <tr>\n",
       "      <th>5</th>\n",
       "      <td>chi</td>\n",
       "      <td>22</td>\n",
       "      <td>micro</td>\n",
       "      <td>postgress</td>\n",
       "      <td>2</td>\n",
       "    </tr>\n",
       "  </tbody>\n",
       "</table>\n",
       "</div>"
      ],
      "text/plain": [
       "     env  cluster  match    backing  ind\n",
       "0  admin       11  batch        NaN    1\n",
       "1  admin       11  batch     coutch    1\n",
       "2  admin       11  batch        NaN    1\n",
       "3    chi       22  batch        NaN    2\n",
       "4    chi       22  micro  postgress    2\n",
       "5    chi       22  micro  postgress    2"
      ]
     },
     "execution_count": 35,
     "metadata": {},
     "output_type": "execute_result"
    }
   ],
   "source": [
    "import pandas as pd\n",
    "import numpy as np\n",
    "\n",
    "fff = pd.DataFrame({\n",
    "    'env': ['admin', 'admin', 'admin', 'chi', 'chi', 'chi'],\n",
    "    'cluster': [11, 11, 11, 22, 22, 22],\n",
    "    'match': ['batch', np.nan, np.nan,np.nan,'micro',np.nan],\n",
    "    'backing': [np.nan, 'coutch', np.nan, np.nan, 'postgress', 'postgress'],\n",
    "    'ind': [1, 1, 1, 2, 2, 2]\n",
    "})\n",
    "\n",
    "fff['match'] = fff['match'].fillna(method='ffill')\n",
    "\n",
    "\n",
    "fff"
   ]
  },
  {
   "cell_type": "code",
   "execution_count": 36,
   "id": "b2b28617",
   "metadata": {},
   "outputs": [
    {
     "data": {
      "text/html": [
       "<div>\n",
       "<style scoped>\n",
       "    .dataframe tbody tr th:only-of-type {\n",
       "        vertical-align: middle;\n",
       "    }\n",
       "\n",
       "    .dataframe tbody tr th {\n",
       "        vertical-align: top;\n",
       "    }\n",
       "\n",
       "    .dataframe thead th {\n",
       "        text-align: right;\n",
       "    }\n",
       "</style>\n",
       "<table border=\"1\" class=\"dataframe\">\n",
       "  <thead>\n",
       "    <tr style=\"text-align: right;\">\n",
       "      <th></th>\n",
       "      <th>env</th>\n",
       "      <th>cluster</th>\n",
       "      <th>match</th>\n",
       "      <th>backing</th>\n",
       "      <th>ind</th>\n",
       "    </tr>\n",
       "  </thead>\n",
       "  <tbody>\n",
       "    <tr>\n",
       "      <th>0</th>\n",
       "      <td>admin</td>\n",
       "      <td>11</td>\n",
       "      <td>batch</td>\n",
       "      <td>NaN</td>\n",
       "      <td>1</td>\n",
       "    </tr>\n",
       "    <tr>\n",
       "      <th>1</th>\n",
       "      <td>admin</td>\n",
       "      <td>11</td>\n",
       "      <td>batch</td>\n",
       "      <td>coutch</td>\n",
       "      <td>1</td>\n",
       "    </tr>\n",
       "    <tr>\n",
       "      <th>2</th>\n",
       "      <td>admin</td>\n",
       "      <td>11</td>\n",
       "      <td>batch</td>\n",
       "      <td>NaN</td>\n",
       "      <td>1</td>\n",
       "    </tr>\n",
       "    <tr>\n",
       "      <th>3</th>\n",
       "      <td>chi</td>\n",
       "      <td>22</td>\n",
       "      <td>micro</td>\n",
       "      <td>NaN</td>\n",
       "      <td>2</td>\n",
       "    </tr>\n",
       "    <tr>\n",
       "      <th>4</th>\n",
       "      <td>chi</td>\n",
       "      <td>22</td>\n",
       "      <td>micro</td>\n",
       "      <td>postgress</td>\n",
       "      <td>2</td>\n",
       "    </tr>\n",
       "    <tr>\n",
       "      <th>5</th>\n",
       "      <td>chi</td>\n",
       "      <td>22</td>\n",
       "      <td>micro</td>\n",
       "      <td>postgress</td>\n",
       "      <td>2</td>\n",
       "    </tr>\n",
       "  </tbody>\n",
       "</table>\n",
       "</div>"
      ],
      "text/plain": [
       "     env  cluster  match    backing  ind\n",
       "0  admin       11  batch        NaN    1\n",
       "1  admin       11  batch     coutch    1\n",
       "2  admin       11  batch        NaN    1\n",
       "3    chi       22  micro        NaN    2\n",
       "4    chi       22  micro  postgress    2\n",
       "5    chi       22  micro  postgress    2"
      ]
     },
     "execution_count": 36,
     "metadata": {},
     "output_type": "execute_result"
    }
   ],
   "source": [
    "import pandas as pd\n",
    "import numpy as np\n",
    "\n",
    "dataframe = pd.DataFrame({\n",
    "    'env': ['admin', 'admin', 'admin', 'chi', 'chi', 'chi'],\n",
    "    'cluster': [11, 11, 11, 22, 22, 22],\n",
    "    'match': ['batch', np.nan, np.nan, 'micro', np.nan, np.nan],\n",
    "    'backing': [np.nan, 'coutch', np.nan, np.nan, 'postgress', 'postgress'],\n",
    "    'ind': [1, 1, 1, 2, 2, 2]\n",
    "})\n",
    "\n",
    "dataframe.loc[dataframe['env'] == 'admin', 'match'] = 'batch'\n",
    "dataframe.loc[dataframe['env'] == 'chi', 'match'] = 'micro'\n",
    "dataframe"
   ]
  },
  {
   "cell_type": "code",
   "execution_count": 37,
   "id": "e055b1b7",
   "metadata": {},
   "outputs": [
    {
     "data": {
      "text/plain": [
       "0    11\n",
       "1    11\n",
       "2    11\n",
       "3    22\n",
       "4    22\n",
       "5    22\n",
       "Name: cluster, dtype: int64"
      ]
     },
     "execution_count": 37,
     "metadata": {},
     "output_type": "execute_result"
    }
   ],
   "source": [
    "dataframe.cluster"
   ]
  },
  {
   "cell_type": "code",
   "execution_count": 38,
   "id": "66f35353",
   "metadata": {},
   "outputs": [
    {
     "data": {
      "text/html": [
       "<div>\n",
       "<style scoped>\n",
       "    .dataframe tbody tr th:only-of-type {\n",
       "        vertical-align: middle;\n",
       "    }\n",
       "\n",
       "    .dataframe tbody tr th {\n",
       "        vertical-align: top;\n",
       "    }\n",
       "\n",
       "    .dataframe thead th {\n",
       "        text-align: right;\n",
       "    }\n",
       "</style>\n",
       "<table border=\"1\" class=\"dataframe\">\n",
       "  <thead>\n",
       "    <tr style=\"text-align: right;\">\n",
       "      <th></th>\n",
       "      <th>env</th>\n",
       "      <th>cluster</th>\n",
       "      <th>match</th>\n",
       "      <th>backing</th>\n",
       "      <th>ind</th>\n",
       "    </tr>\n",
       "  </thead>\n",
       "  <tbody>\n",
       "    <tr>\n",
       "      <th>0</th>\n",
       "      <td>admin</td>\n",
       "      <td>11</td>\n",
       "      <td>batch</td>\n",
       "      <td>coutch</td>\n",
       "      <td>1</td>\n",
       "    </tr>\n",
       "    <tr>\n",
       "      <th>1</th>\n",
       "      <td>admin</td>\n",
       "      <td>11</td>\n",
       "      <td>batch</td>\n",
       "      <td>coutch</td>\n",
       "      <td>1</td>\n",
       "    </tr>\n",
       "    <tr>\n",
       "      <th>2</th>\n",
       "      <td>admin</td>\n",
       "      <td>11</td>\n",
       "      <td>batch</td>\n",
       "      <td>coutch</td>\n",
       "      <td>1</td>\n",
       "    </tr>\n",
       "    <tr>\n",
       "      <th>3</th>\n",
       "      <td>chi</td>\n",
       "      <td>22</td>\n",
       "      <td>micro</td>\n",
       "      <td>postgress</td>\n",
       "      <td>2</td>\n",
       "    </tr>\n",
       "    <tr>\n",
       "      <th>4</th>\n",
       "      <td>chi</td>\n",
       "      <td>22</td>\n",
       "      <td>micro</td>\n",
       "      <td>postgress</td>\n",
       "      <td>2</td>\n",
       "    </tr>\n",
       "    <tr>\n",
       "      <th>5</th>\n",
       "      <td>chi</td>\n",
       "      <td>22</td>\n",
       "      <td>micro</td>\n",
       "      <td>postgress</td>\n",
       "      <td>2</td>\n",
       "    </tr>\n",
       "  </tbody>\n",
       "</table>\n",
       "</div>"
      ],
      "text/plain": [
       "     env  cluster  match    backing  ind\n",
       "0  admin       11  batch     coutch    1\n",
       "1  admin       11  batch     coutch    1\n",
       "2  admin       11  batch     coutch    1\n",
       "3    chi       22  micro  postgress    2\n",
       "4    chi       22  micro  postgress    2\n",
       "5    chi       22  micro  postgress    2"
      ]
     },
     "execution_count": 38,
     "metadata": {},
     "output_type": "execute_result"
    }
   ],
   "source": [
    "dataframe.loc[dataframe['env'] == 'admin', 'backing'] = 'coutch'\n",
    "dataframe.loc[dataframe['env'] == 'chi', 'backing'] = 'postgress'\n",
    "dataframe"
   ]
  },
  {
   "cell_type": "code",
   "execution_count": 1,
   "id": "d64e3cdf",
   "metadata": {},
   "outputs": [
    {
     "name": "stdout",
     "output_type": "stream",
     "text": [
      "68\n"
     ]
    }
   ],
   "source": [
    "print(ord('D'))"
   ]
  },
  {
   "cell_type": "code",
   "execution_count": 4,
   "id": "b20976c8",
   "metadata": {},
   "outputs": [
    {
     "name": "stdout",
     "output_type": "stream",
     "text": [
      "X\n"
     ]
    }
   ],
   "source": [
    "print(chr(88))"
   ]
  },
  {
   "cell_type": "code",
   "execution_count": 5,
   "id": "39a51189",
   "metadata": {},
   "outputs": [
    {
     "data": {
      "text/plain": [
       "11.166666666666666"
      ]
     },
     "execution_count": 5,
     "metadata": {},
     "output_type": "execute_result"
    }
   ],
   "source": [
    "67/6"
   ]
  },
  {
   "cell_type": "code",
   "execution_count": 6,
   "id": "8c5ad103",
   "metadata": {},
   "outputs": [
    {
     "data": {
      "text/plain": [
       "11"
      ]
     },
     "execution_count": 6,
     "metadata": {},
     "output_type": "execute_result"
    }
   ],
   "source": [
    "67//6"
   ]
  },
  {
   "cell_type": "code",
   "execution_count": 7,
   "id": "b0d1aa11",
   "metadata": {},
   "outputs": [
    {
     "data": {
      "text/plain": [
       "1"
      ]
     },
     "execution_count": 7,
     "metadata": {},
     "output_type": "execute_result"
    }
   ],
   "source": [
    "67%6"
   ]
  },
  {
   "cell_type": "code",
   "execution_count": 13,
   "id": "78d0d509",
   "metadata": {},
   "outputs": [
    {
     "name": "stdout",
     "output_type": "stream",
     "text": [
      "Sachin wandre data555 scientist\n"
     ]
    }
   ],
   "source": [
    "s = 'sachin wandre data555 scientist'\n",
    "print(s.capitalize())"
   ]
  },
  {
   "cell_type": "code",
   "execution_count": 9,
   "id": "b0eda3d2",
   "metadata": {},
   "outputs": [
    {
     "name": "stdout",
     "output_type": "stream",
     "text": [
      "Sachin Wandre Data Scientist\n"
     ]
    }
   ],
   "source": [
    "print(s.title())"
   ]
  },
  {
   "cell_type": "code",
   "execution_count": 14,
   "id": "eaf44ca5",
   "metadata": {},
   "outputs": [
    {
     "name": "stdout",
     "output_type": "stream",
     "text": [
      "False\n"
     ]
    }
   ],
   "source": [
    "print(s.isalnum())"
   ]
  },
  {
   "cell_type": "code",
   "execution_count": 15,
   "id": "f44320f2",
   "metadata": {},
   "outputs": [
    {
     "name": "stdout",
     "output_type": "stream",
     "text": [
      "False\n"
     ]
    }
   ],
   "source": [
    "print(s.isalpha())"
   ]
  },
  {
   "cell_type": "code",
   "execution_count": 17,
   "id": "5e9aca0a",
   "metadata": {},
   "outputs": [
    {
     "name": "stdout",
     "output_type": "stream",
     "text": [
      "True\n",
      "True\n"
     ]
    }
   ],
   "source": [
    "t = 'sachin'\n",
    "print(t.isalnum())\n",
    "print(t.isalpha())"
   ]
  },
  {
   "cell_type": "code",
   "execution_count": 18,
   "id": "a676d7a6",
   "metadata": {},
   "outputs": [
    {
     "name": "stdout",
     "output_type": "stream",
     "text": [
      "-1\n"
     ]
    }
   ],
   "source": [
    "print(t.find('g'))"
   ]
  },
  {
   "cell_type": "code",
   "execution_count": 20,
   "id": "b04df13e",
   "metadata": {},
   "outputs": [
    {
     "name": "stdout",
     "output_type": "stream",
     "text": [
      "0\n"
     ]
    }
   ],
   "source": [
    "print(t.index('s'))"
   ]
  },
  {
   "cell_type": "code",
   "execution_count": 21,
   "id": "cd1969c2",
   "metadata": {},
   "outputs": [
    {
     "name": "stdout",
     "output_type": "stream",
     "text": [
      "chin wan\n"
     ]
    }
   ],
   "source": [
    "s = 'sachin wandre data555 scientist'\n",
    "print(s[2:10:1])"
   ]
  },
  {
   "cell_type": "code",
   "execution_count": 22,
   "id": "ad94d359",
   "metadata": {},
   "outputs": [
    {
     "name": "stdout",
     "output_type": "stream",
     "text": [
      "\n"
     ]
    }
   ],
   "source": [
    "print(s[2:10:-1])"
   ]
  },
  {
   "cell_type": "code",
   "execution_count": 25,
   "id": "b9d6440e",
   "metadata": {},
   "outputs": [
    {
     "name": "stdout",
     "output_type": "stream",
     "text": [
      "555atad er\n"
     ]
    }
   ],
   "source": [
    "print(s[20:10:-1])"
   ]
  },
  {
   "cell_type": "code",
   "execution_count": 26,
   "id": "cb5b1304",
   "metadata": {},
   "outputs": [
    {
     "data": {
      "text/plain": [
       "{2, 3, 4, 5, 6, 100}"
      ]
     },
     "execution_count": 26,
     "metadata": {},
     "output_type": "execute_result"
    }
   ],
   "source": [
    "f = {2,3,4,5,6}\n",
    "f.add(100)\n",
    "f"
   ]
  },
  {
   "cell_type": "code",
   "execution_count": 27,
   "id": "11932a63",
   "metadata": {},
   "outputs": [
    {
     "name": "stdout",
     "output_type": "stream",
     "text": [
      "<class 'set'>\n"
     ]
    }
   ],
   "source": [
    "print(type(f))"
   ]
  },
  {
   "cell_type": "code",
   "execution_count": 34,
   "id": "f6b84392",
   "metadata": {},
   "outputs": [],
   "source": [
    "g = {20,30,400,50,60}"
   ]
  },
  {
   "cell_type": "code",
   "execution_count": 35,
   "id": "ec36394b",
   "metadata": {},
   "outputs": [
    {
     "data": {
      "text/plain": [
       "{2, 3, 4, 5, 6, 20, 30, 40, 50, 60, 100, 400}"
      ]
     },
     "execution_count": 35,
     "metadata": {},
     "output_type": "execute_result"
    }
   ],
   "source": [
    "f.update(g)\n",
    "f"
   ]
  },
  {
   "cell_type": "code",
   "execution_count": 36,
   "id": "4159319b",
   "metadata": {},
   "outputs": [
    {
     "data": {
      "text/plain": [
       "[35, 70]"
      ]
     },
     "execution_count": 36,
     "metadata": {},
     "output_type": "execute_result"
    }
   ],
   "source": [
    "\tL = [5,23,15,30,45,60,10,35,70]\n",
    "\tlist(filter(lambda x : x % 5 == 0 and x % 7 == 0,L))"
   ]
  },
  {
   "cell_type": "code",
   "execution_count": 38,
   "id": "c617e804",
   "metadata": {},
   "outputs": [
    {
     "data": {
      "text/plain": [
       "[100, 121, 144, 169, 196, 225]"
      ]
     },
     "execution_count": 38,
     "metadata": {},
     "output_type": "execute_result"
    }
   ],
   "source": [
    "list1 = [10,11,12,13,14,15]\n",
    "sqr = lambda list1 : [x**2 for x in list1]\n",
    "sqr(list1)\n"
   ]
  },
  {
   "cell_type": "code",
   "execution_count": 41,
   "id": "1ffa2d88",
   "metadata": {},
   "outputs": [
    {
     "data": {
      "text/plain": [
       "[100, 121, 144, 169, 196, 225]"
      ]
     },
     "execution_count": 41,
     "metadata": {},
     "output_type": "execute_result"
    }
   ],
   "source": [
    "list(map(lambda x: x**2,list1))"
   ]
  },
  {
   "cell_type": "code",
   "execution_count": 42,
   "id": "abdf86ba",
   "metadata": {},
   "outputs": [],
   "source": [
    "def someone(a=30,b=8):\n",
    "    return a+b"
   ]
  },
  {
   "cell_type": "code",
   "execution_count": 46,
   "id": "932d0ee9",
   "metadata": {},
   "outputs": [
    {
     "name": "stdout",
     "output_type": "stream",
     "text": [
      "109\n"
     ]
    }
   ],
   "source": [
    "result = someone(b=10,a=99)\n",
    "print(result)"
   ]
  },
  {
   "cell_type": "code",
   "execution_count": 47,
   "id": "acd67cfc",
   "metadata": {},
   "outputs": [
    {
     "name": "stdout",
     "output_type": "stream",
     "text": [
      "300\n"
     ]
    }
   ],
   "source": [
    "result = someone(100,200)\n",
    "print(result)"
   ]
  },
  {
   "cell_type": "code",
   "execution_count": null,
   "id": "56e92a64",
   "metadata": {},
   "outputs": [],
   "source": [
    "class MyException(Exception):\n",
    "    def __init__(self,message):\n",
    "        print(message)"
   ]
  },
  {
   "cell_type": "code",
   "execution_count": 2,
   "id": "13aee6c8",
   "metadata": {},
   "outputs": [
    {
     "name": "stdout",
     "output_type": "stream",
     "text": [
      "The happy cat jumps.\n",
      "The happy house runs.\n",
      "The happy dog sleeps.\n",
      "The big cat jumps.\n",
      "The happy cat jumps.\n",
      "The big dog drives.\n",
      "The big house jumps.\n",
      "The fast car drives.\n",
      "The red car jumps.\n",
      "The happy car sleeps.\n",
      "The happy dog runs.\n",
      "The big dog sleeps.\n",
      "The fast dog sleeps.\n",
      "The fast car jumps.\n",
      "The fast car jumps.\n"
     ]
    }
   ],
   "source": [
    "import random\n",
    "\n",
    "# List of words to choose from\n",
    "nouns = [\"cat\", \"dog\", \"house\", \"car\"]\n",
    "verbs = [\"runs\", \"jumps\", \"sleeps\", \"drives\"]\n",
    "adjectives = [\"red\", \"big\", \"happy\", \"fast\"]\n",
    "\n",
    "# Generate a random sentence\n",
    "def generate_sentence():\n",
    "    sentence = f\"The {random.choice(adjectives)} {random.choice(nouns)} {random.choice(verbs)}.\"\n",
    "    return sentence\n",
    "\n",
    "# Generate and print multiple random sentences\n",
    "def generate_sentences(num_sentences):\n",
    "    for _ in range(num_sentences):\n",
    "        sentence = generate_sentence()\n",
    "        print(sentence)\n",
    "\n",
    "# Generate 5 random sentences\n",
    "generate_sentences(15)\n"
   ]
  },
  {
   "cell_type": "code",
   "execution_count": 7,
   "id": "7f46a3df",
   "metadata": {},
   "outputs": [
    {
     "data": {
      "text/plain": [
       "['ODD', 'EVEN', 'ODD', 'EVEN', 'ODD', 'EVEN', 'ODD', 'EVEN', 'ODD', 'EVEN']"
      ]
     },
     "execution_count": 7,
     "metadata": {},
     "output_type": "execute_result"
    }
   ],
   "source": [
    "[\"EVEN\" if x%2 == 0 else 'ODD' for x in range(1,11) ]"
   ]
  },
  {
   "cell_type": "code",
   "execution_count": 8,
   "id": "72373549",
   "metadata": {},
   "outputs": [
    {
     "data": {
      "text/plain": [
       "[25, 529, 225, 900, 2025, 3600, 100, 1225, 4900]"
      ]
     },
     "execution_count": 8,
     "metadata": {},
     "output_type": "execute_result"
    }
   ],
   "source": [
    "# Using list comprehensive\n",
    "L = [5,23,15,30,45,60,10,35,70]\n",
    "[n**2 for n in L]"
   ]
  },
  {
   "cell_type": "code",
   "execution_count": 9,
   "id": "dd1df20e",
   "metadata": {},
   "outputs": [
    {
     "data": {
      "text/plain": [
       "[25, 529, 225, 900, 2025, 3600, 100, 1225, 4900]"
      ]
     },
     "execution_count": 9,
     "metadata": {},
     "output_type": "execute_result"
    }
   ],
   "source": [
    "# Using list comprehensive and lambda\n",
    "L = [5,23,15,30,45,60,10,35,70]\n",
    "sqr = lambda list1 :[n**2 for n in list1]\n",
    "sqr(L)"
   ]
  },
  {
   "cell_type": "code",
   "execution_count": 10,
   "id": "6b70ea27",
   "metadata": {},
   "outputs": [
    {
     "data": {
      "text/plain": [
       "[25, 529, 225, 900, 2025, 3600, 100, 1225, 4900]"
      ]
     },
     "execution_count": 10,
     "metadata": {},
     "output_type": "execute_result"
    }
   ],
   "source": [
    "# Using lambda\n",
    "L = [5,23,15,30,45,60,10,35,70]\n",
    "\n",
    "list(map(lambda x:x**2 ,L))"
   ]
  },
  {
   "cell_type": "code",
   "execution_count": 11,
   "id": "fac9ecb0",
   "metadata": {},
   "outputs": [
    {
     "data": {
      "text/plain": [
       "[900, 3600, 100, 4900]"
      ]
     },
     "execution_count": 11,
     "metadata": {},
     "output_type": "execute_result"
    }
   ],
   "source": [
    "# Using list comprehensive with condition\n",
    "L = [5,23,15,30,45,60,10,35,70]\n",
    "[n**2 for n in L if n%2 == 0]"
   ]
  },
  {
   "cell_type": "code",
   "execution_count": 12,
   "id": "f05ecc69",
   "metadata": {},
   "outputs": [
    {
     "data": {
      "text/plain": [
       "[900, 3600, 100, 4900]"
      ]
     },
     "execution_count": 12,
     "metadata": {},
     "output_type": "execute_result"
    }
   ],
   "source": [
    "# Using list comprehensive and lambda with condition\n",
    "L = [5,23,15,30,45,60,10,35,70]\n",
    "sqr = lambda list1 :[n**2 for n in list1 if n%2 == 0]\n",
    "sqr(L)"
   ]
  },
  {
   "cell_type": "code",
   "execution_count": 14,
   "id": "5f0e81e7",
   "metadata": {},
   "outputs": [
    {
     "data": {
      "text/plain": [
       "[30, 60, 10, 70]"
      ]
     },
     "execution_count": 14,
     "metadata": {},
     "output_type": "execute_result"
    }
   ],
   "source": [
    "# Using lambda with condition\n",
    "L = [5,23,15,30,45,60,10,35,70]\n",
    "\n",
    "list(filter(lambda x: x%2 == 0 ,L))"
   ]
  },
  {
   "cell_type": "code",
   "execution_count": 15,
   "id": "986dc6de",
   "metadata": {},
   "outputs": [],
   "source": [
    "import pandas as pd\n",
    "\n",
    "data1 = {'ID': [1, 2, 3, 4],\n",
    "         'Value1': ['A', 'B', 'C', 'D']}\n",
    "df1 = pd.DataFrame(data1)\n",
    "\n",
    "data2 = {'ID': [2, 3, 5, 6],\n",
    "         'Value2': ['X', 'Y', 'Z', 'W']}\n",
    "df2 = pd.DataFrame(data2)\n"
   ]
  },
  {
   "cell_type": "code",
   "execution_count": 16,
   "id": "c55f5977",
   "metadata": {},
   "outputs": [
    {
     "name": "stdout",
     "output_type": "stream",
     "text": [
      "   ID Value1 Value2\n",
      "0   1      A    NaN\n",
      "1   2      B    NaN\n",
      "2   3      C    NaN\n",
      "3   4      D    NaN\n",
      "0   2    NaN      X\n",
      "1   3    NaN      Y\n",
      "2   5    NaN      Z\n",
      "3   6    NaN      W\n"
     ]
    }
   ],
   "source": [
    "concatenated = pd.concat([df1, df2], axis=0)\n",
    "print(concatenated)\n"
   ]
  },
  {
   "cell_type": "code",
   "execution_count": 17,
   "id": "ba833b13",
   "metadata": {},
   "outputs": [
    {
     "name": "stdout",
     "output_type": "stream",
     "text": [
      "   ID Value1  ID Value2\n",
      "0   1      A   2      X\n",
      "1   2      B   3      Y\n",
      "2   3      C   5      Z\n",
      "3   4      D   6      W\n"
     ]
    }
   ],
   "source": [
    "concatenated = pd.concat([df1, df2], axis=1)\n",
    "print(concatenated)\n"
   ]
  },
  {
   "cell_type": "code",
   "execution_count": 2,
   "id": "dd78e6f2",
   "metadata": {},
   "outputs": [
    {
     "name": "stdout",
     "output_type": "stream",
     "text": [
      "0     I am sachin wandre submit Service Order\n",
      "Name: text, dtype: object\n"
     ]
    }
   ],
   "source": [
    "import pandas as pd\n",
    "\n",
    "# Create a DataFrame with your text\n",
    "data = {'text': ['I am sachin wandre submitServiceOrder']}\n",
    "df = pd.DataFrame(data)\n",
    "\n",
    "# Define a function to insert spaces before uppercase letters (CamelCase to Camel Case)\n",
    "def add_space_before_uppercase(text):\n",
    "    result = \"\"\n",
    "    for char in text:\n",
    "        if char.isupper():\n",
    "            result += \" \" + char\n",
    "        else:\n",
    "            result += char\n",
    "    return result\n",
    "\n",
    "# Apply the function to the 'text' column\n",
    "df['text'] = df['text'].apply(add_space_before_uppercase)\n",
    "\n",
    "# Display the updated DataFrame\n",
    "print(df['text'])\n"
   ]
  },
  {
   "cell_type": "code",
   "execution_count": 3,
   "id": "8c4dcb8d",
   "metadata": {},
   "outputs": [
    {
     "name": "stdout",
     "output_type": "stream",
     "text": [
      "  common_words\n",
      "0       Sachin\n",
      "1       Wandre\n"
     ]
    }
   ],
   "source": [
    "import pandas as pd\n",
    "\n",
    "# Create the first data frame\n",
    "data1 = {'text': ['I am Sachin Wandre from Pune']}\n",
    "df1 = pd.DataFrame(data1)\n",
    "\n",
    "# Create the second data frame\n",
    "data2 = {'text': ['He is Sachin Wandre Hinjewadi']}\n",
    "df2 = pd.DataFrame(data2)\n",
    "\n",
    "# Split the text into words and convert them to sets\n",
    "df1['words'] = df1['text'].str.split().apply(set)\n",
    "df2['words'] = df2['text'].str.split().apply(set)\n",
    "\n",
    "# Find the common words\n",
    "common_words = set.intersection(*df1['words'].tolist() + df2['words'].tolist())\n",
    "\n",
    "# Create a new data frame with the common words\n",
    "common_words_df = pd.DataFrame({'common_words': list(common_words)})\n",
    "\n",
    "# Display the new data frame\n",
    "print(common_words_df)\n"
   ]
  },
  {
   "cell_type": "code",
   "execution_count": 5,
   "id": "62257179",
   "metadata": {},
   "outputs": [
    {
     "name": "stdout",
     "output_type": "stream",
     "text": [
      "0    [This, is, a, sample, text, with, sachinWandre...\n",
      "1    [Another, example, with, JohnDoe, and, JaneSmith]\n",
      "Name: extracted_names, dtype: object\n"
     ]
    }
   ],
   "source": [
    "import pandas as pd\n",
    "import re\n",
    "\n",
    "# Create a sample dataframe\n",
    "data = {'text': ['This is a sample text with <p>sachinWandre</p> and <div>AshwiniWandre</div>',\n",
    "                 'Another example with <span>JohnDoe</span> and <a href=\"#\">JaneSmith</a>']}\n",
    "df = pd.DataFrame(data)\n",
    "\n",
    "# Define a function to extract camelCase and PascalCase names within HTML tags\n",
    "def extract_names_within_tags(text):\n",
    "    # Use regular expressions to find camelCase and PascalCase names within HTML tags\n",
    "    names = re.findall(r'<[^>]*>|\\b[A-Z][a-z]+(?:[A-Z][a-z]+)*\\b|\\b[a-z]+(?:[A-Z][a-z]+)*\\b', text)\n",
    "    \n",
    "    # Filter out HTML tags\n",
    "    names = [name for name in names if not name.startswith('<') and not name.endswith('>')]\n",
    "    \n",
    "    return names\n",
    "\n",
    "# Apply the function to the 'text' column\n",
    "df['extracted_names'] = df['text'].apply(extract_names_within_tags)\n",
    "\n",
    "# Display the resulting dataframe\n",
    "print(df['extracted_names'])\n"
   ]
  },
  {
   "cell_type": "code",
   "execution_count": null,
   "id": "7095cc20",
   "metadata": {},
   "outputs": [],
   "source": [
    "data = {'text': ['https://pythontutor.com/santoshWandrerender.html#mode=edit  This is a sample text with <p>sachinWandre</p> and <div>AshwiniWandre</div>',\n",
    "                 'Another example with <span>JohnDoe</span> and <a href=\"#\">JaneSmith</a>']}"
   ]
  },
  {
   "cell_type": "code",
   "execution_count": 1,
   "id": "e51bd2d7",
   "metadata": {},
   "outputs": [
    {
     "name": "stdout",
     "output_type": "stream",
     "text": [
      "<class 'list'>\n",
      "<class 'dict'>\n",
      "<class 'tuple'>\n"
     ]
    }
   ],
   "source": [
    "list1 = []\n",
    "dict1 = {}\n",
    "tuple1 = ()\n",
    "print(type(list1))\n",
    "print(type(dict1))\n",
    "print(type(tuple1))"
   ]
  },
  {
   "cell_type": "code",
   "execution_count": 2,
   "id": "6bd4e3ec",
   "metadata": {},
   "outputs": [
    {
     "name": "stdout",
     "output_type": "stream",
     "text": [
      "<class 'set'>\n"
     ]
    }
   ],
   "source": [
    "set1 = set()\n",
    "print(type(set1))"
   ]
  },
  {
   "cell_type": "code",
   "execution_count": 3,
   "id": "dbbb10f6",
   "metadata": {},
   "outputs": [
    {
     "name": "stdout",
     "output_type": "stream",
     "text": [
      "<class 'int'>\n"
     ]
    }
   ],
   "source": [
    "t = (1)\n",
    "print(type(t))"
   ]
  },
  {
   "cell_type": "code",
   "execution_count": 4,
   "id": "285c5643",
   "metadata": {},
   "outputs": [
    {
     "name": "stdout",
     "output_type": "stream",
     "text": [
      "<class 'tuple'>\n"
     ]
    }
   ],
   "source": [
    "t = (1,)\n",
    "print(type(t))"
   ]
  },
  {
   "cell_type": "code",
   "execution_count": null,
   "id": "25bff046",
   "metadata": {},
   "outputs": [],
   "source": []
  }
 ],
 "metadata": {
  "kernelspec": {
   "display_name": "Python 3 (ipykernel)",
   "language": "python",
   "name": "python3"
  },
  "language_info": {
   "codemirror_mode": {
    "name": "ipython",
    "version": 3
   },
   "file_extension": ".py",
   "mimetype": "text/x-python",
   "name": "python",
   "nbconvert_exporter": "python",
   "pygments_lexer": "ipython3",
   "version": "3.10.2"
  }
 },
 "nbformat": 4,
 "nbformat_minor": 5
}
