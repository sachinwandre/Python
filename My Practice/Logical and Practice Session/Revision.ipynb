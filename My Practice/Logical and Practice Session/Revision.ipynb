{
 "cells": [
  {
   "cell_type": "code",
   "execution_count": 1,
   "id": "90ecdd76",
   "metadata": {},
   "outputs": [
    {
     "name": "stdout",
     "output_type": "stream",
     "text": [
      "<class 'list'>\n",
      "<class 'dict'>\n",
      "<class 'tuple'>\n"
     ]
    }
   ],
   "source": [
    "list1 = []\n",
    "dict1 = {}\n",
    "tuple1 = ()\n",
    "print(type(list1))\n",
    "print(type(dict1))\n",
    "print(type(tuple1))"
   ]
  },
  {
   "cell_type": "code",
   "execution_count": 2,
   "id": "09a9a9bc",
   "metadata": {},
   "outputs": [
    {
     "name": "stdout",
     "output_type": "stream",
     "text": [
      "<class 'set'>\n"
     ]
    }
   ],
   "source": [
    "set1 = set()\n",
    "print(type(set1))"
   ]
  },
  {
   "cell_type": "code",
   "execution_count": 3,
   "id": "4230dc29",
   "metadata": {},
   "outputs": [
    {
     "name": "stdout",
     "output_type": "stream",
     "text": [
      "<class 'int'>\n"
     ]
    }
   ],
   "source": [
    "t = (1)\n",
    "print(type(t))"
   ]
  },
  {
   "cell_type": "code",
   "execution_count": 4,
   "id": "f5325c54",
   "metadata": {},
   "outputs": [
    {
     "name": "stdout",
     "output_type": "stream",
     "text": [
      "<class 'tuple'>\n"
     ]
    }
   ],
   "source": [
    "t = (1,)\n",
    "print(type(t))"
   ]
  },
  {
   "cell_type": "code",
   "execution_count": 5,
   "id": "58356a31",
   "metadata": {},
   "outputs": [
    {
     "name": "stdout",
     "output_type": "stream",
     "text": [
      "11\n",
      "13\n",
      "17\n",
      "19\n",
      "23\n",
      "29\n"
     ]
    }
   ],
   "source": [
    "for number in range(11,30):\n",
    "    for i in range(2,number):\n",
    "        if number % i == 0:\n",
    "            break\n",
    "    else:\n",
    "        print(number)"
   ]
  },
  {
   "cell_type": "code",
   "execution_count": 9,
   "id": "369bec0e",
   "metadata": {},
   "outputs": [
    {
     "name": "stdout",
     "output_type": "stream",
     "text": [
      "Prime number\n"
     ]
    }
   ],
   "source": [
    "number = 67\n",
    "for i in range(2,number):\n",
    "    if number % i == 0:\n",
    "        break\n",
    "else:\n",
    "    print('Prime number')"
   ]
  },
  {
   "cell_type": "code",
   "execution_count": 10,
   "id": "acf1f99c",
   "metadata": {},
   "outputs": [
    {
     "name": "stdout",
     "output_type": "stream",
     "text": [
      "kolkata\n"
     ]
    }
   ],
   "source": [
    "# Define the input and desired output\n",
    "input_str = \"Akalkot\"\n",
    "desired_output = \"kolkata\"\n",
    "\n",
    "# Transform the input to match the desired output\n",
    "output = ''.join([c.lower() if c.isalpha() else c for c in desired_output])\n",
    "\n",
    "print(output)\n"
   ]
  },
  {
   "cell_type": "code",
   "execution_count": 14,
   "id": "eae21917",
   "metadata": {},
   "outputs": [
    {
     "name": "stdout",
     "output_type": "stream",
     "text": [
      "a is occured 2\n",
      "b is occured 3\n",
      "x is occured 3\n",
      "c is occured 3\n",
      "d is occured 5\n",
      "e is occured 3\n"
     ]
    }
   ],
   "source": [
    "string = \"aabxbbcccxdddddeeex\"\n",
    "temp = []\n",
    "for s in string:\n",
    "    if s not in temp:\n",
    "        temp.append(s)\n",
    "        print(s,\"is occured\",string.count(s))"
   ]
  },
  {
   "cell_type": "code",
   "execution_count": 24,
   "id": "32263f09",
   "metadata": {},
   "outputs": [
    {
     "name": "stdout",
     "output_type": "stream",
     "text": [
      " I evoL AIDNI dna I ma ataD  tsitneics\n"
     ]
    }
   ],
   "source": [
    "string = \"I Love INDIA and I am Data scientist\"\n",
    "\n",
    "new = \" \"\n",
    "word = \" \"\n",
    "reverse = \" \"\n",
    "s = string.split()[-1]\n",
    "\n",
    "for i in string:\n",
    "    if i != \" \":\n",
    "        word = word + i\n",
    "    else:\n",
    "        reverse = word[::-1]\n",
    "        #new =  reverse + new\n",
    "        new =  new + reverse \n",
    "        word = \" \"\n",
    "        \n",
    "print(new + \" \"+ s[::-1])"
   ]
  },
  {
   "cell_type": "code",
   "execution_count": 25,
   "id": "da035e70",
   "metadata": {},
   "outputs": [
    {
     "name": "stdout",
     "output_type": "stream",
     "text": [
      "tsitneics ataD ma I dna AIDNI evoL I  \n"
     ]
    }
   ],
   "source": [
    "string = \"I Love INDIA and I am Data scientist\"\n",
    "\n",
    "reverse = \" \"\n",
    "new_str = \" \"\n",
    "word = \" \"\n",
    "s1 = string.split()\n",
    "#print(s1[-1])\n",
    "for s in string:\n",
    "    if s != \" \":\n",
    "        word = word + s;\n",
    "    else:       \n",
    "        reverse = word[::-1]\n",
    "        new_str = reverse + new_str\n",
    "        word = \" \"\n",
    "        #new_str = new_str + reverse\n",
    "         \n",
    "print(s1[-1][::-1] + \" \"+ new_str)"
   ]
  },
  {
   "cell_type": "code",
   "execution_count": 28,
   "id": "fe150074",
   "metadata": {},
   "outputs": [
    {
     "name": "stdout",
     "output_type": "stream",
     "text": [
      "nahi\n"
     ]
    }
   ],
   "source": [
    "s = 'malayalaiim'\n",
    "flag = True\n",
    "for n in range(0,len(s)//2):\n",
    "    if s[n] != s[(len(s)-n-1)]:\n",
    "        flag = False\n",
    "        break\n",
    "if flag:\n",
    "    print('ahe')\n",
    "else:\n",
    "    print('nahi')"
   ]
  },
  {
   "cell_type": "code",
   "execution_count": 1,
   "id": "35d459cc",
   "metadata": {},
   "outputs": [
    {
     "name": "stdout",
     "output_type": "stream",
     "text": [
      "Resultant list: [22, 20, 16, 10, 1]\n"
     ]
    }
   ],
   "source": [
    "def generate_resultant_list(arr):\n",
    "    resultant_list = []\n",
    "\n",
    "    for i in range(len(arr)):\n",
    "        total = sum(val for val in arr[i:] if val >= arr[i])\n",
    "        resultant_list.append(total)\n",
    "\n",
    "    return resultant_list\n",
    "\n",
    "# Example list\n",
    "input_list = [2, 4, 6, 10, 1]\n",
    "\n",
    "# Generate the resultant list\n",
    "result = generate_resultant_list(input_list)\n",
    "print(\"Resultant list:\", result)\n"
   ]
  },
  {
   "cell_type": "code",
   "execution_count": 2,
   "id": "47735df9",
   "metadata": {},
   "outputs": [
    {
     "data": {
      "text/plain": [
       "[16, 125, 36, 343, 64, 729, 1]"
      ]
     },
     "execution_count": 2,
     "metadata": {},
     "output_type": "execute_result"
    }
   ],
   "source": [
    "[number **2 if number%2 == 0 else number**3 for number in [4,5,6,7,8,9,1]]"
   ]
  },
  {
   "cell_type": "code",
   "execution_count": 3,
   "id": "f598b8f5",
   "metadata": {},
   "outputs": [
    {
     "data": {
      "text/plain": [
       "('Sachin', 3, 4, 66.77)"
      ]
     },
     "execution_count": 3,
     "metadata": {},
     "output_type": "execute_result"
    }
   ],
   "source": [
    "t = (\"Sachin\",3,4,66.77)\n",
    "t"
   ]
  },
  {
   "cell_type": "code",
   "execution_count": 2,
   "id": "f0ba1915",
   "metadata": {},
   "outputs": [
    {
     "name": "stdout",
     "output_type": "stream",
     "text": [
      "2\n",
      "3\n",
      "4\n",
      "\n",
      "4\n",
      "6\n",
      "8\n",
      "\n",
      "6\n",
      "9\n",
      "12\n",
      "\n",
      "8\n",
      "12\n",
      "16\n",
      "\n",
      "10\n",
      "15\n",
      "20\n",
      "\n",
      "12\n",
      "18\n",
      "24\n",
      "\n",
      "14\n",
      "21\n",
      "28\n",
      "\n",
      "16\n",
      "24\n",
      "32\n",
      "\n",
      "18\n",
      "27\n",
      "36\n",
      "\n",
      "20\n",
      "30\n",
      "40\n",
      "\n"
     ]
    }
   ],
   "source": [
    "for j in range(1,11):\n",
    "    for i in range(2,5):\n",
    "        print(i*j)\n",
    "    print()"
   ]
  },
  {
   "cell_type": "code",
   "execution_count": 4,
   "id": "a31312bb",
   "metadata": {},
   "outputs": [
    {
     "name": "stdout",
     "output_type": "stream",
     "text": [
      "{1: 'Sachin', 2: 'Snehal', 3: 'Santosh', 4: 'Sanjiwani', 5: 'Shweta', 6: 'Sujit'}\n"
     ]
    }
   ],
   "source": [
    "d = {1:\"Sachin\",3:\"Santosh\",5:\"Shweta\",4:\"Sanjiwani\",2:\"Snehal\",6:\"Sujit\"}\n",
    "\n",
    "sort = {}\n",
    "for key in sorted(d.keys()):\n",
    "    sort[key] = d[key]\n",
    "    \n",
    "print(sort)"
   ]
  },
  {
   "cell_type": "code",
   "execution_count": 6,
   "id": "ea0e2fd7",
   "metadata": {},
   "outputs": [
    {
     "name": "stdout",
     "output_type": "stream",
     "text": [
      "{1: 'Sachin', 4: 'Sanjiwani', 3: 'Santosh', 5: 'Shweta', 2: 'Snehal', 6: 'Sujit'}\n"
     ]
    }
   ],
   "source": [
    "d = {1:\"Sachin\",3:\"Santosh\",5:\"Shweta\",4:\"Sanjiwani\",2:\"Snehal\",6:\"Sujit\"}\n",
    "\n",
    "sort= {}\n",
    "for value in sorted(d.values()):\n",
    "    for key in d.keys():\n",
    "        if d[key] == value:\n",
    "            sort.update({key:value})\n",
    "            \n",
    "print(sort)"
   ]
  },
  {
   "cell_type": "code",
   "execution_count": 7,
   "id": "9f2c0b28",
   "metadata": {},
   "outputs": [
    {
     "data": {
      "text/plain": [
       "[0, 1, 2, 3, 4, 6, 6, 7, 9]"
      ]
     },
     "execution_count": 7,
     "metadata": {},
     "output_type": "execute_result"
    }
   ],
   "source": [
    "L = [3,6,1,4,2,9,6,7,0]\n",
    "sort = lambda list1 : sorted(list1)\n",
    "sort(L)"
   ]
  },
  {
   "cell_type": "code",
   "execution_count": 8,
   "id": "92bb2667",
   "metadata": {},
   "outputs": [
    {
     "data": {
      "text/plain": [
       "[6, 4, 2, 6, 0]"
      ]
     },
     "execution_count": 8,
     "metadata": {},
     "output_type": "execute_result"
    }
   ],
   "source": [
    "output = lambda list1 :[i for i in list1 if i %2 == 0]\n",
    "output(L)"
   ]
  },
  {
   "cell_type": "code",
   "execution_count": 11,
   "id": "faae9ac3",
   "metadata": {},
   "outputs": [
    {
     "data": {
      "text/plain": [
       "[(1, 100), (4, 400), (6, 600), (8, 800), (22, 200), (33, 300)]"
      ]
     },
     "execution_count": 11,
     "metadata": {},
     "output_type": "execute_result"
    }
   ],
   "source": [
    "L = [(1,100),(33,300),(6,600),(22,200),(4,400),(8,800)]\n",
    "output = lambda list1 : sorted(list1,key=lambda k : k[0])\n",
    "output(L)"
   ]
  },
  {
   "cell_type": "code",
   "execution_count": 12,
   "id": "0f8705bf",
   "metadata": {},
   "outputs": [
    {
     "data": {
      "text/plain": [
       "[(1, 100), (22, 200), (33, 300), (4, 400), (6, 600), (8, 800)]"
      ]
     },
     "execution_count": 12,
     "metadata": {},
     "output_type": "execute_result"
    }
   ],
   "source": [
    "output = lambda list1:sorted(list1,key=lambda k:k[1])\n",
    "output(L)"
   ]
  },
  {
   "cell_type": "code",
   "execution_count": 16,
   "id": "e31c55bb",
   "metadata": {},
   "outputs": [
    {
     "data": {
      "text/plain": [
       "[False, True, False, True, True, False, True, False, True]"
      ]
     },
     "execution_count": 16,
     "metadata": {},
     "output_type": "execute_result"
    }
   ],
   "source": [
    "L = [3,6,1,4,2,9,6,7,0]\n",
    "output = lambda list1 : [True if i%2==0 else False for i in list1]\n",
    "output(L)"
   ]
  },
  {
   "cell_type": "code",
   "execution_count": 17,
   "id": "a8db9378",
   "metadata": {},
   "outputs": [
    {
     "data": {
      "text/plain": [
       "[22, 44, 78, 56]"
      ]
     },
     "execution_count": 17,
     "metadata": {},
     "output_type": "execute_result"
    }
   ],
   "source": [
    "L = [11,22,33,44,55,78,41,67,89,56]\n",
    "list(filter(lambda x: x%2==0,L))"
   ]
  },
  {
   "cell_type": "code",
   "execution_count": 18,
   "id": "6872af78",
   "metadata": {},
   "outputs": [
    {
     "data": {
      "text/plain": [
       "[11, 33, 55, 41, 67, 89]"
      ]
     },
     "execution_count": 18,
     "metadata": {},
     "output_type": "execute_result"
    }
   ],
   "source": [
    "list(filter(lambda x: x %2!=0,L))"
   ]
  },
  {
   "cell_type": "code",
   "execution_count": 19,
   "id": "23764989",
   "metadata": {},
   "outputs": [
    {
     "data": {
      "text/plain": [
       "[55, 78, 67, 89, 56]"
      ]
     },
     "execution_count": 19,
     "metadata": {},
     "output_type": "execute_result"
    }
   ],
   "source": [
    "list(filter(lambda x: x > 50,L))"
   ]
  },
  {
   "cell_type": "code",
   "execution_count": 20,
   "id": "fe102da5",
   "metadata": {},
   "outputs": [
    {
     "data": {
      "text/plain": [
       "[121, 484, 1089, 1936, 3025, 6084, 1681, 4489, 7921, 3136]"
      ]
     },
     "execution_count": 20,
     "metadata": {},
     "output_type": "execute_result"
    }
   ],
   "source": [
    "list(map(lambda x : x**2,L))"
   ]
  },
  {
   "cell_type": "code",
   "execution_count": 37,
   "id": "a7af70f5",
   "metadata": {},
   "outputs": [],
   "source": [
    "path = \"D:/Data Scientist/My Coding Practice/File Handling/\"\n",
    "file = open(path +'test.txt','w')\n",
    "file.write(\"I am Sachin. Data Scientist\")\n",
    "file.close()"
   ]
  },
  {
   "cell_type": "code",
   "execution_count": 35,
   "id": "cec0a9a9",
   "metadata": {},
   "outputs": [],
   "source": [
    "# case 1 - if the file is not present\n",
    "f = open(path + 'sachin.txt','w')\n",
    "f.write('Hello world')\n",
    "f.close()\n",
    "# since file is closed hence this will not work\n",
    "#f.write('hello')"
   ]
  },
  {
   "cell_type": "code",
   "execution_count": 38,
   "id": "cf80d30e",
   "metadata": {},
   "outputs": [
    {
     "name": "stdout",
     "output_type": "stream",
     "text": [
      "I am Sachin. Data Scientist\n"
     ]
    }
   ],
   "source": [
    "file = open(path + 'test.txt','r')\n",
    "text = file.readline()\n",
    "print(text)\n",
    "file.close()"
   ]
  },
  {
   "cell_type": "code",
   "execution_count": null,
   "id": "68aae8be",
   "metadata": {},
   "outputs": [],
   "source": [
    "ipl[ipl['Matchnumber'] == 'Final'][['X','Y']]"
   ]
  },
  {
   "cell_type": "code",
   "execution_count": null,
   "id": "d41d5f9d",
   "metadata": {},
   "outputs": [],
   "source": [
    "movies['Lead Actor'] = movies['Actors'].str.split('|').apply(lambda X : X[0])"
   ]
  },
  {
   "cell_type": "code",
   "execution_count": 1,
   "id": "1e8ac7e1",
   "metadata": {},
   "outputs": [
    {
     "data": {
      "text/plain": [
       "3.6666666666666665"
      ]
     },
     "execution_count": 1,
     "metadata": {},
     "output_type": "execute_result"
    }
   ],
   "source": [
    "11/3"
   ]
  },
  {
   "cell_type": "code",
   "execution_count": 2,
   "id": "a3e874ce",
   "metadata": {},
   "outputs": [
    {
     "data": {
      "text/plain": [
       "3"
      ]
     },
     "execution_count": 2,
     "metadata": {},
     "output_type": "execute_result"
    }
   ],
   "source": [
    "11//3"
   ]
  },
  {
   "cell_type": "code",
   "execution_count": 3,
   "id": "c8f6c6e2",
   "metadata": {},
   "outputs": [
    {
     "data": {
      "text/plain": [
       "2"
      ]
     },
     "execution_count": 3,
     "metadata": {},
     "output_type": "execute_result"
    }
   ],
   "source": [
    "11%3"
   ]
  },
  {
   "cell_type": "code",
   "execution_count": 11,
   "id": "6945d894",
   "metadata": {},
   "outputs": [
    {
     "name": "stdout",
     "output_type": "stream",
     "text": [
      "1 \n",
      "1 2 1 \n",
      "1 2 3 2 1 \n",
      "1 2 3 4 3 2 1 \n",
      "1 2 3 4 5 4 3 2 1 \n",
      "1 2 3 4 5 6 5 4 3 2 1 \n"
     ]
    }
   ],
   "source": [
    "for i in range(1,7):\n",
    "    for j in range(1,i+1):\n",
    "        print(j,end = \" \")\n",
    "    for k in range(i-1,0,-1):\n",
    "        print(k,end=\" \")\n",
    "    print()"
   ]
  },
  {
   "cell_type": "code",
   "execution_count": 12,
   "id": "50cd69ed",
   "metadata": {},
   "outputs": [
    {
     "name": "stdout",
     "output_type": "stream",
     "text": [
      "1 \n",
      "1 2 1 \n",
      "1 2 3 2 1 \n",
      "1 2 3 4 3 2 1 \n",
      "1 2 3 4 5 4 3 2 1 \n",
      "1 2 3 4 5 6 5 4 3 2 1 \n"
     ]
    }
   ],
   "source": [
    "for i in range(1,7):\n",
    "    for j in range(1,i+1):\n",
    "        print(j,end = \" \")\n",
    "    for k in range(j-1,0,-1):\n",
    "        print(k,end=\" \")\n",
    "    print()"
   ]
  },
  {
   "cell_type": "code",
   "execution_count": 15,
   "id": "47a8865b",
   "metadata": {},
   "outputs": [
    {
     "data": {
      "text/plain": [
       "'en '"
      ]
     },
     "execution_count": 15,
     "metadata": {},
     "output_type": "execute_result"
    }
   ],
   "source": [
    "str1 = 'Sachin Wandre'\n",
    "str1[-1:-8:-3]"
   ]
  },
  {
   "cell_type": "code",
   "execution_count": 18,
   "id": "4bd3581f",
   "metadata": {},
   "outputs": [
    {
     "data": {
      "text/plain": [
       "'er'"
      ]
     },
     "execution_count": 18,
     "metadata": {},
     "output_type": "execute_result"
    }
   ],
   "source": [
    "str1[12:10:-1]"
   ]
  },
  {
   "cell_type": "code",
   "execution_count": 24,
   "id": "2a5246a3",
   "metadata": {},
   "outputs": [
    {
     "data": {
      "text/plain": [
       "'rdn'"
      ]
     },
     "execution_count": 24,
     "metadata": {},
     "output_type": "execute_result"
    }
   ],
   "source": [
    "str1[-2:8:-1]"
   ]
  },
  {
   "cell_type": "code",
   "execution_count": 21,
   "id": "d17263f8",
   "metadata": {},
   "outputs": [
    {
     "data": {
      "text/plain": [
       "'chin Wa'"
      ]
     },
     "execution_count": 21,
     "metadata": {},
     "output_type": "execute_result"
    }
   ],
   "source": [
    "str1[2:-4:1]"
   ]
  },
  {
   "cell_type": "code",
   "execution_count": 23,
   "id": "1f480c28",
   "metadata": {},
   "outputs": [
    {
     "data": {
      "text/plain": [
       "''"
      ]
     },
     "execution_count": 23,
     "metadata": {},
     "output_type": "execute_result"
    }
   ],
   "source": [
    "str1[2:-4:-1]"
   ]
  },
  {
   "cell_type": "code",
   "execution_count": 25,
   "id": "1ce3aeb2",
   "metadata": {},
   "outputs": [
    {
     "name": "stdout",
     "output_type": "stream",
     "text": [
      "\n"
     ]
    }
   ],
   "source": [
    "print(str1[2:10:-1])"
   ]
  },
  {
   "cell_type": "code",
   "execution_count": 26,
   "id": "fdb26c64",
   "metadata": {},
   "outputs": [
    {
     "name": "stdout",
     "output_type": "stream",
     "text": [
      "e\n"
     ]
    }
   ],
   "source": [
    "input_string = \"abcdefegch\"\n",
    "list1 = []\n",
    "temp = \"\"\n",
    "for s in input_string:\n",
    "    if s in list1:\n",
    "        print(s)\n",
    "        break\n",
    "    list1.append(s)"
   ]
  },
  {
   "cell_type": "code",
   "execution_count": 27,
   "id": "9b3073b0",
   "metadata": {},
   "outputs": [
    {
     "name": "stdout",
     "output_type": "stream",
     "text": [
      "The first repeated character is: e\n"
     ]
    }
   ],
   "source": [
    "def find_first_repeated_character(input_string):\n",
    "    char_count = {}  # Dictionary to store character counts\n",
    "\n",
    "    for char in input_string:\n",
    "        if char in char_count:\n",
    "            return char  # Found the first repeated character\n",
    "        char_count[char] = 1\n",
    "\n",
    "    return None  # No repeated character found\n",
    "\n",
    "# Input string\n",
    "input_string = \"abcdefegch\"\n",
    "\n",
    "first_repeated = find_first_repeated_character(input_string)\n",
    "\n",
    "if first_repeated:\n",
    "    print(f\"The first repeated character is: {first_repeated}\")\n",
    "else:\n",
    "    print(\"No repeated character found\")"
   ]
  },
  {
   "cell_type": "code",
   "execution_count": null,
   "id": "f7688c85",
   "metadata": {},
   "outputs": [],
   "source": [
    "string = \"I Love INDIA and I am Data scientist\"\n",
    "\n",
    "list1 = []\n",
    "\n",
    "list1 = string.split()\n",
    "\n",
    "list1.reverse()\n",
    "# print(list1)\n",
    "\n",
    "reverse_string = \" \".join(list1)\n",
    "reverse_string"
   ]
  },
  {
   "cell_type": "code",
   "execution_count": 30,
   "id": "53a86d74",
   "metadata": {},
   "outputs": [
    {
     "data": {
      "text/plain": [
       "'scientist Data am I and INDIA Love I'"
      ]
     },
     "execution_count": 30,
     "metadata": {},
     "output_type": "execute_result"
    }
   ],
   "source": [
    "string = \"I Love INDIA and I am Data scientist\"\n",
    "t = string.split()\n",
    "t.reverse()\n",
    "\" \".join(t)"
   ]
  },
  {
   "cell_type": "code",
   "execution_count": 31,
   "id": "e2d094c1",
   "metadata": {},
   "outputs": [
    {
     "name": "stdout",
     "output_type": "stream",
     "text": [
      "tsitneics  I evoL AIDNI dna I ma ataD \n"
     ]
    }
   ],
   "source": [
    "string = \"I Love INDIA and I am Data scientist\"\n",
    "\n",
    "reverse = \" \"\n",
    "new_str = \" \"\n",
    "word = \" \"\n",
    "s1 = string.split()\n",
    "#print(s1[-1])\n",
    "for s in string:\n",
    "    if s != \" \":\n",
    "        word = word + s;\n",
    "    else:       \n",
    "        reverse = word[::-1]\n",
    "        new_str = new_str + reverse \n",
    "        word = \" \"\n",
    "        #new_str = new_str + reverse\n",
    "         \n",
    "print(s1[-1][::-1] + \" \"+ new_str)"
   ]
  },
  {
   "cell_type": "code",
   "execution_count": 32,
   "id": "830a9c3f",
   "metadata": {},
   "outputs": [
    {
     "name": "stdout",
     "output_type": "stream",
     "text": [
      "tsitneics ataD ma I dna AIDNI evoL I  \n"
     ]
    }
   ],
   "source": [
    "string = \"I Love INDIA and I am Data scientist\"\n",
    "\n",
    "reverse = \" \"\n",
    "new_str = \" \"\n",
    "word = \" \"\n",
    "s1 = string.split()\n",
    "#print(s1[-1])\n",
    "for s in string:\n",
    "    if s != \" \":\n",
    "        word = word + s;\n",
    "    else:       \n",
    "        reverse = word[::-1]\n",
    "        new_str =  reverse + new_str\n",
    "        word = \" \"\n",
    "        #new_str = new_str + reverse\n",
    "         \n",
    "print(s1[-1][::-1] + \" \"+ new_str)"
   ]
  },
  {
   "cell_type": "code",
   "execution_count": 34,
   "id": "b4dc9b9e",
   "metadata": {},
   "outputs": [
    {
     "name": "stdout",
     "output_type": "stream",
     "text": [
      "[' ', 'I', 'a', 'm', 'S', 'c', 'h', 'i', 'n', 'D', 't', 'e', 's']\n"
     ]
    }
   ],
   "source": [
    "string = \" I am Sachin I am Data Scientist\"\n",
    "l = []\n",
    "for s in string:\n",
    "    if s not in l:\n",
    "        l.append(s)\n",
    "print(l)"
   ]
  },
  {
   "cell_type": "code",
   "execution_count": 37,
   "id": "c8e7dc98",
   "metadata": {},
   "outputs": [
    {
     "name": "stdout",
     "output_type": "stream",
     "text": [
      "yes\n"
     ]
    }
   ],
   "source": [
    "s = 'malayalam'\n",
    "flag = True\n",
    "\n",
    "for i in range(0,len(s)//2):\n",
    "    if s[i] != s[len(s)-i-1]:\n",
    "        flag = False\n",
    "if flag:\n",
    "    print('yes')\n",
    "else:\n",
    "    print('no')"
   ]
  },
  {
   "cell_type": "code",
   "execution_count": 41,
   "id": "f7896777",
   "metadata": {},
   "outputs": [
    {
     "name": "stdout",
     "output_type": "stream",
     "text": [
      "Prime\n"
     ]
    }
   ],
   "source": [
    "number = 37\n",
    "\n",
    "for i in range(2,number//2):\n",
    "    if number % i == 0:\n",
    "        break\n",
    "        \n",
    "else:\n",
    "    print(\"Prime\")"
   ]
  },
  {
   "cell_type": "code",
   "execution_count": 44,
   "id": "4bf84d14",
   "metadata": {},
   "outputs": [
    {
     "name": "stdout",
     "output_type": "stream",
     "text": [
      "1\n",
      "2\n",
      "3\n",
      "5\n",
      "7\n",
      "11\n",
      "13\n",
      "17\n",
      "19\n",
      "23\n",
      "29\n",
      "31\n",
      "37\n",
      "41\n",
      "43\n",
      "47\n",
      "53\n",
      "59\n",
      "61\n",
      "67\n"
     ]
    }
   ],
   "source": [
    "start = 1\n",
    "end = 67\n",
    "\n",
    "for i in range(start,end+1):\n",
    "    for j in range(2,i):\n",
    "        if i % j == 0:\n",
    "            break\n",
    "    else:\n",
    "        print(i)"
   ]
  },
  {
   "cell_type": "code",
   "execution_count": 45,
   "id": "e5395341",
   "metadata": {},
   "outputs": [
    {
     "data": {
      "text/plain": [
       "[22, 44, 78, 56]"
      ]
     },
     "execution_count": 45,
     "metadata": {},
     "output_type": "execute_result"
    }
   ],
   "source": [
    "L = [11,22,33,44,55,78,41,67,89,56]\n",
    "list(filter(lambda x : x%2==0,L))"
   ]
  },
  {
   "cell_type": "code",
   "execution_count": 46,
   "id": "ec0bc370",
   "metadata": {},
   "outputs": [
    {
     "data": {
      "text/plain": [
       "[1331, 10648, 35937, 85184, 166375, 474552, 68921, 300763, 704969, 175616]"
      ]
     },
     "execution_count": 46,
     "metadata": {},
     "output_type": "execute_result"
    }
   ],
   "source": [
    "list(map(lambda x : x**3 ,L))"
   ]
  },
  {
   "cell_type": "code",
   "execution_count": null,
   "id": "12e16764",
   "metadata": {},
   "outputs": [],
   "source": []
  }
 ],
 "metadata": {
  "kernelspec": {
   "display_name": "Python 3 (ipykernel)",
   "language": "python",
   "name": "python3"
  },
  "language_info": {
   "codemirror_mode": {
    "name": "ipython",
    "version": 3
   },
   "file_extension": ".py",
   "mimetype": "text/x-python",
   "name": "python",
   "nbconvert_exporter": "python",
   "pygments_lexer": "ipython3",
   "version": "3.11.4"
  }
 },
 "nbformat": 4,
 "nbformat_minor": 5
}
