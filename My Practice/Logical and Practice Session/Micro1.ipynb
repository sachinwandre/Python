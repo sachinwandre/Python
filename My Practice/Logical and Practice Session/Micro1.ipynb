{
 "cells": [
  {
   "cell_type": "markdown",
   "id": "cb867cb1",
   "metadata": {},
   "source": [
    "### STACK"
   ]
  },
  {
   "cell_type": "code",
   "execution_count": 1,
   "id": "fbd42b29",
   "metadata": {},
   "outputs": [
    {
     "name": "stdout",
     "output_type": "stream",
     "text": [
      "pushed item: 1\n",
      "pushed item: 2\n",
      "pushed item: 3\n",
      "pushed item: 4\n",
      "popped item: 4\n",
      "stack after popping an element: ['1', '2', '3']\n"
     ]
    }
   ],
   "source": [
    "# Stack implementation in python\n",
    "\n",
    "# Creating a stack\n",
    "def create_stack():\n",
    "    stack = []\n",
    "    return stack\n",
    "\n",
    "\n",
    "# Creating an empty stack\n",
    "def check_empty(stack):\n",
    "    return len(stack) == 0\n",
    "\n",
    "\n",
    "# Adding items into the stack\n",
    "def push(stack, item):\n",
    "    stack.append(item)\n",
    "    print(\"pushed item: \" + item)\n",
    "\n",
    "\n",
    "# Removing an element from the stack\n",
    "def pop(stack):\n",
    "    if (check_empty(stack)):\n",
    "        return \"stack is empty\"\n",
    "\n",
    "    return stack.pop()\n",
    "\n",
    "stack = create_stack()\n",
    "push(stack, str(1))\n",
    "push(stack, str(2))\n",
    "push(stack, str(3))\n",
    "push(stack, str(4))\n",
    "print(\"popped item: \" + pop(stack))\n",
    "print(\"stack after popping an element: \" + str(stack))"
   ]
  },
  {
   "cell_type": "code",
   "execution_count": 2,
   "id": "62c05af4",
   "metadata": {},
   "outputs": [
    {
     "name": "stdout",
     "output_type": "stream",
     "text": [
      "pushed item: 1\n",
      "pushed item: 2\n",
      "pushed item: 3\n",
      "pushed item: 4\n",
      "popped item: 4\n",
      "[1, 2, 3]\n"
     ]
    }
   ],
   "source": [
    "class Stack_Implementation:\n",
    "    \n",
    "    # Creating a stack\n",
    "    def create_stack(self):\n",
    "        stack = []\n",
    "        return stack\n",
    "\n",
    "    # Creating an empty stack\n",
    "    def check_empty(self, stack):\n",
    "        return len(stack) == 0\n",
    "\n",
    "    # Adding items into the stack\n",
    "    def push(self, stack, item):\n",
    "        stack.append(item)\n",
    "        print(\"pushed item: \" + str(item))\n",
    "\n",
    "    # Removing an element from the stack\n",
    "    def pop(self, stack):\n",
    "        if self.check_empty(stack):\n",
    "            return \"stack is empty\"\n",
    "        else:\n",
    "            return stack.pop()\n",
    "    \n",
    "    def stack_items(self, stack):\n",
    "        return stack\n",
    "\n",
    "s = Stack_Implementation()\n",
    "stack = s.create_stack()\n",
    "s.push(stack, 1)\n",
    "s.push(stack, 2)\n",
    "s.push(stack, 3)\n",
    "s.push(stack, 4)\n",
    "print(\"popped item: \" + str(s.pop(stack)))\n",
    "print(s.stack_items(stack))\n"
   ]
  },
  {
   "cell_type": "code",
   "execution_count": 3,
   "id": "16989bbe",
   "metadata": {},
   "outputs": [
    {
     "name": "stdout",
     "output_type": "stream",
     "text": [
      "Stack is empty\n",
      "[]\n"
     ]
    }
   ],
   "source": [
    "class Stack:\n",
    "    \n",
    "    def create_stack(self):\n",
    "        stack = []\n",
    "        return stack\n",
    "    \n",
    "    def push(self,stack,item):\n",
    "        stack.append(item)\n",
    "        \n",
    "    def pop(self,stack):\n",
    "        if self.check_empty(stack):\n",
    "            print(\"Stack is empty\")\n",
    "        else:\n",
    "            stack.pop()\n",
    "    \n",
    "    def check_empty(self,stack):\n",
    "        return len(stack) == 0\n",
    "    \n",
    "    def print_stack(self,stack):\n",
    "        return stack\n",
    "    \n",
    "s = Stack()\n",
    "stack = s.create_stack()\n",
    "s.push(stack,1)\n",
    "s.push(stack,2)\n",
    "s.push(stack,3)\n",
    "s.push(stack,4)\n",
    "s.pop(stack)\n",
    "s.pop(stack)\n",
    "s.pop(stack)\n",
    "s.pop(stack)\n",
    "s.pop(stack)\n",
    "print(s.print_stack(stack))"
   ]
  },
  {
   "cell_type": "code",
   "execution_count": 4,
   "id": "933ee214",
   "metadata": {},
   "outputs": [
    {
     "name": "stdout",
     "output_type": "stream",
     "text": [
      "deque([11, 44])\n"
     ]
    }
   ],
   "source": [
    "from collections import deque\n",
    "\n",
    "stack = deque()\n",
    "stack.append(11)\n",
    "stack.append(44)\n",
    "stack.append(55)\n",
    "stack.pop()\n",
    "print(stack)"
   ]
  },
  {
   "cell_type": "code",
   "execution_count": 5,
   "id": "61187232",
   "metadata": {},
   "outputs": [
    {
     "name": "stdout",
     "output_type": "stream",
     "text": [
      "99\n",
      "55\n"
     ]
    }
   ],
   "source": [
    "from queue import LifoQueue\n",
    "\n",
    "stack = LifoQueue()\n",
    "stack.put(44)\n",
    "stack.put(55)\n",
    "stack.put(99)\n",
    "print(stack.get())\n",
    "print(stack.get())"
   ]
  },
  {
   "cell_type": "code",
   "execution_count": 1,
   "id": "4539956a",
   "metadata": {},
   "outputs": [
    {
     "name": "stdout",
     "output_type": "stream",
     "text": [
      "Stack:65 , 60 , 55 , 50 , 45 , 40 , 35 , 30 , 25 , 20\n",
      "Pop: 65\n",
      "Pop: 60\n",
      "Pop: 55\n",
      "Pop: 50\n",
      "Pop: 45\n",
      "Stack: 40 , 35 , 30 , 25 , 20\n"
     ]
    }
   ],
   "source": [
    "# Stack implementation using linked list\n",
    "# Node creation\n",
    "class Node:\n",
    "    def __init__(self, value):\n",
    "        self.value = value\n",
    "        self.next = None\n",
    "\n",
    "#Stack creation\n",
    "class Stack:\n",
    "    #Stack with dummy node\n",
    "    def __init__(self):\n",
    "        self.head = Node(\"head\")\n",
    "        self.size = 0\n",
    "\n",
    "#  For string representation of the stack\n",
    "    def __str__(self):\n",
    "        val = self.head.next\n",
    "        show = \"\"\n",
    "        while val:\n",
    "            show += str(val.value) + \" , \"\n",
    "            val = val.next\n",
    "        return show[:-3]\n",
    "\n",
    "# Retrieve the size of the stack\n",
    "    def getSize(self):\n",
    "        return self.size\n",
    "\n",
    "# Check if the stack is empty\n",
    "    def isEmpty(self):\n",
    "        return self.size == 0\n",
    "\n",
    "# Retrieve the top item of the stack\n",
    "    def peek(self):\n",
    "        # Check for empty stack.\n",
    "        if self.isEmpty():\n",
    "            raise Exception(\"This is an empty stack\")\n",
    "        return self.head.next.value\n",
    "\n",
    "# Push operation\n",
    "    def push(self, value):\n",
    "        node = Node(value)\n",
    "        node.next = self.head.next\n",
    "        self.head.next = node\n",
    "        self.size += 1\n",
    "\n",
    "# Pop Operation\n",
    "    def pop(self):\n",
    "        if self.isEmpty():\n",
    "            raise Exception(\"Stack is empty\")\n",
    "        remove = self.head.next\n",
    "        self.head.next = self.head.next.next\n",
    "        self.size -= 1\n",
    "        return remove.value\n",
    "\n",
    "\n",
    "#Driver Code\n",
    "if __name__ == \"__main__\":\n",
    "    stack = Stack()\n",
    "    n=20\n",
    "    for i in range(1, 11):\n",
    "        stack.push(n)\n",
    "        n+=5\n",
    "    print(f\"Stack:{stack}\")\n",
    "\n",
    "    for i  in range(1, 6):\n",
    "        remove = stack.pop()\n",
    "        print(f\"Pop: {remove}\")\n",
    "    print(f\"Stack: {stack}\")"
   ]
  },
  {
   "cell_type": "markdown",
   "id": "cd66d6df",
   "metadata": {},
   "source": [
    "### QUEUE"
   ]
  },
  {
   "cell_type": "code",
   "execution_count": 8,
   "id": "18a0841c",
   "metadata": {},
   "outputs": [
    {
     "name": "stdout",
     "output_type": "stream",
     "text": [
      "Initial queue\n",
      "['a', 'b', 'c']\n",
      "\n",
      "Elements dequeued from queue\n",
      "a\n",
      "b\n",
      "c\n",
      "\n",
      "Queue after removing elements\n",
      "[]\n"
     ]
    }
   ],
   "source": [
    "queue = []\n",
    "queue.append('a')\n",
    "queue.append('b')\n",
    "queue.append('c')\n",
    "print(\"Initial queue\")\n",
    "print(queue)\n",
    "print(\"\\nElements dequeued from queue\")\n",
    "print(queue.pop(0))\n",
    "print(queue.pop(0))\n",
    "print(queue.pop(0))\n",
    "print(\"\\nQueue after removing elements\")\n",
    "print(queue)"
   ]
  },
  {
   "cell_type": "code",
   "execution_count": 1,
   "id": "27f467cb",
   "metadata": {},
   "outputs": [
    {
     "name": "stdout",
     "output_type": "stream",
     "text": [
      "Initial queue\n",
      "deque(['a', 'b', 'c'])\n",
      "\n",
      "Elements dequeued from the queue\n",
      "a\n",
      "b\n",
      "c\n",
      "\n",
      "Queue after removing elements\n",
      "deque([])\n"
     ]
    }
   ],
   "source": [
    "from collections import deque\n",
    "q = deque()\n",
    "q.append('a')\n",
    "q.append('b')\n",
    "q.append('c')\n",
    "print(\"Initial queue\")\n",
    "print(q)\n",
    "print(\"\\nElements dequeued from the queue\")\n",
    "print(q.popleft())\n",
    "print(q.popleft())\n",
    "print(q.popleft())\n",
    " \n",
    "print(\"\\nQueue after removing elements\")\n",
    "print(q)"
   ]
  },
  {
   "cell_type": "code",
   "execution_count": 10,
   "id": "f539be5c",
   "metadata": {},
   "outputs": [
    {
     "name": "stdout",
     "output_type": "stream",
     "text": [
      "0\n",
      "\n",
      "Full:  True\n",
      "\n",
      "Elements dequeued from the queue\n",
      "a\n",
      "b\n",
      "c\n",
      "\n",
      "Empty:  True\n",
      "\n",
      "Empty:  False\n",
      "Full:  False\n"
     ]
    }
   ],
   "source": [
    "from queue import Queue\n",
    "q = Queue(maxsize = 3)\n",
    "print(q.qsize()) \n",
    "q.put('a')\n",
    "q.put('b')\n",
    "q.put('c')\n",
    "print(\"\\nFull: \", q.full()) \n",
    "print(\"\\nElements dequeued from the queue\")\n",
    "print(q.get())\n",
    "print(q.get())\n",
    "print(q.get())\n",
    "print(\"\\nEmpty: \", q.empty())\n",
    "q.put(1)\n",
    "print(\"\\nEmpty: \", q.empty()) \n",
    "print(\"Full: \", q.full())"
   ]
  },
  {
   "cell_type": "code",
   "execution_count": 11,
   "id": "f357726b",
   "metadata": {},
   "outputs": [
    {
     "name": "stdout",
     "output_type": "stream",
     "text": [
      "Initial Size Before Insertion: 0\n",
      "After Insertion: 4\n",
      "Queue is Full or Not: True\n",
      "Size of Queue: 4\n",
      "Removing Elements:\n",
      "A\n",
      "AA\n",
      "AAA\n",
      "Empty or Not?? False\n",
      "AAAA\n",
      "Empty or Not?? True\n",
      "Size of Queue: 0\n"
     ]
    }
   ],
   "source": [
    "# implment queue using queue module\n",
    "from queue import Queue\n",
    "q=Queue(maxsize=4)\n",
    "print(\"Initial Size Before Insertion:\",q.qsize())\n",
    "q.put('A')\n",
    "q.put('AA')\n",
    "q.put('AAA')\n",
    "q.put('AAAA')\n",
    "print(\"After Insertion:\",q.qsize())\n",
    "print(\"Queue is Full or Not:\",q.full())\n",
    "print(\"Size of Queue:\",q.qsize())\n",
    "print(\"Removing Elements:\")\n",
    "print(q.get())\n",
    "print(q.get())\n",
    "print(q.get())\n",
    "print(\"Empty or Not??\",q.empty())\n",
    "print(q.get())\n",
    "print(\"Empty or Not??\",q.empty())\n",
    "print(\"Size of Queue:\",q.qsize())"
   ]
  },
  {
   "cell_type": "markdown",
   "id": "d66e8724",
   "metadata": {},
   "source": [
    "### LINKED LIST"
   ]
  },
  {
   "cell_type": "code",
   "execution_count": 2,
   "id": "5197ab76",
   "metadata": {},
   "outputs": [
    {
     "name": "stdout",
     "output_type": "stream",
     "text": [
      "Node Data\n",
      "c\n",
      "a\n",
      "g\n",
      "b\n",
      "d\n",
      "\n",
      "Remove First Node\n",
      "Remove Last Node\n",
      "Remove Node at Index 1\n",
      "\n",
      "Linked list after removing a node:\n",
      "a\n",
      "b\n",
      "\n",
      "Update node Value\n",
      "z\n",
      "b\n",
      "\n",
      "Size of linked list : 2\n"
     ]
    }
   ],
   "source": [
    "# Create a Node class to create a node\n",
    "class Node:\n",
    "    def __init__(self, data):\n",
    "        self.data = data\n",
    "        self.next = None\n",
    "\n",
    "# Create a LinkedList class\n",
    "\n",
    "\n",
    "class LinkedList:\n",
    "    def __init__(self):\n",
    "        self.head = None\n",
    "\n",
    "    # Method to add a node at begin of LL\n",
    "    def insertAtBegin(self, data):\n",
    "        new_node = Node(data)\n",
    "        if self.head is None:\n",
    "            self.head = new_node\n",
    "            return\n",
    "        else:\n",
    "            new_node.next = self.head\n",
    "            self.head = new_node\n",
    "\n",
    "    # Method to add a node at any index\n",
    "    # Indexing starts from 0.\n",
    "    def insertAtIndex(self, data, index):\n",
    "        new_node = Node(data)\n",
    "        current_node = self.head\n",
    "        position = 0\n",
    "        if position == index:\n",
    "            self.insertAtBegin(data)\n",
    "        else:\n",
    "            while(current_node != None and position+1 != index):\n",
    "                position = position+1\n",
    "                current_node = current_node.next\n",
    "\n",
    "            if current_node != None:\n",
    "                new_node.next = current_node.next\n",
    "                current_node.next = new_node\n",
    "            else:\n",
    "                print(\"Index not present\")\n",
    "\n",
    "    # Method to add a node at the end of LL\n",
    "\n",
    "    def insertAtEnd(self, data):\n",
    "        new_node = Node(data)\n",
    "        if self.head is None:\n",
    "            self.head = new_node\n",
    "            return\n",
    "\n",
    "        current_node = self.head\n",
    "        while(current_node.next):\n",
    "            current_node = current_node.next\n",
    "\n",
    "        current_node.next = new_node\n",
    "\n",
    "    # Update node of a linked list\n",
    "        # at given position\n",
    "    def updateNode(self, val, index):\n",
    "        current_node = self.head\n",
    "        position = 0\n",
    "        if position == index:\n",
    "            current_node.data = val\n",
    "        else:\n",
    "            while(current_node != None and position != index):\n",
    "                position = position+1\n",
    "                current_node = current_node.next\n",
    "\n",
    "            if current_node != None:\n",
    "                current_node.data = val\n",
    "            else:\n",
    "                print(\"Index not present\")\n",
    "\n",
    "    # Method to remove first node of linked list\n",
    "\n",
    "    def remove_first_node(self):\n",
    "        if(self.head == None):\n",
    "            return\n",
    "\n",
    "        self.head = self.head.next\n",
    "\n",
    "    # Method to remove last node of linked list\n",
    "    def remove_last_node(self):\n",
    "\n",
    "        if self.head is None:\n",
    "            return\n",
    "\n",
    "        current_node = self.head\n",
    "        while(current_node.next.next):\n",
    "            current_node = current_node.next\n",
    "\n",
    "        current_node.next = None\n",
    "\n",
    "    # Method to remove at given index\n",
    "    def remove_at_index(self, index):\n",
    "        if self.head == None:\n",
    "            return\n",
    "\n",
    "        current_node = self.head\n",
    "        position = 0\n",
    "        if position == index:\n",
    "            self.remove_first_node()\n",
    "        else:\n",
    "            while(current_node != None and position+1 != index):\n",
    "                position = position+1\n",
    "                current_node = current_node.next\n",
    "\n",
    "            if current_node != None:\n",
    "                current_node.next = current_node.next.next\n",
    "            else:\n",
    "                print(\"Index not present\")\n",
    "\n",
    "    # Method to remove a node from linked list\n",
    "    def remove_node(self, data):\n",
    "        current_node = self.head\n",
    "\n",
    "        if current_node.data == data:\n",
    "            self.remove_first_node()\n",
    "            return\n",
    "\n",
    "        while(current_node != None and current_node.next.data != data):\n",
    "            current_node = current_node.next\n",
    "\n",
    "        if current_node == None:\n",
    "            return\n",
    "        else:\n",
    "            current_node.next = current_node.next.next\n",
    "\n",
    "    # Print the size of linked list\n",
    "    def sizeOfLL(self):\n",
    "        size = 0\n",
    "        if(self.head):\n",
    "            current_node = self.head\n",
    "            while(current_node):\n",
    "                size = size+1\n",
    "                current_node = current_node.next\n",
    "            return size\n",
    "        else:\n",
    "            return 0\n",
    "\n",
    "    # print method for the linked list\n",
    "    def printLL(self):\n",
    "        current_node = self.head\n",
    "        while(current_node):\n",
    "            print(current_node.data)\n",
    "            current_node = current_node.next\n",
    "\n",
    "\n",
    "# create a new linked list\n",
    "llist = LinkedList()\n",
    "\n",
    "# add nodes to the linked list\n",
    "llist.insertAtEnd('a')\n",
    "llist.insertAtEnd('b')\n",
    "llist.insertAtBegin('c')\n",
    "llist.insertAtEnd('d')\n",
    "llist.insertAtIndex('g', 2)\n",
    "\n",
    "# print the linked list\n",
    "print(\"Node Data\")\n",
    "llist.printLL()\n",
    "\n",
    "# remove a nodes from the linked list\n",
    "print(\"\\nRemove First Node\")\n",
    "llist.remove_first_node()\n",
    "print(\"Remove Last Node\")\n",
    "llist.remove_last_node()\n",
    "print(\"Remove Node at Index 1\")\n",
    "llist.remove_at_index(1)\n",
    "\n",
    "\n",
    "# print the linked list again\n",
    "print(\"\\nLinked list after removing a node:\")\n",
    "llist.printLL()\n",
    "\n",
    "print(\"\\nUpdate node Value\")\n",
    "llist.updateNode('z', 0)\n",
    "llist.printLL()\n",
    "\n",
    "print(\"\\nSize of linked list :\", end=\" \")\n",
    "print(llist.sizeOfLL())\n"
   ]
  },
  {
   "cell_type": "markdown",
   "id": "86d90d0a",
   "metadata": {},
   "source": [
    "### DOUBLY LINKED LIST"
   ]
  },
  {
   "cell_type": "code",
   "execution_count": 3,
   "id": "06394861",
   "metadata": {},
   "outputs": [
    {
     "name": "stdout",
     "output_type": "stream",
     "text": [
      "Forward:\n",
      "0 <-> 1 <-> 2 <-> 3 <-> None\n",
      "Reverse:\n",
      "3 <-> 2 <-> 1 <-> 0 <-> None\n"
     ]
    }
   ],
   "source": [
    "class Node:\n",
    "    def __init__(self, data):\n",
    "        self.data = data\n",
    "        self.next = None\n",
    "        self.prev = None\n",
    "\n",
    "class DoublyLinkedList:\n",
    "    def __init__(self):\n",
    "        self.head = None\n",
    "\n",
    "    def append(self, data):\n",
    "        new_node = Node(data)\n",
    "        if not self.head:\n",
    "            self.head = new_node\n",
    "        else:\n",
    "            current = self.head\n",
    "            while current.next:\n",
    "                current = current.next\n",
    "            current.next = new_node\n",
    "            new_node.prev = current\n",
    "\n",
    "    def prepend(self, data):\n",
    "        new_node = Node(data)\n",
    "        if not self.head:\n",
    "            self.head = new_node\n",
    "        else:\n",
    "            new_node.next = self.head\n",
    "            self.head.prev = new_node\n",
    "            self.head = new_node\n",
    "\n",
    "    def print_list(self):\n",
    "        current = self.head\n",
    "        while current:\n",
    "            print(current.data, end=\" <-> \")\n",
    "            current = current.next\n",
    "        print(\"None\")\n",
    "\n",
    "    def print_reverse(self):\n",
    "        current = self.head\n",
    "        while current and current.next:\n",
    "            current = current.next\n",
    "        while current:\n",
    "            print(current.data, end=\" <-> \")\n",
    "            current = current.prev\n",
    "        print(\"None\")\n",
    "\n",
    "# Example usage:\n",
    "dll = DoublyLinkedList()\n",
    "dll.append(1)\n",
    "dll.append(2)\n",
    "dll.append(3)\n",
    "dll.prepend(0)\n",
    "\n",
    "print(\"Forward:\")\n",
    "dll.print_list()\n",
    "\n",
    "print(\"Reverse:\")\n",
    "dll.print_reverse()\n"
   ]
  },
  {
   "cell_type": "code",
   "execution_count": 13,
   "id": "d593a921",
   "metadata": {},
   "outputs": [],
   "source": [
    "# Creating a node class\n",
    "class Node:\n",
    "    def __init__(self, data):\n",
    "        self.data = data #adding an element to the node\n",
    "        self.next = None # Initally this node will not be linked with any other node\n",
    "        self.prev = None # It will not be linked in either direction\n",
    "\n",
    "\n",
    "# Creating a doubly linked list class\n",
    "class DoublyLinkedList:\n",
    "    def __init__(self):\n",
    "        self.head = None # Initally there are no elements in the list\n",
    "        self.tail = None\n",
    "  \n",
    "\n",
    "    def push_front(self, new_data): # Adding an element before the first element\n",
    "        new_node = Node(new_data) # creating a new node with the desired value\n",
    "        new_node.next = self.head # newly created node's next pointer will refer to the old head\n",
    "\n",
    "        if self.head != None: # Checks whether list is empty or not\n",
    "            self.head.prev = new_node # old head's previous pointer will refer to newly created node\n",
    "            self.head = new_node # new node becomes the new head\n",
    "            new_node.prev = None\n",
    "    \n",
    "        else: # If the list is empty, make new node both head and tail\n",
    "            self.head = new_node\n",
    "            self.tail = new_node\n",
    "            new_node.prev = None # There's only one element so both pointers refer to null\n",
    "    \n",
    "\n",
    "    def push_back(self, new_data): # Adding an element after the last element\n",
    "        new_node = Node(new_data)\n",
    "        new_node.prev = self.tail\n",
    "\n",
    "        if self.tail == None: # checks whether the list is empty, if so make both head and tail as new node\n",
    "            self.head = new_node \n",
    "            self.tail = new_node\n",
    "            new_node.next = None # the first element's previous pointer has to refer to null\n",
    "              \n",
    "        else: # If list is not empty, change pointers accordingly\n",
    "            self.tail.next = new_node\n",
    "            new_node.next = None\n",
    "            self.tail = new_node # Make new node the new tail\n",
    "    \n",
    "\n",
    "    def peek_front(self): # returns first element\n",
    "        if self.head == None: # checks whether list is empty or not\n",
    "            print(\"List is empty\")\n",
    "        else:\n",
    "            return self.head.data\n",
    "\n",
    "  \n",
    "    def peek_back(self): # returns last element\n",
    "        if self.tail == None: # checks whether list is empty or not\n",
    "            print(\"List is empty\")\n",
    "        else:\n",
    "            return self.tail.data\n",
    "  \n",
    "\n",
    "    def pop_front(self): # removes and returns the first element\n",
    "        if self.head == None:\n",
    "            print(\"List is empty\")\n",
    "\n",
    "        else:\n",
    "            temp = self.head\n",
    "            temp.next.prev = None # remove previous pointer referring to old head\n",
    "            self.head = temp.next # make second element the new head\n",
    "            temp.next = None # remove next pointer referring to new head\n",
    "            return temp.data\n",
    "  \n",
    "  \n",
    "    def pop_back(self): # removes and returns the last element\n",
    "        if self.tail == None:\n",
    "            print(\"List is empty\")\n",
    "\n",
    "        else:\n",
    "            temp = self.tail\n",
    "            temp.prev.next = None # removes next pointer referring to old tail\n",
    "            self.tail = temp.prev # make second to last element the new tail\n",
    "            temp.prev = None # remove previous pointer referring to new tail\n",
    "            return temp.data\n",
    "  \n",
    "\n",
    "    def insert_after(self, temp_node, new_data): # Inserting a new node after a given node\n",
    "        if temp_node == None:\n",
    "            print(\"Given node is empty\")\n",
    "\n",
    "        if temp_node != None:\n",
    "            new_node = Node(new_data)\n",
    "            new_node.next = temp_node.next\n",
    "            temp_node.next = new_node\n",
    "            new_node.prev = temp_node\n",
    "        if new_node.next != None:\n",
    "            new_node.next.prev = new_node\n",
    "\n",
    "        if temp_node == self.tail: # checks whether new node is being added to the last element\n",
    "            self.tail = new_node # makes new node the new tail\n",
    "    \n",
    "\n",
    "  \n",
    "    def insert_before(self, temp_node, new_data): # Inserting a new node before a given node\n",
    "        if temp_node == None:\n",
    "            print(\"Given node is empty\")\n",
    "\n",
    "        if temp_node != None:\n",
    "            new_node.prev = temp_node.prev\n",
    "            temp_node.prev = new_node\n",
    "            new_node.next = temp_node\n",
    "        if new_node.prev != None:\n",
    "            new_node.prev.next = new_node\n",
    "\n",
    "        if temp_node == self.head: # checks whether new node is being added before the first element\n",
    "            self.head = new_node # makes new node the new head\n",
    "        \n",
    "    def print_forward(self):\n",
    "        current = self.head\n",
    "        while current:\n",
    "            print(current.data, end=\" <-> \")\n",
    "            current = current.next\n",
    "        print(\"None\")"
   ]
  },
  {
   "cell_type": "code",
   "execution_count": 14,
   "id": "3bd8a2ae",
   "metadata": {},
   "outputs": [],
   "source": [
    "d = DoublyLinkedList()\n",
    "d.push_front(10)\n",
    "d.push_front(20)\n",
    "d.push_back(90)"
   ]
  },
  {
   "cell_type": "code",
   "execution_count": 15,
   "id": "d1f68525",
   "metadata": {},
   "outputs": [
    {
     "name": "stdout",
     "output_type": "stream",
     "text": [
      "<__main__.DoublyLinkedList object at 0x000001ADB237B7F0>\n"
     ]
    }
   ],
   "source": [
    "print(d)"
   ]
  },
  {
   "cell_type": "code",
   "execution_count": 16,
   "id": "711841f6",
   "metadata": {},
   "outputs": [
    {
     "name": "stdout",
     "output_type": "stream",
     "text": [
      "20 <-> 10 <-> 90 <-> None\n"
     ]
    }
   ],
   "source": [
    "d.print_forward()"
   ]
  },
  {
   "cell_type": "markdown",
   "id": "33b50a32",
   "metadata": {},
   "source": [
    "### Binary Search"
   ]
  },
  {
   "cell_type": "code",
   "execution_count": 21,
   "id": "a853f76f",
   "metadata": {},
   "outputs": [
    {
     "name": "stdout",
     "output_type": "stream",
     "text": [
      "12\n"
     ]
    }
   ],
   "source": [
    "def binary_search(arr, target):\n",
    "    left = 0\n",
    "    right = len(arr) - 1\n",
    "\n",
    "    while left <= right:\n",
    "        mid = int((left + right) / 2)\n",
    "        if arr[mid] == target:\n",
    "            return mid  # Target found, return its index\n",
    "        elif arr[mid] < target:\n",
    "            left = mid + 1\n",
    "        else:\n",
    "            right = mid - 1\n",
    "\n",
    "    return -1  # Target not found\n",
    "\n",
    "arr = [1, 2, 3, 4, 5, 6, 7, 8, 9, 22, 33, 44, 55, 77, 88, 99]\n",
    "target = 55\n",
    "result = binary_search(arr, target)\n",
    "print(result)\n"
   ]
  },
  {
   "cell_type": "code",
   "execution_count": 32,
   "id": "2db5d013",
   "metadata": {},
   "outputs": [
    {
     "name": "stdout",
     "output_type": "stream",
     "text": [
      "15\n"
     ]
    }
   ],
   "source": [
    "## Linear search\n",
    "\n",
    "def Linear_Search(arr,target):\n",
    "    for index in range(len(arr)):\n",
    "        if arr[index] == target:\n",
    "            return index\n",
    "            break\n",
    "            \n",
    "    else:\n",
    "        print('Not found in array')\n",
    "\n",
    "\n",
    "arr = [1, 2, 3, 4, 5, 6, 7, 8, 9, 22, 33, 44, 55, 77, 88, 99]\n",
    "target = 99\n",
    "result = Linear_Search(arr, target)\n",
    "print(result)"
   ]
  },
  {
   "cell_type": "code",
   "execution_count": 24,
   "id": "ab8d5236",
   "metadata": {},
   "outputs": [
    {
     "name": "stdout",
     "output_type": "stream",
     "text": [
      "12\n"
     ]
    }
   ],
   "source": [
    "def binary_search(arr,target):\n",
    "    left = 0\n",
    "    right = len(arr)-1\n",
    "    \n",
    "    while left <= right:\n",
    "        mid = int((left+right) /2 )\n",
    "        if arr[mid] == target:\n",
    "            return mid\n",
    "        elif arr[mid] < target:\n",
    "            left = mid + 1\n",
    "        else:\n",
    "            right = mid -1\n",
    "            \n",
    "    return -1 \n",
    "\n",
    "arr = [1, 2, 3, 4, 5, 6, 7, 8, 9, 22, 33, 44, 55, 77, 88, 99]\n",
    "target = 55\n",
    "result = binary_search(arr, target)\n",
    "print(result)\n"
   ]
  },
  {
   "cell_type": "markdown",
   "id": "66df56b9",
   "metadata": {},
   "source": [
    "### BUBBLE SORT"
   ]
  },
  {
   "cell_type": "code",
   "execution_count": 33,
   "id": "ec4fced9",
   "metadata": {},
   "outputs": [
    {
     "name": "stdout",
     "output_type": "stream",
     "text": [
      "Sorted array: [11, 12, 22, 25, 64]\n"
     ]
    }
   ],
   "source": [
    "def bubble_sort(arr):\n",
    "    n = len(arr)\n",
    "\n",
    "    # Traverse through all array elements\n",
    "    for i in range(n):\n",
    "        # Last i elements are already in place, so we don't need to check them\n",
    "        for j in range(0, n - i - 1):\n",
    "            # Swap if the element found is greater than the next element\n",
    "            if arr[j] > arr[j + 1]:\n",
    "                arr[j], arr[j + 1] = arr[j + 1], arr[j]\n",
    "\n",
    "# Example usage:\n",
    "my_list = [64, 25, 12, 22, 11]\n",
    "bubble_sort(my_list)\n",
    "\n",
    "print(\"Sorted array:\", my_list)\n"
   ]
  },
  {
   "cell_type": "markdown",
   "id": "3957beab",
   "metadata": {},
   "source": [
    "### SELECTION SORT"
   ]
  },
  {
   "cell_type": "code",
   "execution_count": 35,
   "id": "c0be8055",
   "metadata": {},
   "outputs": [
    {
     "name": "stdout",
     "output_type": "stream",
     "text": [
      "Sorted array: [64, 25, 22, 12, 11]\n"
     ]
    }
   ],
   "source": [
    "def selection_sort(arr):\n",
    "    n = len(arr)\n",
    "\n",
    "    # Traverse through all array elements\n",
    "    for i in range(n):\n",
    "        # Find the minimum element in the unsorted part of the array\n",
    "        min_index = i\n",
    "        for j in range(i + 1, n):\n",
    "            if arr[j] > arr[min_index]:\n",
    "                min_index = j\n",
    "\n",
    "        # Swap the found minimum element with the first element\n",
    "        arr[i], arr[min_index] = arr[min_index], arr[i]\n",
    "\n",
    "# Example usage:\n",
    "my_list = [64, 25, 12, 22, 11]\n",
    "selection_sort(my_list)\n",
    "\n",
    "print(\"Sorted array:\", my_list)\n"
   ]
  },
  {
   "cell_type": "code",
   "execution_count": null,
   "id": "e2f7ea54",
   "metadata": {},
   "outputs": [],
   "source": [
    "for i in range(len(n)):\n",
    "    for j in range(0,n-i-1):\n",
    "        if arr[j] > arr[j+1]:\n",
    "            arr[j],arr[j+1] = arr[j+1],arr[j]            "
   ]
  },
  {
   "cell_type": "code",
   "execution_count": null,
   "id": "fba16250",
   "metadata": {},
   "outputs": [],
   "source": [
    "for i in range(len(n)):\n",
    "    index = i\n",
    "    for j in range(i+1,n):\n",
    "        if arr[j] > arr[index]:\n",
    "            index = j\n",
    "    arr[i],arr[index] = arr[index],arr[i]"
   ]
  }
 ],
 "metadata": {
  "kernelspec": {
   "display_name": "Python 3 (ipykernel)",
   "language": "python",
   "name": "python3"
  },
  "language_info": {
   "codemirror_mode": {
    "name": "ipython",
    "version": 3
   },
   "file_extension": ".py",
   "mimetype": "text/x-python",
   "name": "python",
   "nbconvert_exporter": "python",
   "pygments_lexer": "ipython3",
   "version": "3.9.17"
  }
 },
 "nbformat": 4,
 "nbformat_minor": 5
}
