{
 "cells": [
  {
   "cell_type": "code",
   "execution_count": 2,
   "id": "79cd2167",
   "metadata": {},
   "outputs": [
    {
     "name": "stdout",
     "output_type": "stream",
     "text": [
      "{1: 'Sachin', 2: 'Snehal', 3: 'Santosh', 4: 'Sanjiwani', 5: 'Shweta', 6: 'Sujit'}\n"
     ]
    }
   ],
   "source": [
    "dict1 = {1:\"Sachin\",3:\"Santosh\",5:\"Shweta\",4:\"Sanjiwani\",2:\"Snehal\",6:\"Sujit\"}\n",
    "sort_dict = {}\n",
    "\n",
    "for key in sorted(dict1.keys()):\n",
    "    sort_dict[key] = dict1[key]\n",
    "    \n",
    "print(sort_dict)"
   ]
  },
  {
   "cell_type": "code",
   "execution_count": 3,
   "id": "37e88df5",
   "metadata": {},
   "outputs": [
    {
     "data": {
      "text/plain": [
       "[(1, 'Sachin'),\n",
       " (2, 'Snehal'),\n",
       " (3, 'Santosh'),\n",
       " (4, 'Sanjiwani'),\n",
       " (5, 'Shweta'),\n",
       " (6, 'Sujit')]"
      ]
     },
     "execution_count": 3,
     "metadata": {},
     "output_type": "execute_result"
    }
   ],
   "source": [
    "d = sorted(dict1.items(),key=lambda x : x[0])\n",
    "d"
   ]
  },
  {
   "cell_type": "code",
   "execution_count": 4,
   "id": "91d54a1c",
   "metadata": {},
   "outputs": [
    {
     "data": {
      "text/plain": [
       "[(1, 'Sachin'),\n",
       " (4, 'Sanjiwani'),\n",
       " (3, 'Santosh'),\n",
       " (5, 'Shweta'),\n",
       " (2, 'Snehal'),\n",
       " (6, 'Sujit')]"
      ]
     },
     "execution_count": 4,
     "metadata": {},
     "output_type": "execute_result"
    }
   ],
   "source": [
    "d = sorted(dict1.items(),key=lambda x : x[1])\n",
    "d"
   ]
  },
  {
   "cell_type": "code",
   "execution_count": 5,
   "id": "11c0adca",
   "metadata": {},
   "outputs": [
    {
     "name": "stdout",
     "output_type": "stream",
     "text": [
      "{1: 'Sachin', 4: 'Sanjiwani', 3: 'Santosh', 5: 'Shweta', 2: 'Snehal', 6: 'Sujit'}\n"
     ]
    }
   ],
   "source": [
    "dict1 = {1:\"Sachin\",3:\"Santosh\",5:\"Shweta\",4:\"Sanjiwani\",2:\"Snehal\",6:\"Sujit\"}\n",
    "sort_dict = {}\n",
    "\n",
    "for value in sorted(dict1.values()):\n",
    "    for key in dict1.keys():\n",
    "        if dict1[key] == value:\n",
    "            sort_dict.update({key:value})\n",
    "            \n",
    "            \n",
    "print(sort_dict)"
   ]
  },
  {
   "cell_type": "code",
   "execution_count": 12,
   "id": "8c7ad231",
   "metadata": {},
   "outputs": [
    {
     "name": "stdout",
     "output_type": "stream",
     "text": [
      "not prime\n"
     ]
    }
   ],
   "source": [
    "no = 72\n",
    "\n",
    "for i in range(2,no):\n",
    "    if no % i == 0:\n",
    "        print(\"not prime\")\n",
    "        break\n",
    "else:\n",
    "    print(\"is prime\")"
   ]
  },
  {
   "cell_type": "code",
   "execution_count": 13,
   "id": "9d7af6cc",
   "metadata": {},
   "outputs": [
    {
     "name": "stdout",
     "output_type": "stream",
     "text": [
      "11\n",
      "13\n",
      "17\n",
      "19\n",
      "23\n",
      "29\n",
      "31\n",
      "37\n",
      "41\n",
      "43\n",
      "47\n",
      "53\n",
      "59\n",
      "61\n",
      "67\n",
      "71\n",
      "73\n",
      "79\n",
      "83\n",
      "89\n",
      "97\n"
     ]
    }
   ],
   "source": [
    "for i in range(10,100):\n",
    "    for j in range(2,i):\n",
    "        if i % j == 0:\n",
    "            break\n",
    "    else:\n",
    "        print(i)"
   ]
  },
  {
   "cell_type": "code",
   "execution_count": 14,
   "id": "c9916f1a",
   "metadata": {},
   "outputs": [
    {
     "data": {
      "text/plain": [
       "[5, 10, 15]"
      ]
     },
     "execution_count": 14,
     "metadata": {},
     "output_type": "execute_result"
    }
   ],
   "source": [
    "[n for n in range(1,20) if n %5 == 0]"
   ]
  },
  {
   "cell_type": "code",
   "execution_count": 15,
   "id": "a1b99033",
   "metadata": {},
   "outputs": [
    {
     "data": {
      "text/plain": [
       "[35, 70]"
      ]
     },
     "execution_count": 15,
     "metadata": {},
     "output_type": "execute_result"
    }
   ],
   "source": [
    "[n for n in range(3,78) if n%5 == 0 and n%7 == 0]"
   ]
  },
  {
   "cell_type": "code",
   "execution_count": 19,
   "id": "80c2a833",
   "metadata": {},
   "outputs": [
    {
     "name": "stdout",
     "output_type": "stream",
     "text": [
      "no\n"
     ]
    }
   ],
   "source": [
    "number = 125\n",
    "temp = number \n",
    "cube = 0\n",
    "\n",
    "while number > 0:\n",
    "    reminder = number % 10\n",
    "    cube = cube + reminder**3\n",
    "    number = number // 10\n",
    "    \n",
    "if temp == cube:\n",
    "    print('yes')\n",
    "else:\n",
    "    print('no')"
   ]
  },
  {
   "cell_type": "code",
   "execution_count": 25,
   "id": "8aadb65e",
   "metadata": {},
   "outputs": [
    {
     "name": "stdout",
     "output_type": "stream",
     "text": [
      "yes\n"
     ]
    }
   ],
   "source": [
    "number = 153\n",
    "temp = str(number)\n",
    "cube = 0\n",
    "for i in temp:\n",
    "    cube = cube + int(i)**3\n",
    "    \n",
    "if number == cube:\n",
    "    print('yes')\n",
    "else:\n",
    "    print('No')\n",
    "    "
   ]
  },
  {
   "cell_type": "code",
   "execution_count": 27,
   "id": "80a69379",
   "metadata": {},
   "outputs": [
    {
     "data": {
      "text/plain": [
       "[333, 77, 99, 88, 33, 55, 44, 22]"
      ]
     },
     "execution_count": 27,
     "metadata": {},
     "output_type": "execute_result"
    }
   ],
   "source": [
    "list1 = [22,44,55,33,88,99,77,333]\n",
    "\n",
    "for i in range(len(list1)//2):\n",
    "    list1[i],list1[len(list1)-1-i] = list1[len(list1)-1-i], list1[i]\n",
    "    \n",
    "list1"
   ]
  },
  {
   "cell_type": "code",
   "execution_count": 31,
   "id": "63e45425",
   "metadata": {},
   "outputs": [
    {
     "data": {
      "text/plain": [
       "['HELLO', 'WORLD']"
      ]
     },
     "execution_count": 31,
     "metadata": {},
     "output_type": "execute_result"
    }
   ],
   "source": [
    "def uppercase(function):\n",
    "    def wrapper():\n",
    "        fun = function()\n",
    "        return fun.upper()        \n",
    "    return wrapper\n",
    "def splitchar(function):\n",
    "    def wrapper():\n",
    "        func = function()\n",
    "        return func.split()\n",
    "    return wrapper\n",
    "@splitchar\n",
    "@uppercase\n",
    "def hello():\n",
    "    return \"hello world\"\n",
    "\n",
    "hello()"
   ]
  },
  {
   "cell_type": "code",
   "execution_count": 33,
   "id": "e4a4a0ac",
   "metadata": {},
   "outputs": [
    {
     "data": {
      "text/plain": [
       "'Hello Sachin Ashwini'"
      ]
     },
     "execution_count": 33,
     "metadata": {},
     "output_type": "execute_result"
    }
   ],
   "source": [
    "def capitle(function):\n",
    "    def wrapper(name1,name2):\n",
    "        name1 = name1.capitalize()\n",
    "        name2 = name2.capitalize()\n",
    "        string = function(name1,name2)\n",
    "        return string\n",
    "    return wrapper\n",
    "\n",
    "@capitle\n",
    "def hello(name1,name2):\n",
    "    return 'Hello ' + name1 + \" \" + name2\n",
    "\n",
    "hello('sachin','ashwini')"
   ]
  },
  {
   "cell_type": "code",
   "execution_count": 34,
   "id": "018ff74f",
   "metadata": {},
   "outputs": [
    {
     "name": "stdout",
     "output_type": "stream",
     "text": [
      "0 1\n",
      "1\n",
      "2\n",
      "3\n",
      "5\n",
      "8\n",
      "13\n",
      "21\n",
      "34\n"
     ]
    }
   ],
   "source": [
    "n1,n2 = 0,1\n",
    "print(n1,n2)\n",
    "for i in range(2,10):\n",
    "    n3 = n1+n2\n",
    "    n1 = n2\n",
    "    n2 = n3\n",
    "    print(n3)"
   ]
  },
  {
   "cell_type": "code",
   "execution_count": 39,
   "id": "4265ba03",
   "metadata": {},
   "outputs": [
    {
     "name": "stdout",
     "output_type": "stream",
     "text": [
      "1\n",
      "2\n",
      "3\n",
      "5\n",
      "8\n",
      "13\n",
      "21\n",
      "34\n",
      "55\n"
     ]
    }
   ],
   "source": [
    "number = 80\n",
    "n1 = 0\n",
    "n2 = 1\n",
    "n3 = 0\n",
    "\n",
    "while n3 < number:\n",
    "    n3 = n1+n2\n",
    "    if n3 < number:\n",
    "        print(n3)\n",
    "    n1 = n2\n",
    "    n2 = n3\n",
    "    "
   ]
  },
  {
   "cell_type": "code",
   "execution_count": null,
   "id": "42b953a2",
   "metadata": {},
   "outputs": [],
   "source": [
    "number = 80\n",
    "n1 = 0\n",
    "n2 = 1\n",
    "n3 = 0\n",
    "\n",
    "while n3 < number:\n",
    "    n3 = n1+n2\n",
    "        if n3 < number:\n",
    "    print(n3)\n",
    "    n1 = n2\n",
    "    n2 = n3\n",
    "    \n",
    "    "
   ]
  },
  {
   "cell_type": "code",
   "execution_count": null,
   "id": "dfdc52ad",
   "metadata": {},
   "outputs": [],
   "source": []
  }
 ],
 "metadata": {
  "kernelspec": {
   "display_name": "Python 3 (ipykernel)",
   "language": "python",
   "name": "python3"
  },
  "language_info": {
   "codemirror_mode": {
    "name": "ipython",
    "version": 3
   },
   "file_extension": ".py",
   "mimetype": "text/x-python",
   "name": "python",
   "nbconvert_exporter": "python",
   "pygments_lexer": "ipython3",
   "version": "3.9.17"
  }
 },
 "nbformat": 4,
 "nbformat_minor": 5
}
