{
 "cells": [
  {
   "cell_type": "code",
   "execution_count": 1,
   "id": "acfc6fd8",
   "metadata": {},
   "outputs": [],
   "source": [
    "# This is single line comments"
   ]
  },
  {
   "cell_type": "code",
   "execution_count": 2,
   "id": "9e7ddf2e",
   "metadata": {},
   "outputs": [],
   "source": [
    "# This\n",
    "# is \n",
    "# multiple \n",
    "# line \n",
    "# comments\n",
    "\n",
    "#shortcut - Ctrl+/"
   ]
  },
  {
   "cell_type": "code",
   "execution_count": 3,
   "id": "9ecd17c7",
   "metadata": {},
   "outputs": [],
   "source": [
    "# Hi\n",
    "# how \n",
    "# r u"
   ]
  },
  {
   "cell_type": "code",
   "execution_count": 4,
   "id": "497ed05f",
   "metadata": {},
   "outputs": [],
   "source": [
    "# Sachin\n",
    "# Wandre"
   ]
  },
  {
   "cell_type": "code",
   "execution_count": 5,
   "id": "d2e93041",
   "metadata": {},
   "outputs": [],
   "source": [
    "# Sachin"
   ]
  },
  {
   "cell_type": "code",
   "execution_count": 6,
   "id": "b78b5643",
   "metadata": {},
   "outputs": [],
   "source": [
    "# Wandre  Pune # "
   ]
  },
  {
   "cell_type": "code",
   "execution_count": 7,
   "id": "3cc16206",
   "metadata": {},
   "outputs": [],
   "source": [
    "# Hello\n",
    "# How \n",
    "# are \n",
    "# you"
   ]
  }
 ],
 "metadata": {
  "kernelspec": {
   "display_name": "Python 3 (ipykernel)",
   "language": "python",
   "name": "python3"
  },
  "language_info": {
   "codemirror_mode": {
    "name": "ipython",
    "version": 3
   },
   "file_extension": ".py",
   "mimetype": "text/x-python",
   "name": "python",
   "nbconvert_exporter": "python",
   "pygments_lexer": "ipython3",
   "version": "3.10.2"
  }
 },
 "nbformat": 4,
 "nbformat_minor": 5
}
