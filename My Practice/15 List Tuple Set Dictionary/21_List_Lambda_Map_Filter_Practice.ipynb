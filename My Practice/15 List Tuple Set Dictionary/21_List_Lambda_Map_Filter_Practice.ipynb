{
 "cells": [
  {
   "cell_type": "markdown",
   "id": "c2fced64",
   "metadata": {},
   "source": [
    "### List comprehension"
   ]
  },
  {
   "cell_type": "code",
   "execution_count": 1,
   "id": "061455dc",
   "metadata": {},
   "outputs": [
    {
     "data": {
      "text/plain": [
       "[2, 3, 6, 34]"
      ]
     },
     "execution_count": 1,
     "metadata": {},
     "output_type": "execute_result"
    }
   ],
   "source": [
    "L = [2,3,-4,6,-7,-10,34,-7,-9]\n",
    "[num for num in L if num > 0]"
   ]
  },
  {
   "cell_type": "code",
   "execution_count": 2,
   "id": "ee530de4",
   "metadata": {},
   "outputs": [
    {
     "data": {
      "text/plain": [
       "[-4, -7, -10, -7, -9]"
      ]
     },
     "execution_count": 2,
     "metadata": {},
     "output_type": "execute_result"
    }
   ],
   "source": [
    "L = [2,3,-4,6,-7,-10,34,-7,-9]\n",
    "[num for num in L if num < 0]"
   ]
  },
  {
   "cell_type": "code",
   "execution_count": 3,
   "id": "2b70e6d3",
   "metadata": {},
   "outputs": [
    {
     "data": {
      "text/plain": [
       "['Positive',\n",
       " 'Positive',\n",
       " 'negative',\n",
       " 'Positive',\n",
       " 'negative',\n",
       " 'negative',\n",
       " 'Positive',\n",
       " 'negative',\n",
       " 'negative']"
      ]
     },
     "execution_count": 3,
     "metadata": {},
     "output_type": "execute_result"
    }
   ],
   "source": [
    "L = [2,3,-4,6,-7,-10,34,-7,-9]\n",
    "[\"Positive\"  if num > 0 else \"negative\" for num in L]"
   ]
  },
  {
   "cell_type": "code",
   "execution_count": 4,
   "id": "6e3735d9",
   "metadata": {},
   "outputs": [
    {
     "data": {
      "text/plain": [
       "[5, 10, 15, 20, 25, 30, 35, 40, 45, 50, 55, 60, 65, 70, 75, 80, 85, 90, 95]"
      ]
     },
     "execution_count": 4,
     "metadata": {},
     "output_type": "execute_result"
    }
   ],
   "source": [
    "# Numbers divisible by 5\n",
    "[n for n in range(1,100) if n%5 == 0]"
   ]
  },
  {
   "cell_type": "code",
   "execution_count": 5,
   "id": "11e861b9",
   "metadata": {},
   "outputs": [
    {
     "data": {
      "text/plain": [
       "[35, 70]"
      ]
     },
     "execution_count": 5,
     "metadata": {},
     "output_type": "execute_result"
    }
   ],
   "source": [
    "[n for n in range(1,100) if n % 5 == 0 if n % 7 == 0]"
   ]
  },
  {
   "cell_type": "code",
   "execution_count": 6,
   "id": "1973d3ed",
   "metadata": {},
   "outputs": [
    {
     "data": {
      "text/plain": [
       "[1, 4, 9, 16, 25, 36, 49, 64, 81]"
      ]
     },
     "execution_count": 6,
     "metadata": {},
     "output_type": "execute_result"
    }
   ],
   "source": [
    "L = [1,2,3,4,5,6,7,8,9]\n",
    "[n*n for n in L]"
   ]
  },
  {
   "cell_type": "code",
   "execution_count": 7,
   "id": "5c41e412",
   "metadata": {},
   "outputs": [
    {
     "data": {
      "text/plain": [
       "['apple']"
      ]
     },
     "execution_count": 7,
     "metadata": {},
     "output_type": "execute_result"
    }
   ],
   "source": [
    "fruits = [\"apple\", \"banana\", \"cherry\", \"kiwi\", \"mango\"]\n",
    "[fruit for fruit in fruits if fruit.startswith('a')]"
   ]
  },
  {
   "cell_type": "code",
   "execution_count": 8,
   "id": "f49d9aad",
   "metadata": {},
   "outputs": [
    {
     "data": {
      "text/plain": [
       "['apple', 'guava', 'banana']"
      ]
     },
     "execution_count": 8,
     "metadata": {},
     "output_type": "execute_result"
    }
   ],
   "source": [
    "basket = [\"apple\",'guava','cherry','banana']\n",
    "my_fruits = ['apple','kiwi','grapes','banana','guava']\n",
    "[fruit for fruit in basket if fruit in my_fruits]"
   ]
  },
  {
   "cell_type": "code",
   "execution_count": 9,
   "id": "0b4fe58f",
   "metadata": {},
   "outputs": [
    {
     "data": {
      "text/plain": [
       "['apple']"
      ]
     },
     "execution_count": 9,
     "metadata": {},
     "output_type": "execute_result"
    }
   ],
   "source": [
    "basket = [\"apple\",'guava','cherry','banana']\n",
    "my_fruits = ['apple','kiwi','grapes','banana','guava']\n",
    "[fruit for fruit in basket if fruit in my_fruits if fruit.startswith(\"a\")]"
   ]
  },
  {
   "cell_type": "code",
   "execution_count": 10,
   "id": "3be5543a",
   "metadata": {},
   "outputs": [
    {
     "data": {
      "text/plain": [
       "['apple']"
      ]
     },
     "execution_count": 10,
     "metadata": {},
     "output_type": "execute_result"
    }
   ],
   "source": [
    "[fruit for fruit in basket if fruit in my_fruits and fruit.startswith(\"a\")]"
   ]
  },
  {
   "cell_type": "code",
   "execution_count": 11,
   "id": "37635958",
   "metadata": {},
   "outputs": [
    {
     "data": {
      "text/plain": [
       "[[2, 3, 4, 5, 6], [3, 4, 5, 6, 7], [4, 5, 6, 7, 8], [5, 6, 7, 8, 9]]"
      ]
     },
     "execution_count": 11,
     "metadata": {},
     "output_type": "execute_result"
    }
   ],
   "source": [
    "[[i+j for j in range(1,6)]for i in range(1,5)]\n",
    "    # Outer  loop          inner loop   "
   ]
  },
  {
   "cell_type": "markdown",
   "id": "989e0c5a",
   "metadata": {},
   "source": [
    "### Lambda"
   ]
  },
  {
   "cell_type": "code",
   "execution_count": 12,
   "id": "c2962f3d",
   "metadata": {},
   "outputs": [
    {
     "data": {
      "text/plain": [
       "100"
      ]
     },
     "execution_count": 12,
     "metadata": {},
     "output_type": "execute_result"
    }
   ],
   "source": [
    "sqr = lambda x : x*x\n",
    "sqr(10)"
   ]
  },
  {
   "cell_type": "code",
   "execution_count": 13,
   "id": "416461a2",
   "metadata": {},
   "outputs": [
    {
     "data": {
      "text/plain": [
       "10000"
      ]
     },
     "execution_count": 13,
     "metadata": {},
     "output_type": "execute_result"
    }
   ],
   "source": [
    "sqr = lambda x : x**2\n",
    "sqr(100)"
   ]
  },
  {
   "cell_type": "code",
   "execution_count": 14,
   "id": "51266edd",
   "metadata": {},
   "outputs": [
    {
     "data": {
      "text/plain": [
       "1000"
      ]
     },
     "execution_count": 14,
     "metadata": {},
     "output_type": "execute_result"
    }
   ],
   "source": [
    "cube = lambda x : x**3\n",
    "cube(10)"
   ]
  },
  {
   "cell_type": "code",
   "execution_count": 15,
   "id": "19819762",
   "metadata": {},
   "outputs": [
    {
     "data": {
      "text/plain": [
       "300"
      ]
     },
     "execution_count": 15,
     "metadata": {},
     "output_type": "execute_result"
    }
   ],
   "source": [
    "sum1 = lambda x,y : x+y\n",
    "sum1(100,200)"
   ]
  },
  {
   "cell_type": "code",
   "execution_count": 16,
   "id": "2e09c630",
   "metadata": {},
   "outputs": [
    {
     "data": {
      "text/plain": [
       "True"
      ]
     },
     "execution_count": 16,
     "metadata": {},
     "output_type": "execute_result"
    }
   ],
   "source": [
    "string = \"Hello\"\n",
    "output = lambda str1 : str1.startswith(\"H\")\n",
    "\n",
    "output(string)"
   ]
  },
  {
   "cell_type": "code",
   "execution_count": 17,
   "id": "9408eb2b",
   "metadata": {},
   "outputs": [
    {
     "data": {
      "text/plain": [
       "False"
      ]
     },
     "execution_count": 17,
     "metadata": {},
     "output_type": "execute_result"
    }
   ],
   "source": [
    "string = \"Hello\"\n",
    "output = lambda str1 :True if str1.startswith(\"d\") else False\n",
    "\n",
    "output(string)"
   ]
  },
  {
   "cell_type": "code",
   "execution_count": 18,
   "id": "4c1f529f",
   "metadata": {},
   "outputs": [
    {
     "data": {
      "text/plain": [
       "'even'"
      ]
     },
     "execution_count": 18,
     "metadata": {},
     "output_type": "execute_result"
    }
   ],
   "source": [
    "a = lambda x:'even' if x%2 == 0 else 'odd'\n",
    "a(6)"
   ]
  },
  {
   "cell_type": "code",
   "execution_count": 19,
   "id": "0d022ec5",
   "metadata": {},
   "outputs": [
    {
     "data": {
      "text/plain": [
       "'odd'"
      ]
     },
     "execution_count": 19,
     "metadata": {},
     "output_type": "execute_result"
    }
   ],
   "source": [
    "a = lambda x : 'even' if x%2 ==0 else 'odd'\n",
    "a(99)"
   ]
  },
  {
   "cell_type": "code",
   "execution_count": 20,
   "id": "6cc8d3a6",
   "metadata": {},
   "outputs": [
    {
     "data": {
      "text/plain": [
       "[4, 6]"
      ]
     },
     "execution_count": 20,
     "metadata": {},
     "output_type": "execute_result"
    }
   ],
   "source": [
    "pos = lambda x : [i for i in x if i%2 == 0 ]\n",
    "pos([4,5,6,7,89])"
   ]
  },
  {
   "cell_type": "code",
   "execution_count": 21,
   "id": "4948c94e",
   "metadata": {},
   "outputs": [
    {
     "data": {
      "text/plain": [
       "[0, 1, 2, 3, 4, 6, 6, 7, 9]"
      ]
     },
     "execution_count": 21,
     "metadata": {},
     "output_type": "execute_result"
    }
   ],
   "source": [
    "# Sort list using lambda\n",
    "L = [3,6,1,4,2,9,6,7,0]\n",
    "sort = lambda list1 : sorted(list1)\n",
    "sort(L)"
   ]
  },
  {
   "cell_type": "code",
   "execution_count": 22,
   "id": "a8195473",
   "metadata": {},
   "outputs": [
    {
     "data": {
      "text/plain": [
       "[(1, 100), (2, 200), (3, 300), (4, 400), (6, 600), (8, 800)]"
      ]
     },
     "execution_count": 22,
     "metadata": {},
     "output_type": "execute_result"
    }
   ],
   "source": [
    "L = [(1,100),(3,300),(6,600),(2,200),(4,400),(8,800)]\n",
    "\n",
    "sort = lambda list1 : sorted(list1,key=lambda k : k[0])\n",
    "sort(L)"
   ]
  },
  {
   "cell_type": "code",
   "execution_count": 23,
   "id": "b4bd7e9b",
   "metadata": {},
   "outputs": [
    {
     "data": {
      "text/plain": [
       "[(6, 66), (8, 88), (1, 100), (2, 200), (3, 300), (4, 400)]"
      ]
     },
     "execution_count": 23,
     "metadata": {},
     "output_type": "execute_result"
    }
   ],
   "source": [
    "L = [(1,100),(3,300),(6,66),(2,200),(4,400),(8,88)]\n",
    "sort = lambda list2 : sorted(list2,key=lambda k :k[1])\n",
    "sort(L)"
   ]
  },
  {
   "cell_type": "code",
   "execution_count": 24,
   "id": "ca9a970b",
   "metadata": {},
   "outputs": [
    {
     "data": {
      "text/plain": [
       "[(1, 100), (2, 200), (3, 300), (4, 400), (6, 66), (8, 88)]"
      ]
     },
     "execution_count": 24,
     "metadata": {},
     "output_type": "execute_result"
    }
   ],
   "source": [
    "L = [(1,100),(3,300),(6,66),(2,200),(4,400),(8,88)]\n",
    "L.sort(key = lambda k : k[0])\n",
    "L"
   ]
  },
  {
   "cell_type": "code",
   "execution_count": 25,
   "id": "a6cb64ad",
   "metadata": {},
   "outputs": [
    {
     "data": {
      "text/plain": [
       "[(6, 66), (8, 88), (1, 100), (2, 200), (3, 300), (4, 400)]"
      ]
     },
     "execution_count": 25,
     "metadata": {},
     "output_type": "execute_result"
    }
   ],
   "source": [
    "L = [(1,100),(3,300),(6,66),(2,200),(4,400),(8,88)]\n",
    "L.sort(key=lambda k : k[1])\n",
    "L"
   ]
  },
  {
   "cell_type": "code",
   "execution_count": 26,
   "id": "5f0f57f5",
   "metadata": {},
   "outputs": [
    {
     "data": {
      "text/plain": [
       "[('Che', 55), ('Eng', 52), ('Hindi', 72), ('Math', 78), ('Phy', 68)]"
      ]
     },
     "execution_count": 26,
     "metadata": {},
     "output_type": "execute_result"
    }
   ],
   "source": [
    "dict1 = {\"Phy\":68,\"Che\":55,\"Math\":78,\"Eng\":52,\"Hindi\":72,}\n",
    "sort = lambda dict1 : sorted(dict1.items(),key= lambda k : k[0])\n",
    "sort(dict1)"
   ]
  },
  {
   "cell_type": "code",
   "execution_count": 27,
   "id": "1e0b360f",
   "metadata": {},
   "outputs": [
    {
     "data": {
      "text/plain": [
       "[('Che', 55), ('Eng', 52), ('Hindi', 72), ('Math', 78), ('Phy', 68)]"
      ]
     },
     "execution_count": 27,
     "metadata": {},
     "output_type": "execute_result"
    }
   ],
   "source": [
    "dict1 = {\"Phy\":68,\"Che\":55,\"Math\":78,\"Eng\":52,\"Hindi\":72,}\n",
    "sort = sorted(dict1.items(),key= lambda k : k[0])\n",
    "sort"
   ]
  },
  {
   "cell_type": "code",
   "execution_count": 28,
   "id": "13eb3db6",
   "metadata": {},
   "outputs": [
    {
     "data": {
      "text/plain": [
       "[('Eng', 52), ('Che', 55), ('Phy', 68), ('Hindi', 72), ('Math', 78)]"
      ]
     },
     "execution_count": 28,
     "metadata": {},
     "output_type": "execute_result"
    }
   ],
   "source": [
    "dict1 = {\"Phy\":68,\"Che\":55,\"Math\":78,\"Eng\":52,\"Hindi\":72,}\n",
    "sort = lambda dict1 : sorted(dict1.items(),key= lambda k : k[1])\n",
    "sort(dict1)"
   ]
  },
  {
   "cell_type": "code",
   "execution_count": 29,
   "id": "535e8e54",
   "metadata": {},
   "outputs": [
    {
     "data": {
      "text/plain": [
       "[('Eng', 52), ('Che', 55), ('Phy', 68), ('Hindi', 72), ('Math', 78)]"
      ]
     },
     "execution_count": 29,
     "metadata": {},
     "output_type": "execute_result"
    }
   ],
   "source": [
    "dict1 = {\"Phy\":68,\"Che\":55,\"Math\":78,\"Eng\":52,\"Hindi\":72,}\n",
    "sort = sorted(dict1.items(),key= lambda k : k[1])\n",
    "sort"
   ]
  },
  {
   "cell_type": "code",
   "execution_count": 30,
   "id": "166e230e",
   "metadata": {},
   "outputs": [
    {
     "data": {
      "text/plain": [
       "[100, 121, 144, 169, 196, 225]"
      ]
     },
     "execution_count": 30,
     "metadata": {},
     "output_type": "execute_result"
    }
   ],
   "source": [
    "list1 = [10,11,12,13,14,15]\n",
    "sqr = lambda list1 : [x**2 for x in list1]\n",
    "sqr(list1)\n"
   ]
  },
  {
   "cell_type": "code",
   "execution_count": 31,
   "id": "01fab2aa",
   "metadata": {},
   "outputs": [
    {
     "data": {
      "text/plain": [
       "[2, 3, 6, 34]"
      ]
     },
     "execution_count": 31,
     "metadata": {},
     "output_type": "execute_result"
    }
   ],
   "source": [
    "L = [2,3,-4,6,-7,-10,34,-7,-9]\n",
    "positive = lambda list1 : [num for num in list1 if num > 0]\n",
    "positive(L)"
   ]
  },
  {
   "cell_type": "code",
   "execution_count": 32,
   "id": "55b04f9a",
   "metadata": {},
   "outputs": [
    {
     "data": {
      "text/plain": [
       "[-4, -7, -10, -7, -9]"
      ]
     },
     "execution_count": 32,
     "metadata": {},
     "output_type": "execute_result"
    }
   ],
   "source": [
    "L = [2,3,-4,6,-7,-10,34,-7,-9]\n",
    "\n",
    "negative = lambda list1:[num for num in list1 if num < 0]\n",
    "\n",
    "negative(L)"
   ]
  },
  {
   "cell_type": "code",
   "execution_count": 33,
   "id": "faa84f5e",
   "metadata": {},
   "outputs": [
    {
     "data": {
      "text/plain": [
       "[-4, -7, -10, -7, -9, 2, 3, 6, 34]"
      ]
     },
     "execution_count": 33,
     "metadata": {},
     "output_type": "execute_result"
    }
   ],
   "source": [
    "L = [2,3,-4,6,-7,-10,34,-7,-9]\n",
    "\n",
    "all = lambda list1:[num for num in list1 if num < 0] +[num for num in list1 if num > 0]\n",
    "\n",
    "all(L)"
   ]
  },
  {
   "cell_type": "code",
   "execution_count": 34,
   "id": "172b292f",
   "metadata": {},
   "outputs": [
    {
     "data": {
      "text/plain": [
       "[22, 44, 78, 56]"
      ]
     },
     "execution_count": 34,
     "metadata": {},
     "output_type": "execute_result"
    }
   ],
   "source": [
    "L = [11,22,33,44,55,78,41,67,89,56]\n",
    "even = lambda list1 : [number for number in list1 if number%2 == 0]\n",
    "even(L)\n"
   ]
  },
  {
   "cell_type": "markdown",
   "id": "083d8292",
   "metadata": {},
   "source": [
    "### Lambda Function"
   ]
  },
  {
   "cell_type": "code",
   "execution_count": 35,
   "id": "ba569a3f",
   "metadata": {},
   "outputs": [
    {
     "data": {
      "text/plain": [
       "[22, 44, 78, 56]"
      ]
     },
     "execution_count": 35,
     "metadata": {},
     "output_type": "execute_result"
    }
   ],
   "source": [
    "L = [11,22,33,44,55,78,41,67,89,56]\n",
    "list(filter(lambda n : n % 2 == 0,L))"
   ]
  },
  {
   "cell_type": "code",
   "execution_count": 36,
   "id": "c128c351",
   "metadata": {},
   "outputs": [
    {
     "data": {
      "text/plain": [
       "[22, 44, 78, 56]"
      ]
     },
     "execution_count": 36,
     "metadata": {},
     "output_type": "execute_result"
    }
   ],
   "source": [
    "list(filter(lambda n:n%2==0,L))"
   ]
  },
  {
   "cell_type": "code",
   "execution_count": 37,
   "id": "b9acb9f3",
   "metadata": {},
   "outputs": [
    {
     "data": {
      "text/plain": [
       "[11, 33, 55, 41, 67, 89]"
      ]
     },
     "execution_count": 37,
     "metadata": {},
     "output_type": "execute_result"
    }
   ],
   "source": [
    "L = [11,22,33,44,55,78,41,67,89,56]\n",
    "list(filter(lambda number : number %2 != 0,L))"
   ]
  },
  {
   "cell_type": "code",
   "execution_count": 38,
   "id": "5cb7bc30",
   "metadata": {},
   "outputs": [
    {
     "data": {
      "text/plain": [
       "[55, 78, 67, 89, 56]"
      ]
     },
     "execution_count": 38,
     "metadata": {},
     "output_type": "execute_result"
    }
   ],
   "source": [
    "L = [11,22,33,44,55,78,41,67,89,56]\n",
    "\n",
    "list(filter(lambda number : number > 45,L))"
   ]
  },
  {
   "cell_type": "markdown",
   "id": "4326a24d",
   "metadata": {},
   "source": [
    "## Map"
   ]
  },
  {
   "cell_type": "code",
   "execution_count": 39,
   "id": "d2760db2",
   "metadata": {},
   "outputs": [
    {
     "data": {
      "text/plain": [
       "[1331, 10648, 35937, 85184, 166375, 474552, 68921, 300763, 704969, 175616]"
      ]
     },
     "execution_count": 39,
     "metadata": {},
     "output_type": "execute_result"
    }
   ],
   "source": [
    "L = [11,22,33,44,55,78,41,67,89,56]\n",
    "list(map(lambda n : n**3,L))"
   ]
  },
  {
   "cell_type": "code",
   "execution_count": 40,
   "id": "d0627233",
   "metadata": {},
   "outputs": [
    {
     "data": {
      "text/plain": [
       "[121, 484, 1089, 1936, 3025, 6084, 1681, 4489, 7921, 3136]"
      ]
     },
     "execution_count": 40,
     "metadata": {},
     "output_type": "execute_result"
    }
   ],
   "source": [
    "list(map(lambda number : number**2, L))"
   ]
  },
  {
   "cell_type": "code",
   "execution_count": 41,
   "id": "0f88639a",
   "metadata": {},
   "outputs": [
    {
     "data": {
      "text/plain": [
       "[35, 70]"
      ]
     },
     "execution_count": 41,
     "metadata": {},
     "output_type": "execute_result"
    }
   ],
   "source": [
    "L = [5,23,15,30,45,60,10,35,70]\n",
    "[number for number in L if number % 5 == 0 and number % 7 == 0]"
   ]
  },
  {
   "cell_type": "code",
   "execution_count": 42,
   "id": "b891a96f",
   "metadata": {},
   "outputs": [
    {
     "data": {
      "text/plain": [
       "[35, 70]"
      ]
     },
     "execution_count": 42,
     "metadata": {},
     "output_type": "execute_result"
    }
   ],
   "source": [
    "L = [5,23,15,30,45,60,10,35,70]\n",
    "output = lambda list1 :[number for number in list1 if number %5 == 0 and number%7 ==0]\n",
    "output(L)"
   ]
  },
  {
   "cell_type": "code",
   "execution_count": 43,
   "id": "e1febe45",
   "metadata": {},
   "outputs": [
    {
     "data": {
      "text/plain": [
       "[35, 70]"
      ]
     },
     "execution_count": 43,
     "metadata": {},
     "output_type": "execute_result"
    }
   ],
   "source": [
    "L = [5,23,15,30,45,60,10,35,70]\n",
    "list(filter(lambda x : x % 5 == 0 and x % 7 == 0,L))"
   ]
  },
  {
   "cell_type": "code",
   "execution_count": 44,
   "id": "be2e92f4",
   "metadata": {},
   "outputs": [
    {
     "data": {
      "text/plain": [
       "[25, 115, 75, 150, 225, 300, 50, 175, 350]"
      ]
     },
     "execution_count": 44,
     "metadata": {},
     "output_type": "execute_result"
    }
   ],
   "source": [
    "L = [5,23,15,30,45,60,10,35,70]\n",
    "[num * 5 for num in L]"
   ]
  },
  {
   "cell_type": "code",
   "execution_count": 45,
   "id": "9ac454bf",
   "metadata": {},
   "outputs": [
    {
     "data": {
      "text/plain": [
       "[25, 115, 75, 150, 225, 300, 50, 175, 350]"
      ]
     },
     "execution_count": 45,
     "metadata": {},
     "output_type": "execute_result"
    }
   ],
   "source": [
    "L = [5,23,15,30,45,60,10,35,70]\n",
    "op = lambda list1 : [number*5 for number in list1]\n",
    "op(L)"
   ]
  },
  {
   "cell_type": "code",
   "execution_count": 46,
   "id": "369aeffe",
   "metadata": {},
   "outputs": [
    {
     "data": {
      "text/plain": [
       "[25, 115, 75, 150, 225, 300, 50, 175, 350]"
      ]
     },
     "execution_count": 46,
     "metadata": {},
     "output_type": "execute_result"
    }
   ],
   "source": [
    "L = [5,23,15,30,45,60,10,35,70]\n",
    "list(map(lambda x : x*5,L))"
   ]
  }
 ],
 "metadata": {
  "kernelspec": {
   "display_name": "Python 3 (ipykernel)",
   "language": "python",
   "name": "python3"
  },
  "language_info": {
   "codemirror_mode": {
    "name": "ipython",
    "version": 3
   },
   "file_extension": ".py",
   "mimetype": "text/x-python",
   "name": "python",
   "nbconvert_exporter": "python",
   "pygments_lexer": "ipython3",
   "version": "3.11.4"
  }
 },
 "nbformat": 4,
 "nbformat_minor": 5
}
