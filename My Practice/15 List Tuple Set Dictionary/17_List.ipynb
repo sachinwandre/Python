{
 "cells": [
  {
   "cell_type": "markdown",
   "id": "a7168c16",
   "metadata": {},
   "source": [
    "append()\tAdds an element at the end of the list\n",
    "extend()\tAdd the elements of a list (or any iterable), to the end of the current list\n",
    "insert()\tAdds an element at the specified position\n",
    "\n",
    "pop()\tRemoves the element at the specified position\n",
    "remove()\tRemoves the item with the specified value\n",
    "clear()\tRemoves all the elements from the list and list become empty\n",
    "del\n",
    "\n",
    "len()\n",
    "min()\n",
    "max()\n",
    "sum()\n",
    "sorted()\n",
    "\n",
    "reverse()\tReverses the order of the list\n",
    "copy()\tReturns a copy of the list\n",
    "count()\tReturns the number of elements with the specified value\n",
    "index()\tReturns the index of the first element with the specified value\n",
    "sort()\tSorts the list"
   ]
  },
  {
   "cell_type": "code",
   "execution_count": 1,
   "id": "0c693c21",
   "metadata": {},
   "outputs": [
    {
     "data": {
      "text/plain": [
       "[]"
      ]
     },
     "execution_count": 1,
     "metadata": {},
     "output_type": "execute_result"
    }
   ],
   "source": [
    "# Empty list\n",
    "List = []\n",
    "List"
   ]
  },
  {
   "cell_type": "code",
   "execution_count": 2,
   "id": "e5007ea4",
   "metadata": {},
   "outputs": [
    {
     "data": {
      "text/plain": [
       "[]"
      ]
     },
     "execution_count": 2,
     "metadata": {},
     "output_type": "execute_result"
    }
   ],
   "source": [
    "# Calling list constructor\n",
    "List = list()\n",
    "List"
   ]
  },
  {
   "cell_type": "code",
   "execution_count": 3,
   "id": "aa618f0e",
   "metadata": {},
   "outputs": [
    {
     "data": {
      "text/plain": [
       "['P', 'u', 'n', 'e']"
      ]
     },
     "execution_count": 3,
     "metadata": {},
     "output_type": "execute_result"
    }
   ],
   "source": [
    "# Calling list constructor\n",
    "List = list(\"Pune\")\n",
    "List"
   ]
  },
  {
   "cell_type": "code",
   "execution_count": 4,
   "id": "888a0de2",
   "metadata": {},
   "outputs": [
    {
     "data": {
      "text/plain": [
       "['1', '2', '3', '6', '5', '4', '7', '8', '9']"
      ]
     },
     "execution_count": 4,
     "metadata": {},
     "output_type": "execute_result"
    }
   ],
   "source": [
    "List = list(\"123654789\")\n",
    "List"
   ]
  },
  {
   "cell_type": "code",
   "execution_count": 5,
   "id": "969a481e",
   "metadata": {},
   "outputs": [
    {
     "data": {
      "text/plain": [
       "[1, 2, 3, 4, 5, 6]"
      ]
     },
     "execution_count": 5,
     "metadata": {},
     "output_type": "execute_result"
    }
   ],
   "source": [
    "# Homogenious list\n",
    "List = [1,2,3,4,5,6]\n",
    "List"
   ]
  },
  {
   "cell_type": "code",
   "execution_count": 6,
   "id": "126b8265",
   "metadata": {},
   "outputs": [
    {
     "data": {
      "text/plain": [
       "[1, 'Sachin', True, 12.34, 'D']"
      ]
     },
     "execution_count": 6,
     "metadata": {},
     "output_type": "execute_result"
    }
   ],
   "source": [
    "# Heterogenious list\n",
    "List = [1,\"Sachin\",True,12.34,'D']\n",
    "List"
   ]
  },
  {
   "cell_type": "code",
   "execution_count": 7,
   "id": "3b436ca0",
   "metadata": {},
   "outputs": [
    {
     "data": {
      "text/plain": [
       "[1, 2, 3, 4, [5, 6]]"
      ]
     },
     "execution_count": 7,
     "metadata": {},
     "output_type": "execute_result"
    }
   ],
   "source": [
    "# One list contain list item as another list\n",
    "List = [1,2,3,4,[5,6]]\n",
    "List"
   ]
  },
  {
   "cell_type": "code",
   "execution_count": 8,
   "id": "8d6add5d",
   "metadata": {},
   "outputs": [
    {
     "data": {
      "text/plain": [
       "[[1, 2], [3, 4]]"
      ]
     },
     "execution_count": 8,
     "metadata": {},
     "output_type": "execute_result"
    }
   ],
   "source": [
    "# 2D list\n",
    "List = [[1,2],[3,4]]\n",
    "List"
   ]
  },
  {
   "cell_type": "code",
   "execution_count": 9,
   "id": "82f59b71",
   "metadata": {},
   "outputs": [
    {
     "data": {
      "text/plain": [
       "[[[1, 2, 3], [4, 5, 6]], [[7, 8, 9], [10, 11, 12]]]"
      ]
     },
     "execution_count": 9,
     "metadata": {},
     "output_type": "execute_result"
    }
   ],
   "source": [
    "# 3D list\n",
    "List = [[[1,2,3],[4,5,6]],[[7,8,9],[10,11,12]]]\n",
    "List"
   ]
  },
  {
   "cell_type": "code",
   "execution_count": 10,
   "id": "eab764ba",
   "metadata": {},
   "outputs": [
    {
     "data": {
      "text/plain": [
       "[[['A', 'B', 'C'], ['D', 'E', 'F']],\n",
       " [['G', 'H', 'I'], ['J', 'K', 'L']],\n",
       " [['M', 'N', 'O'], ['P', 'Q', 'R']]]"
      ]
     },
     "execution_count": 10,
     "metadata": {},
     "output_type": "execute_result"
    }
   ],
   "source": [
    "# 3D list\n",
    "\n",
    "List = [[['A','B','C'],['D','E','F']],[['G','H','I'],['J','K','L']],[['M','N','O'],['P','Q','R']]]\n",
    "List"
   ]
  },
  {
   "cell_type": "code",
   "execution_count": 11,
   "id": "3f1d9db3",
   "metadata": {},
   "outputs": [
    {
     "data": {
      "text/plain": [
       "[[[1, 2, 3], [4, 5, 6]],\n",
       " [[7, 8, 9], [10, 11, 12]],\n",
       " [[13, 14, 15], [16, 17, 18]]]"
      ]
     },
     "execution_count": 11,
     "metadata": {},
     "output_type": "execute_result"
    }
   ],
   "source": [
    "# 3D list\n",
    "List = [[[1,2,3],[4,5,6]],[[7,8,9],[10,11,12]],[[13,14,15],[16,17,18]]]\n",
    "List"
   ]
  },
  {
   "cell_type": "code",
   "execution_count": 12,
   "id": "fd8b7307",
   "metadata": {},
   "outputs": [
    {
     "data": {
      "text/plain": [
       "[[[1, 1, 1], [2, 2, 2]], [[3, 4, 4], [5, 5, 5]], [[6, 6, 6], [7, 7, 7]]]"
      ]
     },
     "execution_count": 12,
     "metadata": {},
     "output_type": "execute_result"
    }
   ],
   "source": [
    "l = [[[1,1,1],[2,2,2]],[[3,4,4],[5,5,5]],[[6,6,6],[7,7,7]]]\n",
    "l"
   ]
  },
  {
   "cell_type": "code",
   "execution_count": 13,
   "id": "4e64627f",
   "metadata": {},
   "outputs": [
    {
     "data": {
      "text/plain": [
       "[[[5, 5, 5], [6, 6, 6]], [[5, 5, 5], [4, 4, 4]], [[3, 3, 3], [1, 1, 1]]]"
      ]
     },
     "execution_count": 13,
     "metadata": {},
     "output_type": "execute_result"
    }
   ],
   "source": [
    "m = [[[5,5,5],[6,6,6]],[[5,5,5],[4,4,4]],[[3,3,3],[1,1,1]]]\n",
    "m"
   ]
  },
  {
   "cell_type": "code",
   "execution_count": 14,
   "id": "29dc8dd2",
   "metadata": {},
   "outputs": [
    {
     "name": "stdout",
     "output_type": "stream",
     "text": [
      "1\n"
     ]
    }
   ],
   "source": [
    "# Assecing elements from list\n",
    "\n",
    "List = [1,2,3,4,5,6,7]\n",
    "print(List[0])"
   ]
  },
  {
   "cell_type": "code",
   "execution_count": 15,
   "id": "5ff7168d",
   "metadata": {},
   "outputs": [
    {
     "data": {
      "text/plain": [
       "7"
      ]
     },
     "execution_count": 15,
     "metadata": {},
     "output_type": "execute_result"
    }
   ],
   "source": [
    "List[-1]"
   ]
  },
  {
   "cell_type": "code",
   "execution_count": 16,
   "id": "67e4126d",
   "metadata": {},
   "outputs": [
    {
     "data": {
      "text/plain": [
       "5"
      ]
     },
     "execution_count": 16,
     "metadata": {},
     "output_type": "execute_result"
    }
   ],
   "source": [
    "List[4]"
   ]
  },
  {
   "cell_type": "code",
   "execution_count": 17,
   "id": "f38f8180",
   "metadata": {},
   "outputs": [
    {
     "data": {
      "text/plain": [
       "[3, 4, 5]"
      ]
     },
     "execution_count": 17,
     "metadata": {},
     "output_type": "execute_result"
    }
   ],
   "source": [
    "List[2:5]"
   ]
  },
  {
   "cell_type": "code",
   "execution_count": 18,
   "id": "92ae4e19",
   "metadata": {},
   "outputs": [
    {
     "data": {
      "text/plain": [
       "[2, 3, 4, 5, 6, 7]"
      ]
     },
     "execution_count": 18,
     "metadata": {},
     "output_type": "execute_result"
    }
   ],
   "source": [
    "List[1:]"
   ]
  },
  {
   "cell_type": "code",
   "execution_count": 19,
   "id": "8df909c3",
   "metadata": {},
   "outputs": [
    {
     "data": {
      "text/plain": [
       "[1, 2, 3, 4]"
      ]
     },
     "execution_count": 19,
     "metadata": {},
     "output_type": "execute_result"
    }
   ],
   "source": [
    "List[:4]"
   ]
  },
  {
   "cell_type": "code",
   "execution_count": 20,
   "id": "95af6e1a",
   "metadata": {},
   "outputs": [
    {
     "data": {
      "text/plain": [
       "[[1, 2], [3, 4]]"
      ]
     },
     "execution_count": 20,
     "metadata": {},
     "output_type": "execute_result"
    }
   ],
   "source": [
    "# 2D list\n",
    "List = [[1,2],[3,4]]\n",
    "List"
   ]
  },
  {
   "cell_type": "code",
   "execution_count": 21,
   "id": "c34c9941",
   "metadata": {},
   "outputs": [
    {
     "data": {
      "text/plain": [
       "[1, 2]"
      ]
     },
     "execution_count": 21,
     "metadata": {},
     "output_type": "execute_result"
    }
   ],
   "source": [
    "List[0]"
   ]
  },
  {
   "cell_type": "code",
   "execution_count": 22,
   "id": "5a03b04c",
   "metadata": {},
   "outputs": [
    {
     "data": {
      "text/plain": [
       "2"
      ]
     },
     "execution_count": 22,
     "metadata": {},
     "output_type": "execute_result"
    }
   ],
   "source": [
    "List[0][1]"
   ]
  },
  {
   "cell_type": "code",
   "execution_count": 23,
   "id": "26ba9ae1",
   "metadata": {},
   "outputs": [
    {
     "data": {
      "text/plain": [
       "3"
      ]
     },
     "execution_count": 23,
     "metadata": {},
     "output_type": "execute_result"
    }
   ],
   "source": [
    "List[1][0]"
   ]
  },
  {
   "cell_type": "code",
   "execution_count": 24,
   "id": "770884f0",
   "metadata": {},
   "outputs": [
    {
     "data": {
      "text/plain": [
       "[[[1, 2, 3], [4, 5, 6]],\n",
       " [[7, 8, 9], [10, 11, 12]],\n",
       " [[13, 14, 15], [16, 17, 18]]]"
      ]
     },
     "execution_count": 24,
     "metadata": {},
     "output_type": "execute_result"
    }
   ],
   "source": [
    "# 3D list\n",
    "List = [[[1,2,3],[4,5,6]],[[7,8,9],[10,11,12]],[[13,14,15],[16,17,18]]]\n",
    "List"
   ]
  },
  {
   "cell_type": "code",
   "execution_count": 25,
   "id": "bc38d898",
   "metadata": {},
   "outputs": [
    {
     "data": {
      "text/plain": [
       "[[1, 2, 3], [4, 5, 6]]"
      ]
     },
     "execution_count": 25,
     "metadata": {},
     "output_type": "execute_result"
    }
   ],
   "source": [
    "List[0]"
   ]
  },
  {
   "cell_type": "code",
   "execution_count": 26,
   "id": "b4d85bf6",
   "metadata": {},
   "outputs": [
    {
     "data": {
      "text/plain": [
       "[[7, 8, 9], [10, 11, 12]]"
      ]
     },
     "execution_count": 26,
     "metadata": {},
     "output_type": "execute_result"
    }
   ],
   "source": [
    "List[1]"
   ]
  },
  {
   "cell_type": "code",
   "execution_count": 27,
   "id": "4539e508",
   "metadata": {},
   "outputs": [
    {
     "data": {
      "text/plain": [
       "[[13, 14, 15], [16, 17, 18]]"
      ]
     },
     "execution_count": 27,
     "metadata": {},
     "output_type": "execute_result"
    }
   ],
   "source": [
    "List[2]"
   ]
  },
  {
   "cell_type": "code",
   "execution_count": 28,
   "id": "e84d6941",
   "metadata": {},
   "outputs": [
    {
     "data": {
      "text/plain": [
       "[1, 2, 3]"
      ]
     },
     "execution_count": 28,
     "metadata": {},
     "output_type": "execute_result"
    }
   ],
   "source": [
    "List[0][0]"
   ]
  },
  {
   "cell_type": "code",
   "execution_count": 29,
   "id": "78f501da",
   "metadata": {},
   "outputs": [
    {
     "data": {
      "text/plain": [
       "1"
      ]
     },
     "execution_count": 29,
     "metadata": {},
     "output_type": "execute_result"
    }
   ],
   "source": [
    "List[0][0][0]"
   ]
  },
  {
   "cell_type": "code",
   "execution_count": 30,
   "id": "81bc1068",
   "metadata": {},
   "outputs": [
    {
     "data": {
      "text/plain": [
       "15"
      ]
     },
     "execution_count": 30,
     "metadata": {},
     "output_type": "execute_result"
    }
   ],
   "source": [
    "List[2][0][2]"
   ]
  },
  {
   "cell_type": "code",
   "execution_count": 31,
   "id": "6ce96ffa",
   "metadata": {},
   "outputs": [
    {
     "data": {
      "text/plain": [
       "[1, 2, 3, 4, 5]"
      ]
     },
     "execution_count": 31,
     "metadata": {},
     "output_type": "execute_result"
    }
   ],
   "source": [
    "# Add elements into list\n",
    "List = [1,2,3,4,5]\n",
    "List"
   ]
  },
  {
   "cell_type": "code",
   "execution_count": 32,
   "id": "80219091",
   "metadata": {},
   "outputs": [
    {
     "data": {
      "text/plain": [
       "[1, 2, 3, 555, 5]"
      ]
     },
     "execution_count": 32,
     "metadata": {},
     "output_type": "execute_result"
    }
   ],
   "source": [
    "List[3] = 555\n",
    "List"
   ]
  },
  {
   "cell_type": "code",
   "execution_count": 33,
   "id": "4d0231ec",
   "metadata": {},
   "outputs": [
    {
     "data": {
      "text/plain": [
       "[1, 2, 3, 789, 555, 5]"
      ]
     },
     "execution_count": 33,
     "metadata": {},
     "output_type": "execute_result"
    }
   ],
   "source": [
    "List.insert(3,789)\n",
    "List"
   ]
  },
  {
   "cell_type": "code",
   "execution_count": 34,
   "id": "1fa25b4b",
   "metadata": {},
   "outputs": [
    {
     "data": {
      "text/plain": [
       "[1, 2, 111, 789, 555, 5]"
      ]
     },
     "execution_count": 34,
     "metadata": {},
     "output_type": "execute_result"
    }
   ],
   "source": [
    "List[2] = 111\n",
    "List"
   ]
  },
  {
   "cell_type": "code",
   "execution_count": 35,
   "id": "0548c0ed",
   "metadata": {},
   "outputs": [
    {
     "data": {
      "text/plain": [
       "[1, 2, 111, 789, 555, 999]"
      ]
     },
     "execution_count": 35,
     "metadata": {},
     "output_type": "execute_result"
    }
   ],
   "source": [
    "List[-1] = 999\n",
    "List"
   ]
  },
  {
   "cell_type": "code",
   "execution_count": 36,
   "id": "79b802a9",
   "metadata": {},
   "outputs": [
    {
     "data": {
      "text/plain": [
       "[1, 2, 3, 4, 5, 6, 7, 8]"
      ]
     },
     "execution_count": 36,
     "metadata": {},
     "output_type": "execute_result"
    }
   ],
   "source": [
    "List = [1,2,3,4,5,6,7]\n",
    "List.append(8)\n",
    "List"
   ]
  },
  {
   "cell_type": "code",
   "execution_count": 37,
   "id": "7800b601",
   "metadata": {},
   "outputs": [
    {
     "data": {
      "text/plain": [
       "[1, 2, 3, 4, 5, 6, 7, 8, 999]"
      ]
     },
     "execution_count": 37,
     "metadata": {},
     "output_type": "execute_result"
    }
   ],
   "source": [
    "List.append(999)\n",
    "List"
   ]
  },
  {
   "cell_type": "code",
   "execution_count": 38,
   "id": "319ee5b8",
   "metadata": {},
   "outputs": [
    {
     "data": {
      "text/plain": [
       "[1, 2, 3, 4, 5, 6, 7, 8, 999, [22, 33, 44, 55]]"
      ]
     },
     "execution_count": 38,
     "metadata": {},
     "output_type": "execute_result"
    }
   ],
   "source": [
    "List.append([22,33,44,55])\n",
    "List"
   ]
  },
  {
   "cell_type": "code",
   "execution_count": 39,
   "id": "8ab7f9b2",
   "metadata": {},
   "outputs": [
    {
     "data": {
      "text/plain": [
       "['A', 'B', 'C', 'D']"
      ]
     },
     "execution_count": 39,
     "metadata": {},
     "output_type": "execute_result"
    }
   ],
   "source": [
    "List = ['A','B','C']\n",
    "List.extend('D')\n",
    "List"
   ]
  },
  {
   "cell_type": "code",
   "execution_count": 40,
   "id": "d63f8a47",
   "metadata": {},
   "outputs": [
    {
     "data": {
      "text/plain": [
       "['A', 'B', 'C', 'D', 'E', 'F', 'G', 'H']"
      ]
     },
     "execution_count": 40,
     "metadata": {},
     "output_type": "execute_result"
    }
   ],
   "source": [
    "List.extend(['E','F','G','H'])\n",
    "List"
   ]
  },
  {
   "cell_type": "code",
   "execution_count": 41,
   "id": "29a3ce96",
   "metadata": {},
   "outputs": [
    {
     "data": {
      "text/plain": [
       "[99, 11, 22, 33, 44, 55, 66]"
      ]
     },
     "execution_count": 41,
     "metadata": {},
     "output_type": "execute_result"
    }
   ],
   "source": [
    "List = [11,22,33,44,55,66]\n",
    "List.insert(0,99)\n",
    "List"
   ]
  },
  {
   "cell_type": "code",
   "execution_count": 42,
   "id": "12337494",
   "metadata": {},
   "outputs": [
    {
     "data": {
      "text/plain": [
       "[99, 11, 22, 33, 777, 44, 55, 66]"
      ]
     },
     "execution_count": 42,
     "metadata": {},
     "output_type": "execute_result"
    }
   ],
   "source": [
    "List.insert(4,777)\n",
    "List"
   ]
  },
  {
   "cell_type": "code",
   "execution_count": 43,
   "id": "17f0a83e",
   "metadata": {},
   "outputs": [
    {
     "data": {
      "text/plain": [
       "[99, 11, 22, 33, 777, 44, 55, 66]"
      ]
     },
     "execution_count": 43,
     "metadata": {},
     "output_type": "execute_result"
    }
   ],
   "source": [
    "List"
   ]
  },
  {
   "cell_type": "code",
   "execution_count": 44,
   "id": "d03b93be",
   "metadata": {},
   "outputs": [
    {
     "data": {
      "text/plain": [
       "[99, 11, 22, 777, 44, 55, 66]"
      ]
     },
     "execution_count": 44,
     "metadata": {},
     "output_type": "execute_result"
    }
   ],
   "source": [
    "List.remove(33)\n",
    "List"
   ]
  },
  {
   "cell_type": "code",
   "execution_count": 45,
   "id": "abc53cd7",
   "metadata": {},
   "outputs": [],
   "source": [
    "# ValueError: list.remove(x): x not in list\n",
    "# List.remove(33)"
   ]
  },
  {
   "cell_type": "code",
   "execution_count": 46,
   "id": "80beee69",
   "metadata": {},
   "outputs": [
    {
     "data": {
      "text/plain": [
       "66"
      ]
     },
     "execution_count": 46,
     "metadata": {},
     "output_type": "execute_result"
    }
   ],
   "source": [
    "List.pop()"
   ]
  },
  {
   "cell_type": "code",
   "execution_count": 47,
   "id": "d0dfa754",
   "metadata": {},
   "outputs": [
    {
     "data": {
      "text/plain": [
       "[99, 11, 22, 777, 44, 55]"
      ]
     },
     "execution_count": 47,
     "metadata": {},
     "output_type": "execute_result"
    }
   ],
   "source": [
    "List"
   ]
  },
  {
   "cell_type": "code",
   "execution_count": 48,
   "id": "889a1853",
   "metadata": {},
   "outputs": [],
   "source": [
    "# IndexError: pop from empty list\n",
    "# List = []\n",
    "# List.pop()"
   ]
  },
  {
   "cell_type": "code",
   "execution_count": 49,
   "id": "4211c075",
   "metadata": {},
   "outputs": [
    {
     "data": {
      "text/plain": [
       "[66, 55, 44, 383, 22, 19]"
      ]
     },
     "execution_count": 49,
     "metadata": {},
     "output_type": "execute_result"
    }
   ],
   "source": [
    "List = [19,22,383,44,55,66]\n",
    "List.reverse()\n",
    "List"
   ]
  },
  {
   "cell_type": "code",
   "execution_count": 50,
   "id": "66ef6e30",
   "metadata": {},
   "outputs": [
    {
     "data": {
      "text/plain": [
       "[3, 4, 6, 16, 29, 50]"
      ]
     },
     "execution_count": 50,
     "metadata": {},
     "output_type": "execute_result"
    }
   ],
   "source": [
    "# list.sort for permanent changes\n",
    "List = [16,29,3,4,50,6]\n",
    "List.sort()\n",
    "List"
   ]
  },
  {
   "cell_type": "code",
   "execution_count": 51,
   "id": "7c3c58e8",
   "metadata": {},
   "outputs": [
    {
     "name": "stdout",
     "output_type": "stream",
     "text": [
      "[66, 55, 44, 33, 22, 11, 5, 3, 2, 1]\n",
      "[11, 22, 33, 44, 55, 66, 5, 3, 2, 1]\n"
     ]
    }
   ],
   "source": [
    "List = [11,22,33,44,55,66,5,3,2,1]\n",
    "m = sorted(List,reverse=True)\n",
    "print(m)\n",
    "print(List)"
   ]
  },
  {
   "cell_type": "code",
   "execution_count": 52,
   "id": "09e735e7",
   "metadata": {},
   "outputs": [
    {
     "data": {
      "text/plain": [
       "[11, 22, 44, 55, 66, 99]"
      ]
     },
     "execution_count": 52,
     "metadata": {},
     "output_type": "execute_result"
    }
   ],
   "source": [
    "List = [11,22,99,44,55,66]\n",
    "List.sort()\n",
    "List"
   ]
  },
  {
   "cell_type": "code",
   "execution_count": 53,
   "id": "608cd6d8",
   "metadata": {},
   "outputs": [
    {
     "name": "stdout",
     "output_type": "stream",
     "text": [
      "[1, 2, 3, 5, 11, 22, 33, 44, 55, 66]\n",
      "[11, 22, 33, 44, 55, 66, 5, 3, 2, 1]\n"
     ]
    }
   ],
   "source": [
    "List1 = [11,22,33,44,55,66,5,3,2,1]\n",
    "m1 = sorted(List1)\n",
    "print(m1)\n",
    "print(List1)"
   ]
  },
  {
   "cell_type": "code",
   "execution_count": 54,
   "id": "a203a8f6",
   "metadata": {},
   "outputs": [
    {
     "data": {
      "text/plain": [
       "[11, 22, 44, 55, 66, 99]"
      ]
     },
     "execution_count": 54,
     "metadata": {},
     "output_type": "execute_result"
    }
   ],
   "source": [
    "# sorted for temporary changes\n",
    "List = [11,22,99,44,55,66]\n",
    "sorted(List)"
   ]
  },
  {
   "cell_type": "code",
   "execution_count": 55,
   "id": "e8ed4388",
   "metadata": {},
   "outputs": [
    {
     "data": {
      "text/plain": [
       "[11, 22, 99, 44, 55, 66]"
      ]
     },
     "execution_count": 55,
     "metadata": {},
     "output_type": "execute_result"
    }
   ],
   "source": [
    "List"
   ]
  },
  {
   "cell_type": "code",
   "execution_count": 56,
   "id": "d08d0e6a",
   "metadata": {},
   "outputs": [
    {
     "data": {
      "text/plain": [
       "2"
      ]
     },
     "execution_count": 56,
     "metadata": {},
     "output_type": "execute_result"
    }
   ],
   "source": [
    "List.index(99)"
   ]
  },
  {
   "cell_type": "code",
   "execution_count": 57,
   "id": "76cca9a4",
   "metadata": {},
   "outputs": [
    {
     "data": {
      "text/plain": [
       "[11, 22, 99, 44, 55, 66]"
      ]
     },
     "execution_count": 57,
     "metadata": {},
     "output_type": "execute_result"
    }
   ],
   "source": [
    "l1 = List.copy()\n",
    "l1"
   ]
  },
  {
   "cell_type": "code",
   "execution_count": 58,
   "id": "54070907",
   "metadata": {},
   "outputs": [
    {
     "data": {
      "text/plain": [
       "[11, 22, 99, 44, 55, 66, 555]"
      ]
     },
     "execution_count": 58,
     "metadata": {},
     "output_type": "execute_result"
    }
   ],
   "source": [
    "l1.append(555)\n",
    "l1"
   ]
  },
  {
   "cell_type": "code",
   "execution_count": 59,
   "id": "909db26a",
   "metadata": {},
   "outputs": [
    {
     "data": {
      "text/plain": [
       "[11, 22, 99, 44, 55, 66]"
      ]
     },
     "execution_count": 59,
     "metadata": {},
     "output_type": "execute_result"
    }
   ],
   "source": [
    "List"
   ]
  },
  {
   "cell_type": "code",
   "execution_count": 60,
   "id": "4e85e415",
   "metadata": {},
   "outputs": [
    {
     "data": {
      "text/plain": [
       "1"
      ]
     },
     "execution_count": 60,
     "metadata": {},
     "output_type": "execute_result"
    }
   ],
   "source": [
    "l1.count(44)"
   ]
  },
  {
   "cell_type": "code",
   "execution_count": 61,
   "id": "74439728",
   "metadata": {},
   "outputs": [
    {
     "ename": "ValueError",
     "evalue": "67 is not in list",
     "output_type": "error",
     "traceback": [
      "\u001b[1;31m---------------------------------------------------------------------------\u001b[0m",
      "\u001b[1;31mValueError\u001b[0m                                Traceback (most recent call last)",
      "Cell \u001b[1;32mIn[61], line 1\u001b[0m\n\u001b[1;32m----> 1\u001b[0m \u001b[43ml1\u001b[49m\u001b[38;5;241;43m.\u001b[39;49m\u001b[43mindex\u001b[49m\u001b[43m(\u001b[49m\u001b[38;5;241;43m67\u001b[39;49m\u001b[43m)\u001b[49m\n",
      "\u001b[1;31mValueError\u001b[0m: 67 is not in list"
     ]
    }
   ],
   "source": [
    "l1.index(67)"
   ]
  },
  {
   "cell_type": "code",
   "execution_count": 62,
   "id": "6987750a",
   "metadata": {},
   "outputs": [],
   "source": [
    "l1.clear()"
   ]
  },
  {
   "cell_type": "code",
   "execution_count": 63,
   "id": "1bcf4dfb",
   "metadata": {},
   "outputs": [
    {
     "data": {
      "text/plain": [
       "[]"
      ]
     },
     "execution_count": 63,
     "metadata": {},
     "output_type": "execute_result"
    }
   ],
   "source": [
    "l1"
   ]
  },
  {
   "cell_type": "code",
   "execution_count": 64,
   "id": "0bc7e679",
   "metadata": {},
   "outputs": [
    {
     "data": {
      "text/plain": [
       "[11, 22, 33, 44, 55, 5, 3, 2, 1]"
      ]
     },
     "execution_count": 64,
     "metadata": {},
     "output_type": "execute_result"
    }
   ],
   "source": [
    "List = [11,22,33,44,55,66,5,3,2,1]\n",
    "\n",
    "del List[5]\n",
    "List"
   ]
  },
  {
   "cell_type": "code",
   "execution_count": 65,
   "id": "b7a3b481",
   "metadata": {},
   "outputs": [
    {
     "data": {
      "text/plain": [
       "[44, 55, 5, 3, 2, 1]"
      ]
     },
     "execution_count": 65,
     "metadata": {},
     "output_type": "execute_result"
    }
   ],
   "source": [
    "del List[0:3]\n",
    "List"
   ]
  },
  {
   "cell_type": "markdown",
   "id": "290118b6",
   "metadata": {},
   "source": [
    "### Python Program to find the largest element in the list"
   ]
  },
  {
   "cell_type": "code",
   "execution_count": null,
   "id": "78f708cf",
   "metadata": {},
   "outputs": [],
   "source": [
    "List = [11,66,55,44,88,66,123,453,232]\n",
    "print(\"Largest element is given list = \",max(List))"
   ]
  },
  {
   "cell_type": "code",
   "execution_count": 66,
   "id": "de44c356",
   "metadata": {},
   "outputs": [
    {
     "name": "stdout",
     "output_type": "stream",
     "text": [
      "984\n"
     ]
    }
   ],
   "source": [
    "List = [11,66,55,44,88,897,66,984,123,453,232]\n",
    "\n",
    "max = List[0]\n",
    "\n",
    "for number in List:\n",
    "    if max < number:\n",
    "        max = number\n",
    "        \n",
    "print(max)"
   ]
  },
  {
   "cell_type": "markdown",
   "id": "d7e34760",
   "metadata": {},
   "source": [
    "### Python program to interchange first and last elements in a list"
   ]
  },
  {
   "cell_type": "code",
   "execution_count": 67,
   "id": "6729ebcd",
   "metadata": {},
   "outputs": [
    {
     "name": "stdout",
     "output_type": "stream",
     "text": [
      "After interchange list become [99, 6, 7, 3, 11, 88, 4]\n"
     ]
    }
   ],
   "source": [
    "List = [4,6,7,3,11,88,99]\n",
    "first = List[0]\n",
    "last = List[-1]\n",
    "\n",
    "List[0] = last\n",
    "List[-1] = first\n",
    "print(\"After interchange list become\", List)"
   ]
  },
  {
   "cell_type": "code",
   "execution_count": 68,
   "id": "6f45938e",
   "metadata": {},
   "outputs": [
    {
     "name": "stdout",
     "output_type": "stream",
     "text": [
      "After Exchage list become =  [77, 6, 7, 3, 11, 88, 14]\n"
     ]
    }
   ],
   "source": [
    "List = [14,6,7,3,11,88,77]\n",
    "\n",
    "first = List.pop(0)\n",
    "last = List.pop(-1)\n",
    "\n",
    "List.insert(0,last)\n",
    "List.append(first)\n",
    "\n",
    "print(\"After Exchage list become = \",List)\n"
   ]
  },
  {
   "cell_type": "code",
   "execution_count": 69,
   "id": "fc8699a1",
   "metadata": {},
   "outputs": [
    {
     "data": {
      "text/plain": [
       "[77, 6, 7, 3, 11, 88, 14]"
      ]
     },
     "execution_count": 69,
     "metadata": {},
     "output_type": "execute_result"
    }
   ],
   "source": [
    "List = [14,6,7,3,11,88,77]\n",
    "List[0],List[-1] = List[-1],List[0]\n",
    "List"
   ]
  },
  {
   "cell_type": "code",
   "execution_count": 70,
   "id": "58a6977c",
   "metadata": {},
   "outputs": [
    {
     "data": {
      "text/plain": [
       "[99, 6, 7, 3, 11, 88, 77, 11]"
      ]
     },
     "execution_count": 70,
     "metadata": {},
     "output_type": "execute_result"
    }
   ],
   "source": [
    "List = [11,6,7,3,11,88,77,99]\n",
    "start, *middle, end = List\n",
    "List = [end,*middle,start]\n",
    "List"
   ]
  },
  {
   "cell_type": "markdown",
   "id": "839dd9da",
   "metadata": {},
   "source": [
    "### Python program to swap two elements in a list"
   ]
  },
  {
   "cell_type": "code",
   "execution_count": 71,
   "id": "08e40234",
   "metadata": {},
   "outputs": [
    {
     "name": "stdout",
     "output_type": "stream",
     "text": [
      "Enter two number to swap from list [11, 22, 33, 44, 55, 66, 77, 88, 99]\n",
      "Enter the number from the list\n",
      "Enter first number \t33\n",
      "Enter the number from the list\n",
      "Enter second number \t99\n",
      "After exchange list become =  [11, 22, 99, 44, 55, 66, 77, 88, 33]\n"
     ]
    }
   ],
   "source": [
    "List = [11,22,33,44,55,66,77,88,99]\n",
    "\n",
    "print(f\"Enter two number to swap from list {List}\")\n",
    "\n",
    "first = None\n",
    "second = None\n",
    "\n",
    "while first not in List:\n",
    "    print(\"Enter the number from the list\")\n",
    "    first = int(input(\"Enter first number \\t\"))\n",
    "\n",
    "while second not in List:\n",
    "    print(\"Enter the number from the list\")\n",
    "    second = int(input(\"Enter second number \\t\"))\n",
    "    \n",
    "first_index = List.index(first)\n",
    "second_index = List.index(second)\n",
    "\n",
    "List[first_index] = second\n",
    "List[second_index] = first\n",
    "\n",
    "print(\"After exchange list become = \", List)"
   ]
  },
  {
   "cell_type": "code",
   "execution_count": 72,
   "id": "f03f4f27",
   "metadata": {},
   "outputs": [
    {
     "name": "stdout",
     "output_type": "stream",
     "text": [
      "Enter two number to swap from list [11, 22, 33, 44, 55, 66, 77, 88, 99]\n",
      "Enter the number from the list\n",
      "Enter first number \t66\n",
      "Enter the number from the list\n",
      "Enter second number \t77\n",
      "After exchange list become =  [11, 22, 33, 44, 55, 77, 66, 88, 99]\n"
     ]
    }
   ],
   "source": [
    "# Second method \n",
    "List = [11,22,33,44,55,66,77,88,99]\n",
    "\n",
    "print(f\"Enter two number to swap from list {List}\")\n",
    "\n",
    "first = None\n",
    "second = None\n",
    "\n",
    "while first not in List:\n",
    "    print(\"Enter the number from the list\")\n",
    "    first = int(input(\"Enter first number \\t\"))\n",
    "\n",
    "while second not in List:\n",
    "    print(\"Enter the number from the list\")\n",
    "    second = int(input(\"Enter second number \\t\"))\n",
    "    \n",
    "first_index = List.index(first)\n",
    "second_index = List.index(second)\n",
    "\n",
    "List[first_index], List[second_index] = List[second_index],List[first_index]\n",
    "\n",
    "print(\"After exchange list become = \", List)"
   ]
  },
  {
   "cell_type": "code",
   "execution_count": 73,
   "id": "223eb0a1",
   "metadata": {},
   "outputs": [
    {
     "name": "stdout",
     "output_type": "stream",
     "text": [
      "Enter two number to swap from list [11, 22, 33, 44, 55, 66, 77, 88, 99]\n",
      "Enter the number from the list\n",
      "Enter first number \t44\n",
      "Enter the number from the list\n",
      "Enter second number \t44\n",
      "After exchange list become =  [11, 22, 33, 44, 44, 66, 77, 88, 99]\n"
     ]
    }
   ],
   "source": [
    "# Third method\n",
    "List = [11,22,33,44,55,66,77,88,99]\n",
    "\n",
    "print(f\"Enter two number to swap from list {List}\")\n",
    "\n",
    "first = None\n",
    "second = None\n",
    "\n",
    "while first not in List:\n",
    "    print(\"Enter the number from the list\")\n",
    "    first = int(input(\"Enter first number \\t\"))\n",
    "\n",
    "while second not in List:\n",
    "    print(\"Enter the number from the list\")\n",
    "    second = int(input(\"Enter second number \\t\"))\n",
    "    \n",
    "first_index = List.index(first)\n",
    "second_index = List.index(second)\n",
    "\n",
    "List.pop(first_index)\n",
    "List.pop(second_index)\n",
    "\n",
    "\n",
    "List.insert(first_index,second)\n",
    "List.insert(second_index,first)\n",
    "\n",
    "print(\"After exchange list become = \", List)"
   ]
  },
  {
   "cell_type": "markdown",
   "id": "cf777ddb",
   "metadata": {},
   "source": [
    "### Python program to Reverse a List"
   ]
  },
  {
   "cell_type": "code",
   "execution_count": 74,
   "id": "1e8a6662",
   "metadata": {},
   "outputs": [
    {
     "name": "stdout",
     "output_type": "stream",
     "text": [
      "Given list is [22, 33, 44, 55, 6, 7, 88, 9, 11] \n",
      "\n",
      "Reverse List is [11, 9, 88, 7, 6, 55, 44, 33, 22]\n"
     ]
    }
   ],
   "source": [
    "List = [22,33,44,55,6,7,88,9,11]\n",
    "\n",
    "print(f\"Given list is {List} \\n\")\n",
    "print(f\"Reverse List is {List[::-1]}\")"
   ]
  },
  {
   "cell_type": "code",
   "execution_count": 75,
   "id": "31d4cb7f",
   "metadata": {},
   "outputs": [
    {
     "name": "stdout",
     "output_type": "stream",
     "text": [
      "Reverse List =  [11, 9, 88, 7, 6, 55, 44, 33, 22]\n"
     ]
    }
   ],
   "source": [
    "# Using loop\n",
    "List = [22,33,44,55,6,7,88,9,11]\n",
    "Temp_list = []\n",
    "\n",
    "for i in range(len(List)-1,-1,-1):\n",
    "    Temp_list.append(List[i])\n",
    "    \n",
    "print(\"Reverse List = \",Temp_list)"
   ]
  },
  {
   "cell_type": "code",
   "execution_count": 76,
   "id": "f6cc8d74",
   "metadata": {},
   "outputs": [
    {
     "data": {
      "text/plain": [
       "[11, 9, 88, 7, 6, 55, 44, 33, 22]"
      ]
     },
     "execution_count": 76,
     "metadata": {},
     "output_type": "execute_result"
    }
   ],
   "source": [
    "# Using reverse method\n",
    "List = [22,33,44,55,6,7,88,9,11]\n",
    "List.reverse()\n",
    "List"
   ]
  },
  {
   "cell_type": "code",
   "execution_count": 77,
   "id": "ac4f0fbe",
   "metadata": {},
   "outputs": [
    {
     "name": "stdout",
     "output_type": "stream",
     "text": [
      "[15, 14, 13, 12, 11, 10]\n"
     ]
    }
   ],
   "source": [
    "# Using insert method\n",
    "# input list\n",
    "lst = [10, 11, 12, 13, 14, 15]\n",
    "# the above input can also be given as\n",
    "# lst=list(map(int,input().split()))\n",
    "l = []  # empty list\n",
    " \n",
    "# iterate to reverse the list\n",
    "for i in lst:\n",
    "    # reversing the list\n",
    "    l.insert(0, i)\n",
    "# printing result\n",
    "print(l)"
   ]
  },
  {
   "cell_type": "code",
   "execution_count": 1,
   "id": "d9205439",
   "metadata": {},
   "outputs": [
    {
     "name": "stdout",
     "output_type": "stream",
     "text": [
      "[5, 4, 3, 2, 1]\n"
     ]
    }
   ],
   "source": [
    "def reverse_list(lst):\n",
    "    # Use two pointers: one from the start and one from the end\n",
    "    start_index = 0\n",
    "    end_index = len(lst) - 1\n",
    "\n",
    "    while start_index < end_index:\n",
    "        # Swap elements at start_index and end_index\n",
    "        lst[start_index], lst[end_index] = lst[end_index], lst[start_index]\n",
    "        # Move pointers towards the center\n",
    "        start_index += 1\n",
    "        end_index -= 1\n",
    "\n",
    "# Example usage:\n",
    "my_list = [1, 2, 3, 4, 5]\n",
    "reverse_list(my_list)\n",
    "print(my_list)\n"
   ]
  },
  {
   "cell_type": "markdown",
   "id": "b094106e",
   "metadata": {},
   "source": [
    "### Python program to count occurrences of an element in a list"
   ]
  },
  {
   "cell_type": "code",
   "execution_count": 78,
   "id": "56f0dd85",
   "metadata": {},
   "outputs": [
    {
     "name": "stdout",
     "output_type": "stream",
     "text": [
      "11 is occured 2 times\n",
      "33 is occured 4 times\n",
      "22 is occured 2 times\n",
      "44 is occured 3 times\n",
      "66 is occured 2 times\n",
      "77 is occured 1 times\n",
      "88 is occured 1 times\n",
      "99 is occured 4 times\n",
      "67 is occured 1 times\n"
     ]
    }
   ],
   "source": [
    "List = [11,33,22,44,22,11,66,77,88,99,33,44,66,99,99,99,33,33,44,67]\n",
    "Temp_list = []\n",
    "for number in List:\n",
    "    count = List.count(number)\n",
    "    if number not in Temp_list:\n",
    "        Temp_list.append(number)\n",
    "        print(f\"{number} is occured {count} times\")"
   ]
  },
  {
   "cell_type": "markdown",
   "id": "ab078f59",
   "metadata": {},
   "source": [
    "### Python program to find the sum of elements in a list"
   ]
  },
  {
   "cell_type": "code",
   "execution_count": 79,
   "id": "3a57967a",
   "metadata": {},
   "outputs": [
    {
     "name": "stdout",
     "output_type": "stream",
     "text": [
      "Sum of numbers in list = 275\n"
     ]
    }
   ],
   "source": [
    "List = [22,33,44,55,6,7,88,9,11]\n",
    "sum = 0\n",
    "\n",
    "for number in List:\n",
    "    sum += number\n",
    "\n",
    "print(\"Sum of numbers in list =\",sum)"
   ]
  },
  {
   "cell_type": "markdown",
   "id": "402f5b98",
   "metadata": {},
   "source": [
    "### Python program to Multiply all numbers in the list"
   ]
  },
  {
   "cell_type": "code",
   "execution_count": 80,
   "id": "f599d154",
   "metadata": {},
   "outputs": [
    {
     "name": "stdout",
     "output_type": "stream",
     "text": [
      "Multiplication of numbers in list =  720\n"
     ]
    }
   ],
   "source": [
    "List = [1,2,3,4,5,6]\n",
    "multiplication = 1\n",
    "\n",
    "for number in List:\n",
    "    multiplication = multiplication * number\n",
    "    \n",
    "print(\"Multiplication of numbers in list = \",multiplication)"
   ]
  },
  {
   "cell_type": "markdown",
   "id": "b0441e3b",
   "metadata": {},
   "source": [
    "### What are the ways to find the length of a list"
   ]
  },
  {
   "cell_type": "code",
   "execution_count": 81,
   "id": "991322f8",
   "metadata": {},
   "outputs": [
    {
     "name": "stdout",
     "output_type": "stream",
     "text": [
      "Length of list is =  20\n"
     ]
    }
   ],
   "source": [
    "List = [11,33,22,44,22,11,66,77,88,99,33,44,66,99,99,99,33,33,44,67]\n",
    "\n",
    "print(\"Length of list is = \",len(List))"
   ]
  },
  {
   "cell_type": "code",
   "execution_count": 82,
   "id": "70a4e74d",
   "metadata": {},
   "outputs": [
    {
     "name": "stdout",
     "output_type": "stream",
     "text": [
      "Length of list is =  20\n"
     ]
    }
   ],
   "source": [
    "List = [11,33,22,44,22,11,66,77,88,99,33,44,66,99,99,99,33,33,44,67]\n",
    "\n",
    "count = 0\n",
    "\n",
    "for n in List:\n",
    "    count += 1\n",
    "print(\"Length of list is = \",count)"
   ]
  },
  {
   "cell_type": "markdown",
   "id": "aab6c290",
   "metadata": {},
   "source": [
    "### Python program to find the smallest and largest number in a list (Without min-max function)"
   ]
  },
  {
   "cell_type": "code",
   "execution_count": 83,
   "id": "a3460ea5",
   "metadata": {},
   "outputs": [
    {
     "name": "stdout",
     "output_type": "stream",
     "text": [
      "Smallest number in list is =  11\n"
     ]
    }
   ],
   "source": [
    "List = [44,55,33,22,11,76,87,101,67]\n",
    "\n",
    "min = List[0] \n",
    "\n",
    "for number in List:\n",
    "    \n",
    "    if min > number:        \n",
    "        min = number\n",
    "print(\"Smallest number in list is = \",min)   "
   ]
  },
  {
   "cell_type": "code",
   "execution_count": 84,
   "id": "433eab36",
   "metadata": {},
   "outputs": [
    {
     "name": "stdout",
     "output_type": "stream",
     "text": [
      "Largest number in list is =  101\n"
     ]
    }
   ],
   "source": [
    "List = [44,55,33,22,11,76,87,101,67]\n",
    "\n",
    "max = List[0] \n",
    "\n",
    "for number in List:\n",
    "    \n",
    "    if max < number:        \n",
    "        max = number\n",
    "print(\"Largest number in list is = \",max)"
   ]
  },
  {
   "cell_type": "markdown",
   "id": "01741c46",
   "metadata": {},
   "source": [
    "### Take inputs from the user to make a list. Again take one input from the user and search it in the list and delete that element, if found. Iterate over a list using for loop."
   ]
  },
  {
   "cell_type": "code",
   "execution_count": 85,
   "id": "333f0e86",
   "metadata": {},
   "outputs": [
    {
     "name": "stdout",
     "output_type": "stream",
     "text": [
      "Enter the length of list5\n",
      "Enter the 5 element into the list\n",
      "Enter 0 element\n",
      "22\n",
      "Enter 1 element\n",
      "33\n",
      "Enter 2 element\n",
      "66\n",
      "Enter 3 element\n",
      "55\n",
      "Enter 4 element\n",
      "44\n",
      "Elements in list are [22, 33, 66, 55, 44]\n",
      "Enter the number to search\t\n",
      "55\n",
      "Searched number deleted successfully\n",
      "After deletion list becomes =  [22, 33, 66, 44]\n"
     ]
    }
   ],
   "source": [
    "length = int(input(\"Enter the length of list\"))\n",
    "print(f\"Enter the {length} element into the list\")\n",
    "\n",
    "List = []\n",
    "for n in range(length):\n",
    "    print(f\"Enter {n} element\")\n",
    "    number = int(input())\n",
    "    List.append(number)\n",
    "\n",
    "print(\"Elements in list are\",List)\n",
    "\n",
    "print(\"Enter the number to search\\t\")\n",
    "search_no = int(input())\n",
    "\n",
    "if search_no not in List:\n",
    "    print(\"Entered number is not in list\")\n",
    "else:\n",
    "    List.remove(search_no)\n",
    "    print(\"Searched number deleted successfully\")\n",
    "    print(\"After deletion list becomes = \",List)\n",
    "    "
   ]
  },
  {
   "cell_type": "markdown",
   "id": "75d8bf39",
   "metadata": {},
   "source": [
    "### Write a Python program to check whether a list contains a sublist"
   ]
  },
  {
   "cell_type": "code",
   "execution_count": 86,
   "id": "814ae6b5",
   "metadata": {},
   "outputs": [
    {
     "name": "stdout",
     "output_type": "stream",
     "text": [
      "List contains sublist\n"
     ]
    }
   ],
   "source": [
    "List = [1,2,3,4,[5,6]]\n",
    "islist = False\n",
    "for n in List:\n",
    "    if type(n) == list:\n",
    "        islist = True\n",
    "        \n",
    "if islist == True:\n",
    "    print(\"List contains sublist\")\n",
    "else:\n",
    "    print(\"List not contains sublist\")"
   ]
  },
  {
   "cell_type": "code",
   "execution_count": 87,
   "id": "6d420b95",
   "metadata": {},
   "outputs": [
    {
     "name": "stdout",
     "output_type": "stream",
     "text": [
      "[1, 3, 6, 10, 15, 21]\n"
     ]
    }
   ],
   "source": [
    "list1 = [1,2,3,4,5,6]\n",
    "# output [1,3,6,10,15,21]\n",
    "temp_list = []\n",
    "sum = 0 \n",
    "\n",
    "for number in list1:\n",
    "    sum = sum + number\n",
    "    temp_list.append(sum)\n",
    "    \n",
    "print(temp_list)"
   ]
  },
  {
   "cell_type": "code",
   "execution_count": 88,
   "id": "6561f3a8",
   "metadata": {},
   "outputs": [
    {
     "name": "stdout",
     "output_type": "stream",
     "text": [
      "10\n",
      "20\n",
      "[300, 400, [5000, 6000], 500]\n",
      "30\n",
      "40\n"
     ]
    },
    {
     "data": {
      "text/plain": [
       "[10, 20, [300, 400, [5000, 6000, 7000], 500], 30, 40]"
      ]
     },
     "execution_count": 88,
     "metadata": {},
     "output_type": "execute_result"
    }
   ],
   "source": [
    "list1 = [10, 20, [300, 400, [5000, 6000], 500], 30, 40]\n",
    "# Write a program to add item 7000 after 6000 in the following Python List\n",
    "\n",
    "for number in list1:\n",
    "    print(number)\n",
    "    #print(list1.index(number))\n",
    "list1[2][2].append(7000)\n",
    "list1"
   ]
  },
  {
   "cell_type": "code",
   "execution_count": 91,
   "id": "4d74e83b",
   "metadata": {},
   "outputs": [
    {
     "name": "stdout",
     "output_type": "stream",
     "text": [
      "10\n",
      "20\n",
      "[300, 400, [5000, 6000], 500]\n",
      "30\n",
      "40\n",
      "300\n",
      "400\n",
      "[5000, 6000]\n",
      "500\n",
      "5000\n",
      "6000\n"
     ]
    }
   ],
   "source": [
    "list1 = [10, 20, [300, 400, [5000, 6000], 500], 30, 40]\n",
    "print(list1[0])\n",
    "print(list1[1])\n",
    "print(list1[2])\n",
    "print(list1[3])\n",
    "print(list1[4])\n",
    "print(list1[2][0])\n",
    "print(list1[2][1])\n",
    "print(list1[2][2])\n",
    "print(list1[2][3])\n",
    "print(list1[2][2][0])\n",
    "print(list1[2][2][1])"
   ]
  },
  {
   "cell_type": "code",
   "execution_count": 92,
   "id": "81091071",
   "metadata": {},
   "outputs": [
    {
     "data": {
      "text/plain": [
       "[['M', 'y'], ['na', 'me'], ['i', 's'], ['Kh', 'an']]"
      ]
     },
     "execution_count": 92,
     "metadata": {},
     "output_type": "execute_result"
    }
   ],
   "source": [
    "list1 = [\"M\", \"na\", \"i\", \"Kh\"]\n",
    "list2 = [\"y\", \"me\", \"s\", \"an\"]\n",
    "\n",
    "#output [['M','y'], ['na', me'], ['i', 's'], ['Kh', 'an']]\n",
    "\n",
    "# zip(list1,list2)\n",
    "# list(zip(list1,list2))\n",
    "\n",
    "[[i,j] for (i,j) in zip(list1,list2)]"
   ]
  },
  {
   "cell_type": "code",
   "execution_count": 93,
   "id": "7ee29dc9",
   "metadata": {},
   "outputs": [
    {
     "data": {
      "text/plain": [
       "[('M', 'y'), ('na', 'me'), ('i', 's'), ('Kh', 'an')]"
      ]
     },
     "execution_count": 93,
     "metadata": {},
     "output_type": "execute_result"
    }
   ],
   "source": [
    "list1 = [\"M\", \"na\", \"i\", \"Kh\"]\n",
    "list2 = [\"y\", \"me\", \"s\", \"an\"]\n",
    "\n",
    "#output [['M','y'], ['na', me'], ['i', 's'], ['Kh', 'an']]\n",
    "\n",
    "#zip(list1,list2)\n",
    "list(zip(list1,list2))"
   ]
  },
  {
   "cell_type": "code",
   "execution_count": 94,
   "id": "d9c06403",
   "metadata": {},
   "outputs": [
    {
     "name": "stdout",
     "output_type": "stream",
     "text": [
      "Jelly Belly - 10\n",
      "Kit Kat - 20\n",
      "Double Bubble - 34\n",
      "Milky Way - 74\n",
      "Three Musketeers - 32\n"
     ]
    }
   ],
   "source": [
    "candy_list = ['Jelly Belly','Kit Kat','Double Bubble','Milky Way','Three Musketeers']\n",
    "no_of_items = [10,20,34,74,32]\n",
    "\n",
    "# output Jelly Belly-10\n",
    "# Kit Kat-20\n",
    "# Double Bubble-34\n",
    "# Milky Way-74\n",
    "# Three Musketeers-32\n",
    "\n",
    "for (i,j) in zip(candy_list,no_of_items):\n",
    "    print(i,'-',j)"
   ]
  },
  {
   "cell_type": "code",
   "execution_count": 95,
   "id": "3755545f",
   "metadata": {},
   "outputs": [
    {
     "name": "stdout",
     "output_type": "stream",
     "text": [
      "[22, 20, 16, 10, 23]\n"
     ]
    }
   ],
   "source": [
    "# Say given list is [2,4,6,10,1] resultant list will be [22,20,16,10,23].\n",
    "\n",
    "# For 1st element 2 ->> these are greater (4+6+10) values and 2 itself so on adding becomes 22.\n",
    "\n",
    "# For 2nd element 4 ->> greater elements are (6, 10) and 4 itself, so on adding 20\n",
    "\n",
    "# like wise for all other elememts.\n",
    "\n",
    "list1 = [2,4,6,10,1]\n",
    "\n",
    "add_list = []\n",
    "\n",
    "for number in list1:\n",
    "    sum = 0\n",
    "    for n in list1:\n",
    "        if number <= n:\n",
    "            sum += n\n",
    "    add_list.append(sum)\n",
    "\n",
    "print(add_list)"
   ]
  },
  {
   "cell_type": "code",
   "execution_count": null,
   "id": "1d9eaba6",
   "metadata": {},
   "outputs": [],
   "source": [
    "num1 = [23,45,67,78,89,34]\n",
    "num2 = [34,89,55,56,39,67]\n",
    "\n",
    "# Find list of common unique items from two list. and show in increasing order\n",
    "\n",
    "temp = []\n",
    "for number in num1:\n",
    "    if number in num2:\n",
    "        temp.append(number)\n",
    "        \n",
    "\n",
    "temp.sort()\n",
    "print(temp)\n",
    "        "
   ]
  },
  {
   "cell_type": "code",
   "execution_count": null,
   "id": "a2219fb8",
   "metadata": {},
   "outputs": [],
   "source": [
    "list1 = [23,45,67,78,89,34]\n",
    "list2 = [34,89,55,56,39,67]\n",
    "[num for num in list1 if num in list2]"
   ]
  },
  {
   "cell_type": "code",
   "execution_count": 97,
   "id": "caf2deac",
   "metadata": {},
   "outputs": [
    {
     "name": "stdout",
     "output_type": "stream",
     "text": [
      "[2, 6, 120, 0, 1, 1]\n"
     ]
    },
    {
     "data": {
      "text/plain": [
       "['456', '23fg', '1ac21', 'kls', '1', '098d']"
      ]
     },
     "execution_count": 97,
     "metadata": {},
     "output_type": "execute_result"
    }
   ],
   "source": [
    "list1 = ['1ac21', '23fg', '456', '098d','1','kls']\n",
    "#Output: ['456', '23fg', '1ac21', '1', 'kls', '098d']\n",
    "\n",
    "\n",
    "new_list = []\n",
    "for item in list1:\n",
    "    product = 1\n",
    "    for char in item:        \n",
    "        if char.isdigit() == True:\n",
    "            product = product * int(char)\n",
    "    new_list.append(product)\n",
    "print(new_list)\n",
    "# zip \n",
    "#list(zip(new_list,list1))\n",
    "#sorted\n",
    "#sorted(list(zip(new_list,list1)),reverse=True)\n",
    "#list comprehension\n",
    "[i[1] for i in sorted(list(zip(new_list,list1)),reverse=True)]"
   ]
  },
  {
   "cell_type": "code",
   "execution_count": 98,
   "id": "44888393",
   "metadata": {},
   "outputs": [
    {
     "name": "stdout",
     "output_type": "stream",
     "text": [
      "['CampusX', 'is', 'a', 'channel', 'for', 'data-science', 'aspirants.']\n"
     ]
    }
   ],
   "source": [
    "list1 = ['CampusX is a channel', 'for data-science', 'aspirants.']\n",
    "# output ['CampusX', 'is', 'a', 'channel', 'for', 'data-science', 'aspirants.']\n",
    "output = []\n",
    "for i in list1:\n",
    "    output.extend(i.split(\" \"))\n",
    "    \n",
    "print(output)"
   ]
  },
  {
   "cell_type": "code",
   "execution_count": 101,
   "id": "a3469e40",
   "metadata": {},
   "outputs": [
    {
     "data": {
      "text/plain": [
       "'campux is best channel'"
      ]
     },
     "execution_count": 101,
     "metadata": {},
     "output_type": "execute_result"
    }
   ],
   "source": [
    "list1 = [['c', 'a', 'm', 'p', 'u', 'x'], ['i', 's'], ['b', 'e', 's', 't'], ['c', 'h', 'a', 'n', 'n', 'e', 'l']]\n",
    "\n",
    "[\" \".join(i) for i in list1]\n",
    "\n",
    "\" \".join([\"\".join(i) for i in list1])"
   ]
  },
  {
   "cell_type": "code",
   "execution_count": 102,
   "id": "3553ec96",
   "metadata": {},
   "outputs": [
    {
     "data": {
      "text/plain": [
       "['c a m p u x', 'i s', 'b e s t', 'c h a n n e l']"
      ]
     },
     "execution_count": 102,
     "metadata": {},
     "output_type": "execute_result"
    }
   ],
   "source": [
    "list1 = [['c', 'a', 'm', 'p', 'u', 'x'], ['i', 's'], ['b', 'e', 's', 't'], ['c', 'h', 'a', 'n', 'n', 'e', 'l']]\n",
    "\n",
    "[\" \".join(i) for i in list1]\n",
    "\n",
    "#\" \".join([\"\".join(i) for i in list1])"
   ]
  }
 ],
 "metadata": {
  "kernelspec": {
   "display_name": "Python 3 (ipykernel)",
   "language": "python",
   "name": "python3"
  },
  "language_info": {
   "codemirror_mode": {
    "name": "ipython",
    "version": 3
   },
   "file_extension": ".py",
   "mimetype": "text/x-python",
   "name": "python",
   "nbconvert_exporter": "python",
   "pygments_lexer": "ipython3",
   "version": "3.11.4"
  }
 },
 "nbformat": 4,
 "nbformat_minor": 5
}
