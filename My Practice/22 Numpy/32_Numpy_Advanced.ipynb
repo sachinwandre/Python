{
 "cells": [
  {
   "cell_type": "markdown",
   "metadata": {
    "id": "exouV4nxLocj"
   },
   "source": [
    "### Numpy array vs Python lists"
   ]
  },
  {
   "cell_type": "code",
   "execution_count": null,
   "metadata": {
    "colab": {
     "base_uri": "https://localhost:8080/"
    },
    "id": "9ITuYx0tLnbc",
    "outputId": "3b2046b3-40a0-427d-d28a-27c0afa55bda"
   },
   "outputs": [],
   "source": [
    "# speed\n",
    "# list\n",
    "a = [i for i in range(10000000)]\n",
    "b = [i for i in range(10000000,20000000)]\n",
    "\n",
    "c = []\n",
    "import time \n",
    "\n",
    "start = time.time()\n",
    "for i in range(len(a)):\n",
    "  c.append(a[i] + b[i])\n",
    "print(time.time()-start)"
   ]
  },
  {
   "cell_type": "code",
   "execution_count": null,
   "metadata": {},
   "outputs": [],
   "source": [
    "import numpy as np\n",
    "a = np.arange(100000)\n",
    "b = np.arange(10000000,20000000)\n",
    "\n",
    "c = []\n",
    "import time \n",
    "\n",
    "start = time.time()\n",
    "for i in range(len(a)):\n",
    "  c.append(a[i] + b[i])\n",
    "print(time.time()-start)"
   ]
  },
  {
   "cell_type": "code",
   "execution_count": null,
   "metadata": {
    "colab": {
     "base_uri": "https://localhost:8080/"
    },
    "id": "EW6ISYk6ZifP",
    "outputId": "16d22f74-8e1a-4533-e346-a109693f3874"
   },
   "outputs": [],
   "source": [
    "# numpy\n",
    "import numpy as np\n",
    "a = np.arange(10000000)\n",
    "b = np.arange(10000000,20000000)\n",
    "\n",
    "start = time.time()\n",
    "c = a + b\n",
    "print(time.time()-start)"
   ]
  },
  {
   "cell_type": "code",
   "execution_count": null,
   "metadata": {},
   "outputs": [],
   "source": [
    "# numpy\n",
    "import numpy as np\n",
    "a = np.arange(10)\n",
    "b = np.arange(10,20)\n",
    "print(a)\n",
    "print(b)\n",
    "start = time.time()\n",
    "c = a + b\n",
    "print(c)\n",
    "print(time.time()-start)"
   ]
  },
  {
   "cell_type": "code",
   "execution_count": null,
   "metadata": {
    "colab": {
     "base_uri": "https://localhost:8080/"
    },
    "id": "D0rcBlxZB5tb",
    "outputId": "e459d12e-5aac-46b9-b8ea-81a151a386fb"
   },
   "outputs": [],
   "source": [
    "3.26/0.06"
   ]
  },
  {
   "cell_type": "code",
   "execution_count": null,
   "metadata": {
    "colab": {
     "base_uri": "https://localhost:8080/"
    },
    "id": "PSC79592SIZz",
    "outputId": "bfd06baa-daaf-47a4-b0e9-1d1d555dadc6"
   },
   "outputs": [],
   "source": [
    "# memory\n",
    "a = [i for i in range(10000000)]\n",
    "import sys\n",
    "\n",
    "sys.getsizeof(a)"
   ]
  },
  {
   "cell_type": "code",
   "execution_count": null,
   "metadata": {
    "colab": {
     "base_uri": "https://localhost:8080/"
    },
    "id": "mk_U1oHuaOSo",
    "outputId": "0c3cc1a7-6dbc-4185-cb06-b66f41fb0d25"
   },
   "outputs": [],
   "source": [
    "a = np.arange(10000000,dtype=np.int8)\n",
    "sys.getsizeof(a)"
   ]
  },
  {
   "cell_type": "code",
   "execution_count": null,
   "metadata": {
    "id": "MiDnJvwBSJUt"
   },
   "outputs": [],
   "source": [
    "# convenience"
   ]
  },
  {
   "cell_type": "markdown",
   "metadata": {
    "id": "G7gJ1-8fLLEI"
   },
   "source": [
    "### Advanced Indexing"
   ]
  },
  {
   "cell_type": "code",
   "execution_count": null,
   "metadata": {
    "colab": {
     "base_uri": "https://localhost:8080/"
    },
    "id": "vTt8xIaa1I1Y",
    "outputId": "d8c64297-8a99-40b5-fdbc-c6ab940edb89"
   },
   "outputs": [],
   "source": [
    "# Normal Indexing and Slicing\n",
    "\n",
    "a = np.arange(24).reshape(6,4)\n",
    "a"
   ]
  },
  {
   "cell_type": "code",
   "execution_count": null,
   "metadata": {
    "colab": {
     "base_uri": "https://localhost:8080/"
    },
    "id": "cl0vYVxEEOLs",
    "outputId": "2b844b3a-0088-4738-ec37-d8df0f1a4ce3"
   },
   "outputs": [],
   "source": [
    "a[1,2]"
   ]
  },
  {
   "cell_type": "code",
   "execution_count": null,
   "metadata": {
    "colab": {
     "base_uri": "https://localhost:8080/"
    },
    "id": "-4fMAMjwET20",
    "outputId": "ddad44f8-263a-49b4-ce88-227d7d394c17"
   },
   "outputs": [],
   "source": [
    "a[1:3,1:3]"
   ]
  },
  {
   "cell_type": "code",
   "execution_count": null,
   "metadata": {
    "colab": {
     "base_uri": "https://localhost:8080/"
    },
    "id": "qxCgXTRo1Lk8",
    "outputId": "ff2d2010-c717-4d89-a40e-374ba8473160"
   },
   "outputs": [],
   "source": [
    "# Fancy Indexing\n",
    "a[:,[0,2,3]]"
   ]
  },
  {
   "cell_type": "code",
   "execution_count": null,
   "metadata": {
    "colab": {
     "base_uri": "https://localhost:8080/"
    },
    "id": "3hrTxRuy1Noi",
    "outputId": "0fe3f0ad-3b25-4c1c-cd60-6175fcd0d9c2"
   },
   "outputs": [],
   "source": [
    "# Boolean Indexing\n",
    "a = np.random.randint(1,100,24).reshape(6,4)\n",
    "a"
   ]
  },
  {
   "cell_type": "code",
   "execution_count": null,
   "metadata": {},
   "outputs": [],
   "source": [
    "a>50"
   ]
  },
  {
   "cell_type": "code",
   "execution_count": null,
   "metadata": {
    "colab": {
     "base_uri": "https://localhost:8080/"
    },
    "id": "zMvMQcm01mcG",
    "outputId": "608dfc5b-1457-40ba-d706-70f220bd582c"
   },
   "outputs": [],
   "source": [
    "# find all numbers greater than 50\n",
    "a[a > 50]"
   ]
  },
  {
   "cell_type": "code",
   "execution_count": null,
   "metadata": {},
   "outputs": [],
   "source": [
    "a % 2 == 0"
   ]
  },
  {
   "cell_type": "code",
   "execution_count": null,
   "metadata": {
    "colab": {
     "base_uri": "https://localhost:8080/"
    },
    "id": "_4BwwwxEG68r",
    "outputId": "0bc7ef64-a860-4c39-b1bb-98d8f73ad999"
   },
   "outputs": [],
   "source": [
    "# find out even numbers\n",
    "a[a % 2 == 0]"
   ]
  },
  {
   "cell_type": "code",
   "execution_count": null,
   "metadata": {
    "colab": {
     "base_uri": "https://localhost:8080/",
     "height": 205
    },
    "id": "MIk_GnwQ1sS2",
    "outputId": "0b3e8ed7-0354-4a93-c4e8-e3901e395ced"
   },
   "outputs": [],
   "source": [
    "# find all numbers greater than 50 and are even\n",
    "\n",
    "a[(a > 50) & (a % 2 == 0)]"
   ]
  },
  {
   "cell_type": "code",
   "execution_count": null,
   "metadata": {
    "colab": {
     "base_uri": "https://localhost:8080/"
    },
    "id": "rhGQtwkl6W7k",
    "outputId": "f6f525b9-9556-4c9c-aa9c-bd56bb7cab0c"
   },
   "outputs": [],
   "source": [
    "# find all numbers not divisible by 7\n",
    "a[~(a % 7 == 0)]"
   ]
  },
  {
   "cell_type": "code",
   "execution_count": null,
   "metadata": {},
   "outputs": [],
   "source": [
    "a[(a % 7 != 0)]"
   ]
  },
  {
   "cell_type": "markdown",
   "metadata": {
    "id": "n2UP2iZTLPR5"
   },
   "source": [
    "### Broadcasting\n",
    "\n",
    "The term broadcasting describes how NumPy treats arrays with different shapes during arithmetic operations.\n",
    "\n",
    "The smaller array is “broadcast” across the larger array so that they have compatible shapes."
   ]
  },
  {
   "cell_type": "code",
   "execution_count": null,
   "metadata": {
    "colab": {
     "base_uri": "https://localhost:8080/"
    },
    "id": "tJTrjKxoCYhT",
    "outputId": "efeae6e2-add6-4e95-e1d4-b71c806438f2"
   },
   "outputs": [],
   "source": [
    "# same shape\n",
    "a = np.arange(6).reshape(2,3)\n",
    "b = np.arange(6,12).reshape(2,3)\n",
    "\n",
    "print(a)\n",
    "print(b)\n",
    "\n",
    "print(a+b)"
   ]
  },
  {
   "cell_type": "code",
   "execution_count": null,
   "metadata": {
    "colab": {
     "base_uri": "https://localhost:8080/"
    },
    "id": "f-mVhFT-N3jF",
    "outputId": "dbd6e2bd-f05b-4113-f2e6-b31ded8873cf"
   },
   "outputs": [],
   "source": [
    "# diff shape\n",
    "a = np.arange(6).reshape(2,3)\n",
    "b = np.arange(3).reshape(1,3)\n",
    "\n",
    "print(a)\n",
    "print(b)\n",
    "\n",
    "print(a+b)"
   ]
  },
  {
   "cell_type": "markdown",
   "metadata": {
    "id": "XXzDHsndO70t"
   },
   "source": [
    "#### Broadcasting Rules\n",
    "\n",
    "**1. Make the two arrays have the same number of dimensions.**<br>\n",
    "- If the numbers of dimensions of the two arrays are different, add new dimensions with size 1 to the head of the array with the smaller dimension.<br>"
   ]
  },
  {
   "cell_type": "markdown",
   "metadata": {
    "id": "M_ZI1gpEPdwi"
   },
   "source": [
    "**2. Make each dimension of the two arrays the same size.**<br>\n",
    "- If the sizes of each dimension of the two arrays do not match, dimensions with size 1 are stretched to the size of the other array.\n",
    "- If there is a dimension whose size is not 1 in either of the two arrays, it cannot be broadcasted, and an error is raised."
   ]
  },
  {
   "cell_type": "markdown",
   "metadata": {
    "id": "6YxVl8iZVLEh"
   },
   "source": [
    "<img src = \"https://jakevdp.github.io/PythonDataScienceHandbook/figures/02.05-broadcasting.png\">"
   ]
  },
  {
   "cell_type": "code",
   "execution_count": null,
   "metadata": {
    "colab": {
     "base_uri": "https://localhost:8080/"
    },
    "id": "0WKia_sDRaNm",
    "outputId": "20e7fd8a-f8f5-4650-f3ef-8d014e8e7c27"
   },
   "outputs": [],
   "source": [
    "# More examples\n",
    "\n",
    "a = np.arange(12).reshape(4,3)\n",
    "b = np.arange(3)\n",
    "\n",
    "print(a)\n",
    "print(b)\n",
    "\n",
    "print(a+b)"
   ]
  },
  {
   "cell_type": "code",
   "execution_count": null,
   "metadata": {
    "colab": {
     "base_uri": "https://localhost:8080/",
     "height": 277
    },
    "id": "SqtTHUngRhss",
    "outputId": "37a5dc7b-75b7-4cb3-9348-26197ccdf97c"
   },
   "outputs": [],
   "source": [
    "a = np.arange(12).reshape(3,4)\n",
    "b = np.arange(3)\n",
    "\n",
    "print(a)\n",
    "print(b)\n",
    "\n",
    "print(a+b)"
   ]
  },
  {
   "cell_type": "code",
   "execution_count": null,
   "metadata": {
    "colab": {
     "base_uri": "https://localhost:8080/"
    },
    "id": "5hQ269ncQedR",
    "outputId": "b6f1ed7f-95da-4e52-cb8e-a58f41a34add"
   },
   "outputs": [],
   "source": [
    "a = np.arange(3).reshape(1,3)\n",
    "b = np.arange(3).reshape(3,1)\n",
    "\n",
    "print(a)\n",
    "print(b)\n",
    "\n",
    "print(a+b)"
   ]
  },
  {
   "cell_type": "code",
   "execution_count": null,
   "metadata": {
    "colab": {
     "base_uri": "https://localhost:8080/"
    },
    "id": "sc4X7IQVRujU",
    "outputId": "97a1aad8-1827-4038-ea8d-1d4516359d36"
   },
   "outputs": [],
   "source": [
    "a = np.arange(3).reshape(1,3)\n",
    "b = np.arange(4).reshape(4,1)\n",
    "\n",
    "print(a)\n",
    "print(b)\n",
    "\n",
    "print(a + b)"
   ]
  },
  {
   "cell_type": "code",
   "execution_count": null,
   "metadata": {
    "colab": {
     "base_uri": "https://localhost:8080/"
    },
    "id": "v6EwwULkQuvs",
    "outputId": "48990123-6b83-414c-c42f-5f0b593a4967"
   },
   "outputs": [],
   "source": [
    "a = np.array([1])\n",
    "# shape -> (1,1)\n",
    "b = np.arange(4).reshape(2,2)\n",
    "# shape -> (2,2)\n",
    "\n",
    "print(a)\n",
    "print(b)\n",
    "\n",
    "print(a+b)"
   ]
  },
  {
   "cell_type": "code",
   "execution_count": null,
   "metadata": {
    "colab": {
     "base_uri": "https://localhost:8080/",
     "height": 330
    },
    "id": "nEgUi7tnRGI4",
    "outputId": "8de08148-7f3e-4a03-823c-0c4e157a556e"
   },
   "outputs": [],
   "source": [
    "a = np.arange(12).reshape(3,4)\n",
    "b = np.arange(12).reshape(4,3)\n",
    "\n",
    "print(a)\n",
    "print(b)\n",
    "\n",
    "print(a+b)"
   ]
  },
  {
   "cell_type": "code",
   "execution_count": null,
   "metadata": {},
   "outputs": [],
   "source": [
    "a = np.arange(12).reshape(3,4)\n",
    "b = np.arange(12).reshape(4,3)\n",
    "\n",
    "print(a)\n",
    "print(b)\n",
    "\n",
    "print(b+a)"
   ]
  },
  {
   "cell_type": "code",
   "execution_count": null,
   "metadata": {
    "colab": {
     "base_uri": "https://localhost:8080/",
     "height": 312
    },
    "id": "kelF0GRBR3--",
    "outputId": "233ef62e-b775-4f00-c61d-dd9131067183"
   },
   "outputs": [],
   "source": [
    "a = np.arange(16).reshape(4,4)\n",
    "b = np.arange(4).reshape(2,2)\n",
    "\n",
    "print(a)\n",
    "print(b)\n",
    "\n",
    "print(a+b)"
   ]
  },
  {
   "cell_type": "markdown",
   "metadata": {
    "id": "UNqpEw03LSl6"
   },
   "source": [
    "### Working with mathematical formulas"
   ]
  },
  {
   "cell_type": "code",
   "execution_count": null,
   "metadata": {
    "colab": {
     "base_uri": "https://localhost:8080/"
    },
    "id": "U01nMTh-N-h_",
    "outputId": "f78780bf-cea2-4234-f03f-38df6c36f812"
   },
   "outputs": [],
   "source": [
    "a = np.arange(10)\n",
    "np.sin(a)"
   ]
  },
  {
   "cell_type": "code",
   "execution_count": null,
   "metadata": {
    "colab": {
     "base_uri": "https://localhost:8080/"
    },
    "id": "Sf6T8s8VCZum",
    "outputId": "976e4793-59c8-4590-bc57-5c3df210c1c3"
   },
   "outputs": [],
   "source": [
    "# sigmoid\n",
    "def sigmoid(array):\n",
    "  return 1/(1 + np.exp(-(array)))\n",
    "\n",
    "\n",
    "a = np.arange(100)\n",
    "\n",
    "sigmoid(a)"
   ]
  },
  {
   "cell_type": "code",
   "execution_count": null,
   "metadata": {
    "id": "3jaule_JOcdc"
   },
   "outputs": [],
   "source": [
    "# mean squared error\n",
    "\n",
    "actual = np.random.randint(1,50,25)\n",
    "predicted = np.random.randint(1,50,25)"
   ]
  },
  {
   "cell_type": "code",
   "execution_count": null,
   "metadata": {
    "colab": {
     "base_uri": "https://localhost:8080/"
    },
    "id": "qfoOOAAUQzhY",
    "outputId": "25d8bc85-fc80-49ef-9e75-196a5a0ff0c5"
   },
   "outputs": [],
   "source": [
    "def mse(actual,predicted):\n",
    "  return np.mean((actual - predicted)**2)\n",
    "\n",
    "mse(actual,predicted)"
   ]
  },
  {
   "cell_type": "code",
   "execution_count": null,
   "metadata": {
    "colab": {
     "base_uri": "https://localhost:8080/"
    },
    "id": "3O6WqXi-OdIO",
    "outputId": "5f32815f-893e-4654-9285-6ef9af6def5f"
   },
   "outputs": [],
   "source": [
    "# binary cross entropy\n",
    "np.mean((actual - predicted)**2)"
   ]
  },
  {
   "cell_type": "code",
   "execution_count": null,
   "metadata": {
    "colab": {
     "base_uri": "https://localhost:8080/"
    },
    "id": "plXemGIXQfmR",
    "outputId": "de7b1bb0-b763-49ca-8b99-94d248f2a54d"
   },
   "outputs": [],
   "source": [
    "actual"
   ]
  },
  {
   "cell_type": "markdown",
   "metadata": {
    "id": "d9olU9IoLX8P"
   },
   "source": [
    "### Working with missing values"
   ]
  },
  {
   "cell_type": "code",
   "execution_count": null,
   "metadata": {
    "colab": {
     "base_uri": "https://localhost:8080/"
    },
    "id": "LhrsmaIfChjL",
    "outputId": "7e2c55af-6e86-4dfb-adbb-1f6a0d62099e"
   },
   "outputs": [],
   "source": [
    "# Working with missing values -> np.nan\n",
    "a = np.array([1,2,3,4,np.nan,6])\n",
    "a"
   ]
  },
  {
   "cell_type": "code",
   "execution_count": null,
   "metadata": {
    "colab": {
     "base_uri": "https://localhost:8080/"
    },
    "id": "dYI5z7g6S_TI",
    "outputId": "2238d623-f056-497c-844a-e38bd204821f"
   },
   "outputs": [],
   "source": [
    "a[~np.isnan(a)]"
   ]
  },
  {
   "cell_type": "markdown",
   "metadata": {
    "id": "LdVWeHyeLdw5"
   },
   "source": [
    "### Plotting Graphs"
   ]
  },
  {
   "cell_type": "code",
   "execution_count": null,
   "metadata": {
    "colab": {
     "base_uri": "https://localhost:8080/",
     "height": 283
    },
    "id": "2XjXkt9JCm9q",
    "outputId": "3cf8071a-7fc5-48be-ece4-2b7896fd8a63"
   },
   "outputs": [],
   "source": [
    "# plotting a 2D plot\n",
    "# x = y\n",
    "import matplotlib.pyplot as plt\n",
    "\n",
    "x = np.linspace(-10,10,1000)\n",
    "y = x\n",
    "\n",
    "plt.plot(x,y)"
   ]
  },
  {
   "cell_type": "code",
   "execution_count": null,
   "metadata": {
    "colab": {
     "base_uri": "https://localhost:8080/",
     "height": 283
    },
    "id": "SyYCKM--V7Uw",
    "outputId": "ef8c3245-56e0-4210-e4d3-4f4f784f39ab"
   },
   "outputs": [],
   "source": [
    "# y = x^2\n",
    "x = np.linspace(-10,10,100)\n",
    "y = x**2\n",
    "\n",
    "plt.plot(x,y)"
   ]
  },
  {
   "cell_type": "code",
   "execution_count": null,
   "metadata": {
    "colab": {
     "base_uri": "https://localhost:8080/",
     "height": 283
    },
    "id": "lG-QRoWdWHxp",
    "outputId": "11b66200-e2f0-4d23-8b42-02b9d8573e4a"
   },
   "outputs": [],
   "source": [
    "# y = sin(x)\n",
    "x = np.linspace(-10,10,100)\n",
    "y = np.sin(x)\n",
    "\n",
    "plt.plot(x,y)"
   ]
  },
  {
   "cell_type": "code",
   "execution_count": null,
   "metadata": {
    "colab": {
     "base_uri": "https://localhost:8080/",
     "height": 319
    },
    "id": "EpuzrF8YWUqD",
    "outputId": "3e61f24d-a9f9-4d28-a303-3ff9390899cb"
   },
   "outputs": [],
   "source": [
    "# y = xlog(x)\n",
    "x = np.linspace(-10,10,100)\n",
    "y = x * np.log(x)\n",
    "\n",
    "plt.plot(x,y)"
   ]
  },
  {
   "cell_type": "code",
   "execution_count": null,
   "metadata": {
    "colab": {
     "base_uri": "https://localhost:8080/",
     "height": 283
    },
    "id": "LidUuDKVW5De",
    "outputId": "651766f0-8f17-4b64-d436-1aca8ad7ee73"
   },
   "outputs": [],
   "source": [
    "# sigmoid\n",
    "x = np.linspace(-10,10,100)\n",
    "y = 1/(1+np.exp(-x))\n",
    "\n",
    "plt.plot(x,y)"
   ]
  },
  {
   "cell_type": "markdown",
   "metadata": {
    "id": "1sw0TeY7LiGK"
   },
   "source": [
    "### Meshgrids"
   ]
  },
  {
   "cell_type": "code",
   "execution_count": null,
   "metadata": {
    "id": "xQP6c_ISE75r"
   },
   "outputs": [],
   "source": [
    "# Meshgrids"
   ]
  },
  {
   "cell_type": "code",
   "execution_count": null,
   "metadata": {
    "id": "QPEQuuof8xmJ"
   },
   "outputs": [],
   "source": [
    "import numpy as np\n",
    "a = np.array([1,2,3,4,5])\n",
    "a"
   ]
  },
  {
   "cell_type": "code",
   "execution_count": null,
   "metadata": {},
   "outputs": [],
   "source": [
    "a = [i for i in np.arange(15)]\n",
    "a"
   ]
  },
  {
   "cell_type": "code",
   "execution_count": null,
   "metadata": {},
   "outputs": [],
   "source": [
    "b = [i for i in range(15)]\n",
    "b"
   ]
  },
  {
   "cell_type": "code",
   "execution_count": null,
   "metadata": {},
   "outputs": [],
   "source": [
    "c = np.arange(15)\n",
    "c"
   ]
  },
  {
   "cell_type": "code",
   "execution_count": null,
   "metadata": {},
   "outputs": [],
   "source": [
    "c[c>10]"
   ]
  },
  {
   "cell_type": "code",
   "execution_count": null,
   "metadata": {},
   "outputs": [],
   "source": [
    "c[c<5]"
   ]
  },
  {
   "cell_type": "code",
   "execution_count": null,
   "metadata": {},
   "outputs": [],
   "source": [
    "c[c%2==0]"
   ]
  },
  {
   "cell_type": "code",
   "execution_count": null,
   "metadata": {},
   "outputs": [],
   "source": [
    "c[c%7 !=0]"
   ]
  },
  {
   "cell_type": "code",
   "execution_count": null,
   "metadata": {},
   "outputs": [],
   "source": [
    "import matplotlib.pyplot as plt\n",
    "\n",
    "x = np.linspace(-1,1,10)\n",
    "y = x**2\n",
    "\n",
    "plt.plot(x,y)"
   ]
  }
 ],
 "metadata": {
  "colab": {
   "provenance": []
  },
  "kernelspec": {
   "display_name": "Python 3 (ipykernel)",
   "language": "python",
   "name": "python3"
  },
  "language_info": {
   "codemirror_mode": {
    "name": "ipython",
    "version": 3
   },
   "file_extension": ".py",
   "mimetype": "text/x-python",
   "name": "python",
   "nbconvert_exporter": "python",
   "pygments_lexer": "ipython3",
   "version": "3.11.4"
  }
 },
 "nbformat": 4,
 "nbformat_minor": 1
}
