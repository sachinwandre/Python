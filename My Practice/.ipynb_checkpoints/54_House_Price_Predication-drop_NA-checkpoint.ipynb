{
 "cells": [
  {
   "cell_type": "code",
   "execution_count": 1,
   "id": "db3ab558",
   "metadata": {},
   "outputs": [],
   "source": [
    "import numpy as np\n",
    "import pandas as pd\n",
    "from sklearn.model_selection import train_test_split\n",
    "from sklearn.linear_model import LinearRegression\n",
    "from sklearn.ensemble import RandomForestRegressor\n",
    "from sklearn.tree import DecisionTreeRegressor\n",
    "from sklearn.metrics import r2_score,mean_squared_error\n",
    "import warnings\n",
    "warnings.filterwarnings(\"ignore\")\n"
   ]
  },
  {
   "cell_type": "code",
   "execution_count": 2,
   "id": "782fcb71",
   "metadata": {},
   "outputs": [
    {
     "data": {
      "text/html": [
       "<div>\n",
       "<style scoped>\n",
       "    .dataframe tbody tr th:only-of-type {\n",
       "        vertical-align: middle;\n",
       "    }\n",
       "\n",
       "    .dataframe tbody tr th {\n",
       "        vertical-align: top;\n",
       "    }\n",
       "\n",
       "    .dataframe thead th {\n",
       "        text-align: right;\n",
       "    }\n",
       "</style>\n",
       "<table border=\"1\" class=\"dataframe\">\n",
       "  <thead>\n",
       "    <tr style=\"text-align: right;\">\n",
       "      <th></th>\n",
       "      <th>area_type</th>\n",
       "      <th>location</th>\n",
       "      <th>Society</th>\n",
       "      <th>size</th>\n",
       "      <th>Baths</th>\n",
       "      <th>total_sqft</th>\n",
       "      <th>price</th>\n",
       "      <th>availability</th>\n",
       "      <th>Unnamed: 8</th>\n",
       "      <th>Unnamed: 9</th>\n",
       "    </tr>\n",
       "  </thead>\n",
       "  <tbody>\n",
       "    <tr>\n",
       "      <th>0</th>\n",
       "      <td>Super Built-up Area</td>\n",
       "      <td>Bavdhan</td>\n",
       "      <td>Satyam Shrey</td>\n",
       "      <td>2 bhk</td>\n",
       "      <td>2.0</td>\n",
       "      <td>640</td>\n",
       "      <td>55.96</td>\n",
       "      <td>Under construction</td>\n",
       "      <td>NaN</td>\n",
       "      <td>NaN</td>\n",
       "    </tr>\n",
       "    <tr>\n",
       "      <th>1</th>\n",
       "      <td>Built-up Area</td>\n",
       "      <td>Sus</td>\n",
       "      <td>Kiran Sanskriti</td>\n",
       "      <td>2 bhk</td>\n",
       "      <td>2.0</td>\n",
       "      <td>690-720</td>\n",
       "      <td>45.00</td>\n",
       "      <td>Under construction</td>\n",
       "      <td>NaN</td>\n",
       "      <td>NaN</td>\n",
       "    </tr>\n",
       "    <tr>\n",
       "      <th>2</th>\n",
       "      <td>Built-up Area</td>\n",
       "      <td>Tathawade</td>\n",
       "      <td>Vivanta</td>\n",
       "      <td>2 bhk</td>\n",
       "      <td>2.0</td>\n",
       "      <td>688-693</td>\n",
       "      <td>60.00</td>\n",
       "      <td>Under construction</td>\n",
       "      <td>NaN</td>\n",
       "      <td>NaN</td>\n",
       "    </tr>\n",
       "    <tr>\n",
       "      <th>3</th>\n",
       "      <td>Super Built-up Area</td>\n",
       "      <td>Koregaon Park</td>\n",
       "      <td>Sunit Anant</td>\n",
       "      <td>3 bhk</td>\n",
       "      <td>3.0</td>\n",
       "      <td>1659</td>\n",
       "      <td>210.00</td>\n",
       "      <td>Ready to move</td>\n",
       "      <td>NaN</td>\n",
       "      <td>NaN</td>\n",
       "    </tr>\n",
       "    <tr>\n",
       "      <th>4</th>\n",
       "      <td>Built-up Area</td>\n",
       "      <td>Sinhgad Road</td>\n",
       "      <td>Nanded city</td>\n",
       "      <td>3 bhk</td>\n",
       "      <td>3.0</td>\n",
       "      <td>1450</td>\n",
       "      <td>78.00</td>\n",
       "      <td>Ready to move</td>\n",
       "      <td>NaN</td>\n",
       "      <td>NaN</td>\n",
       "    </tr>\n",
       "    <tr>\n",
       "      <th>...</th>\n",
       "      <td>...</td>\n",
       "      <td>...</td>\n",
       "      <td>...</td>\n",
       "      <td>...</td>\n",
       "      <td>...</td>\n",
       "      <td>...</td>\n",
       "      <td>...</td>\n",
       "      <td>...</td>\n",
       "      <td>...</td>\n",
       "      <td>...</td>\n",
       "    </tr>\n",
       "    <tr>\n",
       "      <th>1624</th>\n",
       "      <td>NaN</td>\n",
       "      <td>Sinhgad Road</td>\n",
       "      <td>NaN</td>\n",
       "      <td>2 bhk</td>\n",
       "      <td>2.0</td>\n",
       "      <td>1175</td>\n",
       "      <td>73.50</td>\n",
       "      <td>NaN</td>\n",
       "      <td>NaN</td>\n",
       "      <td>NaN</td>\n",
       "    </tr>\n",
       "    <tr>\n",
       "      <th>1625</th>\n",
       "      <td>NaN</td>\n",
       "      <td>Koregaon Park</td>\n",
       "      <td>NaN</td>\n",
       "      <td>2 bhk</td>\n",
       "      <td>2.0</td>\n",
       "      <td>1425</td>\n",
       "      <td>80.00</td>\n",
       "      <td>NaN</td>\n",
       "      <td>NaN</td>\n",
       "      <td>NaN</td>\n",
       "    </tr>\n",
       "    <tr>\n",
       "      <th>1626</th>\n",
       "      <td>NaN</td>\n",
       "      <td>Swargate</td>\n",
       "      <td>NaN</td>\n",
       "      <td>1 bhk</td>\n",
       "      <td>1.0</td>\n",
       "      <td>1200</td>\n",
       "      <td>20.00</td>\n",
       "      <td>NaN</td>\n",
       "      <td>NaN</td>\n",
       "      <td>NaN</td>\n",
       "    </tr>\n",
       "    <tr>\n",
       "      <th>1627</th>\n",
       "      <td>NaN</td>\n",
       "      <td>Karve Nagar</td>\n",
       "      <td>NaN</td>\n",
       "      <td>3 bhk</td>\n",
       "      <td>3.0</td>\n",
       "      <td>1200</td>\n",
       "      <td>56.12</td>\n",
       "      <td>NaN</td>\n",
       "      <td>NaN</td>\n",
       "      <td>NaN</td>\n",
       "    </tr>\n",
       "    <tr>\n",
       "      <th>1628</th>\n",
       "      <td>NaN</td>\n",
       "      <td>Karve Nagar</td>\n",
       "      <td>NaN</td>\n",
       "      <td>2 bhk</td>\n",
       "      <td>2.0</td>\n",
       "      <td>1255</td>\n",
       "      <td>67.00</td>\n",
       "      <td>NaN</td>\n",
       "      <td>NaN</td>\n",
       "      <td>NaN</td>\n",
       "    </tr>\n",
       "  </tbody>\n",
       "</table>\n",
       "<p>1629 rows × 10 columns</p>\n",
       "</div>"
      ],
      "text/plain": [
       "                area_type       location          Society   size  Baths  \\\n",
       "0     Super Built-up Area        Bavdhan     Satyam Shrey  2 bhk    2.0   \n",
       "1           Built-up Area            Sus  Kiran Sanskriti  2 bhk    2.0   \n",
       "2           Built-up Area      Tathawade          Vivanta  2 bhk    2.0   \n",
       "3     Super Built-up Area  Koregaon Park      Sunit Anant  3 bhk    3.0   \n",
       "4           Built-up Area   Sinhgad Road      Nanded city  3 bhk    3.0   \n",
       "...                   ...            ...              ...    ...    ...   \n",
       "1624                  NaN   Sinhgad Road              NaN  2 bhk    2.0   \n",
       "1625                  NaN  Koregaon Park              NaN  2 bhk    2.0   \n",
       "1626                  NaN       Swargate              NaN  1 bhk    1.0   \n",
       "1627                  NaN    Karve Nagar              NaN  3 bhk    3.0   \n",
       "1628                  NaN    Karve Nagar              NaN  2 bhk    2.0   \n",
       "\n",
       "     total_sqft   price        availability  Unnamed: 8 Unnamed: 9  \n",
       "0           640   55.96  Under construction         NaN        NaN  \n",
       "1      690-720    45.00  Under construction         NaN        NaN  \n",
       "2      688-693    60.00  Under construction         NaN        NaN  \n",
       "3          1659  210.00       Ready to move         NaN        NaN  \n",
       "4          1450   78.00       Ready to move         NaN        NaN  \n",
       "...         ...     ...                 ...         ...        ...  \n",
       "1624       1175   73.50                 NaN         NaN        NaN  \n",
       "1625       1425   80.00                 NaN         NaN        NaN  \n",
       "1626       1200   20.00                 NaN         NaN        NaN  \n",
       "1627       1200   56.12                 NaN         NaN        NaN  \n",
       "1628       1255   67.00                 NaN         NaN        NaN  \n",
       "\n",
       "[1629 rows x 10 columns]"
      ]
     },
     "execution_count": 2,
     "metadata": {},
     "output_type": "execute_result"
    }
   ],
   "source": [
    "# Read data frame from csv file\n",
    "data_frame = pd.read_csv(\"D:/14_Data Scientist/Datasets/House Data_Pune.csv\")\n",
    "data_frame"
   ]
  },
  {
   "cell_type": "code",
   "execution_count": 3,
   "id": "7c921fdc",
   "metadata": {},
   "outputs": [
    {
     "data": {
      "text/html": [
       "<div>\n",
       "<style scoped>\n",
       "    .dataframe tbody tr th:only-of-type {\n",
       "        vertical-align: middle;\n",
       "    }\n",
       "\n",
       "    .dataframe tbody tr th {\n",
       "        vertical-align: top;\n",
       "    }\n",
       "\n",
       "    .dataframe thead th {\n",
       "        text-align: right;\n",
       "    }\n",
       "</style>\n",
       "<table border=\"1\" class=\"dataframe\">\n",
       "  <thead>\n",
       "    <tr style=\"text-align: right;\">\n",
       "      <th></th>\n",
       "      <th>area_type</th>\n",
       "      <th>location</th>\n",
       "      <th>Society</th>\n",
       "      <th>size</th>\n",
       "      <th>Baths</th>\n",
       "      <th>total_sqft</th>\n",
       "      <th>price</th>\n",
       "      <th>availability</th>\n",
       "      <th>Unnamed: 8</th>\n",
       "      <th>Unnamed: 9</th>\n",
       "    </tr>\n",
       "  </thead>\n",
       "  <tbody>\n",
       "    <tr>\n",
       "      <th>0</th>\n",
       "      <td>Super Built-up Area</td>\n",
       "      <td>Bavdhan</td>\n",
       "      <td>Satyam Shrey</td>\n",
       "      <td>2 bhk</td>\n",
       "      <td>2.0</td>\n",
       "      <td>640</td>\n",
       "      <td>55.96</td>\n",
       "      <td>Under construction</td>\n",
       "      <td>NaN</td>\n",
       "      <td>NaN</td>\n",
       "    </tr>\n",
       "    <tr>\n",
       "      <th>1</th>\n",
       "      <td>Built-up Area</td>\n",
       "      <td>Sus</td>\n",
       "      <td>Kiran Sanskriti</td>\n",
       "      <td>2 bhk</td>\n",
       "      <td>2.0</td>\n",
       "      <td>690-720</td>\n",
       "      <td>45.00</td>\n",
       "      <td>Under construction</td>\n",
       "      <td>NaN</td>\n",
       "      <td>NaN</td>\n",
       "    </tr>\n",
       "    <tr>\n",
       "      <th>2</th>\n",
       "      <td>Built-up Area</td>\n",
       "      <td>Tathawade</td>\n",
       "      <td>Vivanta</td>\n",
       "      <td>2 bhk</td>\n",
       "      <td>2.0</td>\n",
       "      <td>688-693</td>\n",
       "      <td>60.00</td>\n",
       "      <td>Under construction</td>\n",
       "      <td>NaN</td>\n",
       "      <td>NaN</td>\n",
       "    </tr>\n",
       "    <tr>\n",
       "      <th>3</th>\n",
       "      <td>Super Built-up Area</td>\n",
       "      <td>Koregaon Park</td>\n",
       "      <td>Sunit Anant</td>\n",
       "      <td>3 bhk</td>\n",
       "      <td>3.0</td>\n",
       "      <td>1659</td>\n",
       "      <td>210.00</td>\n",
       "      <td>Ready to move</td>\n",
       "      <td>NaN</td>\n",
       "      <td>NaN</td>\n",
       "    </tr>\n",
       "    <tr>\n",
       "      <th>4</th>\n",
       "      <td>Built-up Area</td>\n",
       "      <td>Sinhgad Road</td>\n",
       "      <td>Nanded city</td>\n",
       "      <td>3 bhk</td>\n",
       "      <td>3.0</td>\n",
       "      <td>1450</td>\n",
       "      <td>78.00</td>\n",
       "      <td>Ready to move</td>\n",
       "      <td>NaN</td>\n",
       "      <td>NaN</td>\n",
       "    </tr>\n",
       "    <tr>\n",
       "      <th>5</th>\n",
       "      <td>Super Built-up Area</td>\n",
       "      <td>Koregaon Park</td>\n",
       "      <td>New Akshaya</td>\n",
       "      <td>2 bhk</td>\n",
       "      <td>2.0</td>\n",
       "      <td>1300</td>\n",
       "      <td>100.00</td>\n",
       "      <td>Ready to move</td>\n",
       "      <td>NaN</td>\n",
       "      <td>NaN</td>\n",
       "    </tr>\n",
       "    <tr>\n",
       "      <th>6</th>\n",
       "      <td>Super Built-up Area</td>\n",
       "      <td>Bibwewadi</td>\n",
       "      <td>Sukhsagar Nagar</td>\n",
       "      <td>2 bhk</td>\n",
       "      <td>2.0</td>\n",
       "      <td>850-950</td>\n",
       "      <td>50.00</td>\n",
       "      <td>Ready to move</td>\n",
       "      <td>NaN</td>\n",
       "      <td>NaN</td>\n",
       "    </tr>\n",
       "    <tr>\n",
       "      <th>7</th>\n",
       "      <td>Super Built-up Area</td>\n",
       "      <td>Koregaon Park</td>\n",
       "      <td>Tulip</td>\n",
       "      <td>2 bhk</td>\n",
       "      <td>2.0</td>\n",
       "      <td>1080</td>\n",
       "      <td>95.00</td>\n",
       "      <td>Ready to move</td>\n",
       "      <td>NaN</td>\n",
       "      <td>NaN</td>\n",
       "    </tr>\n",
       "    <tr>\n",
       "      <th>8</th>\n",
       "      <td>Built-up Area</td>\n",
       "      <td>Dhankawadi</td>\n",
       "      <td>Ganga Altus</td>\n",
       "      <td>3 bhk</td>\n",
       "      <td>3.0</td>\n",
       "      <td>850-950</td>\n",
       "      <td>87.50</td>\n",
       "      <td>Under construction</td>\n",
       "      <td>NaN</td>\n",
       "      <td>NaN</td>\n",
       "    </tr>\n",
       "    <tr>\n",
       "      <th>9</th>\n",
       "      <td>Built-up Area</td>\n",
       "      <td>Dhankawadi</td>\n",
       "      <td>Ganga Altus</td>\n",
       "      <td>2 bhk</td>\n",
       "      <td>2.0</td>\n",
       "      <td>650-750</td>\n",
       "      <td>67.50</td>\n",
       "      <td>Under construction</td>\n",
       "      <td>NaN</td>\n",
       "      <td>NaN</td>\n",
       "    </tr>\n",
       "  </tbody>\n",
       "</table>\n",
       "</div>"
      ],
      "text/plain": [
       "             area_type       location          Society   size  Baths  \\\n",
       "0  Super Built-up Area        Bavdhan     Satyam Shrey  2 bhk    2.0   \n",
       "1        Built-up Area            Sus  Kiran Sanskriti  2 bhk    2.0   \n",
       "2        Built-up Area      Tathawade          Vivanta  2 bhk    2.0   \n",
       "3  Super Built-up Area  Koregaon Park      Sunit Anant  3 bhk    3.0   \n",
       "4        Built-up Area   Sinhgad Road      Nanded city  3 bhk    3.0   \n",
       "5  Super Built-up Area  Koregaon Park      New Akshaya  2 bhk    2.0   \n",
       "6  Super Built-up Area      Bibwewadi  Sukhsagar Nagar  2 bhk    2.0   \n",
       "7  Super Built-up Area  Koregaon Park           Tulip   2 bhk    2.0   \n",
       "8        Built-up Area     Dhankawadi      Ganga Altus  3 bhk    3.0   \n",
       "9        Built-up Area     Dhankawadi      Ganga Altus  2 bhk    2.0   \n",
       "\n",
       "  total_sqft   price        availability  Unnamed: 8 Unnamed: 9  \n",
       "0        640   55.96  Under construction         NaN        NaN  \n",
       "1   690-720    45.00  Under construction         NaN        NaN  \n",
       "2   688-693    60.00  Under construction         NaN        NaN  \n",
       "3       1659  210.00       Ready to move         NaN        NaN  \n",
       "4       1450   78.00       Ready to move         NaN        NaN  \n",
       "5       1300  100.00       Ready to move         NaN        NaN  \n",
       "6   850-950    50.00       Ready to move         NaN        NaN  \n",
       "7       1080   95.00       Ready to move         NaN        NaN  \n",
       "8   850-950    87.50  Under construction         NaN        NaN  \n",
       "9   650-750    67.50  Under construction         NaN        NaN  "
      ]
     },
     "execution_count": 3,
     "metadata": {},
     "output_type": "execute_result"
    }
   ],
   "source": [
    "data_frame.head(10)"
   ]
  },
  {
   "cell_type": "code",
   "execution_count": 4,
   "id": "769c1a67",
   "metadata": {},
   "outputs": [
    {
     "data": {
      "text/plain": [
       "Index(['area_type', 'location', 'Society', 'size', 'Baths', 'total_sqft',\n",
       "       'price', 'availability', 'Unnamed: 8', 'Unnamed: 9'],\n",
       "      dtype='object')"
      ]
     },
     "execution_count": 4,
     "metadata": {},
     "output_type": "execute_result"
    }
   ],
   "source": [
    "data_frame.columns"
   ]
  },
  {
   "cell_type": "code",
   "execution_count": 5,
   "id": "dcbe344f",
   "metadata": {},
   "outputs": [
    {
     "name": "stdout",
     "output_type": "stream",
     "text": [
      "<class 'pandas.core.frame.DataFrame'>\n",
      "RangeIndex: 1629 entries, 0 to 1628\n",
      "Data columns (total 10 columns):\n",
      " #   Column        Non-Null Count  Dtype  \n",
      "---  ------        --------------  -----  \n",
      " 0   area_type     647 non-null    object \n",
      " 1   location      1629 non-null   object \n",
      " 2   Society       302 non-null    object \n",
      " 3   size          1626 non-null   object \n",
      " 4   Baths         1616 non-null   float64\n",
      " 5   total_sqft    1628 non-null   object \n",
      " 6   price         1629 non-null   float64\n",
      " 7   availability  629 non-null    object \n",
      " 8   Unnamed: 8    0 non-null      float64\n",
      " 9   Unnamed: 9    1 non-null      object \n",
      "dtypes: float64(3), object(7)\n",
      "memory usage: 127.4+ KB\n"
     ]
    }
   ],
   "source": [
    "data_frame.info()"
   ]
  },
  {
   "cell_type": "code",
   "execution_count": 6,
   "id": "0c96a26d",
   "metadata": {},
   "outputs": [
    {
     "data": {
      "text/html": [
       "<div>\n",
       "<style scoped>\n",
       "    .dataframe tbody tr th:only-of-type {\n",
       "        vertical-align: middle;\n",
       "    }\n",
       "\n",
       "    .dataframe tbody tr th {\n",
       "        vertical-align: top;\n",
       "    }\n",
       "\n",
       "    .dataframe thead th {\n",
       "        text-align: right;\n",
       "    }\n",
       "</style>\n",
       "<table border=\"1\" class=\"dataframe\">\n",
       "  <thead>\n",
       "    <tr style=\"text-align: right;\">\n",
       "      <th></th>\n",
       "      <th>area_type</th>\n",
       "      <th>location</th>\n",
       "      <th>size</th>\n",
       "      <th>Baths</th>\n",
       "      <th>total_sqft</th>\n",
       "      <th>price</th>\n",
       "      <th>availability</th>\n",
       "    </tr>\n",
       "  </thead>\n",
       "  <tbody>\n",
       "    <tr>\n",
       "      <th>0</th>\n",
       "      <td>Super Built-up Area</td>\n",
       "      <td>Bavdhan</td>\n",
       "      <td>2 bhk</td>\n",
       "      <td>2.0</td>\n",
       "      <td>640</td>\n",
       "      <td>55.96</td>\n",
       "      <td>Under construction</td>\n",
       "    </tr>\n",
       "    <tr>\n",
       "      <th>1</th>\n",
       "      <td>Built-up Area</td>\n",
       "      <td>Sus</td>\n",
       "      <td>2 bhk</td>\n",
       "      <td>2.0</td>\n",
       "      <td>690-720</td>\n",
       "      <td>45.00</td>\n",
       "      <td>Under construction</td>\n",
       "    </tr>\n",
       "    <tr>\n",
       "      <th>2</th>\n",
       "      <td>Built-up Area</td>\n",
       "      <td>Tathawade</td>\n",
       "      <td>2 bhk</td>\n",
       "      <td>2.0</td>\n",
       "      <td>688-693</td>\n",
       "      <td>60.00</td>\n",
       "      <td>Under construction</td>\n",
       "    </tr>\n",
       "  </tbody>\n",
       "</table>\n",
       "</div>"
      ],
      "text/plain": [
       "             area_type   location   size  Baths total_sqft  price  \\\n",
       "0  Super Built-up Area    Bavdhan  2 bhk    2.0        640  55.96   \n",
       "1        Built-up Area        Sus  2 bhk    2.0   690-720   45.00   \n",
       "2        Built-up Area  Tathawade  2 bhk    2.0   688-693   60.00   \n",
       "\n",
       "         availability  \n",
       "0  Under construction  \n",
       "1  Under construction  \n",
       "2  Under construction  "
      ]
     },
     "execution_count": 6,
     "metadata": {},
     "output_type": "execute_result"
    }
   ],
   "source": [
    "# Need to remove Unnamed columns from data frame so we can use drop method or as selected below\n",
    "\n",
    "# Taking required columns only \n",
    "\n",
    "data_frame = data_frame[['area_type', 'location', 'size', 'Baths', 'total_sqft','price', 'availability']]\n",
    "data_frame.head(3)"
   ]
  },
  {
   "cell_type": "code",
   "execution_count": 7,
   "id": "5c981c65",
   "metadata": {},
   "outputs": [
    {
     "data": {
      "text/html": [
       "<div>\n",
       "<style scoped>\n",
       "    .dataframe tbody tr th:only-of-type {\n",
       "        vertical-align: middle;\n",
       "    }\n",
       "\n",
       "    .dataframe tbody tr th {\n",
       "        vertical-align: top;\n",
       "    }\n",
       "\n",
       "    .dataframe thead th {\n",
       "        text-align: right;\n",
       "    }\n",
       "</style>\n",
       "<table border=\"1\" class=\"dataframe\">\n",
       "  <thead>\n",
       "    <tr style=\"text-align: right;\">\n",
       "      <th></th>\n",
       "      <th>Baths</th>\n",
       "      <th>price</th>\n",
       "    </tr>\n",
       "  </thead>\n",
       "  <tbody>\n",
       "    <tr>\n",
       "      <th>count</th>\n",
       "      <td>1616.000000</td>\n",
       "      <td>1629.000000</td>\n",
       "    </tr>\n",
       "    <tr>\n",
       "      <th>mean</th>\n",
       "      <td>2.529703</td>\n",
       "      <td>107.008677</td>\n",
       "    </tr>\n",
       "    <tr>\n",
       "      <th>std</th>\n",
       "      <td>1.277230</td>\n",
       "      <td>135.486900</td>\n",
       "    </tr>\n",
       "    <tr>\n",
       "      <th>min</th>\n",
       "      <td>1.000000</td>\n",
       "      <td>11.000000</td>\n",
       "    </tr>\n",
       "    <tr>\n",
       "      <th>25%</th>\n",
       "      <td>2.000000</td>\n",
       "      <td>47.600000</td>\n",
       "    </tr>\n",
       "    <tr>\n",
       "      <th>50%</th>\n",
       "      <td>2.000000</td>\n",
       "      <td>70.000000</td>\n",
       "    </tr>\n",
       "    <tr>\n",
       "      <th>75%</th>\n",
       "      <td>3.000000</td>\n",
       "      <td>115.000000</td>\n",
       "    </tr>\n",
       "    <tr>\n",
       "      <th>max</th>\n",
       "      <td>11.000000</td>\n",
       "      <td>2200.000000</td>\n",
       "    </tr>\n",
       "  </tbody>\n",
       "</table>\n",
       "</div>"
      ],
      "text/plain": [
       "             Baths        price\n",
       "count  1616.000000  1629.000000\n",
       "mean      2.529703   107.008677\n",
       "std       1.277230   135.486900\n",
       "min       1.000000    11.000000\n",
       "25%       2.000000    47.600000\n",
       "50%       2.000000    70.000000\n",
       "75%       3.000000   115.000000\n",
       "max      11.000000  2200.000000"
      ]
     },
     "execution_count": 7,
     "metadata": {},
     "output_type": "execute_result"
    }
   ],
   "source": [
    "data_frame.describe()"
   ]
  },
  {
   "cell_type": "code",
   "execution_count": 8,
   "id": "3d266ce1",
   "metadata": {},
   "outputs": [
    {
     "data": {
      "text/plain": [
       "array(['Super Built-up Area', 'Built-up Area', 'Plot Area', nan,\n",
       "       'Carpet Area', 'Built-up area', 'Villa', 'Built-up  Area',\n",
       "       'Super built-up  Area', 'Plot  Area'], dtype=object)"
      ]
     },
     "execution_count": 8,
     "metadata": {},
     "output_type": "execute_result"
    }
   ],
   "source": [
    "data_frame.area_type.unique()"
   ]
  },
  {
   "cell_type": "code",
   "execution_count": 9,
   "id": "6a7befde",
   "metadata": {},
   "outputs": [
    {
     "data": {
      "text/plain": [
       "Super built-up  Area    193\n",
       "Built-up Area           175\n",
       "Super Built-up Area     152\n",
       "Built-up  Area           56\n",
       "Plot  Area               42\n",
       "Plot Area                21\n",
       "Built-up area             4\n",
       "Carpet Area               3\n",
       "Villa                     1\n",
       "Name: area_type, dtype: int64"
      ]
     },
     "execution_count": 9,
     "metadata": {},
     "output_type": "execute_result"
    }
   ],
   "source": [
    "data_frame.area_type.value_counts()"
   ]
  },
  {
   "cell_type": "code",
   "execution_count": 10,
   "id": "1d0aeb1f",
   "metadata": {},
   "outputs": [],
   "source": [
    "data_frame['area_type'] = data_frame['area_type'].replace(['Plot  Area'],['Plot Area'])\n",
    "data_frame['area_type'] = data_frame['area_type'].replace(['Super built-up  Area'],['Super Built-up Area'])\n",
    "data_frame['area_type'] = data_frame['area_type'].replace(['Built-up area'],['Built-up Area'])\n",
    "data_frame['area_type'] = data_frame['area_type'].replace(['Built-up  Area'],['Built-up Area'])"
   ]
  },
  {
   "cell_type": "code",
   "execution_count": 11,
   "id": "0d507ec4",
   "metadata": {},
   "outputs": [
    {
     "data": {
      "text/plain": [
       "Super Built-up Area    345\n",
       "Built-up Area          235\n",
       "Plot Area               63\n",
       "Carpet Area              3\n",
       "Villa                    1\n",
       "Name: area_type, dtype: int64"
      ]
     },
     "execution_count": 11,
     "metadata": {},
     "output_type": "execute_result"
    }
   ],
   "source": [
    "data_frame.area_type.value_counts()"
   ]
  },
  {
   "cell_type": "code",
   "execution_count": 12,
   "id": "b7a9278d",
   "metadata": {},
   "outputs": [
    {
     "data": {
      "text/plain": [
       "{'Super Built-up Area': 345,\n",
       " 'Built-up Area': 235,\n",
       " 'Plot Area': 63,\n",
       " 'Carpet Area': 3,\n",
       " 'Villa': 1}"
      ]
     },
     "execution_count": 12,
     "metadata": {},
     "output_type": "execute_result"
    }
   ],
   "source": [
    "data_frame.area_type.value_counts().to_dict()"
   ]
  },
  {
   "cell_type": "code",
   "execution_count": 13,
   "id": "f9001704",
   "metadata": {},
   "outputs": [
    {
     "data": {
      "text/html": [
       "<div>\n",
       "<style scoped>\n",
       "    .dataframe tbody tr th:only-of-type {\n",
       "        vertical-align: middle;\n",
       "    }\n",
       "\n",
       "    .dataframe tbody tr th {\n",
       "        vertical-align: top;\n",
       "    }\n",
       "\n",
       "    .dataframe thead th {\n",
       "        text-align: right;\n",
       "    }\n",
       "</style>\n",
       "<table border=\"1\" class=\"dataframe\">\n",
       "  <thead>\n",
       "    <tr style=\"text-align: right;\">\n",
       "      <th></th>\n",
       "      <th>Baths</th>\n",
       "      <th>price</th>\n",
       "    </tr>\n",
       "  </thead>\n",
       "  <tbody>\n",
       "    <tr>\n",
       "      <th>Baths</th>\n",
       "      <td>1.00000</td>\n",
       "      <td>0.53599</td>\n",
       "    </tr>\n",
       "    <tr>\n",
       "      <th>price</th>\n",
       "      <td>0.53599</td>\n",
       "      <td>1.00000</td>\n",
       "    </tr>\n",
       "  </tbody>\n",
       "</table>\n",
       "</div>"
      ],
      "text/plain": [
       "         Baths    price\n",
       "Baths  1.00000  0.53599\n",
       "price  0.53599  1.00000"
      ]
     },
     "execution_count": 13,
     "metadata": {},
     "output_type": "execute_result"
    }
   ],
   "source": [
    "data_frame.corr()"
   ]
  },
  {
   "cell_type": "code",
   "execution_count": 14,
   "id": "c5c5d329",
   "metadata": {},
   "outputs": [
    {
     "data": {
      "text/plain": [
       "2 bhk     666\n",
       "3 bhk     514\n",
       "1 bhk     184\n",
       "4 bhk     152\n",
       "5 bhk      35\n",
       "6 bhk      32\n",
       "8 bhk      14\n",
       "7 bhk      12\n",
       "1 RK        6\n",
       "9 bhk       4\n",
       "1 Rk        2\n",
       "10 bhk      1\n",
       "3           1\n",
       "1 rk        1\n",
       "1  bhk      1\n",
       "11 bhk      1\n",
       "Name: size, dtype: int64"
      ]
     },
     "execution_count": 14,
     "metadata": {},
     "output_type": "execute_result"
    }
   ],
   "source": [
    "data_frame['size'].value_counts()"
   ]
  },
  {
   "cell_type": "code",
   "execution_count": 15,
   "id": "9a430e2a",
   "metadata": {},
   "outputs": [
    {
     "data": {
      "text/plain": [
       "3"
      ]
     },
     "execution_count": 15,
     "metadata": {},
     "output_type": "execute_result"
    }
   ],
   "source": [
    "data_frame['size'].isna().sum()"
   ]
  },
  {
   "cell_type": "code",
   "execution_count": 16,
   "id": "110b42ee",
   "metadata": {},
   "outputs": [
    {
     "name": "stdout",
     "output_type": "stream",
     "text": [
      "<class 'pandas.core.frame.DataFrame'>\n",
      "RangeIndex: 1629 entries, 0 to 1628\n",
      "Data columns (total 7 columns):\n",
      " #   Column        Non-Null Count  Dtype  \n",
      "---  ------        --------------  -----  \n",
      " 0   area_type     647 non-null    object \n",
      " 1   location      1629 non-null   object \n",
      " 2   size          1626 non-null   object \n",
      " 3   Baths         1616 non-null   float64\n",
      " 4   total_sqft    1628 non-null   object \n",
      " 5   price         1629 non-null   float64\n",
      " 6   availability  629 non-null    object \n",
      "dtypes: float64(2), object(5)\n",
      "memory usage: 89.2+ KB\n"
     ]
    }
   ],
   "source": [
    "data_frame.info()"
   ]
  },
  {
   "cell_type": "code",
   "execution_count": 17,
   "id": "ee879338",
   "metadata": {},
   "outputs": [],
   "source": [
    "data_frame.dropna(inplace=True)"
   ]
  },
  {
   "cell_type": "code",
   "execution_count": 18,
   "id": "f0abd0a7",
   "metadata": {},
   "outputs": [
    {
     "data": {
      "text/plain": [
       "(623, 7)"
      ]
     },
     "execution_count": 18,
     "metadata": {},
     "output_type": "execute_result"
    }
   ],
   "source": [
    "data_frame.shape"
   ]
  },
  {
   "cell_type": "code",
   "execution_count": 19,
   "id": "9cab14bc",
   "metadata": {},
   "outputs": [
    {
     "data": {
      "text/plain": [
       "0"
      ]
     },
     "execution_count": 19,
     "metadata": {},
     "output_type": "execute_result"
    }
   ],
   "source": [
    "data_frame['area_type'].isna().sum()"
   ]
  },
  {
   "cell_type": "code",
   "execution_count": 20,
   "id": "6074f48b",
   "metadata": {},
   "outputs": [],
   "source": [
    "#data_frame['Society'].isna().sum()"
   ]
  },
  {
   "cell_type": "code",
   "execution_count": 21,
   "id": "ac3a2f30",
   "metadata": {},
   "outputs": [
    {
     "data": {
      "text/plain": [
       "0"
      ]
     },
     "execution_count": 21,
     "metadata": {},
     "output_type": "execute_result"
    }
   ],
   "source": [
    "data_frame['availability'].isna().sum()"
   ]
  },
  {
   "cell_type": "code",
   "execution_count": 22,
   "id": "e85231dc",
   "metadata": {},
   "outputs": [
    {
     "data": {
      "text/plain": [
       "{'2 bhk': 238,\n",
       " '3 bhk': 162,\n",
       " '1 bhk': 133,\n",
       " '4 bhk': 47,\n",
       " '5 bhk': 12,\n",
       " '6 bhk': 12,\n",
       " '8 bhk': 6,\n",
       " '7 bhk': 4,\n",
       " '1 RK': 3,\n",
       " '1 Rk': 2,\n",
       " '10 bhk': 1,\n",
       " '3': 1,\n",
       " '1 rk': 1,\n",
       " '1  bhk': 1}"
      ]
     },
     "execution_count": 22,
     "metadata": {},
     "output_type": "execute_result"
    }
   ],
   "source": [
    "data_frame['size'].value_counts().to_dict()"
   ]
  },
  {
   "cell_type": "code",
   "execution_count": 23,
   "id": "9a6f9f68",
   "metadata": {},
   "outputs": [],
   "source": [
    "import re"
   ]
  },
  {
   "cell_type": "code",
   "execution_count": 24,
   "id": "76ec86d7",
   "metadata": {},
   "outputs": [
    {
     "data": {
      "text/plain": [
       "str"
      ]
     },
     "execution_count": 24,
     "metadata": {},
     "output_type": "execute_result"
    }
   ],
   "source": [
    "type(data_frame['size'][0])"
   ]
  },
  {
   "cell_type": "code",
   "execution_count": 25,
   "id": "fd038b2d",
   "metadata": {},
   "outputs": [],
   "source": [
    "def remove_bhk(input_string):\n",
    "    output_string = re.sub(r'\\s\\w+', '', input_string)\n",
    "    return output_string"
   ]
  },
  {
   "cell_type": "code",
   "execution_count": 26,
   "id": "c4b77b1f",
   "metadata": {},
   "outputs": [],
   "source": [
    "data_frame['size'] =data_frame['size'].astype('str')"
   ]
  },
  {
   "cell_type": "code",
   "execution_count": 27,
   "id": "0eae455e",
   "metadata": {},
   "outputs": [],
   "source": [
    "data_frame['size'] = data_frame['size'].apply(remove_bhk)"
   ]
  },
  {
   "cell_type": "code",
   "execution_count": 28,
   "id": "b47c2d7f",
   "metadata": {},
   "outputs": [
    {
     "data": {
      "text/plain": [
       "'1'"
      ]
     },
     "execution_count": 28,
     "metadata": {},
     "output_type": "execute_result"
    }
   ],
   "source": [
    "data_frame['size'][44]"
   ]
  },
  {
   "cell_type": "code",
   "execution_count": 29,
   "id": "e304d823",
   "metadata": {},
   "outputs": [],
   "source": [
    "data_frame['size'] =data_frame['size'].fillna(method ='ffill')"
   ]
  },
  {
   "cell_type": "code",
   "execution_count": 30,
   "id": "463e4abb",
   "metadata": {},
   "outputs": [
    {
     "data": {
      "text/plain": [
       "0"
      ]
     },
     "execution_count": 30,
     "metadata": {},
     "output_type": "execute_result"
    }
   ],
   "source": [
    "data_frame['size'].isna().sum()"
   ]
  },
  {
   "cell_type": "code",
   "execution_count": 31,
   "id": "dcab62c9",
   "metadata": {},
   "outputs": [
    {
     "data": {
      "text/plain": [
       "2     238\n",
       "3     163\n",
       "1     139\n",
       "4      47\n",
       "5      12\n",
       "6      12\n",
       "8       6\n",
       "7       4\n",
       "10      1\n",
       "1       1\n",
       "Name: size, dtype: int64"
      ]
     },
     "execution_count": 31,
     "metadata": {},
     "output_type": "execute_result"
    }
   ],
   "source": [
    "data_frame['size'].value_counts()"
   ]
  },
  {
   "cell_type": "code",
   "execution_count": 32,
   "id": "a9faf048",
   "metadata": {},
   "outputs": [
    {
     "data": {
      "text/plain": [
       "{'2': 238,\n",
       " '3': 163,\n",
       " '1': 139,\n",
       " '4': 47,\n",
       " '5': 12,\n",
       " '6': 12,\n",
       " '8': 6,\n",
       " '7': 4,\n",
       " '10': 1,\n",
       " '1 ': 1}"
      ]
     },
     "execution_count": 32,
     "metadata": {},
     "output_type": "execute_result"
    }
   ],
   "source": [
    "data_frame['size'].value_counts().to_dict()"
   ]
  },
  {
   "cell_type": "code",
   "execution_count": 33,
   "id": "21515d43",
   "metadata": {},
   "outputs": [],
   "source": [
    "data_frame['size'] = data_frame['size'].replace(['nan'],['2'])"
   ]
  },
  {
   "cell_type": "code",
   "execution_count": 34,
   "id": "e2495556",
   "metadata": {},
   "outputs": [],
   "source": [
    "data_frame['size'] = data_frame['size'].astype('int')"
   ]
  },
  {
   "cell_type": "code",
   "execution_count": 35,
   "id": "6563bded",
   "metadata": {},
   "outputs": [
    {
     "name": "stdout",
     "output_type": "stream",
     "text": [
      "<class 'pandas.core.frame.DataFrame'>\n",
      "Int64Index: 623 entries, 0 to 629\n",
      "Data columns (total 7 columns):\n",
      " #   Column        Non-Null Count  Dtype  \n",
      "---  ------        --------------  -----  \n",
      " 0   area_type     623 non-null    object \n",
      " 1   location      623 non-null    object \n",
      " 2   size          623 non-null    int32  \n",
      " 3   Baths         623 non-null    float64\n",
      " 4   total_sqft    623 non-null    object \n",
      " 5   price         623 non-null    float64\n",
      " 6   availability  623 non-null    object \n",
      "dtypes: float64(2), int32(1), object(4)\n",
      "memory usage: 52.7+ KB\n"
     ]
    }
   ],
   "source": [
    "data_frame.info()"
   ]
  },
  {
   "cell_type": "code",
   "execution_count": 36,
   "id": "7d260873",
   "metadata": {},
   "outputs": [],
   "source": [
    "data_frame['total_sqft'] =data_frame['total_sqft'].astype('str')"
   ]
  },
  {
   "cell_type": "code",
   "execution_count": 37,
   "id": "8008844e",
   "metadata": {},
   "outputs": [
    {
     "data": {
      "text/plain": [
       "str"
      ]
     },
     "execution_count": 37,
     "metadata": {},
     "output_type": "execute_result"
    }
   ],
   "source": [
    "type(data_frame['total_sqft'][100])"
   ]
  },
  {
   "cell_type": "code",
   "execution_count": 38,
   "id": "ca32b617",
   "metadata": {},
   "outputs": [
    {
     "data": {
      "text/plain": [
       "str"
      ]
     },
     "execution_count": 38,
     "metadata": {},
     "output_type": "execute_result"
    }
   ],
   "source": [
    "x = '627.1-200'\n",
    "type(x)"
   ]
  },
  {
   "cell_type": "code",
   "execution_count": 39,
   "id": "f6cda5ca",
   "metadata": {},
   "outputs": [
    {
     "data": {
      "text/plain": [
       "['627.1', '200']"
      ]
     },
     "execution_count": 39,
     "metadata": {},
     "output_type": "execute_result"
    }
   ],
   "source": [
    "x = x.split('-')\n",
    "x"
   ]
  },
  {
   "cell_type": "code",
   "execution_count": 40,
   "id": "076650da",
   "metadata": {},
   "outputs": [],
   "source": [
    "def literal_price(x):\n",
    "    m = 0\n",
    "    a = x.split('-')\n",
    "    for i in a:\n",
    "        m = float(i)+m\n",
    "        \n",
    "        \n",
    "    \n",
    "    return m//2"
   ]
  },
  {
   "cell_type": "code",
   "execution_count": 41,
   "id": "a393d50e",
   "metadata": {},
   "outputs": [],
   "source": [
    "data_frame['total_sqft'] =data_frame['total_sqft'].apply(literal_price)"
   ]
  },
  {
   "cell_type": "code",
   "execution_count": 42,
   "id": "3c50c33b",
   "metadata": {},
   "outputs": [
    {
     "data": {
      "text/plain": [
       "0       320.0\n",
       "1       705.0\n",
       "2       690.0\n",
       "3       829.0\n",
       "4       725.0\n",
       "        ...  \n",
       "625    1200.0\n",
       "626     826.0\n",
       "627     550.0\n",
       "628    1170.0\n",
       "629     542.0\n",
       "Name: total_sqft, Length: 623, dtype: float64"
      ]
     },
     "execution_count": 42,
     "metadata": {},
     "output_type": "execute_result"
    }
   ],
   "source": [
    "data_frame['total_sqft']"
   ]
  },
  {
   "cell_type": "code",
   "execution_count": null,
   "id": "f6d065b8",
   "metadata": {},
   "outputs": [],
   "source": []
  },
  {
   "cell_type": "code",
   "execution_count": 43,
   "id": "13c088e5",
   "metadata": {},
   "outputs": [
    {
     "name": "stdout",
     "output_type": "stream",
     "text": [
      "<class 'pandas.core.frame.DataFrame'>\n",
      "Int64Index: 623 entries, 0 to 629\n",
      "Data columns (total 7 columns):\n",
      " #   Column        Non-Null Count  Dtype  \n",
      "---  ------        --------------  -----  \n",
      " 0   area_type     623 non-null    object \n",
      " 1   location      623 non-null    object \n",
      " 2   size          623 non-null    int32  \n",
      " 3   Baths         623 non-null    float64\n",
      " 4   total_sqft    623 non-null    float64\n",
      " 5   price         623 non-null    float64\n",
      " 6   availability  623 non-null    object \n",
      "dtypes: float64(3), int32(1), object(3)\n",
      "memory usage: 52.7+ KB\n"
     ]
    }
   ],
   "source": [
    "data_frame.info()"
   ]
  },
  {
   "cell_type": "code",
   "execution_count": 44,
   "id": "4c268930",
   "metadata": {},
   "outputs": [
    {
     "data": {
      "text/plain": [
       "Index(['area_type', 'location', 'size', 'Baths', 'total_sqft', 'price',\n",
       "       'availability'],\n",
       "      dtype='object')"
      ]
     },
     "execution_count": 44,
     "metadata": {},
     "output_type": "execute_result"
    }
   ],
   "source": [
    "data_frame.columns"
   ]
  },
  {
   "cell_type": "code",
   "execution_count": 45,
   "id": "6e8c0d8a",
   "metadata": {},
   "outputs": [
    {
     "name": "stdout",
     "output_type": "stream",
     "text": [
      "<class 'pandas.core.frame.DataFrame'>\n",
      "Int64Index: 623 entries, 0 to 629\n",
      "Data columns (total 7 columns):\n",
      " #   Column        Non-Null Count  Dtype  \n",
      "---  ------        --------------  -----  \n",
      " 0   area_type     623 non-null    object \n",
      " 1   location      623 non-null    object \n",
      " 2   size          623 non-null    int32  \n",
      " 3   Baths         623 non-null    float64\n",
      " 4   total_sqft    623 non-null    float64\n",
      " 5   price         623 non-null    float64\n",
      " 6   availability  623 non-null    object \n",
      "dtypes: float64(3), int32(1), object(3)\n",
      "memory usage: 52.7+ KB\n"
     ]
    }
   ],
   "source": [
    "data_frame.info()"
   ]
  },
  {
   "cell_type": "code",
   "execution_count": 46,
   "id": "9d47067f",
   "metadata": {},
   "outputs": [
    {
     "data": {
      "text/plain": [
       "Index(['area_type', 'location', 'size', 'Baths', 'total_sqft', 'price',\n",
       "       'availability'],\n",
       "      dtype='object')"
      ]
     },
     "execution_count": 46,
     "metadata": {},
     "output_type": "execute_result"
    }
   ],
   "source": [
    "data_frame.columns"
   ]
  },
  {
   "cell_type": "code",
   "execution_count": 47,
   "id": "ddac75fa",
   "metadata": {},
   "outputs": [],
   "source": [
    "data_frame = data_frame[['area_type', 'location', 'size', 'Baths', 'total_sqft',\n",
    "       'price', 'availability']]"
   ]
  },
  {
   "cell_type": "code",
   "execution_count": 48,
   "id": "c06d47a5",
   "metadata": {},
   "outputs": [
    {
     "name": "stdout",
     "output_type": "stream",
     "text": [
      "<class 'pandas.core.frame.DataFrame'>\n",
      "Int64Index: 623 entries, 0 to 629\n",
      "Data columns (total 7 columns):\n",
      " #   Column        Non-Null Count  Dtype  \n",
      "---  ------        --------------  -----  \n",
      " 0   area_type     623 non-null    object \n",
      " 1   location      623 non-null    object \n",
      " 2   size          623 non-null    int32  \n",
      " 3   Baths         623 non-null    float64\n",
      " 4   total_sqft    623 non-null    float64\n",
      " 5   price         623 non-null    float64\n",
      " 6   availability  623 non-null    object \n",
      "dtypes: float64(3), int32(1), object(3)\n",
      "memory usage: 52.7+ KB\n"
     ]
    }
   ],
   "source": [
    "data_frame.info()"
   ]
  },
  {
   "cell_type": "code",
   "execution_count": 49,
   "id": "b55923c8",
   "metadata": {},
   "outputs": [],
   "source": [
    "# data_frame_Bib= data_frame[data_frame['location']=='Bibwewadi']"
   ]
  },
  {
   "cell_type": "code",
   "execution_count": 50,
   "id": "6b976423",
   "metadata": {},
   "outputs": [],
   "source": [
    "# data_frame_Bib.area_type.value_counts()"
   ]
  },
  {
   "cell_type": "code",
   "execution_count": 51,
   "id": "ecb1f1e8",
   "metadata": {},
   "outputs": [
    {
     "data": {
      "text/plain": [
       "Super Built-up Area    329\n",
       "Built-up Area          230\n",
       "Plot Area               60\n",
       "Carpet Area              3\n",
       "Villa                    1\n",
       "Name: area_type, dtype: int64"
      ]
     },
     "execution_count": 51,
     "metadata": {},
     "output_type": "execute_result"
    }
   ],
   "source": [
    "data_frame.area_type.value_counts()"
   ]
  },
  {
   "cell_type": "code",
   "execution_count": 52,
   "id": "f1948b4d",
   "metadata": {},
   "outputs": [],
   "source": [
    "data_frame['availability'] = data_frame['availability'].replace(['Ready to move'],['Ready To Move'])\n",
    "data_frame['availability'] = data_frame['availability'].replace(['Ready to Move'],['Ready To Move'])"
   ]
  },
  {
   "cell_type": "code",
   "execution_count": 53,
   "id": "3c294feb",
   "metadata": {},
   "outputs": [],
   "source": [
    "data_frame['availability'] = np.where(data_frame['availability'].isin(['No_info_available','Ready To Move','Under construction','Immediate Possession'])\n",
    "                                      ,data_frame['availability']\n",
    "                                     ,'Under construction')"
   ]
  },
  {
   "cell_type": "code",
   "execution_count": 54,
   "id": "d53a3a1f",
   "metadata": {},
   "outputs": [
    {
     "data": {
      "text/plain": [
       "{'Ready To Move': 496, 'Under construction': 127}"
      ]
     },
     "execution_count": 54,
     "metadata": {},
     "output_type": "execute_result"
    }
   ],
   "source": [
    "data_frame['availability'].value_counts().to_dict()"
   ]
  },
  {
   "cell_type": "code",
   "execution_count": 55,
   "id": "93440c78",
   "metadata": {},
   "outputs": [],
   "source": [
    "# from sklearn.preprocessing import MinMaxScaler\n",
    "# scaler = MinMaxScaler()\n",
    "# data_frame = pd.DataFrame(scaler.fit_transform(data_frame),columns=data_frame.columns)\n",
    "# data_frame"
   ]
  },
  {
   "cell_type": "code",
   "execution_count": 56,
   "id": "2508dd12",
   "metadata": {},
   "outputs": [],
   "source": [
    "from sklearn.preprocessing import OneHotEncoder\n",
    "\n",
    "OHE_area_type = OneHotEncoder(sparse=False)\n",
    "\n",
    "OHE_area_type_df = OHE_area_type.fit_transform(data_frame['area_type'].values.reshape(-1,1))\n",
    "\n",
    "OHE_area_type_df = pd.DataFrame(OHE_area_type_df,columns=OHE_area_type.categories_,index=data_frame.index)\n",
    "\n",
    "#OHE_area_type_df     \n"
   ]
  },
  {
   "cell_type": "code",
   "execution_count": 57,
   "id": "53c402c9",
   "metadata": {},
   "outputs": [
    {
     "data": {
      "text/html": [
       "<div>\n",
       "<style scoped>\n",
       "    .dataframe tbody tr th:only-of-type {\n",
       "        vertical-align: middle;\n",
       "    }\n",
       "\n",
       "    .dataframe tbody tr th {\n",
       "        vertical-align: top;\n",
       "    }\n",
       "\n",
       "    .dataframe thead tr th {\n",
       "        text-align: left;\n",
       "    }\n",
       "</style>\n",
       "<table border=\"1\" class=\"dataframe\">\n",
       "  <thead>\n",
       "    <tr>\n",
       "      <th></th>\n",
       "      <th>Amanora town</th>\n",
       "      <th>Baner</th>\n",
       "      <th>Bavdhan</th>\n",
       "      <th>Bibwewadi</th>\n",
       "      <th>Dhankawadi</th>\n",
       "      <th>Hadapsar</th>\n",
       "      <th>Hinjewadi</th>\n",
       "      <th>Kanchan Nagari</th>\n",
       "      <th>Karve Nagar</th>\n",
       "      <th>Katraj</th>\n",
       "      <th>...</th>\n",
       "      <th>Padmavati</th>\n",
       "      <th>Samarth Nagar</th>\n",
       "      <th>Shivaji Nagar</th>\n",
       "      <th>Shivraj Nagar</th>\n",
       "      <th>Sinhgad Road</th>\n",
       "      <th>Sus</th>\n",
       "      <th>Tathawade</th>\n",
       "      <th>Vighnaharta Nagar</th>\n",
       "      <th>Vitthal nagar</th>\n",
       "      <th>Wakad</th>\n",
       "    </tr>\n",
       "  </thead>\n",
       "  <tbody>\n",
       "    <tr>\n",
       "      <th>0</th>\n",
       "      <td>0.0</td>\n",
       "      <td>0.0</td>\n",
       "      <td>1.0</td>\n",
       "      <td>0.0</td>\n",
       "      <td>0.0</td>\n",
       "      <td>0.0</td>\n",
       "      <td>0.0</td>\n",
       "      <td>0.0</td>\n",
       "      <td>0.0</td>\n",
       "      <td>0.0</td>\n",
       "      <td>...</td>\n",
       "      <td>0.0</td>\n",
       "      <td>0.0</td>\n",
       "      <td>0.0</td>\n",
       "      <td>0.0</td>\n",
       "      <td>0.0</td>\n",
       "      <td>0.0</td>\n",
       "      <td>0.0</td>\n",
       "      <td>0.0</td>\n",
       "      <td>0.0</td>\n",
       "      <td>0.0</td>\n",
       "    </tr>\n",
       "    <tr>\n",
       "      <th>1</th>\n",
       "      <td>0.0</td>\n",
       "      <td>0.0</td>\n",
       "      <td>0.0</td>\n",
       "      <td>0.0</td>\n",
       "      <td>0.0</td>\n",
       "      <td>0.0</td>\n",
       "      <td>0.0</td>\n",
       "      <td>0.0</td>\n",
       "      <td>0.0</td>\n",
       "      <td>0.0</td>\n",
       "      <td>...</td>\n",
       "      <td>0.0</td>\n",
       "      <td>0.0</td>\n",
       "      <td>0.0</td>\n",
       "      <td>0.0</td>\n",
       "      <td>0.0</td>\n",
       "      <td>1.0</td>\n",
       "      <td>0.0</td>\n",
       "      <td>0.0</td>\n",
       "      <td>0.0</td>\n",
       "      <td>0.0</td>\n",
       "    </tr>\n",
       "    <tr>\n",
       "      <th>2</th>\n",
       "      <td>0.0</td>\n",
       "      <td>0.0</td>\n",
       "      <td>0.0</td>\n",
       "      <td>0.0</td>\n",
       "      <td>0.0</td>\n",
       "      <td>0.0</td>\n",
       "      <td>0.0</td>\n",
       "      <td>0.0</td>\n",
       "      <td>0.0</td>\n",
       "      <td>0.0</td>\n",
       "      <td>...</td>\n",
       "      <td>0.0</td>\n",
       "      <td>0.0</td>\n",
       "      <td>0.0</td>\n",
       "      <td>0.0</td>\n",
       "      <td>0.0</td>\n",
       "      <td>0.0</td>\n",
       "      <td>1.0</td>\n",
       "      <td>0.0</td>\n",
       "      <td>0.0</td>\n",
       "      <td>0.0</td>\n",
       "    </tr>\n",
       "    <tr>\n",
       "      <th>3</th>\n",
       "      <td>0.0</td>\n",
       "      <td>0.0</td>\n",
       "      <td>0.0</td>\n",
       "      <td>0.0</td>\n",
       "      <td>0.0</td>\n",
       "      <td>0.0</td>\n",
       "      <td>0.0</td>\n",
       "      <td>0.0</td>\n",
       "      <td>0.0</td>\n",
       "      <td>0.0</td>\n",
       "      <td>...</td>\n",
       "      <td>0.0</td>\n",
       "      <td>0.0</td>\n",
       "      <td>0.0</td>\n",
       "      <td>0.0</td>\n",
       "      <td>0.0</td>\n",
       "      <td>0.0</td>\n",
       "      <td>0.0</td>\n",
       "      <td>0.0</td>\n",
       "      <td>0.0</td>\n",
       "      <td>0.0</td>\n",
       "    </tr>\n",
       "    <tr>\n",
       "      <th>4</th>\n",
       "      <td>0.0</td>\n",
       "      <td>0.0</td>\n",
       "      <td>0.0</td>\n",
       "      <td>0.0</td>\n",
       "      <td>0.0</td>\n",
       "      <td>0.0</td>\n",
       "      <td>0.0</td>\n",
       "      <td>0.0</td>\n",
       "      <td>0.0</td>\n",
       "      <td>0.0</td>\n",
       "      <td>...</td>\n",
       "      <td>0.0</td>\n",
       "      <td>0.0</td>\n",
       "      <td>0.0</td>\n",
       "      <td>0.0</td>\n",
       "      <td>1.0</td>\n",
       "      <td>0.0</td>\n",
       "      <td>0.0</td>\n",
       "      <td>0.0</td>\n",
       "      <td>0.0</td>\n",
       "      <td>0.0</td>\n",
       "    </tr>\n",
       "    <tr>\n",
       "      <th>...</th>\n",
       "      <td>...</td>\n",
       "      <td>...</td>\n",
       "      <td>...</td>\n",
       "      <td>...</td>\n",
       "      <td>...</td>\n",
       "      <td>...</td>\n",
       "      <td>...</td>\n",
       "      <td>...</td>\n",
       "      <td>...</td>\n",
       "      <td>...</td>\n",
       "      <td>...</td>\n",
       "      <td>...</td>\n",
       "      <td>...</td>\n",
       "      <td>...</td>\n",
       "      <td>...</td>\n",
       "      <td>...</td>\n",
       "      <td>...</td>\n",
       "      <td>...</td>\n",
       "      <td>...</td>\n",
       "      <td>...</td>\n",
       "      <td>...</td>\n",
       "    </tr>\n",
       "    <tr>\n",
       "      <th>625</th>\n",
       "      <td>0.0</td>\n",
       "      <td>0.0</td>\n",
       "      <td>0.0</td>\n",
       "      <td>0.0</td>\n",
       "      <td>0.0</td>\n",
       "      <td>1.0</td>\n",
       "      <td>0.0</td>\n",
       "      <td>0.0</td>\n",
       "      <td>0.0</td>\n",
       "      <td>0.0</td>\n",
       "      <td>...</td>\n",
       "      <td>0.0</td>\n",
       "      <td>0.0</td>\n",
       "      <td>0.0</td>\n",
       "      <td>0.0</td>\n",
       "      <td>0.0</td>\n",
       "      <td>0.0</td>\n",
       "      <td>0.0</td>\n",
       "      <td>0.0</td>\n",
       "      <td>0.0</td>\n",
       "      <td>0.0</td>\n",
       "    </tr>\n",
       "    <tr>\n",
       "      <th>626</th>\n",
       "      <td>0.0</td>\n",
       "      <td>0.0</td>\n",
       "      <td>0.0</td>\n",
       "      <td>0.0</td>\n",
       "      <td>0.0</td>\n",
       "      <td>1.0</td>\n",
       "      <td>0.0</td>\n",
       "      <td>0.0</td>\n",
       "      <td>0.0</td>\n",
       "      <td>0.0</td>\n",
       "      <td>...</td>\n",
       "      <td>0.0</td>\n",
       "      <td>0.0</td>\n",
       "      <td>0.0</td>\n",
       "      <td>0.0</td>\n",
       "      <td>0.0</td>\n",
       "      <td>0.0</td>\n",
       "      <td>0.0</td>\n",
       "      <td>0.0</td>\n",
       "      <td>0.0</td>\n",
       "      <td>0.0</td>\n",
       "    </tr>\n",
       "    <tr>\n",
       "      <th>627</th>\n",
       "      <td>0.0</td>\n",
       "      <td>0.0</td>\n",
       "      <td>0.0</td>\n",
       "      <td>0.0</td>\n",
       "      <td>0.0</td>\n",
       "      <td>0.0</td>\n",
       "      <td>0.0</td>\n",
       "      <td>0.0</td>\n",
       "      <td>1.0</td>\n",
       "      <td>0.0</td>\n",
       "      <td>...</td>\n",
       "      <td>0.0</td>\n",
       "      <td>0.0</td>\n",
       "      <td>0.0</td>\n",
       "      <td>0.0</td>\n",
       "      <td>0.0</td>\n",
       "      <td>0.0</td>\n",
       "      <td>0.0</td>\n",
       "      <td>0.0</td>\n",
       "      <td>0.0</td>\n",
       "      <td>0.0</td>\n",
       "    </tr>\n",
       "    <tr>\n",
       "      <th>628</th>\n",
       "      <td>0.0</td>\n",
       "      <td>0.0</td>\n",
       "      <td>0.0</td>\n",
       "      <td>0.0</td>\n",
       "      <td>0.0</td>\n",
       "      <td>1.0</td>\n",
       "      <td>0.0</td>\n",
       "      <td>0.0</td>\n",
       "      <td>0.0</td>\n",
       "      <td>0.0</td>\n",
       "      <td>...</td>\n",
       "      <td>0.0</td>\n",
       "      <td>0.0</td>\n",
       "      <td>0.0</td>\n",
       "      <td>0.0</td>\n",
       "      <td>0.0</td>\n",
       "      <td>0.0</td>\n",
       "      <td>0.0</td>\n",
       "      <td>0.0</td>\n",
       "      <td>0.0</td>\n",
       "      <td>0.0</td>\n",
       "    </tr>\n",
       "    <tr>\n",
       "      <th>629</th>\n",
       "      <td>0.0</td>\n",
       "      <td>0.0</td>\n",
       "      <td>0.0</td>\n",
       "      <td>1.0</td>\n",
       "      <td>0.0</td>\n",
       "      <td>0.0</td>\n",
       "      <td>0.0</td>\n",
       "      <td>0.0</td>\n",
       "      <td>0.0</td>\n",
       "      <td>0.0</td>\n",
       "      <td>...</td>\n",
       "      <td>0.0</td>\n",
       "      <td>0.0</td>\n",
       "      <td>0.0</td>\n",
       "      <td>0.0</td>\n",
       "      <td>0.0</td>\n",
       "      <td>0.0</td>\n",
       "      <td>0.0</td>\n",
       "      <td>0.0</td>\n",
       "      <td>0.0</td>\n",
       "      <td>0.0</td>\n",
       "    </tr>\n",
       "  </tbody>\n",
       "</table>\n",
       "<p>623 rows × 28 columns</p>\n",
       "</div>"
      ],
      "text/plain": [
       "    Amanora town Baner Bavdhan Bibwewadi Dhankawadi Hadapsar Hinjewadi  \\\n",
       "0            0.0   0.0     1.0       0.0        0.0      0.0       0.0   \n",
       "1            0.0   0.0     0.0       0.0        0.0      0.0       0.0   \n",
       "2            0.0   0.0     0.0       0.0        0.0      0.0       0.0   \n",
       "3            0.0   0.0     0.0       0.0        0.0      0.0       0.0   \n",
       "4            0.0   0.0     0.0       0.0        0.0      0.0       0.0   \n",
       "..           ...   ...     ...       ...        ...      ...       ...   \n",
       "625          0.0   0.0     0.0       0.0        0.0      1.0       0.0   \n",
       "626          0.0   0.0     0.0       0.0        0.0      1.0       0.0   \n",
       "627          0.0   0.0     0.0       0.0        0.0      0.0       0.0   \n",
       "628          0.0   0.0     0.0       0.0        0.0      1.0       0.0   \n",
       "629          0.0   0.0     0.0       1.0        0.0      0.0       0.0   \n",
       "\n",
       "    Kanchan Nagari Karve Nagar Katraj  ... Padmavati Samarth Nagar  \\\n",
       "0              0.0         0.0    0.0  ...       0.0           0.0   \n",
       "1              0.0         0.0    0.0  ...       0.0           0.0   \n",
       "2              0.0         0.0    0.0  ...       0.0           0.0   \n",
       "3              0.0         0.0    0.0  ...       0.0           0.0   \n",
       "4              0.0         0.0    0.0  ...       0.0           0.0   \n",
       "..             ...         ...    ...  ...       ...           ...   \n",
       "625            0.0         0.0    0.0  ...       0.0           0.0   \n",
       "626            0.0         0.0    0.0  ...       0.0           0.0   \n",
       "627            0.0         1.0    0.0  ...       0.0           0.0   \n",
       "628            0.0         0.0    0.0  ...       0.0           0.0   \n",
       "629            0.0         0.0    0.0  ...       0.0           0.0   \n",
       "\n",
       "    Shivaji Nagar Shivraj Nagar Sinhgad Road  Sus Tathawade Vighnaharta Nagar  \\\n",
       "0             0.0           0.0          0.0  0.0       0.0               0.0   \n",
       "1             0.0           0.0          0.0  1.0       0.0               0.0   \n",
       "2             0.0           0.0          0.0  0.0       1.0               0.0   \n",
       "3             0.0           0.0          0.0  0.0       0.0               0.0   \n",
       "4             0.0           0.0          1.0  0.0       0.0               0.0   \n",
       "..            ...           ...          ...  ...       ...               ...   \n",
       "625           0.0           0.0          0.0  0.0       0.0               0.0   \n",
       "626           0.0           0.0          0.0  0.0       0.0               0.0   \n",
       "627           0.0           0.0          0.0  0.0       0.0               0.0   \n",
       "628           0.0           0.0          0.0  0.0       0.0               0.0   \n",
       "629           0.0           0.0          0.0  0.0       0.0               0.0   \n",
       "\n",
       "    Vitthal nagar Wakad  \n",
       "0             0.0   0.0  \n",
       "1             0.0   0.0  \n",
       "2             0.0   0.0  \n",
       "3             0.0   0.0  \n",
       "4             0.0   0.0  \n",
       "..            ...   ...  \n",
       "625           0.0   0.0  \n",
       "626           0.0   0.0  \n",
       "627           0.0   0.0  \n",
       "628           0.0   0.0  \n",
       "629           0.0   0.0  \n",
       "\n",
       "[623 rows x 28 columns]"
      ]
     },
     "execution_count": 57,
     "metadata": {},
     "output_type": "execute_result"
    }
   ],
   "source": [
    "OHE_location = OneHotEncoder(sparse=False)\n",
    "OHE_location_df = OHE_location.fit_transform(data_frame['location'].values.reshape(-1,1))\n",
    "OHE_location_df = pd.DataFrame(OHE_location_df,columns=OHE_location.categories_,index=data_frame.index)\n",
    "OHE_location_df"
   ]
  },
  {
   "cell_type": "code",
   "execution_count": 58,
   "id": "148a4457",
   "metadata": {},
   "outputs": [
    {
     "data": {
      "text/html": [
       "<div>\n",
       "<style scoped>\n",
       "    .dataframe tbody tr th:only-of-type {\n",
       "        vertical-align: middle;\n",
       "    }\n",
       "\n",
       "    .dataframe tbody tr th {\n",
       "        vertical-align: top;\n",
       "    }\n",
       "\n",
       "    .dataframe thead tr th {\n",
       "        text-align: left;\n",
       "    }\n",
       "</style>\n",
       "<table border=\"1\" class=\"dataframe\">\n",
       "  <thead>\n",
       "    <tr>\n",
       "      <th></th>\n",
       "      <th>Ready To Move</th>\n",
       "      <th>Under construction</th>\n",
       "    </tr>\n",
       "  </thead>\n",
       "  <tbody>\n",
       "    <tr>\n",
       "      <th>0</th>\n",
       "      <td>0.0</td>\n",
       "      <td>1.0</td>\n",
       "    </tr>\n",
       "    <tr>\n",
       "      <th>1</th>\n",
       "      <td>0.0</td>\n",
       "      <td>1.0</td>\n",
       "    </tr>\n",
       "    <tr>\n",
       "      <th>2</th>\n",
       "      <td>0.0</td>\n",
       "      <td>1.0</td>\n",
       "    </tr>\n",
       "    <tr>\n",
       "      <th>3</th>\n",
       "      <td>1.0</td>\n",
       "      <td>0.0</td>\n",
       "    </tr>\n",
       "    <tr>\n",
       "      <th>4</th>\n",
       "      <td>1.0</td>\n",
       "      <td>0.0</td>\n",
       "    </tr>\n",
       "    <tr>\n",
       "      <th>...</th>\n",
       "      <td>...</td>\n",
       "      <td>...</td>\n",
       "    </tr>\n",
       "    <tr>\n",
       "      <th>625</th>\n",
       "      <td>1.0</td>\n",
       "      <td>0.0</td>\n",
       "    </tr>\n",
       "    <tr>\n",
       "      <th>626</th>\n",
       "      <td>1.0</td>\n",
       "      <td>0.0</td>\n",
       "    </tr>\n",
       "    <tr>\n",
       "      <th>627</th>\n",
       "      <td>1.0</td>\n",
       "      <td>0.0</td>\n",
       "    </tr>\n",
       "    <tr>\n",
       "      <th>628</th>\n",
       "      <td>1.0</td>\n",
       "      <td>0.0</td>\n",
       "    </tr>\n",
       "    <tr>\n",
       "      <th>629</th>\n",
       "      <td>0.0</td>\n",
       "      <td>1.0</td>\n",
       "    </tr>\n",
       "  </tbody>\n",
       "</table>\n",
       "<p>623 rows × 2 columns</p>\n",
       "</div>"
      ],
      "text/plain": [
       "    Ready To Move Under construction\n",
       "0             0.0                1.0\n",
       "1             0.0                1.0\n",
       "2             0.0                1.0\n",
       "3             1.0                0.0\n",
       "4             1.0                0.0\n",
       "..            ...                ...\n",
       "625           1.0                0.0\n",
       "626           1.0                0.0\n",
       "627           1.0                0.0\n",
       "628           1.0                0.0\n",
       "629           0.0                1.0\n",
       "\n",
       "[623 rows x 2 columns]"
      ]
     },
     "execution_count": 58,
     "metadata": {},
     "output_type": "execute_result"
    }
   ],
   "source": [
    "OHE_availability = OneHotEncoder(sparse=False)\n",
    "OHE_availability_df = OHE_availability.fit_transform(data_frame['availability'].values.reshape(-1,1))\n",
    "OHE_availability_df = pd.DataFrame(OHE_availability_df,columns=OHE_availability.categories_,index=data_frame.index)\n",
    "OHE_availability_df"
   ]
  },
  {
   "cell_type": "code",
   "execution_count": 59,
   "id": "77e7913c",
   "metadata": {},
   "outputs": [
    {
     "data": {
      "text/html": [
       "<div>\n",
       "<style scoped>\n",
       "    .dataframe tbody tr th:only-of-type {\n",
       "        vertical-align: middle;\n",
       "    }\n",
       "\n",
       "    .dataframe tbody tr th {\n",
       "        vertical-align: top;\n",
       "    }\n",
       "\n",
       "    .dataframe thead th {\n",
       "        text-align: right;\n",
       "    }\n",
       "</style>\n",
       "<table border=\"1\" class=\"dataframe\">\n",
       "  <thead>\n",
       "    <tr style=\"text-align: right;\">\n",
       "      <th></th>\n",
       "      <th>size</th>\n",
       "      <th>Baths</th>\n",
       "      <th>total_sqft</th>\n",
       "      <th>price</th>\n",
       "      <th>(Built-up Area,)</th>\n",
       "      <th>(Carpet Area,)</th>\n",
       "      <th>(Plot Area,)</th>\n",
       "      <th>(Super Built-up Area,)</th>\n",
       "      <th>(Villa,)</th>\n",
       "      <th>(Ready To Move,)</th>\n",
       "      <th>...</th>\n",
       "      <th>(Padmavati,)</th>\n",
       "      <th>(Samarth Nagar,)</th>\n",
       "      <th>(Shivaji Nagar,)</th>\n",
       "      <th>(Shivraj Nagar,)</th>\n",
       "      <th>(Sinhgad Road,)</th>\n",
       "      <th>(Sus,)</th>\n",
       "      <th>(Tathawade,)</th>\n",
       "      <th>(Vighnaharta Nagar,)</th>\n",
       "      <th>(Vitthal nagar,)</th>\n",
       "      <th>(Wakad,)</th>\n",
       "    </tr>\n",
       "  </thead>\n",
       "  <tbody>\n",
       "    <tr>\n",
       "      <th>0</th>\n",
       "      <td>2</td>\n",
       "      <td>2.0</td>\n",
       "      <td>320.0</td>\n",
       "      <td>55.96</td>\n",
       "      <td>0.0</td>\n",
       "      <td>0.0</td>\n",
       "      <td>0.0</td>\n",
       "      <td>1.0</td>\n",
       "      <td>0.0</td>\n",
       "      <td>0.0</td>\n",
       "      <td>...</td>\n",
       "      <td>0.0</td>\n",
       "      <td>0.0</td>\n",
       "      <td>0.0</td>\n",
       "      <td>0.0</td>\n",
       "      <td>0.0</td>\n",
       "      <td>0.0</td>\n",
       "      <td>0.0</td>\n",
       "      <td>0.0</td>\n",
       "      <td>0.0</td>\n",
       "      <td>0.0</td>\n",
       "    </tr>\n",
       "    <tr>\n",
       "      <th>1</th>\n",
       "      <td>2</td>\n",
       "      <td>2.0</td>\n",
       "      <td>705.0</td>\n",
       "      <td>45.00</td>\n",
       "      <td>1.0</td>\n",
       "      <td>0.0</td>\n",
       "      <td>0.0</td>\n",
       "      <td>0.0</td>\n",
       "      <td>0.0</td>\n",
       "      <td>0.0</td>\n",
       "      <td>...</td>\n",
       "      <td>0.0</td>\n",
       "      <td>0.0</td>\n",
       "      <td>0.0</td>\n",
       "      <td>0.0</td>\n",
       "      <td>0.0</td>\n",
       "      <td>1.0</td>\n",
       "      <td>0.0</td>\n",
       "      <td>0.0</td>\n",
       "      <td>0.0</td>\n",
       "      <td>0.0</td>\n",
       "    </tr>\n",
       "    <tr>\n",
       "      <th>2</th>\n",
       "      <td>2</td>\n",
       "      <td>2.0</td>\n",
       "      <td>690.0</td>\n",
       "      <td>60.00</td>\n",
       "      <td>1.0</td>\n",
       "      <td>0.0</td>\n",
       "      <td>0.0</td>\n",
       "      <td>0.0</td>\n",
       "      <td>0.0</td>\n",
       "      <td>0.0</td>\n",
       "      <td>...</td>\n",
       "      <td>0.0</td>\n",
       "      <td>0.0</td>\n",
       "      <td>0.0</td>\n",
       "      <td>0.0</td>\n",
       "      <td>0.0</td>\n",
       "      <td>0.0</td>\n",
       "      <td>1.0</td>\n",
       "      <td>0.0</td>\n",
       "      <td>0.0</td>\n",
       "      <td>0.0</td>\n",
       "    </tr>\n",
       "    <tr>\n",
       "      <th>3</th>\n",
       "      <td>3</td>\n",
       "      <td>3.0</td>\n",
       "      <td>829.0</td>\n",
       "      <td>210.00</td>\n",
       "      <td>0.0</td>\n",
       "      <td>0.0</td>\n",
       "      <td>0.0</td>\n",
       "      <td>1.0</td>\n",
       "      <td>0.0</td>\n",
       "      <td>1.0</td>\n",
       "      <td>...</td>\n",
       "      <td>0.0</td>\n",
       "      <td>0.0</td>\n",
       "      <td>0.0</td>\n",
       "      <td>0.0</td>\n",
       "      <td>0.0</td>\n",
       "      <td>0.0</td>\n",
       "      <td>0.0</td>\n",
       "      <td>0.0</td>\n",
       "      <td>0.0</td>\n",
       "      <td>0.0</td>\n",
       "    </tr>\n",
       "    <tr>\n",
       "      <th>4</th>\n",
       "      <td>3</td>\n",
       "      <td>3.0</td>\n",
       "      <td>725.0</td>\n",
       "      <td>78.00</td>\n",
       "      <td>1.0</td>\n",
       "      <td>0.0</td>\n",
       "      <td>0.0</td>\n",
       "      <td>0.0</td>\n",
       "      <td>0.0</td>\n",
       "      <td>1.0</td>\n",
       "      <td>...</td>\n",
       "      <td>0.0</td>\n",
       "      <td>0.0</td>\n",
       "      <td>0.0</td>\n",
       "      <td>0.0</td>\n",
       "      <td>1.0</td>\n",
       "      <td>0.0</td>\n",
       "      <td>0.0</td>\n",
       "      <td>0.0</td>\n",
       "      <td>0.0</td>\n",
       "      <td>0.0</td>\n",
       "    </tr>\n",
       "    <tr>\n",
       "      <th>...</th>\n",
       "      <td>...</td>\n",
       "      <td>...</td>\n",
       "      <td>...</td>\n",
       "      <td>...</td>\n",
       "      <td>...</td>\n",
       "      <td>...</td>\n",
       "      <td>...</td>\n",
       "      <td>...</td>\n",
       "      <td>...</td>\n",
       "      <td>...</td>\n",
       "      <td>...</td>\n",
       "      <td>...</td>\n",
       "      <td>...</td>\n",
       "      <td>...</td>\n",
       "      <td>...</td>\n",
       "      <td>...</td>\n",
       "      <td>...</td>\n",
       "      <td>...</td>\n",
       "      <td>...</td>\n",
       "      <td>...</td>\n",
       "      <td>...</td>\n",
       "    </tr>\n",
       "    <tr>\n",
       "      <th>625</th>\n",
       "      <td>3</td>\n",
       "      <td>2.0</td>\n",
       "      <td>1200.0</td>\n",
       "      <td>360.00</td>\n",
       "      <td>0.0</td>\n",
       "      <td>0.0</td>\n",
       "      <td>1.0</td>\n",
       "      <td>0.0</td>\n",
       "      <td>0.0</td>\n",
       "      <td>1.0</td>\n",
       "      <td>...</td>\n",
       "      <td>0.0</td>\n",
       "      <td>0.0</td>\n",
       "      <td>0.0</td>\n",
       "      <td>0.0</td>\n",
       "      <td>0.0</td>\n",
       "      <td>0.0</td>\n",
       "      <td>0.0</td>\n",
       "      <td>0.0</td>\n",
       "      <td>0.0</td>\n",
       "      <td>0.0</td>\n",
       "    </tr>\n",
       "    <tr>\n",
       "      <th>626</th>\n",
       "      <td>3</td>\n",
       "      <td>3.0</td>\n",
       "      <td>826.0</td>\n",
       "      <td>110.00</td>\n",
       "      <td>0.0</td>\n",
       "      <td>0.0</td>\n",
       "      <td>0.0</td>\n",
       "      <td>1.0</td>\n",
       "      <td>0.0</td>\n",
       "      <td>1.0</td>\n",
       "      <td>...</td>\n",
       "      <td>0.0</td>\n",
       "      <td>0.0</td>\n",
       "      <td>0.0</td>\n",
       "      <td>0.0</td>\n",
       "      <td>0.0</td>\n",
       "      <td>0.0</td>\n",
       "      <td>0.0</td>\n",
       "      <td>0.0</td>\n",
       "      <td>0.0</td>\n",
       "      <td>0.0</td>\n",
       "    </tr>\n",
       "    <tr>\n",
       "      <th>627</th>\n",
       "      <td>2</td>\n",
       "      <td>2.0</td>\n",
       "      <td>550.0</td>\n",
       "      <td>52.00</td>\n",
       "      <td>0.0</td>\n",
       "      <td>0.0</td>\n",
       "      <td>0.0</td>\n",
       "      <td>1.0</td>\n",
       "      <td>0.0</td>\n",
       "      <td>1.0</td>\n",
       "      <td>...</td>\n",
       "      <td>0.0</td>\n",
       "      <td>0.0</td>\n",
       "      <td>0.0</td>\n",
       "      <td>0.0</td>\n",
       "      <td>0.0</td>\n",
       "      <td>0.0</td>\n",
       "      <td>0.0</td>\n",
       "      <td>0.0</td>\n",
       "      <td>0.0</td>\n",
       "      <td>0.0</td>\n",
       "    </tr>\n",
       "    <tr>\n",
       "      <th>628</th>\n",
       "      <td>4</td>\n",
       "      <td>4.0</td>\n",
       "      <td>1170.0</td>\n",
       "      <td>145.00</td>\n",
       "      <td>0.0</td>\n",
       "      <td>0.0</td>\n",
       "      <td>0.0</td>\n",
       "      <td>1.0</td>\n",
       "      <td>0.0</td>\n",
       "      <td>1.0</td>\n",
       "      <td>...</td>\n",
       "      <td>0.0</td>\n",
       "      <td>0.0</td>\n",
       "      <td>0.0</td>\n",
       "      <td>0.0</td>\n",
       "      <td>0.0</td>\n",
       "      <td>0.0</td>\n",
       "      <td>0.0</td>\n",
       "      <td>0.0</td>\n",
       "      <td>0.0</td>\n",
       "      <td>0.0</td>\n",
       "    </tr>\n",
       "    <tr>\n",
       "      <th>629</th>\n",
       "      <td>2</td>\n",
       "      <td>2.0</td>\n",
       "      <td>542.0</td>\n",
       "      <td>179.00</td>\n",
       "      <td>0.0</td>\n",
       "      <td>0.0</td>\n",
       "      <td>0.0</td>\n",
       "      <td>1.0</td>\n",
       "      <td>0.0</td>\n",
       "      <td>0.0</td>\n",
       "      <td>...</td>\n",
       "      <td>0.0</td>\n",
       "      <td>0.0</td>\n",
       "      <td>0.0</td>\n",
       "      <td>0.0</td>\n",
       "      <td>0.0</td>\n",
       "      <td>0.0</td>\n",
       "      <td>0.0</td>\n",
       "      <td>0.0</td>\n",
       "      <td>0.0</td>\n",
       "      <td>0.0</td>\n",
       "    </tr>\n",
       "  </tbody>\n",
       "</table>\n",
       "<p>623 rows × 39 columns</p>\n",
       "</div>"
      ],
      "text/plain": [
       "     size  Baths  total_sqft   price  (Built-up Area,)  (Carpet Area,)  \\\n",
       "0       2    2.0       320.0   55.96               0.0             0.0   \n",
       "1       2    2.0       705.0   45.00               1.0             0.0   \n",
       "2       2    2.0       690.0   60.00               1.0             0.0   \n",
       "3       3    3.0       829.0  210.00               0.0             0.0   \n",
       "4       3    3.0       725.0   78.00               1.0             0.0   \n",
       "..    ...    ...         ...     ...               ...             ...   \n",
       "625     3    2.0      1200.0  360.00               0.0             0.0   \n",
       "626     3    3.0       826.0  110.00               0.0             0.0   \n",
       "627     2    2.0       550.0   52.00               0.0             0.0   \n",
       "628     4    4.0      1170.0  145.00               0.0             0.0   \n",
       "629     2    2.0       542.0  179.00               0.0             0.0   \n",
       "\n",
       "     (Plot Area,)  (Super Built-up Area,)  (Villa,)  (Ready To Move,)  ...  \\\n",
       "0             0.0                     1.0       0.0               0.0  ...   \n",
       "1             0.0                     0.0       0.0               0.0  ...   \n",
       "2             0.0                     0.0       0.0               0.0  ...   \n",
       "3             0.0                     1.0       0.0               1.0  ...   \n",
       "4             0.0                     0.0       0.0               1.0  ...   \n",
       "..            ...                     ...       ...               ...  ...   \n",
       "625           1.0                     0.0       0.0               1.0  ...   \n",
       "626           0.0                     1.0       0.0               1.0  ...   \n",
       "627           0.0                     1.0       0.0               1.0  ...   \n",
       "628           0.0                     1.0       0.0               1.0  ...   \n",
       "629           0.0                     1.0       0.0               0.0  ...   \n",
       "\n",
       "     (Padmavati,)  (Samarth Nagar,)  (Shivaji Nagar,)  (Shivraj Nagar,)  \\\n",
       "0             0.0               0.0               0.0               0.0   \n",
       "1             0.0               0.0               0.0               0.0   \n",
       "2             0.0               0.0               0.0               0.0   \n",
       "3             0.0               0.0               0.0               0.0   \n",
       "4             0.0               0.0               0.0               0.0   \n",
       "..            ...               ...               ...               ...   \n",
       "625           0.0               0.0               0.0               0.0   \n",
       "626           0.0               0.0               0.0               0.0   \n",
       "627           0.0               0.0               0.0               0.0   \n",
       "628           0.0               0.0               0.0               0.0   \n",
       "629           0.0               0.0               0.0               0.0   \n",
       "\n",
       "     (Sinhgad Road,)  (Sus,)  (Tathawade,)  (Vighnaharta Nagar,)  \\\n",
       "0                0.0     0.0           0.0                   0.0   \n",
       "1                0.0     1.0           0.0                   0.0   \n",
       "2                0.0     0.0           1.0                   0.0   \n",
       "3                0.0     0.0           0.0                   0.0   \n",
       "4                1.0     0.0           0.0                   0.0   \n",
       "..               ...     ...           ...                   ...   \n",
       "625              0.0     0.0           0.0                   0.0   \n",
       "626              0.0     0.0           0.0                   0.0   \n",
       "627              0.0     0.0           0.0                   0.0   \n",
       "628              0.0     0.0           0.0                   0.0   \n",
       "629              0.0     0.0           0.0                   0.0   \n",
       "\n",
       "     (Vitthal nagar,)  (Wakad,)  \n",
       "0                 0.0       0.0  \n",
       "1                 0.0       0.0  \n",
       "2                 0.0       0.0  \n",
       "3                 0.0       0.0  \n",
       "4                 0.0       0.0  \n",
       "..                ...       ...  \n",
       "625               0.0       0.0  \n",
       "626               0.0       0.0  \n",
       "627               0.0       0.0  \n",
       "628               0.0       0.0  \n",
       "629               0.0       0.0  \n",
       "\n",
       "[623 rows x 39 columns]"
      ]
     },
     "execution_count": 59,
     "metadata": {},
     "output_type": "execute_result"
    }
   ],
   "source": [
    "final_df = pd.concat([data_frame,OHE_area_type_df,OHE_availability_df,OHE_location_df],axis=1)\n",
    "final_df.drop(['area_type','availability','location'],axis=1,inplace=True)\n",
    "final_df"
   ]
  },
  {
   "cell_type": "code",
   "execution_count": 60,
   "id": "91b9647b",
   "metadata": {},
   "outputs": [
    {
     "name": "stdout",
     "output_type": "stream",
     "text": [
      "<class 'pandas.core.frame.DataFrame'>\n",
      "<class 'pandas.core.frame.DataFrame'>\n",
      "<class 'pandas.core.frame.DataFrame'>\n",
      "<class 'pandas.core.frame.DataFrame'>\n"
     ]
    }
   ],
   "source": [
    "print(type(OHE_area_type_df))\n",
    "print(type(OHE_location_df))\n",
    "print(type(OHE_availability_df))\n",
    "print(type(data_frame))"
   ]
  },
  {
   "cell_type": "code",
   "execution_count": 61,
   "id": "6ede37af",
   "metadata": {},
   "outputs": [],
   "source": [
    "x = final_df.drop('price',axis=1)\n",
    "y = final_df['price']\n",
    "\n",
    "x_train,x_test,y_train,y_test = train_test_split(x,y,test_size=0.3,random_state=1)"
   ]
  },
  {
   "cell_type": "code",
   "execution_count": 62,
   "id": "a378437c",
   "metadata": {},
   "outputs": [],
   "source": [
    "# from sklearn.preprocessing import MinMaxScaler\n",
    "# scaler = MinMaxScaler()\n",
    "# data_frame = pd.DataFrame(scaler.fit_transform(data_frame),columns=data_frame.columns)\n",
    "# data_frame"
   ]
  },
  {
   "cell_type": "code",
   "execution_count": 63,
   "id": "6b610a30",
   "metadata": {},
   "outputs": [
    {
     "data": {
      "text/plain": [
       "LinearRegression()"
      ]
     },
     "execution_count": 63,
     "metadata": {},
     "output_type": "execute_result"
    }
   ],
   "source": [
    "lr = LinearRegression()\n",
    "lr.fit(x_train,y_train)"
   ]
  },
  {
   "cell_type": "code",
   "execution_count": 64,
   "id": "f2ac8b1b",
   "metadata": {},
   "outputs": [
    {
     "name": "stdout",
     "output_type": "stream",
     "text": [
      "Mean_square_error--- 5085.22405440171\n",
      "R2score--- 0.7494787760671524\n"
     ]
    }
   ],
   "source": [
    "# Trainig evaluation\n",
    "\n",
    "training_pred = lr.predict(x_train)\n",
    "error = mean_squared_error(y_train,training_pred)\n",
    "\n",
    "r2score = r2_score(y_train,training_pred)\n",
    "\n",
    "print('Mean_square_error---',error)\n",
    "print(\"R2score---\",r2score)"
   ]
  },
  {
   "cell_type": "code",
   "execution_count": 65,
   "id": "c26dcee1",
   "metadata": {},
   "outputs": [
    {
     "name": "stdout",
     "output_type": "stream",
     "text": [
      "Mean_square_error--- 4918.713130552259\n",
      "R2score--- 0.39713280796662764\n"
     ]
    }
   ],
   "source": [
    "# Test evaluation\n",
    "\n",
    "test_pred = lr.predict(x_test)\n",
    "error = mean_squared_error(y_test,test_pred)\n",
    "\n",
    "r2score = r2_score(y_test,test_pred)\n",
    "\n",
    "print('Mean_square_error---',error)\n",
    "print(\"R2score---\",r2score)"
   ]
  },
  {
   "cell_type": "code",
   "execution_count": null,
   "id": "80b2f190",
   "metadata": {},
   "outputs": [],
   "source": []
  },
  {
   "cell_type": "code",
   "execution_count": null,
   "id": "b07270ea",
   "metadata": {},
   "outputs": [],
   "source": []
  }
 ],
 "metadata": {
  "kernelspec": {
   "display_name": "Python 3 (ipykernel)",
   "language": "python",
   "name": "python3"
  },
  "language_info": {
   "codemirror_mode": {
    "name": "ipython",
    "version": 3
   },
   "file_extension": ".py",
   "mimetype": "text/x-python",
   "name": "python",
   "nbconvert_exporter": "python",
   "pygments_lexer": "ipython3",
   "version": "3.9.7"
  }
 },
 "nbformat": 4,
 "nbformat_minor": 5
}
