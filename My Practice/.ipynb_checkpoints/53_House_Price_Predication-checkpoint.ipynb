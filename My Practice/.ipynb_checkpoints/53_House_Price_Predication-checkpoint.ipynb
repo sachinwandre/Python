{
 "cells": [
  {
   "cell_type": "code",
   "execution_count": 92,
   "id": "6291d871",
   "metadata": {},
   "outputs": [],
   "source": [
    "import numpy as np\n",
    "import pandas as pd\n",
    "from sklearn.model_selection import train_test_split\n",
    "from sklearn.linear_model import LinearRegression\n",
    "from sklearn.ensemble import RandomForestRegressor\n",
    "from sklearn.tree import DecisionTreeRegressor\n",
    "from sklearn.metrics import r2_score,mean_squared_error\n",
    "import warnings\n",
    "warnings.filterwarnings(\"ignore\")"
   ]
  },
  {
   "cell_type": "code",
   "execution_count": 93,
   "id": "0eff12ca",
   "metadata": {},
   "outputs": [
    {
     "data": {
      "text/html": [
       "<div>\n",
       "<style scoped>\n",
       "    .dataframe tbody tr th:only-of-type {\n",
       "        vertical-align: middle;\n",
       "    }\n",
       "\n",
       "    .dataframe tbody tr th {\n",
       "        vertical-align: top;\n",
       "    }\n",
       "\n",
       "    .dataframe thead th {\n",
       "        text-align: right;\n",
       "    }\n",
       "</style>\n",
       "<table border=\"1\" class=\"dataframe\">\n",
       "  <thead>\n",
       "    <tr style=\"text-align: right;\">\n",
       "      <th></th>\n",
       "      <th>area_type</th>\n",
       "      <th>location</th>\n",
       "      <th>Society</th>\n",
       "      <th>size</th>\n",
       "      <th>Baths</th>\n",
       "      <th>total_sqft</th>\n",
       "      <th>price</th>\n",
       "      <th>availability</th>\n",
       "      <th>Unnamed: 8</th>\n",
       "      <th>Unnamed: 9</th>\n",
       "    </tr>\n",
       "  </thead>\n",
       "  <tbody>\n",
       "    <tr>\n",
       "      <th>0</th>\n",
       "      <td>Super Built-up Area</td>\n",
       "      <td>Bavdhan</td>\n",
       "      <td>Satyam Shrey</td>\n",
       "      <td>2 bhk</td>\n",
       "      <td>2.0</td>\n",
       "      <td>640</td>\n",
       "      <td>55.96</td>\n",
       "      <td>Under construction</td>\n",
       "      <td>NaN</td>\n",
       "      <td>NaN</td>\n",
       "    </tr>\n",
       "    <tr>\n",
       "      <th>1</th>\n",
       "      <td>Built-up Area</td>\n",
       "      <td>Sus</td>\n",
       "      <td>Kiran Sanskriti</td>\n",
       "      <td>2 bhk</td>\n",
       "      <td>2.0</td>\n",
       "      <td>690-720</td>\n",
       "      <td>45.00</td>\n",
       "      <td>Under construction</td>\n",
       "      <td>NaN</td>\n",
       "      <td>NaN</td>\n",
       "    </tr>\n",
       "    <tr>\n",
       "      <th>2</th>\n",
       "      <td>Built-up Area</td>\n",
       "      <td>Tathawade</td>\n",
       "      <td>Vivanta</td>\n",
       "      <td>2 bhk</td>\n",
       "      <td>2.0</td>\n",
       "      <td>688-693</td>\n",
       "      <td>60.00</td>\n",
       "      <td>Under construction</td>\n",
       "      <td>NaN</td>\n",
       "      <td>NaN</td>\n",
       "    </tr>\n",
       "    <tr>\n",
       "      <th>3</th>\n",
       "      <td>Super Built-up Area</td>\n",
       "      <td>Koregaon Park</td>\n",
       "      <td>Sunit Anant</td>\n",
       "      <td>3 bhk</td>\n",
       "      <td>3.0</td>\n",
       "      <td>1659</td>\n",
       "      <td>210.00</td>\n",
       "      <td>Ready to move</td>\n",
       "      <td>NaN</td>\n",
       "      <td>NaN</td>\n",
       "    </tr>\n",
       "    <tr>\n",
       "      <th>4</th>\n",
       "      <td>Built-up Area</td>\n",
       "      <td>Sinhgad Road</td>\n",
       "      <td>Nanded city</td>\n",
       "      <td>3 bhk</td>\n",
       "      <td>3.0</td>\n",
       "      <td>1450</td>\n",
       "      <td>78.00</td>\n",
       "      <td>Ready to move</td>\n",
       "      <td>NaN</td>\n",
       "      <td>NaN</td>\n",
       "    </tr>\n",
       "    <tr>\n",
       "      <th>...</th>\n",
       "      <td>...</td>\n",
       "      <td>...</td>\n",
       "      <td>...</td>\n",
       "      <td>...</td>\n",
       "      <td>...</td>\n",
       "      <td>...</td>\n",
       "      <td>...</td>\n",
       "      <td>...</td>\n",
       "      <td>...</td>\n",
       "      <td>...</td>\n",
       "    </tr>\n",
       "    <tr>\n",
       "      <th>1624</th>\n",
       "      <td>NaN</td>\n",
       "      <td>Sinhgad Road</td>\n",
       "      <td>NaN</td>\n",
       "      <td>2 bhk</td>\n",
       "      <td>2.0</td>\n",
       "      <td>1175</td>\n",
       "      <td>73.50</td>\n",
       "      <td>NaN</td>\n",
       "      <td>NaN</td>\n",
       "      <td>NaN</td>\n",
       "    </tr>\n",
       "    <tr>\n",
       "      <th>1625</th>\n",
       "      <td>NaN</td>\n",
       "      <td>Koregaon Park</td>\n",
       "      <td>NaN</td>\n",
       "      <td>2 bhk</td>\n",
       "      <td>2.0</td>\n",
       "      <td>1425</td>\n",
       "      <td>80.00</td>\n",
       "      <td>NaN</td>\n",
       "      <td>NaN</td>\n",
       "      <td>NaN</td>\n",
       "    </tr>\n",
       "    <tr>\n",
       "      <th>1626</th>\n",
       "      <td>NaN</td>\n",
       "      <td>Swargate</td>\n",
       "      <td>NaN</td>\n",
       "      <td>1 bhk</td>\n",
       "      <td>1.0</td>\n",
       "      <td>1200</td>\n",
       "      <td>20.00</td>\n",
       "      <td>NaN</td>\n",
       "      <td>NaN</td>\n",
       "      <td>NaN</td>\n",
       "    </tr>\n",
       "    <tr>\n",
       "      <th>1627</th>\n",
       "      <td>NaN</td>\n",
       "      <td>Karve Nagar</td>\n",
       "      <td>NaN</td>\n",
       "      <td>3 bhk</td>\n",
       "      <td>3.0</td>\n",
       "      <td>1200</td>\n",
       "      <td>56.12</td>\n",
       "      <td>NaN</td>\n",
       "      <td>NaN</td>\n",
       "      <td>NaN</td>\n",
       "    </tr>\n",
       "    <tr>\n",
       "      <th>1628</th>\n",
       "      <td>NaN</td>\n",
       "      <td>Karve Nagar</td>\n",
       "      <td>NaN</td>\n",
       "      <td>2 bhk</td>\n",
       "      <td>2.0</td>\n",
       "      <td>1255</td>\n",
       "      <td>67.00</td>\n",
       "      <td>NaN</td>\n",
       "      <td>NaN</td>\n",
       "      <td>NaN</td>\n",
       "    </tr>\n",
       "  </tbody>\n",
       "</table>\n",
       "<p>1629 rows × 10 columns</p>\n",
       "</div>"
      ],
      "text/plain": [
       "                area_type       location          Society   size  Baths  \\\n",
       "0     Super Built-up Area        Bavdhan     Satyam Shrey  2 bhk    2.0   \n",
       "1           Built-up Area            Sus  Kiran Sanskriti  2 bhk    2.0   \n",
       "2           Built-up Area      Tathawade          Vivanta  2 bhk    2.0   \n",
       "3     Super Built-up Area  Koregaon Park      Sunit Anant  3 bhk    3.0   \n",
       "4           Built-up Area   Sinhgad Road      Nanded city  3 bhk    3.0   \n",
       "...                   ...            ...              ...    ...    ...   \n",
       "1624                  NaN   Sinhgad Road              NaN  2 bhk    2.0   \n",
       "1625                  NaN  Koregaon Park              NaN  2 bhk    2.0   \n",
       "1626                  NaN       Swargate              NaN  1 bhk    1.0   \n",
       "1627                  NaN    Karve Nagar              NaN  3 bhk    3.0   \n",
       "1628                  NaN    Karve Nagar              NaN  2 bhk    2.0   \n",
       "\n",
       "     total_sqft   price        availability  Unnamed: 8 Unnamed: 9  \n",
       "0           640   55.96  Under construction         NaN        NaN  \n",
       "1      690-720    45.00  Under construction         NaN        NaN  \n",
       "2      688-693    60.00  Under construction         NaN        NaN  \n",
       "3          1659  210.00       Ready to move         NaN        NaN  \n",
       "4          1450   78.00       Ready to move         NaN        NaN  \n",
       "...         ...     ...                 ...         ...        ...  \n",
       "1624       1175   73.50                 NaN         NaN        NaN  \n",
       "1625       1425   80.00                 NaN         NaN        NaN  \n",
       "1626       1200   20.00                 NaN         NaN        NaN  \n",
       "1627       1200   56.12                 NaN         NaN        NaN  \n",
       "1628       1255   67.00                 NaN         NaN        NaN  \n",
       "\n",
       "[1629 rows x 10 columns]"
      ]
     },
     "execution_count": 93,
     "metadata": {},
     "output_type": "execute_result"
    }
   ],
   "source": [
    "# Read data frame from csv file\n",
    "data_frame = pd.read_csv(\"D:/14_Data Scientist/Datasets/House Data_Pune.csv\")\n",
    "data_frame"
   ]
  },
  {
   "cell_type": "code",
   "execution_count": 94,
   "id": "c91beb3e",
   "metadata": {},
   "outputs": [
    {
     "data": {
      "text/html": [
       "<div>\n",
       "<style scoped>\n",
       "    .dataframe tbody tr th:only-of-type {\n",
       "        vertical-align: middle;\n",
       "    }\n",
       "\n",
       "    .dataframe tbody tr th {\n",
       "        vertical-align: top;\n",
       "    }\n",
       "\n",
       "    .dataframe thead th {\n",
       "        text-align: right;\n",
       "    }\n",
       "</style>\n",
       "<table border=\"1\" class=\"dataframe\">\n",
       "  <thead>\n",
       "    <tr style=\"text-align: right;\">\n",
       "      <th></th>\n",
       "      <th>area_type</th>\n",
       "      <th>location</th>\n",
       "      <th>Society</th>\n",
       "      <th>size</th>\n",
       "      <th>Baths</th>\n",
       "      <th>total_sqft</th>\n",
       "      <th>price</th>\n",
       "      <th>availability</th>\n",
       "      <th>Unnamed: 8</th>\n",
       "      <th>Unnamed: 9</th>\n",
       "    </tr>\n",
       "  </thead>\n",
       "  <tbody>\n",
       "    <tr>\n",
       "      <th>0</th>\n",
       "      <td>Super Built-up Area</td>\n",
       "      <td>Bavdhan</td>\n",
       "      <td>Satyam Shrey</td>\n",
       "      <td>2 bhk</td>\n",
       "      <td>2.0</td>\n",
       "      <td>640</td>\n",
       "      <td>55.96</td>\n",
       "      <td>Under construction</td>\n",
       "      <td>NaN</td>\n",
       "      <td>NaN</td>\n",
       "    </tr>\n",
       "    <tr>\n",
       "      <th>1</th>\n",
       "      <td>Built-up Area</td>\n",
       "      <td>Sus</td>\n",
       "      <td>Kiran Sanskriti</td>\n",
       "      <td>2 bhk</td>\n",
       "      <td>2.0</td>\n",
       "      <td>690-720</td>\n",
       "      <td>45.00</td>\n",
       "      <td>Under construction</td>\n",
       "      <td>NaN</td>\n",
       "      <td>NaN</td>\n",
       "    </tr>\n",
       "    <tr>\n",
       "      <th>2</th>\n",
       "      <td>Built-up Area</td>\n",
       "      <td>Tathawade</td>\n",
       "      <td>Vivanta</td>\n",
       "      <td>2 bhk</td>\n",
       "      <td>2.0</td>\n",
       "      <td>688-693</td>\n",
       "      <td>60.00</td>\n",
       "      <td>Under construction</td>\n",
       "      <td>NaN</td>\n",
       "      <td>NaN</td>\n",
       "    </tr>\n",
       "    <tr>\n",
       "      <th>3</th>\n",
       "      <td>Super Built-up Area</td>\n",
       "      <td>Koregaon Park</td>\n",
       "      <td>Sunit Anant</td>\n",
       "      <td>3 bhk</td>\n",
       "      <td>3.0</td>\n",
       "      <td>1659</td>\n",
       "      <td>210.00</td>\n",
       "      <td>Ready to move</td>\n",
       "      <td>NaN</td>\n",
       "      <td>NaN</td>\n",
       "    </tr>\n",
       "  </tbody>\n",
       "</table>\n",
       "</div>"
      ],
      "text/plain": [
       "             area_type       location          Society   size  Baths  \\\n",
       "0  Super Built-up Area        Bavdhan     Satyam Shrey  2 bhk    2.0   \n",
       "1        Built-up Area            Sus  Kiran Sanskriti  2 bhk    2.0   \n",
       "2        Built-up Area      Tathawade          Vivanta  2 bhk    2.0   \n",
       "3  Super Built-up Area  Koregaon Park      Sunit Anant  3 bhk    3.0   \n",
       "\n",
       "  total_sqft   price        availability  Unnamed: 8 Unnamed: 9  \n",
       "0        640   55.96  Under construction         NaN        NaN  \n",
       "1   690-720    45.00  Under construction         NaN        NaN  \n",
       "2   688-693    60.00  Under construction         NaN        NaN  \n",
       "3       1659  210.00       Ready to move         NaN        NaN  "
      ]
     },
     "execution_count": 94,
     "metadata": {},
     "output_type": "execute_result"
    }
   ],
   "source": [
    "data_frame.head(4)"
   ]
  },
  {
   "cell_type": "code",
   "execution_count": 95,
   "id": "f5297c4a",
   "metadata": {},
   "outputs": [
    {
     "data": {
      "text/plain": [
       "Index(['area_type', 'location', 'Society', 'size', 'Baths', 'total_sqft',\n",
       "       'price', 'availability', 'Unnamed: 8', 'Unnamed: 9'],\n",
       "      dtype='object')"
      ]
     },
     "execution_count": 95,
     "metadata": {},
     "output_type": "execute_result"
    }
   ],
   "source": [
    "data_frame.columns"
   ]
  },
  {
   "cell_type": "code",
   "execution_count": 96,
   "id": "410f42f4",
   "metadata": {},
   "outputs": [
    {
     "name": "stdout",
     "output_type": "stream",
     "text": [
      "<class 'pandas.core.frame.DataFrame'>\n",
      "RangeIndex: 1629 entries, 0 to 1628\n",
      "Data columns (total 10 columns):\n",
      " #   Column        Non-Null Count  Dtype  \n",
      "---  ------        --------------  -----  \n",
      " 0   area_type     647 non-null    object \n",
      " 1   location      1629 non-null   object \n",
      " 2   Society       302 non-null    object \n",
      " 3   size          1626 non-null   object \n",
      " 4   Baths         1616 non-null   float64\n",
      " 5   total_sqft    1628 non-null   object \n",
      " 6   price         1629 non-null   float64\n",
      " 7   availability  629 non-null    object \n",
      " 8   Unnamed: 8    0 non-null      float64\n",
      " 9   Unnamed: 9    1 non-null      object \n",
      "dtypes: float64(3), object(7)\n",
      "memory usage: 127.4+ KB\n"
     ]
    }
   ],
   "source": [
    "data_frame.info()"
   ]
  },
  {
   "cell_type": "code",
   "execution_count": 97,
   "id": "6d71877d",
   "metadata": {},
   "outputs": [
    {
     "data": {
      "text/html": [
       "<div>\n",
       "<style scoped>\n",
       "    .dataframe tbody tr th:only-of-type {\n",
       "        vertical-align: middle;\n",
       "    }\n",
       "\n",
       "    .dataframe tbody tr th {\n",
       "        vertical-align: top;\n",
       "    }\n",
       "\n",
       "    .dataframe thead th {\n",
       "        text-align: right;\n",
       "    }\n",
       "</style>\n",
       "<table border=\"1\" class=\"dataframe\">\n",
       "  <thead>\n",
       "    <tr style=\"text-align: right;\">\n",
       "      <th></th>\n",
       "      <th>area_type</th>\n",
       "      <th>location</th>\n",
       "      <th>Society</th>\n",
       "      <th>size</th>\n",
       "      <th>Baths</th>\n",
       "      <th>total_sqft</th>\n",
       "      <th>price</th>\n",
       "      <th>availability</th>\n",
       "    </tr>\n",
       "  </thead>\n",
       "  <tbody>\n",
       "    <tr>\n",
       "      <th>0</th>\n",
       "      <td>Super Built-up Area</td>\n",
       "      <td>Bavdhan</td>\n",
       "      <td>Satyam Shrey</td>\n",
       "      <td>2 bhk</td>\n",
       "      <td>2.0</td>\n",
       "      <td>640</td>\n",
       "      <td>55.96</td>\n",
       "      <td>Under construction</td>\n",
       "    </tr>\n",
       "    <tr>\n",
       "      <th>1</th>\n",
       "      <td>Built-up Area</td>\n",
       "      <td>Sus</td>\n",
       "      <td>Kiran Sanskriti</td>\n",
       "      <td>2 bhk</td>\n",
       "      <td>2.0</td>\n",
       "      <td>690-720</td>\n",
       "      <td>45.00</td>\n",
       "      <td>Under construction</td>\n",
       "    </tr>\n",
       "    <tr>\n",
       "      <th>2</th>\n",
       "      <td>Built-up Area</td>\n",
       "      <td>Tathawade</td>\n",
       "      <td>Vivanta</td>\n",
       "      <td>2 bhk</td>\n",
       "      <td>2.0</td>\n",
       "      <td>688-693</td>\n",
       "      <td>60.00</td>\n",
       "      <td>Under construction</td>\n",
       "    </tr>\n",
       "  </tbody>\n",
       "</table>\n",
       "</div>"
      ],
      "text/plain": [
       "             area_type   location          Society   size  Baths total_sqft  \\\n",
       "0  Super Built-up Area    Bavdhan     Satyam Shrey  2 bhk    2.0        640   \n",
       "1        Built-up Area        Sus  Kiran Sanskriti  2 bhk    2.0   690-720    \n",
       "2        Built-up Area  Tathawade          Vivanta  2 bhk    2.0   688-693    \n",
       "\n",
       "   price        availability  \n",
       "0  55.96  Under construction  \n",
       "1  45.00  Under construction  \n",
       "2  60.00  Under construction  "
      ]
     },
     "execution_count": 97,
     "metadata": {},
     "output_type": "execute_result"
    }
   ],
   "source": [
    "# Need to remove Unnamed columns from data frame so we can use drop method or as selected below\n",
    "\n",
    "# Taking required columns only \n",
    "\n",
    "data_frame = data_frame[['area_type', 'location', 'Society', 'size', 'Baths', 'total_sqft','price', 'availability']]\n",
    "data_frame.head(3)"
   ]
  },
  {
   "cell_type": "code",
   "execution_count": 98,
   "id": "3dee2ea9",
   "metadata": {},
   "outputs": [
    {
     "data": {
      "text/html": [
       "<div>\n",
       "<style scoped>\n",
       "    .dataframe tbody tr th:only-of-type {\n",
       "        vertical-align: middle;\n",
       "    }\n",
       "\n",
       "    .dataframe tbody tr th {\n",
       "        vertical-align: top;\n",
       "    }\n",
       "\n",
       "    .dataframe thead th {\n",
       "        text-align: right;\n",
       "    }\n",
       "</style>\n",
       "<table border=\"1\" class=\"dataframe\">\n",
       "  <thead>\n",
       "    <tr style=\"text-align: right;\">\n",
       "      <th></th>\n",
       "      <th>Baths</th>\n",
       "      <th>price</th>\n",
       "    </tr>\n",
       "  </thead>\n",
       "  <tbody>\n",
       "    <tr>\n",
       "      <th>count</th>\n",
       "      <td>1616.000000</td>\n",
       "      <td>1629.000000</td>\n",
       "    </tr>\n",
       "    <tr>\n",
       "      <th>mean</th>\n",
       "      <td>2.529703</td>\n",
       "      <td>107.008677</td>\n",
       "    </tr>\n",
       "    <tr>\n",
       "      <th>std</th>\n",
       "      <td>1.277230</td>\n",
       "      <td>135.486900</td>\n",
       "    </tr>\n",
       "    <tr>\n",
       "      <th>min</th>\n",
       "      <td>1.000000</td>\n",
       "      <td>11.000000</td>\n",
       "    </tr>\n",
       "    <tr>\n",
       "      <th>25%</th>\n",
       "      <td>2.000000</td>\n",
       "      <td>47.600000</td>\n",
       "    </tr>\n",
       "    <tr>\n",
       "      <th>50%</th>\n",
       "      <td>2.000000</td>\n",
       "      <td>70.000000</td>\n",
       "    </tr>\n",
       "    <tr>\n",
       "      <th>75%</th>\n",
       "      <td>3.000000</td>\n",
       "      <td>115.000000</td>\n",
       "    </tr>\n",
       "    <tr>\n",
       "      <th>max</th>\n",
       "      <td>11.000000</td>\n",
       "      <td>2200.000000</td>\n",
       "    </tr>\n",
       "  </tbody>\n",
       "</table>\n",
       "</div>"
      ],
      "text/plain": [
       "             Baths        price\n",
       "count  1616.000000  1629.000000\n",
       "mean      2.529703   107.008677\n",
       "std       1.277230   135.486900\n",
       "min       1.000000    11.000000\n",
       "25%       2.000000    47.600000\n",
       "50%       2.000000    70.000000\n",
       "75%       3.000000   115.000000\n",
       "max      11.000000  2200.000000"
      ]
     },
     "execution_count": 98,
     "metadata": {},
     "output_type": "execute_result"
    }
   ],
   "source": [
    "data_frame.describe() # statastical representational "
   ]
  },
  {
   "cell_type": "markdown",
   "id": "35bdc062",
   "metadata": {},
   "source": [
    "### Area Type "
   ]
  },
  {
   "cell_type": "code",
   "execution_count": 99,
   "id": "adbf2716",
   "metadata": {},
   "outputs": [
    {
     "data": {
      "text/plain": [
       "array(['Super Built-up Area', 'Built-up Area', 'Plot Area', nan,\n",
       "       'Carpet Area', 'Built-up area', 'Villa', 'Built-up  Area',\n",
       "       'Super built-up  Area', 'Plot  Area'], dtype=object)"
      ]
     },
     "execution_count": 99,
     "metadata": {},
     "output_type": "execute_result"
    }
   ],
   "source": [
    "data_frame['area_type'].unique()  "
   ]
  },
  {
   "cell_type": "code",
   "execution_count": 100,
   "id": "4518fe2a",
   "metadata": {},
   "outputs": [
    {
     "data": {
      "text/plain": [
       "Super built-up  Area    193\n",
       "Built-up Area           175\n",
       "Super Built-up Area     152\n",
       "Built-up  Area           56\n",
       "Plot  Area               42\n",
       "Plot Area                21\n",
       "Built-up area             4\n",
       "Carpet Area               3\n",
       "Villa                     1\n",
       "Name: area_type, dtype: int64"
      ]
     },
     "execution_count": 100,
     "metadata": {},
     "output_type": "execute_result"
    }
   ],
   "source": [
    "data_frame.area_type.value_counts()"
   ]
  },
  {
   "cell_type": "code",
   "execution_count": 101,
   "id": "771573ad",
   "metadata": {},
   "outputs": [
    {
     "data": {
      "text/plain": [
       "array(['Super Built-up Area', 'Built-up Area', 'Plot Area', nan,\n",
       "       'Carpet Area', 'Built-up area', 'Villa', 'Built-up  Area',\n",
       "       'Super built-up  Area', 'Plot  Area'], dtype=object)"
      ]
     },
     "execution_count": 101,
     "metadata": {},
     "output_type": "execute_result"
    }
   ],
   "source": [
    "data_frame.area_type.unique()"
   ]
  },
  {
   "cell_type": "code",
   "execution_count": 102,
   "id": "927ea848",
   "metadata": {},
   "outputs": [
    {
     "data": {
      "text/plain": [
       "Super built-up  Area    193\n",
       "Built-up Area           175\n",
       "Super Built-up Area     152\n",
       "Built-up  Area           56\n",
       "Plot  Area               42\n",
       "Plot Area                21\n",
       "Built-up area             4\n",
       "Carpet Area               3\n",
       "Villa                     1\n",
       "Name: area_type, dtype: int64"
      ]
     },
     "execution_count": 102,
     "metadata": {},
     "output_type": "execute_result"
    }
   ],
   "source": [
    "data_frame.area_type.value_counts()"
   ]
  },
  {
   "cell_type": "code",
   "execution_count": 103,
   "id": "b1ccaf00",
   "metadata": {},
   "outputs": [],
   "source": [
    "data_frame['area_type'] = data_frame['area_type'].replace(['Plot  Area'],['Plot Area'])\n",
    "data_frame['area_type'] = data_frame['area_type'].replace(['Super built-up  Area'],['Super Built-up Area'])\n",
    "data_frame['area_type'] = data_frame['area_type'].replace(['Built-up area'],['Built-up Area'])\n",
    "data_frame['area_type'] = data_frame['area_type'].replace(['Built-up  Area'],['Built-up Area'])"
   ]
  },
  {
   "cell_type": "code",
   "execution_count": 104,
   "id": "053d8e46",
   "metadata": {},
   "outputs": [
    {
     "data": {
      "text/plain": [
       "Super Built-up Area    345\n",
       "Built-up Area          235\n",
       "Plot Area               63\n",
       "Carpet Area              3\n",
       "Villa                    1\n",
       "Name: area_type, dtype: int64"
      ]
     },
     "execution_count": 104,
     "metadata": {},
     "output_type": "execute_result"
    }
   ],
   "source": [
    "data_frame.area_type.value_counts() "
   ]
  },
  {
   "cell_type": "code",
   "execution_count": 105,
   "id": "7f735c89",
   "metadata": {},
   "outputs": [
    {
     "data": {
      "text/plain": [
       "<AxesSubplot:>"
      ]
     },
     "execution_count": 105,
     "metadata": {},
     "output_type": "execute_result"
    },
    {
     "data": {
      "image/png": "[encoded data removed]",
      "text/plain": [
       "<Figure size 432x288 with 1 Axes>"
      ]
     },
     "metadata": {
      "needs_background": "light"
     },
     "output_type": "display_data"
    }
   ],
   "source": [
    "data_frame.area_type.value_counts().plot(kind='bar')"
   ]
  },
  {
   "cell_type": "code",
   "execution_count": 106,
   "id": "f748afe3",
   "metadata": {},
   "outputs": [
    {
     "data": {
      "text/plain": [
       "982"
      ]
     },
     "execution_count": 106,
     "metadata": {},
     "output_type": "execute_result"
    }
   ],
   "source": [
    "data_frame.area_type.isna().sum()"
   ]
  },
  {
   "cell_type": "code",
   "execution_count": 107,
   "id": "2e53191e",
   "metadata": {},
   "outputs": [
    {
     "data": {
      "text/plain": [
       "{'Super Built-up Area': 345,\n",
       " 'Built-up Area': 235,\n",
       " 'Plot Area': 63,\n",
       " 'Carpet Area': 3,\n",
       " 'Villa': 1}"
      ]
     },
     "execution_count": 107,
     "metadata": {},
     "output_type": "execute_result"
    }
   ],
   "source": [
    "data_frame.area_type.value_counts().to_dict()"
   ]
  },
  {
   "cell_type": "markdown",
   "id": "60ea7e59",
   "metadata": {},
   "source": [
    "### Size"
   ]
  },
  {
   "cell_type": "code",
   "execution_count": 108,
   "id": "672723da",
   "metadata": {},
   "outputs": [
    {
     "data": {
      "text/plain": [
       "2 bhk     666\n",
       "3 bhk     514\n",
       "1 bhk     184\n",
       "4 bhk     152\n",
       "5 bhk      35\n",
       "6 bhk      32\n",
       "8 bhk      14\n",
       "7 bhk      12\n",
       "1 RK        6\n",
       "9 bhk       4\n",
       "1 Rk        2\n",
       "10 bhk      1\n",
       "3           1\n",
       "1 rk        1\n",
       "1  bhk      1\n",
       "11 bhk      1\n",
       "Name: size, dtype: int64"
      ]
     },
     "execution_count": 108,
     "metadata": {},
     "output_type": "execute_result"
    }
   ],
   "source": [
    "data_frame['size'].value_counts()"
   ]
  },
  {
   "cell_type": "code",
   "execution_count": 109,
   "id": "98d048a5",
   "metadata": {},
   "outputs": [
    {
     "data": {
      "text/plain": [
       "666"
      ]
     },
     "execution_count": 109,
     "metadata": {},
     "output_type": "execute_result"
    }
   ],
   "source": [
    "data_frame['size'].value_counts().values[0]"
   ]
  },
  {
   "cell_type": "code",
   "execution_count": 110,
   "id": "f75214e8",
   "metadata": {},
   "outputs": [
    {
     "data": {
      "text/plain": [
       "'2 bhk'"
      ]
     },
     "execution_count": 110,
     "metadata": {},
     "output_type": "execute_result"
    }
   ],
   "source": [
    "data_frame['size'].value_counts().index[0]"
   ]
  },
  {
   "cell_type": "code",
   "execution_count": 111,
   "id": "32f5185d",
   "metadata": {},
   "outputs": [],
   "source": [
    "data_frame['size'] = data_frame['size'].replace(['1  bhk'],['1 bhk'])\n",
    "data_frame['size'] = data_frame['size'].replace(['1 Rk'],['1 RK'])\n",
    "data_frame['size'] = data_frame['size'].replace(['1 rk'],['1 RK'])\n",
    "data_frame['size'] = data_frame['size'].replace(['3'],['3 bhk'])"
   ]
  },
  {
   "cell_type": "code",
   "execution_count": 112,
   "id": "0abb0921",
   "metadata": {},
   "outputs": [
    {
     "data": {
      "text/plain": [
       "2 bhk     666\n",
       "3 bhk     515\n",
       "1 bhk     185\n",
       "4 bhk     152\n",
       "5 bhk      35\n",
       "6 bhk      32\n",
       "8 bhk      14\n",
       "7 bhk      12\n",
       "1 RK        9\n",
       "9 bhk       4\n",
       "10 bhk      1\n",
       "11 bhk      1\n",
       "Name: size, dtype: int64"
      ]
     },
     "execution_count": 112,
     "metadata": {},
     "output_type": "execute_result"
    }
   ],
   "source": [
    "data_frame['size'].value_counts()"
   ]
  },
  {
   "cell_type": "code",
   "execution_count": 113,
   "id": "b932cf9e",
   "metadata": {},
   "outputs": [
    {
     "data": {
      "text/plain": [
       "<AxesSubplot:>"
      ]
     },
     "execution_count": 113,
     "metadata": {},
     "output_type": "execute_result"
    },
    {
     "data": {
      "image/png": "[encoded data removed]",
      "text/plain": [
       "<Figure size 432x288 with 1 Axes>"
      ]
     },
     "metadata": {
      "needs_background": "light"
     },
     "output_type": "display_data"
    }
   ],
   "source": [
    "data_frame['size'].value_counts().plot(kind='bar')"
   ]
  },
  {
   "cell_type": "code",
   "execution_count": 114,
   "id": "f0968221",
   "metadata": {},
   "outputs": [],
   "source": [
    "#data_frame['size'].dtype"
   ]
  },
  {
   "cell_type": "code",
   "execution_count": 115,
   "id": "3fb0de7c",
   "metadata": {},
   "outputs": [],
   "source": [
    "#data_frame['size'] = data_frame['size'].astype('str')"
   ]
  },
  {
   "cell_type": "code",
   "execution_count": 116,
   "id": "deb2daeb",
   "metadata": {},
   "outputs": [],
   "source": [
    "#data_frame.size.dtype "
   ]
  },
  {
   "cell_type": "code",
   "execution_count": 117,
   "id": "fc6a92b8",
   "metadata": {},
   "outputs": [],
   "source": [
    "# Regular expression \n",
    "import re"
   ]
  },
  {
   "cell_type": "code",
   "execution_count": 118,
   "id": "8c90d869",
   "metadata": {},
   "outputs": [],
   "source": [
    "def remove_bhk(input_string):\n",
    "    output_string = re.sub(r'\\s\\w+', '', input_string)\n",
    "    return output_string"
   ]
  },
  {
   "cell_type": "code",
   "execution_count": 119,
   "id": "12104de9",
   "metadata": {},
   "outputs": [],
   "source": [
    "data_frame['size'] =data_frame['size'].astype('str')"
   ]
  },
  {
   "cell_type": "code",
   "execution_count": 120,
   "id": "1a3c367f",
   "metadata": {},
   "outputs": [],
   "source": [
    "data_frame['size'] = data_frame['size'].apply(remove_bhk)"
   ]
  },
  {
   "cell_type": "code",
   "execution_count": 121,
   "id": "b897a526",
   "metadata": {},
   "outputs": [
    {
     "data": {
      "text/plain": [
       "0"
      ]
     },
     "execution_count": 121,
     "metadata": {},
     "output_type": "execute_result"
    }
   ],
   "source": [
    "data_frame['size'].isna().sum()"
   ]
  },
  {
   "cell_type": "code",
   "execution_count": 122,
   "id": "197ccf5f",
   "metadata": {},
   "outputs": [
    {
     "data": {
      "text/plain": [
       "(1629,)"
      ]
     },
     "execution_count": 122,
     "metadata": {},
     "output_type": "execute_result"
    }
   ],
   "source": [
    "data_frame['size'].shape"
   ]
  },
  {
   "cell_type": "code",
   "execution_count": 123,
   "id": "0f4980a0",
   "metadata": {},
   "outputs": [
    {
     "data": {
      "text/html": [
       "<div>\n",
       "<style scoped>\n",
       "    .dataframe tbody tr th:only-of-type {\n",
       "        vertical-align: middle;\n",
       "    }\n",
       "\n",
       "    .dataframe tbody tr th {\n",
       "        vertical-align: top;\n",
       "    }\n",
       "\n",
       "    .dataframe thead th {\n",
       "        text-align: right;\n",
       "    }\n",
       "</style>\n",
       "<table border=\"1\" class=\"dataframe\">\n",
       "  <thead>\n",
       "    <tr style=\"text-align: right;\">\n",
       "      <th></th>\n",
       "      <th>area_type</th>\n",
       "      <th>location</th>\n",
       "      <th>Society</th>\n",
       "      <th>size</th>\n",
       "      <th>Baths</th>\n",
       "      <th>total_sqft</th>\n",
       "      <th>price</th>\n",
       "      <th>availability</th>\n",
       "    </tr>\n",
       "  </thead>\n",
       "  <tbody>\n",
       "    <tr>\n",
       "      <th>0</th>\n",
       "      <td>Super Built-up Area</td>\n",
       "      <td>Bavdhan</td>\n",
       "      <td>Satyam Shrey</td>\n",
       "      <td>2</td>\n",
       "      <td>2.0</td>\n",
       "      <td>640</td>\n",
       "      <td>55.96</td>\n",
       "      <td>Under construction</td>\n",
       "    </tr>\n",
       "    <tr>\n",
       "      <th>1</th>\n",
       "      <td>Built-up Area</td>\n",
       "      <td>Sus</td>\n",
       "      <td>Kiran Sanskriti</td>\n",
       "      <td>2</td>\n",
       "      <td>2.0</td>\n",
       "      <td>690-720</td>\n",
       "      <td>45.00</td>\n",
       "      <td>Under construction</td>\n",
       "    </tr>\n",
       "    <tr>\n",
       "      <th>2</th>\n",
       "      <td>Built-up Area</td>\n",
       "      <td>Tathawade</td>\n",
       "      <td>Vivanta</td>\n",
       "      <td>2</td>\n",
       "      <td>2.0</td>\n",
       "      <td>688-693</td>\n",
       "      <td>60.00</td>\n",
       "      <td>Under construction</td>\n",
       "    </tr>\n",
       "    <tr>\n",
       "      <th>3</th>\n",
       "      <td>Super Built-up Area</td>\n",
       "      <td>Koregaon Park</td>\n",
       "      <td>Sunit Anant</td>\n",
       "      <td>3</td>\n",
       "      <td>3.0</td>\n",
       "      <td>1659</td>\n",
       "      <td>210.00</td>\n",
       "      <td>Ready to move</td>\n",
       "    </tr>\n",
       "    <tr>\n",
       "      <th>4</th>\n",
       "      <td>Built-up Area</td>\n",
       "      <td>Sinhgad Road</td>\n",
       "      <td>Nanded city</td>\n",
       "      <td>3</td>\n",
       "      <td>3.0</td>\n",
       "      <td>1450</td>\n",
       "      <td>78.00</td>\n",
       "      <td>Ready to move</td>\n",
       "    </tr>\n",
       "    <tr>\n",
       "      <th>...</th>\n",
       "      <td>...</td>\n",
       "      <td>...</td>\n",
       "      <td>...</td>\n",
       "      <td>...</td>\n",
       "      <td>...</td>\n",
       "      <td>...</td>\n",
       "      <td>...</td>\n",
       "      <td>...</td>\n",
       "    </tr>\n",
       "    <tr>\n",
       "      <th>1624</th>\n",
       "      <td>NaN</td>\n",
       "      <td>Sinhgad Road</td>\n",
       "      <td>NaN</td>\n",
       "      <td>2</td>\n",
       "      <td>2.0</td>\n",
       "      <td>1175</td>\n",
       "      <td>73.50</td>\n",
       "      <td>NaN</td>\n",
       "    </tr>\n",
       "    <tr>\n",
       "      <th>1625</th>\n",
       "      <td>NaN</td>\n",
       "      <td>Koregaon Park</td>\n",
       "      <td>NaN</td>\n",
       "      <td>2</td>\n",
       "      <td>2.0</td>\n",
       "      <td>1425</td>\n",
       "      <td>80.00</td>\n",
       "      <td>NaN</td>\n",
       "    </tr>\n",
       "    <tr>\n",
       "      <th>1626</th>\n",
       "      <td>NaN</td>\n",
       "      <td>Swargate</td>\n",
       "      <td>NaN</td>\n",
       "      <td>1</td>\n",
       "      <td>1.0</td>\n",
       "      <td>1200</td>\n",
       "      <td>20.00</td>\n",
       "      <td>NaN</td>\n",
       "    </tr>\n",
       "    <tr>\n",
       "      <th>1627</th>\n",
       "      <td>NaN</td>\n",
       "      <td>Karve Nagar</td>\n",
       "      <td>NaN</td>\n",
       "      <td>3</td>\n",
       "      <td>3.0</td>\n",
       "      <td>1200</td>\n",
       "      <td>56.12</td>\n",
       "      <td>NaN</td>\n",
       "    </tr>\n",
       "    <tr>\n",
       "      <th>1628</th>\n",
       "      <td>NaN</td>\n",
       "      <td>Karve Nagar</td>\n",
       "      <td>NaN</td>\n",
       "      <td>2</td>\n",
       "      <td>2.0</td>\n",
       "      <td>1255</td>\n",
       "      <td>67.00</td>\n",
       "      <td>NaN</td>\n",
       "    </tr>\n",
       "  </tbody>\n",
       "</table>\n",
       "<p>1629 rows × 8 columns</p>\n",
       "</div>"
      ],
      "text/plain": [
       "                area_type       location          Society size  Baths  \\\n",
       "0     Super Built-up Area        Bavdhan     Satyam Shrey    2    2.0   \n",
       "1           Built-up Area            Sus  Kiran Sanskriti    2    2.0   \n",
       "2           Built-up Area      Tathawade          Vivanta    2    2.0   \n",
       "3     Super Built-up Area  Koregaon Park      Sunit Anant    3    3.0   \n",
       "4           Built-up Area   Sinhgad Road      Nanded city    3    3.0   \n",
       "...                   ...            ...              ...  ...    ...   \n",
       "1624                  NaN   Sinhgad Road              NaN    2    2.0   \n",
       "1625                  NaN  Koregaon Park              NaN    2    2.0   \n",
       "1626                  NaN       Swargate              NaN    1    1.0   \n",
       "1627                  NaN    Karve Nagar              NaN    3    3.0   \n",
       "1628                  NaN    Karve Nagar              NaN    2    2.0   \n",
       "\n",
       "     total_sqft   price        availability  \n",
       "0           640   55.96  Under construction  \n",
       "1      690-720    45.00  Under construction  \n",
       "2      688-693    60.00  Under construction  \n",
       "3          1659  210.00       Ready to move  \n",
       "4          1450   78.00       Ready to move  \n",
       "...         ...     ...                 ...  \n",
       "1624       1175   73.50                 NaN  \n",
       "1625       1425   80.00                 NaN  \n",
       "1626       1200   20.00                 NaN  \n",
       "1627       1200   56.12                 NaN  \n",
       "1628       1255   67.00                 NaN  \n",
       "\n",
       "[1629 rows x 8 columns]"
      ]
     },
     "execution_count": 123,
     "metadata": {},
     "output_type": "execute_result"
    }
   ],
   "source": [
    "data_frame"
   ]
  },
  {
   "cell_type": "markdown",
   "id": "3733cbf1",
   "metadata": {},
   "source": [
    "### Bath"
   ]
  },
  {
   "cell_type": "code",
   "execution_count": 124,
   "id": "94c36dbd",
   "metadata": {},
   "outputs": [
    {
     "data": {
      "text/plain": [
       "2.0     780\n",
       "3.0     369\n",
       "1.0     222\n",
       "4.0     139\n",
       "5.0      51\n",
       "6.0      22\n",
       "7.0      19\n",
       "9.0       6\n",
       "8.0       6\n",
       "10.0      1\n",
       "11.0      1\n",
       "Name: Baths, dtype: int64"
      ]
     },
     "execution_count": 124,
     "metadata": {},
     "output_type": "execute_result"
    }
   ],
   "source": [
    "data_frame['Baths'].value_counts()"
   ]
  },
  {
   "cell_type": "code",
   "execution_count": 125,
   "id": "8410c259",
   "metadata": {},
   "outputs": [
    {
     "data": {
      "text/plain": [
       "13"
      ]
     },
     "execution_count": 125,
     "metadata": {},
     "output_type": "execute_result"
    }
   ],
   "source": [
    "data_frame['Baths'].isna().sum()"
   ]
  },
  {
   "cell_type": "code",
   "execution_count": 126,
   "id": "c5191a3c",
   "metadata": {},
   "outputs": [
    {
     "data": {
      "text/plain": [
       "<AxesSubplot:>"
      ]
     },
     "execution_count": 126,
     "metadata": {},
     "output_type": "execute_result"
    },
    {
     "data": {
      "image/png": "[encoded data removed]",
      "text/plain": [
       "<Figure size 432x288 with 1 Axes>"
      ]
     },
     "metadata": {
      "needs_background": "light"
     },
     "output_type": "display_data"
    }
   ],
   "source": [
    "data_frame.Baths.value_counts().plot(kind='bar')"
   ]
  },
  {
   "cell_type": "code",
   "execution_count": 127,
   "id": "558a10eb",
   "metadata": {},
   "outputs": [],
   "source": [
    "data_frame['Baths'] = data_frame['Baths'].fillna(data_frame['size'])"
   ]
  },
  {
   "cell_type": "code",
   "execution_count": 128,
   "id": "7a27c95a",
   "metadata": {},
   "outputs": [
    {
     "data": {
      "text/plain": [
       "2.0     780\n",
       "3.0     369\n",
       "1.0     222\n",
       "4.0     139\n",
       "5.0      51\n",
       "6.0      22\n",
       "7.0      19\n",
       "9.0       6\n",
       "4         6\n",
       "8.0       6\n",
       "nan       3\n",
       "5         2\n",
       "10.0      1\n",
       "3         1\n",
       "1         1\n",
       "11.0      1\n",
       "Name: Baths, dtype: int64"
      ]
     },
     "execution_count": 128,
     "metadata": {},
     "output_type": "execute_result"
    }
   ],
   "source": [
    "data_frame['Baths'].value_counts()"
   ]
  },
  {
   "cell_type": "code",
   "execution_count": 129,
   "id": "7c3c6ded",
   "metadata": {},
   "outputs": [
    {
     "data": {
      "text/plain": [
       "0"
      ]
     },
     "execution_count": 129,
     "metadata": {},
     "output_type": "execute_result"
    }
   ],
   "source": [
    "data_frame['Baths'].isna().sum()"
   ]
  },
  {
   "cell_type": "markdown",
   "id": "4024b322",
   "metadata": {},
   "source": [
    "### Total sqft"
   ]
  },
  {
   "cell_type": "code",
   "execution_count": 130,
   "id": "76f2783d",
   "metadata": {},
   "outputs": [
    {
     "data": {
      "text/plain": [
       "dtype('O')"
      ]
     },
     "execution_count": 130,
     "metadata": {},
     "output_type": "execute_result"
    }
   ],
   "source": [
    "data_frame.total_sqft.dtype"
   ]
  },
  {
   "cell_type": "code",
   "execution_count": 131,
   "id": "f766eab5",
   "metadata": {},
   "outputs": [
    {
     "name": "stdout",
     "output_type": "stream",
     "text": [
      "<class 'str'>\n"
     ]
    }
   ],
   "source": [
    "print(type(data_frame.total_sqft[0]))"
   ]
  },
  {
   "cell_type": "code",
   "execution_count": 132,
   "id": "fa27ae9f",
   "metadata": {},
   "outputs": [
    {
     "data": {
      "text/plain": [
       "1200    82\n",
       "1000    29\n",
       "1500    27\n",
       "600     24\n",
       "1100    21\n",
       "        ..\n",
       "984      1\n",
       "589      1\n",
       "1798     1\n",
       "2850     1\n",
       "1255     1\n",
       "Name: total_sqft, Length: 653, dtype: int64"
      ]
     },
     "execution_count": 132,
     "metadata": {},
     "output_type": "execute_result"
    }
   ],
   "source": [
    "data_frame['total_sqft'].value_counts()"
   ]
  },
  {
   "cell_type": "code",
   "execution_count": 133,
   "id": "4d179d6f",
   "metadata": {},
   "outputs": [
    {
     "data": {
      "text/plain": [
       "1"
      ]
     },
     "execution_count": 133,
     "metadata": {},
     "output_type": "execute_result"
    }
   ],
   "source": [
    "data_frame.total_sqft.isna().sum()"
   ]
  },
  {
   "cell_type": "code",
   "execution_count": 134,
   "id": "d2067ea6",
   "metadata": {},
   "outputs": [],
   "source": [
    "data_frame['total_sqft'] =data_frame['total_sqft'].astype('str')"
   ]
  },
  {
   "cell_type": "code",
   "execution_count": 135,
   "id": "a33453b5",
   "metadata": {},
   "outputs": [],
   "source": [
    "def literal_price(input_string):\n",
    "    total = 0\n",
    "    if '-' in input_string:        \n",
    "        list1 = input_string.split('-')\n",
    "        for number in list1:\n",
    "            total = int(number) + total    \n",
    "        return total / 2\n",
    "    else:\n",
    "        return input_string\n",
    "#     '690-720' == [690,720]\n",
    "#     '688-693'"
   ]
  },
  {
   "cell_type": "code",
   "execution_count": 136,
   "id": "323566ad",
   "metadata": {},
   "outputs": [],
   "source": [
    "data_frame['total_sqft'] =data_frame['total_sqft'].apply(literal_price)"
   ]
  },
  {
   "cell_type": "code",
   "execution_count": 137,
   "id": "644f0dfd",
   "metadata": {},
   "outputs": [
    {
     "data": {
      "text/plain": [
       "0"
      ]
     },
     "execution_count": 137,
     "metadata": {},
     "output_type": "execute_result"
    }
   ],
   "source": [
    "data_frame['total_sqft'].isna().sum()"
   ]
  },
  {
   "cell_type": "markdown",
   "id": "b04b66a0",
   "metadata": {},
   "source": [
    "### Price"
   ]
  },
  {
   "cell_type": "code",
   "execution_count": 138,
   "id": "e067094a",
   "metadata": {},
   "outputs": [
    {
     "data": {
      "text/plain": [
       "45.000     35\n",
       "65.000     34\n",
       "70.000     32\n",
       "60.000     31\n",
       "50.000     30\n",
       "           ..\n",
       "46.500      1\n",
       "83.090      1\n",
       "198.000     1\n",
       "215.000     1\n",
       "17.535      1\n",
       "Name: price, Length: 462, dtype: int64"
      ]
     },
     "execution_count": 138,
     "metadata": {},
     "output_type": "execute_result"
    }
   ],
   "source": [
    "data_frame['price'].value_counts()"
   ]
  },
  {
   "cell_type": "code",
   "execution_count": 139,
   "id": "4feed3f9",
   "metadata": {},
   "outputs": [
    {
     "data": {
      "text/plain": [
       "0"
      ]
     },
     "execution_count": 139,
     "metadata": {},
     "output_type": "execute_result"
    }
   ],
   "source": [
    "data_frame.price.isna().sum()"
   ]
  },
  {
   "cell_type": "code",
   "execution_count": 140,
   "id": "c02deea7",
   "metadata": {},
   "outputs": [
    {
     "data": {
      "text/plain": [
       "dtype('float64')"
      ]
     },
     "execution_count": 140,
     "metadata": {},
     "output_type": "execute_result"
    }
   ],
   "source": [
    "data_frame.price.dtype"
   ]
  },
  {
   "cell_type": "markdown",
   "id": "cd48e84b",
   "metadata": {},
   "source": [
    "### Availability"
   ]
  },
  {
   "cell_type": "code",
   "execution_count": 141,
   "id": "c204dc87",
   "metadata": {},
   "outputs": [
    {
     "data": {
      "text/plain": [
       "Ready to move           263\n",
       "Ready To Move           209\n",
       "Under construction       68\n",
       "Ready to Move            25\n",
       "18-Dec                    7\n",
       "18-May                    6\n",
       "18-Apr                    6\n",
       "19-Dec                    5\n",
       "On Sale                   4\n",
       "19-Mar                    3\n",
       "21-Dec                    3\n",
       "18-Jun                    3\n",
       "18-Aug                    2\n",
       "17-Sep                    2\n",
       "19-Apr                    2\n",
       "18-Mar                    2\n",
       "19-Jan                    1\n",
       "18-Jul                    1\n",
       "22-Jan                    1\n",
       "21-Jun                    1\n",
       "Immediate Possession      1\n",
       "19-Jul                    1\n",
       "22-Dec                    1\n",
       "17-Jul                    1\n",
       "20-Aug                    1\n",
       "17-Aug                    1\n",
       "18-Oct                    1\n",
       "20-Feb                    1\n",
       "20-Sep                    1\n",
       "19-Sep                    1\n",
       "17-Oct                    1\n",
       "20-Dec                    1\n",
       "18-Nov                    1\n",
       "18-Feb                    1\n",
       "21-Jul                    1\n",
       "Name: availability, dtype: int64"
      ]
     },
     "execution_count": 141,
     "metadata": {},
     "output_type": "execute_result"
    }
   ],
   "source": [
    "data_frame.availability.value_counts()"
   ]
  },
  {
   "cell_type": "code",
   "execution_count": 142,
   "id": "b66c57e7",
   "metadata": {},
   "outputs": [],
   "source": [
    "data_frame['availability'] = data_frame['availability'].replace(['Ready To Move'],['Ready to move'])\n",
    "data_frame['availability'] = data_frame['availability'].replace(['Ready to Move'],['Ready to move'])"
   ]
  },
  {
   "cell_type": "code",
   "execution_count": 143,
   "id": "13146588",
   "metadata": {},
   "outputs": [
    {
     "data": {
      "text/plain": [
       "Ready to move           497\n",
       "Under construction       68\n",
       "18-Dec                    7\n",
       "18-May                    6\n",
       "18-Apr                    6\n",
       "19-Dec                    5\n",
       "On Sale                   4\n",
       "19-Mar                    3\n",
       "21-Dec                    3\n",
       "18-Jun                    3\n",
       "18-Aug                    2\n",
       "17-Sep                    2\n",
       "19-Apr                    2\n",
       "18-Mar                    2\n",
       "17-Jul                    1\n",
       "22-Jan                    1\n",
       "18-Jul                    1\n",
       "21-Jun                    1\n",
       "Immediate Possession      1\n",
       "19-Jul                    1\n",
       "22-Dec                    1\n",
       "19-Jan                    1\n",
       "18-Oct                    1\n",
       "17-Aug                    1\n",
       "20-Aug                    1\n",
       "20-Feb                    1\n",
       "20-Sep                    1\n",
       "19-Sep                    1\n",
       "17-Oct                    1\n",
       "20-Dec                    1\n",
       "18-Nov                    1\n",
       "18-Feb                    1\n",
       "21-Jul                    1\n",
       "Name: availability, dtype: int64"
      ]
     },
     "execution_count": 143,
     "metadata": {},
     "output_type": "execute_result"
    }
   ],
   "source": [
    "data_frame.availability.value_counts()"
   ]
  },
  {
   "cell_type": "code",
   "execution_count": 144,
   "id": "5c36f1f1",
   "metadata": {},
   "outputs": [
    {
     "data": {
      "text/plain": [
       "1000"
      ]
     },
     "execution_count": 144,
     "metadata": {},
     "output_type": "execute_result"
    }
   ],
   "source": [
    "data_frame.availability.isna().sum()"
   ]
  },
  {
   "cell_type": "code",
   "execution_count": 145,
   "id": "4aab44d9",
   "metadata": {},
   "outputs": [],
   "source": [
    "# data_frame.availability.fillna('No_info_available',inplace=True)\n",
    "data_frame['availability'] = data_frame['availability'].fillna('No_info_available')"
   ]
  },
  {
   "cell_type": "code",
   "execution_count": 146,
   "id": "fce34c07",
   "metadata": {},
   "outputs": [
    {
     "data": {
      "text/plain": [
       "0"
      ]
     },
     "execution_count": 146,
     "metadata": {},
     "output_type": "execute_result"
    }
   ],
   "source": [
    "data_frame.availability.isna().sum()"
   ]
  },
  {
   "cell_type": "code",
   "execution_count": 147,
   "id": "0fb43e34",
   "metadata": {},
   "outputs": [
    {
     "data": {
      "text/plain": [
       "No_info_available       1000\n",
       "Ready to move            497\n",
       "Under construction        68\n",
       "18-Dec                     7\n",
       "18-May                     6\n",
       "18-Apr                     6\n",
       "19-Dec                     5\n",
       "On Sale                    4\n",
       "19-Mar                     3\n",
       "21-Dec                     3\n",
       "18-Jun                     3\n",
       "18-Aug                     2\n",
       "17-Sep                     2\n",
       "19-Apr                     2\n",
       "18-Mar                     2\n",
       "19-Jan                     1\n",
       "22-Jan                     1\n",
       "18-Jul                     1\n",
       "21-Jun                     1\n",
       "Immediate Possession       1\n",
       "19-Jul                     1\n",
       "22-Dec                     1\n",
       "17-Jul                     1\n",
       "18-Oct                     1\n",
       "17-Aug                     1\n",
       "20-Aug                     1\n",
       "20-Feb                     1\n",
       "20-Sep                     1\n",
       "19-Sep                     1\n",
       "17-Oct                     1\n",
       "20-Dec                     1\n",
       "18-Nov                     1\n",
       "18-Feb                     1\n",
       "21-Jul                     1\n",
       "Name: availability, dtype: int64"
      ]
     },
     "execution_count": 147,
     "metadata": {},
     "output_type": "execute_result"
    }
   ],
   "source": [
    "data_frame.availability.value_counts()"
   ]
  },
  {
   "cell_type": "code",
   "execution_count": 148,
   "id": "1b1cd802",
   "metadata": {},
   "outputs": [],
   "source": [
    "data_frame['availability'] = np.where(data_frame['availability'].isin(['No_info_available','Ready to move','Under construction','Immediate Possession'])\n",
    "                                      ,data_frame['availability'],'Under construction')"
   ]
  },
  {
   "cell_type": "code",
   "execution_count": 149,
   "id": "1f037965",
   "metadata": {},
   "outputs": [
    {
     "data": {
      "text/plain": [
       "No_info_available       1000\n",
       "Ready to move            497\n",
       "Under construction       131\n",
       "Immediate Possession       1\n",
       "Name: availability, dtype: int64"
      ]
     },
     "execution_count": 149,
     "metadata": {},
     "output_type": "execute_result"
    }
   ],
   "source": [
    "data_frame['availability'].value_counts()"
   ]
  },
  {
   "cell_type": "code",
   "execution_count": 150,
   "id": "f5bd17be",
   "metadata": {},
   "outputs": [
    {
     "data": {
      "text/plain": [
       "<AxesSubplot:>"
      ]
     },
     "execution_count": 150,
     "metadata": {},
     "output_type": "execute_result"
    },
    {
     "data": {
      "image/png": "[encoded data removed]",
      "text/plain": [
       "<Figure size 432x288 with 1 Axes>"
      ]
     },
     "metadata": {
      "needs_background": "light"
     },
     "output_type": "display_data"
    }
   ],
   "source": [
    "data_frame['availability'].value_counts().plot(kind='bar')"
   ]
  },
  {
   "cell_type": "code",
   "execution_count": 151,
   "id": "57eb7804",
   "metadata": {},
   "outputs": [
    {
     "data": {
      "text/plain": [
       "Index(['area_type', 'location', 'Society', 'size', 'Baths', 'total_sqft',\n",
       "       'price', 'availability'],\n",
       "      dtype='object')"
      ]
     },
     "execution_count": 151,
     "metadata": {},
     "output_type": "execute_result"
    }
   ],
   "source": [
    "data_frame.columns"
   ]
  },
  {
   "cell_type": "markdown",
   "id": "50da50e4",
   "metadata": {},
   "source": [
    "### Location"
   ]
  },
  {
   "cell_type": "code",
   "execution_count": 152,
   "id": "990096c9",
   "metadata": {},
   "outputs": [
    {
     "data": {
      "text/plain": [
       "Bibwewadi               243\n",
       "Katraj                  201\n",
       "Dhankawadi              198\n",
       "Swargate                134\n",
       "Koregaon Park           126\n",
       "Sinhgad Road            111\n",
       "Shivaji Nagar           102\n",
       "Hadapsar                 88\n",
       "Karve Nagar              71\n",
       "Baner                    45\n",
       "Balaji Nagar             41\n",
       "FC Road                  32\n",
       "Kondhwa                  31\n",
       "AB Chowk                 30\n",
       "Ambegaon                 24\n",
       "Amanora Town             22\n",
       "Padmavati                13\n",
       "Deccan Gymkhana          11\n",
       "Camp                     11\n",
       "Bund Garden              11\n",
       "Budhwar Peth             11\n",
       "Kothrud                  10\n",
       "Market yard              10\n",
       "Model colony             10\n",
       "Pune Railway Station     10\n",
       "Sahakar Nagar            10\n",
       "Bavdhan                   3\n",
       "Amanora town              2\n",
       "Sus                       2\n",
       "Meera nagar               2\n",
       "Hinjewadi                 2\n",
       "Wakad                     1\n",
       "Kundalahalli              1\n",
       "Manjri                    1\n",
       "Mohan Nagar               1\n",
       "Shivraj Nagar             1\n",
       "Samarth Nagar             1\n",
       "Vighnaharta Nagar         1\n",
       "Mangdewadi                1\n",
       "Kanchan Nagari            1\n",
       "Moshi                     1\n",
       "Tathawade                 1\n",
       "Vitthal nagar             1\n",
       "Name: location, dtype: int64"
      ]
     },
     "execution_count": 152,
     "metadata": {},
     "output_type": "execute_result"
    }
   ],
   "source": [
    "data_frame.location.value_counts()"
   ]
  },
  {
   "cell_type": "code",
   "execution_count": 153,
   "id": "a2e0d127",
   "metadata": {},
   "outputs": [
    {
     "data": {
      "text/plain": [
       "0"
      ]
     },
     "execution_count": 153,
     "metadata": {},
     "output_type": "execute_result"
    }
   ],
   "source": [
    "data_frame.location.isna().sum()"
   ]
  },
  {
   "cell_type": "code",
   "execution_count": 154,
   "id": "89916f5b",
   "metadata": {},
   "outputs": [
    {
     "data": {
      "text/plain": [
       "<AxesSubplot:>"
      ]
     },
     "execution_count": 154,
     "metadata": {},
     "output_type": "execute_result"
    },
    {
     "data": {
      "image/png": "[encoded data removed]",
      "text/plain": [
       "<Figure size 432x288 with 1 Axes>"
      ]
     },
     "metadata": {
      "needs_background": "light"
     },
     "output_type": "display_data"
    }
   ],
   "source": [
    "data_frame.location.value_counts().plot(kind='bar')"
   ]
  },
  {
   "cell_type": "markdown",
   "id": "769e105e",
   "metadata": {},
   "source": [
    "### Society"
   ]
  },
  {
   "cell_type": "code",
   "execution_count": 155,
   "id": "607eac72",
   "metadata": {},
   "outputs": [
    {
     "data": {
      "text/plain": [
       "Mahesh Society    9\n",
       "Park Landmark     6\n",
       "Ganga Ishanya     6\n",
       "Kumar Park        5\n",
       "Raut Baug         5\n",
       "                 ..\n",
       "Shivanjali        1\n",
       "Park Landmark     1\n",
       "Paranjape         1\n",
       "Unique Legacy     1\n",
       "SRK Spring        1\n",
       "Name: Society, Length: 227, dtype: int64"
      ]
     },
     "execution_count": 155,
     "metadata": {},
     "output_type": "execute_result"
    }
   ],
   "source": [
    "data_frame.Society.value_counts()"
   ]
  },
  {
   "cell_type": "code",
   "execution_count": 156,
   "id": "c5aa6645",
   "metadata": {},
   "outputs": [
    {
     "data": {
      "text/plain": [
       "1327"
      ]
     },
     "execution_count": 156,
     "metadata": {},
     "output_type": "execute_result"
    }
   ],
   "source": [
    "data_frame.Society.isna().sum()"
   ]
  },
  {
   "cell_type": "code",
   "execution_count": 157,
   "id": "cdb282c2",
   "metadata": {},
   "outputs": [
    {
     "name": "stdout",
     "output_type": "stream",
     "text": [
      "<class 'pandas.core.frame.DataFrame'>\n",
      "RangeIndex: 1629 entries, 0 to 1628\n",
      "Data columns (total 8 columns):\n",
      " #   Column        Non-Null Count  Dtype  \n",
      "---  ------        --------------  -----  \n",
      " 0   area_type     647 non-null    object \n",
      " 1   location      1629 non-null   object \n",
      " 2   Society       302 non-null    object \n",
      " 3   size          1629 non-null   object \n",
      " 4   Baths         1629 non-null   object \n",
      " 5   total_sqft    1629 non-null   object \n",
      " 6   price         1629 non-null   float64\n",
      " 7   availability  1629 non-null   object \n",
      "dtypes: float64(1), object(7)\n",
      "memory usage: 101.9+ KB\n"
     ]
    }
   ],
   "source": [
    "data_frame.info()"
   ]
  },
  {
   "cell_type": "code",
   "execution_count": 158,
   "id": "4b5330f2",
   "metadata": {},
   "outputs": [
    {
     "data": {
      "text/html": [
       "<div>\n",
       "<style scoped>\n",
       "    .dataframe tbody tr th:only-of-type {\n",
       "        vertical-align: middle;\n",
       "    }\n",
       "\n",
       "    .dataframe tbody tr th {\n",
       "        vertical-align: top;\n",
       "    }\n",
       "\n",
       "    .dataframe thead tr th {\n",
       "        text-align: left;\n",
       "    }\n",
       "</style>\n",
       "<table border=\"1\" class=\"dataframe\">\n",
       "  <thead>\n",
       "    <tr>\n",
       "      <th></th>\n",
       "      <th>AB Chowk</th>\n",
       "      <th>Amanora Town</th>\n",
       "      <th>Amanora town</th>\n",
       "      <th>Ambegaon</th>\n",
       "      <th>Balaji Nagar</th>\n",
       "      <th>Baner</th>\n",
       "      <th>Bavdhan</th>\n",
       "      <th>Bibwewadi</th>\n",
       "      <th>Budhwar Peth</th>\n",
       "      <th>Bund Garden</th>\n",
       "      <th>...</th>\n",
       "      <th>Samarth Nagar</th>\n",
       "      <th>Shivaji Nagar</th>\n",
       "      <th>Shivraj Nagar</th>\n",
       "      <th>Sinhgad Road</th>\n",
       "      <th>Sus</th>\n",
       "      <th>Swargate</th>\n",
       "      <th>Tathawade</th>\n",
       "      <th>Vighnaharta Nagar</th>\n",
       "      <th>Vitthal nagar</th>\n",
       "      <th>Wakad</th>\n",
       "    </tr>\n",
       "  </thead>\n",
       "  <tbody>\n",
       "    <tr>\n",
       "      <th>0</th>\n",
       "      <td>0.0</td>\n",
       "      <td>0.0</td>\n",
       "      <td>0.0</td>\n",
       "      <td>0.0</td>\n",
       "      <td>0.0</td>\n",
       "      <td>0.0</td>\n",
       "      <td>1.0</td>\n",
       "      <td>0.0</td>\n",
       "      <td>0.0</td>\n",
       "      <td>0.0</td>\n",
       "      <td>...</td>\n",
       "      <td>0.0</td>\n",
       "      <td>0.0</td>\n",
       "      <td>0.0</td>\n",
       "      <td>0.0</td>\n",
       "      <td>0.0</td>\n",
       "      <td>0.0</td>\n",
       "      <td>0.0</td>\n",
       "      <td>0.0</td>\n",
       "      <td>0.0</td>\n",
       "      <td>0.0</td>\n",
       "    </tr>\n",
       "    <tr>\n",
       "      <th>1</th>\n",
       "      <td>0.0</td>\n",
       "      <td>0.0</td>\n",
       "      <td>0.0</td>\n",
       "      <td>0.0</td>\n",
       "      <td>0.0</td>\n",
       "      <td>0.0</td>\n",
       "      <td>0.0</td>\n",
       "      <td>0.0</td>\n",
       "      <td>0.0</td>\n",
       "      <td>0.0</td>\n",
       "      <td>...</td>\n",
       "      <td>0.0</td>\n",
       "      <td>0.0</td>\n",
       "      <td>0.0</td>\n",
       "      <td>0.0</td>\n",
       "      <td>1.0</td>\n",
       "      <td>0.0</td>\n",
       "      <td>0.0</td>\n",
       "      <td>0.0</td>\n",
       "      <td>0.0</td>\n",
       "      <td>0.0</td>\n",
       "    </tr>\n",
       "    <tr>\n",
       "      <th>2</th>\n",
       "      <td>0.0</td>\n",
       "      <td>0.0</td>\n",
       "      <td>0.0</td>\n",
       "      <td>0.0</td>\n",
       "      <td>0.0</td>\n",
       "      <td>0.0</td>\n",
       "      <td>0.0</td>\n",
       "      <td>0.0</td>\n",
       "      <td>0.0</td>\n",
       "      <td>0.0</td>\n",
       "      <td>...</td>\n",
       "      <td>0.0</td>\n",
       "      <td>0.0</td>\n",
       "      <td>0.0</td>\n",
       "      <td>0.0</td>\n",
       "      <td>0.0</td>\n",
       "      <td>0.0</td>\n",
       "      <td>1.0</td>\n",
       "      <td>0.0</td>\n",
       "      <td>0.0</td>\n",
       "      <td>0.0</td>\n",
       "    </tr>\n",
       "    <tr>\n",
       "      <th>3</th>\n",
       "      <td>0.0</td>\n",
       "      <td>0.0</td>\n",
       "      <td>0.0</td>\n",
       "      <td>0.0</td>\n",
       "      <td>0.0</td>\n",
       "      <td>0.0</td>\n",
       "      <td>0.0</td>\n",
       "      <td>0.0</td>\n",
       "      <td>0.0</td>\n",
       "      <td>0.0</td>\n",
       "      <td>...</td>\n",
       "      <td>0.0</td>\n",
       "      <td>0.0</td>\n",
       "      <td>0.0</td>\n",
       "      <td>0.0</td>\n",
       "      <td>0.0</td>\n",
       "      <td>0.0</td>\n",
       "      <td>0.0</td>\n",
       "      <td>0.0</td>\n",
       "      <td>0.0</td>\n",
       "      <td>0.0</td>\n",
       "    </tr>\n",
       "    <tr>\n",
       "      <th>4</th>\n",
       "      <td>0.0</td>\n",
       "      <td>0.0</td>\n",
       "      <td>0.0</td>\n",
       "      <td>0.0</td>\n",
       "      <td>0.0</td>\n",
       "      <td>0.0</td>\n",
       "      <td>0.0</td>\n",
       "      <td>0.0</td>\n",
       "      <td>0.0</td>\n",
       "      <td>0.0</td>\n",
       "      <td>...</td>\n",
       "      <td>0.0</td>\n",
       "      <td>0.0</td>\n",
       "      <td>0.0</td>\n",
       "      <td>1.0</td>\n",
       "      <td>0.0</td>\n",
       "      <td>0.0</td>\n",
       "      <td>0.0</td>\n",
       "      <td>0.0</td>\n",
       "      <td>0.0</td>\n",
       "      <td>0.0</td>\n",
       "    </tr>\n",
       "    <tr>\n",
       "      <th>...</th>\n",
       "      <td>...</td>\n",
       "      <td>...</td>\n",
       "      <td>...</td>\n",
       "      <td>...</td>\n",
       "      <td>...</td>\n",
       "      <td>...</td>\n",
       "      <td>...</td>\n",
       "      <td>...</td>\n",
       "      <td>...</td>\n",
       "      <td>...</td>\n",
       "      <td>...</td>\n",
       "      <td>...</td>\n",
       "      <td>...</td>\n",
       "      <td>...</td>\n",
       "      <td>...</td>\n",
       "      <td>...</td>\n",
       "      <td>...</td>\n",
       "      <td>...</td>\n",
       "      <td>...</td>\n",
       "      <td>...</td>\n",
       "      <td>...</td>\n",
       "    </tr>\n",
       "    <tr>\n",
       "      <th>1624</th>\n",
       "      <td>0.0</td>\n",
       "      <td>0.0</td>\n",
       "      <td>0.0</td>\n",
       "      <td>0.0</td>\n",
       "      <td>0.0</td>\n",
       "      <td>0.0</td>\n",
       "      <td>0.0</td>\n",
       "      <td>0.0</td>\n",
       "      <td>0.0</td>\n",
       "      <td>0.0</td>\n",
       "      <td>...</td>\n",
       "      <td>0.0</td>\n",
       "      <td>0.0</td>\n",
       "      <td>0.0</td>\n",
       "      <td>1.0</td>\n",
       "      <td>0.0</td>\n",
       "      <td>0.0</td>\n",
       "      <td>0.0</td>\n",
       "      <td>0.0</td>\n",
       "      <td>0.0</td>\n",
       "      <td>0.0</td>\n",
       "    </tr>\n",
       "    <tr>\n",
       "      <th>1625</th>\n",
       "      <td>0.0</td>\n",
       "      <td>0.0</td>\n",
       "      <td>0.0</td>\n",
       "      <td>0.0</td>\n",
       "      <td>0.0</td>\n",
       "      <td>0.0</td>\n",
       "      <td>0.0</td>\n",
       "      <td>0.0</td>\n",
       "      <td>0.0</td>\n",
       "      <td>0.0</td>\n",
       "      <td>...</td>\n",
       "      <td>0.0</td>\n",
       "      <td>0.0</td>\n",
       "      <td>0.0</td>\n",
       "      <td>0.0</td>\n",
       "      <td>0.0</td>\n",
       "      <td>0.0</td>\n",
       "      <td>0.0</td>\n",
       "      <td>0.0</td>\n",
       "      <td>0.0</td>\n",
       "      <td>0.0</td>\n",
       "    </tr>\n",
       "    <tr>\n",
       "      <th>1626</th>\n",
       "      <td>0.0</td>\n",
       "      <td>0.0</td>\n",
       "      <td>0.0</td>\n",
       "      <td>0.0</td>\n",
       "      <td>0.0</td>\n",
       "      <td>0.0</td>\n",
       "      <td>0.0</td>\n",
       "      <td>0.0</td>\n",
       "      <td>0.0</td>\n",
       "      <td>0.0</td>\n",
       "      <td>...</td>\n",
       "      <td>0.0</td>\n",
       "      <td>0.0</td>\n",
       "      <td>0.0</td>\n",
       "      <td>0.0</td>\n",
       "      <td>0.0</td>\n",
       "      <td>1.0</td>\n",
       "      <td>0.0</td>\n",
       "      <td>0.0</td>\n",
       "      <td>0.0</td>\n",
       "      <td>0.0</td>\n",
       "    </tr>\n",
       "    <tr>\n",
       "      <th>1627</th>\n",
       "      <td>0.0</td>\n",
       "      <td>0.0</td>\n",
       "      <td>0.0</td>\n",
       "      <td>0.0</td>\n",
       "      <td>0.0</td>\n",
       "      <td>0.0</td>\n",
       "      <td>0.0</td>\n",
       "      <td>0.0</td>\n",
       "      <td>0.0</td>\n",
       "      <td>0.0</td>\n",
       "      <td>...</td>\n",
       "      <td>0.0</td>\n",
       "      <td>0.0</td>\n",
       "      <td>0.0</td>\n",
       "      <td>0.0</td>\n",
       "      <td>0.0</td>\n",
       "      <td>0.0</td>\n",
       "      <td>0.0</td>\n",
       "      <td>0.0</td>\n",
       "      <td>0.0</td>\n",
       "      <td>0.0</td>\n",
       "    </tr>\n",
       "    <tr>\n",
       "      <th>1628</th>\n",
       "      <td>0.0</td>\n",
       "      <td>0.0</td>\n",
       "      <td>0.0</td>\n",
       "      <td>0.0</td>\n",
       "      <td>0.0</td>\n",
       "      <td>0.0</td>\n",
       "      <td>0.0</td>\n",
       "      <td>0.0</td>\n",
       "      <td>0.0</td>\n",
       "      <td>0.0</td>\n",
       "      <td>...</td>\n",
       "      <td>0.0</td>\n",
       "      <td>0.0</td>\n",
       "      <td>0.0</td>\n",
       "      <td>0.0</td>\n",
       "      <td>0.0</td>\n",
       "      <td>0.0</td>\n",
       "      <td>0.0</td>\n",
       "      <td>0.0</td>\n",
       "      <td>0.0</td>\n",
       "      <td>0.0</td>\n",
       "    </tr>\n",
       "  </tbody>\n",
       "</table>\n",
       "<p>1629 rows × 43 columns</p>\n",
       "</div>"
      ],
      "text/plain": [
       "     AB Chowk Amanora Town Amanora town Ambegaon Balaji Nagar Baner Bavdhan  \\\n",
       "0         0.0          0.0          0.0      0.0          0.0   0.0     1.0   \n",
       "1         0.0          0.0          0.0      0.0          0.0   0.0     0.0   \n",
       "2         0.0          0.0          0.0      0.0          0.0   0.0     0.0   \n",
       "3         0.0          0.0          0.0      0.0          0.0   0.0     0.0   \n",
       "4         0.0          0.0          0.0      0.0          0.0   0.0     0.0   \n",
       "...       ...          ...          ...      ...          ...   ...     ...   \n",
       "1624      0.0          0.0          0.0      0.0          0.0   0.0     0.0   \n",
       "1625      0.0          0.0          0.0      0.0          0.0   0.0     0.0   \n",
       "1626      0.0          0.0          0.0      0.0          0.0   0.0     0.0   \n",
       "1627      0.0          0.0          0.0      0.0          0.0   0.0     0.0   \n",
       "1628      0.0          0.0          0.0      0.0          0.0   0.0     0.0   \n",
       "\n",
       "     Bibwewadi Budhwar Peth Bund Garden  ... Samarth Nagar Shivaji Nagar  \\\n",
       "0          0.0          0.0         0.0  ...           0.0           0.0   \n",
       "1          0.0          0.0         0.0  ...           0.0           0.0   \n",
       "2          0.0          0.0         0.0  ...           0.0           0.0   \n",
       "3          0.0          0.0         0.0  ...           0.0           0.0   \n",
       "4          0.0          0.0         0.0  ...           0.0           0.0   \n",
       "...        ...          ...         ...  ...           ...           ...   \n",
       "1624       0.0          0.0         0.0  ...           0.0           0.0   \n",
       "1625       0.0          0.0         0.0  ...           0.0           0.0   \n",
       "1626       0.0          0.0         0.0  ...           0.0           0.0   \n",
       "1627       0.0          0.0         0.0  ...           0.0           0.0   \n",
       "1628       0.0          0.0         0.0  ...           0.0           0.0   \n",
       "\n",
       "     Shivraj Nagar Sinhgad Road  Sus Swargate Tathawade Vighnaharta Nagar  \\\n",
       "0              0.0          0.0  0.0      0.0       0.0               0.0   \n",
       "1              0.0          0.0  1.0      0.0       0.0               0.0   \n",
       "2              0.0          0.0  0.0      0.0       1.0               0.0   \n",
       "3              0.0          0.0  0.0      0.0       0.0               0.0   \n",
       "4              0.0          1.0  0.0      0.0       0.0               0.0   \n",
       "...            ...          ...  ...      ...       ...               ...   \n",
       "1624           0.0          1.0  0.0      0.0       0.0               0.0   \n",
       "1625           0.0          0.0  0.0      0.0       0.0               0.0   \n",
       "1626           0.0          0.0  0.0      1.0       0.0               0.0   \n",
       "1627           0.0          0.0  0.0      0.0       0.0               0.0   \n",
       "1628           0.0          0.0  0.0      0.0       0.0               0.0   \n",
       "\n",
       "     Vitthal nagar Wakad  \n",
       "0              0.0   0.0  \n",
       "1              0.0   0.0  \n",
       "2              0.0   0.0  \n",
       "3              0.0   0.0  \n",
       "4              0.0   0.0  \n",
       "...            ...   ...  \n",
       "1624           0.0   0.0  \n",
       "1625           0.0   0.0  \n",
       "1626           0.0   0.0  \n",
       "1627           0.0   0.0  \n",
       "1628           0.0   0.0  \n",
       "\n",
       "[1629 rows x 43 columns]"
      ]
     },
     "execution_count": 158,
     "metadata": {},
     "output_type": "execute_result"
    }
   ],
   "source": [
    "# One hot encoding for location\n",
    "HE_location = OneHotEncoder(sparse=False,drop=)\n",
    "OHE_location_df = OHE_location.fit_transform(data_frame['location'].values.reshape(-1,1))\n",
    "OHE_location_df = pd.DataFrame(OHE_location_df,columns=OHE_location.categories_,index=data_frame.index)\n",
    "OHE_location_df"
   ]
  },
  {
   "cell_type": "code",
   "execution_count": 159,
   "id": "d95237f1",
   "metadata": {},
   "outputs": [
    {
     "data": {
      "text/html": [
       "<div>\n",
       "<style scoped>\n",
       "    .dataframe tbody tr th:only-of-type {\n",
       "        vertical-align: middle;\n",
       "    }\n",
       "\n",
       "    .dataframe tbody tr th {\n",
       "        vertical-align: top;\n",
       "    }\n",
       "\n",
       "    .dataframe thead tr th {\n",
       "        text-align: left;\n",
       "    }\n",
       "</style>\n",
       "<table border=\"1\" class=\"dataframe\">\n",
       "  <thead>\n",
       "    <tr>\n",
       "      <th></th>\n",
       "      <th>Immediate Possession</th>\n",
       "      <th>No_info_available</th>\n",
       "      <th>Ready to move</th>\n",
       "      <th>Under construction</th>\n",
       "    </tr>\n",
       "  </thead>\n",
       "  <tbody>\n",
       "    <tr>\n",
       "      <th>0</th>\n",
       "      <td>0.0</td>\n",
       "      <td>0.0</td>\n",
       "      <td>0.0</td>\n",
       "      <td>1.0</td>\n",
       "    </tr>\n",
       "    <tr>\n",
       "      <th>1</th>\n",
       "      <td>0.0</td>\n",
       "      <td>0.0</td>\n",
       "      <td>0.0</td>\n",
       "      <td>1.0</td>\n",
       "    </tr>\n",
       "    <tr>\n",
       "      <th>2</th>\n",
       "      <td>0.0</td>\n",
       "      <td>0.0</td>\n",
       "      <td>0.0</td>\n",
       "      <td>1.0</td>\n",
       "    </tr>\n",
       "    <tr>\n",
       "      <th>3</th>\n",
       "      <td>0.0</td>\n",
       "      <td>0.0</td>\n",
       "      <td>1.0</td>\n",
       "      <td>0.0</td>\n",
       "    </tr>\n",
       "    <tr>\n",
       "      <th>4</th>\n",
       "      <td>0.0</td>\n",
       "      <td>0.0</td>\n",
       "      <td>1.0</td>\n",
       "      <td>0.0</td>\n",
       "    </tr>\n",
       "    <tr>\n",
       "      <th>...</th>\n",
       "      <td>...</td>\n",
       "      <td>...</td>\n",
       "      <td>...</td>\n",
       "      <td>...</td>\n",
       "    </tr>\n",
       "    <tr>\n",
       "      <th>1624</th>\n",
       "      <td>0.0</td>\n",
       "      <td>1.0</td>\n",
       "      <td>0.0</td>\n",
       "      <td>0.0</td>\n",
       "    </tr>\n",
       "    <tr>\n",
       "      <th>1625</th>\n",
       "      <td>0.0</td>\n",
       "      <td>1.0</td>\n",
       "      <td>0.0</td>\n",
       "      <td>0.0</td>\n",
       "    </tr>\n",
       "    <tr>\n",
       "      <th>1626</th>\n",
       "      <td>0.0</td>\n",
       "      <td>1.0</td>\n",
       "      <td>0.0</td>\n",
       "      <td>0.0</td>\n",
       "    </tr>\n",
       "    <tr>\n",
       "      <th>1627</th>\n",
       "      <td>0.0</td>\n",
       "      <td>1.0</td>\n",
       "      <td>0.0</td>\n",
       "      <td>0.0</td>\n",
       "    </tr>\n",
       "    <tr>\n",
       "      <th>1628</th>\n",
       "      <td>0.0</td>\n",
       "      <td>1.0</td>\n",
       "      <td>0.0</td>\n",
       "      <td>0.0</td>\n",
       "    </tr>\n",
       "  </tbody>\n",
       "</table>\n",
       "<p>1629 rows × 4 columns</p>\n",
       "</div>"
      ],
      "text/plain": [
       "     Immediate Possession No_info_available Ready to move Under construction\n",
       "0                     0.0               0.0           0.0                1.0\n",
       "1                     0.0               0.0           0.0                1.0\n",
       "2                     0.0               0.0           0.0                1.0\n",
       "3                     0.0               0.0           1.0                0.0\n",
       "4                     0.0               0.0           1.0                0.0\n",
       "...                   ...               ...           ...                ...\n",
       "1624                  0.0               1.0           0.0                0.0\n",
       "1625                  0.0               1.0           0.0                0.0\n",
       "1626                  0.0               1.0           0.0                0.0\n",
       "1627                  0.0               1.0           0.0                0.0\n",
       "1628                  0.0               1.0           0.0                0.0\n",
       "\n",
       "[1629 rows x 4 columns]"
      ]
     },
     "execution_count": 159,
     "metadata": {},
     "output_type": "execute_result"
    }
   ],
   "source": [
    "# One hot encoding for availability\n",
    "OHE_availability = OneHotEncoder(sparse=False)\n",
    "OHE_availability_df = OHE_availability.fit_transform(data_frame['availability'].values.reshape(-1,1))\n",
    "OHE_availability_df = pd.DataFrame(OHE_availability_df,columns=OHE_availability.categories_,index=data_frame.index)\n",
    "OHE_availability_df"
   ]
  },
  {
   "cell_type": "code",
   "execution_count": 160,
   "id": "8358b142",
   "metadata": {},
   "outputs": [
    {
     "data": {
      "text/html": [
       "<div>\n",
       "<style scoped>\n",
       "    .dataframe tbody tr th:only-of-type {\n",
       "        vertical-align: middle;\n",
       "    }\n",
       "\n",
       "    .dataframe tbody tr th {\n",
       "        vertical-align: top;\n",
       "    }\n",
       "\n",
       "    .dataframe thead th {\n",
       "        text-align: right;\n",
       "    }\n",
       "</style>\n",
       "<table border=\"1\" class=\"dataframe\">\n",
       "  <thead>\n",
       "    <tr style=\"text-align: right;\">\n",
       "      <th></th>\n",
       "      <th>area_type</th>\n",
       "      <th>Society</th>\n",
       "      <th>size</th>\n",
       "      <th>Baths</th>\n",
       "      <th>total_sqft</th>\n",
       "      <th>price</th>\n",
       "      <th>(Immediate Possession,)</th>\n",
       "      <th>(No_info_available,)</th>\n",
       "      <th>(Ready to move,)</th>\n",
       "      <th>(Under construction,)</th>\n",
       "      <th>...</th>\n",
       "      <th>(Samarth Nagar,)</th>\n",
       "      <th>(Shivaji Nagar,)</th>\n",
       "      <th>(Shivraj Nagar,)</th>\n",
       "      <th>(Sinhgad Road,)</th>\n",
       "      <th>(Sus,)</th>\n",
       "      <th>(Swargate,)</th>\n",
       "      <th>(Tathawade,)</th>\n",
       "      <th>(Vighnaharta Nagar,)</th>\n",
       "      <th>(Vitthal nagar,)</th>\n",
       "      <th>(Wakad,)</th>\n",
       "    </tr>\n",
       "  </thead>\n",
       "  <tbody>\n",
       "    <tr>\n",
       "      <th>0</th>\n",
       "      <td>Super Built-up Area</td>\n",
       "      <td>Satyam Shrey</td>\n",
       "      <td>2</td>\n",
       "      <td>2.0</td>\n",
       "      <td>640</td>\n",
       "      <td>55.96</td>\n",
       "      <td>0.0</td>\n",
       "      <td>0.0</td>\n",
       "      <td>0.0</td>\n",
       "      <td>1.0</td>\n",
       "      <td>...</td>\n",
       "      <td>0.0</td>\n",
       "      <td>0.0</td>\n",
       "      <td>0.0</td>\n",
       "      <td>0.0</td>\n",
       "      <td>0.0</td>\n",
       "      <td>0.0</td>\n",
       "      <td>0.0</td>\n",
       "      <td>0.0</td>\n",
       "      <td>0.0</td>\n",
       "      <td>0.0</td>\n",
       "    </tr>\n",
       "    <tr>\n",
       "      <th>1</th>\n",
       "      <td>Built-up Area</td>\n",
       "      <td>Kiran Sanskriti</td>\n",
       "      <td>2</td>\n",
       "      <td>2.0</td>\n",
       "      <td>705.0</td>\n",
       "      <td>45.00</td>\n",
       "      <td>0.0</td>\n",
       "      <td>0.0</td>\n",
       "      <td>0.0</td>\n",
       "      <td>1.0</td>\n",
       "      <td>...</td>\n",
       "      <td>0.0</td>\n",
       "      <td>0.0</td>\n",
       "      <td>0.0</td>\n",
       "      <td>0.0</td>\n",
       "      <td>1.0</td>\n",
       "      <td>0.0</td>\n",
       "      <td>0.0</td>\n",
       "      <td>0.0</td>\n",
       "      <td>0.0</td>\n",
       "      <td>0.0</td>\n",
       "    </tr>\n",
       "    <tr>\n",
       "      <th>2</th>\n",
       "      <td>Built-up Area</td>\n",
       "      <td>Vivanta</td>\n",
       "      <td>2</td>\n",
       "      <td>2.0</td>\n",
       "      <td>690.5</td>\n",
       "      <td>60.00</td>\n",
       "      <td>0.0</td>\n",
       "      <td>0.0</td>\n",
       "      <td>0.0</td>\n",
       "      <td>1.0</td>\n",
       "      <td>...</td>\n",
       "      <td>0.0</td>\n",
       "      <td>0.0</td>\n",
       "      <td>0.0</td>\n",
       "      <td>0.0</td>\n",
       "      <td>0.0</td>\n",
       "      <td>0.0</td>\n",
       "      <td>1.0</td>\n",
       "      <td>0.0</td>\n",
       "      <td>0.0</td>\n",
       "      <td>0.0</td>\n",
       "    </tr>\n",
       "    <tr>\n",
       "      <th>3</th>\n",
       "      <td>Super Built-up Area</td>\n",
       "      <td>Sunit Anant</td>\n",
       "      <td>3</td>\n",
       "      <td>3.0</td>\n",
       "      <td>1659</td>\n",
       "      <td>210.00</td>\n",
       "      <td>0.0</td>\n",
       "      <td>0.0</td>\n",
       "      <td>1.0</td>\n",
       "      <td>0.0</td>\n",
       "      <td>...</td>\n",
       "      <td>0.0</td>\n",
       "      <td>0.0</td>\n",
       "      <td>0.0</td>\n",
       "      <td>0.0</td>\n",
       "      <td>0.0</td>\n",
       "      <td>0.0</td>\n",
       "      <td>0.0</td>\n",
       "      <td>0.0</td>\n",
       "      <td>0.0</td>\n",
       "      <td>0.0</td>\n",
       "    </tr>\n",
       "    <tr>\n",
       "      <th>4</th>\n",
       "      <td>Built-up Area</td>\n",
       "      <td>Nanded city</td>\n",
       "      <td>3</td>\n",
       "      <td>3.0</td>\n",
       "      <td>1450</td>\n",
       "      <td>78.00</td>\n",
       "      <td>0.0</td>\n",
       "      <td>0.0</td>\n",
       "      <td>1.0</td>\n",
       "      <td>0.0</td>\n",
       "      <td>...</td>\n",
       "      <td>0.0</td>\n",
       "      <td>0.0</td>\n",
       "      <td>0.0</td>\n",
       "      <td>1.0</td>\n",
       "      <td>0.0</td>\n",
       "      <td>0.0</td>\n",
       "      <td>0.0</td>\n",
       "      <td>0.0</td>\n",
       "      <td>0.0</td>\n",
       "      <td>0.0</td>\n",
       "    </tr>\n",
       "    <tr>\n",
       "      <th>...</th>\n",
       "      <td>...</td>\n",
       "      <td>...</td>\n",
       "      <td>...</td>\n",
       "      <td>...</td>\n",
       "      <td>...</td>\n",
       "      <td>...</td>\n",
       "      <td>...</td>\n",
       "      <td>...</td>\n",
       "      <td>...</td>\n",
       "      <td>...</td>\n",
       "      <td>...</td>\n",
       "      <td>...</td>\n",
       "      <td>...</td>\n",
       "      <td>...</td>\n",
       "      <td>...</td>\n",
       "      <td>...</td>\n",
       "      <td>...</td>\n",
       "      <td>...</td>\n",
       "      <td>...</td>\n",
       "      <td>...</td>\n",
       "      <td>...</td>\n",
       "    </tr>\n",
       "    <tr>\n",
       "      <th>1624</th>\n",
       "      <td>NaN</td>\n",
       "      <td>NaN</td>\n",
       "      <td>2</td>\n",
       "      <td>2.0</td>\n",
       "      <td>1175</td>\n",
       "      <td>73.50</td>\n",
       "      <td>0.0</td>\n",
       "      <td>1.0</td>\n",
       "      <td>0.0</td>\n",
       "      <td>0.0</td>\n",
       "      <td>...</td>\n",
       "      <td>0.0</td>\n",
       "      <td>0.0</td>\n",
       "      <td>0.0</td>\n",
       "      <td>1.0</td>\n",
       "      <td>0.0</td>\n",
       "      <td>0.0</td>\n",
       "      <td>0.0</td>\n",
       "      <td>0.0</td>\n",
       "      <td>0.0</td>\n",
       "      <td>0.0</td>\n",
       "    </tr>\n",
       "    <tr>\n",
       "      <th>1625</th>\n",
       "      <td>NaN</td>\n",
       "      <td>NaN</td>\n",
       "      <td>2</td>\n",
       "      <td>2.0</td>\n",
       "      <td>1425</td>\n",
       "      <td>80.00</td>\n",
       "      <td>0.0</td>\n",
       "      <td>1.0</td>\n",
       "      <td>0.0</td>\n",
       "      <td>0.0</td>\n",
       "      <td>...</td>\n",
       "      <td>0.0</td>\n",
       "      <td>0.0</td>\n",
       "      <td>0.0</td>\n",
       "      <td>0.0</td>\n",
       "      <td>0.0</td>\n",
       "      <td>0.0</td>\n",
       "      <td>0.0</td>\n",
       "      <td>0.0</td>\n",
       "      <td>0.0</td>\n",
       "      <td>0.0</td>\n",
       "    </tr>\n",
       "    <tr>\n",
       "      <th>1626</th>\n",
       "      <td>NaN</td>\n",
       "      <td>NaN</td>\n",
       "      <td>1</td>\n",
       "      <td>1.0</td>\n",
       "      <td>1200</td>\n",
       "      <td>20.00</td>\n",
       "      <td>0.0</td>\n",
       "      <td>1.0</td>\n",
       "      <td>0.0</td>\n",
       "      <td>0.0</td>\n",
       "      <td>...</td>\n",
       "      <td>0.0</td>\n",
       "      <td>0.0</td>\n",
       "      <td>0.0</td>\n",
       "      <td>0.0</td>\n",
       "      <td>0.0</td>\n",
       "      <td>1.0</td>\n",
       "      <td>0.0</td>\n",
       "      <td>0.0</td>\n",
       "      <td>0.0</td>\n",
       "      <td>0.0</td>\n",
       "    </tr>\n",
       "    <tr>\n",
       "      <th>1627</th>\n",
       "      <td>NaN</td>\n",
       "      <td>NaN</td>\n",
       "      <td>3</td>\n",
       "      <td>3.0</td>\n",
       "      <td>1200</td>\n",
       "      <td>56.12</td>\n",
       "      <td>0.0</td>\n",
       "      <td>1.0</td>\n",
       "      <td>0.0</td>\n",
       "      <td>0.0</td>\n",
       "      <td>...</td>\n",
       "      <td>0.0</td>\n",
       "      <td>0.0</td>\n",
       "      <td>0.0</td>\n",
       "      <td>0.0</td>\n",
       "      <td>0.0</td>\n",
       "      <td>0.0</td>\n",
       "      <td>0.0</td>\n",
       "      <td>0.0</td>\n",
       "      <td>0.0</td>\n",
       "      <td>0.0</td>\n",
       "    </tr>\n",
       "    <tr>\n",
       "      <th>1628</th>\n",
       "      <td>NaN</td>\n",
       "      <td>NaN</td>\n",
       "      <td>2</td>\n",
       "      <td>2.0</td>\n",
       "      <td>1255</td>\n",
       "      <td>67.00</td>\n",
       "      <td>0.0</td>\n",
       "      <td>1.0</td>\n",
       "      <td>0.0</td>\n",
       "      <td>0.0</td>\n",
       "      <td>...</td>\n",
       "      <td>0.0</td>\n",
       "      <td>0.0</td>\n",
       "      <td>0.0</td>\n",
       "      <td>0.0</td>\n",
       "      <td>0.0</td>\n",
       "      <td>0.0</td>\n",
       "      <td>0.0</td>\n",
       "      <td>0.0</td>\n",
       "      <td>0.0</td>\n",
       "      <td>0.0</td>\n",
       "    </tr>\n",
       "  </tbody>\n",
       "</table>\n",
       "<p>1629 rows × 53 columns</p>\n",
       "</div>"
      ],
      "text/plain": [
       "                area_type          Society size Baths total_sqft   price  \\\n",
       "0     Super Built-up Area     Satyam Shrey    2   2.0        640   55.96   \n",
       "1           Built-up Area  Kiran Sanskriti    2   2.0      705.0   45.00   \n",
       "2           Built-up Area          Vivanta    2   2.0      690.5   60.00   \n",
       "3     Super Built-up Area      Sunit Anant    3   3.0       1659  210.00   \n",
       "4           Built-up Area      Nanded city    3   3.0       1450   78.00   \n",
       "...                   ...              ...  ...   ...        ...     ...   \n",
       "1624                  NaN              NaN    2   2.0       1175   73.50   \n",
       "1625                  NaN              NaN    2   2.0       1425   80.00   \n",
       "1626                  NaN              NaN    1   1.0       1200   20.00   \n",
       "1627                  NaN              NaN    3   3.0       1200   56.12   \n",
       "1628                  NaN              NaN    2   2.0       1255   67.00   \n",
       "\n",
       "      (Immediate Possession,)  (No_info_available,)  (Ready to move,)  \\\n",
       "0                         0.0                   0.0               0.0   \n",
       "1                         0.0                   0.0               0.0   \n",
       "2                         0.0                   0.0               0.0   \n",
       "3                         0.0                   0.0               1.0   \n",
       "4                         0.0                   0.0               1.0   \n",
       "...                       ...                   ...               ...   \n",
       "1624                      0.0                   1.0               0.0   \n",
       "1625                      0.0                   1.0               0.0   \n",
       "1626                      0.0                   1.0               0.0   \n",
       "1627                      0.0                   1.0               0.0   \n",
       "1628                      0.0                   1.0               0.0   \n",
       "\n",
       "      (Under construction,)  ...  (Samarth Nagar,)  (Shivaji Nagar,)  \\\n",
       "0                       1.0  ...               0.0               0.0   \n",
       "1                       1.0  ...               0.0               0.0   \n",
       "2                       1.0  ...               0.0               0.0   \n",
       "3                       0.0  ...               0.0               0.0   \n",
       "4                       0.0  ...               0.0               0.0   \n",
       "...                     ...  ...               ...               ...   \n",
       "1624                    0.0  ...               0.0               0.0   \n",
       "1625                    0.0  ...               0.0               0.0   \n",
       "1626                    0.0  ...               0.0               0.0   \n",
       "1627                    0.0  ...               0.0               0.0   \n",
       "1628                    0.0  ...               0.0               0.0   \n",
       "\n",
       "      (Shivraj Nagar,)  (Sinhgad Road,)  (Sus,)  (Swargate,)  (Tathawade,)  \\\n",
       "0                  0.0              0.0     0.0          0.0           0.0   \n",
       "1                  0.0              0.0     1.0          0.0           0.0   \n",
       "2                  0.0              0.0     0.0          0.0           1.0   \n",
       "3                  0.0              0.0     0.0          0.0           0.0   \n",
       "4                  0.0              1.0     0.0          0.0           0.0   \n",
       "...                ...              ...     ...          ...           ...   \n",
       "1624               0.0              1.0     0.0          0.0           0.0   \n",
       "1625               0.0              0.0     0.0          0.0           0.0   \n",
       "1626               0.0              0.0     0.0          1.0           0.0   \n",
       "1627               0.0              0.0     0.0          0.0           0.0   \n",
       "1628               0.0              0.0     0.0          0.0           0.0   \n",
       "\n",
       "      (Vighnaharta Nagar,)  (Vitthal nagar,)  (Wakad,)  \n",
       "0                      0.0               0.0       0.0  \n",
       "1                      0.0               0.0       0.0  \n",
       "2                      0.0               0.0       0.0  \n",
       "3                      0.0               0.0       0.0  \n",
       "4                      0.0               0.0       0.0  \n",
       "...                    ...               ...       ...  \n",
       "1624                   0.0               0.0       0.0  \n",
       "1625                   0.0               0.0       0.0  \n",
       "1626                   0.0               0.0       0.0  \n",
       "1627                   0.0               0.0       0.0  \n",
       "1628                   0.0               0.0       0.0  \n",
       "\n",
       "[1629 rows x 53 columns]"
      ]
     },
     "execution_count": 160,
     "metadata": {},
     "output_type": "execute_result"
    }
   ],
   "source": [
    "data_frame = pd.concat([data_frame,OHE_availability_df,OHE_location_df],axis=1)\n",
    "data_frame.drop(['availability','location'],axis=1,inplace=True)\n",
    "data_frame"
   ]
  },
  {
   "cell_type": "code",
   "execution_count": 161,
   "id": "f2406bc7",
   "metadata": {},
   "outputs": [
    {
     "data": {
      "text/html": [
       "<div>\n",
       "<style scoped>\n",
       "    .dataframe tbody tr th:only-of-type {\n",
       "        vertical-align: middle;\n",
       "    }\n",
       "\n",
       "    .dataframe tbody tr th {\n",
       "        vertical-align: top;\n",
       "    }\n",
       "\n",
       "    .dataframe thead th {\n",
       "        text-align: right;\n",
       "    }\n",
       "</style>\n",
       "<table border=\"1\" class=\"dataframe\">\n",
       "  <thead>\n",
       "    <tr style=\"text-align: right;\">\n",
       "      <th></th>\n",
       "      <th>area_type_Carpet Area</th>\n",
       "      <th>area_type_Plot Area</th>\n",
       "      <th>area_type_Super Built-up Area</th>\n",
       "      <th>area_type_Villa</th>\n",
       "      <th>Society_ARV Royale</th>\n",
       "      <th>Society_Aboli Apartment</th>\n",
       "      <th>Society_Ace</th>\n",
       "      <th>Society_Ace Meghsparsh</th>\n",
       "      <th>Society_Aditya Chintamani</th>\n",
       "      <th>Society_Ajanta</th>\n",
       "      <th>...</th>\n",
       "      <th>Society_Wonder city</th>\n",
       "      <th>Society_Wondercity</th>\n",
       "      <th>Society_Zambre Heights</th>\n",
       "      <th>Society_balaji Nagar</th>\n",
       "      <th>Society_greenwoods</th>\n",
       "      <th>Society_jhala complex</th>\n",
       "      <th>Society_kala nagar</th>\n",
       "      <th>Society_konark</th>\n",
       "      <th>Society_omkar park</th>\n",
       "      <th>Society_soba savera</th>\n",
       "    </tr>\n",
       "  </thead>\n",
       "  <tbody>\n",
       "    <tr>\n",
       "      <th>0</th>\n",
       "      <td>0</td>\n",
       "      <td>0</td>\n",
       "      <td>1</td>\n",
       "      <td>0</td>\n",
       "      <td>0</td>\n",
       "      <td>0</td>\n",
       "      <td>0</td>\n",
       "      <td>0</td>\n",
       "      <td>0</td>\n",
       "      <td>0</td>\n",
       "      <td>...</td>\n",
       "      <td>0</td>\n",
       "      <td>0</td>\n",
       "      <td>0</td>\n",
       "      <td>0</td>\n",
       "      <td>0</td>\n",
       "      <td>0</td>\n",
       "      <td>0</td>\n",
       "      <td>0</td>\n",
       "      <td>0</td>\n",
       "      <td>0</td>\n",
       "    </tr>\n",
       "    <tr>\n",
       "      <th>1</th>\n",
       "      <td>0</td>\n",
       "      <td>0</td>\n",
       "      <td>0</td>\n",
       "      <td>0</td>\n",
       "      <td>0</td>\n",
       "      <td>0</td>\n",
       "      <td>0</td>\n",
       "      <td>0</td>\n",
       "      <td>0</td>\n",
       "      <td>0</td>\n",
       "      <td>...</td>\n",
       "      <td>0</td>\n",
       "      <td>0</td>\n",
       "      <td>0</td>\n",
       "      <td>0</td>\n",
       "      <td>0</td>\n",
       "      <td>0</td>\n",
       "      <td>0</td>\n",
       "      <td>0</td>\n",
       "      <td>0</td>\n",
       "      <td>0</td>\n",
       "    </tr>\n",
       "    <tr>\n",
       "      <th>2</th>\n",
       "      <td>0</td>\n",
       "      <td>0</td>\n",
       "      <td>0</td>\n",
       "      <td>0</td>\n",
       "      <td>0</td>\n",
       "      <td>0</td>\n",
       "      <td>0</td>\n",
       "      <td>0</td>\n",
       "      <td>0</td>\n",
       "      <td>0</td>\n",
       "      <td>...</td>\n",
       "      <td>0</td>\n",
       "      <td>0</td>\n",
       "      <td>0</td>\n",
       "      <td>0</td>\n",
       "      <td>0</td>\n",
       "      <td>0</td>\n",
       "      <td>0</td>\n",
       "      <td>0</td>\n",
       "      <td>0</td>\n",
       "      <td>0</td>\n",
       "    </tr>\n",
       "    <tr>\n",
       "      <th>3</th>\n",
       "      <td>0</td>\n",
       "      <td>0</td>\n",
       "      <td>1</td>\n",
       "      <td>0</td>\n",
       "      <td>0</td>\n",
       "      <td>0</td>\n",
       "      <td>0</td>\n",
       "      <td>0</td>\n",
       "      <td>0</td>\n",
       "      <td>0</td>\n",
       "      <td>...</td>\n",
       "      <td>0</td>\n",
       "      <td>0</td>\n",
       "      <td>0</td>\n",
       "      <td>0</td>\n",
       "      <td>0</td>\n",
       "      <td>0</td>\n",
       "      <td>0</td>\n",
       "      <td>0</td>\n",
       "      <td>0</td>\n",
       "      <td>0</td>\n",
       "    </tr>\n",
       "    <tr>\n",
       "      <th>4</th>\n",
       "      <td>0</td>\n",
       "      <td>0</td>\n",
       "      <td>0</td>\n",
       "      <td>0</td>\n",
       "      <td>0</td>\n",
       "      <td>0</td>\n",
       "      <td>0</td>\n",
       "      <td>0</td>\n",
       "      <td>0</td>\n",
       "      <td>0</td>\n",
       "      <td>...</td>\n",
       "      <td>0</td>\n",
       "      <td>0</td>\n",
       "      <td>0</td>\n",
       "      <td>0</td>\n",
       "      <td>0</td>\n",
       "      <td>0</td>\n",
       "      <td>0</td>\n",
       "      <td>0</td>\n",
       "      <td>0</td>\n",
       "      <td>0</td>\n",
       "    </tr>\n",
       "  </tbody>\n",
       "</table>\n",
       "<p>5 rows × 230 columns</p>\n",
       "</div>"
      ],
      "text/plain": [
       "   area_type_Carpet Area  area_type_Plot Area  area_type_Super Built-up Area  \\\n",
       "0                      0                    0                              1   \n",
       "1                      0                    0                              0   \n",
       "2                      0                    0                              0   \n",
       "3                      0                    0                              1   \n",
       "4                      0                    0                              0   \n",
       "\n",
       "   area_type_Villa  Society_ARV Royale  Society_Aboli Apartment  Society_Ace   \\\n",
       "0                0                   0                        0             0   \n",
       "1                0                   0                        0             0   \n",
       "2                0                   0                        0             0   \n",
       "3                0                   0                        0             0   \n",
       "4                0                   0                        0             0   \n",
       "\n",
       "   Society_Ace Meghsparsh  Society_Aditya Chintamani  Society_Ajanta  ...  \\\n",
       "0                       0                          0               0  ...   \n",
       "1                       0                          0               0  ...   \n",
       "2                       0                          0               0  ...   \n",
       "3                       0                          0               0  ...   \n",
       "4                       0                          0               0  ...   \n",
       "\n",
       "   Society_Wonder city  Society_Wondercity  Society_Zambre Heights  \\\n",
       "0                    0                   0                       0   \n",
       "1                    0                   0                       0   \n",
       "2                    0                   0                       0   \n",
       "3                    0                   0                       0   \n",
       "4                    0                   0                       0   \n",
       "\n",
       "   Society_balaji Nagar  Society_greenwoods  Society_jhala complex  \\\n",
       "0                     0                   0                      0   \n",
       "1                     0                   0                      0   \n",
       "2                     0                   0                      0   \n",
       "3                     0                   0                      0   \n",
       "4                     0                   0                      0   \n",
       "\n",
       "   Society_kala nagar  Society_konark  Society_omkar park  Society_soba savera  \n",
       "0                   0               0                   0                    0  \n",
       "1                   0               0                   0                    0  \n",
       "2                   0               0                   0                    0  \n",
       "3                   0               0                   0                    0  \n",
       "4                   0               0                   0                    0  \n",
       "\n",
       "[5 rows x 230 columns]"
      ]
     },
     "execution_count": 161,
     "metadata": {},
     "output_type": "execute_result"
    }
   ],
   "source": [
    "### Imputation by K-NN for missing values\n",
    "cat_variables = data_frame[['area_type','Society']]\n",
    "cat_dummies = pd.get_dummies(cat_variables, drop_first=True)\n",
    "cat_dummies.head()"
   ]
  },
  {
   "cell_type": "code",
   "execution_count": 162,
   "id": "cf6a6059",
   "metadata": {},
   "outputs": [
    {
     "data": {
      "text/html": [
       "<div>\n",
       "<style scoped>\n",
       "    .dataframe tbody tr th:only-of-type {\n",
       "        vertical-align: middle;\n",
       "    }\n",
       "\n",
       "    .dataframe tbody tr th {\n",
       "        vertical-align: top;\n",
       "    }\n",
       "\n",
       "    .dataframe thead th {\n",
       "        text-align: right;\n",
       "    }\n",
       "</style>\n",
       "<table border=\"1\" class=\"dataframe\">\n",
       "  <thead>\n",
       "    <tr style=\"text-align: right;\">\n",
       "      <th></th>\n",
       "      <th>size</th>\n",
       "      <th>Baths</th>\n",
       "      <th>total_sqft</th>\n",
       "      <th>price</th>\n",
       "      <th>(Immediate Possession,)</th>\n",
       "      <th>(No_info_available,)</th>\n",
       "      <th>(Ready to move,)</th>\n",
       "      <th>(Under construction,)</th>\n",
       "      <th>(AB Chowk,)</th>\n",
       "      <th>(Amanora Town,)</th>\n",
       "      <th>...</th>\n",
       "      <th>Society_Wonder city</th>\n",
       "      <th>Society_Wondercity</th>\n",
       "      <th>Society_Zambre Heights</th>\n",
       "      <th>Society_balaji Nagar</th>\n",
       "      <th>Society_greenwoods</th>\n",
       "      <th>Society_jhala complex</th>\n",
       "      <th>Society_kala nagar</th>\n",
       "      <th>Society_konark</th>\n",
       "      <th>Society_omkar park</th>\n",
       "      <th>Society_soba savera</th>\n",
       "    </tr>\n",
       "  </thead>\n",
       "  <tbody>\n",
       "    <tr>\n",
       "      <th>0</th>\n",
       "      <td>2</td>\n",
       "      <td>2.0</td>\n",
       "      <td>640</td>\n",
       "      <td>55.96</td>\n",
       "      <td>0.0</td>\n",
       "      <td>0.0</td>\n",
       "      <td>0.0</td>\n",
       "      <td>1.0</td>\n",
       "      <td>0.0</td>\n",
       "      <td>0.0</td>\n",
       "      <td>...</td>\n",
       "      <td>0</td>\n",
       "      <td>0</td>\n",
       "      <td>0</td>\n",
       "      <td>0</td>\n",
       "      <td>0</td>\n",
       "      <td>0</td>\n",
       "      <td>0</td>\n",
       "      <td>0</td>\n",
       "      <td>0</td>\n",
       "      <td>0</td>\n",
       "    </tr>\n",
       "    <tr>\n",
       "      <th>1</th>\n",
       "      <td>2</td>\n",
       "      <td>2.0</td>\n",
       "      <td>705.0</td>\n",
       "      <td>45.00</td>\n",
       "      <td>0.0</td>\n",
       "      <td>0.0</td>\n",
       "      <td>0.0</td>\n",
       "      <td>1.0</td>\n",
       "      <td>0.0</td>\n",
       "      <td>0.0</td>\n",
       "      <td>...</td>\n",
       "      <td>0</td>\n",
       "      <td>0</td>\n",
       "      <td>0</td>\n",
       "      <td>0</td>\n",
       "      <td>0</td>\n",
       "      <td>0</td>\n",
       "      <td>0</td>\n",
       "      <td>0</td>\n",
       "      <td>0</td>\n",
       "      <td>0</td>\n",
       "    </tr>\n",
       "    <tr>\n",
       "      <th>2</th>\n",
       "      <td>2</td>\n",
       "      <td>2.0</td>\n",
       "      <td>690.5</td>\n",
       "      <td>60.00</td>\n",
       "      <td>0.0</td>\n",
       "      <td>0.0</td>\n",
       "      <td>0.0</td>\n",
       "      <td>1.0</td>\n",
       "      <td>0.0</td>\n",
       "      <td>0.0</td>\n",
       "      <td>...</td>\n",
       "      <td>0</td>\n",
       "      <td>0</td>\n",
       "      <td>0</td>\n",
       "      <td>0</td>\n",
       "      <td>0</td>\n",
       "      <td>0</td>\n",
       "      <td>0</td>\n",
       "      <td>0</td>\n",
       "      <td>0</td>\n",
       "      <td>0</td>\n",
       "    </tr>\n",
       "    <tr>\n",
       "      <th>3</th>\n",
       "      <td>3</td>\n",
       "      <td>3.0</td>\n",
       "      <td>1659</td>\n",
       "      <td>210.00</td>\n",
       "      <td>0.0</td>\n",
       "      <td>0.0</td>\n",
       "      <td>1.0</td>\n",
       "      <td>0.0</td>\n",
       "      <td>0.0</td>\n",
       "      <td>0.0</td>\n",
       "      <td>...</td>\n",
       "      <td>0</td>\n",
       "      <td>0</td>\n",
       "      <td>0</td>\n",
       "      <td>0</td>\n",
       "      <td>0</td>\n",
       "      <td>0</td>\n",
       "      <td>0</td>\n",
       "      <td>0</td>\n",
       "      <td>0</td>\n",
       "      <td>0</td>\n",
       "    </tr>\n",
       "    <tr>\n",
       "      <th>4</th>\n",
       "      <td>3</td>\n",
       "      <td>3.0</td>\n",
       "      <td>1450</td>\n",
       "      <td>78.00</td>\n",
       "      <td>0.0</td>\n",
       "      <td>0.0</td>\n",
       "      <td>1.0</td>\n",
       "      <td>0.0</td>\n",
       "      <td>0.0</td>\n",
       "      <td>0.0</td>\n",
       "      <td>...</td>\n",
       "      <td>0</td>\n",
       "      <td>0</td>\n",
       "      <td>0</td>\n",
       "      <td>0</td>\n",
       "      <td>0</td>\n",
       "      <td>0</td>\n",
       "      <td>0</td>\n",
       "      <td>0</td>\n",
       "      <td>0</td>\n",
       "      <td>0</td>\n",
       "    </tr>\n",
       "  </tbody>\n",
       "</table>\n",
       "<p>5 rows × 281 columns</p>\n",
       "</div>"
      ],
      "text/plain": [
       "  size Baths total_sqft   price  (Immediate Possession,)  \\\n",
       "0    2   2.0        640   55.96                      0.0   \n",
       "1    2   2.0      705.0   45.00                      0.0   \n",
       "2    2   2.0      690.5   60.00                      0.0   \n",
       "3    3   3.0       1659  210.00                      0.0   \n",
       "4    3   3.0       1450   78.00                      0.0   \n",
       "\n",
       "   (No_info_available,)  (Ready to move,)  (Under construction,)  (AB Chowk,)  \\\n",
       "0                   0.0               0.0                    1.0          0.0   \n",
       "1                   0.0               0.0                    1.0          0.0   \n",
       "2                   0.0               0.0                    1.0          0.0   \n",
       "3                   0.0               1.0                    0.0          0.0   \n",
       "4                   0.0               1.0                    0.0          0.0   \n",
       "\n",
       "   (Amanora Town,)  ...  Society_Wonder city  Society_Wondercity  \\\n",
       "0              0.0  ...                    0                   0   \n",
       "1              0.0  ...                    0                   0   \n",
       "2              0.0  ...                    0                   0   \n",
       "3              0.0  ...                    0                   0   \n",
       "4              0.0  ...                    0                   0   \n",
       "\n",
       "   Society_Zambre Heights  Society_balaji Nagar  Society_greenwoods  \\\n",
       "0                       0                     0                   0   \n",
       "1                       0                     0                   0   \n",
       "2                       0                     0                   0   \n",
       "3                       0                     0                   0   \n",
       "4                       0                     0                   0   \n",
       "\n",
       "   Society_jhala complex  Society_kala nagar  Society_konark  \\\n",
       "0                      0                   0               0   \n",
       "1                      0                   0               0   \n",
       "2                      0                   0               0   \n",
       "3                      0                   0               0   \n",
       "4                      0                   0               0   \n",
       "\n",
       "   Society_omkar park  Society_soba savera  \n",
       "0                   0                    0  \n",
       "1                   0                    0  \n",
       "2                   0                    0  \n",
       "3                   0                    0  \n",
       "4                   0                    0  \n",
       "\n",
       "[5 rows x 281 columns]"
      ]
     },
     "execution_count": 162,
     "metadata": {},
     "output_type": "execute_result"
    }
   ],
   "source": [
    "#removing unwanted features\n",
    "data_frame = data_frame.drop(columns=['area_type','Society'], axis=1)\n",
    "data_frame = pd.concat([data_frame, cat_dummies], axis=1)\n",
    "data_frame.head()"
   ]
  },
  {
   "cell_type": "code",
   "execution_count": 163,
   "id": "475d724c",
   "metadata": {},
   "outputs": [
    {
     "data": {
      "text/html": [
       "<div>\n",
       "<style scoped>\n",
       "    .dataframe tbody tr th:only-of-type {\n",
       "        vertical-align: middle;\n",
       "    }\n",
       "\n",
       "    .dataframe tbody tr th {\n",
       "        vertical-align: top;\n",
       "    }\n",
       "\n",
       "    .dataframe thead th {\n",
       "        text-align: right;\n",
       "    }\n",
       "</style>\n",
       "<table border=\"1\" class=\"dataframe\">\n",
       "  <thead>\n",
       "    <tr style=\"text-align: right;\">\n",
       "      <th></th>\n",
       "      <th>size</th>\n",
       "      <th>Baths</th>\n",
       "      <th>total_sqft</th>\n",
       "      <th>price</th>\n",
       "      <th>(Immediate Possession,)</th>\n",
       "      <th>(No_info_available,)</th>\n",
       "      <th>(Ready to move,)</th>\n",
       "      <th>(Under construction,)</th>\n",
       "      <th>(AB Chowk,)</th>\n",
       "      <th>(Amanora Town,)</th>\n",
       "      <th>...</th>\n",
       "      <th>Society_Wonder city</th>\n",
       "      <th>Society_Wondercity</th>\n",
       "      <th>Society_Zambre Heights</th>\n",
       "      <th>Society_balaji Nagar</th>\n",
       "      <th>Society_greenwoods</th>\n",
       "      <th>Society_jhala complex</th>\n",
       "      <th>Society_kala nagar</th>\n",
       "      <th>Society_konark</th>\n",
       "      <th>Society_omkar park</th>\n",
       "      <th>Society_soba savera</th>\n",
       "    </tr>\n",
       "  </thead>\n",
       "  <tbody>\n",
       "    <tr>\n",
       "      <th>0</th>\n",
       "      <td>0.1</td>\n",
       "      <td>0.1</td>\n",
       "      <td>0.017977</td>\n",
       "      <td>0.020539</td>\n",
       "      <td>0.0</td>\n",
       "      <td>0.0</td>\n",
       "      <td>0.0</td>\n",
       "      <td>1.0</td>\n",
       "      <td>0.0</td>\n",
       "      <td>0.0</td>\n",
       "      <td>...</td>\n",
       "      <td>0.0</td>\n",
       "      <td>0.0</td>\n",
       "      <td>0.0</td>\n",
       "      <td>0.0</td>\n",
       "      <td>0.0</td>\n",
       "      <td>0.0</td>\n",
       "      <td>0.0</td>\n",
       "      <td>0.0</td>\n",
       "      <td>0.0</td>\n",
       "      <td>0.0</td>\n",
       "    </tr>\n",
       "    <tr>\n",
       "      <th>1</th>\n",
       "      <td>0.1</td>\n",
       "      <td>0.1</td>\n",
       "      <td>0.019835</td>\n",
       "      <td>0.015532</td>\n",
       "      <td>0.0</td>\n",
       "      <td>0.0</td>\n",
       "      <td>0.0</td>\n",
       "      <td>1.0</td>\n",
       "      <td>0.0</td>\n",
       "      <td>0.0</td>\n",
       "      <td>...</td>\n",
       "      <td>0.0</td>\n",
       "      <td>0.0</td>\n",
       "      <td>0.0</td>\n",
       "      <td>0.0</td>\n",
       "      <td>0.0</td>\n",
       "      <td>0.0</td>\n",
       "      <td>0.0</td>\n",
       "      <td>0.0</td>\n",
       "      <td>0.0</td>\n",
       "      <td>0.0</td>\n",
       "    </tr>\n",
       "    <tr>\n",
       "      <th>2</th>\n",
       "      <td>0.1</td>\n",
       "      <td>0.1</td>\n",
       "      <td>0.019420</td>\n",
       "      <td>0.022385</td>\n",
       "      <td>0.0</td>\n",
       "      <td>0.0</td>\n",
       "      <td>0.0</td>\n",
       "      <td>1.0</td>\n",
       "      <td>0.0</td>\n",
       "      <td>0.0</td>\n",
       "      <td>...</td>\n",
       "      <td>0.0</td>\n",
       "      <td>0.0</td>\n",
       "      <td>0.0</td>\n",
       "      <td>0.0</td>\n",
       "      <td>0.0</td>\n",
       "      <td>0.0</td>\n",
       "      <td>0.0</td>\n",
       "      <td>0.0</td>\n",
       "      <td>0.0</td>\n",
       "      <td>0.0</td>\n",
       "    </tr>\n",
       "    <tr>\n",
       "      <th>3</th>\n",
       "      <td>0.2</td>\n",
       "      <td>0.2</td>\n",
       "      <td>0.047101</td>\n",
       "      <td>0.090909</td>\n",
       "      <td>0.0</td>\n",
       "      <td>0.0</td>\n",
       "      <td>1.0</td>\n",
       "      <td>0.0</td>\n",
       "      <td>0.0</td>\n",
       "      <td>0.0</td>\n",
       "      <td>...</td>\n",
       "      <td>0.0</td>\n",
       "      <td>0.0</td>\n",
       "      <td>0.0</td>\n",
       "      <td>0.0</td>\n",
       "      <td>0.0</td>\n",
       "      <td>0.0</td>\n",
       "      <td>0.0</td>\n",
       "      <td>0.0</td>\n",
       "      <td>0.0</td>\n",
       "      <td>0.0</td>\n",
       "    </tr>\n",
       "    <tr>\n",
       "      <th>4</th>\n",
       "      <td>0.2</td>\n",
       "      <td>0.2</td>\n",
       "      <td>0.041127</td>\n",
       "      <td>0.030608</td>\n",
       "      <td>0.0</td>\n",
       "      <td>0.0</td>\n",
       "      <td>1.0</td>\n",
       "      <td>0.0</td>\n",
       "      <td>0.0</td>\n",
       "      <td>0.0</td>\n",
       "      <td>...</td>\n",
       "      <td>0.0</td>\n",
       "      <td>0.0</td>\n",
       "      <td>0.0</td>\n",
       "      <td>0.0</td>\n",
       "      <td>0.0</td>\n",
       "      <td>0.0</td>\n",
       "      <td>0.0</td>\n",
       "      <td>0.0</td>\n",
       "      <td>0.0</td>\n",
       "      <td>0.0</td>\n",
       "    </tr>\n",
       "  </tbody>\n",
       "</table>\n",
       "<p>5 rows × 281 columns</p>\n",
       "</div>"
      ],
      "text/plain": [
       "   size  Baths  total_sqft     price  (Immediate Possession,)  \\\n",
       "0   0.1    0.1    0.017977  0.020539                      0.0   \n",
       "1   0.1    0.1    0.019835  0.015532                      0.0   \n",
       "2   0.1    0.1    0.019420  0.022385                      0.0   \n",
       "3   0.2    0.2    0.047101  0.090909                      0.0   \n",
       "4   0.2    0.2    0.041127  0.030608                      0.0   \n",
       "\n",
       "   (No_info_available,)  (Ready to move,)  (Under construction,)  (AB Chowk,)  \\\n",
       "0                   0.0               0.0                    1.0          0.0   \n",
       "1                   0.0               0.0                    1.0          0.0   \n",
       "2                   0.0               0.0                    1.0          0.0   \n",
       "3                   0.0               1.0                    0.0          0.0   \n",
       "4                   0.0               1.0                    0.0          0.0   \n",
       "\n",
       "   (Amanora Town,)  ...  Society_Wonder city  Society_Wondercity  \\\n",
       "0              0.0  ...                  0.0                 0.0   \n",
       "1              0.0  ...                  0.0                 0.0   \n",
       "2              0.0  ...                  0.0                 0.0   \n",
       "3              0.0  ...                  0.0                 0.0   \n",
       "4              0.0  ...                  0.0                 0.0   \n",
       "\n",
       "   Society_Zambre Heights  Society_balaji Nagar  Society_greenwoods  \\\n",
       "0                     0.0                   0.0                 0.0   \n",
       "1                     0.0                   0.0                 0.0   \n",
       "2                     0.0                   0.0                 0.0   \n",
       "3                     0.0                   0.0                 0.0   \n",
       "4                     0.0                   0.0                 0.0   \n",
       "\n",
       "   Society_jhala complex  Society_kala nagar  Society_konark  \\\n",
       "0                    0.0                 0.0             0.0   \n",
       "1                    0.0                 0.0             0.0   \n",
       "2                    0.0                 0.0             0.0   \n",
       "3                    0.0                 0.0             0.0   \n",
       "4                    0.0                 0.0             0.0   \n",
       "\n",
       "   Society_omkar park  Society_soba savera  \n",
       "0                 0.0                  0.0  \n",
       "1                 0.0                  0.0  \n",
       "2                 0.0                  0.0  \n",
       "3                 0.0                  0.0  \n",
       "4                 0.0                  0.0  \n",
       "\n",
       "[5 rows x 281 columns]"
      ]
     },
     "execution_count": 163,
     "metadata": {},
     "output_type": "execute_result"
    }
   ],
   "source": [
    "#scaling mandatory before knn\n",
    "from sklearn.preprocessing import MinMaxScaler\n",
    "\n",
    "scaler = MinMaxScaler()\n",
    "\n",
    "data_frame = pd.DataFrame(scaler.fit_transform(data_frame), columns = data_frame.columns)\n",
    "\n",
    "data_frame.head()"
   ]
  },
  {
   "cell_type": "code",
   "execution_count": 164,
   "id": "1444f9e3",
   "metadata": {},
   "outputs": [
    {
     "data": {
      "text/plain": [
       "size                       0\n",
       "Baths                      0\n",
       "total_sqft                 0\n",
       "price                      0\n",
       "(Immediate Possession,)    0\n",
       "                          ..\n",
       "Society_jhala complex      0\n",
       "Society_kala nagar         0\n",
       "Society_konark             0\n",
       "Society_omkar park         0\n",
       "Society_soba savera        0\n",
       "Length: 281, dtype: int64"
      ]
     },
     "execution_count": 164,
     "metadata": {},
     "output_type": "execute_result"
    }
   ],
   "source": [
    "#knn imputer\n",
    "from sklearn.impute import KNNImputer\n",
    "\n",
    "imputer = KNNImputer(n_neighbors=3)\n",
    "\n",
    "data_frame = pd.DataFrame(imputer.fit_transform(data_frame),columns = data_frame.columns)\n",
    "\n",
    "#checking for missing\n",
    "\n",
    "data_frame.isnull().sum()"
   ]
  },
  {
   "cell_type": "markdown",
   "id": "cd05a8c4",
   "metadata": {},
   "source": [
    "##### Wait Wait Wait"
   ]
  },
  {
   "cell_type": "code",
   "execution_count": 167,
   "id": "4fda6704",
   "metadata": {},
   "outputs": [],
   "source": [
    "x = data_frame.drop('price',axis=1)\n",
    "y = data_frame['price']\n",
    "\n",
    "x_train,x_test,y_train,y_test = train_test_split(x,y,test_size=0.3,random_state=1)"
   ]
  },
  {
   "cell_type": "code",
   "execution_count": 168,
   "id": "eea98741",
   "metadata": {},
   "outputs": [
    {
     "data": {
      "text/plain": [
       "LinearRegression()"
      ]
     },
     "execution_count": 168,
     "metadata": {},
     "output_type": "execute_result"
    }
   ],
   "source": [
    "lr = LinearRegression()\n",
    "lr.fit(x_train,y_train)"
   ]
  },
  {
   "cell_type": "code",
   "execution_count": 169,
   "id": "939aec16",
   "metadata": {},
   "outputs": [
    {
     "name": "stdout",
     "output_type": "stream",
     "text": [
      "Mean_square_error--- 0.001098054538023703\n",
      "R2score--- 0.705312906710527\n"
     ]
    }
   ],
   "source": [
    "# Trainig evaluation\n",
    "\n",
    "training_pred = lr.predict(x_train)\n",
    "error = mean_squared_error(y_train,training_pred)\n",
    "\n",
    "r2score = r2_score(y_train,training_pred)\n",
    "\n",
    "print('Mean_square_error---',error)\n",
    "print(\"R2score---\",r2score)"
   ]
  },
  {
   "cell_type": "code",
   "execution_count": 171,
   "id": "075d5af2",
   "metadata": {},
   "outputs": [
    {
     "name": "stdout",
     "output_type": "stream",
     "text": [
      "Mean_square_error--- 3.6544986456008135e+19\n",
      "R2score--- ( -8.985104625241173e+21 )\n"
     ]
    }
   ],
   "source": [
    "# Test evaluation\n",
    "\n",
    "test_pred = lr.predict(x_test)\n",
    "error = mean_squared_error(y_test,test_pred)\n",
    "\n",
    "r2score = r2_score(y_test,test_pred)\n",
    "\n",
    "print('Mean_square_error---',error)\n",
    "print(\"R2score---\",'(',r2score,')')"
   ]
  },
  {
   "cell_type": "code",
   "execution_count": null,
   "id": "836dfe12",
   "metadata": {},
   "outputs": [],
   "source": []
  }
 ],
 "metadata": {
  "kernelspec": {
   "display_name": "Python 3 (ipykernel)",
   "language": "python",
   "name": "python3"
  },
  "language_info": {
   "codemirror_mode": {
    "name": "ipython",
    "version": 3
   },
   "file_extension": ".py",
   "mimetype": "text/x-python",
   "name": "python",
   "nbconvert_exporter": "python",
   "pygments_lexer": "ipython3",
   "version": "3.9.7"
  }
 },
 "nbformat": 4,
 "nbformat_minor": 5
}
