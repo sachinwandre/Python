{
 "cells": [
  {
   "cell_type": "markdown",
   "id": "ee18049f",
   "metadata": {},
   "source": [
    "### Write a Python Program to find the area of a circle"
   ]
  },
  {
   "cell_type": "code",
   "execution_count": 1,
   "id": "3209395b",
   "metadata": {},
   "outputs": [
    {
     "name": "stdout",
     "output_type": "stream",
     "text": [
      "Enter the radius of circle\t5\n",
      "Area of circle is = 78.5\n"
     ]
    }
   ],
   "source": [
    "radius = float(input(\"Enter the radius of circle\\t\"))\n",
    "print(\"Area of circle is =\", 3.14*radius*radius)"
   ]
  },
  {
   "cell_type": "markdown",
   "id": "86f661bf",
   "metadata": {},
   "source": [
    "### Python Program to find Sum of squares of first n natural numbers"
   ]
  },
  {
   "cell_type": "code",
   "execution_count": 2,
   "id": "6e38ce7f",
   "metadata": {},
   "outputs": [
    {
     "name": "stdout",
     "output_type": "stream",
     "text": [
      "385\n"
     ]
    }
   ],
   "source": [
    "sum = 0 \n",
    "\n",
    "for i in range(11):\n",
    "    sum = sum + (i*i)\n",
    "print(sum)"
   ]
  },
  {
   "cell_type": "code",
   "execution_count": 3,
   "id": "5aa437fc",
   "metadata": {},
   "outputs": [
    {
     "name": "stdout",
     "output_type": "stream",
     "text": [
      "385\n"
     ]
    }
   ],
   "source": [
    "sum = 0 \n",
    "\n",
    "for i in range(11):\n",
    "    sum = sum + pow(i,2)\n",
    "print(sum)"
   ]
  },
  {
   "cell_type": "markdown",
   "id": "9c7a620c",
   "metadata": {},
   "source": [
    "### Python Program to find cube sum of first n natural numbers"
   ]
  },
  {
   "cell_type": "code",
   "execution_count": 4,
   "id": "4178b58c",
   "metadata": {},
   "outputs": [
    {
     "name": "stdout",
     "output_type": "stream",
     "text": [
      "3025\n"
     ]
    }
   ],
   "source": [
    "sum = 0 \n",
    "\n",
    "for i in range(11):\n",
    "    sum = sum + pow(i,3)\n",
    "print(sum)"
   ]
  },
  {
   "cell_type": "code",
   "execution_count": 5,
   "id": "0b756196",
   "metadata": {},
   "outputs": [
    {
     "name": "stdout",
     "output_type": "stream",
     "text": [
      "3025\n"
     ]
    }
   ],
   "source": [
    "sum = 0 \n",
    "\n",
    "for i in range(11):\n",
    "    sum = sum + i**3\n",
    "print(sum)"
   ]
  },
  {
   "cell_type": "markdown",
   "id": "634a4097",
   "metadata": {},
   "source": [
    "### Python Program to find simple interest and compound interest"
   ]
  },
  {
   "cell_type": "code",
   "execution_count": 6,
   "id": "89c6003a",
   "metadata": {},
   "outputs": [
    {
     "name": "stdout",
     "output_type": "stream",
     "text": [
      "Compound interest is 6288.946267774416\n"
     ]
    }
   ],
   "source": [
    "def compound_interest(principle, rate, time):\n",
    " \n",
    "    # Calculates compound interest\n",
    "    Amount = principle * (pow((1 + rate / 100), time))\n",
    "    CI = Amount - principle\n",
    "    print(\"Compound interest is\", CI)\n",
    " \n",
    " \n",
    "# Driver Code\n",
    "compound_interest(10000, 10.25, 5)"
   ]
  },
  {
   "cell_type": "code",
   "execution_count": 7,
   "id": "2d299284",
   "metadata": {},
   "outputs": [
    {
     "name": "stdout",
     "output_type": "stream",
     "text": [
      "Enter Principle:1250\n",
      "Enter Rate:8.5\n",
      "Enter Time(n Years):5\n",
      "Simple Interest: 531.25\n",
      "Compound Interest: 629.5708627226559\n"
     ]
    }
   ],
   "source": [
    "Principle = float(input(\"Enter Principle:\"))\n",
    "Rate = float(input(\"Enter Rate:\"))\n",
    "Time = float(input(\"Enter Time(n Years):\"))\n",
    "Simple_interest = (Principle * Rate * Time) / 100\n",
    "Amount = Principle * (pow((1 + Rate / 100), Time)) \n",
    "Compound_interest = Amount - Principle \n",
    "print(\"Simple Interest:\", Simple_interest)\n",
    "print(\"Compound Interest:\", Compound_interest) "
   ]
  },
  {
   "cell_type": "markdown",
   "id": "4414463c",
   "metadata": {},
   "source": [
    "### Python program to check whether a number is Prime or not"
   ]
  },
  {
   "cell_type": "code",
   "execution_count": 8,
   "id": "1bbe1b32",
   "metadata": {},
   "outputs": [
    {
     "name": "stdout",
     "output_type": "stream",
     "text": [
      "Enter the number\t27\n",
      "Given number 27 is not prime number\n"
     ]
    }
   ],
   "source": [
    "number = int(input(\"Enter the number\\t\"))\n",
    "\n",
    "isprime = True\n",
    "for n in range(2,number):\n",
    "    if number % n == 0:\n",
    "        isprime = False\n",
    "        break\n",
    "        \n",
    "if isprime == True:\n",
    "    print(f\"Given number {number} is prime number\")\n",
    "else:\n",
    "    print(f\"Given number {number} is not prime number\")"
   ]
  },
  {
   "cell_type": "code",
   "execution_count": 9,
   "id": "2d400972",
   "metadata": {},
   "outputs": [
    {
     "name": "stdout",
     "output_type": "stream",
     "text": [
      "Enter start number\t25\n",
      "Enter end number\t36\n",
      "29\n",
      "31\n"
     ]
    }
   ],
   "source": [
    "start = int(input(\"Enter start number\\t\"))\n",
    "end = int(input(\"Enter end number\\t\"))\n",
    "\n",
    "for number in range(start,end):    \n",
    "    if number > 1:        \n",
    "        for n in range(2,number):\n",
    "            if number % n == 0:\n",
    "                break;\n",
    "        else:\n",
    "            print(number)"
   ]
  },
  {
   "cell_type": "code",
   "execution_count": 10,
   "id": "6ae11ca5",
   "metadata": {},
   "outputs": [
    {
     "name": "stdout",
     "output_type": "stream",
     "text": [
      "Please, Enter the Lowest Range Value: 65\n",
      "Please, Enter the Upper Range Value: 89\n",
      "The Prime Numbers in the range are: \n",
      "67\n",
      "71\n",
      "73\n",
      "79\n",
      "83\n",
      "89\n"
     ]
    }
   ],
   "source": [
    "lower_value = int(input (\"Please, Enter the Lowest Range Value: \"))  \n",
    "upper_value = int(input (\"Please, Enter the Upper Range Value: \"))  \n",
    "  \n",
    "print (\"The Prime Numbers in the range are: \")  \n",
    "for number in range (lower_value, upper_value + 1):  \n",
    "    if number > 1:  \n",
    "        for i in range (2, number):  \n",
    "            if (number % i) == 0:  \n",
    "                break  \n",
    "        else:  \n",
    "            print (number)  "
   ]
  },
  {
   "cell_type": "code",
   "execution_count": 11,
   "id": "8e23fd96",
   "metadata": {},
   "outputs": [
    {
     "data": {
      "text/plain": [
       "[1, 2, 3, 4, 5, 6, 7, 8, 9, 10]"
      ]
     },
     "execution_count": 11,
     "metadata": {},
     "output_type": "execute_result"
    }
   ],
   "source": [
    "list(range(1,11))"
   ]
  },
  {
   "cell_type": "code",
   "execution_count": 12,
   "id": "48b5eac2",
   "metadata": {},
   "outputs": [
    {
     "name": "stdout",
     "output_type": "stream",
     "text": [
      "Please, Enter the Lowest Range Value: 25\n",
      "Please, Enter the Upper Range Value: 89\n",
      "The Prime Numbers in the range are: \n",
      "29\n",
      "31\n",
      "37\n",
      "41\n",
      "43\n",
      "47\n",
      "53\n",
      "59\n",
      "61\n",
      "67\n",
      "71\n",
      "73\n",
      "79\n",
      "83\n",
      "89\n"
     ]
    }
   ],
   "source": [
    "lower_value = int(input (\"Please, Enter the Lowest Range Value: \"))  \n",
    "upper_value = int(input (\"Please, Enter the Upper Range Value: \"))  \n",
    "if lower_value > 1 and upper_value > 1: \n",
    "    print (\"The Prime Numbers in the range are: \")  \n",
    "    for number in range (lower_value, upper_value + 1):  \n",
    "\n",
    "        for i in range (2, number):  \n",
    "            if (number % i) == 0:  \n",
    "                break  \n",
    "        else:  \n",
    "            print (number) \n",
    "else:\n",
    "    print(\"Entered number must be positive\")"
   ]
  },
  {
   "cell_type": "code",
   "execution_count": null,
   "id": "d9b07749",
   "metadata": {},
   "outputs": [],
   "source": []
  }
 ],
 "metadata": {
  "kernelspec": {
   "display_name": "Python 3 (ipykernel)",
   "language": "python",
   "name": "python3"
  },
  "language_info": {
   "codemirror_mode": {
    "name": "ipython",
    "version": 3
   },
   "file_extension": ".py",
   "mimetype": "text/x-python",
   "name": "python",
   "nbconvert_exporter": "python",
   "pygments_lexer": "ipython3",
   "version": "3.9.17"
  }
 },
 "nbformat": 4,
 "nbformat_minor": 5
}
