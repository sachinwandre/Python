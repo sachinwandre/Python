{
 "cells": [
  {
   "cell_type": "markdown",
   "id": "905a4e72",
   "metadata": {},
   "source": [
    "## What is a Generator\n",
    "\n",
    "Python generators are a simple way of creating iterators. "
   ]
  },
  {
   "cell_type": "code",
   "execution_count": null,
   "id": "478a2bbc",
   "metadata": {},
   "outputs": [],
   "source": [
    "# iterable\n",
    "class mera_range:\n",
    "    \n",
    "    def __init__(self,start,end):\n",
    "        self.start = start\n",
    "        self.end = end\n",
    "        \n",
    "    def __iter__(self):\n",
    "        return mera_iterator(self)\n",
    "    \n",
    "\n",
    "# iterator\n",
    "class mera_iterator:\n",
    "    \n",
    "    def __init__(self,iterable_obj):\n",
    "        self.iterable = iterable_obj\n",
    "    \n",
    "    def __iter__(self):\n",
    "        return self\n",
    "    \n",
    "    def __next__(self):\n",
    "        \n",
    "        if self.iterable.start >= self.iterable.end:\n",
    "            raise StopIteration\n",
    "        \n",
    "        current = self.iterable.start\n",
    "        self.iterable.start+=1\n",
    "        return current"
   ]
  },
  {
   "cell_type": "markdown",
   "id": "fd44bc77",
   "metadata": {},
   "source": [
    "## The Why"
   ]
  },
  {
   "cell_type": "code",
   "execution_count": null,
   "id": "ea3d5fa3",
   "metadata": {},
   "outputs": [],
   "source": [
    "L = [x for x in range(100000)]\n",
    "\n",
    "#for i in L:\n",
    "    #print(i**2)\n",
    "    \n",
    "import sys\n",
    "sys.getsizeof(L)\n",
    "\n",
    "x = range(10000000)\n",
    "\n",
    "#for i in x:\n",
    "    #print(i**2)\n",
    "sys.getsizeof(x)"
   ]
  },
  {
   "cell_type": "markdown",
   "id": "b22fe091",
   "metadata": {},
   "source": [
    "## A Simple Example"
   ]
  },
  {
   "cell_type": "code",
   "execution_count": null,
   "id": "43d4ce12",
   "metadata": {},
   "outputs": [],
   "source": [
    "def gen_demo():\n",
    "    \n",
    "    yield \"first statement\"\n",
    "    yield \"second statement\"\n",
    "    yield \"third statement\""
   ]
  },
  {
   "cell_type": "code",
   "execution_count": null,
   "id": "92d9a52e",
   "metadata": {},
   "outputs": [],
   "source": [
    "gen = gen_demo()\n",
    "\n",
    "for i in gen:\n",
    "    print(i)"
   ]
  },
  {
   "cell_type": "markdown",
   "id": "75eb3d2b",
   "metadata": {},
   "source": [
    "## Python Tutor Demo (yield vs return)"
   ]
  },
  {
   "cell_type": "code",
   "execution_count": null,
   "id": "7995f7d7",
   "metadata": {},
   "outputs": [],
   "source": []
  },
  {
   "cell_type": "markdown",
   "id": "f86e2b35",
   "metadata": {},
   "source": [
    "## Example 2"
   ]
  },
  {
   "cell_type": "code",
   "execution_count": null,
   "id": "2f8dd2d8",
   "metadata": {},
   "outputs": [],
   "source": [
    "def square(num):\n",
    "    for i in range(1,num+1):\n",
    "        yield i**2"
   ]
  },
  {
   "cell_type": "code",
   "execution_count": null,
   "id": "aff6cee4",
   "metadata": {},
   "outputs": [],
   "source": [
    "gen = square(10)\n",
    "\n",
    "print(next(gen))\n",
    "print(next(gen))\n",
    "print(next(gen))\n",
    "\n",
    "for i in gen:\n",
    "    print(i)"
   ]
  },
  {
   "cell_type": "markdown",
   "id": "875edb12",
   "metadata": {},
   "source": [
    "## Range Function using Generator"
   ]
  },
  {
   "cell_type": "code",
   "execution_count": null,
   "id": "14721877",
   "metadata": {},
   "outputs": [],
   "source": [
    "def mera_range(start,end):\n",
    "    \n",
    "    for i in range(start,end):\n",
    "        yield i"
   ]
  },
  {
   "cell_type": "code",
   "execution_count": null,
   "id": "7f438fad",
   "metadata": {},
   "outputs": [],
   "source": [
    "for i in mera_range(15,26):\n",
    "    print(i)"
   ]
  },
  {
   "cell_type": "markdown",
   "id": "406188e0",
   "metadata": {},
   "source": [
    "## Generator Expression"
   ]
  },
  {
   "cell_type": "code",
   "execution_count": null,
   "id": "722796db",
   "metadata": {},
   "outputs": [],
   "source": [
    "# list comprehension\n",
    "L = [i**2 for i in range(1,101)]"
   ]
  },
  {
   "cell_type": "code",
   "execution_count": null,
   "id": "cc01bd9d",
   "metadata": {},
   "outputs": [],
   "source": [
    "gen = (i**2 for i in range(1,101))\n",
    "\n",
    "for i in gen:\n",
    "    print(i)"
   ]
  },
  {
   "cell_type": "markdown",
   "id": "0c7d14fc",
   "metadata": {},
   "source": [
    "## Practical Example"
   ]
  },
  {
   "cell_type": "code",
   "execution_count": null,
   "id": "b03eb0a7",
   "metadata": {},
   "outputs": [],
   "source": [
    "import os\n",
    "import cv2\n",
    "\n",
    "def image_data_reader(folder_path):\n",
    "\n",
    "    for file in os.listdir(folder_path):\n",
    "        f_array = cv2.imread(os.path.join(folder_path,file))\n",
    "        yield f_array\n",
    "    "
   ]
  },
  {
   "cell_type": "code",
   "execution_count": null,
   "id": "c0ccdc67",
   "metadata": {},
   "outputs": [],
   "source": [
    "gen = image_data_reader('C:/Users/91842/emotion-detector/train/Sad')\n",
    "\n",
    "next(gen)\n",
    "next(gen)\n",
    "\n",
    "next(gen)\n",
    "next(gen)"
   ]
  },
  {
   "cell_type": "markdown",
   "id": "8cb79570",
   "metadata": {},
   "source": [
    "## Benefits of using a Generator"
   ]
  },
  {
   "cell_type": "markdown",
   "id": "3329b0d1",
   "metadata": {},
   "source": [
    "#### 1. Ease of Implementation"
   ]
  },
  {
   "cell_type": "code",
   "execution_count": null,
   "id": "a1cae9cd",
   "metadata": {},
   "outputs": [],
   "source": [
    "class mera_range:\n",
    "    \n",
    "    def __init__(self,start,end):\n",
    "        self.start = start\n",
    "        self.end = end\n",
    "        \n",
    "    def __iter__(self):\n",
    "        return mera_iterator(self)"
   ]
  },
  {
   "cell_type": "code",
   "execution_count": null,
   "id": "a16123e0",
   "metadata": {},
   "outputs": [],
   "source": [
    "# iterator\n",
    "class mera_iterator:\n",
    "    \n",
    "    def __init__(self,iterable_obj):\n",
    "        self.iterable = iterable_obj\n",
    "    \n",
    "    def __iter__(self):\n",
    "        return self\n",
    "    \n",
    "    def __next__(self):\n",
    "        \n",
    "        if self.iterable.start >= self.iterable.end:\n",
    "            raise StopIteration\n",
    "        \n",
    "        current = self.iterable.start\n",
    "        self.iterable.start+=1\n",
    "        return current"
   ]
  },
  {
   "cell_type": "code",
   "execution_count": null,
   "id": "999b118f",
   "metadata": {},
   "outputs": [],
   "source": [
    "def mera_range(start,end):\n",
    "    \n",
    "    for i in range(start,end):\n",
    "        yield i"
   ]
  },
  {
   "cell_type": "markdown",
   "id": "1cee95cb",
   "metadata": {},
   "source": [
    "#### 2. Memory Efficient"
   ]
  },
  {
   "cell_type": "code",
   "execution_count": null,
   "id": "d9886270",
   "metadata": {},
   "outputs": [],
   "source": [
    "L = [x for x in range(100000)]\n",
    "gen = (x for x in range(100000))\n",
    "\n",
    "import sys\n",
    "\n",
    "print('Size of L in memory',sys.getsizeof(L))\n",
    "print('Size of gen in memory',sys.getsizeof(gen))"
   ]
  },
  {
   "cell_type": "markdown",
   "id": "5d7c5229",
   "metadata": {},
   "source": [
    "#### 3. Representing Infinite Streams"
   ]
  },
  {
   "cell_type": "code",
   "execution_count": null,
   "id": "a144da66",
   "metadata": {},
   "outputs": [],
   "source": [
    "def all_even():\n",
    "    n = 0\n",
    "    while True:\n",
    "        yield n\n",
    "        n += 2"
   ]
  },
  {
   "cell_type": "code",
   "execution_count": null,
   "id": "04b11520",
   "metadata": {},
   "outputs": [],
   "source": [
    "even_num_gen = all_even()\n",
    "next(even_num_gen)\n",
    "next(even_num_gen)"
   ]
  },
  {
   "cell_type": "markdown",
   "id": "e80fec2f",
   "metadata": {},
   "source": [
    "#### 4. Chaining Generators"
   ]
  },
  {
   "cell_type": "code",
   "execution_count": null,
   "id": "fc9972b1",
   "metadata": {},
   "outputs": [],
   "source": [
    "def fibonacci_numbers(nums):\n",
    "    x, y = 0, 1\n",
    "    for _ in range(nums):\n",
    "        x, y = y, x+y\n",
    "        yield x\n",
    "\n",
    "def square(nums):\n",
    "    for num in nums:\n",
    "        yield num**2\n",
    "\n",
    "print(sum(square(fibonacci_numbers(10))))"
   ]
  },
  {
   "cell_type": "code",
   "execution_count": null,
   "id": "0558f0f9",
   "metadata": {},
   "outputs": [],
   "source": [
    "def topten():\n",
    "    \n",
    "    n = 1\n",
    "    while(n <= 10):\n",
    "        sqr = n**2\n",
    "        yield sqr\n",
    "        n += 1\n",
    "\n",
    "sqrlist = topten()\n",
    "print(sqrlist)\n",
    "\n",
    "for n in sqrlist:\n",
    "    print(n)"
   ]
  }
 ],
 "metadata": {
  "kernelspec": {
   "display_name": "Python 3 (ipykernel)",
   "language": "python",
   "name": "python3"
  },
  "language_info": {
   "codemirror_mode": {
    "name": "ipython",
    "version": 3
   },
   "file_extension": ".py",
   "mimetype": "text/x-python",
   "name": "python",
   "nbconvert_exporter": "python",
   "pygments_lexer": "ipython3",
   "version": "3.11.4"
  }
 },
 "nbformat": 4,
 "nbformat_minor": 5
}
