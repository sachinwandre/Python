{
 "cells": [
  {
   "cell_type": "markdown",
   "id": "2d9e8884",
   "metadata": {},
   "source": [
    "## What is an Iteration\n",
    "\n",
    "Iteration is a general term for taking each item of something, one after another. Any time you use a loop, explicit or implicit, to go over a group of items, that is iteration."
   ]
  },
  {
   "cell_type": "code",
   "execution_count": null,
   "id": "26fadf7e",
   "metadata": {},
   "outputs": [],
   "source": [
    "# Example\n",
    "num = [1,2,3]\n",
    "\n",
    "for i in num:\n",
    "    print(i)"
   ]
  },
  {
   "cell_type": "markdown",
   "id": "c7ea3a1a",
   "metadata": {},
   "source": [
    "## What is Iterator\n",
    "\n",
    "An Iterator is an object that allows the programmer to traverse through a sequence of data without having to store the entire data in the memory"
   ]
  },
  {
   "cell_type": "code",
   "execution_count": null,
   "id": "ff765a6c",
   "metadata": {},
   "outputs": [],
   "source": [
    "# Example\n",
    "L = [x for x in range(1,10000)]\n",
    "\n",
    "#for i in L:\n",
    "    #print(i*2)\n",
    "    \n",
    "import sys\n",
    "\n",
    "print(sys.getsizeof(L)/64)\n",
    "\n",
    "x = range(1,10000000000)\n",
    "\n",
    "#for i in x:\n",
    "    #print(i*2)\n",
    "    \n",
    "print(sys.getsizeof(x)/64)"
   ]
  },
  {
   "cell_type": "markdown",
   "id": "99fff65f",
   "metadata": {},
   "source": [
    "## What is Iterable\n",
    "Iterable is an object, which one can iterate over\n",
    "\n",
    " It generates an Iterator when passed to iter() method."
   ]
  },
  {
   "cell_type": "code",
   "execution_count": null,
   "id": "77650fa6",
   "metadata": {},
   "outputs": [],
   "source": [
    "# Example\n",
    "\n",
    "L = [1,2,3]\n",
    "type(L)\n",
    "\n",
    "\n",
    "# L is an iterable\n",
    "type(iter(L))\n",
    "\n",
    "# iter(L) --> iterator"
   ]
  },
  {
   "cell_type": "markdown",
   "id": "f9482d80",
   "metadata": {},
   "source": [
    "## Point to remember\n",
    "\n",
    "- Every **Iterator** is also and **Iterable**\n",
    "- Not all **Iterables** are **Iterators**"
   ]
  },
  {
   "cell_type": "markdown",
   "id": "9c4c52a7",
   "metadata": {},
   "source": [
    "## Trick\n",
    "- Every Iterable has an **iter function**\n",
    "- Every Iterator has both **iter function** as well as a **next function**"
   ]
  },
  {
   "cell_type": "code",
   "execution_count": null,
   "id": "802be65a",
   "metadata": {},
   "outputs": [],
   "source": [
    "a = 2\n",
    "a\n",
    "\n",
    "#for i in a:\n",
    "    #print(i)\n",
    "    \n",
    "dir(a)"
   ]
  },
  {
   "cell_type": "code",
   "execution_count": null,
   "id": "2daf8b0a",
   "metadata": {},
   "outputs": [],
   "source": [
    "T = {1:2,3:4}\n",
    "dir(T)"
   ]
  },
  {
   "cell_type": "code",
   "execution_count": null,
   "id": "7468f8bf",
   "metadata": {},
   "outputs": [],
   "source": [
    "L = [1,2,3]\n",
    "\n",
    "# L is not an iterator\n",
    "iter_L = iter(L)\n",
    "\n",
    "# iter_L is an iterator"
   ]
  },
  {
   "cell_type": "markdown",
   "id": "5f02c4b7",
   "metadata": {},
   "source": [
    "## Understanding how for loop works"
   ]
  },
  {
   "cell_type": "code",
   "execution_count": null,
   "id": "8b518b08",
   "metadata": {},
   "outputs": [],
   "source": [
    "num = [1,2,3]\n",
    "\n",
    "for i in num:\n",
    "    print(i)"
   ]
  },
  {
   "cell_type": "code",
   "execution_count": null,
   "id": "bfb4f98d",
   "metadata": {},
   "outputs": [],
   "source": [
    "num = [1,2,3]\n",
    "\n",
    "# fetch the iterator\n",
    "iter_num = iter(num)\n",
    "\n",
    "# step2 --> next\n",
    "next(iter_num)\n",
    "next(iter_num)\n",
    "next(iter_num)\n",
    "next(iter_num)"
   ]
  },
  {
   "cell_type": "markdown",
   "id": "e35d6e87",
   "metadata": {},
   "source": [
    "## Making our own for loop"
   ]
  },
  {
   "cell_type": "code",
   "execution_count": null,
   "id": "7822da8e",
   "metadata": {},
   "outputs": [],
   "source": [
    "def mera_khudka_for_loop(iterable):\n",
    "    \n",
    "    iterator = iter(iterable)\n",
    "    \n",
    "    while True:\n",
    "        \n",
    "        try:\n",
    "            print(next(iterator))\n",
    "        except StopIteration:\n",
    "            break           "
   ]
  },
  {
   "cell_type": "code",
   "execution_count": null,
   "id": "68a428be",
   "metadata": {},
   "outputs": [],
   "source": [
    "a = [1,2,3]\n",
    "b = range(1,11)\n",
    "c = (1,2,3)\n",
    "d = {1,2,3}\n",
    "e = {0:1,1:1}\n",
    "\n",
    "mera_khudka_for_loop(e)"
   ]
  },
  {
   "cell_type": "markdown",
   "id": "81a3e616",
   "metadata": {},
   "source": [
    "## A confusing point"
   ]
  },
  {
   "cell_type": "code",
   "execution_count": null,
   "id": "269d3c83",
   "metadata": {},
   "outputs": [],
   "source": [
    "num = [1,2,3]\n",
    "iter_obj = iter(num)\n",
    "\n",
    "print(id(iter_obj),'Address of iterator 1')\n",
    "\n",
    "iter_obj2 = iter(iter_obj)\n",
    "print(id(iter_obj2),'Address of iterator 2')"
   ]
  },
  {
   "cell_type": "markdown",
   "id": "051af6bc",
   "metadata": {},
   "source": [
    "## Let's create our own range() function"
   ]
  },
  {
   "cell_type": "code",
   "execution_count": null,
   "id": "7eaf1228",
   "metadata": {},
   "outputs": [],
   "source": [
    "class mera_range:\n",
    "    \n",
    "    def __init__(self,start,end):\n",
    "        self.start = start\n",
    "        self.end = end\n",
    "        \n",
    "    def __iter__(self):\n",
    "        return mera_range_iterator(self)"
   ]
  },
  {
   "cell_type": "code",
   "execution_count": null,
   "id": "28118f2d",
   "metadata": {},
   "outputs": [],
   "source": [
    "class mera_range_iterator:\n",
    "    \n",
    "    def __init__(self,iterable_obj):\n",
    "        self.iterable = iterable_obj\n",
    "    \n",
    "    def __iter__(self):\n",
    "        return self\n",
    "    \n",
    "    def __next__(self):\n",
    "        \n",
    "        if self.iterable.start >= self.iterable.end:\n",
    "            raise StopIteration\n",
    "            \n",
    "        current = self.iterable.start\n",
    "        self.iterable.start+=1\n",
    "        return current"
   ]
  },
  {
   "cell_type": "code",
   "execution_count": null,
   "id": "142c0b98",
   "metadata": {},
   "outputs": [],
   "source": [
    "x = mera_range(1,11)\n",
    "x"
   ]
  },
  {
   "cell_type": "code",
   "execution_count": null,
   "id": "5aaaeeb3",
   "metadata": {},
   "outputs": [],
   "source": [
    "type(x)"
   ]
  },
  {
   "cell_type": "code",
   "execution_count": null,
   "id": "8e742864",
   "metadata": {},
   "outputs": [],
   "source": [
    "iter(x)"
   ]
  },
  {
   "cell_type": "code",
   "execution_count": null,
   "id": "95380d0b",
   "metadata": {},
   "outputs": [],
   "source": [
    "class IteratorDemo:\n",
    "    \n",
    "    def __init__(self):\n",
    "        self.num = 1\n",
    "        \n",
    "    def __iter__(self):\n",
    "        return self\n",
    "        \n",
    "    def __next__(self):\n",
    "        value = self.num\n",
    "        self.num += 1\n",
    "        return value\n",
    "    \n",
    "obj = IteratorDemo()\n",
    "print(obj.__next__())\n",
    "print(obj.__next__())\n",
    "print(obj.__next__())\n",
    "print(obj.__next__())"
   ]
  }
 ],
 "metadata": {
  "kernelspec": {
   "display_name": "Python 3 (ipykernel)",
   "language": "python",
   "name": "python3"
  },
  "language_info": {
   "codemirror_mode": {
    "name": "ipython",
    "version": 3
   },
   "file_extension": ".py",
   "mimetype": "text/x-python",
   "name": "python",
   "nbconvert_exporter": "python",
   "pygments_lexer": "ipython3",
   "version": "3.11.4"
  }
 },
 "nbformat": 4,
 "nbformat_minor": 5
}
