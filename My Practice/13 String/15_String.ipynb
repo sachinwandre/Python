{
 "cells": [
  {
   "cell_type": "code",
   "execution_count": 1,
   "id": "ea5eb789",
   "metadata": {},
   "outputs": [
    {
     "name": "stdout",
     "output_type": "stream",
     "text": [
      "Hello\n"
     ]
    }
   ],
   "source": [
    "s = \"Hello\"\n",
    "print(s)"
   ]
  },
  {
   "cell_type": "code",
   "execution_count": 2,
   "id": "6f8825a3",
   "metadata": {},
   "outputs": [
    {
     "name": "stdout",
     "output_type": "stream",
     "text": [
      "Hello\n"
     ]
    }
   ],
   "source": [
    "s = 'Hello'\n",
    "print(s)"
   ]
  },
  {
   "cell_type": "code",
   "execution_count": 3,
   "id": "bd2a9532",
   "metadata": {},
   "outputs": [
    {
     "name": "stdout",
     "output_type": "stream",
     "text": [
      "Hello How\n",
      "are you?\n"
     ]
    }
   ],
   "source": [
    "s = '''Hello How\n",
    "are you?'''\n",
    "\n",
    "print(s)"
   ]
  },
  {
   "cell_type": "code",
   "execution_count": 4,
   "id": "c7ae26eb",
   "metadata": {},
   "outputs": [
    {
     "name": "stdout",
     "output_type": "stream",
     "text": [
      "It's raining at night\n"
     ]
    }
   ],
   "source": [
    "s = \"It's raining at night\"\n",
    "print(s)"
   ]
  },
  {
   "cell_type": "code",
   "execution_count": 5,
   "id": "4d64fa9d",
   "metadata": {},
   "outputs": [],
   "source": [
    "# s = 'It's raining at night'\n",
    "# print(s)\n",
    "\n",
    "# Cell In[5], line 1\n",
    "#     s = 'It's raining at night'\n",
    "#             ^\n",
    "# SyntaxError: invalid syntax"
   ]
  },
  {
   "cell_type": "code",
   "execution_count": 6,
   "id": "8a1bea3c",
   "metadata": {},
   "outputs": [],
   "source": [
    "# s = \"It\"s raining at night\"\n",
    "# print(s)\n",
    "\n",
    "#  Cell In[57], line 1\n",
    "#     s = \"It\"s raining at night\"\n",
    "#             ^\n",
    "# SyntaxError: invalid syntax"
   ]
  },
  {
   "cell_type": "code",
   "execution_count": 7,
   "id": "05b9353a",
   "metadata": {},
   "outputs": [
    {
     "data": {
      "text/plain": [
       "\"sachin 'wandre' pune\""
      ]
     },
     "execution_count": 7,
     "metadata": {},
     "output_type": "execute_result"
    }
   ],
   "source": [
    "S = \"sachin 'wandre' pune\"\n",
    "S"
   ]
  },
  {
   "cell_type": "code",
   "execution_count": 8,
   "id": "8844c1ee",
   "metadata": {},
   "outputs": [
    {
     "data": {
      "text/plain": [
       "'Sachin \"Wandre\" 45'"
      ]
     },
     "execution_count": 8,
     "metadata": {},
     "output_type": "execute_result"
    }
   ],
   "source": [
    "S = 'Sachin \"Wandre\" 45'\n",
    "S"
   ]
  },
  {
   "cell_type": "markdown",
   "id": "be573b07",
   "metadata": {},
   "source": [
    "### 1. Common Functions\n"
   ]
  },
  {
   "cell_type": "code",
   "execution_count": 9,
   "id": "04ac1529",
   "metadata": {},
   "outputs": [
    {
     "data": {
      "text/plain": [
       "<function sorted(iterable, /, *, key=None, reverse=False)>"
      ]
     },
     "execution_count": 9,
     "metadata": {},
     "output_type": "execute_result"
    }
   ],
   "source": [
    "len\n",
    "max\n",
    "min\n",
    "sorted"
   ]
  },
  {
   "cell_type": "markdown",
   "id": "726419a7",
   "metadata": {},
   "source": [
    "Method\tDescription\n",
    "capitalize()\tConverts the first character to upper case\n",
    "casefold()\tConverts string into lower case\n",
    "center()\tReturns a centered string\n",
    "count()\tReturns the number of times a specified value occurs in a string\n",
    "encode()\tReturns an encoded version of the string\n",
    "endswith()\tReturns true if the string ends with the specified value\n",
    "expandtabs()\tSets the tab size of the string\n",
    "find()\tSearches the string for a specified value and returns the position of where it was found\n",
    "format()\tFormats specified values in a string\n",
    "format_map()\tFormats specified values in a string\n",
    "index()\tSearches the string for a specified value and returns the position of where it was found\n",
    "isalnum()\tReturns True if all characters in the string are alphanumeric\n",
    "isalpha()\tReturns True if all characters in the string are in the alphabet\n",
    "isascii()\tReturns True if all characters in the string are ascii characters\n",
    "isdecimal()\tReturns True if all characters in the string are decimals\n",
    "isdigit()\tReturns True if all characters in the string are digits\n",
    "isidentifier()\tReturns True if the string is an identifier\n",
    "islower()\tReturns True if all characters in the string are lower case\n",
    "isnumeric()\tReturns True if all characters in the string are numeric\n",
    "isprintable()\tReturns True if all characters in the string are printable\n",
    "isspace()\tReturns True if all characters in the string are whitespaces\n",
    "istitle()\tReturns True if the string follows the rules of a title\n",
    "isupper()\tReturns True if all characters in the string are upper case\n",
    "join()\tConverts the elements of an iterable into a string\n",
    "ljust()\tReturns a left justified version of the string\n",
    "lower()\tConverts a string into lower case\n",
    "lstrip()\tReturns a left trim version of the string\n",
    "maketrans()\tReturns a translation table to be used in translations\n",
    "partition()\tReturns a tuple where the string is parted into three parts\n",
    "replace()\tReturns a string where a specified value is replaced with a specified value\n",
    "rfind()\tSearches the string for a specified value and returns the last position of where it was found\n",
    "rindex()\tSearches the string for a specified value and returns the last position of where it was found\n",
    "rjust()\tReturns a right justified version of the string\n",
    "rpartition()\tReturns a tuple where the string is parted into three parts\n",
    "rsplit()\tSplits the string at the specified separator, and returns a list\n",
    "rstrip()\tReturns a right trim version of the string\n",
    "split()\tSplits the string at the specified separator, and returns a list\n",
    "splitlines()\tSplits the string at line breaks and returns a list\n",
    "startswith()\tReturns true if the string starts with the specified value\n",
    "strip()\tReturns a trimmed version of the string\n",
    "swapcase()\tSwaps cases, lower case becomes upper case and vice versa\n",
    "title()\tConverts the first character of each word to upper case\n",
    "translate()\tReturns a translated string\n",
    "upper()\tConverts a string into upper case\n",
    "zfill()\tFills the string with a specified number of 0 values at the beginning"
   ]
  },
  {
   "cell_type": "markdown",
   "id": "283691a0",
   "metadata": {},
   "source": [
    "len()\n",
    "max()\n",
    "min()\n",
    "sorted()\n",
    "upper()\n",
    "lower()\n",
    "isupper()\n",
    "islower()\n",
    "capitalize()\n",
    "title()\n",
    "swapcase()\n",
    "endswith()\n",
    "startwith()\n",
    "isalnum()\n",
    "isalpha()\n",
    "isdigit()\n",
    "isdecimal()\n",
    "isnumeric()\n",
    "split()\n",
    "join()\n",
    "find()\n",
    "index()\n",
    "count()"
   ]
  },
  {
   "cell_type": "code",
   "execution_count": 10,
   "id": "336cd042",
   "metadata": {},
   "outputs": [
    {
     "data": {
      "text/plain": [
       "'I'"
      ]
     },
     "execution_count": 10,
     "metadata": {},
     "output_type": "execute_result"
    }
   ],
   "source": [
    "string = \"I am living in pune\"\n",
    "string[0]"
   ]
  },
  {
   "cell_type": "code",
   "execution_count": 11,
   "id": "2f9808f6",
   "metadata": {},
   "outputs": [],
   "source": [
    "# string[start_index:end_index:steps]\n",
    "# when steps is positive then start_index is less than end index\n",
    "# when step is negative then start_index is greater than end index"
   ]
  },
  {
   "cell_type": "code",
   "execution_count": 12,
   "id": "06eae2fb",
   "metadata": {},
   "outputs": [
    {
     "data": {
      "text/plain": [
       "'I am '"
      ]
     },
     "execution_count": 12,
     "metadata": {},
     "output_type": "execute_result"
    }
   ],
   "source": [
    "string[0:5]"
   ]
  },
  {
   "cell_type": "code",
   "execution_count": 13,
   "id": "c523bd97",
   "metadata": {},
   "outputs": [
    {
     "data": {
      "text/plain": [
       "' np'"
      ]
     },
     "execution_count": 13,
     "metadata": {},
     "output_type": "execute_result"
    }
   ],
   "source": [
    "string[11:17:2]"
   ]
  },
  {
   "cell_type": "code",
   "execution_count": 14,
   "id": "9ce9bc22",
   "metadata": {},
   "outputs": [
    {
     "data": {
      "text/plain": [
       "'e'"
      ]
     },
     "execution_count": 14,
     "metadata": {},
     "output_type": "execute_result"
    }
   ],
   "source": [
    "string[-1]"
   ]
  },
  {
   "cell_type": "code",
   "execution_count": 15,
   "id": "66a11116",
   "metadata": {},
   "outputs": [
    {
     "data": {
      "text/plain": [
       "'I am living in pune'"
      ]
     },
     "execution_count": 15,
     "metadata": {},
     "output_type": "execute_result"
    }
   ],
   "source": [
    "string[::]"
   ]
  },
  {
   "cell_type": "code",
   "execution_count": 16,
   "id": "02366bda",
   "metadata": {},
   "outputs": [
    {
     "data": {
      "text/plain": [
       "'enup ni gnivil ma I'"
      ]
     },
     "execution_count": 16,
     "metadata": {},
     "output_type": "execute_result"
    }
   ],
   "source": [
    "string[::-1]"
   ]
  },
  {
   "cell_type": "code",
   "execution_count": 17,
   "id": "4a05f73f",
   "metadata": {},
   "outputs": [
    {
     "data": {
      "text/plain": [
       "''"
      ]
     },
     "execution_count": 17,
     "metadata": {},
     "output_type": "execute_result"
    }
   ],
   "source": [
    "string[-1:-6:2] # when steps is positive then start_index is less than end index"
   ]
  },
  {
   "cell_type": "code",
   "execution_count": 18,
   "id": "0f119818",
   "metadata": {},
   "outputs": [],
   "source": [
    "string = \"Hello World\""
   ]
  },
  {
   "cell_type": "code",
   "execution_count": 19,
   "id": "56d3be2d",
   "metadata": {},
   "outputs": [
    {
     "data": {
      "text/plain": [
       "'roW oll'"
      ]
     },
     "execution_count": 19,
     "metadata": {},
     "output_type": "execute_result"
    }
   ],
   "source": [
    "string[8:1:-1] "
   ]
  },
  {
   "cell_type": "code",
   "execution_count": 20,
   "id": "191d7470",
   "metadata": {},
   "outputs": [
    {
     "data": {
      "text/plain": [
       "''"
      ]
     },
     "execution_count": 20,
     "metadata": {},
     "output_type": "execute_result"
    }
   ],
   "source": [
    "string[8:1:1] ## when steps is positive then start_index is less than end index"
   ]
  },
  {
   "cell_type": "code",
   "execution_count": 21,
   "id": "e3658228",
   "metadata": {},
   "outputs": [
    {
     "data": {
      "text/plain": [
       "'roW oll'"
      ]
     },
     "execution_count": 21,
     "metadata": {},
     "output_type": "execute_result"
    }
   ],
   "source": [
    "string[8:1:-1]"
   ]
  },
  {
   "cell_type": "code",
   "execution_count": 22,
   "id": "0ba28ae5",
   "metadata": {},
   "outputs": [
    {
     "data": {
      "text/plain": [
       "''"
      ]
     },
     "execution_count": 22,
     "metadata": {},
     "output_type": "execute_result"
    }
   ],
   "source": [
    "string[1:8:-1]"
   ]
  },
  {
   "cell_type": "code",
   "execution_count": 23,
   "id": "65d78178",
   "metadata": {},
   "outputs": [
    {
     "data": {
      "text/plain": [
       "'ello Wo'"
      ]
     },
     "execution_count": 23,
     "metadata": {},
     "output_type": "execute_result"
    }
   ],
   "source": [
    "string[1:8:1]"
   ]
  },
  {
   "cell_type": "code",
   "execution_count": 24,
   "id": "56b39228",
   "metadata": {},
   "outputs": [
    {
     "data": {
      "text/plain": [
       "'dlroW oll'"
      ]
     },
     "execution_count": 24,
     "metadata": {},
     "output_type": "execute_result"
    }
   ],
   "source": [
    "string[-1:-10:-1]"
   ]
  },
  {
   "cell_type": "code",
   "execution_count": 25,
   "id": "513d7bf5",
   "metadata": {},
   "outputs": [
    {
     "data": {
      "text/plain": [
       "'ello Worl'"
      ]
     },
     "execution_count": 25,
     "metadata": {},
     "output_type": "execute_result"
    }
   ],
   "source": [
    "string[1:10:1]"
   ]
  },
  {
   "cell_type": "code",
   "execution_count": 26,
   "id": "c25ac7f0",
   "metadata": {},
   "outputs": [
    {
     "data": {
      "text/plain": [
       "'ello Worl'"
      ]
     },
     "execution_count": 26,
     "metadata": {},
     "output_type": "execute_result"
    }
   ],
   "source": [
    "string[1:10]"
   ]
  },
  {
   "cell_type": "code",
   "execution_count": 27,
   "id": "58ce0e81",
   "metadata": {},
   "outputs": [
    {
     "data": {
      "text/plain": [
       "'Hello World'"
      ]
     },
     "execution_count": 27,
     "metadata": {},
     "output_type": "execute_result"
    }
   ],
   "source": [
    "string[:]"
   ]
  },
  {
   "cell_type": "code",
   "execution_count": 28,
   "id": "16b8c86f",
   "metadata": {},
   "outputs": [
    {
     "data": {
      "text/plain": [
       "'Hello Wor'"
      ]
     },
     "execution_count": 28,
     "metadata": {},
     "output_type": "execute_result"
    }
   ],
   "source": [
    "string[:9]"
   ]
  },
  {
   "cell_type": "code",
   "execution_count": 29,
   "id": "b0b7ae86",
   "metadata": {},
   "outputs": [
    {
     "data": {
      "text/plain": [
       "'World'"
      ]
     },
     "execution_count": 29,
     "metadata": {},
     "output_type": "execute_result"
    }
   ],
   "source": [
    "string[6:]"
   ]
  },
  {
   "cell_type": "code",
   "execution_count": 30,
   "id": "81b63fed",
   "metadata": {},
   "outputs": [
    {
     "data": {
      "text/plain": [
       "'World'"
      ]
     },
     "execution_count": 30,
     "metadata": {},
     "output_type": "execute_result"
    }
   ],
   "source": [
    "string[-5:]"
   ]
  },
  {
   "cell_type": "code",
   "execution_count": 31,
   "id": "869ff816",
   "metadata": {},
   "outputs": [
    {
     "data": {
      "text/plain": [
       "'W olleH'"
      ]
     },
     "execution_count": 31,
     "metadata": {},
     "output_type": "execute_result"
    }
   ],
   "source": [
    "string[-5::-1]"
   ]
  },
  {
   "cell_type": "code",
   "execution_count": 32,
   "id": "f9bef2f4",
   "metadata": {},
   "outputs": [
    {
     "data": {
      "text/plain": [
       "' olleH'"
      ]
     },
     "execution_count": 32,
     "metadata": {},
     "output_type": "execute_result"
    }
   ],
   "source": [
    "string[-6::-1]"
   ]
  },
  {
   "cell_type": "code",
   "execution_count": 33,
   "id": "bcaaa857",
   "metadata": {},
   "outputs": [],
   "source": [
    "str1 = \"Hello World\""
   ]
  },
  {
   "cell_type": "code",
   "execution_count": 34,
   "id": "af99fde3",
   "metadata": {},
   "outputs": [
    {
     "data": {
      "text/plain": [
       "'llo'"
      ]
     },
     "execution_count": 34,
     "metadata": {},
     "output_type": "execute_result"
    }
   ],
   "source": [
    "str1[2:5:1]"
   ]
  },
  {
   "cell_type": "code",
   "execution_count": 35,
   "id": "303e5232",
   "metadata": {},
   "outputs": [
    {
     "data": {
      "text/plain": [
       "'oWr'"
      ]
     },
     "execution_count": 35,
     "metadata": {},
     "output_type": "execute_result"
    }
   ],
   "source": [
    "str1[4:10:2]"
   ]
  },
  {
   "cell_type": "code",
   "execution_count": 36,
   "id": "c50f148a",
   "metadata": {},
   "outputs": [
    {
     "data": {
      "text/plain": [
       "''"
      ]
     },
     "execution_count": 36,
     "metadata": {},
     "output_type": "execute_result"
    }
   ],
   "source": [
    "str1[4:10:-1]"
   ]
  },
  {
   "cell_type": "code",
   "execution_count": 37,
   "id": "e5f20cc6",
   "metadata": {},
   "outputs": [
    {
     "data": {
      "text/plain": [
       "''"
      ]
     },
     "execution_count": 37,
     "metadata": {},
     "output_type": "execute_result"
    }
   ],
   "source": [
    "str1[-4:10:-1]"
   ]
  },
  {
   "cell_type": "code",
   "execution_count": 38,
   "id": "9986e087",
   "metadata": {},
   "outputs": [
    {
     "data": {
      "text/plain": [
       "'oW oll'"
      ]
     },
     "execution_count": 38,
     "metadata": {},
     "output_type": "execute_result"
    }
   ],
   "source": [
    "str1[-4:-10:-1]"
   ]
  },
  {
   "cell_type": "code",
   "execution_count": 39,
   "id": "f4584d62",
   "metadata": {},
   "outputs": [
    {
     "data": {
      "text/plain": [
       "''"
      ]
     },
     "execution_count": 39,
     "metadata": {},
     "output_type": "execute_result"
    }
   ],
   "source": [
    "str1[4:10:-1]"
   ]
  },
  {
   "cell_type": "code",
   "execution_count": 40,
   "id": "271ceb42",
   "metadata": {},
   "outputs": [
    {
     "data": {
      "text/plain": [
       "'Hello World'"
      ]
     },
     "execution_count": 40,
     "metadata": {},
     "output_type": "execute_result"
    }
   ],
   "source": [
    "str1[::]"
   ]
  },
  {
   "cell_type": "code",
   "execution_count": 41,
   "id": "a4f6d386",
   "metadata": {},
   "outputs": [
    {
     "data": {
      "text/plain": [
       "'ello Worl'"
      ]
     },
     "execution_count": 41,
     "metadata": {},
     "output_type": "execute_result"
    }
   ],
   "source": [
    "str1[1:10]"
   ]
  },
  {
   "cell_type": "code",
   "execution_count": 42,
   "id": "0b508a8d",
   "metadata": {},
   "outputs": [
    {
     "data": {
      "text/plain": [
       "'lo Worl'"
      ]
     },
     "execution_count": 42,
     "metadata": {},
     "output_type": "execute_result"
    }
   ],
   "source": [
    "str1[3:10:1]"
   ]
  },
  {
   "cell_type": "code",
   "execution_count": 43,
   "id": "4ceaa908",
   "metadata": {},
   "outputs": [
    {
     "data": {
      "text/plain": [
       "'roW oll'"
      ]
     },
     "execution_count": 43,
     "metadata": {},
     "output_type": "execute_result"
    }
   ],
   "source": [
    "str1[-3:-10:-1]"
   ]
  },
  {
   "cell_type": "code",
   "execution_count": 44,
   "id": "0bc18165",
   "metadata": {},
   "outputs": [
    {
     "data": {
      "text/plain": [
       "'ello Wo'"
      ]
     },
     "execution_count": 44,
     "metadata": {},
     "output_type": "execute_result"
    }
   ],
   "source": [
    "str1[-10:-3:1]"
   ]
  },
  {
   "cell_type": "code",
   "execution_count": 45,
   "id": "ec2a03c8",
   "metadata": {},
   "outputs": [
    {
     "data": {
      "text/plain": [
       "'ello Worl'"
      ]
     },
     "execution_count": 45,
     "metadata": {},
     "output_type": "execute_result"
    }
   ],
   "source": [
    "str1[-10:-1:1]"
   ]
  },
  {
   "cell_type": "code",
   "execution_count": 46,
   "id": "4cf43181",
   "metadata": {},
   "outputs": [
    {
     "data": {
      "text/plain": [
       "'ello Worl'"
      ]
     },
     "execution_count": 46,
     "metadata": {},
     "output_type": "execute_result"
    }
   ],
   "source": [
    "str1[-10:-1:1]"
   ]
  },
  {
   "cell_type": "code",
   "execution_count": 47,
   "id": "9d84e506",
   "metadata": {},
   "outputs": [
    {
     "data": {
      "text/plain": [
       "'dlroW oll'"
      ]
     },
     "execution_count": 47,
     "metadata": {},
     "output_type": "execute_result"
    }
   ],
   "source": [
    "str1[10:1:-1]"
   ]
  },
  {
   "cell_type": "code",
   "execution_count": 48,
   "id": "5331f7f5",
   "metadata": {},
   "outputs": [
    {
     "data": {
      "text/plain": [
       "''"
      ]
     },
     "execution_count": 48,
     "metadata": {},
     "output_type": "execute_result"
    }
   ],
   "source": [
    "str1[10:1:1]"
   ]
  },
  {
   "cell_type": "code",
   "execution_count": 49,
   "id": "091cfc0f",
   "metadata": {},
   "outputs": [
    {
     "data": {
      "text/plain": [
       "'ello Worl'"
      ]
     },
     "execution_count": 49,
     "metadata": {},
     "output_type": "execute_result"
    }
   ],
   "source": [
    "str1[1:10:1]"
   ]
  },
  {
   "cell_type": "code",
   "execution_count": 50,
   "id": "2adac2a5",
   "metadata": {},
   "outputs": [
    {
     "data": {
      "text/plain": [
       "''"
      ]
     },
     "execution_count": 50,
     "metadata": {},
     "output_type": "execute_result"
    }
   ],
   "source": [
    "str1[1:10:-1]"
   ]
  },
  {
   "cell_type": "code",
   "execution_count": 51,
   "id": "b3a76d17",
   "metadata": {},
   "outputs": [
    {
     "data": {
      "text/plain": [
       "19"
      ]
     },
     "execution_count": 51,
     "metadata": {},
     "output_type": "execute_result"
    }
   ],
   "source": [
    "s = \"I am Data Scientist\"\n",
    "\n",
    "len(s)"
   ]
  },
  {
   "cell_type": "code",
   "execution_count": 52,
   "id": "c0f1111d",
   "metadata": {},
   "outputs": [
    {
     "data": {
      "text/plain": [
       "'t'"
      ]
     },
     "execution_count": 52,
     "metadata": {},
     "output_type": "execute_result"
    }
   ],
   "source": [
    "max(s)"
   ]
  },
  {
   "cell_type": "code",
   "execution_count": 53,
   "id": "d1b8e3f4",
   "metadata": {},
   "outputs": [
    {
     "data": {
      "text/plain": [
       "' '"
      ]
     },
     "execution_count": 53,
     "metadata": {},
     "output_type": "execute_result"
    }
   ],
   "source": [
    "min(s)"
   ]
  },
  {
   "cell_type": "code",
   "execution_count": 54,
   "id": "94d99747",
   "metadata": {},
   "outputs": [
    {
     "data": {
      "text/plain": [
       "['t',\n",
       " 't',\n",
       " 't',\n",
       " 's',\n",
       " 'n',\n",
       " 'm',\n",
       " 'i',\n",
       " 'i',\n",
       " 'e',\n",
       " 'c',\n",
       " 'a',\n",
       " 'a',\n",
       " 'a',\n",
       " 'S',\n",
       " 'I',\n",
       " 'D',\n",
       " ' ',\n",
       " ' ',\n",
       " ' ']"
      ]
     },
     "execution_count": 54,
     "metadata": {},
     "output_type": "execute_result"
    }
   ],
   "source": [
    "# Sorted using ASCII value\n",
    "sorted(s,reverse=True)"
   ]
  },
  {
   "cell_type": "markdown",
   "id": "299cf3cb",
   "metadata": {},
   "source": [
    "### 2.Capitalize/Title/Upper/Lower/Swapcase"
   ]
  },
  {
   "cell_type": "code",
   "execution_count": 55,
   "id": "f71ed0f1",
   "metadata": {},
   "outputs": [
    {
     "data": {
      "text/plain": [
       "'I am data scientist'"
      ]
     },
     "execution_count": 55,
     "metadata": {},
     "output_type": "execute_result"
    }
   ],
   "source": [
    "s = \"i am data scientist\"\n",
    "s.capitalize()"
   ]
  },
  {
   "cell_type": "code",
   "execution_count": 56,
   "id": "c25734fc",
   "metadata": {},
   "outputs": [
    {
     "data": {
      "text/plain": [
       "'I Am Data Scientist'"
      ]
     },
     "execution_count": 56,
     "metadata": {},
     "output_type": "execute_result"
    }
   ],
   "source": [
    "s = \"i am data scientist\"\n",
    "s.title()"
   ]
  },
  {
   "cell_type": "code",
   "execution_count": 57,
   "id": "d76a7ea0",
   "metadata": {},
   "outputs": [
    {
     "data": {
      "text/plain": [
       "'I AM DATA SCIENTIST'"
      ]
     },
     "execution_count": 57,
     "metadata": {},
     "output_type": "execute_result"
    }
   ],
   "source": [
    "s = \"i am data scientist\"\n",
    "s.upper()"
   ]
  },
  {
   "cell_type": "code",
   "execution_count": 58,
   "id": "91bcafec",
   "metadata": {},
   "outputs": [
    {
     "data": {
      "text/plain": [
       "'i am data scientist'"
      ]
     },
     "execution_count": 58,
     "metadata": {},
     "output_type": "execute_result"
    }
   ],
   "source": [
    "s = \"i am DATA sciENtist\"\n",
    "s.lower()"
   ]
  },
  {
   "cell_type": "code",
   "execution_count": 59,
   "id": "a80b5bdf",
   "metadata": {},
   "outputs": [
    {
     "data": {
      "text/plain": [
       "'I AM dAtA scIENtIST'"
      ]
     },
     "execution_count": 59,
     "metadata": {},
     "output_type": "execute_result"
    }
   ],
   "source": [
    "s = \"i am DaTa SCienTist\"\n",
    "s.swapcase()"
   ]
  },
  {
   "cell_type": "markdown",
   "id": "2a5a9291",
   "metadata": {},
   "source": [
    "### 3. count/find/index"
   ]
  },
  {
   "cell_type": "code",
   "execution_count": 60,
   "id": "e4876924",
   "metadata": {},
   "outputs": [
    {
     "data": {
      "text/plain": [
       "0"
      ]
     },
     "execution_count": 60,
     "metadata": {},
     "output_type": "execute_result"
    }
   ],
   "source": [
    "s = \"I am Data Scientist\"\n",
    "s.count(\"u\")"
   ]
  },
  {
   "cell_type": "code",
   "execution_count": 61,
   "id": "872de2f3",
   "metadata": {},
   "outputs": [
    {
     "data": {
      "text/plain": [
       "3"
      ]
     },
     "execution_count": 61,
     "metadata": {},
     "output_type": "execute_result"
    }
   ],
   "source": [
    "s = \"I am Data Scientist\"\n",
    "s.count(\"t\")"
   ]
  },
  {
   "cell_type": "code",
   "execution_count": 62,
   "id": "ad2846c9",
   "metadata": {},
   "outputs": [
    {
     "data": {
      "text/plain": [
       "3"
      ]
     },
     "execution_count": 62,
     "metadata": {},
     "output_type": "execute_result"
    }
   ],
   "source": [
    "s = \"I am Data Scientist\"\n",
    "s.count(\"a\")"
   ]
  },
  {
   "cell_type": "code",
   "execution_count": 63,
   "id": "feaf8c13",
   "metadata": {},
   "outputs": [
    {
     "data": {
      "text/plain": [
       "2"
      ]
     },
     "execution_count": 63,
     "metadata": {},
     "output_type": "execute_result"
    }
   ],
   "source": [
    "s = \"I am Data Scientist\"\n",
    "s.find(\"a\")"
   ]
  },
  {
   "cell_type": "code",
   "execution_count": 64,
   "id": "c274fc6d",
   "metadata": {},
   "outputs": [
    {
     "data": {
      "text/plain": [
       "10"
      ]
     },
     "execution_count": 64,
     "metadata": {},
     "output_type": "execute_result"
    }
   ],
   "source": [
    "s = \"I am Data Scientist\"\n",
    "s.find(\"Scie\")"
   ]
  },
  {
   "cell_type": "code",
   "execution_count": 65,
   "id": "ae56959a",
   "metadata": {},
   "outputs": [
    {
     "data": {
      "text/plain": [
       "-1"
      ]
     },
     "execution_count": 65,
     "metadata": {},
     "output_type": "execute_result"
    }
   ],
   "source": [
    "# if not found then return -1\n",
    "s = \"I am Data Scientist\"\n",
    "s.find(\"x\")"
   ]
  },
  {
   "cell_type": "code",
   "execution_count": 66,
   "id": "3b5464da",
   "metadata": {},
   "outputs": [
    {
     "data": {
      "text/plain": [
       "2"
      ]
     },
     "execution_count": 66,
     "metadata": {},
     "output_type": "execute_result"
    }
   ],
   "source": [
    "s = \"I am Data Scientist\"\n",
    "s.index(\"a\")"
   ]
  },
  {
   "cell_type": "code",
   "execution_count": 67,
   "id": "54bbe57d",
   "metadata": {},
   "outputs": [
    {
     "data": {
      "text/plain": [
       "10"
      ]
     },
     "execution_count": 67,
     "metadata": {},
     "output_type": "execute_result"
    }
   ],
   "source": [
    "s = \"I am Data Scientist\"\n",
    "s.index(\"Scientist\")"
   ]
  },
  {
   "cell_type": "code",
   "execution_count": 68,
   "id": "e437bd4e",
   "metadata": {},
   "outputs": [],
   "source": [
    "# ValueError: substring not found\n",
    "# if not found then throw an exception\n",
    "# s = \"I am Data Scientist\"\n",
    "# s.index(\"x\")"
   ]
  },
  {
   "cell_type": "markdown",
   "id": "99d35748",
   "metadata": {},
   "source": [
    "### 4.  endswith/startswith"
   ]
  },
  {
   "cell_type": "code",
   "execution_count": 69,
   "id": "cf9352c1",
   "metadata": {},
   "outputs": [
    {
     "data": {
      "text/plain": [
       "True"
      ]
     },
     "execution_count": 69,
     "metadata": {},
     "output_type": "execute_result"
    }
   ],
   "source": [
    "s = \"I am Data Scientist\"\n",
    "s.endswith(\"st\")"
   ]
  },
  {
   "cell_type": "code",
   "execution_count": 70,
   "id": "78c02654",
   "metadata": {},
   "outputs": [
    {
     "data": {
      "text/plain": [
       "False"
      ]
     },
     "execution_count": 70,
     "metadata": {},
     "output_type": "execute_result"
    }
   ],
   "source": [
    "s = \"I am Data Scientist\"\n",
    "s.endswith(\"est\")"
   ]
  },
  {
   "cell_type": "code",
   "execution_count": 71,
   "id": "76226dfe",
   "metadata": {},
   "outputs": [
    {
     "data": {
      "text/plain": [
       "True"
      ]
     },
     "execution_count": 71,
     "metadata": {},
     "output_type": "execute_result"
    }
   ],
   "source": [
    "s = \"I am Data Scientist\"\n",
    "s.startswith(\"I\")"
   ]
  },
  {
   "cell_type": "code",
   "execution_count": 72,
   "id": "6cb9e63c",
   "metadata": {},
   "outputs": [
    {
     "data": {
      "text/plain": [
       "True"
      ]
     },
     "execution_count": 72,
     "metadata": {},
     "output_type": "execute_result"
    }
   ],
   "source": [
    "s = \"I am Data Scientist\"\n",
    "s.startswith(\"I am Data\")"
   ]
  },
  {
   "cell_type": "markdown",
   "id": "95236385",
   "metadata": {},
   "source": [
    "### 5. format"
   ]
  },
  {
   "cell_type": "code",
   "execution_count": 73,
   "id": "ba99c35c",
   "metadata": {},
   "outputs": [
    {
     "data": {
      "text/plain": [
       "'My name is Sachin and I am Data Scientist '"
      ]
     },
     "execution_count": 73,
     "metadata": {},
     "output_type": "execute_result"
    }
   ],
   "source": [
    "s = \"My name is {} and I am {} \"\n",
    "s.format(\"Sachin\",\"Data Scientist\")"
   ]
  },
  {
   "cell_type": "code",
   "execution_count": 74,
   "id": "f595840f",
   "metadata": {},
   "outputs": [
    {
     "data": {
      "text/plain": [
       "'My Name is Sachin and I am 34 years old'"
      ]
     },
     "execution_count": 74,
     "metadata": {},
     "output_type": "execute_result"
    }
   ],
   "source": [
    "s = \"My Name is {} and I am {} years old\"\n",
    "s.format(\"Sachin\",34)"
   ]
  },
  {
   "cell_type": "code",
   "execution_count": 75,
   "id": "9df648fa",
   "metadata": {},
   "outputs": [
    {
     "data": {
      "text/plain": [
       "'I am Sachin and I am 34 years old, and I am Data Scientist'"
      ]
     },
     "execution_count": 75,
     "metadata": {},
     "output_type": "execute_result"
    }
   ],
   "source": [
    "s = \"I am {name} and I am {age} years old, and I am {designation}\"\n",
    "s.format(name=\"Sachin\",age=34,designation= \"Data Scientist\")"
   ]
  },
  {
   "cell_type": "code",
   "execution_count": 76,
   "id": "6f8b6edb",
   "metadata": {},
   "outputs": [
    {
     "data": {
      "text/plain": [
       "'My Name is 34 and I am Sachin years old'"
      ]
     },
     "execution_count": 76,
     "metadata": {},
     "output_type": "execute_result"
    }
   ],
   "source": [
    "s = \"My Name is {1} and I am {0} years old\"\n",
    "s.format(\"Sachin\",34)"
   ]
  },
  {
   "cell_type": "markdown",
   "id": "c8e34c04",
   "metadata": {},
   "source": [
    "### 6. isalnum/ isalpha/ isdecimal/ isdigit/ isidentifier"
   ]
  },
  {
   "cell_type": "markdown",
   "id": "86e09cbe",
   "metadata": {},
   "source": [
    "### isalpha()"
   ]
  },
  {
   "cell_type": "markdown",
   "id": "48092d67",
   "metadata": {},
   "source": [
    "Python String isalpha() method is used to check whether all characters in the String is an alphabet."
   ]
  },
  {
   "cell_type": "code",
   "execution_count": 77,
   "id": "60a5b7dd",
   "metadata": {},
   "outputs": [
    {
     "data": {
      "text/plain": [
       "True"
      ]
     },
     "execution_count": 77,
     "metadata": {},
     "output_type": "execute_result"
    }
   ],
   "source": [
    "s = \"Sachin\"\n",
    "s.isalpha()"
   ]
  },
  {
   "cell_type": "code",
   "execution_count": 78,
   "id": "fa672754",
   "metadata": {},
   "outputs": [
    {
     "data": {
      "text/plain": [
       "False"
      ]
     },
     "execution_count": 78,
     "metadata": {},
     "output_type": "execute_result"
    }
   ],
   "source": [
    "# Space not allowed\n",
    "\n",
    "s = \"Sachin Wandre\"\n",
    "s.isalpha()"
   ]
  },
  {
   "cell_type": "code",
   "execution_count": 79,
   "id": "ae1412f5",
   "metadata": {},
   "outputs": [
    {
     "data": {
      "text/plain": [
       "False"
      ]
     },
     "execution_count": 79,
     "metadata": {},
     "output_type": "execute_result"
    }
   ],
   "source": [
    "# Number not allowed\n",
    "s = \"Sachin123\"\n",
    "s.isalpha()"
   ]
  },
  {
   "cell_type": "code",
   "execution_count": 80,
   "id": "4c24ce1a",
   "metadata": {},
   "outputs": [
    {
     "data": {
      "text/plain": [
       "False"
      ]
     },
     "execution_count": 80,
     "metadata": {},
     "output_type": "execute_result"
    }
   ],
   "source": [
    "# Special character not allowed\n",
    "s = \"Sachin!@#$\"\n",
    "s.isalpha()"
   ]
  },
  {
   "cell_type": "markdown",
   "id": "a8572b77",
   "metadata": {},
   "source": [
    "### isalnum()"
   ]
  },
  {
   "cell_type": "markdown",
   "id": "473a5c94",
   "metadata": {},
   "source": [
    "Python String isalnum() method checks whether all the characters in a given string are either alphabet or numeric (alphanumeric) characters."
   ]
  },
  {
   "cell_type": "code",
   "execution_count": 81,
   "id": "ee0e89b2",
   "metadata": {},
   "outputs": [
    {
     "data": {
      "text/plain": [
       "True"
      ]
     },
     "execution_count": 81,
     "metadata": {},
     "output_type": "execute_result"
    }
   ],
   "source": [
    "s = \"Sachin\"\n",
    "s.isalnum()"
   ]
  },
  {
   "cell_type": "code",
   "execution_count": 82,
   "id": "e0e57a86",
   "metadata": {},
   "outputs": [
    {
     "data": {
      "text/plain": [
       "False"
      ]
     },
     "execution_count": 82,
     "metadata": {},
     "output_type": "execute_result"
    }
   ],
   "source": [
    "# Space Not allowed\n",
    "s = \"Sachin Wandre\"\n",
    "s.isalnum()"
   ]
  },
  {
   "cell_type": "code",
   "execution_count": 83,
   "id": "5777f790",
   "metadata": {},
   "outputs": [
    {
     "data": {
      "text/plain": [
       "True"
      ]
     },
     "execution_count": 83,
     "metadata": {},
     "output_type": "execute_result"
    }
   ],
   "source": [
    "# Digits are allowed\n",
    "s = \"Sachin123\"\n",
    "s.isalnum()"
   ]
  },
  {
   "cell_type": "code",
   "execution_count": 84,
   "id": "10d6bd1f",
   "metadata": {},
   "outputs": [
    {
     "data": {
      "text/plain": [
       "False"
      ]
     },
     "execution_count": 84,
     "metadata": {},
     "output_type": "execute_result"
    }
   ],
   "source": [
    "# Special character not allowed\n",
    "s = \"Sachin@#\"\n",
    "s.isalnum()"
   ]
  },
  {
   "cell_type": "markdown",
   "id": "fcb8a473",
   "metadata": {},
   "source": [
    "### isdecimal()"
   ]
  },
  {
   "cell_type": "markdown",
   "id": "ea8ed31f",
   "metadata": {},
   "source": [
    "Python String isdecimal() function returns true if all characters in a string are decimal, else it returns False."
   ]
  },
  {
   "cell_type": "code",
   "execution_count": 85,
   "id": "34b5ed95",
   "metadata": {},
   "outputs": [
    {
     "data": {
      "text/plain": [
       "False"
      ]
     },
     "execution_count": 85,
     "metadata": {},
     "output_type": "execute_result"
    }
   ],
   "source": [
    "# Character not allowed\n",
    "s = \"Sachin\"\n",
    "s.isdecimal()"
   ]
  },
  {
   "cell_type": "code",
   "execution_count": 86,
   "id": "9ee6665a",
   "metadata": {},
   "outputs": [
    {
     "data": {
      "text/plain": [
       "True"
      ]
     },
     "execution_count": 86,
     "metadata": {},
     "output_type": "execute_result"
    }
   ],
   "source": [
    "s = \"123\"\n",
    "s.isdecimal()"
   ]
  },
  {
   "cell_type": "code",
   "execution_count": 87,
   "id": "62e1e4fe",
   "metadata": {},
   "outputs": [
    {
     "data": {
      "text/plain": [
       "False"
      ]
     },
     "execution_count": 87,
     "metadata": {},
     "output_type": "execute_result"
    }
   ],
   "source": [
    "# Space not allowed\n",
    "s = \"123 456\"\n",
    "s.isdecimal()"
   ]
  },
  {
   "cell_type": "code",
   "execution_count": 88,
   "id": "1e078056",
   "metadata": {},
   "outputs": [
    {
     "data": {
      "text/plain": [
       "False"
      ]
     },
     "execution_count": 88,
     "metadata": {},
     "output_type": "execute_result"
    }
   ],
   "source": [
    "# String not allowed\n",
    "s =\" Sachin123\"\n",
    "s.isdecimal()"
   ]
  },
  {
   "cell_type": "markdown",
   "id": "933db3bb",
   "metadata": {},
   "source": [
    "### isdigit()"
   ]
  },
  {
   "cell_type": "markdown",
   "id": "57dde39e",
   "metadata": {},
   "source": [
    "Python String isdigit() method returns “True” if all characters in the string are digits, Otherwise, It returns “False”. "
   ]
  },
  {
   "cell_type": "code",
   "execution_count": 89,
   "id": "2bcb2545",
   "metadata": {},
   "outputs": [
    {
     "data": {
      "text/plain": [
       "False"
      ]
     },
     "execution_count": 89,
     "metadata": {},
     "output_type": "execute_result"
    }
   ],
   "source": [
    "s = \"Sachin\"\n",
    "s.isdigit()"
   ]
  },
  {
   "cell_type": "code",
   "execution_count": 90,
   "id": "4d2c8e41",
   "metadata": {},
   "outputs": [
    {
     "data": {
      "text/plain": [
       "True"
      ]
     },
     "execution_count": 90,
     "metadata": {},
     "output_type": "execute_result"
    }
   ],
   "source": [
    "s = \"123\"\n",
    "s.isdigit()"
   ]
  },
  {
   "cell_type": "code",
   "execution_count": 91,
   "id": "ad59c3a0",
   "metadata": {},
   "outputs": [
    {
     "data": {
      "text/plain": [
       "False"
      ]
     },
     "execution_count": 91,
     "metadata": {},
     "output_type": "execute_result"
    }
   ],
   "source": [
    "s = \"Sachin123\"\n",
    "s.isdigit()"
   ]
  },
  {
   "cell_type": "code",
   "execution_count": 92,
   "id": "20c7cdcc",
   "metadata": {},
   "outputs": [
    {
     "data": {
      "text/plain": [
       "False"
      ]
     },
     "execution_count": 92,
     "metadata": {},
     "output_type": "execute_result"
    }
   ],
   "source": [
    "s = \"123 456\"\n",
    "s.isdigit()"
   ]
  },
  {
   "cell_type": "markdown",
   "id": "ec1e0e52",
   "metadata": {},
   "source": [
    "Difference between isdigit() and isdecimal()"
   ]
  },
  {
   "cell_type": "code",
   "execution_count": 93,
   "id": "f749292b",
   "metadata": {},
   "outputs": [
    {
     "name": "stdout",
     "output_type": "stream",
     "text": [
      "expr isdigit()? True\n",
      "expr isdecimal()? False\n",
      "expr isnumeric()? True\n"
     ]
    }
   ],
   "source": [
    "expr = \"4²\"\n",
    "print(\"expr isdigit()?\", expr.isdigit()) \n",
    "print(\"expr isdecimal()?\", expr.isdecimal())\n",
    "print(\"expr isnumeric()?\", expr.isnumeric())"
   ]
  },
  {
   "cell_type": "markdown",
   "id": "fecc84a8",
   "metadata": {},
   "source": [
    "Difference between isnumeric() and isdecimal()"
   ]
  },
  {
   "cell_type": "code",
   "execution_count": 94,
   "id": "64b91a0b",
   "metadata": {},
   "outputs": [
    {
     "name": "stdout",
     "output_type": "stream",
     "text": [
      "expr isdigit()? False\n",
      "expr isnumeric()? True\n",
      "expr isdecimal()? False\n"
     ]
    }
   ],
   "source": [
    "expr = \"⅔\"\n",
    "print(\"expr isdigit()?\", expr.isdigit())  \n",
    "print(\"expr isnumeric()?\", expr.isnumeric())  \n",
    "print(\"expr isdecimal()?\", expr.isdecimal())"
   ]
  },
  {
   "cell_type": "code",
   "execution_count": 95,
   "id": "62896017",
   "metadata": {},
   "outputs": [
    {
     "name": "stdout",
     "output_type": "stream",
     "text": [
      "True\n",
      "True\n",
      "True\n"
     ]
    }
   ],
   "source": [
    "# Is 42 a decimal or digit or numeric number?\n",
    "print('42'.isdecimal())        # Prints True\n",
    "print('42'.isdigit())          # Prints True\n",
    "print('42'.isnumeric())        # Prints True"
   ]
  },
  {
   "cell_type": "code",
   "execution_count": 96,
   "id": "416796ba",
   "metadata": {},
   "outputs": [
    {
     "name": "stdout",
     "output_type": "stream",
     "text": [
      "False\n",
      "True\n",
      "True\n"
     ]
    }
   ],
   "source": [
    "# Is ² (Superscript Two) a decimal or digit or numeric number?\n",
    "print('\\u00b2'.isdecimal())    # Prints False\n",
    "print('\\u00b2'.isdigit())      # Prints True\n",
    "print('\\u00b2'.isnumeric())    # Prints True"
   ]
  },
  {
   "cell_type": "code",
   "execution_count": 97,
   "id": "981a3268",
   "metadata": {},
   "outputs": [
    {
     "name": "stdout",
     "output_type": "stream",
     "text": [
      "False\n",
      "False\n",
      "True\n"
     ]
    }
   ],
   "source": [
    "# Is ⅓ (Vulgar Fraction One Third) a decimal or digit or numeric number?\n",
    "print('\\u2153'.isdecimal())    # Prints False\n",
    "print('\\u2153'.isdigit())      # Prints False\n",
    "print('\\u2153'.isnumeric())    # Prints True"
   ]
  },
  {
   "cell_type": "code",
   "execution_count": 98,
   "id": "664c818f",
   "metadata": {},
   "outputs": [],
   "source": [
    "# isnumeric() > isdigit() > isdecimal()"
   ]
  },
  {
   "cell_type": "markdown",
   "id": "293a0b81",
   "metadata": {},
   "source": [
    "### 7. Split"
   ]
  },
  {
   "cell_type": "code",
   "execution_count": 99,
   "id": "349049a2",
   "metadata": {},
   "outputs": [],
   "source": [
    "# Convert string into list"
   ]
  },
  {
   "cell_type": "code",
   "execution_count": 100,
   "id": "1f5ca8bc",
   "metadata": {},
   "outputs": [
    {
     "data": {
      "text/plain": [
       "['I', 'Love', 'my', 'INDIA']"
      ]
     },
     "execution_count": 100,
     "metadata": {},
     "output_type": "execute_result"
    }
   ],
   "source": [
    "s =\"I Love my INDIA\"\n",
    "s.split()"
   ]
  },
  {
   "cell_type": "code",
   "execution_count": 101,
   "id": "09fb9696",
   "metadata": {},
   "outputs": [
    {
     "data": {
      "text/plain": [
       "['I ', ' my INDIA']"
      ]
     },
     "execution_count": 101,
     "metadata": {},
     "output_type": "execute_result"
    }
   ],
   "source": [
    "s =\"I Love my INDIA\"\n",
    "s.split(\"Love\")"
   ]
  },
  {
   "cell_type": "code",
   "execution_count": 102,
   "id": "132060f3",
   "metadata": {},
   "outputs": [
    {
     "data": {
      "text/plain": [
       "['I Love ', ' INDIA']"
      ]
     },
     "execution_count": 102,
     "metadata": {},
     "output_type": "execute_result"
    }
   ],
   "source": [
    "s =\"I Love my INDIA\"\n",
    "s.split(\"my\")"
   ]
  },
  {
   "cell_type": "code",
   "execution_count": 103,
   "id": "66c6f860",
   "metadata": {},
   "outputs": [
    {
     "data": {
      "text/plain": [
       "['who', 'is', 'the', 'pm', 'of', 'india']"
      ]
     },
     "execution_count": 103,
     "metadata": {},
     "output_type": "execute_result"
    }
   ],
   "source": [
    "s = \"who is the pm of india\"\n",
    "temp = s.split()\n",
    "temp"
   ]
  },
  {
   "cell_type": "markdown",
   "id": "c5cf6e54",
   "metadata": {},
   "source": [
    "### 8. Join"
   ]
  },
  {
   "cell_type": "code",
   "execution_count": 104,
   "id": "64734455",
   "metadata": {},
   "outputs": [
    {
     "data": {
      "text/plain": [
       "'who is the pm of india'"
      ]
     },
     "execution_count": 104,
     "metadata": {},
     "output_type": "execute_result"
    }
   ],
   "source": [
    "# Convert list into string\n",
    "\" \".join(temp)"
   ]
  },
  {
   "cell_type": "code",
   "execution_count": 105,
   "id": "56c4e66b",
   "metadata": {},
   "outputs": [
    {
     "data": {
      "text/plain": [
       "'who$$$is$$$the$$$pm$$$of$$$india'"
      ]
     },
     "execution_count": 105,
     "metadata": {},
     "output_type": "execute_result"
    }
   ],
   "source": [
    "\"$$$\".join(temp)"
   ]
  },
  {
   "cell_type": "code",
   "execution_count": 106,
   "id": "0484369d",
   "metadata": {},
   "outputs": [
    {
     "data": {
      "text/plain": [
       "'who-is-the-pm-of-india'"
      ]
     },
     "execution_count": 106,
     "metadata": {},
     "output_type": "execute_result"
    }
   ],
   "source": [
    "\"-\".join(temp)"
   ]
  },
  {
   "cell_type": "markdown",
   "id": "48f98e31",
   "metadata": {},
   "source": [
    "### 9. Replace"
   ]
  },
  {
   "cell_type": "code",
   "execution_count": 107,
   "id": "c5626a2b",
   "metadata": {},
   "outputs": [
    {
     "data": {
      "text/plain": [
       "'I am Wandre'"
      ]
     },
     "execution_count": 107,
     "metadata": {},
     "output_type": "execute_result"
    }
   ],
   "source": [
    "s = \"I am Sachin\"\n",
    "s.replace(\"Sachin\",\"Wandre\")"
   ]
  },
  {
   "cell_type": "code",
   "execution_count": 108,
   "id": "18bfde60",
   "metadata": {},
   "outputs": [
    {
     "data": {
      "text/plain": [
       "'I Love Hindustan'"
      ]
     },
     "execution_count": 108,
     "metadata": {},
     "output_type": "execute_result"
    }
   ],
   "source": [
    "s =\"I Love India\"\n",
    "s.replace(\"India\",\"Hindustan\")"
   ]
  },
  {
   "cell_type": "code",
   "execution_count": 109,
   "id": "19d58b03",
   "metadata": {},
   "outputs": [
    {
     "data": {
      "text/plain": [
       "'I Love India'"
      ]
     },
     "execution_count": 109,
     "metadata": {},
     "output_type": "execute_result"
    }
   ],
   "source": [
    "s"
   ]
  },
  {
   "cell_type": "markdown",
   "id": "28261ee0",
   "metadata": {},
   "source": [
    "### 10. Strip"
   ]
  },
  {
   "cell_type": "code",
   "execution_count": 110,
   "id": "ae94738f",
   "metadata": {},
   "outputs": [
    {
     "data": {
      "text/plain": [
       "'Sachin   Wandre               Mangaon'"
      ]
     },
     "execution_count": 110,
     "metadata": {},
     "output_type": "execute_result"
    }
   ],
   "source": [
    "# Remove left and right spaces\n",
    "# Used while regstration form to remove unessecarry spaces\n",
    "name = \"         Sachin   Wandre               Mangaon             \"\n",
    "name.strip()"
   ]
  },
  {
   "cell_type": "code",
   "execution_count": 111,
   "id": "93f52a19",
   "metadata": {},
   "outputs": [
    {
     "name": "stdout",
     "output_type": "stream",
     "text": [
      "Sachin Wandre Mangaon\n"
     ]
    }
   ],
   "source": [
    "# If you want to remove all unneccessary spaces \n",
    "name = \"         Sachin   Wandre               Mangaon             \"\n",
    "name_without_spaces = \" \".join(name.split())\n",
    "print(name_without_spaces)"
   ]
  },
  {
   "cell_type": "code",
   "execution_count": 112,
   "id": "41293ee6",
   "metadata": {},
   "outputs": [
    {
     "data": {
      "text/plain": [
       "'Sachin Wandre Mangaon'"
      ]
     },
     "execution_count": 112,
     "metadata": {},
     "output_type": "execute_result"
    }
   ],
   "source": [
    "# If you want to remove all unneccessary spaces \n",
    "name = \"         Sachin   Wandre               Mangaon             \"\n",
    "\" \".join(name.split())"
   ]
  },
  {
   "cell_type": "markdown",
   "id": "f4e501ec",
   "metadata": {},
   "source": [
    "### Write a program to print every character of a string entered by the user in a new line using a loop"
   ]
  },
  {
   "cell_type": "code",
   "execution_count": 113,
   "id": "3a71ca0d",
   "metadata": {},
   "outputs": [
    {
     "name": "stdout",
     "output_type": "stream",
     "text": [
      " \n",
      "S\n",
      "a\n",
      "c\n",
      "h\n",
      "i\n",
      "n\n",
      " \n",
      "N\n",
      "a\n",
      "r\n",
      "a\n",
      "y\n",
      "a\n",
      "n\n",
      " \n",
      "W\n",
      "a\n",
      "n\n",
      "d\n",
      "r\n",
      "e\n"
     ]
    }
   ],
   "source": [
    "name = \" Sachin Narayan Wandre\"\n",
    "\n",
    "for char in name:\n",
    "    print(char)"
   ]
  },
  {
   "cell_type": "markdown",
   "id": "aa7ee67c",
   "metadata": {},
   "source": [
    "### Write a program to find the length of the string \"machine learning\" with and without using len function."
   ]
  },
  {
   "cell_type": "code",
   "execution_count": 114,
   "id": "1a87ba3f",
   "metadata": {},
   "outputs": [
    {
     "name": "stdout",
     "output_type": "stream",
     "text": [
      "Length of givent string is 16\n",
      "Using len function 16\n"
     ]
    }
   ],
   "source": [
    "string = \"machine learning\"\n",
    "count = 0\n",
    "for s in string:\n",
    "    count += 1\n",
    "print(\"Length of givent string is\",count)\n",
    "print(\"Using len function\",len(string))"
   ]
  },
  {
   "cell_type": "markdown",
   "id": "deb5c871",
   "metadata": {},
   "source": [
    "### Write a program to check if the word 'orange' is present in the \"This is orange juice"
   ]
  },
  {
   "cell_type": "code",
   "execution_count": 115,
   "id": "e58bfd7c",
   "metadata": {},
   "outputs": [
    {
     "name": "stdout",
     "output_type": "stream",
     "text": [
      "Orange word found\n"
     ]
    }
   ],
   "source": [
    "string = \"This is orange juice\"\n",
    "\n",
    "if string.find(\"orange\") > -1:\n",
    "    print(\"Orange word found\")\n",
    "else:\n",
    "    print(\"Orange word not found\")\n"
   ]
  },
  {
   "cell_type": "code",
   "execution_count": 116,
   "id": "e94418c9",
   "metadata": {},
   "outputs": [
    {
     "name": "stdout",
     "output_type": "stream",
     "text": [
      "Present\n"
     ]
    }
   ],
   "source": [
    "string = \"This is orange juice\"\n",
    "if \"orange\" in string.split():\n",
    "    print(\"Present\")\n",
    "else:\n",
    "    print(\"not present\")"
   ]
  },
  {
   "cell_type": "code",
   "execution_count": 117,
   "id": "5a1113e1",
   "metadata": {},
   "outputs": [
    {
     "name": "stdout",
     "output_type": "stream",
     "text": [
      "Present\n"
     ]
    }
   ],
   "source": [
    "string = \"This is orange juice\"\n",
    "if \"orange\" in string:\n",
    "    print(\"Present\")\n",
    "else:\n",
    "    print(\"not present\")"
   ]
  },
  {
   "cell_type": "markdown",
   "id": "d8bb7fbb",
   "metadata": {},
   "source": [
    "### Write a program to find the number of vowels, consonants, digits, and white space characters in a string."
   ]
  },
  {
   "cell_type": "code",
   "execution_count": 118,
   "id": "c5347aae",
   "metadata": {},
   "outputs": [
    {
     "name": "stdout",
     "output_type": "stream",
     "text": [
      "Total vowels= 7\n",
      "Total consonants= 20\n",
      "Total space = 4\n",
      "Total digits = 10\n"
     ]
    }
   ],
   "source": [
    "string = \"Sachin Narayan Wandre 9975217677 @#*&)(*)\"\n",
    "\n",
    "vowels = 0\n",
    "consonants = 0\n",
    "digits = 0\n",
    "space = 0\n",
    "\n",
    "for s in string:\n",
    "    \n",
    "    if s == \"a\" or s == 'e' or s =='i' or s == 'o' or  s == 'u':\n",
    "        vowels += 1\n",
    "    elif s == \" \":\n",
    "        space += 1\n",
    "    elif s.isdigit() == True:\n",
    "        digits += 1\n",
    "    else:\n",
    "        consonants += 1\n",
    "\n",
    "print(\"Total vowels=\",vowels)\n",
    "print(\"Total consonants=\",consonants)\n",
    "print(\"Total space =\",space)\n",
    "print(\"Total digits =\",digits)    "
   ]
  },
  {
   "cell_type": "code",
   "execution_count": 119,
   "id": "76f2409e",
   "metadata": {},
   "outputs": [
    {
     "name": "stdout",
     "output_type": "stream",
     "text": [
      "Number of vowels: 7\n",
      "Number of consonants: 12\n",
      "Number of digits: 10\n",
      "Number of white spaces: 4\n",
      "Number of special characters: 8\n"
     ]
    }
   ],
   "source": [
    "def count_characters(string):\n",
    "    vowels = 0\n",
    "    consonants = 0\n",
    "    digits = 0\n",
    "    spaces = 0\n",
    "    special_chars = 0\n",
    "\n",
    "    # Converting the string to lowercase for easier comparison\n",
    "    string = string.lower()\n",
    "\n",
    "    for char in string:\n",
    "        # Check if character is a vowel\n",
    "        if char in \"aeiou\":\n",
    "            vowels += 1\n",
    "        # Check if character is a consonant\n",
    "        elif char.isalpha():\n",
    "            consonants += 1\n",
    "        # Check if character is a digit\n",
    "        elif char.isdigit():\n",
    "            digits += 1\n",
    "        # Check if character is a whitespace\n",
    "        elif char.isspace():\n",
    "            spaces += 1\n",
    "        else:\n",
    "            special_chars += 1\n",
    "\n",
    "    return vowels, consonants, digits, spaces, special_chars\n",
    "\n",
    "# Input string\n",
    "input_string = \"Sachin Narayan Wandre 9975217677 @#*&)(*)\"\n",
    "\n",
    "# Counting characters\n",
    "vowels, consonants, digits, spaces, special_chars = count_characters(input_string)\n",
    "\n",
    "print(\"Number of vowels:\", vowels)\n",
    "print(\"Number of consonants:\", consonants)\n",
    "print(\"Number of digits:\", digits)\n",
    "print(\"Number of white spaces:\", spaces)\n",
    "print(\"Number of special characters:\", special_chars)\n"
   ]
  },
  {
   "cell_type": "code",
   "execution_count": 120,
   "id": "e0b36ef6",
   "metadata": {},
   "outputs": [
    {
     "name": "stdout",
     "output_type": "stream",
     "text": [
      "Total vowels= 7\n",
      "Total consonants= 20\n",
      "Total space = 4\n",
      "Total digits = 10\n"
     ]
    }
   ],
   "source": [
    "string = \"Sachin Narayan Wandre 9975217677 @#*&)(*)\"\n",
    "\n",
    "vowels = 0\n",
    "consonants = 0\n",
    "digits = 0\n",
    "space = 0\n",
    "vowels_list = ['a','e','i','o','u']\n",
    "\n",
    "for s in string:\n",
    "    \n",
    "    if s in vowels_list:\n",
    "        vowels += 1\n",
    "    elif s == \" \":\n",
    "        space += 1\n",
    "    elif s.isdigit() == True:\n",
    "        digits += 1\n",
    "    else:\n",
    "        consonants += 1\n",
    "\n",
    "print(\"Total vowels=\",vowels)\n",
    "print(\"Total consonants=\",consonants)\n",
    "print(\"Total space =\",space)\n",
    "print(\"Total digits =\",digits)    "
   ]
  },
  {
   "cell_type": "markdown",
   "id": "8a5891b7",
   "metadata": {},
   "source": [
    "### Write a Python program to count Uppercase, Lowercase, special character,and numeric values in a given string."
   ]
  },
  {
   "cell_type": "code",
   "execution_count": 121,
   "id": "d1c4b843",
   "metadata": {},
   "outputs": [
    {
     "name": "stdout",
     "output_type": "stream",
     "text": [
      "Total Upper 3\n",
      "Total Lower 16\n",
      "Total Special 12\n",
      "Total numeric 10\n"
     ]
    }
   ],
   "source": [
    "string = \"Sachin Narayan Wandre 9975217677 @#*&)(*)\"\n",
    "upper = 0\n",
    "lower = 0\n",
    "special_char = 0\n",
    "numeric = 0\n",
    "\n",
    "for s in string:\n",
    "    if s.isupper() == True:\n",
    "        upper += 1\n",
    "    elif s.islower() == True:\n",
    "        lower += 1\n",
    "    elif s.isdigit() == True:\n",
    "        numeric += 1\n",
    "    else:\n",
    "        special_char += 1\n",
    "\n",
    "        \n",
    "print(\"Total Upper\",upper)\n",
    "print(\"Total Lower\",lower)\n",
    "print(\"Total Special\",special_char)\n",
    "print(\"Total numeric\",numeric)"
   ]
  },
  {
   "cell_type": "code",
   "execution_count": 122,
   "id": "9b7f37aa",
   "metadata": {},
   "outputs": [
    {
     "name": "stdout",
     "output_type": "stream",
     "text": [
      "Total Upper 3\n",
      "Total Lower 16\n",
      "Total Special 12\n",
      "Total numeric 10\n"
     ]
    }
   ],
   "source": [
    "string = \"Sachin Narayan Wandre 9975217677 @#*&)(*)\"\n",
    "upper = 0\n",
    "lower = 0\n",
    "special_char = 0\n",
    "numeric = 0\n",
    "\n",
    "for s in string:\n",
    "    if s.isupper():\n",
    "        upper += 1\n",
    "    elif s.islower():\n",
    "        lower += 1\n",
    "    elif s.isdigit():\n",
    "        numeric += 1\n",
    "    else:\n",
    "        special_char += 1\n",
    "\n",
    "        \n",
    "print(\"Total Upper\",upper)\n",
    "print(\"Total Lower\",lower)\n",
    "print(\"Total Special\",special_char)\n",
    "print(\"Total numeric\",numeric)"
   ]
  },
  {
   "cell_type": "markdown",
   "id": "ca027332",
   "metadata": {},
   "source": [
    "### Write a program to make a new string with all the consonants deleted from the string \"Hello, have a good day\"."
   ]
  },
  {
   "cell_type": "code",
   "execution_count": 123,
   "id": "41f265f4",
   "metadata": {},
   "outputs": [
    {
     "name": "stdout",
     "output_type": "stream",
     "text": [
      "eoaeaooa\n"
     ]
    }
   ],
   "source": [
    "string = \"Hello, have a good day\"\n",
    "\n",
    "new_str = \"\"\n",
    "\n",
    "for s in string:\n",
    "    if s == \"a\" or s==\"e\" or s ==\"i\" or s ==\"o\" or s==\"u\":\n",
    "        new_str = new_str + s\n",
    "        \n",
    "print(new_str)"
   ]
  },
  {
   "cell_type": "code",
   "execution_count": 124,
   "id": "da83751c",
   "metadata": {},
   "outputs": [
    {
     "name": "stdout",
     "output_type": "stream",
     "text": [
      "eoaeaooa\n"
     ]
    }
   ],
   "source": [
    "string = \"Hello, have a good day\"\n",
    "vowels_list = ['a','e','i','o','u']\n",
    "new_str = \"\"\n",
    "\n",
    "for s in string:\n",
    "    if s in vowels_list:\n",
    "        new_str = new_str + s\n",
    "        \n",
    "print(new_str)"
   ]
  },
  {
   "cell_type": "code",
   "execution_count": 125,
   "id": "bf928a0e",
   "metadata": {},
   "outputs": [
    {
     "name": "stdout",
     "output_type": "stream",
     "text": [
      "Hll, hv  gd dy\n"
     ]
    }
   ],
   "source": [
    "string = \"Hello, have a good day\"\n",
    "vowels_list = ['a','e','i','o','u']\n",
    "new_str = \"\"\n",
    "\n",
    "for s in string:\n",
    "    if s not in vowels_list:\n",
    "        new_str = new_str + s\n",
    "        \n",
    "print(new_str)"
   ]
  },
  {
   "cell_type": "code",
   "execution_count": 126,
   "id": "127c2da7",
   "metadata": {},
   "outputs": [
    {
     "data": {
      "text/plain": [
       "['e', 'o', 'a', 'e', 'a', 'o', 'o', 'a']"
      ]
     },
     "execution_count": 126,
     "metadata": {},
     "output_type": "execute_result"
    }
   ],
   "source": [
    "vowels = ['a','e','i','o','u']\n",
    "\n",
    "list1 = [s for s in string if s in vowels]\n",
    "list1"
   ]
  },
  {
   "cell_type": "markdown",
   "id": "8f8c64e1",
   "metadata": {},
   "source": [
    "### Write a program to make a new string with all the owels deleted from the string \"Hello, have a good day\"."
   ]
  },
  {
   "cell_type": "code",
   "execution_count": 127,
   "id": "ed0ce6b6",
   "metadata": {},
   "outputs": [
    {
     "name": "stdout",
     "output_type": "stream",
     "text": [
      "Hll, hv  gd dy\n"
     ]
    }
   ],
   "source": [
    "string = \"Hello, have a good day\"\n",
    "\n",
    "new_str = \"\"\n",
    "\n",
    "for s in string:\n",
    "    if s in(\"aeiou\"):\n",
    "        continue\n",
    "    else:\n",
    "        new_str = new_str + s\n",
    "        \n",
    "print(new_str)"
   ]
  },
  {
   "cell_type": "code",
   "execution_count": 128,
   "id": "6fa435cc",
   "metadata": {},
   "outputs": [
    {
     "name": "stdout",
     "output_type": "stream",
     "text": [
      "Hll, hv  gd dy\n"
     ]
    }
   ],
   "source": [
    "string = \"Hello, have a good day\"\n",
    "\n",
    "new_str = \"\"\n",
    "\n",
    "for s in string:\n",
    "    if s in(\"aeiou\"):\n",
    "        continue\n",
    "    \n",
    "    new_str = new_str + s\n",
    "        \n",
    "print(new_str)"
   ]
  },
  {
   "cell_type": "code",
   "execution_count": 129,
   "id": "cb05674e",
   "metadata": {},
   "outputs": [
    {
     "name": "stdout",
     "output_type": "stream",
     "text": [
      "Hll, hv  gd dy\n"
     ]
    }
   ],
   "source": [
    "string = \"Hello, have a good day\"\n",
    "\n",
    "new_str = \"\"\n",
    "\n",
    "for s in string:\n",
    "    if s not in(\"aeiou\"):   \n",
    "        new_str = new_str + s\n",
    "        \n",
    "print(new_str)"
   ]
  },
  {
   "cell_type": "markdown",
   "id": "18efd691",
   "metadata": {},
   "source": [
    "### Write a Python program to remove the nth index character from a non-empty string."
   ]
  },
  {
   "cell_type": "code",
   "execution_count": 130,
   "id": "daa41b3f",
   "metadata": {},
   "outputs": [
    {
     "name": "stdout",
     "output_type": "stream",
     "text": [
      "Enter the index to which you want delete\t13\n",
      " I love my Inda and I am from Pune\n"
     ]
    }
   ],
   "source": [
    "string = \"I love my India and I am from Pune\"\n",
    "nth_index = int(input(\"Enter the index to which you want delete\\t\"))\n",
    "new_str = \" \"\n",
    "for s in string:\n",
    "    if s != string[nth_index]:\n",
    "        new_str = new_str + s\n",
    "        \n",
    "print(new_str)"
   ]
  },
  {
   "cell_type": "markdown",
   "id": "1ac8b629",
   "metadata": {},
   "source": [
    "### Write a Python program to change a given string to a new string where the first and last characters have been exchanged."
   ]
  },
  {
   "cell_type": "code",
   "execution_count": 131,
   "id": "2fd87457",
   "metadata": {},
   "outputs": [
    {
     "name": "stdout",
     "output_type": "stream",
     "text": [
      "eachin WandrS\n",
      "Sachin Wandre\n"
     ]
    }
   ],
   "source": [
    "string = \"Sachin Wandre\"\n",
    "\n",
    "new_string = string[-1] + string[1:-1] + string[0]\n",
    "\n",
    "print(new_string)\n",
    "print(string)"
   ]
  },
  {
   "cell_type": "markdown",
   "id": "e2b65a9c",
   "metadata": {},
   "source": [
    "### Write a Python program to count the occurrences of each word in a given sentence."
   ]
  },
  {
   "cell_type": "code",
   "execution_count": 132,
   "id": "d07cf7dc",
   "metadata": {},
   "outputs": [
    {
     "name": "stdout",
     "output_type": "stream",
     "text": [
      "a Occured 2 times\n",
      "b Occured 3 times\n",
      "x Occured 3 times\n",
      "c Occured 3 times\n",
      "d Occured 5 times\n",
      "e Occured 3 times\n",
      "['a', 'b', 'x', 'c', 'd', 'e']\n"
     ]
    }
   ],
   "source": [
    "string = \"aabxbbcccxdddddeeex\"\n",
    "\n",
    "new_string = \" \"\n",
    "list1 = []\n",
    "\n",
    "for s in string:\n",
    "    if s not in list1:\n",
    "        list1.append(s)\n",
    "        print(s,\"Occured\",string.count(s),\"times\")\n",
    "\n",
    "print(list1)      "
   ]
  },
  {
   "cell_type": "markdown",
   "id": "06163e07",
   "metadata": {},
   "source": [
    "### How do you count the occurrence of a given character in a string?"
   ]
  },
  {
   "cell_type": "code",
   "execution_count": 133,
   "id": "147cb776",
   "metadata": {},
   "outputs": [
    {
     "name": "stdout",
     "output_type": "stream",
     "text": [
      "{'I': 3, ' ': 8, 'l': 1, 'o': 2, 'v': 1, 'e': 2, 'm': 3, 'y': 1, 'n': 3, 'd': 2, 'i': 1, 'a': 3, 'f': 1, 'r': 1, 'P': 1, 'u': 1}\n"
     ]
    }
   ],
   "source": [
    "string = \"I love my India and I am from Pune\"\n",
    "new_dict = {}\n",
    "\n",
    "for s in string:\n",
    "    new_dict.update({s:string.count(s)})\n",
    "\n",
    "print(new_dict)"
   ]
  },
  {
   "cell_type": "markdown",
   "id": "6aa26928",
   "metadata": {},
   "source": [
    "### Write a program to find last 10 characters of a string?"
   ]
  },
  {
   "cell_type": "code",
   "execution_count": 134,
   "id": "48cae12e",
   "metadata": {},
   "outputs": [
    {
     "name": "stdout",
     "output_type": "stream",
     "text": [
      "ng in Pune\n"
     ]
    }
   ],
   "source": [
    "string = \" I love India and I living in Pune\"\n",
    "\n",
    "str_len = len(string)\n",
    "\n",
    "start_index = str_len - 10;\n",
    "\n",
    "print(string[start_index:])"
   ]
  },
  {
   "cell_type": "code",
   "execution_count": 135,
   "id": "94594662",
   "metadata": {},
   "outputs": [
    {
     "data": {
      "text/plain": [
       "'ng in Pune'"
      ]
     },
     "execution_count": 135,
     "metadata": {},
     "output_type": "execute_result"
    }
   ],
   "source": [
    "string = \" I love India and I living in Pune\"\n",
    "new_str =  string[-1:-11:-1]\n",
    "new_str[::-1]"
   ]
  },
  {
   "cell_type": "code",
   "execution_count": 136,
   "id": "d778a2b8",
   "metadata": {},
   "outputs": [
    {
     "data": {
      "text/plain": [
       "'ng in Pune'"
      ]
     },
     "execution_count": 136,
     "metadata": {},
     "output_type": "execute_result"
    }
   ],
   "source": [
    "string = \" I love India and I living in Pune\"\n",
    "string[-1:-11:-1][::-1]"
   ]
  },
  {
   "cell_type": "markdown",
   "id": "b4b34dbd",
   "metadata": {},
   "source": [
    "### WAP to convert a given string to all uppercase if it contains at least 2 uppercase characters in the first 4 characters."
   ]
  },
  {
   "cell_type": "code",
   "execution_count": 137,
   "id": "0308770a",
   "metadata": {},
   "outputs": [
    {
     "name": "stdout",
     "output_type": "stream",
     "text": [
      "SACHIN WANDRE MANGAON\n"
     ]
    }
   ],
   "source": [
    "# Wrong logic\n",
    "string = \"sAchin wandre MAngaon\"\n",
    "\n",
    "count = 0\n",
    "\n",
    "for s in string:\n",
    "    if s.isupper() == True:\n",
    "        count += 1\n",
    "        if count >= 2:  \n",
    "            print(string.upper())\n",
    "            break\n",
    "else:\n",
    "    print(string)    "
   ]
  },
  {
   "cell_type": "code",
   "execution_count": 138,
   "id": "e9e75769",
   "metadata": {},
   "outputs": [
    {
     "name": "stdout",
     "output_type": "stream",
     "text": [
      "SACHIN WANDRE MANGAON\n"
     ]
    }
   ],
   "source": [
    "string = \"sAcHIn wandre MAngaon\"\n",
    "\n",
    "count = 0\n",
    " \n",
    "for i in range(0,4):\n",
    "    if string[i].isupper() == True:\n",
    "        count += 1\n",
    "        if count >= 2:  \n",
    "            print(string.upper())\n",
    "            break\n",
    "else:\n",
    "    print(string)   "
   ]
  },
  {
   "cell_type": "code",
   "execution_count": 139,
   "id": "a325f720",
   "metadata": {},
   "outputs": [
    {
     "name": "stdout",
     "output_type": "stream",
     "text": [
      "sAchIn wandre MAngaon\n"
     ]
    }
   ],
   "source": [
    "string = \"sAchIn wandre MAngaon\"\n",
    "\n",
    "count = 0\n",
    " \n",
    "for i in range(0,4):\n",
    "    if string[i].isupper():\n",
    "        count += 1\n",
    "        if count >= 2:  \n",
    "            print(string.upper())\n",
    "            break\n",
    "else:\n",
    "    print(string)"
   ]
  },
  {
   "cell_type": "markdown",
   "id": "3562ec13",
   "metadata": {},
   "source": [
    "### Write a Python program to remove a newline in Python."
   ]
  },
  {
   "cell_type": "code",
   "execution_count": 140,
   "id": "6f9e6e91",
   "metadata": {},
   "outputs": [
    {
     "name": "stdout",
     "output_type": "stream",
     "text": [
      " Sachin Wandre  Mangaon\n"
     ]
    }
   ],
   "source": [
    "string = \"\"\"Sachin\n",
    " Wandre \n",
    " Mangaon\"\"\"\n",
    "\n",
    "new_str = \" \"\n",
    "for s in string:\n",
    "    if s == \"\\n\":\n",
    "        continue\n",
    "    else:\n",
    "        new_str = new_str + s\n",
    "print(new_str)"
   ]
  },
  {
   "cell_type": "code",
   "execution_count": 141,
   "id": "d44f1265",
   "metadata": {},
   "outputs": [
    {
     "name": "stdout",
     "output_type": "stream",
     "text": [
      "Sachin  Wandre  Mangaon\n"
     ]
    }
   ],
   "source": [
    "string = \"\"\"Sachin\n",
    " Wandre\n",
    " Mangaon\"\"\"\n",
    "\n",
    "# Replace newline characters with a space\n",
    "new_string = string.replace('\\n', ' ')\n",
    "\n",
    "print(new_string)\n"
   ]
  },
  {
   "cell_type": "markdown",
   "id": "8edf7f6a",
   "metadata": {},
   "source": [
    "### Write a Python program to find the first repeated character in a given string"
   ]
  },
  {
   "cell_type": "code",
   "execution_count": 142,
   "id": "0dc344e3",
   "metadata": {},
   "outputs": [
    {
     "name": "stdout",
     "output_type": "stream",
     "text": [
      "The first repeated character is: c\n"
     ]
    }
   ],
   "source": [
    "def find_first_repeated_character(input_string):\n",
    "    char_count = {}  # Dictionary to store character counts\n",
    "\n",
    "    for char in input_string:\n",
    "        if char in char_count:\n",
    "            return char  # Found the first repeated character\n",
    "        char_count[char] = 1\n",
    "\n",
    "    return None  # No repeated character found\n",
    "\n",
    "# Input string\n",
    "input_string = \"abcdefgch\"\n",
    "\n",
    "first_repeated = find_first_repeated_character(input_string)\n",
    "\n",
    "if first_repeated:\n",
    "    print(f\"The first repeated character is: {first_repeated}\")\n",
    "else:\n",
    "    print(\"No repeated character found\")\n"
   ]
  },
  {
   "cell_type": "code",
   "execution_count": 143,
   "id": "99db395f",
   "metadata": {},
   "outputs": [
    {
     "name": "stdout",
     "output_type": "stream",
     "text": [
      "e\n"
     ]
    }
   ],
   "source": [
    "input_string = \"abcdefegch\"\n",
    "list1 = []\n",
    "temp = \"\"\n",
    "for s in input_string:\n",
    "    list1.append(s)\n",
    "    temp = s\n",
    "    if list1.count(s) == 2:\n",
    "        break\n",
    "print(temp)"
   ]
  },
  {
   "cell_type": "markdown",
   "id": "f04d6cf9",
   "metadata": {},
   "source": [
    "### Write a Python program to find the second most repeated word in a given string"
   ]
  },
  {
   "cell_type": "code",
   "execution_count": 144,
   "id": "621e8d3c",
   "metadata": {},
   "outputs": [
    {
     "name": "stdout",
     "output_type": "stream",
     "text": [
      "The second most repeated word is: apple\n"
     ]
    }
   ],
   "source": [
    "from collections import Counter\n",
    "\n",
    "def find_second_most_repeated_word(input_string):\n",
    "    words = input_string.split()  # Split the input string into words\n",
    "    word_count = Counter(words)    # Count the occurrences of each word\n",
    "\n",
    "    # Sort words by their counts in descending order\n",
    "    sorted_words = sorted(word_count, key=lambda word: (-word_count[word], word))\n",
    "\n",
    "    if len(sorted_words) >= 2:\n",
    "        return sorted_words[1]  # Return the second most repeated word\n",
    "    else:\n",
    "        return None  # Not enough unique words to find the second most repeated\n",
    "\n",
    "# Input string\n",
    "input_string = \"apple banana apple  banana cherry banana \"\n",
    "\n",
    "second_most_repeated = find_second_most_repeated_word(input_string)\n",
    "\n",
    "if second_most_repeated:\n",
    "    print(f\"The second most repeated word is: {second_most_repeated}\")\n",
    "else:\n",
    "    print(\"Not enough unique words to find the second most repeated\")\n"
   ]
  },
  {
   "cell_type": "code",
   "execution_count": 145,
   "id": "69e91930",
   "metadata": {},
   "outputs": [
    {
     "name": "stdout",
     "output_type": "stream",
     "text": [
      "{'apple': 4, 'banana': 3, 'cherry': 1}\n",
      "{'cherry': 1, 'banana': 3, 'apple': 4}\n",
      "Second key: banana, Second value: 3\n"
     ]
    }
   ],
   "source": [
    "# By using dictionary\n",
    "\n",
    "# Added into dictionary\n",
    "input_string = \"apple banana apple apple banana cherry banana apple\"\n",
    "new_dict = {}\n",
    "for s in input_string.split():\n",
    "    new_dict.update({s:input_string.split().count(s)})\n",
    "print(new_dict)\n",
    "\n",
    "# Sort the dictionary based on values\n",
    "sort_dict_by_value = {}\n",
    "for value in sorted(new_dict.values()):\n",
    "    for key in new_dict:\n",
    "        if new_dict[key] == value:\n",
    "            sort_dict_by_value.update({key:value})\n",
    "\n",
    "print(sort_dict_by_value)\n",
    "\n",
    "# Find out the second key value pair\n",
    "keys_list = list(sort_dict_by_value.keys())\n",
    "values_list = list(sort_dict_by_value.values())\n",
    "\n",
    "if len(keys_list) >= 2:\n",
    "    second_key = keys_list[1]\n",
    "    second_value = values_list[1]\n",
    "    print(f\"Second key: {second_key}, Second value: {second_value}\")\n",
    "else:\n",
    "    print(\"The dictionary doesn't have enough key-value pairs.\")"
   ]
  },
  {
   "cell_type": "markdown",
   "id": "2334f9f8",
   "metadata": {},
   "source": [
    "### Python program to Count Even and Odd numbers in a string"
   ]
  },
  {
   "cell_type": "code",
   "execution_count": 146,
   "id": "538d40db",
   "metadata": {},
   "outputs": [
    {
     "name": "stdout",
     "output_type": "stream",
     "text": [
      "Total even numbers= 2\n",
      "Total odd numbers= 7\n"
     ]
    }
   ],
   "source": [
    "string = \"996753433\"\n",
    "even = 0\n",
    "odd = 0\n",
    "for s in string:\n",
    "    if s.isdigit() == True:\n",
    "        if int(s) % 2 == 0:\n",
    "            even += 1\n",
    "        else:\n",
    "            odd += 1\n",
    "            \n",
    "print(\"Total even numbers=\",even)\n",
    "print(\"Total odd numbers=\",odd)"
   ]
  },
  {
   "cell_type": "markdown",
   "id": "cca372c8",
   "metadata": {},
   "source": [
    "### How do you check if a string contains only digits?"
   ]
  },
  {
   "cell_type": "code",
   "execution_count": 147,
   "id": "527b5d3a",
   "metadata": {},
   "outputs": [
    {
     "name": "stdout",
     "output_type": "stream",
     "text": [
      "True\n",
      "True\n",
      "True\n"
     ]
    }
   ],
   "source": [
    "string = \"996753433\"\n",
    "print(string.isdigit())\n",
    "print(string.isnumeric())\n",
    "print(string.isdecimal())"
   ]
  },
  {
   "cell_type": "markdown",
   "id": "a7e2a93b",
   "metadata": {},
   "source": [
    "### How do you remove a given character/word from String?"
   ]
  },
  {
   "cell_type": "code",
   "execution_count": 148,
   "id": "6c8368e5",
   "metadata": {},
   "outputs": [
    {
     "name": "stdout",
     "output_type": "stream",
     "text": [
      "Enter string to removedata\n",
      " I am   scientist\n"
     ]
    }
   ],
   "source": [
    "string = \" I am data scientist\"\n",
    "word = input(\"Enter string to remove\")\n",
    "\n",
    "if word in string:\n",
    "    new_string = string.replace(word,\" \")\n",
    "    print(new_string)\n",
    "    \n",
    "else:\n",
    "    print(\"Entered word is not in string\")"
   ]
  },
  {
   "cell_type": "markdown",
   "id": "ad0ba02a",
   "metadata": {},
   "source": [
    "### Write a Python program to remove the characters which have odd index values of a given string"
   ]
  },
  {
   "cell_type": "code",
   "execution_count": 149,
   "id": "a342c8ea",
   "metadata": {},
   "outputs": [
    {
     "name": "stdout",
     "output_type": "stream",
     "text": [
      " Ia iigi uesne21\n"
     ]
    }
   ],
   "source": [
    "string = \"I am living in pune since 2015\"\n",
    "\n",
    "new_str = \" \"\n",
    "for i in range(len(string)):\n",
    "    if i % 2 == 0:\n",
    "        new_str = new_str + string[i]\n",
    "print(new_str)"
   ]
  },
  {
   "cell_type": "code",
   "execution_count": 150,
   "id": "2ed39d3f",
   "metadata": {},
   "outputs": [
    {
     "name": "stdout",
     "output_type": "stream",
     "text": [
      "aceaaa\n",
      "pto\n"
     ]
    }
   ],
   "source": [
    "def odd_values_string(str):\n",
    "  result = \"\" \n",
    "  for i in range(len(str)):\n",
    "    if i % 2 == 0:\n",
    "      result = result + str[i]\n",
    "  return result\n",
    "\n",
    "print(odd_values_string('abcdefaaaaa'))\n",
    "print(odd_values_string('python'))"
   ]
  },
  {
   "cell_type": "markdown",
   "id": "41df1977",
   "metadata": {},
   "source": [
    "### Write a Python function to reverses a string if its length is a multiple of 5"
   ]
  },
  {
   "cell_type": "code",
   "execution_count": 151,
   "id": "0a189d54",
   "metadata": {},
   "outputs": [
    {
     "name": "stdout",
     "output_type": "stream",
     "text": [
      "ihcaS\n"
     ]
    }
   ],
   "source": [
    "string = \"Sachi\"\n",
    "\n",
    "if len(string) % 5 == 0:\n",
    "    print(string[::-1])"
   ]
  },
  {
   "cell_type": "code",
   "execution_count": 152,
   "id": "825c35f6",
   "metadata": {},
   "outputs": [
    {
     "name": "stdout",
     "output_type": "stream",
     "text": [
      " ihcaS\n"
     ]
    }
   ],
   "source": [
    "string = \"Sachi\"\n",
    "\n",
    "new_str = \" \"\n",
    "if len(string) % 5 == 0:\n",
    "    for s in range(len(string)-1,-1,-1):\n",
    "        new_str = new_str + string[s]\n",
    "        \n",
    "print(new_str)   "
   ]
  },
  {
   "cell_type": "markdown",
   "id": "8e053dbd",
   "metadata": {},
   "source": [
    "### Write a Python program to reverse words in a string"
   ]
  },
  {
   "cell_type": "code",
   "execution_count": 153,
   "id": "d97218a3",
   "metadata": {},
   "outputs": [
    {
     "name": "stdout",
     "output_type": "stream",
     "text": [
      "tsitneics ataD ma I dna AIDNI evoL I  \n"
     ]
    }
   ],
   "source": [
    "string = \"I Love INDIA and I am Data scientist\"\n",
    "\n",
    "reverse = \" \"\n",
    "new_str = \" \"\n",
    "word = \" \"\n",
    "s1 = string.split()\n",
    "#print(s1[-1])\n",
    "for s in string:\n",
    "    if s != \" \":\n",
    "        word = word + s;\n",
    "    else:       \n",
    "        reverse = word[::-1]\n",
    "        new_str = reverse + new_str\n",
    "        word = \" \"\n",
    "        #new_str = new_str + reverse\n",
    "         \n",
    "print(s1[-1][::-1] + \" \"+ new_str)"
   ]
  },
  {
   "cell_type": "code",
   "execution_count": 154,
   "id": "01816b98",
   "metadata": {},
   "outputs": [
    {
     "data": {
      "text/plain": [
       "'scientist Data am I and INDIA Love I'"
      ]
     },
     "execution_count": 154,
     "metadata": {},
     "output_type": "execute_result"
    }
   ],
   "source": [
    "string = \"I Love INDIA and I am Data scientist\"\n",
    "\n",
    "list1 = []\n",
    "\n",
    "list1 = string.split()\n",
    "\n",
    "list1.reverse()\n",
    "# print(list1)\n",
    "\n",
    "reverse_string = \" \".join(list1)\n",
    "reverse_string"
   ]
  },
  {
   "cell_type": "code",
   "execution_count": 155,
   "id": "e7288567",
   "metadata": {},
   "outputs": [
    {
     "name": "stdout",
     "output_type": "stream",
     "text": [
      "code practice quiz geeks\n"
     ]
    }
   ],
   "source": [
    "# input string\n",
    "string = \"geeks quiz practice code\"\n",
    "# reversing words in a given string\n",
    "s = string.split()[::-1]\n",
    "l = []\n",
    "for i in s:\n",
    "    # apending reversed words to l\n",
    "    l.append(i)\n",
    "# printing reverse words\n",
    "print(\" \".join(l))"
   ]
  },
  {
   "cell_type": "markdown",
   "id": "e6c5cc98",
   "metadata": {},
   "source": [
    "### Write a Python program to swap cases of a given string"
   ]
  },
  {
   "cell_type": "code",
   "execution_count": 156,
   "id": "9dd2126d",
   "metadata": {},
   "outputs": [
    {
     "name": "stdout",
     "output_type": "stream",
     "text": [
      "sACHIN wANDRE\n"
     ]
    }
   ],
   "source": [
    "string = \"Sachin Wandre\"\n",
    "print(string.swapcase())"
   ]
  },
  {
   "cell_type": "markdown",
   "id": "e7bc4a0d",
   "metadata": {},
   "source": [
    "### Write a Python program to remove spaces from a given string"
   ]
  },
  {
   "cell_type": "code",
   "execution_count": 157,
   "id": "c8d1c996",
   "metadata": {},
   "outputs": [
    {
     "name": "stdout",
     "output_type": "stream",
     "text": [
      " ILoveIndia\n"
     ]
    }
   ],
   "source": [
    "string = \" I Love     India          \"\n",
    "new_str = \" \"\n",
    "for s in string:\n",
    "    if s != \" \":\n",
    "        new_str += s\n",
    "print(new_str)"
   ]
  },
  {
   "cell_type": "markdown",
   "id": "1159d08c",
   "metadata": {},
   "source": [
    "### Write a Python program to remove duplicate characters of a given string"
   ]
  },
  {
   "cell_type": "code",
   "execution_count": 158,
   "id": "46bc7c5d",
   "metadata": {},
   "outputs": [
    {
     "name": "stdout",
     "output_type": "stream",
     "text": [
      " IamSchinDtes\n"
     ]
    }
   ],
   "source": [
    "string = \" I am Sachin I am Data Scientist\"\n",
    "\n",
    "new_str = \" \"\n",
    "\n",
    "for s in string:\n",
    "    if s in new_str:\n",
    "        continue\n",
    "    else:\n",
    "        new_str += s\n",
    "print(new_str)"
   ]
  },
  {
   "cell_type": "code",
   "execution_count": 159,
   "id": "7d22de49",
   "metadata": {},
   "outputs": [
    {
     "name": "stdout",
     "output_type": "stream",
     "text": [
      " IamSchinDtes\n"
     ]
    }
   ],
   "source": [
    "string = \" I am Sachin I am Data Scientist\"\n",
    "\n",
    "new_str = []\n",
    "\n",
    "for s in string:\n",
    "    if s not in new_str:\n",
    "        new_str.append(s)\n",
    "\n",
    "print(\"\".join(new_str))"
   ]
  },
  {
   "cell_type": "markdown",
   "id": "e7c36247",
   "metadata": {},
   "source": [
    "### Find length of string without using string function"
   ]
  },
  {
   "cell_type": "code",
   "execution_count": 160,
   "id": "669ddbee",
   "metadata": {},
   "outputs": [
    {
     "name": "stdout",
     "output_type": "stream",
     "text": [
      "length of string is 12\n"
     ]
    }
   ],
   "source": [
    "s = \"I love india\"\n",
    "length = 0\n",
    "for character in s:\n",
    "    length += 1\n",
    "print(\"length of string is\",length)"
   ]
  },
  {
   "cell_type": "markdown",
   "id": "7c4fe53f",
   "metadata": {},
   "source": [
    "### Extract the username from email id"
   ]
  },
  {
   "cell_type": "code",
   "execution_count": 161,
   "id": "61183e8c",
   "metadata": {},
   "outputs": [
    {
     "name": "stdout",
     "output_type": "stream",
     "text": [
      "Username of the user is  sachinwandre\n"
     ]
    }
   ],
   "source": [
    "# Best way to solve\n",
    "email =' sachinwandre@gmail.com'\n",
    "\n",
    "index = email.index(\"@\")\n",
    "\n",
    "print(\"Username of the user is\",email[0:index])"
   ]
  },
  {
   "cell_type": "code",
   "execution_count": 162,
   "id": "d116dc67",
   "metadata": {},
   "outputs": [
    {
     "name": "stdout",
     "output_type": "stream",
     "text": [
      "  sachinwandre99\n"
     ]
    }
   ],
   "source": [
    "# Using loop\n",
    "email =' sachinwandre99@gmail.com'\n",
    "new_str = \" \"\n",
    "for s in email:\n",
    "    if s != '@':\n",
    "        new_str = new_str + s\n",
    "    else:\n",
    "        break\n",
    "print(new_str)"
   ]
  },
  {
   "cell_type": "markdown",
   "id": "8fed7447",
   "metadata": {},
   "source": [
    "### Count the frequency of each character in given string"
   ]
  },
  {
   "cell_type": "code",
   "execution_count": 163,
   "id": "71f081ec",
   "metadata": {},
   "outputs": [
    {
     "name": "stdout",
     "output_type": "stream",
     "text": [
      "Enter the character to find out counti\n",
      "character i is counted 3 times\n"
     ]
    }
   ],
   "source": [
    "s = \"I love India india\"\n",
    "count = 0\n",
    "char = input(\"Enter the character to find out count\")\n",
    "for i in s:\n",
    "    if i == char:\n",
    "        count += 1\n",
    "print(f\"character {char} is counted\",count,\"times\")"
   ]
  },
  {
   "cell_type": "code",
   "execution_count": 164,
   "id": "bd4d0ee7",
   "metadata": {},
   "outputs": [
    {
     "name": "stdout",
     "output_type": "stream",
     "text": [
      "Enter the character to find out countl\n",
      "Entered character l is occured 1 times in string\n"
     ]
    }
   ],
   "source": [
    "# Best way to solve the problem to find single character occurance/frequency\n",
    "string = \"I love India india\"\n",
    "char = input(\"Enter the character to find out count\")\n",
    "if char in string:\n",
    "    count = string.count(char)\n",
    "    print(f'Entered character {char} is occured {count} times in string')\n",
    "else:\n",
    "    print(\"Entered char not present in string\")"
   ]
  },
  {
   "cell_type": "code",
   "execution_count": 165,
   "id": "ba1436c2",
   "metadata": {},
   "outputs": [
    {
     "name": "stdout",
     "output_type": "stream",
     "text": [
      "chracter I is counted 1 times\n",
      "chracter   is counted 3 times\n",
      "chracter l is counted 1 times\n",
      "chracter o is counted 1 times\n",
      "chracter v is counted 1 times\n",
      "chracter e is counted 1 times\n",
      "chracter i is counted 4 times\n",
      "chracter n is counted 2 times\n",
      "chracter d is counted 2 times\n",
      "chracter a is counted 2 times\n"
     ]
    }
   ],
   "source": [
    "s = \"I love india india\"\n",
    "temp_list = []\n",
    "\n",
    "for i in s:\n",
    "    if i not in temp_list:\n",
    "        temp_list.append(i)\n",
    "        print(f\"chracter {i} is counted\",s.count(i),\"times\")"
   ]
  },
  {
   "cell_type": "markdown",
   "id": "fd69c91c",
   "metadata": {},
   "source": [
    "### Write a program which  remove particular character from string"
   ]
  },
  {
   "cell_type": "code",
   "execution_count": 166,
   "id": "17c47788",
   "metadata": {},
   "outputs": [
    {
     "name": "stdout",
     "output_type": "stream",
     "text": [
      "Enter the stringData Scientist M\n",
      "Enter the charM\n",
      "New string become  Data Scientist \n"
     ]
    }
   ],
   "source": [
    "s = input(\"Enter the string\")\n",
    "remove_char = input(\"Enter the char\")\n",
    "new_str = \" \"\n",
    "for i in s:\n",
    "    if i != remove_char:\n",
    "        new_str = new_str + i\n",
    "print(\"New string become\",new_str)"
   ]
  },
  {
   "cell_type": "code",
   "execution_count": 167,
   "id": "5f54b8ea",
   "metadata": {},
   "outputs": [
    {
     "name": "stdout",
     "output_type": "stream",
     "text": [
      "Enter the stringI am living in pune\n",
      "Enter the wordliving\n",
      "After remove word string become\n"
     ]
    },
    {
     "data": {
      "text/plain": [
       "'I am in pune'"
      ]
     },
     "execution_count": 167,
     "metadata": {},
     "output_type": "execute_result"
    }
   ],
   "source": [
    "s = input(\"Enter the string\")\n",
    "remove_char = input(\"Enter the word\")\n",
    "new_list = s.split()\n",
    "\n",
    "new_list.remove(remove_char)\n",
    "\n",
    "print(\"After remove word string become\")\n",
    "\" \".join(new_list)"
   ]
  },
  {
   "cell_type": "markdown",
   "id": "c4a45905",
   "metadata": {},
   "source": [
    "### Given string is palindrome or not"
   ]
  },
  {
   "cell_type": "code",
   "execution_count": 168,
   "id": "9268ab8f",
   "metadata": {},
   "outputs": [
    {
     "name": "stdout",
     "output_type": "stream",
     "text": [
      "Enter the stringsachin\n",
      "Not palindrome\n"
     ]
    }
   ],
   "source": [
    "s = input(\"Enter the string\")\n",
    "if s == s[::-1]:\n",
    "    print(\"Palindrome\")\n",
    "else:\n",
    "    print(\"Not palindrome\")"
   ]
  },
  {
   "cell_type": "code",
   "execution_count": 169,
   "id": "4a2aafae",
   "metadata": {},
   "outputs": [
    {
     "name": "stdout",
     "output_type": "stream",
     "text": [
      "Enter the stringmalayalam\n",
      "palindrom\n"
     ]
    }
   ],
   "source": [
    "s = input(\"Enter the string\")\n",
    "flag = True\n",
    "for i in range(0,len(s)//2):\n",
    "    if s[i] != s[len(s)-i-1]:\n",
    "        flag = False\n",
    "        break;        \n",
    "\n",
    "if flag:\n",
    "    print(\"palindrom\")\n",
    "else:\n",
    "    print(\"Not Palindrome\")"
   ]
  },
  {
   "cell_type": "code",
   "execution_count": 170,
   "id": "f9fd15be",
   "metadata": {},
   "outputs": [
    {
     "name": "stdout",
     "output_type": "stream",
     "text": [
      "a\n",
      "a\n"
     ]
    }
   ],
   "source": [
    "s = 'malayalam'\n",
    "print((s[1]))\n",
    "print(s[len(s)-1-1])"
   ]
  },
  {
   "cell_type": "markdown",
   "id": "69471de6",
   "metadata": {},
   "source": [
    "### Convert the string to list without split"
   ]
  },
  {
   "cell_type": "code",
   "execution_count": 171,
   "id": "8f458f46",
   "metadata": {},
   "outputs": [
    {
     "name": "stdout",
     "output_type": "stream",
     "text": [
      "Enter the stringsachin wandre\n",
      "[' sachin', ' wandre']\n"
     ]
    }
   ],
   "source": [
    "s = input(\"Enter the string\")\n",
    "\n",
    "temp = \" \"\n",
    "list1 = []\n",
    "for i in s:\n",
    "    \n",
    "    if i != \" \":\n",
    "        temp = temp + i\n",
    "    else:\n",
    "        list1.append(temp)\n",
    "        temp = \" \"\n",
    "        \n",
    "list1.append(temp)        \n",
    "print(list1)"
   ]
  },
  {
   "cell_type": "code",
   "execution_count": 172,
   "id": "f6cf0194",
   "metadata": {},
   "outputs": [
    {
     "name": "stdout",
     "output_type": "stream",
     "text": [
      "[' Happy', ' New', ' Year']\n"
     ]
    }
   ],
   "source": [
    "string = \"Happy New Year\"\n",
    "\n",
    "word = \" \"\n",
    "list1 = []\n",
    "for s in string:\n",
    "    if s.isspace() == False:\n",
    "        word = word + s\n",
    "    else:\n",
    "        list1.append(word)\n",
    "        word = \" \"\n",
    "list1.append(word) # if we are not writing this then \"year\" word cant be added into list so to add last word we need to write this\n",
    "print(list1)"
   ]
  },
  {
   "cell_type": "markdown",
   "id": "fa56d02f",
   "metadata": {},
   "source": [
    "### Convert string to title without title function\n"
   ]
  },
  {
   "cell_type": "code",
   "execution_count": 173,
   "id": "d2100c0b",
   "metadata": {},
   "outputs": [
    {
     "name": "stdout",
     "output_type": "stream",
     "text": [
      "Enter the stringsachin wandre\n",
      "Sachin Wandre\n"
     ]
    }
   ],
   "source": [
    "s = input(\"Enter the string\")\n",
    "\n",
    "new_list = []\n",
    "for word in s.split():\n",
    "    new_word = word[0].upper() + word[1:].lower()\n",
    "    new_list.append(new_word)\n",
    "    \n",
    "print(\" \".join(new_list))"
   ]
  },
  {
   "cell_type": "code",
   "execution_count": 174,
   "id": "b72ccdb9",
   "metadata": {},
   "outputs": [
    {
     "name": "stdout",
     "output_type": "stream",
     "text": [
      "5 4 3 2 1 \n",
      "4 3 2 1 \n",
      "3 2 1 \n",
      "2 1 \n",
      "1 \n",
      "\n"
     ]
    }
   ],
   "source": [
    "for i in range(0,6):\n",
    "    for j in range(5-i,0,-1):\n",
    "        print(j,end=\" \")\n",
    "    print()"
   ]
  },
  {
   "cell_type": "code",
   "execution_count": 175,
   "id": "cf8e8e2a",
   "metadata": {},
   "outputs": [
    {
     "name": "stdout",
     "output_type": "stream",
     "text": [
      "* \n",
      "* * \n",
      "* * * \n",
      "* * * * \n",
      "* * * * * \n",
      "* * * * * * \n",
      "* * * * * \n",
      "* * * * \n",
      "* * * \n",
      "* * \n",
      "* \n",
      "\n"
     ]
    }
   ],
   "source": [
    "for i in range(0,6):\n",
    "    for j in range(0,i+1):\n",
    "        print(\"*\",end=\" \")\n",
    "    print()\n",
    "for i in range(0,6):\n",
    "    for j in range(6,i+1,-1):\n",
    "        print(\"*\",end=\" \")\n",
    "    print()"
   ]
  },
  {
   "cell_type": "code",
   "execution_count": 176,
   "id": "1c089f15",
   "metadata": {},
   "outputs": [
    {
     "name": "stdout",
     "output_type": "stream",
     "text": [
      "1 \n",
      "1 2 \n",
      "1 2 3 \n",
      "1 2 3 4 \n",
      "1 2 3 4 5 \n"
     ]
    }
   ],
   "source": [
    "for i in range(1,6):\n",
    "    for j in range(1,i+1):\n",
    "        print(j,end=\" \")\n",
    "    print()"
   ]
  },
  {
   "cell_type": "code",
   "execution_count": 177,
   "id": "941394c5",
   "metadata": {},
   "outputs": [
    {
     "name": "stdout",
     "output_type": "stream",
     "text": [
      "1 \n",
      "2 1 \n",
      "3 2 1 \n",
      "4 3 2 1 \n",
      "5 4 3 2 1 \n"
     ]
    }
   ],
   "source": [
    "for i in range(1,6):\n",
    "    for j in range(i,0,-1):\n",
    "        print(j,end=\" \")\n",
    "    print()"
   ]
  },
  {
   "cell_type": "code",
   "execution_count": 178,
   "id": "840c0d42",
   "metadata": {},
   "outputs": [
    {
     "name": "stdout",
     "output_type": "stream",
     "text": [
      "['apple', 'orange']\n"
     ]
    }
   ],
   "source": [
    "A = \" apple banana mango\"\n",
    "B = \"mango orange banana\"\n",
    "\n",
    "#A = \"apple banana mango\"\n",
    "#B = \"banana fruits mango\"\n",
    "\n",
    "L = []\n",
    "\n",
    "for i in A.split():\n",
    "    if i not in B and i not in L:\n",
    "        L.append(i)\n",
    "        \n",
    "for j in B.split():\n",
    "    if j not in A and j not in L:\n",
    "        L.append(j)\n",
    "        \n",
    "        \n",
    "print(L)"
   ]
  },
  {
   "cell_type": "code",
   "execution_count": 179,
   "id": "9b78df0b",
   "metadata": {},
   "outputs": [
    {
     "data": {
      "text/plain": [
       "['Hello', 'how', 'are', 'you?', 'I', 'am', 'fine']"
      ]
     },
     "execution_count": 179,
     "metadata": {},
     "output_type": "execute_result"
    }
   ],
   "source": [
    "s = \"Hello how are you? I am fine\"\n",
    "s.split()"
   ]
  },
  {
   "cell_type": "code",
   "execution_count": 180,
   "id": "3dedd662",
   "metadata": {},
   "outputs": [],
   "source": [
    "str1 = \"\"\"Hello how are you? \n",
    "I am fine\n",
    "what about you?\"\"\""
   ]
  },
  {
   "cell_type": "code",
   "execution_count": 181,
   "id": "acb94224",
   "metadata": {},
   "outputs": [
    {
     "data": {
      "text/plain": [
       "['Hello how are you? ', 'I am fine', 'what about you?']"
      ]
     },
     "execution_count": 181,
     "metadata": {},
     "output_type": "execute_result"
    }
   ],
   "source": [
    "str1.splitlines()"
   ]
  },
  {
   "cell_type": "code",
   "execution_count": 182,
   "id": "36993e09",
   "metadata": {},
   "outputs": [
    {
     "data": {
      "text/plain": [
       "['Hello how ', ' you? I am fine']"
      ]
     },
     "execution_count": 182,
     "metadata": {},
     "output_type": "execute_result"
    }
   ],
   "source": [
    "s.split(\"are\")"
   ]
  },
  {
   "cell_type": "code",
   "execution_count": 183,
   "id": "30ab9a6b",
   "metadata": {},
   "outputs": [
    {
     "data": {
      "text/plain": [
       "('Hello how ', 'are', ' you? I am fine')"
      ]
     },
     "execution_count": 183,
     "metadata": {},
     "output_type": "execute_result"
    }
   ],
   "source": [
    "# Partition contain partition world also\n",
    "s.partition(\"are\")"
   ]
  },
  {
   "cell_type": "code",
   "execution_count": 184,
   "id": "72116461",
   "metadata": {},
   "outputs": [
    {
     "data": {
      "text/plain": [
       "['Hello', 'how', 'are', 'you?', 'I', 'am', 'fine']"
      ]
     },
     "execution_count": 184,
     "metadata": {},
     "output_type": "execute_result"
    }
   ],
   "source": [
    "s = \"Hello\\nhow\\nare\\nyou?\\nI\\nam\\nfine\\n\"\n",
    "s.splitlines()"
   ]
  },
  {
   "cell_type": "code",
   "execution_count": 185,
   "id": "393cdbc1",
   "metadata": {},
   "outputs": [
    {
     "data": {
      "text/plain": [
       "['Hello', 'how', 'are', 'you?', 'I', 'am', 'fine', '', '', '', '', '']"
      ]
     },
     "execution_count": 185,
     "metadata": {},
     "output_type": "execute_result"
    }
   ],
   "source": [
    "s = \"Hello\\nhow\\nare\\nyou?\\nI\\nam\\nfine\\n\\n\\n\\n\\n\\n\"\n",
    "s.splitlines()"
   ]
  },
  {
   "cell_type": "code",
   "execution_count": 186,
   "id": "eb74c449",
   "metadata": {},
   "outputs": [
    {
     "name": "stdout",
     "output_type": "stream",
     "text": [
      "1 2 3 4 5 \n",
      "\n",
      "2 3 4 5 \n",
      "\n",
      "3 4 5 \n",
      "\n",
      "4 5 \n",
      "\n",
      "5 \n",
      "\n"
     ]
    }
   ],
   "source": [
    "for i in range(1,6):\n",
    "    for j in range(i,6):\n",
    "        print(j,end=\" \")\n",
    "    print(\"\\n\")"
   ]
  },
  {
   "cell_type": "code",
   "execution_count": 187,
   "id": "1b3d7201",
   "metadata": {},
   "outputs": [
    {
     "name": "stdout",
     "output_type": "stream",
     "text": [
      "1 \n",
      "\n",
      "1 2 \n",
      "\n",
      "1 2 3 \n",
      "\n",
      "1 2 3 4 \n",
      "\n",
      "1 2 3 4 5 \n",
      "\n"
     ]
    }
   ],
   "source": [
    "for i in range(1,6):\n",
    "    for j in range(1,i+1):\n",
    "        print(j,end=\" \")\n",
    "    print(\"\\n\")"
   ]
  },
  {
   "cell_type": "code",
   "execution_count": 188,
   "id": "42ca53f1",
   "metadata": {},
   "outputs": [
    {
     "name": "stdout",
     "output_type": "stream",
     "text": [
      "1 \n",
      "\n",
      "2 2 \n",
      "\n",
      "3 3 3 \n",
      "\n",
      "4 4 4 4 \n",
      "\n",
      "5 5 5 5 5 \n",
      "\n"
     ]
    }
   ],
   "source": [
    "for i in range(1,6):\n",
    "    for j in range(1,i+1):\n",
    "        print(i,end=\" \")\n",
    "    print(\"\\n\")"
   ]
  },
  {
   "cell_type": "code",
   "execution_count": 189,
   "id": "c844d400",
   "metadata": {},
   "outputs": [
    {
     "name": "stdout",
     "output_type": "stream",
     "text": [
      "1 \n",
      "\n",
      "2 1 \n",
      "\n",
      "3 2 1 \n",
      "\n",
      "4 3 2 1 \n",
      "\n",
      "5 4 3 2 1 \n",
      "\n"
     ]
    }
   ],
   "source": [
    "for i in range(1,6):\n",
    "    for j in range(i,0,-1):\n",
    "        print(j,end=\" \")\n",
    "    print(\"\\n\")"
   ]
  }
 ],
 "metadata": {
  "kernelspec": {
   "display_name": "Python 3 (ipykernel)",
   "language": "python",
   "name": "python3"
  },
  "language_info": {
   "codemirror_mode": {
    "name": "ipython",
    "version": 3
   },
   "file_extension": ".py",
   "mimetype": "text/x-python",
   "name": "python",
   "nbconvert_exporter": "python",
   "pygments_lexer": "ipython3",
   "version": "3.11.4"
  }
 },
 "nbformat": 4,
 "nbformat_minor": 5
}
