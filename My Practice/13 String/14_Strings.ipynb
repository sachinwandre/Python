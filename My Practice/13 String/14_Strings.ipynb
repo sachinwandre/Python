{
 "cells": [
  {
   "cell_type": "markdown",
   "id": "0438c780",
   "metadata": {},
   "source": [
    "Strings are sequence of Characters\n",
    "\n",
    "In Python specifically, strings are a sequence of Unicode Characters\n",
    "\n",
    "- Creating Strings\n",
    "- Accessing Strings\n",
    "- Adding Chars to Strings\n",
    "- Editing Strings\n",
    "- Deleting Strings\n",
    "- Operations on Strings\n",
    "- String Functions"
   ]
  },
  {
   "cell_type": "code",
   "execution_count": 1,
   "id": "fd5d130a",
   "metadata": {},
   "outputs": [
    {
     "name": "stdout",
     "output_type": "stream",
     "text": [
      "Hello\n"
     ]
    }
   ],
   "source": [
    "# Creating\n",
    "c = 'Hello'\n",
    "print(c)"
   ]
  },
  {
   "cell_type": "code",
   "execution_count": 2,
   "id": "4465809d",
   "metadata": {},
   "outputs": [
    {
     "name": "stdout",
     "output_type": "stream",
     "text": [
      "Hello\n"
     ]
    }
   ],
   "source": [
    "c = \"Hello\"\n",
    "print(c)"
   ]
  },
  {
   "cell_type": "code",
   "execution_count": 3,
   "id": "ffb28c6f",
   "metadata": {},
   "outputs": [
    {
     "name": "stdout",
     "output_type": "stream",
     "text": [
      "Hello\n"
     ]
    }
   ],
   "source": [
    "c = '''Hello'''\n",
    "print(c)\n",
    "# multi line strings"
   ]
  },
  {
   "cell_type": "code",
   "execution_count": 4,
   "id": "d8919a3c",
   "metadata": {},
   "outputs": [
    {
     "name": "stdout",
     "output_type": "stream",
     "text": [
      "Hello\n"
     ]
    }
   ],
   "source": [
    "c = \"\"\"Hello\"\"\"\n",
    "print(c)"
   ]
  },
  {
   "cell_type": "code",
   "execution_count": 5,
   "id": "501e9a7b",
   "metadata": {},
   "outputs": [
    {
     "data": {
      "text/plain": [
       "'Hello'"
      ]
     },
     "execution_count": 5,
     "metadata": {},
     "output_type": "execute_result"
    }
   ],
   "source": [
    "c = str(\"Hello\")\n",
    "c"
   ]
  },
  {
   "cell_type": "markdown",
   "id": "3c8da63a",
   "metadata": {},
   "source": [
    "### Accessing Substrings from a String"
   ]
  },
  {
   "cell_type": "code",
   "execution_count": 6,
   "id": "6fe97ae4",
   "metadata": {},
   "outputs": [
    {
     "name": "stdout",
     "output_type": "stream",
     "text": [
      "hello\n"
     ]
    }
   ],
   "source": [
    "# Concept of Indexing\n",
    "c = \"hello\"\n",
    "print(c)"
   ]
  },
  {
   "cell_type": "code",
   "execution_count": 7,
   "id": "8e616057",
   "metadata": {},
   "outputs": [
    {
     "name": "stdout",
     "output_type": "stream",
     "text": [
      "h\n"
     ]
    }
   ],
   "source": [
    "print(c[0])"
   ]
  },
  {
   "cell_type": "code",
   "execution_count": 8,
   "id": "336145b9",
   "metadata": {},
   "outputs": [],
   "source": [
    "# IndexError: string index out of range\n",
    "# Types of Indexing\n",
    "# Postive Indexing\n",
    "# Negative Indexing\n",
    "\n",
    "# print(c[-6])"
   ]
  },
  {
   "cell_type": "code",
   "execution_count": 9,
   "id": "eff41445",
   "metadata": {},
   "outputs": [
    {
     "name": "stdout",
     "output_type": "stream",
     "text": [
      "Hello World\n"
     ]
    }
   ],
   "source": [
    "# Slicing\n",
    "c = \"Hello World\"\n",
    "print(c)"
   ]
  },
  {
   "cell_type": "code",
   "execution_count": 10,
   "id": "2fd8bb85",
   "metadata": {},
   "outputs": [
    {
     "name": "stdout",
     "output_type": "stream",
     "text": [
      "Hello\n"
     ]
    }
   ],
   "source": [
    "print(c[0:5])"
   ]
  },
  {
   "cell_type": "code",
   "execution_count": 11,
   "id": "63c53ddf",
   "metadata": {},
   "outputs": [
    {
     "name": "stdout",
     "output_type": "stream",
     "text": [
      "llo World\n"
     ]
    }
   ],
   "source": [
    "print(c[2:])"
   ]
  },
  {
   "cell_type": "code",
   "execution_count": 12,
   "id": "5b87e9c7",
   "metadata": {},
   "outputs": [
    {
     "name": "stdout",
     "output_type": "stream",
     "text": [
      "Hell\n"
     ]
    }
   ],
   "source": [
    "print(c[:4])"
   ]
  },
  {
   "cell_type": "code",
   "execution_count": 13,
   "id": "6f65845c",
   "metadata": {},
   "outputs": [
    {
     "name": "stdout",
     "output_type": "stream",
     "text": [
      "Hello World\n"
     ]
    }
   ],
   "source": [
    "print(c[:])"
   ]
  },
  {
   "cell_type": "code",
   "execution_count": 14,
   "id": "7a48114d",
   "metadata": {},
   "outputs": [
    {
     "name": "stdout",
     "output_type": "stream",
     "text": [
      "Hello World\n"
     ]
    }
   ],
   "source": [
    "print(c)"
   ]
  },
  {
   "cell_type": "code",
   "execution_count": 15,
   "id": "b2e9c940",
   "metadata": {},
   "outputs": [
    {
     "name": "stdout",
     "output_type": "stream",
     "text": [
      "HlW\n"
     ]
    }
   ],
   "source": [
    "c = \"Hello World\"\n",
    "print(c[0:8:3])"
   ]
  },
  {
   "cell_type": "code",
   "execution_count": 16,
   "id": "ac9f6841",
   "metadata": {},
   "outputs": [
    {
     "name": "stdout",
     "output_type": "stream",
     "text": [
      "dlroW\n"
     ]
    }
   ],
   "source": [
    "c = \"Hello World\"\n",
    "print(c[-1:-6:-1])"
   ]
  },
  {
   "cell_type": "code",
   "execution_count": 17,
   "id": "bba7f918",
   "metadata": {},
   "outputs": [
    {
     "name": "stdout",
     "output_type": "stream",
     "text": [
      "Wr\n"
     ]
    }
   ],
   "source": [
    "c = \"Hello World\"\n",
    "print(c[-5:-1:2])"
   ]
  },
  {
   "cell_type": "code",
   "execution_count": 18,
   "id": "84bf60b6",
   "metadata": {},
   "outputs": [
    {
     "name": "stdout",
     "output_type": "stream",
     "text": [
      "dlroW olleH\n"
     ]
    }
   ],
   "source": [
    "c = \"Hello World\"\n",
    "print(c[::-1])"
   ]
  },
  {
   "cell_type": "code",
   "execution_count": 19,
   "id": "bfaa5ebe",
   "metadata": {},
   "outputs": [
    {
     "name": "stdout",
     "output_type": "stream",
     "text": [
      "dlroW\n"
     ]
    }
   ],
   "source": [
    "c = \"Hello World\"\n",
    "print(c[-1:5:-1])"
   ]
  },
  {
   "cell_type": "code",
   "execution_count": 20,
   "id": "e2c0bed8",
   "metadata": {},
   "outputs": [
    {
     "name": "stdout",
     "output_type": "stream",
     "text": [
      "ello \n"
     ]
    }
   ],
   "source": [
    "print(c[1:6])"
   ]
  },
  {
   "cell_type": "code",
   "execution_count": 21,
   "id": "921debe4",
   "metadata": {},
   "outputs": [
    {
     "name": "stdout",
     "output_type": "stream",
     "text": [
      "drWo\n"
     ]
    }
   ],
   "source": [
    "print(c[-1:-8:-2])"
   ]
  },
  {
   "cell_type": "code",
   "execution_count": 22,
   "id": "97930390",
   "metadata": {},
   "outputs": [
    {
     "name": "stdout",
     "output_type": "stream",
     "text": [
      "\n"
     ]
    }
   ],
   "source": [
    "print(c[2:10:-1])"
   ]
  },
  {
   "cell_type": "code",
   "execution_count": 23,
   "id": "1b46105a",
   "metadata": {},
   "outputs": [
    {
     "name": "stdout",
     "output_type": "stream",
     "text": [
      "lroW oll\n"
     ]
    }
   ],
   "source": [
    "print(c[-2:1:-1])"
   ]
  },
  {
   "cell_type": "code",
   "execution_count": 24,
   "id": "43d603f1",
   "metadata": {},
   "outputs": [
    {
     "name": "stdout",
     "output_type": "stream",
     "text": [
      "lr\n"
     ]
    }
   ],
   "source": [
    "print(c[-2:7:-1])"
   ]
  },
  {
   "cell_type": "code",
   "execution_count": 25,
   "id": "71623d5e",
   "metadata": {},
   "outputs": [
    {
     "name": "stdout",
     "output_type": "stream",
     "text": [
      "lroW oll\n"
     ]
    }
   ],
   "source": [
    "print(c[9:-10:-1])"
   ]
  },
  {
   "cell_type": "code",
   "execution_count": 26,
   "id": "4c78863f",
   "metadata": {},
   "outputs": [
    {
     "data": {
      "text/plain": [
       "'Hello'"
      ]
     },
     "execution_count": 26,
     "metadata": {},
     "output_type": "execute_result"
    }
   ],
   "source": [
    "\"World\" and \"Hello\""
   ]
  },
  {
   "cell_type": "code",
   "execution_count": null,
   "id": "43b1f0d9",
   "metadata": {},
   "outputs": [],
   "source": [
    "When both index are positive/negative and step size is negative then start index must be greater than end index"
   ]
  },
  {
   "cell_type": "markdown",
   "id": "e602c468",
   "metadata": {},
   "source": [
    "### Editing and Deleting in Strings"
   ]
  },
  {
   "cell_type": "code",
   "execution_count": 27,
   "id": "214aab15",
   "metadata": {},
   "outputs": [
    {
     "name": "stdout",
     "output_type": "stream",
     "text": [
      "Hello\n"
     ]
    }
   ],
   "source": [
    "c = \"Hello\"\n",
    "print(c)"
   ]
  },
  {
   "cell_type": "code",
   "execution_count": 28,
   "id": "4f3e3b2f",
   "metadata": {},
   "outputs": [],
   "source": [
    "# TypeError: 'str' object does not support item assignment\n",
    "\n",
    "# c[0] = 'X'"
   ]
  },
  {
   "cell_type": "code",
   "execution_count": 29,
   "id": "60d69a8a",
   "metadata": {},
   "outputs": [],
   "source": [
    "# Strings are a Immutable Data Type"
   ]
  },
  {
   "cell_type": "code",
   "execution_count": 30,
   "id": "15d6bc9e",
   "metadata": {},
   "outputs": [
    {
     "name": "stdout",
     "output_type": "stream",
     "text": [
      "world\n"
     ]
    }
   ],
   "source": [
    "c = \"world\"\n",
    "print(c)"
   ]
  },
  {
   "cell_type": "code",
   "execution_count": 31,
   "id": "33f0e493",
   "metadata": {},
   "outputs": [
    {
     "name": "stdout",
     "output_type": "stream",
     "text": [
      "world\n"
     ]
    }
   ],
   "source": [
    "print(c)"
   ]
  },
  {
   "cell_type": "code",
   "execution_count": 32,
   "id": "59a442c5",
   "metadata": {},
   "outputs": [
    {
     "data": {
      "text/plain": [
       "'world'"
      ]
     },
     "execution_count": 32,
     "metadata": {},
     "output_type": "execute_result"
    }
   ],
   "source": [
    "# Deletion\n",
    "c"
   ]
  },
  {
   "cell_type": "code",
   "execution_count": 33,
   "id": "f18121eb",
   "metadata": {},
   "outputs": [],
   "source": [
    "del c"
   ]
  },
  {
   "cell_type": "code",
   "execution_count": 34,
   "id": "8a97be95",
   "metadata": {},
   "outputs": [],
   "source": [
    "\n",
    "# print(c)"
   ]
  },
  {
   "cell_type": "code",
   "execution_count": 35,
   "id": "67f25e1f",
   "metadata": {},
   "outputs": [],
   "source": [
    "c = \"hello\""
   ]
  },
  {
   "cell_type": "code",
   "execution_count": 36,
   "id": "f8ed84ff",
   "metadata": {},
   "outputs": [
    {
     "name": "stdout",
     "output_type": "stream",
     "text": [
      "hello\n"
     ]
    }
   ],
   "source": [
    "print(c)"
   ]
  },
  {
   "cell_type": "code",
   "execution_count": 37,
   "id": "3600bdb2",
   "metadata": {},
   "outputs": [
    {
     "ename": "TypeError",
     "evalue": "'str' object doesn't support item deletion",
     "output_type": "error",
     "traceback": [
      "\u001b[1;31m---------------------------------------------------------------------------\u001b[0m",
      "\u001b[1;31mTypeError\u001b[0m                                 Traceback (most recent call last)",
      "Cell \u001b[1;32mIn[37], line 1\u001b[0m\n\u001b[1;32m----> 1\u001b[0m \u001b[38;5;28;01mdel\u001b[39;00m c[\u001b[38;5;241m0\u001b[39m]\n",
      "\u001b[1;31mTypeError\u001b[0m: 'str' object doesn't support item deletion"
     ]
    }
   ],
   "source": [
    "del c[0]"
   ]
  },
  {
   "cell_type": "code",
   "execution_count": 38,
   "id": "88ec97bc",
   "metadata": {},
   "outputs": [
    {
     "ename": "TypeError",
     "evalue": "'str' object does not support item deletion",
     "output_type": "error",
     "traceback": [
      "\u001b[1;31m---------------------------------------------------------------------------\u001b[0m",
      "\u001b[1;31mTypeError\u001b[0m                                 Traceback (most recent call last)",
      "Cell \u001b[1;32mIn[38], line 1\u001b[0m\n\u001b[1;32m----> 1\u001b[0m \u001b[38;5;28;01mdel\u001b[39;00m c[:\u001b[38;5;241m3\u001b[39m:\u001b[38;5;241m2\u001b[39m]\n",
      "\u001b[1;31mTypeError\u001b[0m: 'str' object does not support item deletion"
     ]
    }
   ],
   "source": [
    "del c[:3:2]"
   ]
  },
  {
   "cell_type": "code",
   "execution_count": 39,
   "id": "899490ed",
   "metadata": {},
   "outputs": [
    {
     "data": {
      "text/plain": [
       "'hello'"
      ]
     },
     "execution_count": 39,
     "metadata": {},
     "output_type": "execute_result"
    }
   ],
   "source": [
    "\"hello\" or \"world\""
   ]
  },
  {
   "cell_type": "code",
   "execution_count": 40,
   "id": "bcdd0391",
   "metadata": {},
   "outputs": [
    {
     "data": {
      "text/plain": [
       "False"
      ]
     },
     "execution_count": 40,
     "metadata": {},
     "output_type": "execute_result"
    }
   ],
   "source": [
    "not \"Hello\""
   ]
  },
  {
   "cell_type": "code",
   "execution_count": 41,
   "id": "19e4d9ee",
   "metadata": {},
   "outputs": [
    {
     "data": {
      "text/plain": [
       "True"
      ]
     },
     "execution_count": 41,
     "metadata": {},
     "output_type": "execute_result"
    }
   ],
   "source": [
    "not \"\""
   ]
  },
  {
   "cell_type": "markdown",
   "id": "f6f1154c",
   "metadata": {},
   "source": [
    "### Operations on Strings\n",
    "\n",
    "- Arithmetic Operations\n",
    "- Relational Operations\n",
    "- Logical Operations\n",
    "- Loops on Strings\n",
    "- Membership Operations"
   ]
  },
  {
   "cell_type": "code",
   "execution_count": 42,
   "id": "380dcf9f",
   "metadata": {},
   "outputs": [
    {
     "data": {
      "text/plain": [
       "'Hello-world'"
      ]
     },
     "execution_count": 42,
     "metadata": {},
     "output_type": "execute_result"
    }
   ],
   "source": [
    "\"Hello\" + \"-\" + \"world\""
   ]
  },
  {
   "cell_type": "code",
   "execution_count": 43,
   "id": "d71c8415",
   "metadata": {},
   "outputs": [
    {
     "name": "stdout",
     "output_type": "stream",
     "text": [
      "**************************************************\n"
     ]
    }
   ],
   "source": [
    "print(\"*\"*50)"
   ]
  },
  {
   "cell_type": "code",
   "execution_count": 44,
   "id": "ca35b10e",
   "metadata": {},
   "outputs": [
    {
     "name": "stdout",
     "output_type": "stream",
     "text": [
      "HelloHelloHelloHello\n"
     ]
    }
   ],
   "source": [
    "print(\"Hello\"*4)"
   ]
  },
  {
   "cell_type": "code",
   "execution_count": 45,
   "id": "fff6c01b",
   "metadata": {},
   "outputs": [
    {
     "name": "stdout",
     "output_type": "stream",
     "text": [
      "****\n"
     ]
    }
   ],
   "source": [
    "print(\"*\"*4)"
   ]
  },
  {
   "cell_type": "code",
   "execution_count": 46,
   "id": "59b7b34d",
   "metadata": {},
   "outputs": [
    {
     "data": {
      "text/plain": [
       "False"
      ]
     },
     "execution_count": 46,
     "metadata": {},
     "output_type": "execute_result"
    }
   ],
   "source": [
    "\"Hello\" == \"World\""
   ]
  },
  {
   "cell_type": "code",
   "execution_count": 47,
   "id": "c6417c5d",
   "metadata": {},
   "outputs": [
    {
     "data": {
      "text/plain": [
       "True"
      ]
     },
     "execution_count": 47,
     "metadata": {},
     "output_type": "execute_result"
    }
   ],
   "source": [
    "\"Hello\" != \"WOrld\""
   ]
  },
  {
   "cell_type": "code",
   "execution_count": 48,
   "id": "a47f5318",
   "metadata": {},
   "outputs": [
    {
     "data": {
      "text/plain": [
       "False"
      ]
     },
     "execution_count": 48,
     "metadata": {},
     "output_type": "execute_result"
    }
   ],
   "source": [
    "\"Mumbai\" > \"Pune\"\n",
    "# Lexiographically"
   ]
  },
  {
   "cell_type": "code",
   "execution_count": 49,
   "id": "a9e7e877",
   "metadata": {},
   "outputs": [
    {
     "data": {
      "text/plain": [
       "True"
      ]
     },
     "execution_count": 49,
     "metadata": {},
     "output_type": "execute_result"
    }
   ],
   "source": [
    "\"Goa\" < \"Kolkata\""
   ]
  },
  {
   "cell_type": "code",
   "execution_count": 50,
   "id": "12a8cfdd",
   "metadata": {},
   "outputs": [
    {
     "data": {
      "text/plain": [
       "False"
      ]
     },
     "execution_count": 50,
     "metadata": {},
     "output_type": "execute_result"
    }
   ],
   "source": [
    "\"kol\" < \"Kol\""
   ]
  },
  {
   "cell_type": "code",
   "execution_count": 51,
   "id": "55a87fe3",
   "metadata": {},
   "outputs": [
    {
     "data": {
      "text/plain": [
       "'world'"
      ]
     },
     "execution_count": 51,
     "metadata": {},
     "output_type": "execute_result"
    }
   ],
   "source": [
    "\"hello\" and \"world\""
   ]
  },
  {
   "cell_type": "code",
   "execution_count": null,
   "id": "965aaf60",
   "metadata": {},
   "outputs": [],
   "source": [
    "\"\" -> False\n",
    "\"wreghr\" -> True"
   ]
  },
  {
   "cell_type": "code",
   "execution_count": null,
   "id": "0cc5da6d",
   "metadata": {},
   "outputs": [],
   "source": [
    "\"\" and \"Hello\""
   ]
  },
  {
   "cell_type": "code",
   "execution_count": null,
   "id": "d9672d8a",
   "metadata": {},
   "outputs": [],
   "source": [
    "\"\" or \"world\""
   ]
  },
  {
   "cell_type": "code",
   "execution_count": null,
   "id": "514f8498",
   "metadata": {},
   "outputs": [],
   "source": [
    "\"hello\" or \"world\""
   ]
  },
  {
   "cell_type": "code",
   "execution_count": null,
   "id": "26dac4be",
   "metadata": {},
   "outputs": [],
   "source": [
    "\"hello\" and \"world\""
   ]
  },
  {
   "cell_type": "code",
   "execution_count": null,
   "id": "1ca84f63",
   "metadata": {},
   "outputs": [],
   "source": [
    "print(not \"hello\")"
   ]
  },
  {
   "cell_type": "code",
   "execution_count": null,
   "id": "3350f332",
   "metadata": {},
   "outputs": [],
   "source": [
    "not \"\""
   ]
  },
  {
   "cell_type": "code",
   "execution_count": null,
   "id": "d965ba50",
   "metadata": {},
   "outputs": [],
   "source": [
    "c = \"hello world\"\n",
    "for i in c[::-1]:\n",
    "    print(i)"
   ]
  },
  {
   "cell_type": "code",
   "execution_count": null,
   "id": "d674eb91",
   "metadata": {},
   "outputs": [],
   "source": [
    "c"
   ]
  },
  {
   "cell_type": "code",
   "execution_count": null,
   "id": "351a3a03",
   "metadata": {},
   "outputs": [],
   "source": [
    "'h' in c"
   ]
  },
  {
   "cell_type": "code",
   "execution_count": null,
   "id": "b6241c94",
   "metadata": {},
   "outputs": [],
   "source": [
    "'H' in c"
   ]
  },
  {
   "cell_type": "code",
   "execution_count": null,
   "id": "c215622c",
   "metadata": {},
   "outputs": [],
   "source": [
    "'world' not in c"
   ]
  },
  {
   "cell_type": "code",
   "execution_count": null,
   "id": "2bd9b40c",
   "metadata": {},
   "outputs": [],
   "source": [
    "str1 =\"Sachin   Wandre\"\n",
    "s= str1.strip()\n",
    "s"
   ]
  },
  {
   "cell_type": "code",
   "execution_count": null,
   "id": "0d7b4a8d",
   "metadata": {},
   "outputs": [],
   "source": [
    "# Python code to illustrate splitlines()\n",
    "string = \"Cat\\nBat\\nSat\\nMat\\nXat\\nEat\\n\\n\\n\\n\"\n",
    "s = \"Cat\\nBat\\nSat\\nMat\\nXat\\nEat\\n\\n\\n\\n\"\n",
    "  \n",
    "# No parameters has been passed\n",
    "print (string.splitlines())\n",
    "print(s.split())\n",
    "  \n",
    "# splitlines() in one line\n",
    "print('India\\nJapan\\nUSA\\nUK\\nCanada\\n'.splitlines())"
   ]
  },
  {
   "cell_type": "code",
   "execution_count": 52,
   "id": "36be64cc",
   "metadata": {},
   "outputs": [
    {
     "data": {
      "text/plain": [
       "['this', 'is', 'my', 'school']"
      ]
     },
     "execution_count": 52,
     "metadata": {},
     "output_type": "execute_result"
    }
   ],
   "source": [
    "mystring = 'this is\\n\\n my school\\n\\n'\n",
    "\n",
    "mystring.split()"
   ]
  },
  {
   "cell_type": "code",
   "execution_count": 53,
   "id": "f512aa2f",
   "metadata": {},
   "outputs": [
    {
     "name": "stdout",
     "output_type": "stream",
     "text": [
      "dlrow olleh \n"
     ]
    }
   ],
   "source": [
    "# reverse the string using for loop\n",
    "c = \"hello world\"\n",
    "new = \" \"\n",
    "\n",
    "for char in c:\n",
    "    new = char + new\n",
    "print(new)"
   ]
  },
  {
   "cell_type": "code",
   "execution_count": 54,
   "id": "6bc234d3",
   "metadata": {},
   "outputs": [
    {
     "name": "stdout",
     "output_type": "stream",
     "text": [
      " hello world\n"
     ]
    }
   ],
   "source": [
    "c = \"hello world\"\n",
    "new = \" \"\n",
    "\n",
    "for char in c:\n",
    "    new = new + char\n",
    "print(new)"
   ]
  },
  {
   "cell_type": "markdown",
   "id": "d86ca537",
   "metadata": {},
   "source": [
    "#### "
   ]
  }
 ],
 "metadata": {
  "kernelspec": {
   "display_name": "Python 3 (ipykernel)",
   "language": "python",
   "name": "python3"
  },
  "language_info": {
   "codemirror_mode": {
    "name": "ipython",
    "version": 3
   },
   "file_extension": ".py",
   "mimetype": "text/x-python",
   "name": "python",
   "nbconvert_exporter": "python",
   "pygments_lexer": "ipython3",
   "version": "3.11.4"
  }
 },
 "nbformat": 4,
 "nbformat_minor": 5
}
