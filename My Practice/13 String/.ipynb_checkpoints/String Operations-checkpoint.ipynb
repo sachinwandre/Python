{
 "cells": [
  {
   "cell_type": "code",
   "execution_count": 1,
   "id": "a0039c22",
   "metadata": {},
   "outputs": [
    {
     "name": "stdout",
     "output_type": "stream",
     "text": [
      "Original string: Hello, World!\n",
      "Reversed string: !dlroW ,olleH\n"
     ]
    }
   ],
   "source": [
    "def reverse_string_slicing(input_str):\n",
    "    return input_str[::-1]\n",
    "\n",
    "# Example usage:\n",
    "original_str = \"Hello, World!\"\n",
    "reversed_str = reverse_string_slicing(original_str)\n",
    "print(\"Original string:\", original_str)\n",
    "print(\"Reversed string:\", reversed_str)\n"
   ]
  },
  {
   "cell_type": "code",
   "execution_count": 2,
   "id": "a0b51e71",
   "metadata": {},
   "outputs": [
    {
     "name": "stdout",
     "output_type": "stream",
     "text": [
      "Original string: Hello, World!\n",
      "Reversed string: !dlroW ,olleH\n"
     ]
    }
   ],
   "source": [
    "def reverse_string_loop(input_str):\n",
    "    reversed_str = \"\"\n",
    "    for char in input_str:\n",
    "        reversed_str = char + reversed_str\n",
    "    return reversed_str\n",
    "\n",
    "# Example usage:\n",
    "original_str = \"Hello, World!\"\n",
    "reversed_str = reverse_string_loop(original_str)\n",
    "print(\"Original string:\", original_str)\n",
    "print(\"Reversed string:\", reversed_str)\n"
   ]
  },
  {
   "cell_type": "code",
   "execution_count": 3,
   "id": "5dd0e738",
   "metadata": {},
   "outputs": [
    {
     "name": "stdout",
     "output_type": "stream",
     "text": [
      "Original string: Hello, World!\n",
      "Reversed string: !dlroW ,olleH\n"
     ]
    }
   ],
   "source": [
    "def reverse_string_join(input_str):\n",
    "    return ''.join(reversed(input_str))\n",
    "\n",
    "# Example usage:\n",
    "original_str = \"Hello, World!\"\n",
    "reversed_str = reverse_string_join(original_str)\n",
    "print(\"Original string:\", original_str)\n",
    "print(\"Reversed string:\", reversed_str)\n"
   ]
  },
  {
   "cell_type": "code",
   "execution_count": 4,
   "id": "decfc477",
   "metadata": {},
   "outputs": [
    {
     "name": "stdout",
     "output_type": "stream",
     "text": [
      "Original string: Hello, World!\n",
      "Reversed string: !dlroW ,olleH\n"
     ]
    }
   ],
   "source": [
    "def reverse_string_recursive(input_str):\n",
    "    if len(input_str) == 0:\n",
    "        return input_str\n",
    "    else:\n",
    "        return reverse_string_recursive(input_str[1:]) + input_str[0]\n",
    "\n",
    "# Example usage:\n",
    "original_str = \"Hello, World!\"\n",
    "reversed_str = reverse_string_recursive(original_str)\n",
    "print(\"Original string:\", original_str)\n",
    "print(\"Reversed string:\", reversed_str)"
   ]
  },
  {
   "cell_type": "code",
   "execution_count": 6,
   "id": "621576e4",
   "metadata": {},
   "outputs": [
    {
     "name": "stdout",
     "output_type": "stream",
     "text": [
      "Original string: Hello, World!\n",
      "Reversed string: !dlroW ,olleH\n"
     ]
    }
   ],
   "source": [
    "def reverse_string(string):\n",
    "    new_string = \" \"\n",
    "    for i in range(len(string)-1,-1,-1):\n",
    "        new_string += string[i]\n",
    "        return new_string\n",
    "    \n",
    "original_str = \"Hello, World!\"\n",
    "reversed_str = reverse_string_recursive(original_str)\n",
    "print(\"Original string:\", original_str)\n",
    "print(\"Reversed string:\", reversed_str)"
   ]
  },
  {
   "cell_type": "code",
   "execution_count": 9,
   "id": "833c0ab1",
   "metadata": {},
   "outputs": [
    {
     "data": {
      "text/plain": [
       "'erdnaW nihcaS'"
      ]
     },
     "execution_count": 9,
     "metadata": {},
     "output_type": "execute_result"
    }
   ],
   "source": [
    "def reverse_string(string):\n",
    "    return string[::-1]\n",
    "reverse = reverse_string(\"Sachin Wandre\")\n",
    "reverse"
   ]
  },
  {
   "cell_type": "code",
   "execution_count": 10,
   "id": "dabc63fe",
   "metadata": {},
   "outputs": [
    {
     "data": {
      "text/plain": [
       "'erdnaW iniwhsA'"
      ]
     },
     "execution_count": 10,
     "metadata": {},
     "output_type": "execute_result"
    }
   ],
   "source": [
    "def reverse_string(string):\n",
    "    new_string = ''\n",
    "    for char in string:\n",
    "        new_string = char + new_string\n",
    "    return new_string\n",
    "reverse = reverse_string(\"Ashwini Wandre\")\n",
    "reverse"
   ]
  },
  {
   "cell_type": "code",
   "execution_count": 11,
   "id": "38fb6e81",
   "metadata": {},
   "outputs": [
    {
     "data": {
      "text/plain": [
       "'erdnaW ilanhsirK'"
      ]
     },
     "execution_count": 11,
     "metadata": {},
     "output_type": "execute_result"
    }
   ],
   "source": [
    "def reverse_string(string):\n",
    "    new_string = ''\n",
    "    \n",
    "    for i in range(len(string)-1,-1,-1):\n",
    "        new_string = new_string + string[i]\n",
    "    return new_string\n",
    "\n",
    "reverse = reverse_string(\"Krishnali Wandre\")\n",
    "reverse"
   ]
  },
  {
   "cell_type": "code",
   "execution_count": 14,
   "id": "3fdd1c37",
   "metadata": {},
   "outputs": [
    {
     "data": {
      "text/plain": [
       "'hsotnaS erdnaW'"
      ]
     },
     "execution_count": 14,
     "metadata": {},
     "output_type": "execute_result"
    }
   ],
   "source": [
    "def reverse_string(string):\n",
    "    return \"\".join(reversed(string))\n",
    "\n",
    "reverse = reverse_string(\"Wandre Santosh\")\n",
    "reverse"
   ]
  },
  {
   "cell_type": "code",
   "execution_count": 15,
   "id": "3bc2de15",
   "metadata": {},
   "outputs": [
    {
     "data": {
      "text/plain": [
       "'ylimaF erdnaW'"
      ]
     },
     "execution_count": 15,
     "metadata": {},
     "output_type": "execute_result"
    }
   ],
   "source": [
    "def reverse_string(string):\n",
    "    if len(string) == 0:\n",
    "        return string\n",
    "    else:\n",
    "        return reverse_string(string[1:]) + string[0]\n",
    "\n",
    "reverse = reverse_string(\"Wandre Family\")\n",
    "reverse"
   ]
  },
  {
   "cell_type": "code",
   "execution_count": 18,
   "id": "49e92127",
   "metadata": {},
   "outputs": [
    {
     "data": {
      "text/plain": [
       "'Family Wandre'"
      ]
     },
     "execution_count": 18,
     "metadata": {},
     "output_type": "execute_result"
    }
   ],
   "source": [
    "def reverse_string(string):\n",
    "    list1 = string.split()\n",
    "    return \" \".join(list1[::-1])\n",
    "\n",
    "reverse = reverse_string(\"Wandre Family\")\n",
    "reverse"
   ]
  },
  {
   "cell_type": "code",
   "execution_count": 14,
   "id": "94a7ea06",
   "metadata": {},
   "outputs": [
    {
     "data": {
      "text/plain": [
       "'Family Wandre'"
      ]
     },
     "execution_count": 14,
     "metadata": {},
     "output_type": "execute_result"
    }
   ],
   "source": [
    "def reverse_string(string):\n",
    "    list1 = string.split()[::-1]\n",
    "    return \" \".join(list1)\n",
    "\n",
    "reverse = reverse_string(\"Wandre Family\")\n",
    "reverse"
   ]
  },
  {
   "cell_type": "code",
   "execution_count": 27,
   "id": "aabe4245",
   "metadata": {},
   "outputs": [
    {
     "name": "stdout",
     "output_type": "stream",
     "text": [
      "tsitneics ataD ma I dna AIDNI evoL I  \n"
     ]
    }
   ],
   "source": [
    "string = \"I Love INDIA and I am Data scientist\"\n",
    "\n",
    "reverse = \" \"\n",
    "new_str = \" \"\n",
    "word = \" \"\n",
    "s1 = string.split()\n",
    "# print(s1[-1])\n",
    "for s in string:\n",
    "    if s != \" \":\n",
    "        word = word + s;\n",
    "    else:       \n",
    "        reverse = word[::-1]\n",
    "        new_str = reverse + new_str\n",
    "        word = \" \"\n",
    "        #new_str = new_str + reverse\n",
    "         \n",
    "print(s1[-1][::-1] + \" \" + new_str)"
   ]
  },
  {
   "cell_type": "code",
   "execution_count": 30,
   "id": "dce9d55f",
   "metadata": {},
   "outputs": [
    {
     "data": {
      "text/plain": [
       "'  tsitneics ataD ma I dna AIDNI evoL I'"
      ]
     },
     "execution_count": 30,
     "metadata": {},
     "output_type": "execute_result"
    }
   ],
   "source": [
    "string = \"I Love INDIA and I am Data scientist\"\n",
    "\n",
    "new_str = \" \"\n",
    "s1 = string.split()[::-1]\n",
    "for s in s1:\n",
    "    new_str = new_str + \" \"+ s[::-1]\n",
    "new_str"
   ]
  },
  {
   "cell_type": "code",
   "execution_count": 29,
   "id": "18fb444e",
   "metadata": {},
   "outputs": [
    {
     "data": {
      "text/plain": [
       "'  I evoL AIDNI dna I ma ataD tsitneics'"
      ]
     },
     "execution_count": 29,
     "metadata": {},
     "output_type": "execute_result"
    }
   ],
   "source": [
    "string = \"I Love INDIA and I am Data scientist\"\n",
    "\n",
    "new_str = \" \"\n",
    "s1 = string.split()\n",
    "for s in s1:\n",
    "    new_str = new_str + \" \"+ s[::-1]\n",
    "new_str"
   ]
  },
  {
   "cell_type": "code",
   "execution_count": 28,
   "id": "2837552f",
   "metadata": {},
   "outputs": [
    {
     "name": "stdout",
     "output_type": "stream",
     "text": [
      " I evoL AIDNI dna I ma ataD tsitneics\n"
     ]
    }
   ],
   "source": [
    "string = \"I Love INDIA and I am Data scientist\"\n",
    "\n",
    "word = \" \"\n",
    "reverse = \" \"\n",
    "new_string = \" \"\n",
    "\n",
    "s1 = string.split()[-1]\n",
    "\n",
    "for s in string :\n",
    "    if s != \" \":\n",
    "        word = word + s\n",
    "    else:\n",
    "        reverse = word[::-1]\n",
    "        new_string = new_string + reverse\n",
    "        word = \" \"\n",
    "print(new_string + s1[::-1])"
   ]
  },
  {
   "cell_type": "code",
   "execution_count": 15,
   "id": "5430d01c",
   "metadata": {},
   "outputs": [
    {
     "name": "stdout",
     "output_type": "stream",
     "text": [
      "['scientist', 'Data', 'am', 'I', 'and', 'INDIA', 'Love', 'I']\n"
     ]
    },
    {
     "data": {
      "text/plain": [
       "'scientist Data am I and INDIA Love I'"
      ]
     },
     "execution_count": 15,
     "metadata": {},
     "output_type": "execute_result"
    }
   ],
   "source": [
    "string = \"I Love INDIA and I am Data scientist\"\n",
    "\n",
    "list1 = []\n",
    "\n",
    "list1 = string.split()\n",
    "\n",
    "list1.reverse()\n",
    "print(list1)\n",
    "\n",
    "reverse_string = \" \".join(list1)\n",
    "reverse_string"
   ]
  },
  {
   "cell_type": "code",
   "execution_count": 1,
   "id": "0d1977ed",
   "metadata": {},
   "outputs": [
    {
     "data": {
      "text/plain": [
       "'Sachin Wandre'"
      ]
     },
     "execution_count": 1,
     "metadata": {},
     "output_type": "execute_result"
    }
   ],
   "source": [
    "string = 'sachin wandre'\n",
    "string.title()"
   ]
  },
  {
   "cell_type": "code",
   "execution_count": 2,
   "id": "a5f57a37",
   "metadata": {},
   "outputs": [
    {
     "data": {
      "text/plain": [
       "'Sachin wandre'"
      ]
     },
     "execution_count": 2,
     "metadata": {},
     "output_type": "execute_result"
    }
   ],
   "source": [
    "string.capitalize()"
   ]
  },
  {
   "cell_type": "code",
   "execution_count": 4,
   "id": "2f48bf9e",
   "metadata": {},
   "outputs": [
    {
     "data": {
      "text/plain": [
       "True"
      ]
     },
     "execution_count": 4,
     "metadata": {},
     "output_type": "execute_result"
    }
   ],
   "source": [
    "string.startswith('s')"
   ]
  },
  {
   "cell_type": "code",
   "execution_count": 5,
   "id": "b130c54e",
   "metadata": {},
   "outputs": [
    {
     "data": {
      "text/plain": [
       "True"
      ]
     },
     "execution_count": 5,
     "metadata": {},
     "output_type": "execute_result"
    }
   ],
   "source": [
    "string = '45thankyou'\n",
    "string.isalnum()"
   ]
  },
  {
   "cell_type": "code",
   "execution_count": 6,
   "id": "50cb9d2d",
   "metadata": {},
   "outputs": [
    {
     "data": {
      "text/plain": [
       "False"
      ]
     },
     "execution_count": 6,
     "metadata": {},
     "output_type": "execute_result"
    }
   ],
   "source": [
    "string.isalpha()"
   ]
  },
  {
   "cell_type": "code",
   "execution_count": 7,
   "id": "5dab62a4",
   "metadata": {},
   "outputs": [
    {
     "data": {
      "text/plain": [
       "[25, 529, 225, 900, 2025, 3600, 100, 1225, 4900]"
      ]
     },
     "execution_count": 7,
     "metadata": {},
     "output_type": "execute_result"
    }
   ],
   "source": [
    "L = [5,23,15,30,45,60,10,35,70]\n",
    "[n**2 for n in L]"
   ]
  },
  {
   "cell_type": "code",
   "execution_count": 8,
   "id": "94005d77",
   "metadata": {},
   "outputs": [
    {
     "data": {
      "text/plain": [
       "[25, 529, 225, 900, 2025, 3600, 100, 1225, 4900]"
      ]
     },
     "execution_count": 8,
     "metadata": {},
     "output_type": "execute_result"
    }
   ],
   "source": [
    "output = lambda list1 : [n**2 for n in list1]\n",
    "output(L)"
   ]
  },
  {
   "cell_type": "code",
   "execution_count": 9,
   "id": "b06c3443",
   "metadata": {},
   "outputs": [
    {
     "data": {
      "text/plain": [
       "[25, 529, 225, 900, 2025, 3600, 100, 1225, 4900]"
      ]
     },
     "execution_count": 9,
     "metadata": {},
     "output_type": "execute_result"
    }
   ],
   "source": [
    "list(map(lambda x : x**2,L))"
   ]
  },
  {
   "cell_type": "code",
   "execution_count": 10,
   "id": "e590993a",
   "metadata": {},
   "outputs": [
    {
     "data": {
      "text/plain": [
       "[25, 225, 900, 2025, 3600, 100, 1225, 4900]"
      ]
     },
     "execution_count": 10,
     "metadata": {},
     "output_type": "execute_result"
    }
   ],
   "source": [
    "[n**2 for n in L if n % 5 == 0]"
   ]
  },
  {
   "cell_type": "code",
   "execution_count": 12,
   "id": "5465072e",
   "metadata": {},
   "outputs": [
    {
     "data": {
      "text/plain": [
       "[25, 225, 900, 2025, 3600, 100, 1225, 4900]"
      ]
     },
     "execution_count": 12,
     "metadata": {},
     "output_type": "execute_result"
    }
   ],
   "source": [
    "output = lambda list1 : [n**2 for n in list1 if n%5 == 0]\n",
    "output(L)"
   ]
  },
  {
   "cell_type": "code",
   "execution_count": 13,
   "id": "b3d601df",
   "metadata": {},
   "outputs": [
    {
     "data": {
      "text/plain": [
       "[5, 15, 30, 45, 60, 10, 35, 70]"
      ]
     },
     "execution_count": 13,
     "metadata": {},
     "output_type": "execute_result"
    }
   ],
   "source": [
    "list(filter(lambda x : x%5 ==0,L))"
   ]
  }
 ],
 "metadata": {
  "kernelspec": {
   "display_name": "Python 3 (ipykernel)",
   "language": "python",
   "name": "python3"
  },
  "language_info": {
   "codemirror_mode": {
    "name": "ipython",
    "version": 3
   },
   "file_extension": ".py",
   "mimetype": "text/x-python",
   "name": "python",
   "nbconvert_exporter": "python",
   "pygments_lexer": "ipython3",
   "version": "3.9.17"
  }
 },
 "nbformat": 4,
 "nbformat_minor": 5
}
