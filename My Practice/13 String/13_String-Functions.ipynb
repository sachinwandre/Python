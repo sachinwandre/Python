{
 "cells": [
  {
   "cell_type": "markdown",
   "id": "1c62c4de",
   "metadata": {},
   "source": [
    "### Common Functions\n",
    "\n",
    "- len\n",
    "- max\n",
    "- min\n",
    "- sorted"
   ]
  },
  {
   "cell_type": "code",
   "execution_count": 1,
   "id": "bd97e9a1",
   "metadata": {},
   "outputs": [
    {
     "data": {
      "text/plain": [
       "7"
      ]
     },
     "execution_count": 1,
     "metadata": {},
     "output_type": "execute_result"
    }
   ],
   "source": [
    "c = \"kolkata\"\n",
    "len(c) "
   ]
  },
  {
   "cell_type": "code",
   "execution_count": 2,
   "id": "5a2f2ea3",
   "metadata": {},
   "outputs": [
    {
     "data": {
      "text/plain": [
       "'t'"
      ]
     },
     "execution_count": 2,
     "metadata": {},
     "output_type": "execute_result"
    }
   ],
   "source": [
    "max(c)"
   ]
  },
  {
   "cell_type": "code",
   "execution_count": 3,
   "id": "d8da11cc",
   "metadata": {},
   "outputs": [
    {
     "data": {
      "text/plain": [
       "'a'"
      ]
     },
     "execution_count": 3,
     "metadata": {},
     "output_type": "execute_result"
    }
   ],
   "source": [
    "min(c)"
   ]
  },
  {
   "cell_type": "code",
   "execution_count": 4,
   "id": "ef589f05",
   "metadata": {},
   "outputs": [
    {
     "data": {
      "text/plain": [
       "['t', 'o', 'l', 'k', 'k', 'a', 'a']"
      ]
     },
     "execution_count": 4,
     "metadata": {},
     "output_type": "execute_result"
    }
   ],
   "source": [
    "sorted(c,reverse=True)"
   ]
  },
  {
   "cell_type": "code",
   "execution_count": 5,
   "id": "05a66318",
   "metadata": {},
   "outputs": [
    {
     "data": {
      "text/plain": [
       "['a', 'a', 'k', 'k', 'l', 'o', 't']"
      ]
     },
     "execution_count": 5,
     "metadata": {},
     "output_type": "execute_result"
    }
   ],
   "source": [
    "sorted(c)"
   ]
  },
  {
   "cell_type": "code",
   "execution_count": 6,
   "id": "3eedd621",
   "metadata": {},
   "outputs": [
    {
     "name": "stdout",
     "output_type": "stream",
     "text": [
      "1342170856176\n"
     ]
    }
   ],
   "source": [
    "print(id(c))"
   ]
  },
  {
   "cell_type": "code",
   "execution_count": 7,
   "id": "c71f1b37",
   "metadata": {},
   "outputs": [
    {
     "name": "stdout",
     "output_type": "stream",
     "text": [
      "<class 'str'>\n"
     ]
    }
   ],
   "source": [
    "print(type(c))"
   ]
  },
  {
   "cell_type": "markdown",
   "id": "d22d0ac6",
   "metadata": {},
   "source": [
    "### 1. Capitalize/Title/Upper/Lower/Swapcase"
   ]
  },
  {
   "cell_type": "code",
   "execution_count": 8,
   "id": "d0bc5e0d",
   "metadata": {},
   "outputs": [
    {
     "data": {
      "text/plain": [
       "'It is raining today.we are planing for trip'"
      ]
     },
     "execution_count": 8,
     "metadata": {},
     "output_type": "execute_result"
    }
   ],
   "source": [
    "\"it is raining today.we are planing for trip\".capitalize()"
   ]
  },
  {
   "cell_type": "code",
   "execution_count": 9,
   "id": "3507ae9d",
   "metadata": {},
   "outputs": [
    {
     "data": {
      "text/plain": [
       "'It Is Raining Today'"
      ]
     },
     "execution_count": 9,
     "metadata": {},
     "output_type": "execute_result"
    }
   ],
   "source": [
    "\"it is raining today\".title()"
   ]
  },
  {
   "cell_type": "code",
   "execution_count": 10,
   "id": "3a175400",
   "metadata": {},
   "outputs": [
    {
     "data": {
      "text/plain": [
       "'kolkata'"
      ]
     },
     "execution_count": 10,
     "metadata": {},
     "output_type": "execute_result"
    }
   ],
   "source": [
    "c.upper().lower()"
   ]
  },
  {
   "cell_type": "code",
   "execution_count": 11,
   "id": "ff2d5551",
   "metadata": {},
   "outputs": [
    {
     "data": {
      "text/plain": [
       "'kOlKaTa'"
      ]
     },
     "execution_count": 11,
     "metadata": {},
     "output_type": "execute_result"
    }
   ],
   "source": [
    "\"KoLkAtA\".swapcase()"
   ]
  },
  {
   "cell_type": "markdown",
   "id": "ab0ed1aa",
   "metadata": {},
   "source": [
    "### 2. Count"
   ]
  },
  {
   "cell_type": "code",
   "execution_count": 12,
   "id": "c7ae53b5",
   "metadata": {},
   "outputs": [
    {
     "data": {
      "text/plain": [
       "0"
      ]
     },
     "execution_count": 12,
     "metadata": {},
     "output_type": "execute_result"
    }
   ],
   "source": [
    "\"it is raining\".count(\"x\")"
   ]
  },
  {
   "cell_type": "code",
   "execution_count": 13,
   "id": "332f4921",
   "metadata": {},
   "outputs": [
    {
     "data": {
      "text/plain": [
       "1"
      ]
     },
     "execution_count": 13,
     "metadata": {},
     "output_type": "execute_result"
    }
   ],
   "source": [
    "\"Sachin\".count('a')"
   ]
  },
  {
   "cell_type": "markdown",
   "id": "fc3de372",
   "metadata": {},
   "source": [
    "### 3. Find/Index"
   ]
  },
  {
   "cell_type": "code",
   "execution_count": 14,
   "id": "08564c99",
   "metadata": {},
   "outputs": [
    {
     "data": {
      "text/plain": [
       "-1"
      ]
     },
     "execution_count": 14,
     "metadata": {},
     "output_type": "execute_result"
    }
   ],
   "source": [
    "\"it is raining\".find(\"x\")"
   ]
  },
  {
   "cell_type": "code",
   "execution_count": 15,
   "id": "6a58275a",
   "metadata": {},
   "outputs": [
    {
     "data": {
      "text/plain": [
       "6"
      ]
     },
     "execution_count": 15,
     "metadata": {},
     "output_type": "execute_result"
    }
   ],
   "source": [
    "\"it is raining\".index(\"r\")"
   ]
  },
  {
   "cell_type": "code",
   "execution_count": 16,
   "id": "b164d11b",
   "metadata": {},
   "outputs": [],
   "source": [
    "# If not found then throwing an exception that substring not found\n",
    "# \"it is raining\".index(\"x\")"
   ]
  },
  {
   "cell_type": "markdown",
   "id": "3c287730",
   "metadata": {},
   "source": [
    "### 4. endswith/startswith"
   ]
  },
  {
   "cell_type": "code",
   "execution_count": 17,
   "id": "69d47bd0",
   "metadata": {},
   "outputs": [
    {
     "data": {
      "text/plain": [
       "False"
      ]
     },
     "execution_count": 17,
     "metadata": {},
     "output_type": "execute_result"
    }
   ],
   "source": [
    "\"it is raining\".endswith(\"ingef\")"
   ]
  },
  {
   "cell_type": "code",
   "execution_count": 18,
   "id": "ca910c87",
   "metadata": {},
   "outputs": [
    {
     "data": {
      "text/plain": [
       "True"
      ]
     },
     "execution_count": 18,
     "metadata": {},
     "output_type": "execute_result"
    }
   ],
   "source": [
    "\"it is raining\".startswith(\"it\")"
   ]
  },
  {
   "cell_type": "markdown",
   "id": "8ba45f11",
   "metadata": {},
   "source": [
    "### 5. format"
   ]
  },
  {
   "cell_type": "code",
   "execution_count": 19,
   "id": "8b73098a",
   "metadata": {},
   "outputs": [
    {
     "data": {
      "text/plain": [
       "'Hello my name is Nitish and I am 30'"
      ]
     },
     "execution_count": 19,
     "metadata": {},
     "output_type": "execute_result"
    }
   ],
   "source": [
    "\"Hello my name is {} and I am {}\".format(\"Nitish\",30)"
   ]
  },
  {
   "cell_type": "code",
   "execution_count": 20,
   "id": "d2c17443",
   "metadata": {},
   "outputs": [
    {
     "data": {
      "text/plain": [
       "'Hello my name is 30 and I am Nitish'"
      ]
     },
     "execution_count": 20,
     "metadata": {},
     "output_type": "execute_result"
    }
   ],
   "source": [
    "\"Hello my name is {1} and I am {0}\".format(\"Nitish\",30)"
   ]
  },
  {
   "cell_type": "code",
   "execution_count": 21,
   "id": "54e8e1a4",
   "metadata": {},
   "outputs": [
    {
     "data": {
      "text/plain": [
       "'Hello my name is 30 and I am Nitish'"
      ]
     },
     "execution_count": 21,
     "metadata": {},
     "output_type": "execute_result"
    }
   ],
   "source": [
    "\"Hello my name is {age} and I am {name}\".format(name = \"Nitish\",age = 30)"
   ]
  },
  {
   "cell_type": "code",
   "execution_count": 22,
   "id": "2751dc0c",
   "metadata": {},
   "outputs": [
    {
     "data": {
      "text/plain": [
       "'Hello my name is Nitish and I am Nitish'"
      ]
     },
     "execution_count": 22,
     "metadata": {},
     "output_type": "execute_result"
    }
   ],
   "source": [
    "\"Hello my name is {name} and I am {name}\".format(name = \"Nitish\",age = 30, weight = 70)"
   ]
  },
  {
   "cell_type": "code",
   "execution_count": 23,
   "id": "35a6b15d",
   "metadata": {},
   "outputs": [
    {
     "data": {
      "text/plain": [
       "'Sachin Wandre'"
      ]
     },
     "execution_count": 23,
     "metadata": {},
     "output_type": "execute_result"
    }
   ],
   "source": [
    "\"{} {}\".format(\"Sachin\",\"Wandre\")"
   ]
  },
  {
   "cell_type": "code",
   "execution_count": 24,
   "id": "91a7f774",
   "metadata": {},
   "outputs": [
    {
     "data": {
      "text/plain": [
       "'Sachin Wandre 50'"
      ]
     },
     "execution_count": 24,
     "metadata": {},
     "output_type": "execute_result"
    }
   ],
   "source": [
    "\"{} {} {}\".format(\"Sachin\",\"Wandre\",50)"
   ]
  },
  {
   "cell_type": "code",
   "execution_count": 25,
   "id": "0c138de9",
   "metadata": {},
   "outputs": [
    {
     "data": {
      "text/plain": [
       "'Wandre 35 Sachin'"
      ]
     },
     "execution_count": 25,
     "metadata": {},
     "output_type": "execute_result"
    }
   ],
   "source": [
    "\"{1} {2} {0}\".format(\"Sachin\",\"Wandre\",35)"
   ]
  },
  {
   "cell_type": "code",
   "execution_count": 26,
   "id": "81d38fd9",
   "metadata": {},
   "outputs": [
    {
     "data": {
      "text/plain": [
       "'Sachin 35 Pune 120000'"
      ]
     },
     "execution_count": 26,
     "metadata": {},
     "output_type": "execute_result"
    }
   ],
   "source": [
    "\"{name} {age} {city} {salary}\".format(age=35,name=\"Sachin\",salary=120000,city=\"Pune\")"
   ]
  },
  {
   "cell_type": "code",
   "execution_count": 27,
   "id": "579194e8",
   "metadata": {},
   "outputs": [
    {
     "name": "stdout",
     "output_type": "stream",
     "text": [
      "45.988\n"
     ]
    }
   ],
   "source": [
    "number = 45.98777\n",
    "formatted_number = \"{:.3f}\".format(number)\n",
    "print(formatted_number)"
   ]
  },
  {
   "cell_type": "code",
   "execution_count": 28,
   "id": "52a3a954",
   "metadata": {},
   "outputs": [
    {
     "name": "stdout",
     "output_type": "stream",
     "text": [
      "45.9878\n"
     ]
    }
   ],
   "source": [
    "number = 45.98777\n",
    "formatted_number = \"{:.4f}\".format(number)\n",
    "print(formatted_number)"
   ]
  },
  {
   "cell_type": "markdown",
   "id": "9c49b851",
   "metadata": {},
   "source": [
    "### 6. isalnum/ isalpha/ isdecimal/ isdigit/ isidentifier"
   ]
  },
  {
   "cell_type": "code",
   "execution_count": 29,
   "id": "d07f427a",
   "metadata": {},
   "outputs": [
    {
     "data": {
      "text/plain": [
       "True"
      ]
     },
     "execution_count": 29,
     "metadata": {},
     "output_type": "execute_result"
    }
   ],
   "source": [
    "\"FLAT20\".isalnum()"
   ]
  },
  {
   "cell_type": "code",
   "execution_count": 30,
   "id": "52a2a10d",
   "metadata": {},
   "outputs": [
    {
     "data": {
      "text/plain": [
       "True"
      ]
     },
     "execution_count": 30,
     "metadata": {},
     "output_type": "execute_result"
    }
   ],
   "source": [
    "\"Sachin\".isalnum()"
   ]
  },
  {
   "cell_type": "code",
   "execution_count": 31,
   "id": "5a6f2c96",
   "metadata": {},
   "outputs": [
    {
     "data": {
      "text/plain": [
       "True"
      ]
     },
     "execution_count": 31,
     "metadata": {},
     "output_type": "execute_result"
    }
   ],
   "source": [
    "\"1234\".isalnum()"
   ]
  },
  {
   "cell_type": "code",
   "execution_count": 32,
   "id": "aaa2f75a",
   "metadata": {},
   "outputs": [
    {
     "data": {
      "text/plain": [
       "False"
      ]
     },
     "execution_count": 32,
     "metadata": {},
     "output_type": "execute_result"
    }
   ],
   "source": [
    "\"Sachin#123\".isalnum()"
   ]
  },
  {
   "cell_type": "code",
   "execution_count": 33,
   "id": "a965adc8",
   "metadata": {},
   "outputs": [
    {
     "data": {
      "text/plain": [
       "False"
      ]
     },
     "execution_count": 33,
     "metadata": {},
     "output_type": "execute_result"
    }
   ],
   "source": [
    "\"FLAT20\".isalpha()"
   ]
  },
  {
   "cell_type": "code",
   "execution_count": 34,
   "id": "94b53a54",
   "metadata": {},
   "outputs": [
    {
     "data": {
      "text/plain": [
       "True"
      ]
     },
     "execution_count": 34,
     "metadata": {},
     "output_type": "execute_result"
    }
   ],
   "source": [
    "\"Sachin\".isalpha()"
   ]
  },
  {
   "cell_type": "code",
   "execution_count": 35,
   "id": "ade6d7c0",
   "metadata": {},
   "outputs": [
    {
     "data": {
      "text/plain": [
       "False"
      ]
     },
     "execution_count": 35,
     "metadata": {},
     "output_type": "execute_result"
    }
   ],
   "source": [
    "\"123sachin\".isalpha()"
   ]
  },
  {
   "cell_type": "code",
   "execution_count": 36,
   "id": "d093cc43",
   "metadata": {},
   "outputs": [
    {
     "data": {
      "text/plain": [
       "False"
      ]
     },
     "execution_count": 36,
     "metadata": {},
     "output_type": "execute_result"
    }
   ],
   "source": [
    "\"20A\".isdigit()"
   ]
  },
  {
   "cell_type": "code",
   "execution_count": 37,
   "id": "d50afe0b",
   "metadata": {},
   "outputs": [
    {
     "data": {
      "text/plain": [
       "True"
      ]
     },
     "execution_count": 37,
     "metadata": {},
     "output_type": "execute_result"
    }
   ],
   "source": [
    "\"hello_world\".isidentifier()"
   ]
  },
  {
   "cell_type": "markdown",
   "id": "301b6e54",
   "metadata": {},
   "source": [
    "### 7. Split"
   ]
  },
  {
   "cell_type": "code",
   "execution_count": 38,
   "id": "5ac47111",
   "metadata": {},
   "outputs": [
    {
     "data": {
      "text/plain": [
       "['who', 'is', 'the', 'pm', 'of', 'india']"
      ]
     },
     "execution_count": 38,
     "metadata": {},
     "output_type": "execute_result"
    }
   ],
   "source": [
    "# Convert the string into the list\n",
    "\"who is the pm of india\".split()"
   ]
  },
  {
   "cell_type": "code",
   "execution_count": 39,
   "id": "bc84b4b8",
   "metadata": {},
   "outputs": [
    {
     "data": {
      "text/plain": [
       "['who is the pm of india']"
      ]
     },
     "execution_count": 39,
     "metadata": {},
     "output_type": "execute_result"
    }
   ],
   "source": [
    "# split with unknown word \n",
    "temp = \"who is the pm of india\".split(\"x\")\n",
    "temp"
   ]
  },
  {
   "cell_type": "code",
   "execution_count": 40,
   "id": "f0c9d768",
   "metadata": {},
   "outputs": [
    {
     "data": {
      "text/plain": [
       "['who is the ', ' of india']"
      ]
     },
     "execution_count": 40,
     "metadata": {},
     "output_type": "execute_result"
    }
   ],
   "source": [
    "\"who is the pm of india\".split(\"pm\")"
   ]
  },
  {
   "cell_type": "code",
   "execution_count": 41,
   "id": "e013509a",
   "metadata": {},
   "outputs": [
    {
     "data": {
      "text/plain": [
       "['who is the ', 'm of ', 'm india']"
      ]
     },
     "execution_count": 41,
     "metadata": {},
     "output_type": "execute_result"
    }
   ],
   "source": [
    "\"who is the pm of pm india\".split(\"p\")"
   ]
  },
  {
   "cell_type": "markdown",
   "id": "4509cd24",
   "metadata": {},
   "source": [
    "### 8. Join"
   ]
  },
  {
   "cell_type": "code",
   "execution_count": 42,
   "id": "91aaffd5",
   "metadata": {},
   "outputs": [
    {
     "data": {
      "text/plain": [
       "'who is the pm of india'"
      ]
     },
     "execution_count": 42,
     "metadata": {},
     "output_type": "execute_result"
    }
   ],
   "source": [
    "# Convert the list of string into one string\n",
    "\" \".join(['who', 'is', 'the', 'pm', 'of', 'india'])"
   ]
  },
  {
   "cell_type": "code",
   "execution_count": 43,
   "id": "e9c1a32e",
   "metadata": {},
   "outputs": [
    {
     "data": {
      "text/plain": [
       "'who-is-the-pm-of-india'"
      ]
     },
     "execution_count": 43,
     "metadata": {},
     "output_type": "execute_result"
    }
   ],
   "source": [
    "\"-\".join(['who', 'is', 'the', 'pm', 'of', 'india'])"
   ]
  },
  {
   "cell_type": "code",
   "execution_count": 44,
   "id": "88e20ab7",
   "metadata": {},
   "outputs": [
    {
     "data": {
      "text/plain": [
       "'Sachin Wandre 35 age'"
      ]
     },
     "execution_count": 44,
     "metadata": {},
     "output_type": "execute_result"
    }
   ],
   "source": [
    "string = [\"Sachin\",\"Wandre\",\"35\",\"age\"]\n",
    "\n",
    "\" \".join(string)"
   ]
  },
  {
   "cell_type": "markdown",
   "id": "7e3328e3",
   "metadata": {},
   "source": [
    "### 9. Replace"
   ]
  },
  {
   "cell_type": "code",
   "execution_count": 45,
   "id": "4deead4f",
   "metadata": {},
   "outputs": [
    {
     "data": {
      "text/plain": [
       "'Hi my name is Amit'"
      ]
     },
     "execution_count": 45,
     "metadata": {},
     "output_type": "execute_result"
    }
   ],
   "source": [
    "\"Hi my name is Nitish\".replace(\"Nitish\",\"Amit\")"
   ]
  },
  {
   "cell_type": "code",
   "execution_count": 46,
   "id": "40b9a128",
   "metadata": {},
   "outputs": [
    {
     "data": {
      "text/plain": [
       "'Hi my name is Nitish'"
      ]
     },
     "execution_count": 46,
     "metadata": {},
     "output_type": "execute_result"
    }
   ],
   "source": [
    "# If not found then couldnt replaced it\n",
    "\"Hi my name is Nitish\".replace(\"Sachin\",\"Amit\")"
   ]
  },
  {
   "cell_type": "markdown",
   "id": "9694d048",
   "metadata": {},
   "source": [
    "### 10. Strip"
   ]
  },
  {
   "cell_type": "code",
   "execution_count": 47,
   "id": "9f7d874d",
   "metadata": {},
   "outputs": [
    {
     "data": {
      "text/plain": [
       "'nitish'"
      ]
     },
     "execution_count": 47,
     "metadata": {},
     "output_type": "execute_result"
    }
   ],
   "source": [
    "name = \"               nitish              \"\n",
    "name.strip()"
   ]
  },
  {
   "cell_type": "code",
   "execution_count": 48,
   "id": "173f1bf0",
   "metadata": {},
   "outputs": [
    {
     "data": {
      "text/plain": [
       "'hello'"
      ]
     },
     "execution_count": 48,
     "metadata": {},
     "output_type": "execute_result"
    }
   ],
   "source": [
    "\"hello    \".rstrip()"
   ]
  },
  {
   "cell_type": "code",
   "execution_count": 49,
   "id": "2d91267c",
   "metadata": {},
   "outputs": [
    {
     "data": {
      "text/plain": [
       "'hello'"
      ]
     },
     "execution_count": 49,
     "metadata": {},
     "output_type": "execute_result"
    }
   ],
   "source": [
    "\"     hello\".lstrip()"
   ]
  },
  {
   "cell_type": "code",
   "execution_count": 50,
   "id": "d993efb1",
   "metadata": {},
   "outputs": [
    {
     "data": {
      "text/plain": [
       "'hello'"
      ]
     },
     "execution_count": 50,
     "metadata": {},
     "output_type": "execute_result"
    }
   ],
   "source": [
    "\"      hello   \".strip()"
   ]
  },
  {
   "cell_type": "code",
   "execution_count": 51,
   "id": "ab1a4cba",
   "metadata": {},
   "outputs": [
    {
     "data": {
      "text/plain": [
       "'hello'"
      ]
     },
     "execution_count": 51,
     "metadata": {},
     "output_type": "execute_result"
    }
   ],
   "source": [
    "\"    hello\".lstrip()"
   ]
  }
 ],
 "metadata": {
  "kernelspec": {
   "display_name": "Python 3 (ipykernel)",
   "language": "python",
   "name": "python3"
  },
  "language_info": {
   "codemirror_mode": {
    "name": "ipython",
    "version": 3
   },
   "file_extension": ".py",
   "mimetype": "text/x-python",
   "name": "python",
   "nbconvert_exporter": "python",
   "pygments_lexer": "ipython3",
   "version": "3.9.17"
  }
 },
 "nbformat": 4,
 "nbformat_minor": 5
}
