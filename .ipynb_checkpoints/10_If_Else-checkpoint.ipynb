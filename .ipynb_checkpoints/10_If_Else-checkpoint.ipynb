{
 "cells": [
  {
   "cell_type": "code",
   "execution_count": 1,
   "id": "1a603830",
   "metadata": {},
   "outputs": [
    {
     "name": "stdout",
     "output_type": "stream",
     "text": [
      "Given number 25 is greater than 10\n"
     ]
    }
   ],
   "source": [
    "number = 25\n",
    "\n",
    "if number < 10:\n",
    "    print(\"Given number\",number,\"is less that 10\")\n",
    "else:\n",
    "    print(\"Given number\",number,\"is greater than 10\")"
   ]
  },
  {
   "cell_type": "code",
   "execution_count": 3,
   "id": "c126d377",
   "metadata": {},
   "outputs": [
    {
     "name": "stdout",
     "output_type": "stream",
     "text": [
      "Given color is white\n"
     ]
    }
   ],
   "source": [
    "color = \"White\"\n",
    "\n",
    "if color == \"Blue\":\n",
    "    print(\"Given color is Blue\")\n",
    "elif color == \"White\":\n",
    "    print(\"Given color is white\")\n",
    "else:\n",
    "    print(\"Given color is Red\")"
   ]
  },
  {
   "cell_type": "code",
   "execution_count": 5,
   "id": "f5f74cfc",
   "metadata": {},
   "outputs": [
    {
     "name": "stdout",
     "output_type": "stream",
     "text": [
      "Enter your username\tsnwandre\n",
      "Enter your password\t123\n",
      "Welcome to channel\n"
     ]
    }
   ],
   "source": [
    "username = input(\"Enter your username\\t\")\n",
    "password = input(\"Enter your password\\t\")\n",
    "\n",
    "if username == \"snwandre\" and password == \"123\":\n",
    "    print(\"Welcome to channel\")\n",
    "else:\n",
    "    print(\"Please check your username and password\")\n"
   ]
  },
  {
   "cell_type": "code",
   "execution_count": 7,
   "id": "67c7593e",
   "metadata": {},
   "outputs": [
    {
     "name": "stdout",
     "output_type": "stream",
     "text": [
      "Enter your username\tsnws\n",
      "Enter your password\t123\n",
      "Please check the username and enter again!!\n",
      "Enter username again!!snwandre\n",
      "Welcome to system\n"
     ]
    }
   ],
   "source": [
    "username = input(\"Enter your username\\t\")\n",
    "password = input(\"Enter your password\\t\")\n",
    "\n",
    "if username == \"snwandre\" and password==\"123\":\n",
    "    print(\"Welcome to channel\")\n",
    "elif username == \"snwandre\" and password !=\"123\":\n",
    "    print(\"Please check your password and enter again!!\")\n",
    "    password = input(\"Enter password again!!\")\n",
    "    if password == '123':\n",
    "        print(\"Welcome to system\")\n",
    "    else:\n",
    "        print(\"Your password is wrong\")\n",
    "elif username != \"snwandre\" and password ==\"123\":\n",
    "    print(\"Please check the username and enter again!!\")\n",
    "    username = input(\"Enter username again!!\")\n",
    "    if username == \"snwandre\":\n",
    "        print(\"Welcome to system\")\n",
    "    else:\n",
    "        print(\"Your username is wrong\")\n",
    "else:\n",
    "    print(\"Please try after some time\")"
   ]
  },
  {
   "cell_type": "code",
   "execution_count": 11,
   "id": "d55fece1",
   "metadata": {},
   "outputs": [
    {
     "name": "stdout",
     "output_type": "stream",
     "text": [
      "Enter your username as email id\tsachin@gmail.com\n",
      "Enter your password\t345\n",
      "You entered wrong password please enter again\n",
      "Enter your password again\t123\n",
      "Great you are welcome to our system\n"
     ]
    }
   ],
   "source": [
    "emailid = input(\"Enter your username as email id\\t\")\n",
    "\n",
    "if \"@\" in emailid:\n",
    "    password = input(\"Enter your password\\t\")    \n",
    "    if emailid == \"sachin@gmail.com\" and password == \"123\":\n",
    "        print(\"Welcome to our system\")\n",
    "    elif emailid == \"sachin@gmail.com\" and password != \"123\":\n",
    "        print(\"You entered wrong password please enter again\")\n",
    "        password = input(\"Enter your password again\\t\")\n",
    "        if password == \"123\":\n",
    "            print(\"Great you are welcome to our system\")\n",
    "        else:\n",
    "            print(\"You entered wrong password\")\n",
    "else:\n",
    "    print(\"Your email is not valid please enter valid email id\")"
   ]
  },
  {
   "cell_type": "code",
   "execution_count": 12,
   "id": "9eaf00a1",
   "metadata": {},
   "outputs": [
    {
     "name": "stdout",
     "output_type": "stream",
     "text": [
      "Enter your percentage\t45\n",
      "Grade D\n"
     ]
    }
   ],
   "source": [
    "# find out grade \n",
    "percentage = float(input('Enter your percentage\\t'))\n",
    "\n",
    "if percentage > 90:\n",
    "    print(\"Grade A\")\n",
    "elif percentage > 80 and percentage <= 90:\n",
    "    print(\"Grade B\")\n",
    "elif percentage > 60 and percentage <= 80:\n",
    "    print(\"Grade C\")\n",
    "else:\n",
    "    print(\"Grade D\")"
   ]
  },
  {
   "cell_type": "code",
   "execution_count": 14,
   "id": "dd0c4aa0",
   "metadata": {},
   "outputs": [
    {
     "name": "stdout",
     "output_type": "stream",
     "text": [
      "Enter first number\t55\n",
      "Enter second number\t99\n",
      "Enter third number\t22\n",
      "99 is greatest number\n"
     ]
    }
   ],
   "source": [
    "# Find the greatest number among the three number\n",
    "\n",
    "first_number = int(input(\"Enter first number\\t\"))\n",
    "second_number = int(input(\"Enter second number\\t\"))\n",
    "third_number = int(input(\"Enter third number\\t\"))\n",
    "\n",
    "if first_number > second_number and first_number > third_number:\n",
    "    print(first_number,\"is greatest number\")\n",
    "elif second_number > first_number and second_number > third_number:\n",
    "    print(second_number,\"is greatest number\")\n",
    "else:\n",
    "    print(third_number,\"is greatest number\")"
   ]
  },
  {
   "cell_type": "code",
   "execution_count": 16,
   "id": "86d4d465",
   "metadata": {},
   "outputs": [
    {
     "name": "stdout",
     "output_type": "stream",
     "text": [
      "Enter total number of working days\t60\n",
      "Enter total number of absent days\t15\n",
      "Total attendance percentage are 75.0\n",
      "You are not eligible for exam\n"
     ]
    }
   ],
   "source": [
    "# Find out attendance percentage\n",
    "\n",
    "total_days = int(input(\"Enter total number of working days\\t\"))\n",
    "absent_days = int(input(\"Enter total number of absent days\\t\"))\n",
    "\n",
    "present_percentage = (total_days - absent_days)/total_days * 100\n",
    "\n",
    "print(\"Total attendance percentage are\",present_percentage)\n",
    "\n",
    "if present_percentage > 75:\n",
    "    print(\"You are eligible for exam\\t\")\n",
    "else:\n",
    "    print(\"You are not eligible for exam\")"
   ]
  },
  {
   "cell_type": "markdown",
   "id": "89347dec",
   "metadata": {},
   "source": [
    "###### "
   ]
  }
 ],
 "metadata": {
  "kernelspec": {
   "display_name": "Python 3 (ipykernel)",
   "language": "python",
   "name": "python3"
  },
  "language_info": {
   "codemirror_mode": {
    "name": "ipython",
    "version": 3
   },
   "file_extension": ".py",
   "mimetype": "text/x-python",
   "name": "python",
   "nbconvert_exporter": "python",
   "pygments_lexer": "ipython3",
   "version": "3.9.7"
  }
 },
 "nbformat": 4,
 "nbformat_minor": 5
}
