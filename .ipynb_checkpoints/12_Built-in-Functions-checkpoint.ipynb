{
 "cells": [
  {
   "cell_type": "markdown",
   "id": "3731b06c",
   "metadata": {},
   "source": [
    "### 1. print"
   ]
  },
  {
   "cell_type": "code",
   "execution_count": 17,
   "id": "5519dfa5",
   "metadata": {},
   "outputs": [
    {
     "name": "stdout",
     "output_type": "stream",
     "text": [
      "Hello world\n"
     ]
    }
   ],
   "source": [
    "print(\"Hello world\")"
   ]
  },
  {
   "cell_type": "markdown",
   "id": "3796216b",
   "metadata": {},
   "source": [
    "### 2. input"
   ]
  },
  {
   "cell_type": "code",
   "execution_count": 18,
   "id": "76b36e0f",
   "metadata": {},
   "outputs": [
    {
     "name": "stdout",
     "output_type": "stream",
     "text": [
      "Enter your nameNitish\n"
     ]
    },
    {
     "data": {
      "text/plain": [
       "'Nitish'"
      ]
     },
     "execution_count": 18,
     "metadata": {},
     "output_type": "execute_result"
    }
   ],
   "source": [
    "input(\"Enter your name\")"
   ]
  },
  {
   "cell_type": "markdown",
   "id": "73884422",
   "metadata": {},
   "source": [
    "### 3. type"
   ]
  },
  {
   "cell_type": "code",
   "execution_count": 21,
   "id": "cbccd433",
   "metadata": {},
   "outputs": [
    {
     "data": {
      "text/plain": [
       "bool"
      ]
     },
     "execution_count": 21,
     "metadata": {},
     "output_type": "execute_result"
    }
   ],
   "source": [
    "a = True\n",
    "type(a)"
   ]
  },
  {
   "cell_type": "markdown",
   "id": "b25efbf8",
   "metadata": {},
   "source": [
    "### 4. int etc."
   ]
  },
  {
   "cell_type": "code",
   "execution_count": 23,
   "id": "e7bd7278",
   "metadata": {},
   "outputs": [
    {
     "data": {
      "text/plain": [
       "5"
      ]
     },
     "execution_count": 23,
     "metadata": {},
     "output_type": "execute_result"
    }
   ],
   "source": [
    "int(5.6)\n",
    "# float\n",
    "# str\n",
    "# list\n",
    "# tuple"
   ]
  },
  {
   "cell_type": "markdown",
   "id": "9e787323",
   "metadata": {},
   "source": [
    "### 5. abs"
   ]
  },
  {
   "cell_type": "code",
   "execution_count": 25,
   "id": "7db5a718",
   "metadata": {},
   "outputs": [
    {
     "data": {
      "text/plain": [
       "4"
      ]
     },
     "execution_count": 25,
     "metadata": {},
     "output_type": "execute_result"
    }
   ],
   "source": [
    "abs(-4)"
   ]
  },
  {
   "cell_type": "markdown",
   "id": "a51da848",
   "metadata": {},
   "source": [
    "### 6. pow"
   ]
  },
  {
   "cell_type": "code",
   "execution_count": 27,
   "id": "a8329d55",
   "metadata": {},
   "outputs": [
    {
     "data": {
      "text/plain": [
       "0.125"
      ]
     },
     "execution_count": 27,
     "metadata": {},
     "output_type": "execute_result"
    }
   ],
   "source": [
    "pow(2,-3)"
   ]
  },
  {
   "cell_type": "markdown",
   "id": "1ebc04f5",
   "metadata": {},
   "source": [
    "### 7. min/max"
   ]
  },
  {
   "cell_type": "code",
   "execution_count": 31,
   "id": "8615a2dc",
   "metadata": {},
   "outputs": [
    {
     "data": {
      "text/plain": [
       "'a'"
      ]
     },
     "execution_count": 31,
     "metadata": {},
     "output_type": "execute_result"
    }
   ],
   "source": [
    "min(\"kolkata\")"
   ]
  },
  {
   "cell_type": "markdown",
   "id": "9574b725",
   "metadata": {},
   "source": [
    "### 8. round"
   ]
  },
  {
   "cell_type": "code",
   "execution_count": 35,
   "id": "248ec8dc",
   "metadata": {},
   "outputs": [
    {
     "data": {
      "text/plain": [
       "3"
      ]
     },
     "execution_count": 35,
     "metadata": {},
     "output_type": "execute_result"
    }
   ],
   "source": [
    "c = 22/7\n",
    "round(c)"
   ]
  },
  {
   "cell_type": "markdown",
   "id": "57c75601",
   "metadata": {},
   "source": [
    "### 9. divmod"
   ]
  },
  {
   "cell_type": "code",
   "execution_count": 36,
   "id": "b7c55e52",
   "metadata": {},
   "outputs": [
    {
     "data": {
      "text/plain": [
       "(2, 1)"
      ]
     },
     "execution_count": 36,
     "metadata": {},
     "output_type": "execute_result"
    }
   ],
   "source": [
    "divmod(5,2)"
   ]
  },
  {
   "cell_type": "markdown",
   "id": "3ce91dc7",
   "metadata": {},
   "source": [
    "### 10. bin/oct/hex"
   ]
  },
  {
   "cell_type": "code",
   "execution_count": 39,
   "id": "befc962b",
   "metadata": {},
   "outputs": [
    {
     "data": {
      "text/plain": [
       "'0x4'"
      ]
     },
     "execution_count": 39,
     "metadata": {},
     "output_type": "execute_result"
    }
   ],
   "source": [
    "hex(4)"
   ]
  },
  {
   "cell_type": "markdown",
   "id": "f805884c",
   "metadata": {},
   "source": [
    "### 11. id"
   ]
  },
  {
   "cell_type": "code",
   "execution_count": 40,
   "id": "e586c791",
   "metadata": {},
   "outputs": [
    {
     "data": {
      "text/plain": [
       "140721404847984"
      ]
     },
     "execution_count": 40,
     "metadata": {},
     "output_type": "execute_result"
    }
   ],
   "source": [
    "a = 3\n",
    "id(a)"
   ]
  },
  {
   "cell_type": "markdown",
   "id": "ab3332fe",
   "metadata": {},
   "source": [
    "### 12. ord"
   ]
  },
  {
   "cell_type": "code",
   "execution_count": 43,
   "id": "d8066c68",
   "metadata": {},
   "outputs": [
    {
     "data": {
      "text/plain": [
       "65"
      ]
     },
     "execution_count": 43,
     "metadata": {},
     "output_type": "execute_result"
    }
   ],
   "source": [
    "ord('A')"
   ]
  },
  {
   "cell_type": "markdown",
   "id": "5d9a183c",
   "metadata": {},
   "source": [
    "### 13. len"
   ]
  },
  {
   "cell_type": "code",
   "execution_count": 45,
   "id": "828901d4",
   "metadata": {},
   "outputs": [
    {
     "data": {
      "text/plain": [
       "3"
      ]
     },
     "execution_count": 45,
     "metadata": {},
     "output_type": "execute_result"
    }
   ],
   "source": [
    "len([1,2,3])"
   ]
  },
  {
   "cell_type": "markdown",
   "id": "6dceb3b7",
   "metadata": {},
   "source": [
    "### 14. sum"
   ]
  },
  {
   "cell_type": "code",
   "execution_count": 47,
   "id": "e1e11efb",
   "metadata": {},
   "outputs": [
    {
     "data": {
      "text/plain": [
       "15"
      ]
     },
     "execution_count": 47,
     "metadata": {},
     "output_type": "execute_result"
    }
   ],
   "source": [
    "sum({1,2,3,4,5})"
   ]
  },
  {
   "cell_type": "markdown",
   "id": "385dc8ce",
   "metadata": {},
   "source": [
    "### 15. help"
   ]
  },
  {
   "cell_type": "code",
   "execution_count": 48,
   "id": "fdd17884",
   "metadata": {},
   "outputs": [
    {
     "name": "stdout",
     "output_type": "stream",
     "text": [
      "Help on built-in function print in module builtins:\n",
      "\n",
      "print(...)\n",
      "    print(value, ..., sep=' ', end='\\n', file=sys.stdout, flush=False)\n",
      "    \n",
      "    Prints the values to a stream, or to sys.stdout by default.\n",
      "    Optional keyword arguments:\n",
      "    file:  a file-like object (stream); defaults to the current sys.stdout.\n",
      "    sep:   string inserted between values, default a space.\n",
      "    end:   string appended after the last value, default a newline.\n",
      "    flush: whether to forcibly flush the stream.\n",
      "\n"
     ]
    }
   ],
   "source": [
    "help('print')"
   ]
  },
  {
   "cell_type": "code",
   "execution_count": 49,
   "id": "ca4cba4a",
   "metadata": {},
   "outputs": [
    {
     "name": "stdout",
     "output_type": "stream",
     "text": [
      "Help on built-in function sum in module builtins:\n",
      "\n",
      "sum(iterable, /, start=0)\n",
      "    Return the sum of a 'start' value (default: 0) plus an iterable of numbers\n",
      "    \n",
      "    When the iterable is empty, return the start value.\n",
      "    This function is intended specifically for use with numeric values and may\n",
      "    reject non-numeric types.\n",
      "\n"
     ]
    }
   ],
   "source": [
    "help('sum')"
   ]
  },
  {
   "cell_type": "code",
   "execution_count": 1,
   "id": "03a9833a",
   "metadata": {},
   "outputs": [
    {
     "name": "stdout",
     "output_type": "stream",
     "text": [
      "\n",
      "Please wait a moment while I gather a list of all available modules...\n",
      "\n"
     ]
    },
    {
     "name": "stderr",
     "output_type": "stream",
     "text": [
      "C:\\ProgramData\\Anaconda3\\lib\\site-packages\\IPython\\kernel\\__init__.py:12: ShimWarning: The `IPython.kernel` package has been deprecated since IPython 4.0.You should import from ipykernel or jupyter_client instead.\n",
      "  warn(\"The `IPython.kernel` package has been deprecated since IPython 4.0.\"\n",
      "WARNING: AstropyDeprecationWarning: The private astropy._erfa module has been made into its own package, pyerfa, which is a dependency of astropy and can be imported directly using \"import erfa\" [astropy._erfa]\n",
      "C:\\ProgramData\\Anaconda3\\lib\\pkgutil.py:93: MatplotlibDeprecationWarning: \n",
      "The matplotlib.compat module was deprecated in Matplotlib 3.3 and will be removed two minor releases later.\n",
      "  __import__(info.name)\n",
      "C:\\ProgramData\\Anaconda3\\lib\\site-packages\\nltk\\twitter\\__init__.py:20: UserWarning: The twython library has not been installed. Some functionality from the twitter package will not be available.\n",
      "  warnings.warn(\n"
     ]
    },
    {
     "name": "stdout",
     "output_type": "stream",
     "text": [
      "Update LANGUAGE_CODES (inside config/base.py) if a new translation has been added to Spyder\n"
     ]
    },
    {
     "name": "stderr",
     "output_type": "stream",
     "text": [
      "QSS file sucessfuly loaded.\n",
      "Found application patches to be applied.\n",
      "No QCoreApplication instance found. Application patches not applied. You have to call load_stylesheet function after instantiation of QApplication to take effect. \n",
      "C:\\ProgramData\\Anaconda3\\lib\\pkgutil.py:108: VisibleDeprecationWarning: zmq.eventloop.minitornado is deprecated in pyzmq 14.0 and will be removed.\n",
      "    Install tornado itself to use zmq with the tornado IOLoop.\n",
      "    \n",
      "  yield from walk_packages(path, info.name+'.', onerror)\n"
     ]
    },
    {
     "name": "stdout",
     "output_type": "stream",
     "text": [
      "Cython              codecs              modulefinder        soupsieve\n",
      "IPython             codeop              more_itertools      sphinx\n",
      "OpenSSL             collections         mpmath              sphinxcontrib\n",
      "PIL                 colorama            msgpack             spyder\n",
      "PyQt5               colorsys            msilib              spyder_kernels\n",
      "TBB                 commctrl            msvcrt              sqlalchemy\n",
      "__future__          compileall          multipledispatch    sqlite3\n",
      "_abc                comtypes            multiprocessing     sre_compile\n",
      "_aix_support        concurrent          munkres             sre_constants\n",
      "_ast                conda               mypy_extensions     sre_parse\n",
      "_asyncio            conda_build         nacl                ssl\n",
      "_bisect             conda_content_trust navigator_updater   sspi\n",
      "_black_version      conda_env           nbclassic           sspicon\n",
      "_blake2             conda_pack          nbclient            stat\n",
      "_bootlocale         conda_package_handling nbconvert           statistics\n",
      "_bootsubprocess     conda_token         nbformat            statsmodels\n",
      "_bz2                conda_verify        nest_asyncio        storemagic\n",
      "_cffi_backend       configparser        netbios             string\n",
      "_codecs             contextlib          netrc               stringprep\n",
      "_codecs_cn          contextlib2         networkx            struct\n",
      "_codecs_hk          contextvars         nltk                subprocess\n",
      "_codecs_iso2022     cookiecutter        nntplib             sunau\n",
      "_codecs_jp          copy                nose                symbol\n",
      "_codecs_kr          copyreg             notebook            sympy\n",
      "_codecs_tw          crypt               nt                  sympyprinting\n",
      "_collections        cryptography        ntpath              symtable\n",
      "_collections_abc    csv                 ntsecuritycon       sys\n",
      "_compat_pickle      ctypes              nturl2path          sysconfig\n",
      "_compression        curl                numba               tables\n",
      "_contextvars        curses              numbers             tabnanny\n",
      "_csv                cwp                 numexpr             tarfile\n",
      "_ctypes             cycler              numpy               tbb\n",
      "_ctypes_test        cython              numpydoc            tblib\n",
      "_daal4py            cythonmagic         odbc                telnetlib\n",
      "_datetime           cytoolz             olefile             tempfile\n",
      "_decimal            daal4py             onedal              terminado\n",
      "_distutils_hack     dask                opcode              test\n",
      "_elementtree        dataclasses         openpyxl            test_pycosat\n",
      "_functools          datetime            operator            testpath\n",
      "_hashlib            dateutil            optparse            tests\n",
      "_heapq              dbi                 os                  text_unidecode\n",
      "_imp                dbm                 packaging           textdistance\n",
      "_io                 dde                 pandas              textwrap\n",
      "_json               debugpy             pandocfilters       this\n",
      "_locale             decimal             paramiko            threading\n",
      "_lsprof             decorator           parser              threadpoolctl\n",
      "_lzma               defusedxml          parso               three_merge\n",
      "_markupbase         diff_match_patch    partd               tifffile\n",
      "_md5                difflib             past                time\n",
      "_msi                dis                 path                timeit\n",
      "_multibytecodec     distributed         pathlib             timer\n",
      "_multiprocessing    distutils           pathlib2            tinycss\n",
      "_nsis               doctest             pathspec            tkinter\n",
      "_onedal4py_host     docutils            patsy               tlz\n",
      "_opcode             email               pdb                 token\n",
      "_operator           encodings           pep8                tokenize\n",
      "_osx_support        ensurepip           perfmon             toml\n",
      "_overlapped         entrypoints         pexpect             toolz\n",
      "_peg_parser         enum                pickle              tornado\n",
      "_pickle             erfa                pickleshare         tqdm\n",
      "_py_abc             errno               pickletools         trace\n",
      "_pydecimal          et_xmlfile          pip                 traceback\n",
      "_pyio               fastcache           pipes               tracemalloc\n",
      "_pyrsistent_version faulthandler        pkg_resources       traitlets\n",
      "_pytest             filecmp             pkginfo             tty\n",
      "_queue              fileinput           pkgutil             turtle\n",
      "_random             filelock            platform            turtledemo\n",
      "_sha1               flake8              plistlib            typed_ast\n",
      "_sha256             flask               pluggy              types\n",
      "_sha3               fnmatch             ply                 typing\n",
      "_sha512             fontTools           poplib              typing_extensions\n",
      "_signal             formatter           posixpath           ujson\n",
      "_sitebuiltins       fractions           poyo                unicodecsv\n",
      "_socket             fsspec              pprint              unicodedata\n",
      "_sqlite3            ftplib              profile             unidecode\n",
      "_sre                functools           prometheus_client   unittest\n",
      "_ssl                future              prompt_toolkit      urllib\n",
      "_stat               gc                  pstats              urllib3\n",
      "_statistics         genericpath         psutil              uu\n",
      "_string             getopt              pty                 uuid\n",
      "_strptime           getpass             ptyprocess          venv\n",
      "_struct             gettext             pvectorc            warnings\n",
      "_symtable           gevent              py                  watchdog\n",
      "_system_path        glob                py_compile          wave\n",
      "_testbuffer         glob2               pyclbr              wcwidth\n",
      "_testcapi           graphlib            pycodestyle         weakref\n",
      "_testconsole        greenlet            pycosat             webbrowser\n",
      "_testimportmultiple gzip                pycparser           webencodings\n",
      "_testinternalcapi   h5py                pycurl              werkzeug\n",
      "_testmultiphase     hashlib             pydoc               wheel\n",
      "_thread             heapdict            pydoc_data          whichcraft\n",
      "_threading_local    heapq               pydocstyle          widgetsnbextension\n",
      "_tkinter            hmac                pyexpat             win2kras\n",
      "_tracemalloc        html                pyflakes            win32api\n",
      "_uuid               html5lib            pygments            win32clipboard\n",
      "_warnings           http                pylab               win32com\n",
      "_weakref            idlelib             pylint              win32con\n",
      "_weakrefset         idna                pyls_spyder         win32console\n",
      "_win32sysloader     imagecodecs         pylsp               win32cred\n",
      "_winapi             imageio             pylsp_black         win32crypt\n",
      "_winxptheme         imagesize           pylsp_jsonrpc       win32cryptcon\n",
      "_xxsubinterpreters  imaplib             pyodbc              win32ctypes\n",
      "_yaml               imghdr              pyparsing           win32event\n",
      "_zoneinfo           imp                 pyreadline          win32evtlog\n",
      "abc                 importlib           pyrsistent          win32evtlogutil\n",
      "adodbapi            importlib_metadata  pytest              win32file\n",
      "afxres              inflection          pythoncom           win32gui\n",
      "aifc                iniconfig           pytz                win32gui_struct\n",
      "alabaster           inspect             pywin               win32help\n",
      "anaconda_navigator  intervaltree        pywin32_bootstrap   win32inet\n",
      "anaconda_project    io                  pywin32_testutil    win32inetcon\n",
      "antigravity         ipaddress           pywintypes          win32job\n",
      "anyio               ipykernel           pywt                win32lz\n",
      "appdirs             ipykernel_launcher  pyximport           win32net\n",
      "argh                ipython_genutils    qdarkstyle          win32netcon\n",
      "argon2              ipywidgets          qstylizer           win32pdh\n",
      "argparse            isapi               qtawesome           win32pdhquery\n",
      "array               isort               qtconsole           win32pdhutil\n",
      "arrow               isympy              qtpy                win32pipe\n",
      "asn1crypto          itertools           queue               win32print\n",
      "ast                 itsdangerous        quopri              win32process\n",
      "astroid             jdcal               random              win32profile\n",
      "astropy             jedi                rasutil             win32ras\n",
      "async_generator     jinja2              re                  win32rcparser\n",
      "asynchat            jinja2_time         readline            win32security\n",
      "asyncio             joblib              regcheck            win32service\n",
      "asyncore            json                regex               win32serviceutil\n",
      "atexit              json5               regutil             win32timezone\n",
      "atomicwrites        jsonschema          repo_cli            win32trace\n",
      "attr                jupyter             reprlib             win32traceutil\n",
      "audioop             jupyter_client      requests            win32transaction\n",
      "autopep8            jupyter_console     rlcompleter         win32ts\n",
      "autoreload          jupyter_core        rmagic              win32ui\n",
      "babel               jupyter_server      rope                win32uiole\n",
      "backcall            jupyterlab          rtree               win32verstamp\n",
      "backports           jupyterlab_pygments ruamel_yaml         win32wnet\n",
      "base64              jupyterlab_server   run                 win_inet_pton\n",
      "bcrypt              jupyterlab_widgets  runpy               win_unicode_console\n",
      "bdb                 jwt                 sched               wincertstore\n",
      "binaryornot         keyring             scipy               winerror\n",
      "binascii            keyword             seaborn             winioctlcon\n",
      "binhex              kiwisolver          secrets             winnt\n",
      "binstar_client      lazy_object_proxy   select              winperf\n",
      "bisect              lib2to3             selectors           winpty\n",
      "bitarray            libarchive          send2trash          winreg\n",
      "bkcharts            libfuturize         servicemanager      winsound\n",
      "black               libpasteurize       setuptools          winxpgui\n",
      "blackd              lief                shelve              winxptheme\n",
      "bleach              linecache           shlex               wrapt\n",
      "blib2to3            llvmlite            shutil              wsgiref\n",
      "bokeh               locale              signal              xdrlib\n",
      "boto                locket              simplegeneric       xlrd\n",
      "bottleneck          logging             singledispatch      xlsxwriter\n",
      "brotli              lxml                sip                 xlwings\n",
      "bs4                 lzma                sipconfig           xlwt\n",
      "builtins            mailbox             sipdistutils        xml\n",
      "bz2                 mailcap             site                xmlrpc\n",
      "cProfile            markupsafe          six                 xmltodict\n",
      "cached_property     marshal             skimage             xxsubtype\n",
      "calendar            math                sklearn             yaml\n",
      "certifi             matplotlib          sklearnex           yapf\n",
      "cffi                matplotlib_inline   slugify             yapftests\n",
      "cgi                 mccabe              smtpd               zict\n",
      "cgitb               menuinst            smtplib             zipapp\n",
      "chardet             mimetypes           sndhdr              zipfile\n",
      "charset_normalizer  mistune             sniffio             zipimport\n",
      "chunk               mkl                 snowballstemmer     zipp\n",
      "click               mkl_fft             socket              zlib\n",
      "cloudpickle         mkl_random          socketserver        zmq\n",
      "clyent              mmap                socks               zoneinfo\n",
      "cmath               mmapfile            sockshandler        zope\n",
      "cmd                 mmsystem            sortedcollections   \n",
      "code                mock                sortedcontainers    \n",
      "\n",
      "Enter any module name to get more help.  Or, type \"modules spam\" to search\n",
      "for modules whose name or summary contain the string \"spam\".\n",
      "\n"
     ]
    }
   ],
   "source": [
    "help('modules')"
   ]
  },
  {
   "cell_type": "code",
   "execution_count": null,
   "id": "0271c49f",
   "metadata": {},
   "outputs": [],
   "source": [
    "len()\n",
    "min()\n",
    "max()\n",
    "sum()\n",
    "sorted()\n",
    "id()\n",
    "type()"
   ]
  }
 ],
 "metadata": {
  "kernelspec": {
   "display_name": "Python 3 (ipykernel)",
   "language": "python",
   "name": "python3"
  },
  "language_info": {
   "codemirror_mode": {
    "name": "ipython",
    "version": 3
   },
   "file_extension": ".py",
   "mimetype": "text/x-python",
   "name": "python",
   "nbconvert_exporter": "python",
   "pygments_lexer": "ipython3",
   "version": "3.9.7"
  }
 },
 "nbformat": 4,
 "nbformat_minor": 5
}
