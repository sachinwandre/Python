{
 "cells": [
  {
   "cell_type": "markdown",
   "id": "fb7fef9d",
   "metadata": {},
   "source": [
    "### List comprehension"
   ]
  },
  {
   "cell_type": "code",
   "execution_count": null,
   "id": "f2e3642e",
   "metadata": {},
   "outputs": [],
   "source": [
    "L = [2,3,-4,6,-7,-10,34,-7,-9]\n",
    "[num for num in L if num > 0]"
   ]
  },
  {
   "cell_type": "code",
   "execution_count": 2,
   "id": "be58e5ea",
   "metadata": {},
   "outputs": [
    {
     "data": {
      "text/plain": [
       "[-4, -7, -10, -7, -9]"
      ]
     },
     "execution_count": 2,
     "metadata": {},
     "output_type": "execute_result"
    }
   ],
   "source": [
    "L = [2,3,-4,6,-7,-10,34,-7,-9]\n",
    "[num for num in L if num < 0]"
   ]
  },
  {
   "cell_type": "code",
   "execution_count": 5,
   "id": "a905f23a",
   "metadata": {},
   "outputs": [
    {
     "data": {
      "text/plain": [
       "['Positive',\n",
       " 'Positive',\n",
       " 'negative',\n",
       " 'Positive',\n",
       " 'negative',\n",
       " 'negative',\n",
       " 'Positive',\n",
       " 'negative',\n",
       " 'negative']"
      ]
     },
     "execution_count": 5,
     "metadata": {},
     "output_type": "execute_result"
    }
   ],
   "source": [
    "L = [2,3,-4,6,-7,-10,34,-7,-9]\n",
    "[\"Positive\"  if num > 0 else \"negative\" for num in L]"
   ]
  },
  {
   "cell_type": "code",
   "execution_count": 8,
   "id": "3f14ea7f",
   "metadata": {},
   "outputs": [
    {
     "data": {
      "text/plain": [
       "[5, 10, 15, 20, 25, 30, 35, 40, 45, 50, 55, 60, 65, 70, 75, 80, 85, 90, 95]"
      ]
     },
     "execution_count": 8,
     "metadata": {},
     "output_type": "execute_result"
    }
   ],
   "source": [
    "# Numbers divisible by 5\n",
    "[n for n in range(1,100) if n%5 == 0]"
   ]
  },
  {
   "cell_type": "code",
   "execution_count": 9,
   "id": "1838ee66",
   "metadata": {},
   "outputs": [
    {
     "data": {
      "text/plain": [
       "[35, 70]"
      ]
     },
     "execution_count": 9,
     "metadata": {},
     "output_type": "execute_result"
    }
   ],
   "source": [
    "[n for n in range(1,100) if n % 5 == 0 if n % 7 == 0]"
   ]
  },
  {
   "cell_type": "code",
   "execution_count": 10,
   "id": "ca5aadd9",
   "metadata": {},
   "outputs": [
    {
     "data": {
      "text/plain": [
       "[1, 4, 9, 16, 25, 36, 49, 64, 81]"
      ]
     },
     "execution_count": 10,
     "metadata": {},
     "output_type": "execute_result"
    }
   ],
   "source": [
    "L = [1,2,3,4,5,6,7,8,9]\n",
    "[n*n for n in L]"
   ]
  },
  {
   "cell_type": "code",
   "execution_count": 11,
   "id": "e46f0ef0",
   "metadata": {},
   "outputs": [
    {
     "data": {
      "text/plain": [
       "['apple']"
      ]
     },
     "execution_count": 11,
     "metadata": {},
     "output_type": "execute_result"
    }
   ],
   "source": [
    "fruits = [\"apple\", \"banana\", \"cherry\", \"kiwi\", \"mango\"]\n",
    "[fruit for fruit in fruits if fruit.startswith('a')]"
   ]
  },
  {
   "cell_type": "code",
   "execution_count": 12,
   "id": "f979272c",
   "metadata": {},
   "outputs": [
    {
     "data": {
      "text/plain": [
       "['apple', 'guava', 'banana']"
      ]
     },
     "execution_count": 12,
     "metadata": {},
     "output_type": "execute_result"
    }
   ],
   "source": [
    "basket = [\"apple\",'guava','cherry','banana']\n",
    "my_fruits = ['apple','kiwi','grapes','banana','guava']\n",
    "[fruit for fruit in basket if fruit in my_fruits]"
   ]
  },
  {
   "cell_type": "code",
   "execution_count": 13,
   "id": "eb1edcb8",
   "metadata": {},
   "outputs": [
    {
     "data": {
      "text/plain": [
       "['apple']"
      ]
     },
     "execution_count": 13,
     "metadata": {},
     "output_type": "execute_result"
    }
   ],
   "source": [
    "basket = [\"apple\",'guava','cherry','banana']\n",
    "my_fruits = ['apple','kiwi','grapes','banana','guava']\n",
    "[fruit for fruit in basket if fruit in my_fruits if fruit.startswith(\"a\")]"
   ]
  },
  {
   "cell_type": "code",
   "execution_count": 16,
   "id": "ed9a49f7",
   "metadata": {},
   "outputs": [
    {
     "data": {
      "text/plain": [
       "[[2, 3, 4, 5], [3, 4, 5, 6], [4, 5, 6, 7], [5, 6, 7, 8]]"
      ]
     },
     "execution_count": 16,
     "metadata": {},
     "output_type": "execute_result"
    }
   ],
   "source": [
    "[[i+j for j in range(1,5)]for i in range(1,5)]\n",
    "    # inner loop          Outer loop   "
   ]
  },
  {
   "cell_type": "markdown",
   "id": "68c711c4",
   "metadata": {},
   "source": [
    "### Lambda"
   ]
  },
  {
   "cell_type": "code",
   "execution_count": 20,
   "id": "1dd52ac5",
   "metadata": {},
   "outputs": [
    {
     "data": {
      "text/plain": [
       "100"
      ]
     },
     "execution_count": 20,
     "metadata": {},
     "output_type": "execute_result"
    }
   ],
   "source": [
    "sqr = lambda x : x*x\n",
    "number(10)"
   ]
  },
  {
   "cell_type": "code",
   "execution_count": 21,
   "id": "22a26144",
   "metadata": {},
   "outputs": [
    {
     "data": {
      "text/plain": [
       "1000"
      ]
     },
     "execution_count": 21,
     "metadata": {},
     "output_type": "execute_result"
    }
   ],
   "source": [
    "cube = lambda x : x**3\n",
    "cube(10)"
   ]
  },
  {
   "cell_type": "code",
   "execution_count": 22,
   "id": "fc4eef0b",
   "metadata": {},
   "outputs": [
    {
     "data": {
      "text/plain": [
       "300"
      ]
     },
     "execution_count": 22,
     "metadata": {},
     "output_type": "execute_result"
    }
   ],
   "source": [
    "sum1 = lambda x,y : x+y\n",
    "sum1(100,200)"
   ]
  },
  {
   "cell_type": "code",
   "execution_count": 24,
   "id": "23960140",
   "metadata": {},
   "outputs": [
    {
     "data": {
      "text/plain": [
       "True"
      ]
     },
     "execution_count": 24,
     "metadata": {},
     "output_type": "execute_result"
    }
   ],
   "source": [
    "string = \"Hello\"\n",
    "output = lambda str1 : str1.startswith(\"H\")\n",
    "\n",
    "output(string)"
   ]
  },
  {
   "cell_type": "code",
   "execution_count": 25,
   "id": "687bdfb5",
   "metadata": {},
   "outputs": [
    {
     "data": {
      "text/plain": [
       "False"
      ]
     },
     "execution_count": 25,
     "metadata": {},
     "output_type": "execute_result"
    }
   ],
   "source": [
    "string = \"Hello\"\n",
    "output = lambda str1 :True if str1.startswith(\"d\") else False\n",
    "\n",
    "output(string)"
   ]
  },
  {
   "cell_type": "code",
   "execution_count": 26,
   "id": "fedb20b8",
   "metadata": {},
   "outputs": [
    {
     "data": {
      "text/plain": [
       "'even'"
      ]
     },
     "execution_count": 26,
     "metadata": {},
     "output_type": "execute_result"
    }
   ],
   "source": [
    "a = lambda x:'even' if x%2 == 0 else 'odd'\n",
    "a(6)"
   ]
  },
  {
   "cell_type": "code",
   "execution_count": 28,
   "id": "cb2cc177",
   "metadata": {},
   "outputs": [
    {
     "data": {
      "text/plain": [
       "[0, 1, 2, 3, 4, 6, 6, 7, 9]"
      ]
     },
     "execution_count": 28,
     "metadata": {},
     "output_type": "execute_result"
    }
   ],
   "source": [
    "# Sort list using lambda\n",
    "L = [3,6,1,4,2,9,6,7,0]\n",
    "sort = lambda list1 : sorted(list1)\n",
    "sort(L)"
   ]
  },
  {
   "cell_type": "code",
   "execution_count": 29,
   "id": "87366d07",
   "metadata": {},
   "outputs": [
    {
     "data": {
      "text/plain": [
       "[(1, 100), (2, 200), (3, 300), (4, 400), (6, 600), (8, 800)]"
      ]
     },
     "execution_count": 29,
     "metadata": {},
     "output_type": "execute_result"
    }
   ],
   "source": [
    "L = [(1,100),(3,300),(6,600),(2,200),(4,400),(8,800)]\n",
    "\n",
    "sort = lambda list1 : sorted(list1,key=lambda k : k[0])\n",
    "\n",
    "sort(L)"
   ]
  },
  {
   "cell_type": "code",
   "execution_count": 31,
   "id": "204dc146",
   "metadata": {},
   "outputs": [
    {
     "data": {
      "text/plain": [
       "[(6, 66), (8, 88), (1, 100), (2, 200), (3, 300), (4, 400)]"
      ]
     },
     "execution_count": 31,
     "metadata": {},
     "output_type": "execute_result"
    }
   ],
   "source": [
    "L = [(1,100),(3,300),(6,66),(2,200),(4,400),(8,88)]\n",
    "sort = lambda list2 : sorted(list2,key=lambda k :k[1])\n",
    "sort(L)"
   ]
  },
  {
   "cell_type": "code",
   "execution_count": 33,
   "id": "bab6fabb",
   "metadata": {},
   "outputs": [
    {
     "data": {
      "text/plain": [
       "[(1, 100), (2, 200), (3, 300), (4, 400), (6, 66), (8, 88)]"
      ]
     },
     "execution_count": 33,
     "metadata": {},
     "output_type": "execute_result"
    }
   ],
   "source": [
    "L = [(1,100),(3,300),(6,66),(2,200),(4,400),(8,88)]\n",
    "L.sort(key = lambda k : k[0])\n",
    "L"
   ]
  },
  {
   "cell_type": "code",
   "execution_count": 34,
   "id": "600af155",
   "metadata": {},
   "outputs": [
    {
     "data": {
      "text/plain": [
       "[(6, 66), (8, 88), (1, 100), (2, 200), (3, 300), (4, 400)]"
      ]
     },
     "execution_count": 34,
     "metadata": {},
     "output_type": "execute_result"
    }
   ],
   "source": [
    "L = [(1,100),(3,300),(6,66),(2,200),(4,400),(8,88)]\n",
    "L.sort(key=lambda k : k[1])\n",
    "L"
   ]
  },
  {
   "cell_type": "code",
   "execution_count": 36,
   "id": "e5de36df",
   "metadata": {},
   "outputs": [
    {
     "data": {
      "text/plain": [
       "[('Che', 55), ('Eng', 52), ('Hindi', 72), ('Math', 78), ('Phy', 68)]"
      ]
     },
     "execution_count": 36,
     "metadata": {},
     "output_type": "execute_result"
    }
   ],
   "source": [
    "dict1 = {\"Phy\":68,\"Che\":55,\"Math\":78,\"Eng\":52,\"Hindi\":72,}\n",
    "sort = lambda dict1 : sorted(dict1.items(),key= lambda k : k[0])\n",
    "sort(dict1)"
   ]
  },
  {
   "cell_type": "code",
   "execution_count": 38,
   "id": "15e8fa33",
   "metadata": {},
   "outputs": [
    {
     "data": {
      "text/plain": [
       "[('Che', 55), ('Eng', 52), ('Hindi', 72), ('Math', 78), ('Phy', 68)]"
      ]
     },
     "execution_count": 38,
     "metadata": {},
     "output_type": "execute_result"
    }
   ],
   "source": [
    "dict1 = {\"Phy\":68,\"Che\":55,\"Math\":78,\"Eng\":52,\"Hindi\":72,}\n",
    "sort = sorted(dict1.items(),key= lambda k : k[0])\n",
    "sort"
   ]
  },
  {
   "cell_type": "code",
   "execution_count": 37,
   "id": "4fc9fa5b",
   "metadata": {},
   "outputs": [
    {
     "data": {
      "text/plain": [
       "[('Eng', 52), ('Che', 55), ('Phy', 68), ('Hindi', 72), ('Math', 78)]"
      ]
     },
     "execution_count": 37,
     "metadata": {},
     "output_type": "execute_result"
    }
   ],
   "source": [
    "dict1 = {\"Phy\":68,\"Che\":55,\"Math\":78,\"Eng\":52,\"Hindi\":72,}\n",
    "sort = lambda dict1 : sorted(dict1.items(),key= lambda k : k[1])\n",
    "sort(dict1)"
   ]
  },
  {
   "cell_type": "code",
   "execution_count": 39,
   "id": "4184e243",
   "metadata": {},
   "outputs": [
    {
     "data": {
      "text/plain": [
       "[('Eng', 52), ('Che', 55), ('Phy', 68), ('Hindi', 72), ('Math', 78)]"
      ]
     },
     "execution_count": 39,
     "metadata": {},
     "output_type": "execute_result"
    }
   ],
   "source": [
    "dict1 = {\"Phy\":68,\"Che\":55,\"Math\":78,\"Eng\":52,\"Hindi\":72,}\n",
    "sort = sorted(dict1.items(),key= lambda k : k[1])\n",
    "sort"
   ]
  },
  {
   "cell_type": "code",
   "execution_count": null,
   "id": "a1a7dc32",
   "metadata": {},
   "outputs": [],
   "source": [
    "\n",
    "\n"
   ]
  }
 ],
 "metadata": {
  "kernelspec": {
   "display_name": "Python 3 (ipykernel)",
   "language": "python",
   "name": "python3"
  },
  "language_info": {
   "codemirror_mode": {
    "name": "ipython",
    "version": 3
   },
   "file_extension": ".py",
   "mimetype": "text/x-python",
   "name": "python",
   "nbconvert_exporter": "python",
   "pygments_lexer": "ipython3",
   "version": "3.9.7"
  }
 },
 "nbformat": 4,
 "nbformat_minor": 5
}
