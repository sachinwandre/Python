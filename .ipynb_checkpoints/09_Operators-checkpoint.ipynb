{
 "cells": [
  {
   "cell_type": "code",
   "execution_count": null,
   "id": "8933fc8a",
   "metadata": {},
   "outputs": [],
   "source": [
    "Operators\n",
    "Operators are used to perform operations on variables and values. Python has the following operators:\n",
    "\n",
    "Arithmetic operators\n",
    "Comparison operators\n",
    "Logical operators\n",
    "Bitwise operators\n",
    "Assignment operators\n",
    "Identity operators\n",
    "Membership operators"
   ]
  },
  {
   "cell_type": "markdown",
   "id": "70e4280a",
   "metadata": {},
   "source": [
    "# Arithmetic operators"
   ]
  },
  {
   "cell_type": "code",
   "execution_count": 1,
   "id": "8e61040e",
   "metadata": {},
   "outputs": [
    {
     "name": "stdout",
     "output_type": "stream",
     "text": [
      "48\n"
     ]
    }
   ],
   "source": [
    "first = 41 \n",
    "second = 7\n",
    "\n",
    "\n",
    "print(first+second)"
   ]
  },
  {
   "cell_type": "code",
   "execution_count": 2,
   "id": "5c62672c",
   "metadata": {},
   "outputs": [
    {
     "name": "stdout",
     "output_type": "stream",
     "text": [
      "34\n"
     ]
    }
   ],
   "source": [
    "print(first-second)"
   ]
  },
  {
   "cell_type": "code",
   "execution_count": 3,
   "id": "4a16d4bd",
   "metadata": {},
   "outputs": [
    {
     "name": "stdout",
     "output_type": "stream",
     "text": [
      "5.857142857142857\n"
     ]
    }
   ],
   "source": [
    "print(first/second)"
   ]
  },
  {
   "cell_type": "code",
   "execution_count": 4,
   "id": "92614392",
   "metadata": {},
   "outputs": [
    {
     "name": "stdout",
     "output_type": "stream",
     "text": [
      "6\n"
     ]
    }
   ],
   "source": [
    "print(first%second)"
   ]
  },
  {
   "cell_type": "code",
   "execution_count": 5,
   "id": "88ebcc79",
   "metadata": {},
   "outputs": [
    {
     "name": "stdout",
     "output_type": "stream",
     "text": [
      "5\n"
     ]
    }
   ],
   "source": [
    "print(first//second)"
   ]
  },
  {
   "cell_type": "code",
   "execution_count": 16,
   "id": "24cdf6d6",
   "metadata": {},
   "outputs": [
    {
     "name": "stdout",
     "output_type": "stream",
     "text": [
      "163840000000\n"
     ]
    }
   ],
   "source": [
    "print(first ** second)"
   ]
  },
  {
   "cell_type": "code",
   "execution_count": 6,
   "id": "28279456",
   "metadata": {},
   "outputs": [
    {
     "name": "stdout",
     "output_type": "stream",
     "text": [
      "287\n"
     ]
    }
   ],
   "source": [
    "print(first*second)"
   ]
  },
  {
   "cell_type": "code",
   "execution_count": 17,
   "id": "c1c656ce",
   "metadata": {},
   "outputs": [
    {
     "name": "stdout",
     "output_type": "stream",
     "text": [
      "True\n"
     ]
    }
   ],
   "source": [
    "print(first > second)"
   ]
  },
  {
   "cell_type": "code",
   "execution_count": 18,
   "id": "b3d8f2f7",
   "metadata": {},
   "outputs": [
    {
     "name": "stdout",
     "output_type": "stream",
     "text": [
      "True\n"
     ]
    }
   ],
   "source": [
    "print(first >= second)"
   ]
  },
  {
   "cell_type": "code",
   "execution_count": 19,
   "id": "d0e5aeb4",
   "metadata": {},
   "outputs": [
    {
     "name": "stdout",
     "output_type": "stream",
     "text": [
      "False\n"
     ]
    }
   ],
   "source": [
    "print(first < second)"
   ]
  },
  {
   "cell_type": "code",
   "execution_count": 20,
   "id": "c1374341",
   "metadata": {},
   "outputs": [
    {
     "name": "stdout",
     "output_type": "stream",
     "text": [
      "False\n"
     ]
    }
   ],
   "source": [
    "print(first <= second)"
   ]
  },
  {
   "cell_type": "code",
   "execution_count": 21,
   "id": "43e407a6",
   "metadata": {},
   "outputs": [
    {
     "name": "stdout",
     "output_type": "stream",
     "text": [
      "False\n"
     ]
    }
   ],
   "source": [
    "print(first == second)"
   ]
  },
  {
   "cell_type": "code",
   "execution_count": 22,
   "id": "d6a248aa",
   "metadata": {},
   "outputs": [
    {
     "name": "stdout",
     "output_type": "stream",
     "text": [
      "True\n"
     ]
    }
   ],
   "source": [
    "print(first != second)"
   ]
  },
  {
   "cell_type": "code",
   "execution_count": 24,
   "id": "d03202b7",
   "metadata": {},
   "outputs": [
    {
     "name": "stdout",
     "output_type": "stream",
     "text": [
      "140\n"
     ]
    }
   ],
   "source": [
    "first += 100\n",
    "print(first)"
   ]
  },
  {
   "cell_type": "code",
   "execution_count": 30,
   "id": "d6e626ee",
   "metadata": {},
   "outputs": [
    {
     "name": "stdout",
     "output_type": "stream",
     "text": [
      "-10\n"
     ]
    }
   ],
   "source": [
    "number = 90\n",
    "number -= 100\n",
    "print(number)"
   ]
  },
  {
   "cell_type": "code",
   "execution_count": 32,
   "id": "85d4bc63",
   "metadata": {},
   "outputs": [
    {
     "name": "stdout",
     "output_type": "stream",
     "text": [
      "12.0\n"
     ]
    }
   ],
   "source": [
    "number2 = 60\n",
    "number2 /= 5\n",
    "print(number2)"
   ]
  },
  {
   "cell_type": "code",
   "execution_count": 35,
   "id": "94cd0efa",
   "metadata": {},
   "outputs": [
    {
     "name": "stdout",
     "output_type": "stream",
     "text": [
      "True\n"
     ]
    }
   ],
   "source": [
    "x = \"56789\"\n",
    "\n",
    "print(\"5\" in x)"
   ]
  },
  {
   "cell_type": "code",
   "execution_count": 36,
   "id": "249f50e1",
   "metadata": {},
   "outputs": [
    {
     "name": "stdout",
     "output_type": "stream",
     "text": [
      "True\n"
     ]
    }
   ],
   "source": [
    "a = 5\n",
    "b = 5\n",
    "print(a is b)"
   ]
  },
  {
   "cell_type": "code",
   "execution_count": 37,
   "id": "5bb37ac9",
   "metadata": {},
   "outputs": [
    {
     "name": "stdout",
     "output_type": "stream",
     "text": [
      "True\n"
     ]
    }
   ],
   "source": [
    "a = \"Sachin\"\n",
    "b = \"Sachin\"\n",
    "print(a is b)"
   ]
  },
  {
   "cell_type": "code",
   "execution_count": 38,
   "id": "5549ce49",
   "metadata": {},
   "outputs": [
    {
     "name": "stdout",
     "output_type": "stream",
     "text": [
      "False\n"
     ]
    }
   ],
   "source": [
    "a = \"Sachin-Wandre\"\n",
    "b = \"Sachin-Wandre\"\n",
    "print(a is b)"
   ]
  },
  {
   "cell_type": "code",
   "execution_count": 40,
   "id": "b62004dd",
   "metadata": {},
   "outputs": [
    {
     "name": "stdout",
     "output_type": "stream",
     "text": [
      "True\n"
     ]
    }
   ],
   "source": [
    "a = \"Wandre\"\n",
    "print(\"Wand\" in a)\n"
   ]
  },
  {
   "cell_type": "code",
   "execution_count": 41,
   "id": "2a865da7",
   "metadata": {},
   "outputs": [
    {
     "name": "stdout",
     "output_type": "stream",
     "text": [
      "False\n"
     ]
    }
   ],
   "source": [
    "a = \"Wandre\"\n",
    "print(\"Wand\" not in a)"
   ]
  },
  {
   "cell_type": "code",
   "execution_count": 11,
   "id": "1a8fd2b2",
   "metadata": {},
   "outputs": [
    {
     "name": "stdout",
     "output_type": "stream",
     "text": [
      "True\n"
     ]
    }
   ],
   "source": [
    "a = \"Sachin-Wandre\"\n",
    "b = \"Sachin\"\n",
    "print(a is not b)"
   ]
  },
  {
   "cell_type": "code",
   "execution_count": 7,
   "id": "454d8361",
   "metadata": {},
   "outputs": [
    {
     "name": "stdout",
     "output_type": "stream",
     "text": [
      "False\n"
     ]
    }
   ],
   "source": [
    "a = \"Sachin\"\n",
    "b = \"Sachin\"\n",
    "print(a is not b)"
   ]
  },
  {
   "cell_type": "code",
   "execution_count": 8,
   "id": "656c6a9b",
   "metadata": {},
   "outputs": [
    {
     "name": "stdout",
     "output_type": "stream",
     "text": [
      "False\n"
     ]
    }
   ],
   "source": [
    "a = 100\n",
    "b = 100\n",
    "print(a is not b)"
   ]
  },
  {
   "cell_type": "code",
   "execution_count": 10,
   "id": "3a43447a",
   "metadata": {},
   "outputs": [
    {
     "name": "stdout",
     "output_type": "stream",
     "text": [
      "True\n"
     ]
    }
   ],
   "source": [
    "a = '100'\n",
    "b = '100'\n",
    "print(a is b)"
   ]
  },
  {
   "cell_type": "code",
   "execution_count": null,
   "id": "253d42e1",
   "metadata": {},
   "outputs": [],
   "source": []
  }
 ],
 "metadata": {
  "kernelspec": {
   "display_name": "Python 3 (ipykernel)",
   "language": "python",
   "name": "python3"
  },
  "language_info": {
   "codemirror_mode": {
    "name": "ipython",
    "version": 3
   },
   "file_extension": ".py",
   "mimetype": "text/x-python",
   "name": "python",
   "nbconvert_exporter": "python",
   "pygments_lexer": "ipython3",
   "version": "3.9.7"
  }
 },
 "nbformat": 4,
 "nbformat_minor": 5
}
