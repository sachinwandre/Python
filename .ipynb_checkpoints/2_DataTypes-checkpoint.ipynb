{
 "cells": [
  {
   "cell_type": "code",
   "execution_count": 1,
   "id": "d8b0425e",
   "metadata": {},
   "outputs": [],
   "source": [
    "# Basic Types - (integer,float,complex,boolean and string)\n",
    "# Container Types - (List,Tuples, Sets and Dictionary)\n",
    "# User-defined Types - Class"
   ]
  },
  {
   "cell_type": "code",
   "execution_count": 2,
   "id": "c9debf12",
   "metadata": {},
   "outputs": [
    {
     "name": "stdout",
     "output_type": "stream",
     "text": [
      "78000000000000000000000099999\n"
     ]
    }
   ],
   "source": [
    "# integer\n",
    "print(78000000000000000000000099999)"
   ]
  },
  {
   "cell_type": "code",
   "execution_count": 3,
   "id": "afaa8c02",
   "metadata": {},
   "outputs": [
    {
     "name": "stdout",
     "output_type": "stream",
     "text": [
      "1e+308\n"
     ]
    }
   ],
   "source": [
    "# it support upto 1e308\n",
    "print(1e308)"
   ]
  },
  {
   "cell_type": "code",
   "execution_count": 4,
   "id": "229231cb",
   "metadata": {},
   "outputs": [
    {
     "name": "stdout",
     "output_type": "stream",
     "text": [
      "inf\n"
     ]
    }
   ],
   "source": [
    "print(1e309)"
   ]
  },
  {
   "cell_type": "code",
   "execution_count": 5,
   "id": "5145fffd",
   "metadata": {},
   "outputs": [
    {
     "name": "stdout",
     "output_type": "stream",
     "text": [
      "68.0\n"
     ]
    }
   ],
   "source": [
    "# float\n",
    "print(67.999999999999999999999888888)"
   ]
  },
  {
   "cell_type": "code",
   "execution_count": 7,
   "id": "338ba9f2",
   "metadata": {},
   "outputs": [
    {
     "name": "stdout",
     "output_type": "stream",
     "text": [
      "56.234322111333334\n"
     ]
    }
   ],
   "source": [
    "print(56.2343221113333333333335)"
   ]
  },
  {
   "cell_type": "code",
   "execution_count": 8,
   "id": "2b111d64",
   "metadata": {},
   "outputs": [
    {
     "name": "stdout",
     "output_type": "stream",
     "text": [
      "(6+9j)\n",
      "(10+5j)\n"
     ]
    }
   ],
   "source": [
    "# complex\n",
    "print(6+9j)\n",
    "print(10+5j)"
   ]
  },
  {
   "cell_type": "code",
   "execution_count": 10,
   "id": "293220cc",
   "metadata": {},
   "outputs": [
    {
     "name": "stdout",
     "output_type": "stream",
     "text": [
      "True\n",
      "False\n"
     ]
    }
   ],
   "source": [
    "# boolean\n",
    "print(True)\n",
    "print(False)"
   ]
  },
  {
   "cell_type": "code",
   "execution_count": 13,
   "id": "debb4330",
   "metadata": {},
   "outputs": [
    {
     "name": "stdout",
     "output_type": "stream",
     "text": [
      "Pune\n",
      "Sangli\n",
      "Solapur\n"
     ]
    }
   ],
   "source": [
    "# string\n",
    "print(\"Pune\")\n",
    "print('Sangli')\n",
    "print(\"\"\"Solapur\"\"\")"
   ]
  },
  {
   "cell_type": "code",
   "execution_count": 14,
   "id": "3129a78a",
   "metadata": {},
   "outputs": [
    {
     "name": "stdout",
     "output_type": "stream",
     "text": [
      "[1, 2, 3, 4, 5, 6]\n",
      "['Hello']\n"
     ]
    }
   ],
   "source": [
    "# list\n",
    "print([1,2,3,4,5,6])\n",
    "print([\"Hello\"])"
   ]
  },
  {
   "cell_type": "code",
   "execution_count": 15,
   "id": "164846df",
   "metadata": {},
   "outputs": [
    {
     "name": "stdout",
     "output_type": "stream",
     "text": [
      "(1, 2, 3, 4, 5, 6, 7)\n",
      "Hello\n"
     ]
    }
   ],
   "source": [
    "# tuple\n",
    "print((1,2,3,4,5,6,7))\n",
    "print((\"Hello\"))"
   ]
  },
  {
   "cell_type": "code",
   "execution_count": 16,
   "id": "7c4866c1",
   "metadata": {},
   "outputs": [
    {
     "name": "stdout",
     "output_type": "stream",
     "text": [
      "{1, 2, 3, 4, 5, 6, 7}\n"
     ]
    }
   ],
   "source": [
    "# set\n",
    "print({1,2,3,4,5,6,7})"
   ]
  },
  {
   "cell_type": "code",
   "execution_count": 17,
   "id": "49e825b0",
   "metadata": {},
   "outputs": [
    {
     "name": "stdout",
     "output_type": "stream",
     "text": [
      "{'Name': 'Sachin', 'Age': 34, 'Address': 'Pune'}\n"
     ]
    }
   ],
   "source": [
    "# dictionary\n",
    "print({\"Name\":\"Sachin\",\"Age\":34,\"Address\":\"Pune\"})"
   ]
  },
  {
   "cell_type": "code",
   "execution_count": 4,
   "id": "b91443b1",
   "metadata": {},
   "outputs": [
    {
     "name": "stdout",
     "output_type": "stream",
     "text": [
      "Sachin\n"
     ]
    }
   ],
   "source": [
    "print(\"Sachin\")"
   ]
  },
  {
   "cell_type": "code",
   "execution_count": null,
   "id": "11e73cf9",
   "metadata": {},
   "outputs": [],
   "source": []
  }
 ],
 "metadata": {
  "kernelspec": {
   "display_name": "Python 3 (ipykernel)",
   "language": "python",
   "name": "python3"
  },
  "language_info": {
   "codemirror_mode": {
    "name": "ipython",
    "version": 3
   },
   "file_extension": ".py",
   "mimetype": "text/x-python",
   "name": "python",
   "nbconvert_exporter": "python",
   "pygments_lexer": "ipython3",
   "version": "3.9.7"
  }
 },
 "nbformat": 4,
 "nbformat_minor": 5
}
