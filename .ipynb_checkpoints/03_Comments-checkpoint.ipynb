{
 "cells": [
  {
   "cell_type": "code",
   "execution_count": 1,
   "id": "acfc6fd8",
   "metadata": {},
   "outputs": [],
   "source": [
    "# This is single line comments"
   ]
  },
  {
   "cell_type": "code",
   "execution_count": 1,
   "id": "9e7ddf2e",
   "metadata": {},
   "outputs": [],
   "source": [
    "# This\n",
    "# is \n",
    "# multiple \n",
    "# line \n",
    "# comments\n",
    "\n",
    "#shortcut - Ctrl+/"
   ]
  },
  {
   "cell_type": "code",
   "execution_count": null,
   "id": "5325d97c",
   "metadata": {},
   "outputs": [],
   "source": [
    "# Hi\n",
    "# how \n",
    "# r u"
   ]
  }
 ],
 "metadata": {
  "kernelspec": {
   "display_name": "Python 3 (ipykernel)",
   "language": "python",
   "name": "python3"
  },
  "language_info": {
   "codemirror_mode": {
    "name": "ipython",
    "version": 3
   },
   "file_extension": ".py",
   "mimetype": "text/x-python",
   "name": "python",
   "nbconvert_exporter": "python",
   "pygments_lexer": "ipython3",
   "version": "3.9.7"
  }
 },
 "nbformat": 4,
 "nbformat_minor": 5
}
