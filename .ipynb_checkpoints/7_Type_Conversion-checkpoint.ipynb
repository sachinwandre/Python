{
 "cells": [
  {
   "cell_type": "markdown",
   "id": "5b5646af",
   "metadata": {},
   "source": [
    "There are two types of Type Conversion in Python:\n",
    "\n",
    "Implicit Type Conversion\n",
    "Explicit Type Conversion"
   ]
  },
  {
   "cell_type": "code",
   "execution_count": 1,
   "id": "e9fcc934",
   "metadata": {},
   "outputs": [
    {
     "data": {
      "text/plain": [
       "10.7"
      ]
     },
     "execution_count": 1,
     "metadata": {},
     "output_type": "execute_result"
    }
   ],
   "source": [
    "# Implicit Type Conversion\n",
    "4 + 6.7 "
   ]
  },
  {
   "cell_type": "code",
   "execution_count": 2,
   "id": "716f8efe",
   "metadata": {},
   "outputs": [
    {
     "data": {
      "text/plain": [
       "64.66"
      ]
     },
     "execution_count": 2,
     "metadata": {},
     "output_type": "execute_result"
    }
   ],
   "source": [
    "55.66 + 9"
   ]
  },
  {
   "cell_type": "code",
   "execution_count": 3,
   "id": "8e488b6c",
   "metadata": {},
   "outputs": [
    {
     "data": {
      "text/plain": [
       "(12+7j)"
      ]
     },
     "execution_count": 3,
     "metadata": {},
     "output_type": "execute_result"
    }
   ],
   "source": [
    "4 + 8+7j"
   ]
  },
  {
   "cell_type": "code",
   "execution_count": 4,
   "id": "80dde2ff",
   "metadata": {},
   "outputs": [
    {
     "data": {
      "text/plain": [
       "(20.5+9j)"
      ]
     },
     "execution_count": 4,
     "metadata": {},
     "output_type": "execute_result"
    }
   ],
   "source": [
    "11.5 + 9+9j"
   ]
  },
  {
   "cell_type": "markdown",
   "id": "6355b68b",
   "metadata": {},
   "source": [
    "#Explicit Type Conversion\n",
    "1. int(a, base): This function converts any data type to integer. ‘Base’ specifies the base in which string is if the data type is a string.\n",
    "2. float(): This function is used to convert any data type to a floating-point number. \n",
    "3. ord() : This function is used to convert a character to integer.\n",
    "4. hex() : This function is to convert integer to hexadecimal string.\n",
    "5. oct() : This function is to convert integer to octal string.\n",
    "6. tuple() : This function is used to convert to a tuple.\n",
    "7. set() : This function returns the type after converting to set.\n",
    "8. list() : This function is used to convert any data type to a list type.\n",
    "9. dict() : This function is used to convert a tuple of order (key,value) into a dictionary.\n",
    "10. str() : Used to convert integer into a string.\n",
    "11. complex(real,imag) : This function converts real numbers to complex(real,imag) number.\n",
    "12. chr(number): This function converts number to its corresponding ASCII character. "
   ]
  },
  {
   "cell_type": "code",
   "execution_count": 21,
   "id": "2101cc65",
   "metadata": {},
   "outputs": [
    {
     "name": "stdout",
     "output_type": "stream",
     "text": [
      "After converting into integer 18\n",
      "After converting into float 10010.0\n",
      "After converting character to integer 83\n",
      "After converting integer to hexadecimal 0x4d2\n",
      "After converting integer to octal 0o103407\n",
      "After converting integer to tuple ('1', '2', '3', '4', '5', '6')\n",
      "After converting integer to set {'2', '4', '5', '3', '1', '6'}\n",
      "After converting integer to list ['1', '2', '3', '4', '5', '6']\n",
      "After converting tuple to dict {'a': 1, 'f': 2, 'g': 3}\n",
      "After converting integer to string 1234\n",
      "After converting integer to complex (10+0j)\n",
      "After converting integer to character C\n"
     ]
    }
   ],
   "source": [
    "s = \"10010\"\n",
    "tup = (('a', 1) ,('f', 2), ('g', 3))\n",
    "print(\"After converting into integer\",int(s,2))\n",
    "print(\"After converting into float\", float(s))\n",
    "print(\"After converting character to integer\",ord(\"S\"))\n",
    "print(\"After converting integer to hexadecimal\",hex(1234))\n",
    "print(\"After converting integer to octal\",oct(34567))\n",
    "print(\"After converting integer to tuple\",tuple(\"123456\"))\n",
    "print(\"After converting integer to set\",set(\"123456\"))\n",
    "print(\"After converting integer to list\",list(\"123456\"))\n",
    "print(\"After converting tuple to dict\",dict(tup))\n",
    "print(\"After converting integer to string\",str(1234))\n",
    "print(\"After converting integer to complex\",complex(10))\n",
    "print(\"After converting integer to character\",chr(67))"
   ]
  },
  {
   "cell_type": "code",
   "execution_count": null,
   "id": "7d54e6ee",
   "metadata": {},
   "outputs": [],
   "source": []
  }
 ],
 "metadata": {
  "kernelspec": {
   "display_name": "Python 3 (ipykernel)",
   "language": "python",
   "name": "python3"
  },
  "language_info": {
   "codemirror_mode": {
    "name": "ipython",
    "version": 3
   },
   "file_extension": ".py",
   "mimetype": "text/x-python",
   "name": "python",
   "nbconvert_exporter": "python",
   "pygments_lexer": "ipython3",
   "version": "3.9.7"
  }
 },
 "nbformat": 4,
 "nbformat_minor": 5
}
