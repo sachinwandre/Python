{
 "cells": [
  {
   "cell_type": "markdown",
   "id": "3f63b2ff",
   "metadata": {},
   "source": [
    "# 1. Write a python program to check that a string contains only a certain set of characters (in this case a-z, A-Z, and 0-9). \n",
    " \n"
   ]
  },
  {
   "cell_type": "code",
   "execution_count": 68,
   "id": "78668675",
   "metadata": {},
   "outputs": [],
   "source": [
    "import re"
   ]
  },
  {
   "cell_type": "markdown",
   "id": "97bbf2d3",
   "metadata": {},
   "source": [
    "# 2. Create a program to split a string by only the first occurrence of any substring. "
   ]
  },
  {
   "cell_type": "code",
   "execution_count": 73,
   "id": "fe7f54b1",
   "metadata": {},
   "outputs": [
    {
     "name": "stdout",
     "output_type": "stream",
     "text": [
      "['ash', 'ashu', 'sach']\n"
     ]
    }
   ],
   "source": [
    "data = 'ash ashu sach'\n",
    "text = re.split('\\s',data)\n",
    "print(text)"
   ]
  },
  {
   "cell_type": "code",
   "execution_count": null,
   "id": "b71cda2c",
   "metadata": {},
   "outputs": [],
   "source": [
    "data = 'ash ashu sach'\n",
    "text = re.split('hu',data)\n",
    "print(text)"
   ]
  },
  {
   "cell_type": "markdown",
   "id": "5258062e",
   "metadata": {},
   "source": [
    "# 3. Code that would match a string that has an a followed by zero or more b's."
   ]
  },
  {
   "cell_type": "code",
   "execution_count": 12,
   "id": "562c4ce4",
   "metadata": {},
   "outputs": [
    {
     "name": "stdout",
     "output_type": "stream",
     "text": [
      "['ashb', 'asbb', 'as', 'ashwini', 'abbb', 'bab']\n"
     ]
    }
   ],
   "source": [
    "string = 'ashb asbb as ashwini abbb bab 1224 &$%^$'\n",
    "data = re.findall(r'[a-z]+',string)\n",
    "\n",
    "print(data) "
   ]
  },
  {
   "cell_type": "markdown",
   "id": "035fc336",
   "metadata": {},
   "source": [
    "# 4. Wap to find Three-digit numbers followed by space followed by two-digit numbers in a string. \n"
   ]
  },
  {
   "cell_type": "code",
   "execution_count": 100,
   "id": "033b5c80",
   "metadata": {},
   "outputs": [
    {
     "name": "stdout",
     "output_type": "stream",
     "text": [
      "['234 23', '234 67']\n"
     ]
    }
   ],
   "source": [
    "data = '234 23 ash is 234 67 .... sach 677-45'\n",
    "text = re.findall(r'\\d{3}\\s\\d{2}',data)\n",
    "print(text)"
   ]
  },
  {
   "cell_type": "markdown",
   "id": "b4dadc2d",
   "metadata": {},
   "source": [
    "# 5. Write a Python program that matches a string that has an a followed by one or more b's. \n"
   ]
  },
  {
   "cell_type": "code",
   "execution_count": 13,
   "id": "51046841",
   "metadata": {},
   "outputs": [
    {
     "name": "stdout",
     "output_type": "stream",
     "text": [
      "['ashb', 'asbb', 'abbb', 'bab']\n"
     ]
    }
   ],
   "source": [
    "string = 'ashb asbb as ashwini abbb bab 1224 &$%^$'\n",
    "data = re.findall(r'[a-z]+b+\\b',string)\n",
    "print(data) "
   ]
  },
  {
   "cell_type": "markdown",
   "id": "4de85e4b",
   "metadata": {},
   "source": [
    "# 6. Write a program to search inform in a string both in uppercase & in lowercase. (INFORM or inform) \n"
   ]
  },
  {
   "cell_type": "code",
   "execution_count": 101,
   "id": "d294e62e",
   "metadata": {},
   "outputs": [
    {
     "name": "stdout",
     "output_type": "stream",
     "text": [
      "['inform', 'INFORM']\n"
     ]
    }
   ],
   "source": [
    "data = 'I ash inform you that  I will INFORM you tomarrow'\n",
    "text = re.findall('inform|INFORM',data)\n",
    "print(text)"
   ]
  },
  {
   "cell_type": "markdown",
   "id": "cbe1bcbe",
   "metadata": {},
   "source": [
    "# 7. WAP that matches a string that has an a followed by zero or one 'b'. . "
   ]
  },
  {
   "cell_type": "code",
   "execution_count": 19,
   "id": "4f235d1d",
   "metadata": {},
   "outputs": [
    {
     "name": "stdout",
     "output_type": "stream",
     "text": [
      "['a', 'cb', 'afbbb', 'zabbb', 'ba', 'b', 'bbbba', 'bbaab', 'ash']\n"
     ]
    }
   ],
   "source": [
    "string = 'a cb afbbb zabbb 123 ba b bbbba bbaab ash'\n",
    "data = re.findall(r'[a-zA-Z]+\\bb{0,1}',string)\n",
    "# ^a(b*)$\n",
    "print(data) # "
   ]
  },
  {
   "cell_type": "markdown",
   "id": "ee6ca7f1",
   "metadata": {},
   "source": [
    "# 8. WAP that matches a string that has an a followed by three 'b'. ."
   ]
  },
  {
   "cell_type": "code",
   "execution_count": 105,
   "id": "ccbdb752",
   "metadata": {},
   "outputs": [
    {
     "name": "stdout",
     "output_type": "stream",
     "text": [
      "['afbbb', 'aabbb', 'bbbb']\n"
     ]
    }
   ],
   "source": [
    "string = 'a ab afbbb aabbb ba b bbbba bbaab'\n",
    "data = re.findall(r'[a-z]{1,50}[b]{3}',string)\n",
    "print(data) "
   ]
  },
  {
   "cell_type": "markdown",
   "id": "ba81fa30",
   "metadata": {},
   "source": [
    " # 9. Write a Python program that matches a string that has an a followed by two to three 'b'. \n"
   ]
  },
  {
   "cell_type": "code",
   "execution_count": 21,
   "id": "f35b62c6",
   "metadata": {},
   "outputs": [
    {
     "name": "stdout",
     "output_type": "stream",
     "text": [
      "['afbbb', 'aabbb', 'bbbb', 'babb']\n"
     ]
    }
   ],
   "source": [
    "string = 'a ab afbbb aabbb ba b bbbba bbaab babb'\n",
    "data = re.findall(r'[a-z]{1,50}[b]{2,3}',string)\n",
    "\n",
    "print(data)"
   ]
  },
  {
   "cell_type": "markdown",
   "id": "86075d2d",
   "metadata": {},
   "source": [
    "# 10.Find all the words starting in range of k-n using a for loop & re. "
   ]
  },
  {
   "cell_type": "code",
   "execution_count": 5,
   "id": "e688d4e3",
   "metadata": {},
   "outputs": [
    {
     "name": "stdout",
     "output_type": "stream",
     "text": [
      "klmn\n",
      "kl\n",
      "kn\n",
      "mn\n"
     ]
    }
   ],
   "source": [
    "import re\n",
    "string = 'ram sach klmn kl kn mn ash'\n",
    "list1 = string.split()\n",
    "\n",
    "# for i in list1:\n",
    "#     if re.findall(r'string = 'ram sach klmn kl kn mn ash'\n",
    "list1 = string.split()\n",
    "\n",
    "for i in list1:\n",
    "    if re.findall(r'\\b[k-n]+\\b',i):\n",
    "        print(i)"
   ]
  },
  {
   "cell_type": "code",
   "execution_count": 110,
   "id": "d10bf415",
   "metadata": {},
   "outputs": [
    {
     "name": "stdout",
     "output_type": "stream",
     "text": [
      "[]\n",
      "[]\n",
      "['klmn']\n",
      "['kl']\n",
      "['kn']\n",
      "['mn']\n",
      "[]\n"
     ]
    }
   ],
   "source": [
    "string = 'ram sach klmn kl kn mn ash'\n",
    "list1 = string.split()\n",
    "\n",
    "pattern = re.compile(r'\\b[k-n]+\\b')\n",
    "for i in list1:\n",
    "    text = pattern.findall(i)\n",
    "    print(text)"
   ]
  },
  {
   "cell_type": "markdown",
   "id": "aa0c6e46",
   "metadata": {},
   "source": [
    "# 11. Write a Python program to find sequences of lowercase letters joined with an underscore. \n"
   ]
  },
  {
   "cell_type": "code",
   "execution_count": 113,
   "id": "807a7584",
   "metadata": {},
   "outputs": [
    {
     "name": "stdout",
     "output_type": "stream",
     "text": [
      "['ash_sach', 'krish_swara']\n"
     ]
    }
   ],
   "source": [
    "data = 'ash_sach krish_swara rohini suraj'\n",
    "text = re.findall(r'[a-z]+[_][a-z]+',data)\n",
    "print(text)"
   ]
  },
  {
   "cell_type": "code",
   "execution_count": null,
   "id": "6ccc85a2",
   "metadata": {},
   "outputs": [],
   "source": [
    "# 12.Write a program to find the sequences of one upper case letter followed by lower case letters. \n"
   ]
  },
  {
   "cell_type": "code",
   "execution_count": 123,
   "id": "fdf9d0d1",
   "metadata": {},
   "outputs": [
    {
     "name": "stdout",
     "output_type": "stream",
     "text": [
      "['ASHsach', 'Krish_swara', 'Rohini']\n"
     ]
    }
   ],
   "source": [
    "data = 'ASHsach Krish_swara Rohini suraj'\n",
    "text = re.findall(r'[A-Z]{1}[\\w]+',data)\n",
    "print(text)"
   ]
  },
  {
   "cell_type": "markdown",
   "id": "3cae0afb",
   "metadata": {},
   "source": [
    "# 13.Write a program that matches a string that has an 'a' followed by anything, ending in 'b'."
   ]
  },
  {
   "cell_type": "code",
   "execution_count": 125,
   "id": "c1e154f8",
   "metadata": {},
   "outputs": [
    {
     "name": "stdout",
     "output_type": "stream",
     "text": [
      "['asdfb', 'aaab', 'ab']\n"
     ]
    }
   ],
   "source": [
    "data = 'asdfb aaab ab ssdfs sdfssd sdfss'\n",
    "text = re.findall(r'\\ba\\w*b\\b',data)\n",
    "print(text)"
   ]
  },
  {
   "cell_type": "markdown",
   "id": "8ebfca9f",
   "metadata": {},
   "source": [
    "#  14.WAP that matches a word at the beginning of a string. \n"
   ]
  },
  {
   "cell_type": "code",
   "execution_count": 133,
   "id": "4aecd888",
   "metadata": {},
   "outputs": [
    {
     "name": "stdout",
     "output_type": "stream",
     "text": [
      "['ashwini']\n"
     ]
    }
   ],
   "source": [
    "data = 'asdfb aaa ashwini'\n",
    "text = re.findall(r'\\b(ash\\w+)',data)\n",
    "print(text)"
   ]
  },
  {
   "cell_type": "markdown",
   "id": "b939401c",
   "metadata": {},
   "source": [
    "# 15.Write a program that matches a word at the end of a string, with optional punctuation. \n"
   ]
  },
  {
   "cell_type": "code",
   "execution_count": 146,
   "id": "ddfc592d",
   "metadata": {},
   "outputs": [
    {
     "name": "stdout",
     "output_type": "stream",
     "text": [
      "['ashwini', 'rohini', 'yogini']\n"
     ]
    }
   ],
   "source": [
    "data = 'ashwini rohini sachin yogini'\n",
    "text = re.findall(r'([\\w]+ini\\b)',data)\n",
    "print(text)"
   ]
  },
  {
   "cell_type": "markdown",
   "id": "9604705d",
   "metadata": {},
   "source": [
    "# 16.Write a Python program that matches a word containing 'z'. "
   ]
  },
  {
   "cell_type": "code",
   "execution_count": 154,
   "id": "727cce26",
   "metadata": {},
   "outputs": [
    {
     "name": "stdout",
     "output_type": "stream",
     "text": [
      "['xyz', 'pzy', 'zerox', 'zara', 'maza']\n"
     ]
    }
   ],
   "source": [
    "data = 'xyz pzy zerox zara maza ashwini '\n",
    "text = re.findall(r'\\w+z+\\w+|z+\\w+|\\w+z+',data)\n",
    "print(text)"
   ]
  },
  {
   "cell_type": "code",
   "execution_count": null,
   "id": "03f14119",
   "metadata": {},
   "outputs": [],
   "source": [
    "# 17.Write a program that matches a word containing 'z', not at the start or end of the word. \n"
   ]
  },
  {
   "cell_type": "code",
   "execution_count": 155,
   "id": "924e1daa",
   "metadata": {},
   "outputs": [
    {
     "name": "stdout",
     "output_type": "stream",
     "text": [
      "['pzy', 'maza']\n"
     ]
    }
   ],
   "source": [
    "data = 'xyz pzy zerox zara maza ashwini '\n",
    "text = re.findall(r'\\w+z+\\w+',data)\n",
    "print(text)"
   ]
  },
  {
   "cell_type": "code",
   "execution_count": null,
   "id": "caf522ae",
   "metadata": {},
   "outputs": [],
   "source": [
    "# 18.Write a program to match a string that contains only upper and lowercase letters, numbers, and underscores. \n"
   ]
  },
  {
   "cell_type": "code",
   "execution_count": 159,
   "id": "7e00e7a6",
   "metadata": {},
   "outputs": [
    {
     "name": "stdout",
     "output_type": "stream",
     "text": [
      "['xyz', 'pzy', 'zerox', 'zara', 'ma', 'za', 'ashwini', 'ASH', '123', '_ASfhu']\n"
     ]
    }
   ],
   "source": [
    "data = 'xyz pzy zerox zara ma#za# ashwini ASH 123 _ASfhu'\n",
    "text = re.findall(r'\\w+',data)\n",
    "print(text) "
   ]
  },
  {
   "cell_type": "code",
   "execution_count": null,
   "id": "0859e68d",
   "metadata": {},
   "outputs": [],
   "source": [
    "# 19.WAP where a string will start with a specific number. \n"
   ]
  },
  {
   "cell_type": "code",
   "execution_count": 160,
   "id": "04142789",
   "metadata": {},
   "outputs": [
    {
     "name": "stdout",
     "output_type": "stream",
     "text": [
      "['99767233', '92323432', '90']\n"
     ]
    }
   ],
   "source": [
    "data = '7709362248 99767233 3224234234 ,23423423 92323432 90'\n",
    "text = re.findall(r'\\b9\\d+',data)\n",
    "print(text)"
   ]
  },
  {
   "cell_type": "code",
   "execution_count": null,
   "id": "81aa8ca1",
   "metadata": {},
   "outputs": [],
   "source": [
    "20.Write a Python program to remove leading zeros from an IP address.\n"
   ]
  },
  {
   "cell_type": "code",
   "execution_count": 161,
   "id": "b84e428a",
   "metadata": {},
   "outputs": [
    {
     "name": "stdout",
     "output_type": "stream",
     "text": [
      "255.255.255.255 .234.234.453.\n"
     ]
    }
   ],
   "source": [
    "data = '255.255.255.255 000.234.234.453.'\n",
    "text = re.sub(r'0',\"\",data)\n",
    "print(text)"
   ]
  },
  {
   "cell_type": "code",
   "execution_count": null,
   "id": "e405acb5",
   "metadata": {},
   "outputs": [],
   "source": []
  },
  {
   "cell_type": "code",
   "execution_count": null,
   "id": "a4c42be5",
   "metadata": {},
   "outputs": [],
   "source": [
    "# 21.Write a program to check for a number at the end of a string. . "
   ]
  },
  {
   "cell_type": "code",
   "execution_count": 58,
   "id": "2f443cdb",
   "metadata": {},
   "outputs": [
    {
     "name": "stdout",
     "output_type": "stream",
     "text": [
      "['12', '13', '345', 'important23']\n"
     ]
    }
   ],
   "source": [
    "data = \"Exercises number 1, 12, 13, and 345 are important23\"\n",
    "text = re.findall(r'\\w+\\d+',data)\n",
    "print(text)"
   ]
  },
  {
   "cell_type": "code",
   "execution_count": null,
   "id": "9eeb914c",
   "metadata": {},
   "outputs": [],
   "source": [
    "# 22.Code a program to search the numbers (0-9) of length between 1 to 3 in a given string.  "
   ]
  },
  {
   "cell_type": "code",
   "execution_count": 57,
   "id": "de237117",
   "metadata": {},
   "outputs": [
    {
     "name": "stdout",
     "output_type": "stream",
     "text": [
      " \n",
      " 1\n",
      " 12\n",
      " 13\n",
      " \n",
      " 345 \n",
      " \n"
     ]
    }
   ],
   "source": [
    "data = \"Exercises number 1, 12, 13, and 345 are important\"\n",
    "text = re.finditer('[0-9\\s]+',data)\n",
    "\n",
    "for i in text:\n",
    "        print(i.group())"
   ]
  },
  {
   "cell_type": "code",
   "execution_count": null,
   "id": "1b4e227b",
   "metadata": {},
   "outputs": [],
   "source": [
    "# 23.Write a program to search some literals strings in a string. . Sample text : 'The quick brown fox jumps over the lazy dog.' \n",
    " # Searched words : 'fox', 'dog', 'horse' \n"
   ]
  },
  {
   "cell_type": "code",
   "execution_count": 52,
   "id": "2f94ce8a",
   "metadata": {},
   "outputs": [
    {
     "name": "stdout",
     "output_type": "stream",
     "text": [
      "<re.Match object; span=(16, 19), match='fox'>\n",
      "present at . fox\n",
      "present at . 16\n"
     ]
    }
   ],
   "source": [
    "Sample_text = 'The quick brown fox jumps over the lazy dog.' \n",
    "Searched_words = 'fox'\n",
    "\n",
    "data = re.search(r'fox|dog|horse',Sample_text)\n",
    "print(data)\n",
    "\n",
    "print('present at .', data.group())\n",
    "\n",
    "print('present at .', data.start())"
   ]
  },
  {
   "cell_type": "code",
   "execution_count": 53,
   "id": "aaa64ce7",
   "metadata": {},
   "outputs": [
    {
     "name": "stdout",
     "output_type": "stream",
     "text": [
      "<callable_iterator object at 0x000001941F778340>\n",
      "present at . fox\n",
      "present at . 16\n",
      "present at . dog\n",
      "present at . 40\n"
     ]
    }
   ],
   "source": [
    "Sample_text = 'The quick brown fox jumps over the lazy dog.' \n",
    "Searched_words = 'fox'\n",
    "\n",
    "data = re.finditer(r'fox|dog|horse',Sample_text)\n",
    "print(data)\n",
    "\n",
    "for i in data:\n",
    "    print('present at .', i.group())\n",
    "    print('present at .', i.start())"
   ]
  },
  {
   "cell_type": "code",
   "execution_count": null,
   "id": "a6606ec9",
   "metadata": {},
   "outputs": [],
   "source": [
    "# '24.Write a Python program to search a literals string in a string and also find the location within the\n",
    "#  original string where the pattern occurs. . \n"
   ]
  },
  {
   "cell_type": "code",
   "execution_count": 49,
   "id": "cb717a11",
   "metadata": {},
   "outputs": [
    {
     "name": "stdout",
     "output_type": "stream",
     "text": [
      "<re.Match object; span=(16, 19), match='fox'>\n",
      "present at . fox\n",
      "present at . 16\n"
     ]
    }
   ],
   "source": [
    "Sample_text = 'The quick brown fox jumps over the lazy dog.' \n",
    "Searched_words = 'fox'\n",
    "\n",
    "data = re.search(Searched_words,Sample_text)\n",
    "print(data)\n",
    "\n",
    "print('present at .', data.group())\n",
    "\n",
    "print('present at .', data.start())"
   ]
  },
  {
   "cell_type": "code",
   "execution_count": 45,
   "id": "ba848966",
   "metadata": {},
   "outputs": [],
   "source": [
    "#25.Write a code to find a common substrings within a string. "
   ]
  },
  {
   "cell_type": "code",
   "execution_count": 42,
   "id": "9dac236e",
   "metadata": {},
   "outputs": [
    {
     "name": "stdout",
     "output_type": "stream",
     "text": [
      "['exercises', 'exercises', 'exercises']\n",
      "['exercises']\n",
      "have common elements   {'exercises'}\n"
     ]
    }
   ],
   "source": [
    "Sample_text ='Python exercises, PHP exercises, C# exercises' \n",
    "Pattern ='exercises' \n",
    " \n",
    "data = re.findall(r'exercises',Sample_text)\n",
    "print(data)\n",
    "\n",
    "data1 = re.findall(r'exercises',Pattern)\n",
    "print(data1)\n",
    "\n",
    "if len(set(data).intersection(set(data1)))  >= 1:\n",
    "    print('have common elements  ',(set(data).intersection(set(data1))))\n"
   ]
  },
  {
   "cell_type": "code",
   "execution_count": null,
   "id": "d233a88e",
   "metadata": {},
   "outputs": [],
   "source": [
    "# 26.Write a program to find the occurrence and position of the substrings within a string. . \n"
   ]
  },
  {
   "cell_type": "code",
   "execution_count": 27,
   "id": "a76267e9",
   "metadata": {},
   "outputs": [
    {
     "name": "stdout",
     "output_type": "stream",
     "text": [
      "<callable_iterator object at 0x000001941F8F73D0>\n",
      "data is at   ... 1....i\n",
      "data is at   ... 5....i\n",
      "data is at   ... 15....i\n",
      "data is at   ... 21....i\n",
      "data is at   ... 23....i\n",
      "data is at   ... 25....i\n"
     ]
    }
   ],
   "source": [
    "string = 'hi   i am   __ i ashwini i  _pawar'\n",
    "data = re.finditer('i',string)\n",
    "\n",
    "print(data)\n",
    "\n",
    "for i in data:\n",
    "    print(f'data is at   ... {i.start()}....{i.group()}')"
   ]
  },
  {
   "cell_type": "code",
   "execution_count": 33,
   "id": "128b671b",
   "metadata": {},
   "outputs": [
    {
     "name": "stdout",
     "output_type": "stream",
     "text": [
      "i\n",
      "1\n",
      "<re.Match object; span=(1, 2), match='i'>\n"
     ]
    }
   ],
   "source": [
    "string = 'hi   i am   __ i ashwini i  _pawar'\n",
    "data = re.search('i',string)\n",
    "\n",
    "print(data.group())\n",
    "print(data.start())\n",
    "print(data)\n"
   ]
  },
  {
   "cell_type": "code",
   "execution_count": 23,
   "id": "a031d41d",
   "metadata": {},
   "outputs": [],
   "source": [
    "# 27.Write a code to replace whitespaces with an underscore and vice versa. . "
   ]
  },
  {
   "cell_type": "code",
   "execution_count": 4,
   "id": "ff938215",
   "metadata": {},
   "outputs": [
    {
     "name": "stdout",
     "output_type": "stream",
     "text": [
      "hiiamashwinipawar\n"
     ]
    }
   ],
   "source": [
    "string = 'hi   i am   __ ashwini _pawar'\n",
    "\n",
    "data=re.sub(r'[\\s_]+',\"\",string)\n",
    "print(data)"
   ]
  },
  {
   "cell_type": "code",
   "execution_count": 3,
   "id": "527c0200",
   "metadata": {},
   "outputs": [
    {
     "name": "stdout",
     "output_type": "stream",
     "text": [
      "hi___i_am______ashwini__pawar\n"
     ]
    }
   ],
   "source": [
    "string = 'hi   i am   __ ashwini _pawar'\n",
    "\n",
    "data=re.sub(r'[\\s+]','_',string)\n",
    "print(data)"
   ]
  },
  {
   "cell_type": "markdown",
   "id": "11187cdd",
   "metadata": {},
   "source": [
    "## 28.How would you remove all whitespaces from a string? \n",
    "\n"
   ]
  },
  {
   "cell_type": "code",
   "execution_count": 1,
   "id": "fa9f5389",
   "metadata": {},
   "outputs": [
    {
     "name": "stdout",
     "output_type": "stream",
     "text": [
      "hiiamashwinipawar\n"
     ]
    }
   ],
   "source": [
    "import re\n",
    "\n",
    "\n",
    "string = 'hi   i am    ashwini pawar'\n",
    "\n",
    "data=re.sub(r'\\s+',\"\",string)\n",
    "print(data)\n"
   ]
  },
  {
   "cell_type": "markdown",
   "id": "b0359a49",
   "metadata": {},
   "source": [
    "## 29.Write a Python program to match if two words from a list of words starting with the letter 'P' \n"
   ]
  },
  {
   "cell_type": "code",
   "execution_count": 2,
   "id": "a05e55b2",
   "metadata": {},
   "outputs": [
    {
     "name": "stdout",
     "output_type": "stream",
     "text": [
      "pawar\n",
      "patil\n"
     ]
    }
   ],
   "source": [
    "data = ['pawar','ash','patil']\n",
    "\n",
    "for word in data:\n",
    "    matched = re.match(r'[p]\\w+',word)\n",
    "    if matched:\n",
    "        print(matched.group())"
   ]
  },
  {
   "cell_type": "markdown",
   "id": "9f877c8a",
   "metadata": {},
   "source": [
    "## 30.Write a code to find all words starting with 'a' or 'e' in a given string. ."
   ]
  },
  {
   "cell_type": "code",
   "execution_count": null,
   "id": "a0063a33",
   "metadata": {},
   "outputs": [],
   "source": [
    "text = 'ash 1 eam 4 sach3 77 89,home e'\n",
    "data = re.findall(r'[ae]\\w+',text)             #[ae]\\w.....alphanumeric   \n",
    "print(data)"
   ]
  },
  {
   "cell_type": "markdown",
   "id": "ac695fa0",
   "metadata": {},
   "source": [
    "###  31.Write a Python program to separate and print the numbers and their position of a given string. \n"
   ]
  },
  {
   "cell_type": "code",
   "execution_count": null,
   "id": "56426b9b",
   "metadata": {},
   "outputs": [],
   "source": [
    "text = 'ash 1 sam 4 sach3 77 89,home'\n",
    "\n",
    "data = re.search(r'\\d+',text)\n",
    "text = data.group()\n",
    "\n",
    "print('number is ', text)\n",
    "print(f'digit is found at {data.start()} th place.')\n",
    "        \n",
    "        \n",
    "    \n"
   ]
  },
  {
   "cell_type": "code",
   "execution_count": null,
   "id": "9d148042",
   "metadata": {},
   "outputs": [],
   "source": [
    "text = 'ash 1 sam 4 sach3 77 89,home'\n",
    "\n",
    "for i in re.finditer(r'\\d+',text):\n",
    " \n",
    "    \n",
    "    text = i.group()\n",
    "    print('number is ', i.group())\n",
    "    print()\n",
    "    \n",
    "    print(f'digit is found at {i.start()} th place.')\n"
   ]
  },
  {
   "cell_type": "markdown",
   "id": "edf9b105",
   "metadata": {},
   "source": [
    "## 32.Write a Python program to replace all occurrences of space, comma, or dot with a colon. \n"
   ]
  },
  {
   "cell_type": "code",
   "execution_count": null,
   "id": "dfdc0710",
   "metadata": {},
   "outputs": [],
   "source": [
    "import re\n",
    "string = '''hey I am love. to be ,     Data      Scientist.    I like Environmental Data scoetist     Field'''\n",
    "text = re.sub(r'[\\s,.]+',':',string)\n",
    "print(text)"
   ]
  },
  {
   "cell_type": "markdown",
   "id": "b9496675",
   "metadata": {},
   "source": [
    "# 33.Write a program to replace maximum 2 occurrences of space, comma, or dot with a colon. \n"
   ]
  },
  {
   "cell_type": "code",
   "execution_count": null,
   "id": "d833a30f",
   "metadata": {},
   "outputs": [],
   "source": [
    "import re\n",
    "string = '''hey I am love. to be ,     Data      Scientist.    I like Environmental Data scoetist     Field'''\n",
    "text = re.sub(r'[\\s,.]{2,}',':',string)\n",
    "print(text)\n"
   ]
  },
  {
   "cell_type": "markdown",
   "id": "3c4d5651",
   "metadata": {},
   "source": [
    "# 34.Write a Python program to find all three, four, five characters long words in a string. \n"
   ]
  },
  {
   "cell_type": "code",
   "execution_count": null,
   "id": "7b7a5906",
   "metadata": {},
   "outputs": [],
   "source": [
    "data = 'hey I am love to be Data Scientist. I like Environmental Data scoetist Field'\n",
    "\n",
    "data1 = re.findall('[a-zA-Z]{3,}',data)    #{3,.....}\n",
    "print(data1) "
   ]
  },
  {
   "cell_type": "markdown",
   "id": "1604d038",
   "metadata": {},
   "source": [
    "# 35.Write a program to extract values between quotation marks of a string."
   ]
  },
  {
   "cell_type": "code",
   "execution_count": null,
   "id": "4158556b",
   "metadata": {},
   "outputs": [],
   "source": [
    "data = '\"ash\",\"sach\",\"kishu\"'\n",
    "output = re.findall(r'\"(.*?)\"',data)      # remember .*?\n",
    "print(output)\n",
    "\n",
    "# . any char except new line\n",
    "# * zero or more\n",
    "# ? matches exact 0 or 1 char\n",
    "\n",
    "#  ' \" (.*?) \" '"
   ]
  },
  {
   "cell_type": "markdown",
   "id": "ff36c7d8",
   "metadata": {},
   "source": [
    "# 36.How would you remove multiple spaces in a string."
   ]
  },
  {
   "cell_type": "code",
   "execution_count": null,
   "id": "52372e45",
   "metadata": {},
   "outputs": [],
   "source": [
    "import re\n",
    "string = '''hey I am love to be      Data      Scientist.    I like Environmental Data scoetist     Field'''\n",
    "text = re.sub(r'\\s+',' ',string)\n",
    "print(text)\n"
   ]
  },
  {
   "cell_type": "code",
   "execution_count": null,
   "id": "80c7e149",
   "metadata": {},
   "outputs": [],
   "source": [
    " # differnecc ein match and search"
   ]
  },
  {
   "cell_type": "raw",
   "id": "659c4630",
   "metadata": {},
   "source": [
    "The re.search() and re.match() both are functions of re module in python. These functions are very efficient and fast for searching in strings. The function searches for some substring in a string and returns a match object if found, else it returns none.\n",
    "\n",
    "There is a difference between the use of both functions. Both return the first match of a substring found in the string, but re.match() searches only from the beginning of the string and return match object if found. But if a match of substring is found somewhere in the middle of the string, it returns none. \n",
    "While re.search() searches for the whole string even if the string contains multi-lines and tries to find a match of the substring in all the lines of string"
   ]
  },
  {
   "cell_type": "code",
   "execution_count": 59,
   "id": "b6341b55",
   "metadata": {},
   "outputs": [
    {
     "name": "stdout",
     "output_type": "stream",
     "text": [
      "<re.Match object; span=(0, 4), match='data'>\n"
     ]
    }
   ],
   "source": [
    "data = 'data science'\n",
    "text = re.match('data',data)\n",
    "print(text)"
   ]
  },
  {
   "cell_type": "code",
   "execution_count": 60,
   "id": "d64ae62c",
   "metadata": {},
   "outputs": [
    {
     "name": "stdout",
     "output_type": "stream",
     "text": [
      "None\n"
     ]
    }
   ],
   "source": [
    "data = 'data science'\n",
    "text = re.match('science',data)\n",
    "print(text)"
   ]
  },
  {
   "cell_type": "code",
   "execution_count": 61,
   "id": "71c23eaa",
   "metadata": {},
   "outputs": [
    {
     "name": "stdout",
     "output_type": "stream",
     "text": [
      "<re.Match object; span=(0, 4), match='data'>\n"
     ]
    }
   ],
   "source": [
    "data = 'data science'\n",
    "text = re.search('data',data)\n",
    "print(text)"
   ]
  },
  {
   "cell_type": "code",
   "execution_count": 62,
   "id": "6d87daa3",
   "metadata": {},
   "outputs": [
    {
     "name": "stdout",
     "output_type": "stream",
     "text": [
      "<re.Match object; span=(5, 12), match='science'>\n"
     ]
    }
   ],
   "source": [
    "data = 'data science'\n",
    "text = re.search('science',data)\n",
    "print(text)"
   ]
  },
  {
   "cell_type": "code",
   "execution_count": 63,
   "id": "eddf8f1e",
   "metadata": {},
   "outputs": [
    {
     "name": "stdout",
     "output_type": "stream",
     "text": [
      "None\n"
     ]
    }
   ],
   "source": [
    "data = 'data science'\n",
    "text = re.match('ence',data)\n",
    "print(text)"
   ]
  },
  {
   "cell_type": "code",
   "execution_count": 64,
   "id": "0e570d65",
   "metadata": {},
   "outputs": [
    {
     "name": "stdout",
     "output_type": "stream",
     "text": [
      "<re.Match object; span=(8, 12), match='ence'>\n"
     ]
    }
   ],
   "source": [
    "data = 'data science'\n",
    "text = re.search('ence',data)\n",
    "print(text)"
   ]
  },
  {
   "cell_type": "code",
   "execution_count": 65,
   "id": "11b40366",
   "metadata": {},
   "outputs": [
    {
     "name": "stdout",
     "output_type": "stream",
     "text": [
      "None\n"
     ]
    }
   ],
   "source": [
    "data = 'data science'\n",
    "text = re.match('ta',data)\n",
    "print(text)"
   ]
  },
  {
   "cell_type": "code",
   "execution_count": 66,
   "id": "2e95509d",
   "metadata": {},
   "outputs": [
    {
     "name": "stdout",
     "output_type": "stream",
     "text": [
      "<re.Match object; span=(0, 2), match='da'>\n"
     ]
    }
   ],
   "source": [
    "data = 'data science'\n",
    "text = re.match('da',data)\n",
    "print(text)"
   ]
  },
  {
   "cell_type": "code",
   "execution_count": 67,
   "id": "7dc98af1",
   "metadata": {},
   "outputs": [
    {
     "name": "stdout",
     "output_type": "stream",
     "text": [
      "None\n"
     ]
    }
   ],
   "source": [
    "data = 'data science'\n",
    "text = re.match('ata',data)\n",
    "print(text)"
   ]
  },
  {
   "cell_type": "code",
   "execution_count": null,
   "id": "c84c7236",
   "metadata": {},
   "outputs": [],
   "source": []
  }
 ],
 "metadata": {
  "kernelspec": {
   "display_name": "Python 3 (ipykernel)",
   "language": "python",
   "name": "python3"
  },
  "language_info": {
   "codemirror_mode": {
    "name": "ipython",
    "version": 3
   },
   "file_extension": ".py",
   "mimetype": "text/x-python",
   "name": "python",
   "nbconvert_exporter": "python",
   "pygments_lexer": "ipython3",
   "version": "3.9.7"
  }
 },
 "nbformat": 4,
 "nbformat_minor": 5
}
