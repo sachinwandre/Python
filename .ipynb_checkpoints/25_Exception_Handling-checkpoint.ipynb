{
 "cells": [
  {
   "cell_type": "markdown",
   "metadata": {
    "id": "xh7vgT_4-gdB"
   },
   "source": [
    "There are 2 stages where error may happen in a program\n",
    "\n",
    "- During compilation -> Syntax Error\n",
    "- During execution -> Exceptions"
   ]
  },
  {
   "cell_type": "markdown",
   "metadata": {
    "id": "U9R2vn5c-2RE"
   },
   "source": [
    "### Syntax Error\n",
    "\n",
    "- Something in the program is not written according to the program grammar.\n",
    "- Error is raised by the interpreter/compiler\n",
    "- You can solve it by rectifying the program\n"
   ]
  },
  {
   "cell_type": "code",
   "execution_count": null,
   "metadata": {
    "colab": {
     "base_uri": "https://localhost:8080/",
     "height": 133
    },
    "id": "sgsgNEc--1ux",
    "outputId": "f973a81c-d579-4259-dcea-19d380fbaaa8"
   },
   "outputs": [],
   "source": [
    "# Examples of syntax error\n",
    "print 'hello world'"
   ]
  },
  {
   "cell_type": "markdown",
   "metadata": {
    "id": "502wvB8BGO0K"
   },
   "source": [
    "### Other examples of syntax error\n",
    "\n",
    "- Leaving symbols like colon,brackets\n",
    "- Misspelling a keyword\n",
    "- Incorrect indentation\n",
    "- empty if/else/loops/class/functions"
   ]
  },
  {
   "cell_type": "code",
   "execution_count": null,
   "metadata": {
    "colab": {
     "base_uri": "https://localhost:8080/",
     "height": 133
    },
    "id": "gd_SjrGDGTcU",
    "outputId": "5623d424-d264-45ec-cbc9-6ad6834f89ea"
   },
   "outputs": [],
   "source": [
    "a = 5\n",
    "if a==3\n",
    "  print('hello')"
   ]
  },
  {
   "cell_type": "code",
   "execution_count": null,
   "metadata": {
    "colab": {
     "base_uri": "https://localhost:8080/",
     "height": 133
    },
    "id": "eq0Y-v_MGTmR",
    "outputId": "9ccfb071-fc71-4540-fda7-05542f9b26d3"
   },
   "outputs": [],
   "source": [
    "a = 5\n",
    "iff a==3:\n",
    "  print('hello')"
   ]
  },
  {
   "cell_type": "code",
   "execution_count": null,
   "metadata": {
    "colab": {
     "base_uri": "https://localhost:8080/",
     "height": 133
    },
    "id": "Llm9KioiGTwe",
    "outputId": "04702c51-21de-4138-9402-4d8ef3a59c8f"
   },
   "outputs": [],
   "source": [
    "a = 5\n",
    "if a==3:\n",
    "print('hello')"
   ]
  },
  {
   "cell_type": "code",
   "execution_count": null,
   "metadata": {
    "colab": {
     "base_uri": "https://localhost:8080/",
     "height": 205
    },
    "id": "KZQFu9zdEuFC",
    "outputId": "546e9247-b4a2-4c14-b822-4c6c00264f30"
   },
   "outputs": [],
   "source": [
    "# IndexError\n",
    "# The IndexError is thrown when trying to access an item at an invalid index.\n",
    "L = [1,2,3]\n",
    "L[100]"
   ]
  },
  {
   "cell_type": "code",
   "execution_count": null,
   "metadata": {
    "colab": {
     "base_uri": "https://localhost:8080/",
     "height": 366
    },
    "id": "FfoXlpAGE1rW",
    "outputId": "b5800421-3a3d-4293-fad6-fb49227da0e6"
   },
   "outputs": [],
   "source": [
    "# ModuleNotFoundError\n",
    "# The ModuleNotFoundError is thrown when a module could not be found.\n",
    "import mathi\n",
    "math.floor(5.3)"
   ]
  },
  {
   "cell_type": "code",
   "execution_count": null,
   "metadata": {
    "colab": {
     "base_uri": "https://localhost:8080/",
     "height": 205
    },
    "id": "IP2CycVwE66e",
    "outputId": "430034d1-08f0-4e37-baeb-486eeb121b43"
   },
   "outputs": [],
   "source": [
    "# KeyError\n",
    "# The KeyError is thrown when a key is not found\n",
    "\n",
    "d = {'name':'nitish'}\n",
    "d['age']"
   ]
  },
  {
   "cell_type": "code",
   "execution_count": null,
   "metadata": {
    "colab": {
     "base_uri": "https://localhost:8080/",
     "height": 205
    },
    "id": "meGU1o_VE-Y5",
    "outputId": "e8b62d30-5c0e-411e-cd60-4cd7fa42ecfd"
   },
   "outputs": [],
   "source": [
    "# TypeError\n",
    "# The TypeError is thrown when an operation or function is applied to an object of an inappropriate type.\n",
    "1 + 'a'"
   ]
  },
  {
   "cell_type": "code",
   "execution_count": null,
   "metadata": {
    "colab": {
     "base_uri": "https://localhost:8080/",
     "height": 205
    },
    "id": "ZE_r2WsaFF6f",
    "outputId": "a8f34b54-b1e3-47d9-cd32-7eeee19b4d47"
   },
   "outputs": [],
   "source": [
    "# ValueError\n",
    "# The ValueError is thrown when a function's argument is of an inappropriate type.\n",
    "int('a')"
   ]
  },
  {
   "cell_type": "code",
   "execution_count": null,
   "metadata": {
    "colab": {
     "base_uri": "https://localhost:8080/",
     "height": 205
    },
    "id": "yr7eRF2xFPo7",
    "outputId": "617b5a0c-2e8d-4e9d-e441-aa14c013bfa5"
   },
   "outputs": [],
   "source": [
    "# NameError\n",
    "# The NameError is thrown when an object could not be found.\n",
    "print(k)"
   ]
  },
  {
   "cell_type": "code",
   "execution_count": null,
   "metadata": {
    "colab": {
     "base_uri": "https://localhost:8080/",
     "height": 205
    },
    "id": "VHVKtWwWFUhK",
    "outputId": "6d84d92c-f2c1-4abc-f4ed-6cf8ebd0cb1e"
   },
   "outputs": [],
   "source": [
    "# AttributeError\n",
    "L = [1,2,3]\n",
    "L.upper()\n",
    "\n",
    "# Stacktrace"
   ]
  },
  {
   "cell_type": "markdown",
   "metadata": {
    "id": "l6JrgCrHA2Tq"
   },
   "source": [
    "### Exceptions\n",
    "\n",
    "If things go wrong during the execution of the program(runtime). It generally happens when something unforeseen has happened.\n",
    "\n",
    "- Exceptions are raised by python runtime\n",
    "- You have to takle is on the fly\n",
    "\n",
    "#### **Examples**\n",
    "\n",
    "- Memory overflow\n",
    "- Divide by 0 -> logical error\n",
    "- Database error"
   ]
  },
  {
   "cell_type": "code",
   "execution_count": null,
   "metadata": {
    "id": "rfzG2r9DAfDf"
   },
   "outputs": [],
   "source": [
    "# Why is it important to handle exceptions\n",
    "# how to handle exceptions\n",
    "# -> Try except block"
   ]
  },
  {
   "cell_type": "code",
   "execution_count": null,
   "metadata": {
    "id": "S_VIvkx9Hnxb"
   },
   "outputs": [],
   "source": [
    "# let's create a file\n",
    "with open('sample.txt','w') as f:\n",
    "  f.write('hello world')"
   ]
  },
  {
   "cell_type": "code",
   "execution_count": null,
   "metadata": {
    "colab": {
     "base_uri": "https://localhost:8080/"
    },
    "id": "9WItdkURHtvM",
    "outputId": "b14ed0bd-1d46-426b-ab81-42e24608ec4e"
   },
   "outputs": [],
   "source": [
    "# try catch demo\n",
    "try:\n",
    "  with open('sample1.txt','r') as f:\n",
    "    print(f.read())\n",
    "except:\n",
    "  print('sorry file not found')"
   ]
  },
  {
   "cell_type": "code",
   "execution_count": null,
   "metadata": {
    "colab": {
     "base_uri": "https://localhost:8080/"
    },
    "id": "px7mJhmvH0pd",
    "outputId": "a0052ee7-73f4-44cb-c7f9-2c6756a83fb3"
   },
   "outputs": [],
   "source": [
    "# catching specific exception\n",
    "try:\n",
    "  m=5\n",
    "  f = open('sample1.txt','r')\n",
    "  print(f.read())\n",
    "  print(m)\n",
    "  print(5/2)\n",
    "  L = [1,2,3]\n",
    "  L[100]\n",
    "except FileNotFoundError:\n",
    "  print('file not found')\n",
    "except NameError:\n",
    "  print('variable not defined')\n",
    "except ZeroDivisionError:\n",
    "  print(\"can't divide by 0\")\n",
    "except Exception as e:\n",
    "  print(e)"
   ]
  },
  {
   "cell_type": "code",
   "execution_count": null,
   "metadata": {
    "colab": {
     "base_uri": "https://localhost:8080/"
    },
    "id": "nn-_EK1TKvno",
    "outputId": "311f3b30-b641-43f3-f99f-59f97d5e388c"
   },
   "outputs": [],
   "source": [
    "# else\n",
    "try:\n",
    "  f = open('sample1.txt','r')\n",
    "except FileNotFoundError:\n",
    "  print('file nai mili')\n",
    "except Exception:\n",
    "  print('kuch to lafda hai')\n",
    "else:\n",
    "  print(f.read())\n",
    "\n"
   ]
  },
  {
   "cell_type": "code",
   "execution_count": 1,
   "metadata": {
    "colab": {
     "base_uri": "https://localhost:8080/"
    },
    "id": "VKzyyGTUKwm5",
    "outputId": "e986811f-3009-451e-91ac-7b59f1db33e5"
   },
   "outputs": [
    {
     "name": "stdout",
     "output_type": "stream",
     "text": [
      "file nai mili\n",
      "ye to print hoga hi\n"
     ]
    }
   ],
   "source": [
    "# finally\n",
    "# else\n",
    "try:\n",
    "  f = open('sample1.txt','r')\n",
    "except FileNotFoundError:\n",
    "  print('file nai mili')\n",
    "except Exception:\n",
    "  print('kuch to lafda hai')\n",
    "else:\n",
    "  print(f.read())\n",
    "finally:\n",
    "  print('ye to print hoga hi')"
   ]
  },
  {
   "cell_type": "code",
   "execution_count": null,
   "metadata": {
    "id": "weTHAgttKxaJ"
   },
   "outputs": [],
   "source": [
    "# raise Exception\n",
    "# In Python programming, exceptions are raised when errors occur at runtime. \n",
    "# We can also manually raise exceptions using the raise keyword.\n",
    "\n",
    "# We can optionally pass values to the exception to clarify why that exception was raised"
   ]
  },
  {
   "cell_type": "code",
   "execution_count": null,
   "metadata": {
    "colab": {
     "base_uri": "https://localhost:8080/",
     "height": 169
    },
    "id": "IH51eIy5K9Yc",
    "outputId": "c7f361a1-35f3-4b11-86fb-b4d1f7e3932c"
   },
   "outputs": [],
   "source": [
    "raise ZeroDivisionError('aise hi try kar raha hu')\n",
    "# Java\n",
    "# try -> try\n",
    "# except -> catch\n",
    "# raise -> throw"
   ]
  },
  {
   "cell_type": "code",
   "execution_count": null,
   "metadata": {
    "colab": {
     "base_uri": "https://localhost:8080/"
    },
    "id": "0qLD1KYj_LPm",
    "outputId": "8753ccce-bb47-4e38-ce32-ce00f4c508f8"
   },
   "outputs": [],
   "source": [
    "class Bank:\n",
    "\n",
    "  def __init__(self,balance):\n",
    "    self.balance = balance\n",
    "\n",
    "  def withdraw(self,amount):\n",
    "    if amount < 0:\n",
    "      raise Exception('amount cannot be -ve')\n",
    "    if self.balance < amount:\n",
    "      raise Exception('paise nai hai tere paas')\n",
    "    self.balance = self.balance - amount\n",
    "\n",
    "obj = Bank(10000)\n",
    "try:\n",
    "  obj.withdraw(15000)\n",
    "except Exception as e:\n",
    "  print(e)\n",
    "else:\n",
    "  print(obj.balance)"
   ]
  },
  {
   "cell_type": "code",
   "execution_count": null,
   "metadata": {
    "colab": {
     "base_uri": "https://localhost:8080/"
    },
    "id": "DLzBsX5eBSNs",
    "outputId": "4b8d711a-43a7-45e1-9cd5-1ee6cf0633d9"
   },
   "outputs": [],
   "source": [
    "class MyException(Exception):\n",
    "  def __init__(self,message):\n",
    "    print(message)\n",
    "\n",
    "class Bank:\n",
    "\n",
    "  def __init__(self,balance):\n",
    "    self.balance = balance\n",
    "\n",
    "  def withdraw(self,amount):\n",
    "    if amount < 0:\n",
    "      raise MyException('amount cannot be -ve')\n",
    "    if self.balance < amount:\n",
    "      raise MyException('paise nai hai tere paas')\n",
    "    self.balance = self.balance - amount\n",
    "\n",
    "obj = Bank(10000)\n",
    "try:\n",
    "  obj.withdraw(5000)\n",
    "except MyException as e:\n",
    "  pass\n",
    "else:\n",
    "  print(obj.balance)"
   ]
  },
  {
   "cell_type": "code",
   "execution_count": null,
   "metadata": {
    "id": "VTaMY8stXLaT"
   },
   "outputs": [],
   "source": [
    "# creating custom exceptions\n",
    "# exception hierarchy in python"
   ]
  },
  {
   "cell_type": "code",
   "execution_count": null,
   "metadata": {
    "id": "E9f2B-J_cNJF"
   },
   "outputs": [],
   "source": [
    "# simple example"
   ]
  },
  {
   "cell_type": "code",
   "execution_count": 2,
   "metadata": {
    "colab": {
     "base_uri": "https://localhost:8080/"
    },
    "id": "YMIbhy3acWX4",
    "outputId": "1008e800-2a8c-4e47-e041-65a366503cc2"
   },
   "outputs": [
    {
     "name": "stdout",
     "output_type": "stream",
     "text": [
      "bhai teri to lag gayi\n",
      "logout\n",
      "database connection closed\n"
     ]
    }
   ],
   "source": [
    "class SecurityError(Exception):\n",
    "\n",
    "  def __init__(self,message):\n",
    "    print(message)\n",
    "\n",
    "  def logout(self):\n",
    "    print('logout')\n",
    "\n",
    "class Google:\n",
    "\n",
    "  def __init__(self,name,email,password,device):\n",
    "    self.name = name\n",
    "    self.email = email\n",
    "    self.password = password\n",
    "    self.device = device\n",
    "\n",
    "  def login(self,email,password,device):\n",
    "    if device != self.device:\n",
    "      raise SecurityError('bhai teri to lag gayi')\n",
    "    if email == self.email and password == self.password:\n",
    "      print('welcome')\n",
    "    else:\n",
    "      print('login error')\n",
    "\n",
    "\n",
    "\n",
    "obj = Google('nitish','nitish@gmail.com','1234','android')\n",
    "\n",
    "try:\n",
    "  obj.login('nitish@gmail.com','1234','windows')\n",
    "except SecurityError as e:\n",
    "  e.logout()\n",
    "else:\n",
    "  print(obj.name)\n",
    "finally:\n",
    "  print('database connection closed')"
   ]
  },
  {
   "cell_type": "code",
   "execution_count": 3,
   "metadata": {
    "id": "x3VHwEYHg-z7"
   },
   "outputs": [
    {
     "name": "stdout",
     "output_type": "stream",
     "text": [
      "Exception occured\n"
     ]
    }
   ],
   "source": [
    "try:\n",
    "    div = 15 / 0\n",
    "except:\n",
    "    print(\"Exception occured\")"
   ]
  },
  {
   "cell_type": "code",
   "execution_count": 4,
   "metadata": {},
   "outputs": [
    {
     "name": "stdout",
     "output_type": "stream",
     "text": [
      "Exception occured\n"
     ]
    }
   ],
   "source": [
    "try:\n",
    "    div = 15 / 0\n",
    "except:\n",
    "    print(\"Exception occured\")\n",
    "else:\n",
    "    print(\"This is else loop\")"
   ]
  },
  {
   "cell_type": "code",
   "execution_count": 5,
   "metadata": {},
   "outputs": [
    {
     "name": "stdout",
     "output_type": "stream",
     "text": [
      "This is else loop\n"
     ]
    }
   ],
   "source": [
    "try:\n",
    "    div = 15 / 3\n",
    "except:\n",
    "    print(\"Exception occured\")\n",
    "else:\n",
    "    print(\"This is else loop\")"
   ]
  },
  {
   "cell_type": "code",
   "execution_count": 6,
   "metadata": {},
   "outputs": [
    {
     "name": "stdout",
     "output_type": "stream",
     "text": [
      "This is else loop\n",
      "This executed every time\n"
     ]
    }
   ],
   "source": [
    "try:\n",
    "    div = 15 / 3\n",
    "except:\n",
    "    print(\"Exception occured\")\n",
    "else:\n",
    "    print(\"This is else loop\")\n",
    "finally:\n",
    "    print(\"This executed every time\")"
   ]
  },
  {
   "cell_type": "code",
   "execution_count": 7,
   "metadata": {},
   "outputs": [
    {
     "name": "stdout",
     "output_type": "stream",
     "text": [
      "Exception occured\n",
      "This executed every time\n"
     ]
    }
   ],
   "source": [
    "try:\n",
    "    div = 15 / 0\n",
    "except:\n",
    "    print(\"Exception occured\")\n",
    "else:\n",
    "    print(\"This is else loop\")\n",
    "finally:\n",
    "    print(\"This executed every time\")"
   ]
  },
  {
   "cell_type": "code",
   "execution_count": 10,
   "metadata": {},
   "outputs": [
    {
     "name": "stdout",
     "output_type": "stream",
     "text": [
      "File is not present\n"
     ]
    }
   ],
   "source": [
    "try:    \n",
    "    f = open(\"test1.txt\",'r')\n",
    "    f.read()\n",
    "    div = 5 / 0    \n",
    "except FileNotFoundError:\n",
    "    print(\"File is not present\")\n",
    "    \n",
    "except Exception:\n",
    "    print(\"Another exception occured\")"
   ]
  },
  {
   "cell_type": "code",
   "execution_count": 28,
   "metadata": {},
   "outputs": [
    {
     "name": "stdout",
     "output_type": "stream",
     "text": [
      "Age cannot be negative\n"
     ]
    }
   ],
   "source": [
    "class Student:\n",
    "    \n",
    "    def __init__(self,name,age):\n",
    "        self.name = name\n",
    "        self.age = age\n",
    "    \n",
    "    def display(self):\n",
    "        if self.age > 100:\n",
    "            raise Exception (\"Age can not be greater that 100\")\n",
    "        elif self.age < 0:\n",
    "            raise Exception (\"Age cannot be negative\")\n",
    "        else:\n",
    "            print(\"Name is\",self.name,\"and age is \",self.age)\n",
    "            \n",
    "s =  Student(\"Sachin\",-10)\n",
    "try:\n",
    "    s.display()\n",
    "except Exception as e:\n",
    "    print(e)"
   ]
  },
  {
   "cell_type": "code",
   "execution_count": 31,
   "metadata": {},
   "outputs": [
    {
     "name": "stdout",
     "output_type": "stream",
     "text": [
      "Age cannot be negative\n",
      "Age cannot be negative\n"
     ]
    }
   ],
   "source": [
    "class MyCustomException(Exception):\n",
    "    \n",
    "    def __init__(self,msg):\n",
    "        print(msg)  \n",
    "    \n",
    "        \n",
    "class Student:\n",
    "    \n",
    "    def __init__(self,name,age):\n",
    "        self.name = name\n",
    "        self.age = age\n",
    "    \n",
    "    def display(self):\n",
    "        if self.age > 100:\n",
    "            raise MyCustomException (\"Age can not be greater that 100\")\n",
    "        elif self.age < 0:\n",
    "            raise MyCustomException (\"Age cannot be negative\")\n",
    "        else:\n",
    "            print(\"Name is\",self.name,\"and age is \",self.age)\n",
    "            \n",
    "s =  Student(\"Sachin\",-10)\n",
    "\n",
    "try:\n",
    "    s.display()\n",
    "    \n",
    "except MyCustomException as e:\n",
    "    print(e)\n",
    "    "
   ]
  },
  {
   "cell_type": "code",
   "execution_count": null,
   "metadata": {},
   "outputs": [],
   "source": []
  }
 ],
 "metadata": {
  "colab": {
   "provenance": []
  },
  "kernelspec": {
   "display_name": "Python 3 (ipykernel)",
   "language": "python",
   "name": "python3"
  },
  "language_info": {
   "codemirror_mode": {
    "name": "ipython",
    "version": 3
   },
   "file_extension": ".py",
   "mimetype": "text/x-python",
   "name": "python",
   "nbconvert_exporter": "python",
   "pygments_lexer": "ipython3",
   "version": "3.9.7"
  }
 },
 "nbformat": 4,
 "nbformat_minor": 1
}
