{
 "cells": [
  {
   "cell_type": "markdown",
   "id": "f51746ac",
   "metadata": {},
   "source": [
    "Keywords\n",
    "Python is a case sensitive programming language\n",
    "In programming, a keyword is a word that is reserved by a program because the word has a special meaning. Keywords can be commands or parameters. Every programming language has a set of keywords that cannot be used as variable names"
   ]
  },
  {
   "cell_type": "code",
   "execution_count": 1,
   "id": "6aa4bb38",
   "metadata": {},
   "outputs": [
    {
     "name": "stdout",
     "output_type": "stream",
     "text": [
      "['False', 'None', 'True', '__peg_parser__', 'and', 'as', 'assert', 'async', 'await', 'break', 'class', 'continue', 'def', 'del', 'elif', 'else', 'except', 'finally', 'for', 'from', 'global', 'if', 'import', 'in', 'is', 'lambda', 'nonlocal', 'not', 'or', 'pass', 'raise', 'return', 'try', 'while', 'with', 'yield']\n"
     ]
    }
   ],
   "source": [
    "import keyword\n",
    "\n",
    "print(keyword.kwlist)"
   ]
  },
  {
   "cell_type": "code",
   "execution_count": 4,
   "id": "e02d0769",
   "metadata": {},
   "outputs": [
    {
     "data": {
      "text/plain": [
       "<function frozenset.__contains__>"
      ]
     },
     "execution_count": 4,
     "metadata": {},
     "output_type": "execute_result"
    }
   ],
   "source": [
    "keyword.issoftkeyword"
   ]
  },
  {
   "cell_type": "markdown",
   "id": "688f0441",
   "metadata": {},
   "source": [
    "Identifiers\n",
    "A Python identifier is a name used to identify a variable, function, class, module or other object.\n",
    "Rules for setting Identifiers\n",
    "can only start with an alphabet or _\n",
    "Followed by 0 or more letter,_ and digits\n",
    "keywords cannot be used as an identifiers"
   ]
  },
  {
   "cell_type": "code",
   "execution_count": 2,
   "id": "d187f07b",
   "metadata": {},
   "outputs": [
    {
     "name": "stdout",
     "output_type": "stream",
     "text": [
      "Sachin\n"
     ]
    }
   ],
   "source": [
    "first_name = \"Sachin\"\n",
    "print(first_name)"
   ]
  },
  {
   "cell_type": "code",
   "execution_count": 3,
   "id": "98c7e58b",
   "metadata": {},
   "outputs": [
    {
     "name": "stdout",
     "output_type": "stream",
     "text": [
      "Sachin\n"
     ]
    }
   ],
   "source": [
    "_first_name = \"Sachin\"\n",
    "print(_first_name)"
   ]
  },
  {
   "cell_type": "code",
   "execution_count": 4,
   "id": "0a8c8704",
   "metadata": {},
   "outputs": [
    {
     "ename": "SyntaxError",
     "evalue": "invalid syntax (Temp/ipykernel_8140/3186562031.py, line 2)",
     "output_type": "error",
     "traceback": [
      "\u001b[1;36m  File \u001b[1;32m\"C:\\Users\\SACHIN~1\\AppData\\Local\\Temp/ipykernel_8140/3186562031.py\"\u001b[1;36m, line \u001b[1;32m2\u001b[0m\n\u001b[1;33m    1first_name = \"Pune\"\u001b[0m\n\u001b[1;37m     ^\u001b[0m\n\u001b[1;31mSyntaxError\u001b[0m\u001b[1;31m:\u001b[0m invalid syntax\n"
     ]
    }
   ],
   "source": [
    "# Cant start with number\n",
    "1first_name = \"Pune\"\n",
    "print(1first_name)"
   ]
  },
  {
   "cell_type": "code",
   "execution_count": null,
   "id": "d56962b3",
   "metadata": {},
   "outputs": [],
   "source": [
    "# only we can use _ for identifier\n",
    "first-name = \"Solapur\"\n",
    "print(first-name)"
   ]
  },
  {
   "cell_type": "code",
   "execution_count": null,
   "id": "fd5a9895",
   "metadata": {},
   "outputs": [],
   "source": [
    "# Cant used keyword as identifier\n",
    "continue = 900\n",
    "print(continue)"
   ]
  },
  {
   "cell_type": "code",
   "execution_count": null,
   "id": "0eccfc1f",
   "metadata": {},
   "outputs": [],
   "source": []
  }
 ],
 "metadata": {
  "kernelspec": {
   "display_name": "Python 3 (ipykernel)",
   "language": "python",
   "name": "python3"
  },
  "language_info": {
   "codemirror_mode": {
    "name": "ipython",
    "version": 3
   },
   "file_extension": ".py",
   "mimetype": "text/x-python",
   "name": "python",
   "nbconvert_exporter": "python",
   "pygments_lexer": "ipython3",
   "version": "3.9.7"
  }
 },
 "nbformat": 4,
 "nbformat_minor": 5
}
