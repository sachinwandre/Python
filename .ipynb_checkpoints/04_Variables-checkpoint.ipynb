{
 "cells": [
  {
   "cell_type": "markdown",
   "id": "5cbcfe70",
   "metadata": {},
   "source": [
    "Rules for Python variables:\n",
    "\tA variable name must start with a letter or the underscore character\n",
    "\tA variable name cannot start with a number\n",
    "\tA variable name can only contain alpha-numeric characters and underscores (A-z, 0-9, and _ )\n",
    "\tVariable names are case-sensitive (age, Age and AGE are three different variables)"
   ]
  },
  {
   "cell_type": "code",
   "execution_count": 2,
   "id": "2e776f70",
   "metadata": {},
   "outputs": [
    {
     "data": {
      "text/plain": [
       "10"
      ]
     },
     "execution_count": 2,
     "metadata": {},
     "output_type": "execute_result"
    }
   ],
   "source": [
    "a = 10\n",
    "a"
   ]
  },
  {
   "cell_type": "code",
   "execution_count": 3,
   "id": "cdda154a",
   "metadata": {},
   "outputs": [
    {
     "ename": "SyntaxError",
     "evalue": "invalid syntax (Temp/ipykernel_10824/1863843252.py, line 1)",
     "output_type": "error",
     "traceback": [
      "\u001b[1;36m  File \u001b[1;32m\"C:\\Users\\SACHIN~1\\AppData\\Local\\Temp/ipykernel_10824/1863843252.py\"\u001b[1;36m, line \u001b[1;32m1\u001b[0m\n\u001b[1;33m    99guru = 800\u001b[0m\n\u001b[1;37m      ^\u001b[0m\n\u001b[1;31mSyntaxError\u001b[0m\u001b[1;31m:\u001b[0m invalid syntax\n"
     ]
    }
   ],
   "source": [
    "99guru = 800\n",
    "99guru"
   ]
  },
  {
   "cell_type": "code",
   "execution_count": 4,
   "id": "5ec04fe9",
   "metadata": {},
   "outputs": [
    {
     "data": {
      "text/plain": [
       "100"
      ]
     },
     "execution_count": 4,
     "metadata": {},
     "output_type": "execute_result"
    }
   ],
   "source": [
    "__99 = 100\n",
    "__99"
   ]
  },
  {
   "cell_type": "code",
   "execution_count": null,
   "id": "9672f38d",
   "metadata": {},
   "outputs": [],
   "source": [
    "sachin$ = "
   ]
  },
  {
   "cell_type": "code",
   "execution_count": null,
   "id": "e59e9e50",
   "metadata": {},
   "outputs": [],
   "source": [
    "number = 10\n",
    "print(number)"
   ]
  },
  {
   "cell_type": "code",
   "execution_count": 3,
   "id": "29c7d1fb",
   "metadata": {},
   "outputs": [
    {
     "name": "stdout",
     "output_type": "stream",
     "text": [
      "Sachin\n"
     ]
    }
   ],
   "source": [
    "name = \"Sachin\"\n",
    "print(name)"
   ]
  },
  {
   "cell_type": "code",
   "execution_count": 4,
   "id": "4ca88e0e",
   "metadata": {},
   "outputs": [
    {
     "name": "stdout",
     "output_type": "stream",
     "text": [
      "100\n"
     ]
    }
   ],
   "source": [
    "name = 100\n",
    "print(name)"
   ]
  },
  {
   "cell_type": "code",
   "execution_count": 5,
   "id": "07247cd7",
   "metadata": {},
   "outputs": [
    {
     "name": "stdout",
     "output_type": "stream",
     "text": [
      "89.88\n"
     ]
    }
   ],
   "source": [
    "name = 89.88\n",
    "print(name)"
   ]
  },
  {
   "cell_type": "code",
   "execution_count": 6,
   "id": "b2d27011",
   "metadata": {},
   "outputs": [
    {
     "name": "stdout",
     "output_type": "stream",
     "text": [
      "10 20 30\n"
     ]
    }
   ],
   "source": [
    "a=10;b=20;c=30\n",
    "print(a,b,c)"
   ]
  },
  {
   "cell_type": "code",
   "execution_count": 7,
   "id": "1941f93b",
   "metadata": {},
   "outputs": [
    {
     "name": "stdout",
     "output_type": "stream",
     "text": [
      "100 200 300\n"
     ]
    }
   ],
   "source": [
    "a,b,c = 100, 200, 300\n",
    "print(a,b,c)"
   ]
  },
  {
   "cell_type": "code",
   "execution_count": 8,
   "id": "bd23fbf9",
   "metadata": {},
   "outputs": [
    {
     "name": "stdout",
     "output_type": "stream",
     "text": [
      "Sachin 100 34\n"
     ]
    }
   ],
   "source": [
    "a,b,c = \"Sachin\", 100, 34\n",
    "print(a,b,c)"
   ]
  },
  {
   "cell_type": "code",
   "execution_count": 9,
   "id": "2714cbad",
   "metadata": {},
   "outputs": [
    {
     "name": "stdout",
     "output_type": "stream",
     "text": [
      "Pune Pune Pune\n"
     ]
    }
   ],
   "source": [
    "a = b = c = \"Pune\"\n",
    "print(a,b,c)"
   ]
  },
  {
   "cell_type": "code",
   "execution_count": null,
   "id": "70c69bd2",
   "metadata": {},
   "outputs": [],
   "source": [
    "# Dynamic Typing --> PHP, Python\n",
    "# Static typing --> C CPP Java"
   ]
  }
 ],
 "metadata": {
  "kernelspec": {
   "display_name": "Python 3 (ipykernel)",
   "language": "python",
   "name": "python3"
  },
  "language_info": {
   "codemirror_mode": {
    "name": "ipython",
    "version": 3
   },
   "file_extension": ".py",
   "mimetype": "text/x-python",
   "name": "python",
   "nbconvert_exporter": "python",
   "pygments_lexer": "ipython3",
   "version": "3.9.7"
  }
 },
 "nbformat": 4,
 "nbformat_minor": 5
}
