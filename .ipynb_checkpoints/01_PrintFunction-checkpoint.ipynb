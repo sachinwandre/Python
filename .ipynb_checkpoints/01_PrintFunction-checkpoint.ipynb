{
 "cells": [
  {
   "cell_type": "code",
   "execution_count": 1,
   "id": "f45da067",
   "metadata": {},
   "outputs": [
    {
     "name": "stdout",
     "output_type": "stream",
     "text": [
      "Hello\n"
     ]
    }
   ],
   "source": [
    "print(\"Hello\")"
   ]
  },
  {
   "cell_type": "code",
   "execution_count": 2,
   "id": "0228465c",
   "metadata": {},
   "outputs": [
    {
     "name": "stdout",
     "output_type": "stream",
     "text": [
      "Hello\n"
     ]
    }
   ],
   "source": [
    "print('Hello')"
   ]
  },
  {
   "cell_type": "code",
   "execution_count": 3,
   "id": "cfe2dc95",
   "metadata": {},
   "outputs": [
    {
     "name": "stdout",
     "output_type": "stream",
     "text": [
      "Hello\n"
     ]
    }
   ],
   "source": [
    "print(\"\"\"Hello\"\"\")"
   ]
  },
  {
   "cell_type": "code",
   "execution_count": null,
   "id": "68accede",
   "metadata": {},
   "outputs": [],
   "source": [
    "print() ## Use shift+tab to check the parameters"
   ]
  },
  {
   "cell_type": "code",
   "execution_count": 3,
   "id": "9fef48fe",
   "metadata": {},
   "outputs": [
    {
     "name": "stdout",
     "output_type": "stream",
     "text": [
      "5\n",
      "7.8\n",
      "(8+9j)\n",
      "True\n",
      "False\n"
     ]
    }
   ],
   "source": [
    "print(5)\n",
    "print(7.8)\n",
    "print(8+9j)\n",
    "print(True)\n",
    "print(False)"
   ]
  },
  {
   "cell_type": "code",
   "execution_count": 5,
   "id": "4d4514d1",
   "metadata": {},
   "outputs": [
    {
     "name": "stdout",
     "output_type": "stream",
     "text": [
      "India China Pakistan Nepal\n"
     ]
    }
   ],
   "source": [
    "print(\"India\",\"China\",\"Pakistan\",\"Nepal\")"
   ]
  },
  {
   "cell_type": "code",
   "execution_count": 6,
   "id": "15278799",
   "metadata": {},
   "outputs": [
    {
     "name": "stdout",
     "output_type": "stream",
     "text": [
      "India-China-Pakistan-Nepal\n"
     ]
    }
   ],
   "source": [
    "# Separator\n",
    "print(\"India\",\"China\",\"Pakistan\",\"Nepal\",sep=\"-\")"
   ]
  },
  {
   "cell_type": "code",
   "execution_count": 8,
   "id": "2eaca3d5",
   "metadata": {},
   "outputs": [
    {
     "name": "stdout",
     "output_type": "stream",
     "text": [
      "India/China/Pakistan/Nepal\n"
     ]
    }
   ],
   "source": [
    "print(\"India\",\"China\",\"Pakistan\",\"Nepal\",sep=\"/\")"
   ]
  },
  {
   "cell_type": "code",
   "execution_count": 9,
   "id": "86efa981",
   "metadata": {},
   "outputs": [
    {
     "name": "stdout",
     "output_type": "stream",
     "text": [
      "Hello\n",
      "World\n"
     ]
    }
   ],
   "source": [
    "print(\"Hello\")\n",
    "print(\"World\")"
   ]
  },
  {
   "cell_type": "code",
   "execution_count": 10,
   "id": "8f27d6bf",
   "metadata": {},
   "outputs": [
    {
     "name": "stdout",
     "output_type": "stream",
     "text": [
      "Hello World\n"
     ]
    }
   ],
   "source": [
    "# End with -- by default its \\n\n",
    "print(\"Hello\",end=' ')\n",
    "print(\"World\")"
   ]
  },
  {
   "cell_type": "code",
   "execution_count": 4,
   "id": "69308aae",
   "metadata": {},
   "outputs": [
    {
     "name": "stdout",
     "output_type": "stream",
     "text": [
      "\n"
     ]
    }
   ],
   "source": [
    "print()"
   ]
  },
  {
   "cell_type": "code",
   "execution_count": null,
   "id": "48922975",
   "metadata": {},
   "outputs": [],
   "source": []
  }
 ],
 "metadata": {
  "kernelspec": {
   "display_name": "Python 3 (ipykernel)",
   "language": "python",
   "name": "python3"
  },
  "language_info": {
   "codemirror_mode": {
    "name": "ipython",
    "version": 3
   },
   "file_extension": ".py",
   "mimetype": "text/x-python",
   "name": "python",
   "nbconvert_exporter": "python",
   "pygments_lexer": "ipython3",
   "version": "3.9.7"
  }
 },
 "nbformat": 4,
 "nbformat_minor": 5
}
