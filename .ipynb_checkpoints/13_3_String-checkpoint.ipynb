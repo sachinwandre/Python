{
 "cells": [
  {
   "cell_type": "code",
   "execution_count": null,
   "id": "ea5eb789",
   "metadata": {},
   "outputs": [],
   "source": [
    "s = \"Hello\"\n",
    "print(s)"
   ]
  },
  {
   "cell_type": "code",
   "execution_count": null,
   "id": "6f8825a3",
   "metadata": {},
   "outputs": [],
   "source": [
    "s = 'Hello'\n",
    "print(s)"
   ]
  },
  {
   "cell_type": "code",
   "execution_count": null,
   "id": "bd2a9532",
   "metadata": {},
   "outputs": [],
   "source": [
    "s = '''Hello How\n",
    "are you?'''\n",
    "\n",
    "print(s)"
   ]
  },
  {
   "cell_type": "code",
   "execution_count": null,
   "id": "c7ae26eb",
   "metadata": {},
   "outputs": [],
   "source": [
    "s = \"It's raining at night\"\n",
    "print(s)"
   ]
  },
  {
   "cell_type": "code",
   "execution_count": null,
   "id": "4d64fa9d",
   "metadata": {},
   "outputs": [],
   "source": [
    "s = 'It's raining at night'\n",
    "print(s)"
   ]
  },
  {
   "cell_type": "code",
   "execution_count": null,
   "id": "8a1bea3c",
   "metadata": {},
   "outputs": [],
   "source": [
    "s = \"It\"s raining at night\"\n",
    "print(s)"
   ]
  },
  {
   "cell_type": "markdown",
   "id": "be573b07",
   "metadata": {},
   "source": [
    "### 1. Common Functions\n"
   ]
  },
  {
   "cell_type": "code",
   "execution_count": null,
   "id": "04ac1529",
   "metadata": {},
   "outputs": [],
   "source": [
    "len\n",
    "max\n",
    "min\n",
    "sorted"
   ]
  },
  {
   "cell_type": "code",
   "execution_count": null,
   "id": "f9be9540",
   "metadata": {},
   "outputs": [],
   "source": [
    "Method\tDescription\n",
    "capitalize()\tConverts the first character to upper case\n",
    "casefold()\tConverts string into lower case\n",
    "center()\tReturns a centered string\n",
    "count()\tReturns the number of times a specified value occurs in a string\n",
    "encode()\tReturns an encoded version of the string\n",
    "endswith()\tReturns true if the string ends with the specified value\n",
    "expandtabs()\tSets the tab size of the string\n",
    "find()\tSearches the string for a specified value and returns the position of where it was found\n",
    "format()\tFormats specified values in a string\n",
    "format_map()\tFormats specified values in a string\n",
    "index()\tSearches the string for a specified value and returns the position of where it was found\n",
    "isalnum()\tReturns True if all characters in the string are alphanumeric\n",
    "isalpha()\tReturns True if all characters in the string are in the alphabet\n",
    "isascii()\tReturns True if all characters in the string are ascii characters\n",
    "isdecimal()\tReturns True if all characters in the string are decimals\n",
    "isdigit()\tReturns True if all characters in the string are digits\n",
    "isidentifier()\tReturns True if the string is an identifier\n",
    "islower()\tReturns True if all characters in the string are lower case\n",
    "isnumeric()\tReturns True if all characters in the string are numeric\n",
    "isprintable()\tReturns True if all characters in the string are printable\n",
    "isspace()\tReturns True if all characters in the string are whitespaces\n",
    "istitle()\tReturns True if the string follows the rules of a title\n",
    "isupper()\tReturns True if all characters in the string are upper case\n",
    "join()\tConverts the elements of an iterable into a string\n",
    "ljust()\tReturns a left justified version of the string\n",
    "lower()\tConverts a string into lower case\n",
    "lstrip()\tReturns a left trim version of the string\n",
    "maketrans()\tReturns a translation table to be used in translations\n",
    "partition()\tReturns a tuple where the string is parted into three parts\n",
    "replace()\tReturns a string where a specified value is replaced with a specified value\n",
    "rfind()\tSearches the string for a specified value and returns the last position of where it was found\n",
    "rindex()\tSearches the string for a specified value and returns the last position of where it was found\n",
    "rjust()\tReturns a right justified version of the string\n",
    "rpartition()\tReturns a tuple where the string is parted into three parts\n",
    "rsplit()\tSplits the string at the specified separator, and returns a list\n",
    "rstrip()\tReturns a right trim version of the string\n",
    "split()\tSplits the string at the specified separator, and returns a list\n",
    "splitlines()\tSplits the string at line breaks and returns a list\n",
    "startswith()\tReturns true if the string starts with the specified value\n",
    "strip()\tReturns a trimmed version of the string\n",
    "swapcase()\tSwaps cases, lower case becomes upper case and vice versa\n",
    "title()\tConverts the first character of each word to upper case\n",
    "translate()\tReturns a translated string\n",
    "upper()\tConverts a string into upper case\n",
    "zfill()\tFills the string with a specified number of 0 values at the beginning"
   ]
  },
  {
   "cell_type": "code",
   "execution_count": null,
   "id": "f2140677",
   "metadata": {},
   "outputs": [],
   "source": [
    "len()\n",
    "max()\n",
    "min()\n",
    "sorted()\n",
    "upper()\n",
    "lower()\n",
    "isupper()\n",
    "islower()\n",
    "capitalize()\n",
    "title()\n",
    "swapcase()\n",
    "endswith()\n",
    "startwith()\n",
    "isalnum()\n",
    "isalpha()\n",
    "isdigit()\n",
    "isdecimal()\n",
    "isnumeric()\n",
    "split()\n",
    "join()\n",
    "find()\n",
    "index()\n",
    "count()"
   ]
  },
  {
   "cell_type": "code",
   "execution_count": null,
   "id": "336cd042",
   "metadata": {},
   "outputs": [],
   "source": [
    "string = \"I am living in pune\"\n",
    "string[0]"
   ]
  },
  {
   "cell_type": "code",
   "execution_count": null,
   "id": "06eae2fb",
   "metadata": {},
   "outputs": [],
   "source": [
    "string[0:5]"
   ]
  },
  {
   "cell_type": "code",
   "execution_count": null,
   "id": "c523bd97",
   "metadata": {},
   "outputs": [],
   "source": [
    "string[11:17:2]"
   ]
  },
  {
   "cell_type": "code",
   "execution_count": null,
   "id": "9ce9bc22",
   "metadata": {},
   "outputs": [],
   "source": [
    "string[-1]"
   ]
  },
  {
   "cell_type": "code",
   "execution_count": null,
   "id": "66a11116",
   "metadata": {},
   "outputs": [],
   "source": [
    "string[::]"
   ]
  },
  {
   "cell_type": "code",
   "execution_count": null,
   "id": "02366bda",
   "metadata": {},
   "outputs": [],
   "source": [
    "string[::-1]"
   ]
  },
  {
   "cell_type": "code",
   "execution_count": null,
   "id": "4a05f73f",
   "metadata": {},
   "outputs": [],
   "source": [
    "string[-1:-6:2]"
   ]
  },
  {
   "cell_type": "code",
   "execution_count": null,
   "id": "0f119818",
   "metadata": {},
   "outputs": [],
   "source": [
    "string = \"I am living in pune\""
   ]
  },
  {
   "cell_type": "code",
   "execution_count": null,
   "id": "56d3be2d",
   "metadata": {},
   "outputs": [],
   "source": [
    "string[8:1:-1]"
   ]
  },
  {
   "cell_type": "code",
   "execution_count": null,
   "id": "56b39228",
   "metadata": {},
   "outputs": [],
   "source": [
    "string[-1:-10:-1]"
   ]
  },
  {
   "cell_type": "code",
   "execution_count": null,
   "id": "513d7bf5",
   "metadata": {},
   "outputs": [],
   "source": [
    "string[1:10:1]"
   ]
  },
  {
   "cell_type": "code",
   "execution_count": null,
   "id": "c25ac7f0",
   "metadata": {},
   "outputs": [],
   "source": [
    "string[1:10]"
   ]
  },
  {
   "cell_type": "code",
   "execution_count": null,
   "id": "58ce0e81",
   "metadata": {},
   "outputs": [],
   "source": [
    "string[:]"
   ]
  },
  {
   "cell_type": "code",
   "execution_count": null,
   "id": "16b8c86f",
   "metadata": {},
   "outputs": [],
   "source": [
    "string[:9]"
   ]
  },
  {
   "cell_type": "code",
   "execution_count": null,
   "id": "b0b7ae86",
   "metadata": {},
   "outputs": [],
   "source": [
    "string[6:]"
   ]
  },
  {
   "cell_type": "code",
   "execution_count": null,
   "id": "81b63fed",
   "metadata": {},
   "outputs": [],
   "source": [
    "string[-5:]"
   ]
  },
  {
   "cell_type": "code",
   "execution_count": null,
   "id": "869ff816",
   "metadata": {},
   "outputs": [],
   "source": [
    "string[-5::-1]"
   ]
  },
  {
   "cell_type": "code",
   "execution_count": null,
   "id": "f9bef2f4",
   "metadata": {},
   "outputs": [],
   "source": [
    "string[-6::-1]"
   ]
  },
  {
   "cell_type": "code",
   "execution_count": null,
   "id": "bcaaa857",
   "metadata": {},
   "outputs": [],
   "source": [
    "str1 = \"SachinWandre\""
   ]
  },
  {
   "cell_type": "code",
   "execution_count": null,
   "id": "271ceb42",
   "metadata": {},
   "outputs": [],
   "source": [
    "str1[::]"
   ]
  },
  {
   "cell_type": "code",
   "execution_count": null,
   "id": "a4f6d386",
   "metadata": {},
   "outputs": [],
   "source": [
    "str1[1:10]"
   ]
  },
  {
   "cell_type": "code",
   "execution_count": null,
   "id": "0b508a8d",
   "metadata": {},
   "outputs": [],
   "source": [
    "str1[3:10:1]"
   ]
  },
  {
   "cell_type": "code",
   "execution_count": null,
   "id": "4ceaa908",
   "metadata": {},
   "outputs": [],
   "source": [
    "str1[-3:-10:-1]"
   ]
  },
  {
   "cell_type": "code",
   "execution_count": null,
   "id": "ec2a03c8",
   "metadata": {},
   "outputs": [],
   "source": [
    "str1[-10:-1:1]"
   ]
  },
  {
   "cell_type": "code",
   "execution_count": null,
   "id": "4cf43181",
   "metadata": {},
   "outputs": [],
   "source": [
    "str1[-10:-1:1]"
   ]
  },
  {
   "cell_type": "code",
   "execution_count": null,
   "id": "9d84e506",
   "metadata": {},
   "outputs": [],
   "source": []
  },
  {
   "cell_type": "code",
   "execution_count": null,
   "id": "5331f7f5",
   "metadata": {},
   "outputs": [],
   "source": []
  },
  {
   "cell_type": "code",
   "execution_count": null,
   "id": "b3a76d17",
   "metadata": {},
   "outputs": [],
   "source": [
    "s = \"I am Data Scientist\"\n",
    "\n",
    "len(s)"
   ]
  },
  {
   "cell_type": "code",
   "execution_count": null,
   "id": "c0f1111d",
   "metadata": {},
   "outputs": [],
   "source": [
    "max(s)"
   ]
  },
  {
   "cell_type": "code",
   "execution_count": null,
   "id": "d1b8e3f4",
   "metadata": {},
   "outputs": [],
   "source": [
    "min(s)"
   ]
  },
  {
   "cell_type": "code",
   "execution_count": null,
   "id": "94d99747",
   "metadata": {},
   "outputs": [],
   "source": [
    "# Sorted using ASCII value\n",
    "sorted(s,reverse=True)"
   ]
  },
  {
   "cell_type": "markdown",
   "id": "299cf3cb",
   "metadata": {},
   "source": [
    "### 2.Capitalize/Title/Upper/Lower/Swapcase"
   ]
  },
  {
   "cell_type": "code",
   "execution_count": 11,
   "id": "f71ed0f1",
   "metadata": {},
   "outputs": [
    {
     "data": {
      "text/plain": [
       "'I am data scientist'"
      ]
     },
     "execution_count": 11,
     "metadata": {},
     "output_type": "execute_result"
    }
   ],
   "source": [
    "s = \"i am data scientist\"\n",
    "s.capitalize()"
   ]
  },
  {
   "cell_type": "code",
   "execution_count": 12,
   "id": "c25734fc",
   "metadata": {},
   "outputs": [
    {
     "data": {
      "text/plain": [
       "'I Am Data Scientist'"
      ]
     },
     "execution_count": 12,
     "metadata": {},
     "output_type": "execute_result"
    }
   ],
   "source": [
    "s = \"i am data scientist\"\n",
    "s.title()"
   ]
  },
  {
   "cell_type": "code",
   "execution_count": null,
   "id": "d76a7ea0",
   "metadata": {},
   "outputs": [],
   "source": [
    "s = \"i am data scientist\"\n",
    "s.upper()"
   ]
  },
  {
   "cell_type": "code",
   "execution_count": null,
   "id": "91bcafec",
   "metadata": {},
   "outputs": [],
   "source": [
    "s = \"i am DATA sciENtist\"\n",
    "s.lower()"
   ]
  },
  {
   "cell_type": "code",
   "execution_count": null,
   "id": "a80b5bdf",
   "metadata": {},
   "outputs": [],
   "source": [
    "s = \"i am DaTa SCienTist\"\n",
    "s.swapcase()"
   ]
  },
  {
   "cell_type": "markdown",
   "id": "2a5a9291",
   "metadata": {},
   "source": [
    "### 3. count/find/index"
   ]
  },
  {
   "cell_type": "code",
   "execution_count": null,
   "id": "e4876924",
   "metadata": {},
   "outputs": [],
   "source": [
    "s = \"I am Data Scientist\"\n",
    "s.count(\"u\")"
   ]
  },
  {
   "cell_type": "code",
   "execution_count": null,
   "id": "872de2f3",
   "metadata": {},
   "outputs": [],
   "source": [
    "s = \"I am Data Scientist\"\n",
    "s.count(\"t\")"
   ]
  },
  {
   "cell_type": "code",
   "execution_count": null,
   "id": "ad2846c9",
   "metadata": {},
   "outputs": [],
   "source": [
    "s = \"I am Data Scientist\"\n",
    "s.count(\"a\")"
   ]
  },
  {
   "cell_type": "code",
   "execution_count": null,
   "id": "feaf8c13",
   "metadata": {},
   "outputs": [],
   "source": [
    "s = \"I am Data Scientist\"\n",
    "s.find(\"a\")"
   ]
  },
  {
   "cell_type": "code",
   "execution_count": null,
   "id": "c274fc6d",
   "metadata": {},
   "outputs": [],
   "source": [
    "s = \"I am Data Scientist\"\n",
    "s.find(\"Scie\")"
   ]
  },
  {
   "cell_type": "code",
   "execution_count": null,
   "id": "ae56959a",
   "metadata": {},
   "outputs": [],
   "source": [
    "# if not found then return -1\n",
    "s = \"I am Data Scientist\"\n",
    "s.find(\"x\")"
   ]
  },
  {
   "cell_type": "code",
   "execution_count": null,
   "id": "3b5464da",
   "metadata": {},
   "outputs": [],
   "source": [
    "s = \"I am Data Scientist\"\n",
    "s.index(\"a\")"
   ]
  },
  {
   "cell_type": "code",
   "execution_count": null,
   "id": "54bbe57d",
   "metadata": {},
   "outputs": [],
   "source": [
    "s = \"I am Data Scientist\"\n",
    "s.index(\"Scientist\")"
   ]
  },
  {
   "cell_type": "code",
   "execution_count": null,
   "id": "e437bd4e",
   "metadata": {},
   "outputs": [],
   "source": [
    "# if not found then throw an exception\n",
    "s = \"I am Data Scientist\"\n",
    "s.index(\"x\")"
   ]
  },
  {
   "cell_type": "markdown",
   "id": "99d35748",
   "metadata": {},
   "source": [
    "### 4.  endswith/startswith"
   ]
  },
  {
   "cell_type": "code",
   "execution_count": null,
   "id": "cf9352c1",
   "metadata": {},
   "outputs": [],
   "source": [
    "s = \"I am Data Scientist\"\n",
    "s.endswith(\"st\")"
   ]
  },
  {
   "cell_type": "code",
   "execution_count": null,
   "id": "78c02654",
   "metadata": {},
   "outputs": [],
   "source": [
    "s = \"I am Data Scientist\"\n",
    "s.endswith(\"est\")"
   ]
  },
  {
   "cell_type": "code",
   "execution_count": null,
   "id": "76226dfe",
   "metadata": {},
   "outputs": [],
   "source": [
    "s = \"I am Data Scientist\"\n",
    "s.startswith(\"I\")"
   ]
  },
  {
   "cell_type": "code",
   "execution_count": null,
   "id": "6cb9e63c",
   "metadata": {},
   "outputs": [],
   "source": [
    "s = \"I am Data Scientist\"\n",
    "s.startswith(\"I am Data\")"
   ]
  },
  {
   "cell_type": "markdown",
   "id": "95236385",
   "metadata": {},
   "source": [
    "### 5. format"
   ]
  },
  {
   "cell_type": "code",
   "execution_count": null,
   "id": "ba99c35c",
   "metadata": {},
   "outputs": [],
   "source": [
    "s = \"My name is {} and I am {} \"\n",
    "s.format(\"Sachin\",\"Data Scientist\")"
   ]
  },
  {
   "cell_type": "code",
   "execution_count": null,
   "id": "f595840f",
   "metadata": {},
   "outputs": [],
   "source": [
    "s = \"My Name is {} and I am {} years old\"\n",
    "s.format(\"Sachin\",34)"
   ]
  },
  {
   "cell_type": "code",
   "execution_count": null,
   "id": "9df648fa",
   "metadata": {},
   "outputs": [],
   "source": [
    "s = \"I am {name} and I am {age} years old, and I am {designation}\"\n",
    "s.format(name=\"Sachin\",age=34,designation= \"Data Scientist\")"
   ]
  },
  {
   "cell_type": "code",
   "execution_count": null,
   "id": "6f8b6edb",
   "metadata": {},
   "outputs": [],
   "source": [
    "s = \"My Name is {1} and I am {0} years old\"\n",
    "s.format(\"Sachin\",34)"
   ]
  },
  {
   "cell_type": "markdown",
   "id": "c8e34c04",
   "metadata": {},
   "source": [
    "### 6. isalnum/ isalpha/ isdecimal/ isdigit/ isidentifier"
   ]
  },
  {
   "cell_type": "markdown",
   "id": "86e09cbe",
   "metadata": {},
   "source": [
    "### isalpha()"
   ]
  },
  {
   "cell_type": "markdown",
   "id": "48092d67",
   "metadata": {},
   "source": [
    "Python String isalpha() method is used to check whether all characters in the String is an alphabet."
   ]
  },
  {
   "cell_type": "code",
   "execution_count": null,
   "id": "60a5b7dd",
   "metadata": {},
   "outputs": [],
   "source": [
    "s = \"Sachin\"\n",
    "s.isalpha()"
   ]
  },
  {
   "cell_type": "code",
   "execution_count": null,
   "id": "fa672754",
   "metadata": {},
   "outputs": [],
   "source": [
    "# Space not allowed\n",
    "\n",
    "s = \"Sachin Wandre\"\n",
    "s.isalpha()"
   ]
  },
  {
   "cell_type": "code",
   "execution_count": null,
   "id": "ae1412f5",
   "metadata": {},
   "outputs": [],
   "source": [
    "# Number not allowed\n",
    "s = \"Sachin123\"\n",
    "s.isalpha()"
   ]
  },
  {
   "cell_type": "code",
   "execution_count": null,
   "id": "4c24ce1a",
   "metadata": {},
   "outputs": [],
   "source": [
    "# Special character not allowed\n",
    "s = \"Sachin!@#$\"\n",
    "s.isalpha()"
   ]
  },
  {
   "cell_type": "markdown",
   "id": "a8572b77",
   "metadata": {},
   "source": [
    "### isalnum()"
   ]
  },
  {
   "cell_type": "markdown",
   "id": "473a5c94",
   "metadata": {},
   "source": [
    "Python String isalnum() method checks whether all the characters in a given string are either alphabet or numeric (alphanumeric) characters."
   ]
  },
  {
   "cell_type": "code",
   "execution_count": null,
   "id": "ee0e89b2",
   "metadata": {},
   "outputs": [],
   "source": [
    "s = \"Sachin\"\n",
    "s.isalnum()"
   ]
  },
  {
   "cell_type": "code",
   "execution_count": null,
   "id": "e0e57a86",
   "metadata": {},
   "outputs": [],
   "source": [
    "# Space Not allowed\n",
    "s = \"Sachin Wandre\"\n",
    "s.isalnum()"
   ]
  },
  {
   "cell_type": "code",
   "execution_count": null,
   "id": "5777f790",
   "metadata": {},
   "outputs": [],
   "source": [
    "# Digits are allowed\n",
    "s = \"Sachin123\"\n",
    "s.isalnum()"
   ]
  },
  {
   "cell_type": "code",
   "execution_count": null,
   "id": "10d6bd1f",
   "metadata": {},
   "outputs": [],
   "source": [
    "# Special character not allowed\n",
    "s = \"Sachin@#\"\n",
    "s.isalnum()"
   ]
  },
  {
   "cell_type": "markdown",
   "id": "fcb8a473",
   "metadata": {},
   "source": [
    "### isdecimal()"
   ]
  },
  {
   "cell_type": "markdown",
   "id": "ea8ed31f",
   "metadata": {},
   "source": [
    "Python String isdecimal() function returns true if all characters in a string are decimal, else it returns False."
   ]
  },
  {
   "cell_type": "code",
   "execution_count": null,
   "id": "34b5ed95",
   "metadata": {},
   "outputs": [],
   "source": [
    "# Character not allowed\n",
    "s = \"Sachin\"\n",
    "s.isdecimal()"
   ]
  },
  {
   "cell_type": "code",
   "execution_count": null,
   "id": "9ee6665a",
   "metadata": {},
   "outputs": [],
   "source": [
    "s = \"123\"\n",
    "s.isdecimal()"
   ]
  },
  {
   "cell_type": "code",
   "execution_count": null,
   "id": "62e1e4fe",
   "metadata": {},
   "outputs": [],
   "source": [
    "# Space not allowed\n",
    "s = \"123 456\"\n",
    "s.isdecimal()"
   ]
  },
  {
   "cell_type": "code",
   "execution_count": null,
   "id": "1e078056",
   "metadata": {},
   "outputs": [],
   "source": [
    "# String not allowed\n",
    "s =\" Sachin123\"\n",
    "s.isdecimal()"
   ]
  },
  {
   "cell_type": "markdown",
   "id": "933db3bb",
   "metadata": {},
   "source": [
    "### isdigit()"
   ]
  },
  {
   "cell_type": "code",
   "execution_count": null,
   "id": "d83f70d0",
   "metadata": {},
   "outputs": [],
   "source": [
    "Python String isdigit() method returns “True” if all characters in the string are digits, Otherwise, It returns “False”. "
   ]
  },
  {
   "cell_type": "code",
   "execution_count": null,
   "id": "2bcb2545",
   "metadata": {},
   "outputs": [],
   "source": [
    "s = \"Sachin\"\n",
    "s.isdigit()"
   ]
  },
  {
   "cell_type": "code",
   "execution_count": null,
   "id": "4d2c8e41",
   "metadata": {},
   "outputs": [],
   "source": [
    "s = \"123\"\n",
    "s.isdigit()"
   ]
  },
  {
   "cell_type": "code",
   "execution_count": null,
   "id": "ad59c3a0",
   "metadata": {},
   "outputs": [],
   "source": [
    "s = \"Sachin123\"\n",
    "s.isdigit()"
   ]
  },
  {
   "cell_type": "code",
   "execution_count": null,
   "id": "20c7cdcc",
   "metadata": {},
   "outputs": [],
   "source": [
    "s = \"123 456\"\n",
    "s.isdigit()"
   ]
  },
  {
   "cell_type": "markdown",
   "id": "ec1e0e52",
   "metadata": {},
   "source": [
    "Difference between isdigit() and isdecimal()"
   ]
  },
  {
   "cell_type": "code",
   "execution_count": null,
   "id": "f749292b",
   "metadata": {},
   "outputs": [],
   "source": [
    "expr = \"4²\"\n",
    "print(\"expr isdigit()?\", expr.isdigit()) \n",
    "print(\"expr isdecimal()?\", expr.isdecimal())\n",
    "print(\"expr isnumeric()?\", expr.isnumeric())"
   ]
  },
  {
   "cell_type": "markdown",
   "id": "fecc84a8",
   "metadata": {},
   "source": [
    "Difference between isnumeric() and isdecimal()"
   ]
  },
  {
   "cell_type": "code",
   "execution_count": null,
   "id": "64b91a0b",
   "metadata": {},
   "outputs": [],
   "source": [
    "expr = \"⅔\"\n",
    "print(\"expr isdigit()?\", expr.isdigit())  \n",
    "print(\"expr isnumeric()?\", expr.isnumeric())  \n",
    "print(\"expr isdecimal()?\", expr.isdecimal())"
   ]
  },
  {
   "cell_type": "code",
   "execution_count": null,
   "id": "62896017",
   "metadata": {},
   "outputs": [],
   "source": [
    "# Is 42 a decimal or digit or numeric number?\n",
    "print('42'.isdecimal())        # Prints True\n",
    "print('42'.isdigit())          # Prints True\n",
    "print('42'.isnumeric())        # Prints True"
   ]
  },
  {
   "cell_type": "code",
   "execution_count": null,
   "id": "416796ba",
   "metadata": {},
   "outputs": [],
   "source": [
    "# Is ² (Superscript Two) a decimal or digit or numeric number?\n",
    "print('\\u00b2'.isdecimal())    # Prints False\n",
    "print('\\u00b2'.isdigit())      # Prints True\n",
    "print('\\u00b2'.isnumeric())    # Prints True"
   ]
  },
  {
   "cell_type": "code",
   "execution_count": null,
   "id": "981a3268",
   "metadata": {},
   "outputs": [],
   "source": [
    "# Is ⅓ (Vulgar Fraction One Third) a decimal or digit or numeric number?\n",
    "print('\\u2153'.isdecimal())    # Prints False\n",
    "print('\\u2153'.isdigit())      # Prints False\n",
    "print('\\u2153'.isnumeric())    # Prints True"
   ]
  },
  {
   "cell_type": "code",
   "execution_count": null,
   "id": "664c818f",
   "metadata": {},
   "outputs": [],
   "source": [
    "isnumeric() > isdigit() > isdecimal()"
   ]
  },
  {
   "cell_type": "code",
   "execution_count": null,
   "id": "b9a3c1e5",
   "metadata": {},
   "outputs": [],
   "source": []
  },
  {
   "cell_type": "markdown",
   "id": "293a0b81",
   "metadata": {},
   "source": [
    "### 7. Split"
   ]
  },
  {
   "cell_type": "code",
   "execution_count": null,
   "id": "349049a2",
   "metadata": {},
   "outputs": [],
   "source": [
    "# Convert string into list"
   ]
  },
  {
   "cell_type": "code",
   "execution_count": null,
   "id": "1f5ca8bc",
   "metadata": {},
   "outputs": [],
   "source": [
    "s =\"I Love my INDIA\"\n",
    "s.split()"
   ]
  },
  {
   "cell_type": "code",
   "execution_count": null,
   "id": "09fb9696",
   "metadata": {},
   "outputs": [],
   "source": [
    "s =\"I Love my INDIA\"\n",
    "s.split(\"Love\")"
   ]
  },
  {
   "cell_type": "code",
   "execution_count": null,
   "id": "132060f3",
   "metadata": {},
   "outputs": [],
   "source": [
    "s =\"I Love my INDIA\"\n",
    "s.split(\"my\")"
   ]
  },
  {
   "cell_type": "code",
   "execution_count": null,
   "id": "66c6f860",
   "metadata": {},
   "outputs": [],
   "source": [
    "s = \"who is the pm of india\"\n",
    "temp = s.split()\n",
    "temp"
   ]
  },
  {
   "cell_type": "markdown",
   "id": "c5cf6e54",
   "metadata": {},
   "source": [
    "### 8. Join"
   ]
  },
  {
   "cell_type": "code",
   "execution_count": null,
   "id": "64734455",
   "metadata": {},
   "outputs": [],
   "source": [
    "# Convert list into string\n",
    "\" \".join(temp)"
   ]
  },
  {
   "cell_type": "code",
   "execution_count": null,
   "id": "56c4e66b",
   "metadata": {},
   "outputs": [],
   "source": [
    "\"$$$\".join(temp)"
   ]
  },
  {
   "cell_type": "code",
   "execution_count": null,
   "id": "0484369d",
   "metadata": {},
   "outputs": [],
   "source": [
    "\"-\".join(temp)"
   ]
  },
  {
   "cell_type": "markdown",
   "id": "48f98e31",
   "metadata": {},
   "source": [
    "### 9. Replace"
   ]
  },
  {
   "cell_type": "code",
   "execution_count": null,
   "id": "c5626a2b",
   "metadata": {},
   "outputs": [],
   "source": [
    "s = \"I am Sachin\"\n",
    "s.replace(\"Sachin\",\"Wandre\")"
   ]
  },
  {
   "cell_type": "code",
   "execution_count": null,
   "id": "18bfde60",
   "metadata": {},
   "outputs": [],
   "source": [
    "s =\"I Love India\"\n",
    "s.replace(\"India\",\"Hindustan\")"
   ]
  },
  {
   "cell_type": "code",
   "execution_count": null,
   "id": "19d58b03",
   "metadata": {},
   "outputs": [],
   "source": [
    "s"
   ]
  },
  {
   "cell_type": "markdown",
   "id": "28261ee0",
   "metadata": {},
   "source": [
    "### 10. Strip"
   ]
  },
  {
   "cell_type": "code",
   "execution_count": null,
   "id": "ae94738f",
   "metadata": {},
   "outputs": [],
   "source": [
    "# Remove left and right spaces\n",
    "# Used while regstration form to remove unessecarry spaces\n",
    "name = \"         Sachin   Wandre               Mangaon             \"\n",
    "name.strip()"
   ]
  },
  {
   "cell_type": "markdown",
   "id": "f4e501ec",
   "metadata": {},
   "source": [
    "### Write a program to print every character of a string entered by the user in a new line using a loop"
   ]
  },
  {
   "cell_type": "code",
   "execution_count": null,
   "id": "3a71ca0d",
   "metadata": {},
   "outputs": [],
   "source": [
    "name = \" Sachin Narayan Wandre\"\n",
    "\n",
    "for char in name:\n",
    "    print(char)"
   ]
  },
  {
   "cell_type": "markdown",
   "id": "aa7ee67c",
   "metadata": {},
   "source": [
    "### Write a program to find the length of the string \"machine learning\" with and without using len function."
   ]
  },
  {
   "cell_type": "code",
   "execution_count": null,
   "id": "1a87ba3f",
   "metadata": {},
   "outputs": [],
   "source": [
    "string = \"machine learning\"\n",
    "count = 0\n",
    "for s in string:\n",
    "    count += 1\n",
    "print(\"Length of givent string is\",count)\n",
    "print(\"Using len function\",len(string))"
   ]
  },
  {
   "cell_type": "markdown",
   "id": "deb5c871",
   "metadata": {},
   "source": [
    "### Write a program to check if the word 'orange' is present in the \"This is orange juice"
   ]
  },
  {
   "cell_type": "code",
   "execution_count": null,
   "id": "e58bfd7c",
   "metadata": {},
   "outputs": [],
   "source": [
    "string = \"This is orange juice\"\n",
    "\n",
    "if string.find(\"orange\") > -1:\n",
    "    print(\"Orange word found\")\n",
    "else:\n",
    "    print(\"Orange word not found\")\n"
   ]
  },
  {
   "cell_type": "code",
   "execution_count": null,
   "id": "e94418c9",
   "metadata": {},
   "outputs": [],
   "source": [
    "string = \"This is orange juice\"\n",
    "if \"orange\" in string.split():\n",
    "    print(\"Present\")\n",
    "else:\n",
    "    print(\"not present\")"
   ]
  },
  {
   "cell_type": "markdown",
   "id": "d8bb7fbb",
   "metadata": {},
   "source": [
    "### Write a program to find the number of vowels, consonants, digits, and white space characters in a string."
   ]
  },
  {
   "cell_type": "code",
   "execution_count": null,
   "id": "c5347aae",
   "metadata": {},
   "outputs": [],
   "source": [
    "string = \"Sachin Narayan Wandre 9975217677 @#*&)(*)\"\n",
    "\n",
    "vowels = 0\n",
    "consonants = 0\n",
    "digits = 0\n",
    "space = 0\n",
    "\n",
    "for s in string:\n",
    "    \n",
    "    if s == \"a\" or s == 'e' or s =='i' or s == 'o' or  s == 'u':\n",
    "        vowels += 1\n",
    "    elif s == \" \":\n",
    "        space += 1\n",
    "    elif s.isdigit() == True:\n",
    "        digits += 1\n",
    "    else:\n",
    "        consonants += 1\n",
    "\n",
    "print(\"Total vowels=\",vowels)\n",
    "print(\"Total consonants=\",consonants)\n",
    "print(\"Total space =\",space)\n",
    "print(\"Total digits =\",digits)\n",
    "    \n",
    "    "
   ]
  },
  {
   "cell_type": "markdown",
   "id": "8a5891b7",
   "metadata": {},
   "source": [
    "### Write a Python program to count Uppercase, Lowercase, special character,and numeric values in a given string."
   ]
  },
  {
   "cell_type": "code",
   "execution_count": null,
   "id": "d1c4b843",
   "metadata": {},
   "outputs": [],
   "source": [
    "string = \"Sachin Narayan Wandre 9975217677 @#*&)(*)\"\n",
    "upper = 0\n",
    "lower = 0\n",
    "special_char = 0\n",
    "numeric = 0\n",
    "\n",
    "for s in string:\n",
    "    if s.isupper() == True:\n",
    "        upper += 1\n",
    "    elif s.islower() == True:\n",
    "        lower += 1\n",
    "    elif s.isdigit() == True:\n",
    "        numeric += 1\n",
    "    else:\n",
    "        special_char += 1\n",
    "\n",
    "        \n",
    "print(\"Total Upper\",upper)\n",
    "print(\"Total Lower\",lower)\n",
    "print(\"Total Special\",special_char)\n",
    "print(\"Total numeric\",numeric)"
   ]
  },
  {
   "cell_type": "markdown",
   "id": "ca027332",
   "metadata": {},
   "source": [
    "### Write a program to make a new string with all the consonants deleted from the string \"Hello, have a good day\"."
   ]
  },
  {
   "cell_type": "code",
   "execution_count": null,
   "id": "41f265f4",
   "metadata": {},
   "outputs": [],
   "source": [
    "string = \"Hello, have a good day\"\n",
    "\n",
    "new_str = \"\"\n",
    "\n",
    "for s in string:\n",
    "    if s == \"a\" or s==\"e\" or s ==\"i\" or s ==\"o\" or s==\"u\":\n",
    "        new_str = new_str + s\n",
    "        \n",
    "print(new_str)"
   ]
  },
  {
   "cell_type": "markdown",
   "id": "8f8c64e1",
   "metadata": {},
   "source": [
    "### Write a program to make a new string with all the owels deleted from the string \"Hello, have a good day\"."
   ]
  },
  {
   "cell_type": "code",
   "execution_count": null,
   "id": "ed0ce6b6",
   "metadata": {},
   "outputs": [],
   "source": [
    "string = \"Hello, have a good day\"\n",
    "\n",
    "new_str = \"\"\n",
    "\n",
    "for s in string:\n",
    "    if s in(\"aeiou\"):\n",
    "        continue\n",
    "    else:\n",
    "        new_str = new_str + s\n",
    "        \n",
    "print(new_str)"
   ]
  },
  {
   "cell_type": "markdown",
   "id": "18efd691",
   "metadata": {},
   "source": [
    "### Write a Python program to remove the nth index character from a non-empty string."
   ]
  },
  {
   "cell_type": "code",
   "execution_count": null,
   "id": "daa41b3f",
   "metadata": {},
   "outputs": [],
   "source": [
    "string = \"I love my India and I am from Pune\"\n",
    "nth_index = int(input(\"Enter the index to which you want delete\\t\"))\n",
    "new_str = \" \"\n",
    "for s in string:\n",
    "    if s != string[nth_index]:\n",
    "        new_str = new_str + s\n",
    "        \n",
    "print(new_str)"
   ]
  },
  {
   "cell_type": "markdown",
   "id": "1ac8b629",
   "metadata": {},
   "source": [
    "### Write a Python program to change a given string to a new string where the first and last characters have been exchanged."
   ]
  },
  {
   "cell_type": "code",
   "execution_count": null,
   "id": "2fd87457",
   "metadata": {},
   "outputs": [],
   "source": [
    "string = \"Sachin Wandre\"\n",
    "\n",
    "new_string = string[-1] + string[1:-1] + string[0]\n",
    "\n",
    "print(new_string)\n",
    "print(string)"
   ]
  },
  {
   "cell_type": "markdown",
   "id": "e2b65a9c",
   "metadata": {},
   "source": [
    "### Write a Python program to count the occurrences of each word in a given sentence."
   ]
  },
  {
   "cell_type": "code",
   "execution_count": null,
   "id": "d07cf7dc",
   "metadata": {},
   "outputs": [],
   "source": [
    "string = \"aabxbbcccxdddddeeex\"\n",
    "\n",
    "new_string = \" \"\n",
    "list1 = []\n",
    "\n",
    "for s in string:\n",
    "    if s not in list1:\n",
    "        list1.append(s)\n",
    "        print(s,\"Occured\",string.count(s),\"times\")\n",
    "\n",
    "print(list1)      "
   ]
  },
  {
   "cell_type": "markdown",
   "id": "06163e07",
   "metadata": {},
   "source": [
    "### How do you count the occurrence of a given character in a string?"
   ]
  },
  {
   "cell_type": "code",
   "execution_count": null,
   "id": "147cb776",
   "metadata": {},
   "outputs": [],
   "source": []
  },
  {
   "cell_type": "markdown",
   "id": "6aa26928",
   "metadata": {},
   "source": [
    "### Write a program to find last 10 characters of a string?"
   ]
  },
  {
   "cell_type": "code",
   "execution_count": null,
   "id": "48cae12e",
   "metadata": {},
   "outputs": [],
   "source": [
    "string = \" I love India and I living Pune\"\n",
    "\n",
    "str_len = len(string)\n",
    "\n",
    "start_index = str_len - 10;\n",
    "\n",
    "print(string[start_index:])"
   ]
  },
  {
   "cell_type": "code",
   "execution_count": null,
   "id": "94594662",
   "metadata": {},
   "outputs": [],
   "source": [
    "string = \" I love India and I living Pune\"\n",
    "string[-1:-11:-1]"
   ]
  },
  {
   "cell_type": "markdown",
   "id": "b4b34dbd",
   "metadata": {},
   "source": [
    "### WAP to convert a given string to all uppercase if it contains at least 2 uppercase characters in the first 4 characters."
   ]
  },
  {
   "cell_type": "code",
   "execution_count": null,
   "id": "0308770a",
   "metadata": {},
   "outputs": [],
   "source": [
    "string = \"sachin wandre MAngaon\"\n",
    "\n",
    "count = 0\n",
    "\n",
    "for s in string:\n",
    "    if s.isupper() == True:\n",
    "        count += 1\n",
    "        if count >= 2:  \n",
    "            print(string.upper())\n",
    "            break\n",
    "else:\n",
    "    print(string)    "
   ]
  },
  {
   "cell_type": "markdown",
   "id": "3562ec13",
   "metadata": {},
   "source": [
    "### Write a Python program to remove a newline in Python."
   ]
  },
  {
   "cell_type": "code",
   "execution_count": null,
   "id": "6f9e6e91",
   "metadata": {},
   "outputs": [],
   "source": [
    "string = \"\"\"Sachin\n",
    " Wandre \n",
    " Mangaon\"\"\"\n",
    "\n",
    "new_str = \" \"\n",
    "\n",
    "for s in string:\n",
    "    if s == \"\\n\":\n",
    "        continue\n",
    "    else:\n",
    "        new_str = new_str + s\n",
    "print(new_str)"
   ]
  },
  {
   "cell_type": "markdown",
   "id": "8edf7f6a",
   "metadata": {},
   "source": [
    "### Write a Python program to find the first repeated character in a given string"
   ]
  },
  {
   "cell_type": "code",
   "execution_count": null,
   "id": "0dc344e3",
   "metadata": {},
   "outputs": [],
   "source": []
  },
  {
   "cell_type": "markdown",
   "id": "f04d6cf9",
   "metadata": {},
   "source": [
    "### Write a Python program to find the second most repeated word in a given string"
   ]
  },
  {
   "cell_type": "code",
   "execution_count": null,
   "id": "621e8d3c",
   "metadata": {},
   "outputs": [],
   "source": []
  },
  {
   "cell_type": "markdown",
   "id": "2334f9f8",
   "metadata": {},
   "source": [
    "### Python program to Count Even and Odd numbers in a string"
   ]
  },
  {
   "cell_type": "code",
   "execution_count": null,
   "id": "538d40db",
   "metadata": {},
   "outputs": [],
   "source": [
    "string = \"996753433\"\n",
    "even = 0\n",
    "odd = 0\n",
    "for s in string:\n",
    "    if s.isdigit() == True:\n",
    "        if int(s) % 2 == 0:\n",
    "            even += 1\n",
    "        else:\n",
    "            odd += 1\n",
    "            \n",
    "print(\"Total even numbers=\",even)\n",
    "print(\"Total odd numbers=\",odd)"
   ]
  },
  {
   "cell_type": "markdown",
   "id": "cca372c8",
   "metadata": {},
   "source": [
    "### How do you check if a string contains only digits?"
   ]
  },
  {
   "cell_type": "code",
   "execution_count": null,
   "id": "527b5d3a",
   "metadata": {},
   "outputs": [],
   "source": [
    "string = \"996753433\"\n",
    "print(string.isdigit())\n",
    "print(string.isnumeric())\n",
    "print(string.isdecimal())"
   ]
  },
  {
   "cell_type": "markdown",
   "id": "a7e2a93b",
   "metadata": {},
   "source": [
    "### How do you remove a given character/word from String?"
   ]
  },
  {
   "cell_type": "code",
   "execution_count": null,
   "id": "6c8368e5",
   "metadata": {},
   "outputs": [],
   "source": [
    "string = \" I am data scientist\"\n",
    "word = input(\"Enter string to remove\")\n",
    "\n",
    "if word in string:\n",
    "    new_string = string.replace(word,\" \")\n",
    "    print(new_string)\n",
    "    \n",
    "else:\n",
    "    print(\"Entered word is not in string\")"
   ]
  },
  {
   "cell_type": "markdown",
   "id": "ad0ba02a",
   "metadata": {},
   "source": [
    "### Write a Python program to remove the characters which have odd index values of a given string"
   ]
  },
  {
   "cell_type": "code",
   "execution_count": null,
   "id": "a342c8ea",
   "metadata": {},
   "outputs": [],
   "source": [
    "string = \"I am living in pune since 2015\"\n",
    "\n",
    "new_str = \" \"\n",
    "for i in range(len(string)):\n",
    "    if i % 2 == 0:\n",
    "        new_str = new_str + string[i]\n",
    "print(new_str)"
   ]
  },
  {
   "cell_type": "code",
   "execution_count": null,
   "id": "2ed39d3f",
   "metadata": {},
   "outputs": [],
   "source": [
    "def odd_values_string(str):\n",
    "  result = \"\" \n",
    "  for i in range(len(str)):\n",
    "    if i % 2 == 0:\n",
    "      result = result + str[i]\n",
    "  return result\n",
    "\n",
    "print(odd_values_string('abcdefaaaaa'))\n",
    "print(odd_values_string('python'))"
   ]
  },
  {
   "cell_type": "markdown",
   "id": "41df1977",
   "metadata": {},
   "source": [
    "### Write a Python function to reverses a string if its length is a multiple of 5"
   ]
  },
  {
   "cell_type": "code",
   "execution_count": null,
   "id": "0a189d54",
   "metadata": {},
   "outputs": [],
   "source": [
    "string = \"Sachi\"\n",
    "\n",
    "if len(string) % 5 == 0:\n",
    "    print(string[::-1])"
   ]
  },
  {
   "cell_type": "code",
   "execution_count": null,
   "id": "825c35f6",
   "metadata": {},
   "outputs": [],
   "source": [
    "string = \"Sachi\"\n",
    "\n",
    "new_str = \" \"\n",
    "if len(string) % 5 == 0:\n",
    "    for s in range(len(string)-1,-1,-1):\n",
    "        new_str = new_str + string[s]\n",
    "        \n",
    "print(new_str)\n",
    "    "
   ]
  },
  {
   "cell_type": "markdown",
   "id": "8e053dbd",
   "metadata": {},
   "source": [
    "### Write a Python program to reverse words in a string"
   ]
  },
  {
   "cell_type": "code",
   "execution_count": null,
   "id": "d97218a3",
   "metadata": {},
   "outputs": [],
   "source": [
    "string = \"I Love INDIA and I am Data scientist\"\n",
    "\n",
    "reverse = \" \"\n",
    "new_str = \" \"\n",
    "word = \" \"\n",
    "\n",
    "for s in string:\n",
    "    if s != \" \":\n",
    "        word = word + s;\n",
    "    else:       \n",
    "        reverse = word[::-1]\n",
    "        new_str = reverse + new_str\n",
    "        #new_str = new_str + reverse\n",
    "         \n",
    "print(new_str)"
   ]
  },
  {
   "cell_type": "code",
   "execution_count": null,
   "id": "01816b98",
   "metadata": {},
   "outputs": [],
   "source": [
    "string = \"I Love INDIA and I am Data scientist\"\n",
    "\n",
    "list1 = []\n",
    "\n",
    "list1 = string.split()\n",
    "\n",
    "list1.reverse()\n",
    "print(list1)\n",
    "\n",
    "reverse_string = \" \".join(list1)\n",
    "reverse_string"
   ]
  },
  {
   "cell_type": "code",
   "execution_count": null,
   "id": "e7288567",
   "metadata": {},
   "outputs": [],
   "source": [
    "# input string\n",
    "string = \"geeks quiz practice code\"\n",
    "# reversing words in a given string\n",
    "s = string.split()[::-1]\n",
    "l = []\n",
    "for i in s:\n",
    "    # apending reversed words to l\n",
    "    l.append(i)\n",
    "# printing reverse words\n",
    "print(\" \".join(l))"
   ]
  },
  {
   "cell_type": "markdown",
   "id": "e6c5cc98",
   "metadata": {},
   "source": [
    "### Write a Python program to swap cases of a given string"
   ]
  },
  {
   "cell_type": "code",
   "execution_count": null,
   "id": "9dd2126d",
   "metadata": {},
   "outputs": [],
   "source": [
    "string = \"Sachin Wandre\"\n",
    "print(string.swapcase())"
   ]
  },
  {
   "cell_type": "markdown",
   "id": "e7bc4a0d",
   "metadata": {},
   "source": [
    "### Write a Python program to remove spaces from a given string"
   ]
  },
  {
   "cell_type": "code",
   "execution_count": null,
   "id": "c8d1c996",
   "metadata": {},
   "outputs": [],
   "source": [
    "string = \" I Love     India          \"\n",
    "new_str = \" \"\n",
    "for s in string:\n",
    "    if s != \" \":\n",
    "        new_str += s\n",
    "print(new_str)"
   ]
  },
  {
   "cell_type": "markdown",
   "id": "1159d08c",
   "metadata": {},
   "source": [
    "### Write a Python program to remove duplicate characters of a given string"
   ]
  },
  {
   "cell_type": "code",
   "execution_count": null,
   "id": "46bc7c5d",
   "metadata": {},
   "outputs": [],
   "source": [
    "string = \" I am Sachin I am Data Scientist\"\n",
    "\n",
    "new_str = \" \"\n",
    "\n",
    "for s in string:\n",
    "    if s in new_str:\n",
    "        continue\n",
    "    else:\n",
    "        new_str += s\n",
    "print(new_str)"
   ]
  },
  {
   "cell_type": "markdown",
   "id": "721b47af",
   "metadata": {},
   "source": [
    "### Find length of string without using string function"
   ]
  },
  {
   "cell_type": "code",
   "execution_count": null,
   "id": "26bcc139",
   "metadata": {},
   "outputs": [],
   "source": [
    "s = \"I love india\"\n",
    "length = 0\n",
    "for character in s:\n",
    "    length += 1\n",
    "print(\"length of string is\",length)"
   ]
  },
  {
   "cell_type": "markdown",
   "id": "4402913f",
   "metadata": {},
   "source": [
    "### Extract the username from email id"
   ]
  },
  {
   "cell_type": "code",
   "execution_count": null,
   "id": "2c169691",
   "metadata": {},
   "outputs": [],
   "source": [
    "email = input(\"Enter the email id\")\n",
    "\n",
    "index = email.index(\"@\")\n",
    "\n",
    "print(\"Username of the user is\",email[0:index])"
   ]
  },
  {
   "cell_type": "markdown",
   "id": "e3fc6aa5",
   "metadata": {},
   "source": [
    "### Count the frequency of each character in given string"
   ]
  },
  {
   "cell_type": "code",
   "execution_count": null,
   "id": "d40da339",
   "metadata": {},
   "outputs": [],
   "source": [
    "s = \"I love India india\"\n",
    "count = 0\n",
    "char = input(\"Enter the character to find out count\")\n",
    "for i in s:\n",
    "    if i == char:\n",
    "        count += 1\n",
    "print(f\"character {char} is counted\",count,\"times\")"
   ]
  },
  {
   "cell_type": "code",
   "execution_count": null,
   "id": "85aafc26",
   "metadata": {},
   "outputs": [],
   "source": [
    "s = \"I love india india\"\n",
    "temp_list = []\n",
    "\n",
    "for i in s:\n",
    "    if i not in temp_list:\n",
    "        temp_list.append(i)\n",
    "        print(f\"chracter {i} is counted\",s.count(i),\"times\")"
   ]
  },
  {
   "cell_type": "markdown",
   "id": "6a8fb1e6",
   "metadata": {},
   "source": [
    "### Write a program which  remove particular character from string"
   ]
  },
  {
   "cell_type": "code",
   "execution_count": null,
   "id": "ed5cf0ab",
   "metadata": {},
   "outputs": [],
   "source": [
    "s = input(\"Enter the string\")\n",
    "remove_char = input(\"Enter the char\")\n",
    "new_str = \" \"\n",
    "for i in s:\n",
    "    if i != remove_char:\n",
    "        new_str = new_str + i\n",
    "print(\"New string become\",new_str)"
   ]
  },
  {
   "cell_type": "code",
   "execution_count": null,
   "id": "aba6e185",
   "metadata": {},
   "outputs": [],
   "source": [
    "s = input(\"Enter the string\")\n",
    "remove_char = input(\"Enter the word\")\n",
    "new_list = s.split()\n",
    "\n",
    "new_list.remove(remove_char)\n",
    "\n",
    "print(\"After remove word string become\")\n",
    "\" \".join(new_list)"
   ]
  },
  {
   "cell_type": "markdown",
   "id": "2d4253c9",
   "metadata": {},
   "source": [
    "### Given string is palindrome or not"
   ]
  },
  {
   "cell_type": "code",
   "execution_count": null,
   "id": "ecc1b0dc",
   "metadata": {},
   "outputs": [],
   "source": [
    "s = input(\"Enter the string\")\n",
    "if s == s[::-1]:\n",
    "    print(\"Palindrome\")\n",
    "else:\n",
    "    print(\"Not palindrome\")"
   ]
  },
  {
   "cell_type": "code",
   "execution_count": 6,
   "id": "be485928",
   "metadata": {},
   "outputs": [
    {
     "name": "stdout",
     "output_type": "stream",
     "text": [
      "Enter the stringbaba\n",
      "Not Palindrome\n"
     ]
    }
   ],
   "source": [
    "s = input(\"Enter the string\")\n",
    "flag = True\n",
    "for i in range(0,len(s)//2):\n",
    "    if s[i] != s[len(s)-i-1]:\n",
    "        flag = False\n",
    "        break;        \n",
    "\n",
    "if flag:\n",
    "    print(\"palindrom\")\n",
    "else:\n",
    "    print(\"Not Palindrome\")"
   ]
  },
  {
   "cell_type": "markdown",
   "id": "28c6c0af",
   "metadata": {},
   "source": [
    "### Convert the string to list without split"
   ]
  },
  {
   "cell_type": "code",
   "execution_count": 10,
   "id": "7c7923a3",
   "metadata": {},
   "outputs": [
    {
     "name": "stdout",
     "output_type": "stream",
     "text": [
      "Enter the stringsachin wandre mangaon\n",
      "[' sachin', ' wandre', ' mangaon']\n"
     ]
    }
   ],
   "source": [
    "s = input(\"Enter the string\")\n",
    "\n",
    "temp = \" \"\n",
    "list1 = []\n",
    "for i in s:\n",
    "    \n",
    "    if i != \" \":\n",
    "        temp = temp + i\n",
    "    else:\n",
    "        list1.append(temp)\n",
    "        temp = \" \"\n",
    "        \n",
    "list1.append(temp)        \n",
    "print(list1)\n"
   ]
  },
  {
   "cell_type": "markdown",
   "id": "0b8e447a",
   "metadata": {},
   "source": [
    "### Convert string to title without title function\n"
   ]
  },
  {
   "cell_type": "code",
   "execution_count": 15,
   "id": "7577ca74",
   "metadata": {},
   "outputs": [
    {
     "name": "stdout",
     "output_type": "stream",
     "text": [
      "Enter the stringSacihi NNwasskd HHaa\n",
      "Sacihi Nnwasskd Hhaa\n"
     ]
    }
   ],
   "source": [
    "s = input(\"Enter the string\")\n",
    "\n",
    "new_list = []\n",
    "for word in s.split():\n",
    "    new_word = word[0].upper() + word[1:].lower()\n",
    "    new_list.append(new_word)\n",
    "    \n",
    "print(\" \".join(new_list))"
   ]
  },
  {
   "cell_type": "code",
   "execution_count": null,
   "id": "7838d774",
   "metadata": {},
   "outputs": [],
   "source": []
  }
 ],
 "metadata": {
  "kernelspec": {
   "display_name": "Python 3 (ipykernel)",
   "language": "python",
   "name": "python3"
  },
  "language_info": {
   "codemirror_mode": {
    "name": "ipython",
    "version": 3
   },
   "file_extension": ".py",
   "mimetype": "text/x-python",
   "name": "python",
   "nbconvert_exporter": "python",
   "pygments_lexer": "ipython3",
   "version": "3.9.7"
  }
 },
 "nbformat": 4,
 "nbformat_minor": 5
}
